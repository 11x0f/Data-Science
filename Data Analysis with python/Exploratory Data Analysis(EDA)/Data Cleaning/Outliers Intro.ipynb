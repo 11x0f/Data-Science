{
 "cells": [
  {
   "cell_type": "raw",
   "id": "0ddca5c5",
   "metadata": {},
   "source": [
    "    OUTLIERS: An observation in the given dataset that lies far from the rest of observation.\n",
    "    \n",
    "    REASON FOR OUTLIERS:\n",
    "        1. Data entry error.\n",
    "        2. Variables involved in the dataset (business problem and case to case).\n",
    "        \n",
    "    HOW TO TREAT OUTLIERS:\n",
    "        1. Trimming: remove all outliers, remove rows\n",
    "        2. Capping: setting lower and upper bound and reject any value beyond the range, discard\n",
    "        3. \n",
    "        \n",
    "    FINDING OUTLIERS:\n",
    "        1. Z-Score (for normal distribution)\n",
    "        2. Inerquartile range ( for skew distribution)\n",
    "        3. Percentile\n",
    "        "
   ]
  },
  {
   "cell_type": "code",
   "execution_count": null,
   "id": "dff8eb80",
   "metadata": {},
   "outputs": [],
   "source": []
  }
 ],
 "metadata": {
  "kernelspec": {
   "display_name": "Python 3 (ipykernel)",
   "language": "python",
   "name": "python3"
  },
  "language_info": {
   "codemirror_mode": {
    "name": "ipython",
    "version": 3
   },
   "file_extension": ".py",
   "mimetype": "text/x-python",
   "name": "python",
   "nbconvert_exporter": "python",
   "pygments_lexer": "ipython3",
   "version": "3.11.3"
  }
 },
 "nbformat": 4,
 "nbformat_minor": 5
}
