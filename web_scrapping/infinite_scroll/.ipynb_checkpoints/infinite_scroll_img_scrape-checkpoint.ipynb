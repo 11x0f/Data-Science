{
 "cells": [
  {
   "cell_type": "code",
   "execution_count": 16,
   "id": "0a9c0d83-85a0-46d4-a05f-f278dbac66cc",
   "metadata": {},
   "outputs": [],
   "source": [
    "import numpy as np\n",
    "import pandas as pd\n",
    "\n",
    "from bs4 import BeautifulSoup\n",
    "from selenium import webdriver\n",
    "import requests\n",
    "\n",
    "from tqdm import tqdm\n",
    "import time\n",
    "\n",
    "import itertools"
   ]
  },
  {
   "cell_type": "code",
   "execution_count": 4,
   "id": "3ff2788e-0fec-4152-89a2-1a8fa5d1101e",
   "metadata": {},
   "outputs": [],
   "source": [
    "link = \"https://stock-pictures.netlify.app\""
   ]
  },
  {
   "cell_type": "code",
   "execution_count": 6,
   "id": "d66f9742-607c-40d0-b401-3bd676e78418",
   "metadata": {},
   "outputs": [],
   "source": [
    "browser = webdriver.Edge()"
   ]
  },
  {
   "cell_type": "code",
   "execution_count": 10,
   "id": "8b32e3c5-f76a-44b6-96c4-91f211cfc169",
   "metadata": {},
   "outputs": [],
   "source": [
    "browser.get(link)"
   ]
  },
  {
   "cell_type": "code",
   "execution_count": 12,
   "id": "a956e692-dfa0-4cb3-bfc1-5945ae3df501",
   "metadata": {},
   "outputs": [],
   "source": [
    "soup = BeautifulSoup(browser.page_source, \"html.parser\")"
   ]
  },
  {
   "cell_type": "code",
   "execution_count": 14,
   "id": "280a3cde-c13b-4203-81a3-aa380d560e73",
   "metadata": {},
   "outputs": [
    {
     "data": {
      "text/plain": [
       "'Stock ImagesYou need to enable JavaScript to run this app.Stock Images with TagsTags - Clouds, Sky, Atmosphere, Blue Sky196 Likes55 Comments Tags - Bird, Ornithology, Hummingbird76 Likes20 Comments Tags - Sea, Rainbow, Rainfall, Subtropical282 Likes106 Comments Tags - Cherry Blossoms, Road, Japan, Sakura42 Likes11 Comments Tags - Cape Marguerite, Flower, Plant39 Likes15 Comments Tags - Relaxing Rest Under The Tree522 Likes108 Comments Tags - Cottontail Rabbit, Wild Rabbit, Grass51 Likes10 Comments Tags - Crocus, Flowers, Spring, Plant135 Likes44 Comments Tags - Coffee, Café, Vacation, Drink, Table26 Likes5 Comments Tags - Waterfall, Fall, Epic, Nature, Light96 Likes21 Comments Tags - Field, Morning, Sunrise, Dawn, Nature807 Likes131 Comments Tags - Bird, Robin, Birdwatching, Animal69 Likes19 Comments Tags - Seedlings, Soil, Spring Flowers, Bloom42 Likes9 Comments Tags - Road, Highway, Countryside, Hills53 Likes14 Comments Tags - Cityscape, Monochrome, Bridge, City45 Likes13 Comments Tags - Sakura, Cherry Blossoms, Spring, Water70 Likes12 Comments Tags - Background, Easter, Eggs, Template, Art5 Likes2 Comments Tags - Bird, Indian Chat, Ornithology, Species171 Likes53 Comments Tags - Town, Night, Winter, Village, Season109 Likes15 Comments Tags - Flower, Viola, Pansy, Blossom, Bloom55 Likes36 Comments Tags - Port, Lake, Architecture, Vacations276 Likes49 Comments Tags - Sunflowers, Flowers, Plant54 Likes21 Comments Tags - Coffee, Spring, Flowers, Morning40 Likes10 Comments Tags - Roys Peak, Wanaka, Lake, Mountains69 Likes19 Comments Tags - Thank you, everyone. Thank you for many downloads and likes.197 Likes0 Comments Tags - Nature, Beach, Outdoors, Exploration272 Likes150 Comments Tags - The Danish West Coast of Jutland. Shot during sunset.48 Likes11 Comments Tags - Gentoo Penguin, Penguin, Bird, Animal93 Likes22 Comments Tags - Lantern, Sea, Heaven, Beach, Water, Tree243 Likes31 Comments Tags - Easter, Spring, Easter Bunny17 Likes10 Comments Tags - green trees on brown rock formation on lake during daytime3098 Likes495 Comments Tags - Tourist Attraction, Eiffel Tower, Travel83 Likes21 Comments Tags - Menhir, Stones, Clouds, Standing Stones64 Likes49 Comments Tags - Road, Trees, Winter, Frost, Snow, Path133 Likes24 Comments Tags - Bird, Woodpecker28 Likes20 Comments Tags - Tape, Cassette, Music, Retro, Classic134 Likes20 Comments Tags - Wind Mills, Energy, Clouds, Power144 Likes101 Comments Tags - Travel, Tourism, Square, Tartini, Piran70 Likes19 Comments Tags - Easter Eggs, Colored Eggs, Nest, Eggs29 Likes0 Comments Tags - Winter, Season, Nature, Outdoors, Travel111 Likes24 Comments Tags - Glacier, Dying Glaciers, Melting Glacier36 Likes27 Comments Tags - Forest, Jungle, Tropical, Green, Nature135 Likes22 Comments Tags - Tulip, Flower, Bloom, Blossom, Petals92 Likes35 Comments Tags - Flowers, Pink Flowers, Petals62 Likes0 Comments Tags - Passiflora, Passion Flower, Flower97 Likes66 Comments Tags - Prayer, Faith, Religion, Hope, Blessing175 Likes57 Comments Tags - Galaxy, Space, Universe, Star, Cosmos45 Likes40 Comments Tags - Dragonfly, Nature, Insect, Macro19 Likes3 Comments Loading...Scrapped and Made with ❤ '"
      ]
     },
     "execution_count": 14,
     "metadata": {},
     "output_type": "execute_result"
    }
   ],
   "source": [
    "soup.text"
   ]
  },
  {
   "cell_type": "markdown",
   "id": "ef429d82-a0fa-4891-b31c-971dac7970fe",
   "metadata": {},
   "source": [
    "## automate auto scroling to end"
   ]
  },
  {
   "cell_type": "code",
   "execution_count": 33,
   "id": "6bb8e5bf-0b72-4ed6-8347-141082787d33",
   "metadata": {},
   "outputs": [
    {
     "name": "stderr",
     "output_type": "stream",
     "text": [
      "1170it [04:31,  4.30it/s]\n"
     ]
    },
    {
     "ename": "KeyboardInterrupt",
     "evalue": "",
     "output_type": "error",
     "traceback": [
      "\u001b[1;31m---------------------------------------------------------------------------\u001b[0m",
      "\u001b[1;31mKeyboardInterrupt\u001b[0m                         Traceback (most recent call last)",
      "Cell \u001b[1;32mIn[33], line 4\u001b[0m\n\u001b[0;32m      2\u001b[0m \u001b[38;5;28;01mfor\u001b[39;00m i \u001b[38;5;129;01min\u001b[39;00m tqdm(itertools\u001b[38;5;241m.\u001b[39mcount(\u001b[38;5;241m1\u001b[39m, \u001b[38;5;241m10000\u001b[39m)):\n\u001b[0;32m      3\u001b[0m     browser\u001b[38;5;241m.\u001b[39mexecute_script(\u001b[38;5;124m\"\u001b[39m\u001b[38;5;124mwindow.scrollTo(0,\u001b[39m\u001b[38;5;124m\"\u001b[39m \u001b[38;5;241m+\u001b[39m \u001b[38;5;28mstr\u001b[39m(i)\u001b[38;5;241m+\u001b[39m \u001b[38;5;124m\"\u001b[39m\u001b[38;5;124m)\u001b[39m\u001b[38;5;124m\"\u001b[39m)\n\u001b[1;32m----> 4\u001b[0m     time\u001b[38;5;241m.\u001b[39msleep(\u001b[38;5;241m0.2\u001b[39m)\n",
      "\u001b[1;31mKeyboardInterrupt\u001b[0m: "
     ]
    }
   ],
   "source": [
    "#itertools enable to iterate till infinity\n",
    "for i in tqdm(itertools.count(1, 10000)):\n",
    "    browser.execute_script(\"window.scrollTo(0,\" + str(i)+ \")\")\n",
    "    time.sleep(0.2)"
   ]
  },
  {
   "cell_type": "markdown",
   "id": "5c5b3158-f4ae-4554-b8fd-f5dc7016cf42",
   "metadata": {},
   "source": [
    "## finding the bottom"
   ]
  },
  {
   "cell_type": "code",
   "execution_count": 35,
   "id": "a42c8075-b3bf-4cdf-9288-83be6b2287e4",
   "metadata": {},
   "outputs": [
    {
     "name": "stderr",
     "output_type": "stream",
     "text": [
      "100%|██████████████████████████████████████████████████████████████████████████████| 5000/5000 [09:38<00:00,  8.64it/s]\n"
     ]
    }
   ],
   "source": [
    "for i in tqdm(range(0,5000000,1000)):\n",
    "    \n",
    "    browser.execute_script(\"window.scrollTo(0,\"  + str(i) + \")\")\n",
    "    time.sleep(.1)"
   ]
  },
  {
   "cell_type": "markdown",
   "id": "a67c8193-8ced-4e07-87b2-c1d18e06be16",
   "metadata": {},
   "source": [
    "## scraping the page"
   ]
  },
  {
   "cell_type": "code",
   "execution_count": 37,
   "id": "edaf5c90-a8d6-4492-b670-4eef02057b69",
   "metadata": {},
   "outputs": [],
   "source": [
    "soup = BeautifulSoup(browser.page_source, 'html.parser')"
   ]
  },
  {
   "cell_type": "code",
   "execution_count": 40,
   "id": "80ce5868-df4a-4603-be6c-8da93344c424",
   "metadata": {},
   "outputs": [
    {
     "data": {
      "text/plain": [
       "9104"
      ]
     },
     "execution_count": 40,
     "metadata": {},
     "output_type": "execute_result"
    }
   ],
   "source": [
    "len(soup.find_all('div', class_ = 'container'))"
   ]
  },
  {
   "cell_type": "code",
   "execution_count": 42,
   "id": "53a98574-692c-4266-86b4-67fb5b00bfae",
   "metadata": {},
   "outputs": [
    {
     "name": "stderr",
     "output_type": "stream",
     "text": [
      "100%|████████████████████████████████████████████████████████████████████████████| 9104/9104 [00:00<00:00, 9653.59it/s]\n"
     ]
    }
   ],
   "source": [
    "data = []\n",
    "\n",
    "for sp in tqdm(soup.find_all('div', class_ = 'container')):\n",
    "\n",
    "    img_link = sp.find('img').get('src')\n",
    "    tags     = sp.find('span', class_ = 'tag-color').text[7:].strip()\n",
    "    likes    = int(sp.find('div', class_ = 'likes-comments').find_all('span')[0].text.strip()[:-6])\n",
    "    comments = int(sp.find('div', class_ = 'likes-comments').find_all('span')[1].text.strip()[:-9])\n",
    "    \n",
    "    data.append([img_link, tags, likes, comments])"
   ]
  },
  {
   "cell_type": "markdown",
   "id": "43851e07-8494-43d9-b37d-549a2abece1f",
   "metadata": {},
   "source": [
    "## saving data in dataframe"
   ]
  },
  {
   "cell_type": "code",
   "execution_count": 45,
   "id": "e6e18c46-9ce0-4ef9-a1d8-48af5fd9bdc7",
   "metadata": {},
   "outputs": [
    {
     "data": {
      "text/html": [
       "<div>\n",
       "<style scoped>\n",
       "    .dataframe tbody tr th:only-of-type {\n",
       "        vertical-align: middle;\n",
       "    }\n",
       "\n",
       "    .dataframe tbody tr th {\n",
       "        vertical-align: top;\n",
       "    }\n",
       "\n",
       "    .dataframe thead th {\n",
       "        text-align: right;\n",
       "    }\n",
       "</style>\n",
       "<table border=\"1\" class=\"dataframe\">\n",
       "  <thead>\n",
       "    <tr style=\"text-align: right;\">\n",
       "      <th></th>\n",
       "      <th>img_link</th>\n",
       "      <th>tags</th>\n",
       "      <th>likes</th>\n",
       "      <th>comments</th>\n",
       "    </tr>\n",
       "  </thead>\n",
       "  <tbody>\n",
       "    <tr>\n",
       "      <th>0</th>\n",
       "      <td>https://cdn.pixabay.com/photo/2022/03/06/05/30...</td>\n",
       "      <td>Clouds, Sky, Atmosphere, Blue Sky</td>\n",
       "      <td>196</td>\n",
       "      <td>55</td>\n",
       "    </tr>\n",
       "    <tr>\n",
       "      <th>1</th>\n",
       "      <td>https://cdn.pixabay.com/photo/2022/04/07/11/45...</td>\n",
       "      <td>Bird, Ornithology, Hummingbird</td>\n",
       "      <td>76</td>\n",
       "      <td>20</td>\n",
       "    </tr>\n",
       "    <tr>\n",
       "      <th>2</th>\n",
       "      <td>https://cdn.pixabay.com/photo/2022/02/28/15/28...</td>\n",
       "      <td>Sea, Rainbow, Rainfall, Subtropical</td>\n",
       "      <td>282</td>\n",
       "      <td>106</td>\n",
       "    </tr>\n",
       "    <tr>\n",
       "      <th>3</th>\n",
       "      <td>https://cdn.pixabay.com/photo/2022/04/04/02/52...</td>\n",
       "      <td>Cherry Blossoms, Road, Japan, Sakura</td>\n",
       "      <td>42</td>\n",
       "      <td>11</td>\n",
       "    </tr>\n",
       "    <tr>\n",
       "      <th>4</th>\n",
       "      <td>https://cdn.pixabay.com/photo/2022/04/09/18/06...</td>\n",
       "      <td>Cape Marguerite, Flower, Plant</td>\n",
       "      <td>39</td>\n",
       "      <td>15</td>\n",
       "    </tr>\n",
       "  </tbody>\n",
       "</table>\n",
       "</div>"
      ],
      "text/plain": [
       "                                            img_link  \\\n",
       "0  https://cdn.pixabay.com/photo/2022/03/06/05/30...   \n",
       "1  https://cdn.pixabay.com/photo/2022/04/07/11/45...   \n",
       "2  https://cdn.pixabay.com/photo/2022/02/28/15/28...   \n",
       "3  https://cdn.pixabay.com/photo/2022/04/04/02/52...   \n",
       "4  https://cdn.pixabay.com/photo/2022/04/09/18/06...   \n",
       "\n",
       "                                   tags  likes  comments  \n",
       "0     Clouds, Sky, Atmosphere, Blue Sky    196        55  \n",
       "1        Bird, Ornithology, Hummingbird     76        20  \n",
       "2   Sea, Rainbow, Rainfall, Subtropical    282       106  \n",
       "3  Cherry Blossoms, Road, Japan, Sakura     42        11  \n",
       "4        Cape Marguerite, Flower, Plant     39        15  "
      ]
     },
     "execution_count": 45,
     "metadata": {},
     "output_type": "execute_result"
    }
   ],
   "source": [
    "df = pd.DataFrame(data, columns = ['img_link', 'tags', 'likes', 'comments'])\n",
    "\n",
    "df.head()"
   ]
  },
  {
   "cell_type": "markdown",
   "id": "2b4db858-3641-4d1f-a47f-bd14fe866e41",
   "metadata": {},
   "source": [
    "## checking null values"
   ]
  },
  {
   "cell_type": "code",
   "execution_count": 48,
   "id": "1f4a218e-24d8-47c4-a2e2-2a8c7b2dcb7f",
   "metadata": {},
   "outputs": [
    {
     "data": {
      "text/plain": [
       "img_link    0\n",
       "tags        0\n",
       "likes       0\n",
       "comments    0\n",
       "dtype: int64"
      ]
     },
     "execution_count": 48,
     "metadata": {},
     "output_type": "execute_result"
    }
   ],
   "source": [
    "df.isnull().sum()"
   ]
  },
  {
   "cell_type": "markdown",
   "id": "f478e385-a143-4c82-a4f8-24ef5e573e39",
   "metadata": {},
   "source": [
    "## checking for duplicate links"
   ]
  },
  {
   "cell_type": "code",
   "execution_count": 51,
   "id": "9c1cc2e2-d1a6-42f8-9df7-f8bc1dc43f4a",
   "metadata": {},
   "outputs": [
    {
     "data": {
      "text/plain": [
       "count                                                  9104\n",
       "unique                                                 9088\n",
       "top       https://cdn.pixabay.com/photo/2022/03/06/05/30...\n",
       "freq                                                      2\n",
       "Name: img_link, dtype: object"
      ]
     },
     "execution_count": 51,
     "metadata": {},
     "output_type": "execute_result"
    }
   ],
   "source": [
    "df['img_link'].describe()"
   ]
  },
  {
   "cell_type": "markdown",
   "id": "4b30d926-3584-4a81-a3eb-b5048ff180c3",
   "metadata": {},
   "source": [
    "## removing duplicates"
   ]
  },
  {
   "cell_type": "code",
   "execution_count": 54,
   "id": "8b8eda20-df61-48a1-ac8d-9514c1677f08",
   "metadata": {},
   "outputs": [],
   "source": [
    "df = df.drop_duplicates()"
   ]
  },
  {
   "cell_type": "code",
   "execution_count": 56,
   "id": "311d8075-66ad-464c-a11d-62fe2fa8580b",
   "metadata": {},
   "outputs": [],
   "source": [
    "df.to_csv('images.csv', index = False)"
   ]
  },
  {
   "cell_type": "code",
   "execution_count": 12,
   "id": "ff1c9d15-7dd2-4266-ad3f-3d27059be320",
   "metadata": {},
   "outputs": [],
   "source": [
    "df= pd.read_csv(\"images.csv\")"
   ]
  },
  {
   "cell_type": "markdown",
   "id": "ee3d90d6-a614-47e7-9e60-f19b7f600b1d",
   "metadata": {},
   "source": [
    "## dynamic naming"
   ]
  },
  {
   "cell_type": "code",
   "execution_count": 2,
   "id": "d4eb04a9-b1c4-4b04-846e-32df4847a9c5",
   "metadata": {},
   "outputs": [
    {
     "name": "stdout",
     "output_type": "stream",
     "text": [
      "A00001\n",
      "A00002\n",
      "A00003\n",
      "A00004\n",
      "A00005\n",
      "A00006\n",
      "A00007\n",
      "A00008\n",
      "A00009\n",
      "A00010\n"
     ]
    }
   ],
   "source": [
    "ref = 100000\n",
    "for i in range(1,11):  \n",
    "    print('A' + str(i + ref)[1:])"
   ]
  },
  {
   "cell_type": "code",
   "execution_count": null,
   "id": "84bd695b-446f-47d7-a8dc-75c1b9189ba7",
   "metadata": {},
   "outputs": [],
   "source": []
  },
  {
   "cell_type": "markdown",
   "id": "25b4d195-c1f3-4f3c-aea2-2c24c3637877",
   "metadata": {},
   "source": [
    "## downloading images"
   ]
  },
  {
   "cell_type": "code",
   "execution_count": 6,
   "id": "ec6d8ce9-dbba-42d4-b9e5-4e92ce22734c",
   "metadata": {},
   "outputs": [],
   "source": [
    "def download(link, img_path ):\n",
    "\n",
    "    res = requests.get(link)         # Sending the Request\n",
    "    fd = open(img_path,'wb')         # Getting Image in WB Format\n",
    "    fd.write(res.content)            # Saving the Image\n",
    "    fd.close()"
   ]
  },
  {
   "cell_type": "code",
   "execution_count": 18,
   "id": "ced44075-8819-4445-8c73-dadb1f656a15",
   "metadata": {},
   "outputs": [
    {
     "name": "stderr",
     "output_type": "stream",
     "text": [
      "100%|██████████████████████████████████████████████████████████████████████████████| 9101/9101 [38:14<00:00,  3.97it/s]\n"
     ]
    }
   ],
   "source": [
    "paths   = []\n",
    "img_ids = []\n",
    "\n",
    "ref = 100000\n",
    "i   = 1\n",
    "\n",
    "for link in tqdm(df['img_link']):\n",
    "    \n",
    "    img_id = 'A' + str(i + ref)[1:]          # Creating Image ID\n",
    "    i += 1\n",
    "    \n",
    "    img_path = 'Imgs/' + img_id + '.jpg'    # Creating Image Path\n",
    "    \n",
    "    download(link, img_path)                # Downloading the Image\n",
    "    \n",
    "    paths.append(img_path)\n",
    "    img_ids.append(img_id)"
   ]
  },
  {
   "cell_type": "code",
   "execution_count": 20,
   "id": "642eda8a-8c2e-4c99-a729-d9c138a6fb7c",
   "metadata": {},
   "outputs": [
    {
     "data": {
      "text/html": [
       "<div>\n",
       "<style scoped>\n",
       "    .dataframe tbody tr th:only-of-type {\n",
       "        vertical-align: middle;\n",
       "    }\n",
       "\n",
       "    .dataframe tbody tr th {\n",
       "        vertical-align: top;\n",
       "    }\n",
       "\n",
       "    .dataframe thead th {\n",
       "        text-align: right;\n",
       "    }\n",
       "</style>\n",
       "<table border=\"1\" class=\"dataframe\">\n",
       "  <thead>\n",
       "    <tr style=\"text-align: right;\">\n",
       "      <th></th>\n",
       "      <th>img_link</th>\n",
       "      <th>tags</th>\n",
       "      <th>likes</th>\n",
       "      <th>comments</th>\n",
       "      <th>img_id</th>\n",
       "      <th>img_path</th>\n",
       "    </tr>\n",
       "  </thead>\n",
       "  <tbody>\n",
       "    <tr>\n",
       "      <th>0</th>\n",
       "      <td>https://cdn.pixabay.com/photo/2022/03/06/05/30...</td>\n",
       "      <td>Clouds, Sky, Atmosphere, Blue Sky</td>\n",
       "      <td>196</td>\n",
       "      <td>55</td>\n",
       "      <td>A00001</td>\n",
       "      <td>Imgs/A00001.jpg</td>\n",
       "    </tr>\n",
       "    <tr>\n",
       "      <th>1</th>\n",
       "      <td>https://cdn.pixabay.com/photo/2022/04/07/11/45...</td>\n",
       "      <td>Bird, Ornithology, Hummingbird</td>\n",
       "      <td>76</td>\n",
       "      <td>20</td>\n",
       "      <td>A00002</td>\n",
       "      <td>Imgs/A00002.jpg</td>\n",
       "    </tr>\n",
       "    <tr>\n",
       "      <th>2</th>\n",
       "      <td>https://cdn.pixabay.com/photo/2022/02/28/15/28...</td>\n",
       "      <td>Sea, Rainbow, Rainfall, Subtropical</td>\n",
       "      <td>282</td>\n",
       "      <td>106</td>\n",
       "      <td>A00003</td>\n",
       "      <td>Imgs/A00003.jpg</td>\n",
       "    </tr>\n",
       "    <tr>\n",
       "      <th>3</th>\n",
       "      <td>https://cdn.pixabay.com/photo/2022/04/04/02/52...</td>\n",
       "      <td>Cherry Blossoms, Road, Japan, Sakura</td>\n",
       "      <td>42</td>\n",
       "      <td>11</td>\n",
       "      <td>A00004</td>\n",
       "      <td>Imgs/A00004.jpg</td>\n",
       "    </tr>\n",
       "    <tr>\n",
       "      <th>4</th>\n",
       "      <td>https://cdn.pixabay.com/photo/2022/04/09/18/06...</td>\n",
       "      <td>Cape Marguerite, Flower, Plant</td>\n",
       "      <td>39</td>\n",
       "      <td>15</td>\n",
       "      <td>A00005</td>\n",
       "      <td>Imgs/A00005.jpg</td>\n",
       "    </tr>\n",
       "  </tbody>\n",
       "</table>\n",
       "</div>"
      ],
      "text/plain": [
       "                                            img_link  \\\n",
       "0  https://cdn.pixabay.com/photo/2022/03/06/05/30...   \n",
       "1  https://cdn.pixabay.com/photo/2022/04/07/11/45...   \n",
       "2  https://cdn.pixabay.com/photo/2022/02/28/15/28...   \n",
       "3  https://cdn.pixabay.com/photo/2022/04/04/02/52...   \n",
       "4  https://cdn.pixabay.com/photo/2022/04/09/18/06...   \n",
       "\n",
       "                                   tags  likes  comments  img_id  \\\n",
       "0     Clouds, Sky, Atmosphere, Blue Sky    196        55  A00001   \n",
       "1        Bird, Ornithology, Hummingbird     76        20  A00002   \n",
       "2   Sea, Rainbow, Rainfall, Subtropical    282       106  A00003   \n",
       "3  Cherry Blossoms, Road, Japan, Sakura     42        11  A00004   \n",
       "4        Cape Marguerite, Flower, Plant     39        15  A00005   \n",
       "\n",
       "          img_path  \n",
       "0  Imgs/A00001.jpg  \n",
       "1  Imgs/A00002.jpg  \n",
       "2  Imgs/A00003.jpg  \n",
       "3  Imgs/A00004.jpg  \n",
       "4  Imgs/A00005.jpg  "
      ]
     },
     "execution_count": 20,
     "metadata": {},
     "output_type": "execute_result"
    }
   ],
   "source": [
    "df['img_id']   = img_ids\n",
    "df['img_path'] = paths"
   ]
  },
  {
   "cell_type": "code",
   "execution_count": 22,
   "id": "81825102-53ae-4b01-a677-f4c3ff71081e",
   "metadata": {},
   "outputs": [
    {
     "data": {
      "text/html": [
       "<div>\n",
       "<style scoped>\n",
       "    .dataframe tbody tr th:only-of-type {\n",
       "        vertical-align: middle;\n",
       "    }\n",
       "\n",
       "    .dataframe tbody tr th {\n",
       "        vertical-align: top;\n",
       "    }\n",
       "\n",
       "    .dataframe thead th {\n",
       "        text-align: right;\n",
       "    }\n",
       "</style>\n",
       "<table border=\"1\" class=\"dataframe\">\n",
       "  <thead>\n",
       "    <tr style=\"text-align: right;\">\n",
       "      <th></th>\n",
       "      <th>img_link</th>\n",
       "      <th>tags</th>\n",
       "      <th>likes</th>\n",
       "      <th>comments</th>\n",
       "      <th>img_id</th>\n",
       "      <th>img_path</th>\n",
       "    </tr>\n",
       "  </thead>\n",
       "  <tbody>\n",
       "    <tr>\n",
       "      <th>0</th>\n",
       "      <td>https://cdn.pixabay.com/photo/2022/03/06/05/30...</td>\n",
       "      <td>Clouds, Sky, Atmosphere, Blue Sky</td>\n",
       "      <td>196</td>\n",
       "      <td>55</td>\n",
       "      <td>A00001</td>\n",
       "      <td>Imgs/A00001.jpg</td>\n",
       "    </tr>\n",
       "    <tr>\n",
       "      <th>1</th>\n",
       "      <td>https://cdn.pixabay.com/photo/2022/04/07/11/45...</td>\n",
       "      <td>Bird, Ornithology, Hummingbird</td>\n",
       "      <td>76</td>\n",
       "      <td>20</td>\n",
       "      <td>A00002</td>\n",
       "      <td>Imgs/A00002.jpg</td>\n",
       "    </tr>\n",
       "    <tr>\n",
       "      <th>2</th>\n",
       "      <td>https://cdn.pixabay.com/photo/2022/02/28/15/28...</td>\n",
       "      <td>Sea, Rainbow, Rainfall, Subtropical</td>\n",
       "      <td>282</td>\n",
       "      <td>106</td>\n",
       "      <td>A00003</td>\n",
       "      <td>Imgs/A00003.jpg</td>\n",
       "    </tr>\n",
       "    <tr>\n",
       "      <th>3</th>\n",
       "      <td>https://cdn.pixabay.com/photo/2022/04/04/02/52...</td>\n",
       "      <td>Cherry Blossoms, Road, Japan, Sakura</td>\n",
       "      <td>42</td>\n",
       "      <td>11</td>\n",
       "      <td>A00004</td>\n",
       "      <td>Imgs/A00004.jpg</td>\n",
       "    </tr>\n",
       "    <tr>\n",
       "      <th>4</th>\n",
       "      <td>https://cdn.pixabay.com/photo/2022/04/09/18/06...</td>\n",
       "      <td>Cape Marguerite, Flower, Plant</td>\n",
       "      <td>39</td>\n",
       "      <td>15</td>\n",
       "      <td>A00005</td>\n",
       "      <td>Imgs/A00005.jpg</td>\n",
       "    </tr>\n",
       "    <tr>\n",
       "      <th>...</th>\n",
       "      <td>...</td>\n",
       "      <td>...</td>\n",
       "      <td>...</td>\n",
       "      <td>...</td>\n",
       "      <td>...</td>\n",
       "      <td>...</td>\n",
       "    </tr>\n",
       "    <tr>\n",
       "      <th>9096</th>\n",
       "      <td>https://cdn.pixabay.com/photo/2018/01/08/18/51...</td>\n",
       "      <td>Pear, Fruit, Food, Background, Healthy</td>\n",
       "      <td>75</td>\n",
       "      <td>11</td>\n",
       "      <td>A09097</td>\n",
       "      <td>Imgs/A09097.jpg</td>\n",
       "    </tr>\n",
       "    <tr>\n",
       "      <th>9097</th>\n",
       "      <td>https://cdn.pixabay.com/photo/2021/09/22/01/42...</td>\n",
       "      <td>Ants, Insects, Plants, Flowers, Animal</td>\n",
       "      <td>13</td>\n",
       "      <td>8</td>\n",
       "      <td>A09098</td>\n",
       "      <td>Imgs/A09098.jpg</td>\n",
       "    </tr>\n",
       "    <tr>\n",
       "      <th>9098</th>\n",
       "      <td>https://cdn.pixabay.com/photo/2022/01/09/15/58...</td>\n",
       "      <td>Flower, Flora, Garden, Nature</td>\n",
       "      <td>0</td>\n",
       "      <td>0</td>\n",
       "      <td>A09099</td>\n",
       "      <td>Imgs/A09099.jpg</td>\n",
       "    </tr>\n",
       "    <tr>\n",
       "      <th>9099</th>\n",
       "      <td>https://cdn.pixabay.com/photo/2021/08/10/11/59...</td>\n",
       "      <td>Kara Dag Mountain, Resort Village, Town</td>\n",
       "      <td>6</td>\n",
       "      <td>2</td>\n",
       "      <td>A09100</td>\n",
       "      <td>Imgs/A09100.jpg</td>\n",
       "    </tr>\n",
       "    <tr>\n",
       "      <th>9100</th>\n",
       "      <td>https://cdn.pixabay.com/photo/2021/10/03/01/01...</td>\n",
       "      <td>Island, Lake, Fog, Forest, Nature</td>\n",
       "      <td>22</td>\n",
       "      <td>17</td>\n",
       "      <td>A09101</td>\n",
       "      <td>Imgs/A09101.jpg</td>\n",
       "    </tr>\n",
       "  </tbody>\n",
       "</table>\n",
       "<p>9101 rows × 6 columns</p>\n",
       "</div>"
      ],
      "text/plain": [
       "                                               img_link  \\\n",
       "0     https://cdn.pixabay.com/photo/2022/03/06/05/30...   \n",
       "1     https://cdn.pixabay.com/photo/2022/04/07/11/45...   \n",
       "2     https://cdn.pixabay.com/photo/2022/02/28/15/28...   \n",
       "3     https://cdn.pixabay.com/photo/2022/04/04/02/52...   \n",
       "4     https://cdn.pixabay.com/photo/2022/04/09/18/06...   \n",
       "...                                                 ...   \n",
       "9096  https://cdn.pixabay.com/photo/2018/01/08/18/51...   \n",
       "9097  https://cdn.pixabay.com/photo/2021/09/22/01/42...   \n",
       "9098  https://cdn.pixabay.com/photo/2022/01/09/15/58...   \n",
       "9099  https://cdn.pixabay.com/photo/2021/08/10/11/59...   \n",
       "9100  https://cdn.pixabay.com/photo/2021/10/03/01/01...   \n",
       "\n",
       "                                         tags  likes  comments  img_id  \\\n",
       "0           Clouds, Sky, Atmosphere, Blue Sky    196        55  A00001   \n",
       "1              Bird, Ornithology, Hummingbird     76        20  A00002   \n",
       "2         Sea, Rainbow, Rainfall, Subtropical    282       106  A00003   \n",
       "3        Cherry Blossoms, Road, Japan, Sakura     42        11  A00004   \n",
       "4              Cape Marguerite, Flower, Plant     39        15  A00005   \n",
       "...                                       ...    ...       ...     ...   \n",
       "9096   Pear, Fruit, Food, Background, Healthy     75        11  A09097   \n",
       "9097   Ants, Insects, Plants, Flowers, Animal     13         8  A09098   \n",
       "9098            Flower, Flora, Garden, Nature      0         0  A09099   \n",
       "9099  Kara Dag Mountain, Resort Village, Town      6         2  A09100   \n",
       "9100        Island, Lake, Fog, Forest, Nature     22        17  A09101   \n",
       "\n",
       "             img_path  \n",
       "0     Imgs/A00001.jpg  \n",
       "1     Imgs/A00002.jpg  \n",
       "2     Imgs/A00003.jpg  \n",
       "3     Imgs/A00004.jpg  \n",
       "4     Imgs/A00005.jpg  \n",
       "...               ...  \n",
       "9096  Imgs/A09097.jpg  \n",
       "9097  Imgs/A09098.jpg  \n",
       "9098  Imgs/A09099.jpg  \n",
       "9099  Imgs/A09100.jpg  \n",
       "9100  Imgs/A09101.jpg  \n",
       "\n",
       "[9101 rows x 6 columns]"
      ]
     },
     "execution_count": 22,
     "metadata": {},
     "output_type": "execute_result"
    }
   ],
   "source": [
    "df"
   ]
  },
  {
   "cell_type": "code",
   "execution_count": 26,
   "id": "a3bed290-454e-4f6e-84af-100306833be4",
   "metadata": {},
   "outputs": [],
   "source": [
    "df.to_csv('imgs.csv', index = False)"
   ]
  },
  {
   "cell_type": "code",
   "execution_count": null,
   "id": "52a68351-487e-4670-b8fd-7e9d66f75eef",
   "metadata": {},
   "outputs": [],
   "source": []
  }
 ],
 "metadata": {
  "kernelspec": {
   "display_name": "Python [conda env:base] *",
   "language": "python",
   "name": "conda-base-py"
  },
  "language_info": {
   "codemirror_mode": {
    "name": "ipython",
    "version": 3
   },
   "file_extension": ".py",
   "mimetype": "text/x-python",
   "name": "python",
   "nbconvert_exporter": "python",
   "pygments_lexer": "ipython3",
   "version": "3.12.7"
  }
 },
 "nbformat": 4,
 "nbformat_minor": 5
}
