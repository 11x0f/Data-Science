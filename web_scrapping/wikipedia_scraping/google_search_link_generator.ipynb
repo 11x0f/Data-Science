{
 "cells": [
  {
   "cell_type": "code",
   "execution_count": 1,
   "id": "70e81da5-60b1-43e7-a242-21813ccdd9a5",
   "metadata": {},
   "outputs": [],
   "source": [
    "import requests\n",
    "from bs4 import BeautifulSoup"
   ]
  },
  {
   "cell_type": "markdown",
   "id": "ec1d0ad2-0ae9-4bf6-bc13-cd64ebbe1163",
   "metadata": {},
   "source": [
    "## link generation"
   ]
  },
  {
   "cell_type": "code",
   "execution_count": 5,
   "id": "ab4c511f-abb5-448c-aefa-bff836239da2",
   "metadata": {},
   "outputs": [],
   "source": [
    "prefix = \"https://www.google.com/search?q=\""
   ]
  },
  {
   "cell_type": "code",
   "execution_count": null,
   "id": "3126c90d-09be-4d1a-ab35-697713d1db71",
   "metadata": {},
   "outputs": [],
   "source": []
  },
  {
   "cell_type": "code",
   "execution_count": 19,
   "id": "15d1e00e-c195-453a-ab3d-229b4188f2e8",
   "metadata": {},
   "outputs": [
    {
     "name": "stdin",
     "output_type": "stream",
     "text": [
      "Enter the topic:  martin luther king\n"
     ]
    },
    {
     "data": {
      "text/plain": [
       "'https://www.google.com/search?q=martin+luther+king+wikipedia'"
      ]
     },
     "execution_count": 19,
     "metadata": {},
     "output_type": "execute_result"
    }
   ],
   "source": [
    "title = str(input(\"Enter the topic: \")).replace(\" \", \"+\")\n",
    "link = prefix+title+\"+wikipedia\"\n",
    "link"
   ]
  },
  {
   "cell_type": "code",
   "execution_count": null,
   "id": "04250840-bd07-465d-8eab-6bbdc574e83d",
   "metadata": {},
   "outputs": [],
   "source": []
  }
 ],
 "metadata": {
  "kernelspec": {
   "display_name": "Python [conda env:base] *",
   "language": "python",
   "name": "conda-base-py"
  },
  "language_info": {
   "codemirror_mode": {
    "name": "ipython",
    "version": 3
   },
   "file_extension": ".py",
   "mimetype": "text/x-python",
   "name": "python",
   "nbconvert_exporter": "python",
   "pygments_lexer": "ipython3",
   "version": "3.12.7"
  }
 },
 "nbformat": 4,
 "nbformat_minor": 5
}
