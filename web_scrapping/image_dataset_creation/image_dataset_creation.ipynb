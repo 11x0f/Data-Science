{
 "cells": [
  {
   "cell_type": "code",
   "execution_count": 111,
   "id": "48d52274-63cb-4898-a1de-7e1e22f3086a",
   "metadata": {},
   "outputs": [],
   "source": [
    "import pandas as pd\n",
    "import os \n",
    "from tqdm import tqdm\n",
    "from shutil import copyfile \n",
    "import shutil\n",
    "import pandas as pd"
   ]
  },
  {
   "cell_type": "code",
   "execution_count": 2,
   "id": "ca5c6521-5c6a-444b-8974-763a98177662",
   "metadata": {},
   "outputs": [],
   "source": [
    "df = pd.read_csv(\"../infinite_scroll/imgs.csv\")"
   ]
  },
  {
   "cell_type": "code",
   "execution_count": 3,
   "id": "6c714916-e515-4244-9f3f-44125ef9d7e7",
   "metadata": {},
   "outputs": [
    {
     "data": {
      "text/html": [
       "<div>\n",
       "<style scoped>\n",
       "    .dataframe tbody tr th:only-of-type {\n",
       "        vertical-align: middle;\n",
       "    }\n",
       "\n",
       "    .dataframe tbody tr th {\n",
       "        vertical-align: top;\n",
       "    }\n",
       "\n",
       "    .dataframe thead th {\n",
       "        text-align: right;\n",
       "    }\n",
       "</style>\n",
       "<table border=\"1\" class=\"dataframe\">\n",
       "  <thead>\n",
       "    <tr style=\"text-align: right;\">\n",
       "      <th></th>\n",
       "      <th>img_link</th>\n",
       "      <th>tags</th>\n",
       "      <th>likes</th>\n",
       "      <th>comments</th>\n",
       "      <th>img_id</th>\n",
       "      <th>img_path</th>\n",
       "    </tr>\n",
       "  </thead>\n",
       "  <tbody>\n",
       "    <tr>\n",
       "      <th>0</th>\n",
       "      <td>https://cdn.pixabay.com/photo/2022/03/06/05/30...</td>\n",
       "      <td>Clouds, Sky, Atmosphere, Blue Sky</td>\n",
       "      <td>196</td>\n",
       "      <td>55</td>\n",
       "      <td>A00001</td>\n",
       "      <td>Imgs/A00001.jpg</td>\n",
       "    </tr>\n",
       "    <tr>\n",
       "      <th>1</th>\n",
       "      <td>https://cdn.pixabay.com/photo/2022/04/07/11/45...</td>\n",
       "      <td>Bird, Ornithology, Hummingbird</td>\n",
       "      <td>76</td>\n",
       "      <td>20</td>\n",
       "      <td>A00002</td>\n",
       "      <td>Imgs/A00002.jpg</td>\n",
       "    </tr>\n",
       "    <tr>\n",
       "      <th>2</th>\n",
       "      <td>https://cdn.pixabay.com/photo/2022/02/28/15/28...</td>\n",
       "      <td>Sea, Rainbow, Rainfall, Subtropical</td>\n",
       "      <td>282</td>\n",
       "      <td>106</td>\n",
       "      <td>A00003</td>\n",
       "      <td>Imgs/A00003.jpg</td>\n",
       "    </tr>\n",
       "    <tr>\n",
       "      <th>3</th>\n",
       "      <td>https://cdn.pixabay.com/photo/2022/04/04/02/52...</td>\n",
       "      <td>Cherry Blossoms, Road, Japan, Sakura</td>\n",
       "      <td>42</td>\n",
       "      <td>11</td>\n",
       "      <td>A00004</td>\n",
       "      <td>Imgs/A00004.jpg</td>\n",
       "    </tr>\n",
       "    <tr>\n",
       "      <th>4</th>\n",
       "      <td>https://cdn.pixabay.com/photo/2022/04/09/18/06...</td>\n",
       "      <td>Cape Marguerite, Flower, Plant</td>\n",
       "      <td>39</td>\n",
       "      <td>15</td>\n",
       "      <td>A00005</td>\n",
       "      <td>Imgs/A00005.jpg</td>\n",
       "    </tr>\n",
       "  </tbody>\n",
       "</table>\n",
       "</div>"
      ],
      "text/plain": [
       "                                            img_link  \\\n",
       "0  https://cdn.pixabay.com/photo/2022/03/06/05/30...   \n",
       "1  https://cdn.pixabay.com/photo/2022/04/07/11/45...   \n",
       "2  https://cdn.pixabay.com/photo/2022/02/28/15/28...   \n",
       "3  https://cdn.pixabay.com/photo/2022/04/04/02/52...   \n",
       "4  https://cdn.pixabay.com/photo/2022/04/09/18/06...   \n",
       "\n",
       "                                   tags  likes  comments  img_id  \\\n",
       "0     Clouds, Sky, Atmosphere, Blue Sky    196        55  A00001   \n",
       "1        Bird, Ornithology, Hummingbird     76        20  A00002   \n",
       "2   Sea, Rainbow, Rainfall, Subtropical    282       106  A00003   \n",
       "3  Cherry Blossoms, Road, Japan, Sakura     42        11  A00004   \n",
       "4        Cape Marguerite, Flower, Plant     39        15  A00005   \n",
       "\n",
       "          img_path  \n",
       "0  Imgs/A00001.jpg  \n",
       "1  Imgs/A00002.jpg  \n",
       "2  Imgs/A00003.jpg  \n",
       "3  Imgs/A00004.jpg  \n",
       "4  Imgs/A00005.jpg  "
      ]
     },
     "execution_count": 3,
     "metadata": {},
     "output_type": "execute_result"
    }
   ],
   "source": [
    "df.head()"
   ]
  },
  {
   "cell_type": "markdown",
   "id": "e86dfe67-9feb-4cd7-a91b-0cdb8c526103",
   "metadata": {},
   "source": [
    "## removing unnecessary columns"
   ]
  },
  {
   "cell_type": "code",
   "execution_count": 5,
   "id": "b2e60657-4695-4585-9863-6df205d96697",
   "metadata": {},
   "outputs": [
    {
     "data": {
      "text/html": [
       "<div>\n",
       "<style scoped>\n",
       "    .dataframe tbody tr th:only-of-type {\n",
       "        vertical-align: middle;\n",
       "    }\n",
       "\n",
       "    .dataframe tbody tr th {\n",
       "        vertical-align: top;\n",
       "    }\n",
       "\n",
       "    .dataframe thead th {\n",
       "        text-align: right;\n",
       "    }\n",
       "</style>\n",
       "<table border=\"1\" class=\"dataframe\">\n",
       "  <thead>\n",
       "    <tr style=\"text-align: right;\">\n",
       "      <th></th>\n",
       "      <th>tags</th>\n",
       "      <th>img_path</th>\n",
       "    </tr>\n",
       "  </thead>\n",
       "  <tbody>\n",
       "    <tr>\n",
       "      <th>0</th>\n",
       "      <td>Clouds, Sky, Atmosphere, Blue Sky</td>\n",
       "      <td>Imgs/A00001.jpg</td>\n",
       "    </tr>\n",
       "    <tr>\n",
       "      <th>1</th>\n",
       "      <td>Bird, Ornithology, Hummingbird</td>\n",
       "      <td>Imgs/A00002.jpg</td>\n",
       "    </tr>\n",
       "    <tr>\n",
       "      <th>2</th>\n",
       "      <td>Sea, Rainbow, Rainfall, Subtropical</td>\n",
       "      <td>Imgs/A00003.jpg</td>\n",
       "    </tr>\n",
       "    <tr>\n",
       "      <th>3</th>\n",
       "      <td>Cherry Blossoms, Road, Japan, Sakura</td>\n",
       "      <td>Imgs/A00004.jpg</td>\n",
       "    </tr>\n",
       "    <tr>\n",
       "      <th>4</th>\n",
       "      <td>Cape Marguerite, Flower, Plant</td>\n",
       "      <td>Imgs/A00005.jpg</td>\n",
       "    </tr>\n",
       "  </tbody>\n",
       "</table>\n",
       "</div>"
      ],
      "text/plain": [
       "                                   tags         img_path\n",
       "0     Clouds, Sky, Atmosphere, Blue Sky  Imgs/A00001.jpg\n",
       "1        Bird, Ornithology, Hummingbird  Imgs/A00002.jpg\n",
       "2   Sea, Rainbow, Rainfall, Subtropical  Imgs/A00003.jpg\n",
       "3  Cherry Blossoms, Road, Japan, Sakura  Imgs/A00004.jpg\n",
       "4        Cape Marguerite, Flower, Plant  Imgs/A00005.jpg"
      ]
     },
     "execution_count": 5,
     "metadata": {},
     "output_type": "execute_result"
    }
   ],
   "source": [
    "del df[\"img_link\"]\n",
    "del df[\"img_id\"]\n",
    "del df[\"likes\"]\n",
    "del df[\"comments\"]\n",
    "df.head()"
   ]
  },
  {
   "cell_type": "markdown",
   "id": "d0f814bd-8cc9-419d-b9ef-5c15b596c8e0",
   "metadata": {},
   "source": [
    "## removing tags of non sting type"
   ]
  },
  {
   "cell_type": "code",
   "execution_count": 7,
   "id": "fcbd9c6d-675c-4137-9c5a-4b847b5bb322",
   "metadata": {},
   "outputs": [],
   "source": [
    "t = []\n",
    "\n",
    "for tags in df['tags']:\n",
    "    if isinstance(tags, str):  # Only process if it's a string\n",
    "        t += [tag.strip() for tag in tags.split(',')]\n",
    "\n",
    "tags = list(set(t))\n"
   ]
  },
  {
   "cell_type": "code",
   "execution_count": 8,
   "id": "fd40e4c1-dd0c-4365-ac73-02fc369e20b3",
   "metadata": {},
   "outputs": [
    {
     "name": "stdout",
     "output_type": "stream",
     "text": [
      "7787\n"
     ]
    }
   ],
   "source": [
    "import html\n",
    "\n",
    "clean_tags = []\n",
    "\n",
    "for tag in tags:\n",
    "    # Unescape HTML entities\n",
    "    tag = html.unescape(tag)\n",
    "    \n",
    "    # Strip whitespace\n",
    "    tag = tag.strip()\n",
    "\n",
    "    # Remove overly long or sentence-like tags\n",
    "    if len(tag.split()) <= 4 and len(tag) < 60:\n",
    "        clean_tags.append(tag)\n",
    "\n",
    "# Remove duplicates again just in case\n",
    "clean_tags = list(set(clean_tags))\n",
    "tags = clean_tags[1:]\n",
    "print(len(tags))\n"
   ]
  },
  {
   "cell_type": "code",
   "execution_count": 9,
   "id": "5d3c4660-c203-44cc-8fc0-7fb5f9c10ad2",
   "metadata": {},
   "outputs": [
    {
     "data": {
      "text/plain": [
       "7787"
      ]
     },
     "execution_count": 9,
     "metadata": {},
     "output_type": "execute_result"
    }
   ],
   "source": [
    "len(tags)"
   ]
  },
  {
   "cell_type": "markdown",
   "id": "039b15e5-bbf0-49a5-958e-e1beb8fc94f1",
   "metadata": {},
   "source": [
    "## creating folder for each tag"
   ]
  },
  {
   "cell_type": "code",
   "execution_count": 11,
   "id": "a33458a1-a252-4f13-8f32-305f5096c8ce",
   "metadata": {},
   "outputs": [
    {
     "name": "stderr",
     "output_type": "stream",
     "text": [
      "100%|████████████████████████████████████████████████████████████████████████████| 7787/7787 [00:01<00:00, 4643.27it/s]\n"
     ]
    }
   ],
   "source": [
    "for tag in tqdm(tags):\n",
    "    dir_path = os.path.join(\"Dataset\", tag)\n",
    "    try:\n",
    "        os.mkdir(dir_path)\n",
    "    except: pass\n"
   ]
  },
  {
   "cell_type": "markdown",
   "id": "0ad4e198-eb5d-446d-b673-5271585d209c",
   "metadata": {},
   "source": [
    "## saving images in specific folder"
   ]
  },
  {
   "cell_type": "code",
   "execution_count": 13,
   "id": "bdfdf481-a026-4c69-98a1-ec7e9470a2ac",
   "metadata": {
    "scrolled": true
   },
   "outputs": [
    {
     "name": "stderr",
     "output_type": "stream",
     "text": [
      "100%|█████████████████████████████████████████████████████████████████████████████| 9101/9101 [00:36<00:00, 252.05it/s]"
     ]
    },
    {
     "name": "stdout",
     "output_type": "stream",
     "text": [
      "total error :  55\n"
     ]
    },
    {
     "name": "stderr",
     "output_type": "stream",
     "text": [
      "\n"
     ]
    }
   ],
   "source": [
    "error  =0 \n",
    "for data in tqdm(df.values):\n",
    "    try:\n",
    "        tags = data[0]\n",
    "        tags = [\"Dataset/\" + tag.strip() + \"/\" for tag in tags.split(\",\")]\n",
    "        img = data[1]\n",
    "        source = \"../infinite_scroll/\" + data[1]\n",
    "        source = os.path.abspath(os.path.join( os.getcwd() ,source))\n",
    "    \n",
    "        for tag in tags:\n",
    "            try:\n",
    "                destination = os.path.join(os.getcwd(), tag, os.path.basename(img))            \n",
    "                os.makedirs(os.path.dirname(destination), exist_ok=True)\n",
    "                        \n",
    "                copyfile(source, destination)\n",
    "                            \n",
    "\n",
    "            except:\n",
    "                error += 1\n",
    "                pass\n",
    "    except: \n",
    "        error +=1 \n",
    "        pass\n",
    "print(\"total error : \",error)\n"
   ]
  },
  {
   "cell_type": "markdown",
   "id": "f5050474-dea1-4dc5-890a-e5be04b21045",
   "metadata": {},
   "source": [
    "## checking folder deatils"
   ]
  },
  {
   "cell_type": "code",
   "execution_count": 27,
   "id": "63cb1d5d-6ef8-4338-b569-53034bd1e454",
   "metadata": {},
   "outputs": [
    {
     "name": "stdout",
     "output_type": "stream",
     "text": [
      "7969\n"
     ]
    }
   ],
   "source": [
    "folders = os.listdir(\"Dataset/\")\n",
    "print(len(folders))"
   ]
  },
  {
   "cell_type": "markdown",
   "id": "94a3c2c1-b563-45a2-8fba-b76cf76337b4",
   "metadata": {},
   "source": [
    "## checking no of images in each folder"
   ]
  },
  {
   "cell_type": "code",
   "execution_count": 88,
   "id": "3f2d7c9e-98a5-40b8-a102-f59693a978fd",
   "metadata": {},
   "outputs": [
    {
     "name": "stderr",
     "output_type": "stream",
     "text": [
      "100%|███████████████████████████████████████████████████████████████████████████| 7969/7969 [00:00<00:00, 13564.47it/s]"
     ]
    },
    {
     "name": "stdout",
     "output_type": "stream",
     "text": [
      "3\n"
     ]
    },
    {
     "name": "stderr",
     "output_type": "stream",
     "text": [
      "\n"
     ]
    }
   ],
   "source": [
    "error_count = 0\n",
    "folder_counts = {}\n",
    "for f in tqdm(folders):\n",
    "    try:\n",
    "        folder = os.listdir(\"Dataset/\"+f)\n",
    "        folder_counts[f]= len(folder)\n",
    "    except : \n",
    "        error_count +=1\n",
    "        pass\n",
    "print(error_count)"
   ]
  },
  {
   "cell_type": "markdown",
   "id": "f2f3da87-e289-420a-8742-1626d6c3ea66",
   "metadata": {},
   "source": [
    "##### sorting wtr to no of images in folder descending"
   ]
  },
  {
   "cell_type": "code",
   "execution_count": 75,
   "id": "85cad740-1e13-4c09-a7c5-3494273fc77d",
   "metadata": {},
   "outputs": [],
   "source": [
    "folder_counts = dict(sorted(folder_counts.items(), key=lambda item: item[1], reverse=True))"
   ]
  },
  {
   "cell_type": "markdown",
   "id": "f114848e-816b-4746-ba09-8d9b7c2b3b6f",
   "metadata": {},
   "source": [
    "##### converting to data frame"
   ]
  },
  {
   "cell_type": "code",
   "execution_count": 79,
   "id": "b0a3932e-56e1-4f7c-97ee-81a85c7336e0",
   "metadata": {},
   "outputs": [],
   "source": [
    "folder_counts_df = pd.DataFrame(list(folder_counts.items()), columns=['Folder', 'FileCount'])"
   ]
  },
  {
   "cell_type": "code",
   "execution_count": 90,
   "id": "87435d69-f9ff-4349-9535-850b5a758efb",
   "metadata": {},
   "outputs": [
    {
     "data": {
      "text/plain": [
       "Folder       0\n",
       "FileCount    0\n",
       "dtype: int64"
      ]
     },
     "execution_count": 90,
     "metadata": {},
     "output_type": "execute_result"
    }
   ],
   "source": [
    "folder_counts_df.isna().sum()"
   ]
  },
  {
   "cell_type": "code",
   "execution_count": 95,
   "id": "f5cc48dd-aac0-40f1-a4f0-5fe9920c5116",
   "metadata": {},
   "outputs": [
    {
     "data": {
      "text/plain": [
       "4.712528245041426"
      ]
     },
     "execution_count": 95,
     "metadata": {},
     "output_type": "execute_result"
    }
   ],
   "source": [
    "folder_counts_df[\"FileCount\"].mean()"
   ]
  },
  {
   "cell_type": "code",
   "execution_count": null,
   "id": "ad27d696-9ef4-4f4f-8b66-f5f6477e9bbe",
   "metadata": {},
   "outputs": [],
   "source": []
  },
  {
   "cell_type": "markdown",
   "id": "fc68dac6-9e5f-4811-82a2-45b38d1fa524",
   "metadata": {},
   "source": [
    "## top 10 folders having most images"
   ]
  },
  {
   "cell_type": "code",
   "execution_count": 92,
   "id": "8e689d21-54b3-427d-865a-9bcdd9acdb95",
   "metadata": {},
   "outputs": [
    {
     "data": {
      "text/html": [
       "<div>\n",
       "<style scoped>\n",
       "    .dataframe tbody tr th:only-of-type {\n",
       "        vertical-align: middle;\n",
       "    }\n",
       "\n",
       "    .dataframe tbody tr th {\n",
       "        vertical-align: top;\n",
       "    }\n",
       "\n",
       "    .dataframe thead th {\n",
       "        text-align: right;\n",
       "    }\n",
       "</style>\n",
       "<table border=\"1\" class=\"dataframe\">\n",
       "  <thead>\n",
       "    <tr style=\"text-align: right;\">\n",
       "      <th></th>\n",
       "      <th>Folder</th>\n",
       "      <th>FileCount</th>\n",
       "    </tr>\n",
       "  </thead>\n",
       "  <tbody>\n",
       "    <tr>\n",
       "      <th>0</th>\n",
       "      <td>Nature</td>\n",
       "      <td>840</td>\n",
       "    </tr>\n",
       "    <tr>\n",
       "      <th>1</th>\n",
       "      <td>Animal</td>\n",
       "      <td>609</td>\n",
       "    </tr>\n",
       "    <tr>\n",
       "      <th>2</th>\n",
       "      <td>Flower</td>\n",
       "      <td>549</td>\n",
       "    </tr>\n",
       "    <tr>\n",
       "      <th>3</th>\n",
       "      <td>Bird</td>\n",
       "      <td>519</td>\n",
       "    </tr>\n",
       "    <tr>\n",
       "      <th>4</th>\n",
       "      <td>Flowers</td>\n",
       "      <td>505</td>\n",
       "    </tr>\n",
       "    <tr>\n",
       "      <th>5</th>\n",
       "      <td>Sea</td>\n",
       "      <td>306</td>\n",
       "    </tr>\n",
       "    <tr>\n",
       "      <th>6</th>\n",
       "      <td>Plant</td>\n",
       "      <td>284</td>\n",
       "    </tr>\n",
       "    <tr>\n",
       "      <th>7</th>\n",
       "      <td>Sunset</td>\n",
       "      <td>275</td>\n",
       "    </tr>\n",
       "    <tr>\n",
       "      <th>8</th>\n",
       "      <td>Forest</td>\n",
       "      <td>261</td>\n",
       "    </tr>\n",
       "    <tr>\n",
       "      <th>9</th>\n",
       "      <td>landscape</td>\n",
       "      <td>242</td>\n",
       "    </tr>\n",
       "  </tbody>\n",
       "</table>\n",
       "</div>"
      ],
      "text/plain": [
       "      Folder  FileCount\n",
       "0     Nature        840\n",
       "1     Animal        609\n",
       "2     Flower        549\n",
       "3       Bird        519\n",
       "4    Flowers        505\n",
       "5        Sea        306\n",
       "6      Plant        284\n",
       "7     Sunset        275\n",
       "8     Forest        261\n",
       "9  landscape        242"
      ]
     },
     "execution_count": 92,
     "metadata": {},
     "output_type": "execute_result"
    }
   ],
   "source": [
    "folder_counts_df[:10]"
   ]
  },
  {
   "cell_type": "markdown",
   "id": "05081c78-f3f0-4ef4-aa1e-3863fb2c0183",
   "metadata": {},
   "source": [
    "## removing the folders with less than 20 images"
   ]
  },
  {
   "cell_type": "code",
   "execution_count": 99,
   "id": "4a56227e-1b08-4954-88f2-2327d0a55332",
   "metadata": {},
   "outputs": [
    {
     "data": {
      "text/plain": [
       "282                                             Adventure\n",
       "283                                                  Bear\n",
       "284                                                  Buds\n",
       "285                                              Close Up\n",
       "286                                                Facade\n",
       "                              ...                        \n",
       "7961    Fantasmagòrica vista de los Reyes Magos de Ori...\n",
       "7962                           In einem kleinen Städtchen\n",
       "7963                                      It's a cool car\n",
       "7964                                       it's your home\n",
       "7965                            Rosa 'Princesse de Sagan'\n",
       "Name: Folder, Length: 7684, dtype: object"
      ]
     },
     "execution_count": 99,
     "metadata": {},
     "output_type": "execute_result"
    }
   ],
   "source": [
    "folder_counts_df[folder_counts_df[\"FileCount\"]<20][\"Folder\"]"
   ]
  },
  {
   "cell_type": "code",
   "execution_count": 115,
   "id": "c6cff24a-f3ad-49dc-9d43-09facbf801c9",
   "metadata": {},
   "outputs": [
    {
     "name": "stderr",
     "output_type": "stream",
     "text": [
      "100%|████████████████████████████████████████████████████████████████████████████| 7684/7684 [00:00<00:00, 9513.06it/s]"
     ]
    },
    {
     "name": "stdout",
     "output_type": "stream",
     "text": [
      "7684\n"
     ]
    },
    {
     "name": "stderr",
     "output_type": "stream",
     "text": [
      "\n"
     ]
    }
   ],
   "source": [
    "error_count = 0\n",
    "for fldr in tqdm(folder_counts_df[folder_counts_df[\"FileCount\"]<20][\"Folder\"]):\n",
    "    \n",
    "    try:\n",
    "        path = os.getcwd()\n",
    "        path = os.path.join(path, \"Dataset\", fldr)\n",
    "        shutil.rmtree(path)\n",
    "    \n",
    "    except: \n",
    "        error_count += 1\n",
    "        pass\n",
    "print(error_count)"
   ]
  },
  {
   "cell_type": "code",
   "execution_count": 117,
   "id": "95d72281-35a3-49e3-ad0a-8ace3fea5d9c",
   "metadata": {},
   "outputs": [
    {
     "name": "stdout",
     "output_type": "stream",
     "text": [
      "285\n"
     ]
    }
   ],
   "source": [
    "folders = os.listdir(\"Dataset/\")\n",
    "print(len(folders))"
   ]
  },
  {
   "cell_type": "code",
   "execution_count": null,
   "id": "4f2fdc7e-45c0-46b4-b244-99357a031e46",
   "metadata": {},
   "outputs": [],
   "source": []
  }
 ],
 "metadata": {
  "kernelspec": {
   "display_name": "Python [conda env:base] *",
   "language": "python",
   "name": "conda-base-py"
  },
  "language_info": {
   "codemirror_mode": {
    "name": "ipython",
    "version": 3
   },
   "file_extension": ".py",
   "mimetype": "text/x-python",
   "name": "python",
   "nbconvert_exporter": "python",
   "pygments_lexer": "ipython3",
   "version": "3.12.7"
  }
 },
 "nbformat": 4,
 "nbformat_minor": 5
}
