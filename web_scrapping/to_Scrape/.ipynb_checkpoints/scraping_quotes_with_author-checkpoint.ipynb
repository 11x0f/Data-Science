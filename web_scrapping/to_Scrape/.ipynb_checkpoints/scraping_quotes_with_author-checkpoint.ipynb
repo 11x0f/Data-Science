{
 "cells": [
  {
   "cell_type": "code",
   "execution_count": null,
   "id": "728c58ae-7062-4a16-af8e-abc13025d4e4",
   "metadata": {},
   "outputs": [],
   "source": []
  },
  {
   "cell_type": "code",
   "execution_count": 91,
   "id": "98ebd6aa-6cae-4286-a9af-7b79229c305b",
   "metadata": {},
   "outputs": [],
   "source": [
    "import requests\n",
    "from bs4 import BeautifulSoup\n",
    "import pandas as pd"
   ]
  },
  {
   "cell_type": "code",
   "execution_count": 8,
   "id": "26366117-e590-487b-9125-865e6066026b",
   "metadata": {},
   "outputs": [],
   "source": [
    "link = \"https://quotes.toscrape.com\""
   ]
  },
  {
   "cell_type": "code",
   "execution_count": 10,
   "id": "aa40e5d6-6caf-4b1d-9b05-9e1b204d3d17",
   "metadata": {},
   "outputs": [],
   "source": [
    "res = requests.get(link)"
   ]
  },
  {
   "cell_type": "code",
   "execution_count": 14,
   "id": "825be5b8-5b66-488d-84d1-14cea51f3bed",
   "metadata": {},
   "outputs": [],
   "source": [
    "soup = BeautifulSoup(res.text, \"html.parser\")"
   ]
  },
  {
   "cell_type": "code",
   "execution_count": null,
   "id": "9ef5a6b1-1433-407e-a9db-92220d1c3fa9",
   "metadata": {},
   "outputs": [],
   "source": []
  },
  {
   "cell_type": "code",
   "execution_count": null,
   "id": "01d86a1d-f4cc-46dd-bf30-9e59ef97cea4",
   "metadata": {},
   "outputs": [],
   "source": []
  },
  {
   "cell_type": "code",
   "execution_count": 24,
   "id": "6779b134-4bc8-4e7a-8638-eb75997eb9a3",
   "metadata": {},
   "outputs": [
    {
     "data": {
      "text/plain": [
       "<div class=\"quote\" itemscope=\"\" itemtype=\"http://schema.org/CreativeWork\">\n",
       "<span class=\"text\" itemprop=\"text\">“The world as we have created it is a process of our thinking. It cannot be changed without changing our thinking.”</span>\n",
       "<span>by <small class=\"author\" itemprop=\"author\">Albert Einstein</small>\n",
       "<a href=\"/author/Albert-Einstein\">(about)</a>\n",
       "</span>\n",
       "<div class=\"tags\">\n",
       "            Tags:\n",
       "            <meta class=\"keywords\" content=\"change,deep-thoughts,thinking,world\" itemprop=\"keywords\"/>\n",
       "<a class=\"tag\" href=\"/tag/change/page/1/\">change</a>\n",
       "<a class=\"tag\" href=\"/tag/deep-thoughts/page/1/\">deep-thoughts</a>\n",
       "<a class=\"tag\" href=\"/tag/thinking/page/1/\">thinking</a>\n",
       "<a class=\"tag\" href=\"/tag/world/page/1/\">world</a>\n",
       "</div>\n",
       "</div>"
      ]
     },
     "execution_count": 24,
     "metadata": {},
     "output_type": "execute_result"
    }
   ],
   "source": [
    "soup.find_all(\"div\", class_ = \"quote\")[0]"
   ]
  },
  {
   "cell_type": "markdown",
   "id": "236f0544-4812-40f1-bd22-e20eb478eea6",
   "metadata": {},
   "source": [
    "# finding quote, author, author link and categories"
   ]
  },
  {
   "cell_type": "code",
   "execution_count": null,
   "id": "ebb5f98c-3f1b-4517-b9a0-69bd6d7e39f7",
   "metadata": {},
   "outputs": [],
   "source": []
  },
  {
   "cell_type": "code",
   "execution_count": 42,
   "id": "f48fe1d6-2c48-4bca-9609-b8d5bb0e4284",
   "metadata": {},
   "outputs": [
    {
     "data": {
      "text/plain": [
       "'“A day without sunshine is like, you know, night.”'"
      ]
     },
     "execution_count": 42,
     "metadata": {},
     "output_type": "execute_result"
    }
   ],
   "source": [
    "sp.find(\"span\", class_= \"text\").text\n"
   ]
  },
  {
   "cell_type": "code",
   "execution_count": 51,
   "id": "4b1df3ec-312c-4298-b4e5-6928c91700b2",
   "metadata": {},
   "outputs": [
    {
     "data": {
      "text/plain": [
       "'/author/Steve-Martin'"
      ]
     },
     "execution_count": 51,
     "metadata": {},
     "output_type": "execute_result"
    }
   ],
   "source": [
    "sp.find(\"a\").get(\"href\")"
   ]
  },
  {
   "cell_type": "code",
   "execution_count": 53,
   "id": "8bdce2fd-797e-45fe-8caa-7e21f29c1bf8",
   "metadata": {},
   "outputs": [
    {
     "data": {
      "text/plain": [
       "'https://quotes.toscrape.com/author/Steve-Martin'"
      ]
     },
     "execution_count": 53,
     "metadata": {},
     "output_type": "execute_result"
    }
   ],
   "source": [
    "author_id = link+ sp.find(\"a\").get(\"href\")\n",
    "author_id"
   ]
  },
  {
   "cell_type": "code",
   "execution_count": 64,
   "id": "afe49de0-3c0e-4eaf-8185-0151900f4e57",
   "metadata": {},
   "outputs": [
    {
     "data": {
      "text/plain": [
       "[<a class=\"tag\" href=\"/tag/humor/page/1/\">humor</a>,\n",
       " <a class=\"tag\" href=\"/tag/obvious/page/1/\">obvious</a>,\n",
       " <a class=\"tag\" href=\"/tag/simile/page/1/\">simile</a>]"
      ]
     },
     "execution_count": 64,
     "metadata": {},
     "output_type": "execute_result"
    }
   ],
   "source": [
    "sp.find_all(\"a\", class_=\"tag\")"
   ]
  },
  {
   "cell_type": "code",
   "execution_count": 74,
   "id": "cae0dfd8-ea87-4dac-aca7-720bb1e1fd78",
   "metadata": {},
   "outputs": [
    {
     "data": {
      "text/plain": [
       "['humor', 'obvious', 'simile']"
      ]
     },
     "execution_count": 74,
     "metadata": {},
     "output_type": "execute_result"
    }
   ],
   "source": [
    "tags = []\n",
    "for tag in sp.find_all(\"a\", class_=\"tag\"):\n",
    "    tags.append(tag.text)\n",
    "tags"
   ]
  },
  {
   "cell_type": "code",
   "execution_count": 68,
   "id": "d73c96db-3cbc-4545-9680-9392a5a1e2b3",
   "metadata": {},
   "outputs": [
    {
     "data": {
      "text/plain": [
       "[]"
      ]
     },
     "execution_count": 68,
     "metadata": {},
     "output_type": "execute_result"
    }
   ],
   "source": [
    "tags"
   ]
  },
  {
   "cell_type": "code",
   "execution_count": null,
   "id": "0b0d4b60-8cce-477a-a82c-5c7a9e6dd4a0",
   "metadata": {},
   "outputs": [],
   "source": []
  },
  {
   "cell_type": "code",
   "execution_count": null,
   "id": "ad898b89-1204-40c6-9f6a-aa8e03c48270",
   "metadata": {},
   "outputs": [],
   "source": []
  },
  {
   "cell_type": "code",
   "execution_count": 99,
   "id": "5e1424b1-cf6c-4d72-9518-67b4258100a7",
   "metadata": {
    "scrolled": true
   },
   "outputs": [
    {
     "data": {
      "text/plain": [
       "[['“The world as we have created it is a process of our thinking. It cannot be changed without changing our thinking.”',\n",
       "  'Albert Einstein',\n",
       "  'https://quotes.toscrape.com/author/Albert-Einstein',\n",
       "  'change,deep-thoughts,thinking,world'],\n",
       " ['“It is our choices, Harry, that show what we truly are, far more than our abilities.”',\n",
       "  'J.K. Rowling',\n",
       "  'https://quotes.toscrape.com/author/J-K-Rowling',\n",
       "  'abilities,choices'],\n",
       " ['“There are only two ways to live your life. One is as though nothing is a miracle. The other is as though everything is a miracle.”',\n",
       "  'Albert Einstein',\n",
       "  'https://quotes.toscrape.com/author/Albert-Einstein',\n",
       "  'inspirational,life,live,miracle,miracles'],\n",
       " ['“The person, be it gentleman or lady, who has not pleasure in a good novel, must be intolerably stupid.”',\n",
       "  'Jane Austen',\n",
       "  'https://quotes.toscrape.com/author/Jane-Austen',\n",
       "  'aliteracy,books,classic,humor'],\n",
       " [\"“Imperfection is beauty, madness is genius and it's better to be absolutely ridiculous than absolutely boring.”\",\n",
       "  'Marilyn Monroe',\n",
       "  'https://quotes.toscrape.com/author/Marilyn-Monroe',\n",
       "  'be-yourself,inspirational'],\n",
       " ['“Try not to become a man of success. Rather become a man of value.”',\n",
       "  'Albert Einstein',\n",
       "  'https://quotes.toscrape.com/author/Albert-Einstein',\n",
       "  'adulthood,success,value'],\n",
       " ['“It is better to be hated for what you are than to be loved for what you are not.”',\n",
       "  'André Gide',\n",
       "  'https://quotes.toscrape.com/author/Andre-Gide',\n",
       "  'life,love'],\n",
       " [\"“I have not failed. I've just found 10,000 ways that won't work.”\",\n",
       "  'Thomas A. Edison',\n",
       "  'https://quotes.toscrape.com/author/Thomas-A-Edison',\n",
       "  'edison,failure,inspirational,paraphrased'],\n",
       " [\"“A woman is like a tea bag; you never know how strong it is until it's in hot water.”\",\n",
       "  'Eleanor Roosevelt',\n",
       "  'https://quotes.toscrape.com/author/Eleanor-Roosevelt',\n",
       "  'misattributed-eleanor-roosevelt'],\n",
       " ['“A day without sunshine is like, you know, night.”',\n",
       "  'Steve Martin',\n",
       "  'https://quotes.toscrape.com/author/Steve-Martin',\n",
       "  'humor,obvious,simile']]"
      ]
     },
     "execution_count": 99,
     "metadata": {},
     "output_type": "execute_result"
    }
   ],
   "source": [
    "data = []\n",
    "for sp in soup.find_all(\"div\", class_=\"quote\"):\n",
    "    quote = sp.find(\"span\", class_ = \"text\").text\n",
    "    author = sp.find(\"small\").text\n",
    "    author_id = link+ sp.find(\"a\").get(\"href\")\n",
    "    tags = []\n",
    "    for tag in sp.find_all(\"a\", class_=\"tag\"):\n",
    "        tags.append(tag.text)\n",
    "    tags = ','.join(tags)\n",
    "    \n",
    "    data.append([quote, author, author_id, tags])\n",
    "data"
   ]
  },
  {
   "cell_type": "code",
   "execution_count": null,
   "id": "1955e535-30b4-472e-a0f6-7c3b78f90f8e",
   "metadata": {},
   "outputs": [],
   "source": []
  },
  {
   "cell_type": "code",
   "execution_count": 103,
   "id": "51920f0d-9a2a-47e2-aedf-390cf0fd2fb6",
   "metadata": {},
   "outputs": [],
   "source": [
    "data = pd.DataFrame(data, columns=[\"quote\", \"author\", \"author_id\", \"tags\"])\n",
    "data.to_csv(\"quotes.csv\")"
   ]
  },
  {
   "cell_type": "code",
   "execution_count": null,
   "id": "00916071-e622-42d9-94c1-75a93802b3ea",
   "metadata": {},
   "outputs": [],
   "source": []
  },
  {
   "cell_type": "code",
   "execution_count": null,
   "id": "420763bb-c89c-4a23-af70-aaf759c4dfe3",
   "metadata": {},
   "outputs": [],
   "source": []
  },
  {
   "cell_type": "code",
   "execution_count": null,
   "id": "9c473612-55cb-4b83-8b3d-f5627b197507",
   "metadata": {},
   "outputs": [],
   "source": []
  }
 ],
 "metadata": {
  "kernelspec": {
   "display_name": "Python [conda env:base] *",
   "language": "python",
   "name": "conda-base-py"
  },
  "language_info": {
   "codemirror_mode": {
    "name": "ipython",
    "version": 3
   },
   "file_extension": ".py",
   "mimetype": "text/x-python",
   "name": "python",
   "nbconvert_exporter": "python",
   "pygments_lexer": "ipython3",
   "version": "3.12.7"
  }
 },
 "nbformat": 4,
 "nbformat_minor": 5
}
