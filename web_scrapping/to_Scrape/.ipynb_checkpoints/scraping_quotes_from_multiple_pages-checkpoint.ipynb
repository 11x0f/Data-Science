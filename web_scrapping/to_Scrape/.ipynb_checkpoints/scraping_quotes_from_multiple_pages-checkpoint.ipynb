{
 "cells": [
  {
   "cell_type": "code",
   "execution_count": 15,
   "id": "845b2db7-fe17-4374-9546-996053d56d37",
   "metadata": {},
   "outputs": [],
   "source": [
    "import requests\n",
    "from bs4 import BeautifulSoup\n",
    "import pandas as pd\n",
    "from tqdm import tqdm"
   ]
  },
  {
   "cell_type": "code",
   "execution_count": 3,
   "id": "c881e634-2885-455f-9bbb-e8bbf254ced5",
   "metadata": {},
   "outputs": [],
   "source": [
    "link = \"https://quotes.toscrape.com\""
   ]
  },
  {
   "cell_type": "code",
   "execution_count": 5,
   "id": "b11ec456-4cb4-486b-97bf-3425f555b9a9",
   "metadata": {},
   "outputs": [],
   "source": []
  },
  {
   "cell_type": "code",
   "execution_count": 7,
   "id": "ebc52c64-41ce-4377-a0cd-19a6f61ad4a6",
   "metadata": {},
   "outputs": [],
   "source": [
    "soup = BeautifulSoup(res.text, \"html.parser\")"
   ]
  },
  {
   "cell_type": "code",
   "execution_count": 17,
   "id": "a6c3b74d-f57d-4d94-bf25-d0cccf0fb04e",
   "metadata": {},
   "outputs": [
    {
     "name": "stderr",
     "output_type": "stream",
     "text": [
      "100%|██████████████████████████████████████████████████████████████████████████████████| 10/10 [00:15<00:00,  1.54s/it]\n"
     ]
    }
   ],
   "source": [
    "data = []\n",
    "for page in tqdm(range(1,11)):\n",
    "    link = \"https://quotes.toscrape.com/page/\" + str(page)\n",
    "    res = requests.get(link)\n",
    "    soup = BeautifulSoup(res.text, \"html.parser\")\n",
    "\n",
    "    for sp in soup.find_all(\"div\", class_=\"quote\"):\n",
    "        quote = sp.find(\"span\", class_ = \"text\").text\n",
    "        author = sp.find(\"small\").text\n",
    "        author_id = link+ sp.find(\"a\").get(\"href\")\n",
    "        tags = []\n",
    "        for tag in sp.find_all(\"a\", class_=\"tag\"):\n",
    "            tags.append(tag.text)\n",
    "        tags = ','.join(tags)\n",
    "        \n",
    "        data.append([quote, author, author_id, tags])\n",
    "    data"
   ]
  },
  {
   "cell_type": "code",
   "execution_count": 21,
   "id": "46055865-2a37-48cd-9556-0969bef7d1a0",
   "metadata": {},
   "outputs": [
    {
     "data": {
      "text/plain": [
       "100"
      ]
     },
     "execution_count": 21,
     "metadata": {},
     "output_type": "execute_result"
    }
   ],
   "source": [
    "len(data)"
   ]
  },
  {
   "cell_type": "code",
   "execution_count": 25,
   "id": "1607e9b0-46f2-4379-9b92-279ac2f08671",
   "metadata": {},
   "outputs": [],
   "source": [
    "data = pd.DataFrame(data, columns=[\"Quote\", \"Author\", \"Author_link\", \"Tags\"])"
   ]
  },
  {
   "cell_type": "code",
   "execution_count": 27,
   "id": "2c82295f-3cd4-426b-842b-3743e4bc67ef",
   "metadata": {},
   "outputs": [
    {
     "data": {
      "text/html": [
       "<div>\n",
       "<style scoped>\n",
       "    .dataframe tbody tr th:only-of-type {\n",
       "        vertical-align: middle;\n",
       "    }\n",
       "\n",
       "    .dataframe tbody tr th {\n",
       "        vertical-align: top;\n",
       "    }\n",
       "\n",
       "    .dataframe thead th {\n",
       "        text-align: right;\n",
       "    }\n",
       "</style>\n",
       "<table border=\"1\" class=\"dataframe\">\n",
       "  <thead>\n",
       "    <tr style=\"text-align: right;\">\n",
       "      <th></th>\n",
       "      <th>Quote</th>\n",
       "      <th>Author</th>\n",
       "      <th>Author_link</th>\n",
       "      <th>Tags</th>\n",
       "    </tr>\n",
       "  </thead>\n",
       "  <tbody>\n",
       "    <tr>\n",
       "      <th>0</th>\n",
       "      <td>“The world as we have created it is a process ...</td>\n",
       "      <td>Albert Einstein</td>\n",
       "      <td>https://quotes.toscrape.com/page/1/author/Albe...</td>\n",
       "      <td>change,deep-thoughts,thinking,world</td>\n",
       "    </tr>\n",
       "    <tr>\n",
       "      <th>1</th>\n",
       "      <td>“It is our choices, Harry, that show what we t...</td>\n",
       "      <td>J.K. Rowling</td>\n",
       "      <td>https://quotes.toscrape.com/page/1/author/J-K-...</td>\n",
       "      <td>abilities,choices</td>\n",
       "    </tr>\n",
       "    <tr>\n",
       "      <th>2</th>\n",
       "      <td>“There are only two ways to live your life. On...</td>\n",
       "      <td>Albert Einstein</td>\n",
       "      <td>https://quotes.toscrape.com/page/1/author/Albe...</td>\n",
       "      <td>inspirational,life,live,miracle,miracles</td>\n",
       "    </tr>\n",
       "    <tr>\n",
       "      <th>3</th>\n",
       "      <td>“The person, be it gentleman or lady, who has ...</td>\n",
       "      <td>Jane Austen</td>\n",
       "      <td>https://quotes.toscrape.com/page/1/author/Jane...</td>\n",
       "      <td>aliteracy,books,classic,humor</td>\n",
       "    </tr>\n",
       "    <tr>\n",
       "      <th>4</th>\n",
       "      <td>“Imperfection is beauty, madness is genius and...</td>\n",
       "      <td>Marilyn Monroe</td>\n",
       "      <td>https://quotes.toscrape.com/page/1/author/Mari...</td>\n",
       "      <td>be-yourself,inspirational</td>\n",
       "    </tr>\n",
       "    <tr>\n",
       "      <th>...</th>\n",
       "      <td>...</td>\n",
       "      <td>...</td>\n",
       "      <td>...</td>\n",
       "      <td>...</td>\n",
       "    </tr>\n",
       "    <tr>\n",
       "      <th>95</th>\n",
       "      <td>“You never really understand a person until yo...</td>\n",
       "      <td>Harper Lee</td>\n",
       "      <td>https://quotes.toscrape.com/page/10/author/Har...</td>\n",
       "      <td>better-life-empathy</td>\n",
       "    </tr>\n",
       "    <tr>\n",
       "      <th>96</th>\n",
       "      <td>“You have to write the book that wants to be w...</td>\n",
       "      <td>Madeleine L'Engle</td>\n",
       "      <td>https://quotes.toscrape.com/page/10/author/Mad...</td>\n",
       "      <td>books,children,difficult,grown-ups,write,write...</td>\n",
       "    </tr>\n",
       "    <tr>\n",
       "      <th>97</th>\n",
       "      <td>“Never tell the truth to people who are not wo...</td>\n",
       "      <td>Mark Twain</td>\n",
       "      <td>https://quotes.toscrape.com/page/10/author/Mar...</td>\n",
       "      <td>truth</td>\n",
       "    </tr>\n",
       "    <tr>\n",
       "      <th>98</th>\n",
       "      <td>“A person's a person, no matter how small.”</td>\n",
       "      <td>Dr. Seuss</td>\n",
       "      <td>https://quotes.toscrape.com/page/10/author/Dr-...</td>\n",
       "      <td>inspirational</td>\n",
       "    </tr>\n",
       "    <tr>\n",
       "      <th>99</th>\n",
       "      <td>“... a mind needs books as a sword needs a whe...</td>\n",
       "      <td>George R.R. Martin</td>\n",
       "      <td>https://quotes.toscrape.com/page/10/author/Geo...</td>\n",
       "      <td>books,mind</td>\n",
       "    </tr>\n",
       "  </tbody>\n",
       "</table>\n",
       "<p>100 rows × 4 columns</p>\n",
       "</div>"
      ],
      "text/plain": [
       "                                                Quote              Author  \\\n",
       "0   “The world as we have created it is a process ...     Albert Einstein   \n",
       "1   “It is our choices, Harry, that show what we t...        J.K. Rowling   \n",
       "2   “There are only two ways to live your life. On...     Albert Einstein   \n",
       "3   “The person, be it gentleman or lady, who has ...         Jane Austen   \n",
       "4   “Imperfection is beauty, madness is genius and...      Marilyn Monroe   \n",
       "..                                                ...                 ...   \n",
       "95  “You never really understand a person until yo...          Harper Lee   \n",
       "96  “You have to write the book that wants to be w...   Madeleine L'Engle   \n",
       "97  “Never tell the truth to people who are not wo...          Mark Twain   \n",
       "98        “A person's a person, no matter how small.”           Dr. Seuss   \n",
       "99  “... a mind needs books as a sword needs a whe...  George R.R. Martin   \n",
       "\n",
       "                                          Author_link  \\\n",
       "0   https://quotes.toscrape.com/page/1/author/Albe...   \n",
       "1   https://quotes.toscrape.com/page/1/author/J-K-...   \n",
       "2   https://quotes.toscrape.com/page/1/author/Albe...   \n",
       "3   https://quotes.toscrape.com/page/1/author/Jane...   \n",
       "4   https://quotes.toscrape.com/page/1/author/Mari...   \n",
       "..                                                ...   \n",
       "95  https://quotes.toscrape.com/page/10/author/Har...   \n",
       "96  https://quotes.toscrape.com/page/10/author/Mad...   \n",
       "97  https://quotes.toscrape.com/page/10/author/Mar...   \n",
       "98  https://quotes.toscrape.com/page/10/author/Dr-...   \n",
       "99  https://quotes.toscrape.com/page/10/author/Geo...   \n",
       "\n",
       "                                                 Tags  \n",
       "0                 change,deep-thoughts,thinking,world  \n",
       "1                                   abilities,choices  \n",
       "2            inspirational,life,live,miracle,miracles  \n",
       "3                       aliteracy,books,classic,humor  \n",
       "4                           be-yourself,inspirational  \n",
       "..                                                ...  \n",
       "95                                better-life-empathy  \n",
       "96  books,children,difficult,grown-ups,write,write...  \n",
       "97                                              truth  \n",
       "98                                      inspirational  \n",
       "99                                         books,mind  \n",
       "\n",
       "[100 rows x 4 columns]"
      ]
     },
     "execution_count": 27,
     "metadata": {},
     "output_type": "execute_result"
    }
   ],
   "source": [
    "data\n"
   ]
  },
  {
   "cell_type": "code",
   "execution_count": 31,
   "id": "f3df5081-f8ad-4af1-8a72-27ebbed985c8",
   "metadata": {},
   "outputs": [],
   "source": [
    "data.to_csv(\"Quotes.csv\")"
   ]
  },
  {
   "cell_type": "code",
   "execution_count": null,
   "id": "ff15a4c7-f9fe-48cf-9bb9-62624b650711",
   "metadata": {},
   "outputs": [],
   "source": []
  }
 ],
 "metadata": {
  "kernelspec": {
   "display_name": "Python [conda env:base] *",
   "language": "python",
   "name": "conda-base-py"
  },
  "language_info": {
   "codemirror_mode": {
    "name": "ipython",
    "version": 3
   },
   "file_extension": ".py",
   "mimetype": "text/x-python",
   "name": "python",
   "nbconvert_exporter": "python",
   "pygments_lexer": "ipython3",
   "version": "3.12.7"
  }
 },
 "nbformat": 4,
 "nbformat_minor": 5
}
