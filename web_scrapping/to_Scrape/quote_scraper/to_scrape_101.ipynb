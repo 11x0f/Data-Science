{
 "cells": [
  {
   "cell_type": "markdown",
   "id": "0e5c36db-e4d1-4195-8c6c-825c9c409757",
   "metadata": {},
   "source": [
    "# Scrape Quotes"
   ]
  },
  {
   "cell_type": "code",
   "execution_count": 8,
   "id": "6ea108c9-d6de-4702-8b89-0b68087f1274",
   "metadata": {},
   "outputs": [],
   "source": [
    "\n",
    "import requests"
   ]
  },
  {
   "cell_type": "code",
   "execution_count": 2,
   "id": "fb37f88a-b5db-433f-bf0d-ffeffda6c8bf",
   "metadata": {},
   "outputs": [],
   "source": [
    "link = \"https://quotes.toscrape.com\""
   ]
  },
  {
   "cell_type": "code",
   "execution_count": 4,
   "id": "72881246-0803-4991-bb9a-6f58fa13034e",
   "metadata": {},
   "outputs": [
    {
     "data": {
      "text/plain": [
       "'https://quotes.toscrape.com'"
      ]
     },
     "execution_count": 4,
     "metadata": {},
     "output_type": "execute_result"
    }
   ],
   "source": [
    "link"
   ]
  },
  {
   "cell_type": "code",
   "execution_count": 12,
   "id": "6d4274d4-1abc-41d4-9301-b201268142d0",
   "metadata": {},
   "outputs": [],
   "source": [
    "res = requests.get(link)"
   ]
  },
  {
   "cell_type": "raw",
   "id": "2eb377fb-b58e-4af6-9628-9c80528eb4a0",
   "metadata": {},
   "source": [
    "HTTPS code\n",
    "200 - sucess "
   ]
  },
  {
   "cell_type": "code",
   "execution_count": 18,
   "id": "1ac6cecf-0cc9-445e-a432-e3dd00bfacf7",
   "metadata": {},
   "outputs": [],
   "source": [
    "html = res.text"
   ]
  },
  {
   "cell_type": "code",
   "execution_count": 28,
   "id": "0a539709-23ac-4773-bdbd-b9af406789d8",
   "metadata": {},
   "outputs": [
    {
     "data": {
      "text/plain": [
       "str"
      ]
     },
     "execution_count": 28,
     "metadata": {},
     "output_type": "execute_result"
    }
   ],
   "source": [
    "type(html)"
   ]
  },
  {
   "cell_type": "code",
   "execution_count": 30,
   "id": "8d9aa256-cdd4-42d0-8a8a-a41e5811c805",
   "metadata": {},
   "outputs": [
    {
     "data": {
      "text/plain": [
       "11021"
      ]
     },
     "execution_count": 30,
     "metadata": {},
     "output_type": "execute_result"
    }
   ],
   "source": [
    "fd = open(\"main.html\", \"w\")\n",
    "fd.write(html)"
   ]
  },
  {
   "cell_type": "code",
   "execution_count": null,
   "id": "2a4e35b6-51b5-4064-9d44-30c408955dfd",
   "metadata": {},
   "outputs": [],
   "source": []
  }
 ],
 "metadata": {
  "kernelspec": {
   "display_name": "Python [conda env:base] *",
   "language": "python",
   "name": "conda-base-py"
  },
  "language_info": {
   "codemirror_mode": {
    "name": "ipython",
    "version": 3
   },
   "file_extension": ".py",
   "mimetype": "text/x-python",
   "name": "python",
   "nbconvert_exporter": "python",
   "pygments_lexer": "ipython3",
   "version": "3.12.7"
  }
 },
 "nbformat": 4,
 "nbformat_minor": 5
}
