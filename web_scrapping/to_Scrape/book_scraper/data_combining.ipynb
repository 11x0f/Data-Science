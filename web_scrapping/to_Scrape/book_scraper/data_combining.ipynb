{
 "cells": [
  {
   "cell_type": "code",
   "execution_count": 2,
   "id": "5d4155ce-e289-40c3-8d7e-37dfa1daa92b",
   "metadata": {},
   "outputs": [],
   "source": [
    "import pandas as pd"
   ]
  },
  {
   "cell_type": "code",
   "execution_count": 4,
   "id": "27f17778-0f2a-412b-a7af-c9a527198c66",
   "metadata": {},
   "outputs": [],
   "source": [
    "df1 = pd.read_csv(\"Book_Data.csv\")\n",
    "df2 = pd.read_csv(\"data.csv\")"
   ]
  },
  {
   "cell_type": "code",
   "execution_count": 10,
   "id": "5834216a-968d-417f-8f76-5dec3cefa651",
   "metadata": {},
   "outputs": [
    {
     "data": {
      "text/html": [
       "<div>\n",
       "<style scoped>\n",
       "    .dataframe tbody tr th:only-of-type {\n",
       "        vertical-align: middle;\n",
       "    }\n",
       "\n",
       "    .dataframe tbody tr th {\n",
       "        vertical-align: top;\n",
       "    }\n",
       "\n",
       "    .dataframe thead th {\n",
       "        text-align: right;\n",
       "    }\n",
       "</style>\n",
       "<table border=\"1\" class=\"dataframe\">\n",
       "  <thead>\n",
       "    <tr style=\"text-align: right;\">\n",
       "      <th></th>\n",
       "      <th>Unnamed: 0</th>\n",
       "      <th>title</th>\n",
       "      <th>book_link</th>\n",
       "      <th>img_link</th>\n",
       "      <th>rating</th>\n",
       "      <th>price</th>\n",
       "      <th>availability</th>\n",
       "    </tr>\n",
       "  </thead>\n",
       "  <tbody>\n",
       "    <tr>\n",
       "      <th>0</th>\n",
       "      <td>0</td>\n",
       "      <td>A Light in the Attic</td>\n",
       "      <td>https://books.toscrape.com/catalogue/a-light-i...</td>\n",
       "      <td>https://books.toscrape.com/../media/cache/2c/d...</td>\n",
       "      <td>3</td>\n",
       "      <td>£51.77</td>\n",
       "      <td>True</td>\n",
       "    </tr>\n",
       "    <tr>\n",
       "      <th>1</th>\n",
       "      <td>1</td>\n",
       "      <td>Tipping the Velvet</td>\n",
       "      <td>https://books.toscrape.com/catalogue/tipping-t...</td>\n",
       "      <td>https://books.toscrape.com/../media/cache/26/0...</td>\n",
       "      <td>1</td>\n",
       "      <td>£53.74</td>\n",
       "      <td>True</td>\n",
       "    </tr>\n",
       "  </tbody>\n",
       "</table>\n",
       "</div>"
      ],
      "text/plain": [
       "   Unnamed: 0                 title  \\\n",
       "0           0  A Light in the Attic   \n",
       "1           1    Tipping the Velvet   \n",
       "\n",
       "                                           book_link  \\\n",
       "0  https://books.toscrape.com/catalogue/a-light-i...   \n",
       "1  https://books.toscrape.com/catalogue/tipping-t...   \n",
       "\n",
       "                                            img_link  rating   price  \\\n",
       "0  https://books.toscrape.com/../media/cache/2c/d...       3  £51.77   \n",
       "1  https://books.toscrape.com/../media/cache/26/0...       1  £53.74   \n",
       "\n",
       "   availability  \n",
       "0          True  \n",
       "1          True  "
      ]
     },
     "execution_count": 10,
     "metadata": {},
     "output_type": "execute_result"
    }
   ],
   "source": [
    "df1.head(2)"
   ]
  },
  {
   "cell_type": "code",
   "execution_count": 12,
   "id": "aeb05b70-51d0-4d2a-9491-7853ee2f4ed4",
   "metadata": {},
   "outputs": [
    {
     "data": {
      "text/html": [
       "<div>\n",
       "<style scoped>\n",
       "    .dataframe tbody tr th:only-of-type {\n",
       "        vertical-align: middle;\n",
       "    }\n",
       "\n",
       "    .dataframe tbody tr th {\n",
       "        vertical-align: top;\n",
       "    }\n",
       "\n",
       "    .dataframe thead th {\n",
       "        text-align: right;\n",
       "    }\n",
       "</style>\n",
       "<table border=\"1\" class=\"dataframe\">\n",
       "  <thead>\n",
       "    <tr style=\"text-align: right;\">\n",
       "      <th></th>\n",
       "      <th>book category</th>\n",
       "      <th>UPC</th>\n",
       "      <th>price (exc tax)</th>\n",
       "      <th>price (inc tax)</th>\n",
       "      <th>tax</th>\n",
       "      <th>quantity</th>\n",
       "      <th>reviews</th>\n",
       "    </tr>\n",
       "  </thead>\n",
       "  <tbody>\n",
       "    <tr>\n",
       "      <th>0</th>\n",
       "      <td>Poetry</td>\n",
       "      <td>a897fe39b1053632</td>\n",
       "      <td>£51.77</td>\n",
       "      <td>£51.77</td>\n",
       "      <td>£0.00</td>\n",
       "      <td>In stock (22 available)</td>\n",
       "      <td>0</td>\n",
       "    </tr>\n",
       "    <tr>\n",
       "      <th>1</th>\n",
       "      <td>Historical Fiction</td>\n",
       "      <td>90fa61229261140a</td>\n",
       "      <td>£53.74</td>\n",
       "      <td>£53.74</td>\n",
       "      <td>£0.00</td>\n",
       "      <td>In stock (20 available)</td>\n",
       "      <td>0</td>\n",
       "    </tr>\n",
       "  </tbody>\n",
       "</table>\n",
       "</div>"
      ],
      "text/plain": [
       "        book category               UPC price (exc tax) price (inc tax)  \\\n",
       "0              Poetry  a897fe39b1053632          £51.77          £51.77   \n",
       "1  Historical Fiction  90fa61229261140a          £53.74          £53.74   \n",
       "\n",
       "     tax                 quantity  reviews  \n",
       "0  £0.00  In stock (22 available)        0  \n",
       "1  £0.00  In stock (20 available)        0  "
      ]
     },
     "execution_count": 12,
     "metadata": {},
     "output_type": "execute_result"
    }
   ],
   "source": [
    "df2.head(2)"
   ]
  },
  {
   "cell_type": "code",
   "execution_count": 14,
   "id": "a54c6c2c-116b-436a-af0f-d51a9aff8752",
   "metadata": {},
   "outputs": [],
   "source": [
    "df = pd.DataFrame()"
   ]
  },
  {
   "cell_type": "markdown",
   "id": "9f918a9f-8170-4c58-8e07-50de1c8114ff",
   "metadata": {},
   "source": [
    "### Adding title"
   ]
  },
  {
   "cell_type": "code",
   "execution_count": 44,
   "id": "3340c05a-24c8-43b8-9e91-bb68784d8bbf",
   "metadata": {},
   "outputs": [],
   "source": [
    "df[\"title\"] = df1[\"title\"]\n",
    "df[\"category\"] = df2[\"book category\"]\n",
    "df[\"price (exc tax)\"] = df2[\"price (exc tax)\"]\n",
    "df[\"price (inc tax)\"] = df2[\"price (inc tax)\"]\n",
    "df[\"tax\"] = df2[\"tax\"]\n",
    "df[\"rating\"] = df1[\"rating\"]\n",
    "df[\"reviews\"] = df2[\"reviews\"]\n",
    "df[\"UPC\"] = df2[\"UPC\"]\n",
    "df[\"quantity\"] = df2[\"quantity\"]\n",
    "df[\"availability\"] = df1[\"availability\"]\n",
    "df[\"book link\"] = df1[\"book_link\"]\n",
    "df[\"image link\"] = df1[\"img_link\"]"
   ]
  },
  {
   "cell_type": "code",
   "execution_count": 48,
   "id": "88d22278-2050-4615-aed2-c269d4a1a3b5",
   "metadata": {},
   "outputs": [
    {
     "data": {
      "text/html": [
       "<div>\n",
       "<style scoped>\n",
       "    .dataframe tbody tr th:only-of-type {\n",
       "        vertical-align: middle;\n",
       "    }\n",
       "\n",
       "    .dataframe tbody tr th {\n",
       "        vertical-align: top;\n",
       "    }\n",
       "\n",
       "    .dataframe thead th {\n",
       "        text-align: right;\n",
       "    }\n",
       "</style>\n",
       "<table border=\"1\" class=\"dataframe\">\n",
       "  <thead>\n",
       "    <tr style=\"text-align: right;\">\n",
       "      <th></th>\n",
       "      <th>title</th>\n",
       "      <th>category</th>\n",
       "      <th>price (exc tax)</th>\n",
       "      <th>price (inc tax)</th>\n",
       "      <th>tax</th>\n",
       "      <th>rating</th>\n",
       "      <th>reviews</th>\n",
       "      <th>UPC</th>\n",
       "      <th>quantity</th>\n",
       "      <th>availability</th>\n",
       "      <th>book link</th>\n",
       "      <th>image link</th>\n",
       "    </tr>\n",
       "  </thead>\n",
       "  <tbody>\n",
       "    <tr>\n",
       "      <th>0</th>\n",
       "      <td>A Light in the Attic</td>\n",
       "      <td>Poetry</td>\n",
       "      <td>£51.77</td>\n",
       "      <td>£51.77</td>\n",
       "      <td>£0.00</td>\n",
       "      <td>3</td>\n",
       "      <td>0</td>\n",
       "      <td>a897fe39b1053632</td>\n",
       "      <td>In stock (22 available)</td>\n",
       "      <td>True</td>\n",
       "      <td>https://books.toscrape.com/catalogue/a-light-i...</td>\n",
       "      <td>https://books.toscrape.com/../media/cache/2c/d...</td>\n",
       "    </tr>\n",
       "    <tr>\n",
       "      <th>1</th>\n",
       "      <td>Tipping the Velvet</td>\n",
       "      <td>Historical Fiction</td>\n",
       "      <td>£53.74</td>\n",
       "      <td>£53.74</td>\n",
       "      <td>£0.00</td>\n",
       "      <td>1</td>\n",
       "      <td>0</td>\n",
       "      <td>90fa61229261140a</td>\n",
       "      <td>In stock (20 available)</td>\n",
       "      <td>True</td>\n",
       "      <td>https://books.toscrape.com/catalogue/tipping-t...</td>\n",
       "      <td>https://books.toscrape.com/../media/cache/26/0...</td>\n",
       "    </tr>\n",
       "  </tbody>\n",
       "</table>\n",
       "</div>"
      ],
      "text/plain": [
       "                  title            category price (exc tax) price (inc tax)  \\\n",
       "0  A Light in the Attic              Poetry          £51.77          £51.77   \n",
       "1    Tipping the Velvet  Historical Fiction          £53.74          £53.74   \n",
       "\n",
       "     tax  rating  reviews               UPC                 quantity  \\\n",
       "0  £0.00       3        0  a897fe39b1053632  In stock (22 available)   \n",
       "1  £0.00       1        0  90fa61229261140a  In stock (20 available)   \n",
       "\n",
       "   availability                                          book link  \\\n",
       "0          True  https://books.toscrape.com/catalogue/a-light-i...   \n",
       "1          True  https://books.toscrape.com/catalogue/tipping-t...   \n",
       "\n",
       "                                          image link  \n",
       "0  https://books.toscrape.com/../media/cache/2c/d...  \n",
       "1  https://books.toscrape.com/../media/cache/26/0...  "
      ]
     },
     "execution_count": 48,
     "metadata": {},
     "output_type": "execute_result"
    }
   ],
   "source": [
    "df.head(2)"
   ]
  },
  {
   "cell_type": "code",
   "execution_count": 50,
   "id": "a9e35427-a86c-44e1-8fdd-1abad8698c2f",
   "metadata": {},
   "outputs": [
    {
     "data": {
      "text/plain": [
       "title              0\n",
       "category           0\n",
       "price (exc tax)    0\n",
       "price (inc tax)    0\n",
       "tax                0\n",
       "rating             0\n",
       "reviews            0\n",
       "UPC                0\n",
       "quantity           0\n",
       "availability       0\n",
       "book link          0\n",
       "image link         0\n",
       "dtype: int64"
      ]
     },
     "execution_count": 50,
     "metadata": {},
     "output_type": "execute_result"
    }
   ],
   "source": [
    "df.isnull().sum()"
   ]
  },
  {
   "cell_type": "code",
   "execution_count": 54,
   "id": "aa35c519-b6bb-45c5-8200-1285bd3be999",
   "metadata": {},
   "outputs": [
    {
     "name": "stdout",
     "output_type": "stream",
     "text": [
      "<class 'pandas.core.frame.DataFrame'>\n",
      "RangeIndex: 1000 entries, 0 to 999\n",
      "Data columns (total 12 columns):\n",
      " #   Column           Non-Null Count  Dtype \n",
      "---  ------           --------------  ----- \n",
      " 0   title            1000 non-null   object\n",
      " 1   category         1000 non-null   object\n",
      " 2   price (exc tax)  1000 non-null   object\n",
      " 3   price (inc tax)  1000 non-null   object\n",
      " 4   tax              1000 non-null   object\n",
      " 5   rating           1000 non-null   int64 \n",
      " 6   reviews          1000 non-null   int64 \n",
      " 7   UPC              1000 non-null   object\n",
      " 8   quantity         1000 non-null   object\n",
      " 9   availability     1000 non-null   bool  \n",
      " 10  book link        1000 non-null   object\n",
      " 11  image link       1000 non-null   object\n",
      "dtypes: bool(1), int64(2), object(9)\n",
      "memory usage: 87.0+ KB\n"
     ]
    }
   ],
   "source": [
    "df.info()"
   ]
  },
  {
   "cell_type": "code",
   "execution_count": 56,
   "id": "ad787a10-a45e-453d-9723-15ac919c57ab",
   "metadata": {},
   "outputs": [],
   "source": [
    "df.to_csv(\"Books.csv\")"
   ]
  },
  {
   "cell_type": "code",
   "execution_count": null,
   "id": "5c24af73-7aac-4a12-9474-264226906f0d",
   "metadata": {},
   "outputs": [],
   "source": []
  }
 ],
 "metadata": {
  "kernelspec": {
   "display_name": "Python [conda env:base] *",
   "language": "python",
   "name": "conda-base-py"
  },
  "language_info": {
   "codemirror_mode": {
    "name": "ipython",
    "version": 3
   },
   "file_extension": ".py",
   "mimetype": "text/x-python",
   "name": "python",
   "nbconvert_exporter": "python",
   "pygments_lexer": "ipython3",
   "version": "3.12.7"
  }
 },
 "nbformat": 4,
 "nbformat_minor": 5
}
