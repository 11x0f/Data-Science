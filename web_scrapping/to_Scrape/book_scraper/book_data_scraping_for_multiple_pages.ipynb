{
 "cells": [
  {
   "cell_type": "code",
   "execution_count": 1,
   "id": "3fd1a0b7-f3fc-4f4d-911f-ded7a8cf5ccc",
   "metadata": {},
   "outputs": [],
   "source": [
    "import requests\n",
    "from bs4 import BeautifulSoup\n",
    "from tqdm import tqdm\n",
    "import pandas as pd\n",
    "from word2number import w2n"
   ]
  },
  {
   "cell_type": "code",
   "execution_count": 3,
   "id": "dace679e-287d-41bf-b9e9-58519cb05bc4",
   "metadata": {},
   "outputs": [],
   "source": [
    "link = \"https://books.toscrape.com/catalogue/page-1.html\"\n",
    "origin = \"https://books.toscrape.com/\""
   ]
  },
  {
   "cell_type": "code",
   "execution_count": 17,
   "id": "a9c3b65e-7bb4-4de1-a60a-cd3264d9d82f",
   "metadata": {},
   "outputs": [
    {
     "name": "stderr",
     "output_type": "stream",
     "text": [
      "100%|██████████████████████████████████████████████████████████████████████████████████| 50/50 [01:04<00:00,  1.28s/it]\n"
     ]
    }
   ],
   "source": [
    "data = []\n",
    "for page in tqdm(range(1, 51)):\n",
    "    link = \"https://books.toscrape.com/catalogue/page-\"+str(page)+\".html\"\n",
    "    res = requests.get(link)\n",
    "    soup = BeautifulSoup(res.text, \"html.parser\")\n",
    "\n",
    "    for sp in soup.find_all(\"li\", class_ = \"col-xs-6 col-sm-4 col-md-3 col-lg-3\"):\n",
    "        book_link = origin + \"catalogue/\"+ sp.find_all(\"a\")[-1].get(\"href\")\n",
    "        title = sp.find_all(\"a\")[-1].get(\"title\")\n",
    "        img_link = origin +sp.find(\"img\").get(\"src\")\n",
    "        rating = sp.find(\"p\").get(\"class\")[-1]\n",
    "        rating = w2n.word_to_num(rating)\n",
    "        price = sp.find(\"p\", class_ = \"price_color\").text[1:]\n",
    "        availability = sp.find(\"p\", class_=\"instock availability\").text.strip()\n",
    "        if availability == \"In stock\":\n",
    "            availability = True\n",
    "        else : availability = False\n",
    "    \n",
    "        data.append([title, book_link, img_link, rating, price, availability])"
   ]
  },
  {
   "cell_type": "code",
   "execution_count": 13,
   "id": "299ddc79-34b1-4022-b85b-5f55a8757753",
   "metadata": {},
   "outputs": [],
   "source": [
    "data = pd.DataFrame(data , columns = [\"title\", \"book_link\", \"img_link\", \"rating\", \"price\", \"availability\"])"
   ]
  },
  {
   "cell_type": "code",
   "execution_count": 15,
   "id": "520384da-3548-4212-a356-719714265010",
   "metadata": {},
   "outputs": [],
   "source": [
    "data.to_csv(\"Book_Data.csv\")"
   ]
  },
  {
   "cell_type": "code",
   "execution_count": null,
   "id": "05f1bc50-0d66-41fe-8aec-2b02e74c76d4",
   "metadata": {},
   "outputs": [],
   "source": []
  }
 ],
 "metadata": {
  "kernelspec": {
   "display_name": "Python [conda env:base] *",
   "language": "python",
   "name": "conda-base-py"
  },
  "language_info": {
   "codemirror_mode": {
    "name": "ipython",
    "version": 3
   },
   "file_extension": ".py",
   "mimetype": "text/x-python",
   "name": "python",
   "nbconvert_exporter": "python",
   "pygments_lexer": "ipython3",
   "version": "3.12.7"
  }
 },
 "nbformat": 4,
 "nbformat_minor": 5
}
