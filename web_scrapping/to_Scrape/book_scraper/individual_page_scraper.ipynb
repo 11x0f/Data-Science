{
 "cells": [
  {
   "cell_type": "code",
   "execution_count": 62,
   "id": "5d06e211-2780-4167-adb8-b8e2fbadacbc",
   "metadata": {},
   "outputs": [],
   "source": [
    "import pandas as pd\n",
    "import requests\n",
    "from bs4 import BeautifulSoup\n",
    "from tqdm import tqdm\n",
    "from word2number import w2n"
   ]
  },
  {
   "cell_type": "code",
   "execution_count": 85,
   "id": "5681db20-4d8c-47c2-a467-27b7004898fa",
   "metadata": {},
   "outputs": [
    {
     "data": {
      "text/html": [
       "<div>\n",
       "<style scoped>\n",
       "    .dataframe tbody tr th:only-of-type {\n",
       "        vertical-align: middle;\n",
       "    }\n",
       "\n",
       "    .dataframe tbody tr th {\n",
       "        vertical-align: top;\n",
       "    }\n",
       "\n",
       "    .dataframe thead th {\n",
       "        text-align: right;\n",
       "    }\n",
       "</style>\n",
       "<table border=\"1\" class=\"dataframe\">\n",
       "  <thead>\n",
       "    <tr style=\"text-align: right;\">\n",
       "      <th></th>\n",
       "      <th>book category</th>\n",
       "      <th>UPC</th>\n",
       "      <th>price (exc tax)</th>\n",
       "      <th>price (inc tax)</th>\n",
       "      <th>tax</th>\n",
       "      <th>quantity</th>\n",
       "      <th>reviews</th>\n",
       "    </tr>\n",
       "  </thead>\n",
       "  <tbody>\n",
       "    <tr>\n",
       "      <th>0</th>\n",
       "      <td>Poetry</td>\n",
       "      <td>a897fe39b1053632</td>\n",
       "      <td>£51.77</td>\n",
       "      <td>£51.77</td>\n",
       "      <td>£0.00</td>\n",
       "      <td>In stock (22 available)</td>\n",
       "      <td>0</td>\n",
       "    </tr>\n",
       "    <tr>\n",
       "      <th>1</th>\n",
       "      <td>Historical Fiction</td>\n",
       "      <td>90fa61229261140a</td>\n",
       "      <td>£53.74</td>\n",
       "      <td>£53.74</td>\n",
       "      <td>£0.00</td>\n",
       "      <td>In stock (20 available)</td>\n",
       "      <td>0</td>\n",
       "    </tr>\n",
       "    <tr>\n",
       "      <th>2</th>\n",
       "      <td>Fiction</td>\n",
       "      <td>6957f44c3847a760</td>\n",
       "      <td>£50.10</td>\n",
       "      <td>£50.10</td>\n",
       "      <td>£0.00</td>\n",
       "      <td>In stock (20 available)</td>\n",
       "      <td>0</td>\n",
       "    </tr>\n",
       "    <tr>\n",
       "      <th>3</th>\n",
       "      <td>Mystery</td>\n",
       "      <td>e00eb4fd7b871a48</td>\n",
       "      <td>£47.82</td>\n",
       "      <td>£47.82</td>\n",
       "      <td>£0.00</td>\n",
       "      <td>In stock (20 available)</td>\n",
       "      <td>0</td>\n",
       "    </tr>\n",
       "    <tr>\n",
       "      <th>4</th>\n",
       "      <td>History</td>\n",
       "      <td>4165285e1663650f</td>\n",
       "      <td>£54.23</td>\n",
       "      <td>£54.23</td>\n",
       "      <td>£0.00</td>\n",
       "      <td>In stock (20 available)</td>\n",
       "      <td>0</td>\n",
       "    </tr>\n",
       "  </tbody>\n",
       "</table>\n",
       "</div>"
      ],
      "text/plain": [
       "        book category               UPC price (exc tax) price (inc tax)  \\\n",
       "0              Poetry  a897fe39b1053632          £51.77          £51.77   \n",
       "1  Historical Fiction  90fa61229261140a          £53.74          £53.74   \n",
       "2             Fiction  6957f44c3847a760          £50.10          £50.10   \n",
       "3             Mystery  e00eb4fd7b871a48          £47.82          £47.82   \n",
       "4             History  4165285e1663650f          £54.23          £54.23   \n",
       "\n",
       "     tax                 quantity reviews  \n",
       "0  £0.00  In stock (22 available)       0  \n",
       "1  £0.00  In stock (20 available)       0  \n",
       "2  £0.00  In stock (20 available)       0  \n",
       "3  £0.00  In stock (20 available)       0  \n",
       "4  £0.00  In stock (20 available)       0  "
      ]
     },
     "execution_count": 85,
     "metadata": {},
     "output_type": "execute_result"
    }
   ],
   "source": [
    "df1 = pd.read_csv(\"Book_Data.csv\")\n",
    "df.head()"
   ]
  },
  {
   "cell_type": "code",
   "execution_count": 8,
   "id": "bc3eee87-99f1-4497-a524-6df5ee493a2b",
   "metadata": {},
   "outputs": [
    {
     "data": {
      "text/plain": [
       "0      https://books.toscrape.com/catalogue/a-light-i...\n",
       "1      https://books.toscrape.com/catalogue/tipping-t...\n",
       "2      https://books.toscrape.com/catalogue/soumissio...\n",
       "3      https://books.toscrape.com/catalogue/sharp-obj...\n",
       "4      https://books.toscrape.com/catalogue/sapiens-a...\n",
       "                             ...                        \n",
       "995    https://books.toscrape.com/catalogue/alice-in-...\n",
       "996    https://books.toscrape.com/catalogue/ajin-demi...\n",
       "997    https://books.toscrape.com/catalogue/a-spys-de...\n",
       "998    https://books.toscrape.com/catalogue/1st-to-di...\n",
       "999    https://books.toscrape.com/catalogue/1000-plac...\n",
       "Name: book_link, Length: 1000, dtype: object"
      ]
     },
     "execution_count": 8,
     "metadata": {},
     "output_type": "execute_result"
    }
   ],
   "source": [
    "df[\"book_link\"]"
   ]
  },
  {
   "cell_type": "markdown",
   "id": "dac015d1-5599-4b3e-875d-4e1d7fcdc561",
   "metadata": {},
   "source": [
    "# Approach : 1"
   ]
  },
  {
   "cell_type": "code",
   "execution_count": 67,
   "id": "b0c225e9-fca4-4c4e-bfb2-0bc437a5c323",
   "metadata": {
    "scrolled": true
   },
   "outputs": [
    {
     "name": "stderr",
     "output_type": "stream",
     "text": [
      "  0%|                                                                                         | 0/1000 [00:00<?, ?it/s]"
     ]
    },
    {
     "name": "stdout",
     "output_type": "stream",
     "text": [
      "https://books.toscrape.com/catalogue/a-light-in-the-attic_1000/index.html\n"
     ]
    },
    {
     "name": "stderr",
     "output_type": "stream",
     "text": [
      "  0%|                                                                                 | 1/1000 [00:01<19:09,  1.15s/it]"
     ]
    },
    {
     "name": "stdout",
     "output_type": "stream",
     "text": [
      "https://books.toscrape.com/catalogue/tipping-the-velvet_999/index.html\n"
     ]
    },
    {
     "name": "stderr",
     "output_type": "stream",
     "text": [
      "  0%|▏                                                                                | 2/1000 [00:02<16:55,  1.02s/it]"
     ]
    },
    {
     "name": "stdout",
     "output_type": "stream",
     "text": [
      "https://books.toscrape.com/catalogue/soumission_998/index.html\n"
     ]
    },
    {
     "name": "stderr",
     "output_type": "stream",
     "text": [
      "  0%|▏                                                                                | 3/1000 [00:02<16:06,  1.03it/s]"
     ]
    },
    {
     "name": "stdout",
     "output_type": "stream",
     "text": [
      "https://books.toscrape.com/catalogue/sharp-objects_997/index.html\n"
     ]
    },
    {
     "name": "stderr",
     "output_type": "stream",
     "text": [
      "  0%|▎                                                                                | 4/1000 [00:03<15:51,  1.05it/s]"
     ]
    },
    {
     "name": "stdout",
     "output_type": "stream",
     "text": [
      "https://books.toscrape.com/catalogue/sapiens-a-brief-history-of-humankind_996/index.html\n"
     ]
    },
    {
     "name": "stderr",
     "output_type": "stream",
     "text": [
      "  0%|▍                                                                                | 5/1000 [00:04<15:39,  1.06it/s]"
     ]
    },
    {
     "name": "stdout",
     "output_type": "stream",
     "text": [
      "https://books.toscrape.com/catalogue/the-requiem-red_995/index.html\n"
     ]
    },
    {
     "name": "stderr",
     "output_type": "stream",
     "text": [
      "  1%|▍                                                                                | 6/1000 [00:05<15:36,  1.06it/s]"
     ]
    },
    {
     "name": "stdout",
     "output_type": "stream",
     "text": [
      "https://books.toscrape.com/catalogue/the-dirty-little-secrets-of-getting-your-dream-job_994/index.html\n"
     ]
    },
    {
     "name": "stderr",
     "output_type": "stream",
     "text": [
      "  1%|▌                                                                                | 7/1000 [00:06<15:11,  1.09it/s]"
     ]
    },
    {
     "name": "stdout",
     "output_type": "stream",
     "text": [
      "https://books.toscrape.com/catalogue/the-coming-woman-a-novel-based-on-the-life-of-the-infamous-feminist-victoria-woodhull_993/index.html\n"
     ]
    },
    {
     "name": "stderr",
     "output_type": "stream",
     "text": [
      "  1%|▋                                                                                | 8/1000 [00:07<16:12,  1.02it/s]"
     ]
    },
    {
     "name": "stdout",
     "output_type": "stream",
     "text": [
      "https://books.toscrape.com/catalogue/the-boys-in-the-boat-nine-americans-and-their-epic-quest-for-gold-at-the-1936-berlin-olympics_992/index.html\n"
     ]
    },
    {
     "name": "stderr",
     "output_type": "stream",
     "text": [
      "  1%|▋                                                                                | 9/1000 [00:09<17:35,  1.07s/it]"
     ]
    },
    {
     "name": "stdout",
     "output_type": "stream",
     "text": [
      "https://books.toscrape.com/catalogue/the-black-maria_991/index.html\n"
     ]
    },
    {
     "name": "stderr",
     "output_type": "stream",
     "text": [
      "  1%|▊                                                                               | 10/1000 [00:10<18:35,  1.13s/it]"
     ]
    },
    {
     "name": "stdout",
     "output_type": "stream",
     "text": [
      "https://books.toscrape.com/catalogue/starving-hearts-triangular-trade-trilogy-1_990/index.html\n"
     ]
    },
    {
     "name": "stderr",
     "output_type": "stream",
     "text": [
      "  1%|▉                                                                               | 11/1000 [00:11<17:28,  1.06s/it]"
     ]
    },
    {
     "name": "stdout",
     "output_type": "stream",
     "text": [
      "https://books.toscrape.com/catalogue/shakespeares-sonnets_989/index.html\n"
     ]
    },
    {
     "name": "stderr",
     "output_type": "stream",
     "text": [
      "  1%|▉                                                                               | 12/1000 [00:12<16:52,  1.02s/it]"
     ]
    },
    {
     "name": "stdout",
     "output_type": "stream",
     "text": [
      "https://books.toscrape.com/catalogue/set-me-free_988/index.html\n"
     ]
    },
    {
     "name": "stderr",
     "output_type": "stream",
     "text": [
      "  1%|█                                                                               | 13/1000 [00:13<16:14,  1.01it/s]"
     ]
    },
    {
     "name": "stdout",
     "output_type": "stream",
     "text": [
      "https://books.toscrape.com/catalogue/scott-pilgrims-precious-little-life-scott-pilgrim-1_987/index.html\n"
     ]
    },
    {
     "name": "stderr",
     "output_type": "stream",
     "text": [
      "  1%|█                                                                               | 14/1000 [00:13<15:34,  1.06it/s]"
     ]
    },
    {
     "name": "stdout",
     "output_type": "stream",
     "text": [
      "https://books.toscrape.com/catalogue/rip-it-up-and-start-again_986/index.html\n"
     ]
    },
    {
     "name": "stderr",
     "output_type": "stream",
     "text": [
      "  2%|█▏                                                                              | 15/1000 [00:14<15:12,  1.08it/s]"
     ]
    },
    {
     "name": "stdout",
     "output_type": "stream",
     "text": [
      "https://books.toscrape.com/catalogue/our-band-could-be-your-life-scenes-from-the-american-indie-underground-1981-1991_985/index.html\n"
     ]
    },
    {
     "name": "stderr",
     "output_type": "stream",
     "text": [
      "  2%|█▎                                                                              | 16/1000 [00:15<15:12,  1.08it/s]"
     ]
    },
    {
     "name": "stdout",
     "output_type": "stream",
     "text": [
      "https://books.toscrape.com/catalogue/olio_984/index.html\n"
     ]
    },
    {
     "name": "stderr",
     "output_type": "stream",
     "text": [
      "  2%|█▎                                                                              | 17/1000 [00:16<15:09,  1.08it/s]"
     ]
    },
    {
     "name": "stdout",
     "output_type": "stream",
     "text": [
      "https://books.toscrape.com/catalogue/mesaerion-the-best-science-fiction-stories-1800-1849_983/index.html\n"
     ]
    },
    {
     "name": "stderr",
     "output_type": "stream",
     "text": [
      "  2%|█▍                                                                              | 18/1000 [00:17<15:16,  1.07it/s]"
     ]
    },
    {
     "name": "stdout",
     "output_type": "stream",
     "text": [
      "https://books.toscrape.com/catalogue/libertarianism-for-beginners_982/index.html\n"
     ]
    },
    {
     "name": "stderr",
     "output_type": "stream",
     "text": [
      "  2%|█▌                                                                              | 19/1000 [00:18<15:03,  1.09it/s]"
     ]
    },
    {
     "name": "stdout",
     "output_type": "stream",
     "text": [
      "https://books.toscrape.com/catalogue/its-only-the-himalayas_981/index.html\n"
     ]
    },
    {
     "name": "stderr",
     "output_type": "stream",
     "text": [
      "  2%|█▌                                                                              | 20/1000 [00:19<15:03,  1.08it/s]"
     ]
    },
    {
     "name": "stdout",
     "output_type": "stream",
     "text": [
      "https://books.toscrape.com/catalogue/in-her-wake_980/index.html\n"
     ]
    },
    {
     "name": "stderr",
     "output_type": "stream",
     "text": [
      "  2%|█▋                                                                              | 21/1000 [00:20<15:05,  1.08it/s]"
     ]
    },
    {
     "name": "stdout",
     "output_type": "stream",
     "text": [
      "https://books.toscrape.com/catalogue/how-music-works_979/index.html\n"
     ]
    },
    {
     "name": "stderr",
     "output_type": "stream",
     "text": [
      "  2%|█▊                                                                              | 22/1000 [00:21<15:10,  1.07it/s]"
     ]
    },
    {
     "name": "stdout",
     "output_type": "stream",
     "text": [
      "https://books.toscrape.com/catalogue/foolproof-preserving-a-guide-to-small-batch-jams-jellies-pickles-condiments-and-more-a-foolproof-guide-to-making-small-batch-jams-jellies-pickles-condiments-and-more_978/index.html\n"
     ]
    },
    {
     "name": "stderr",
     "output_type": "stream",
     "text": [
      "  2%|█▊                                                                              | 23/1000 [00:22<14:47,  1.10it/s]"
     ]
    },
    {
     "name": "stdout",
     "output_type": "stream",
     "text": [
      "https://books.toscrape.com/catalogue/chase-me-paris-nights-2_977/index.html\n"
     ]
    },
    {
     "name": "stderr",
     "output_type": "stream",
     "text": [
      "  2%|█▉                                                                              | 24/1000 [00:23<16:03,  1.01it/s]"
     ]
    },
    {
     "name": "stdout",
     "output_type": "stream",
     "text": [
      "https://books.toscrape.com/catalogue/black-dust_976/index.html\n"
     ]
    },
    {
     "name": "stderr",
     "output_type": "stream",
     "text": [
      "  2%|██                                                                              | 25/1000 [00:24<15:37,  1.04it/s]"
     ]
    },
    {
     "name": "stdout",
     "output_type": "stream",
     "text": [
      "https://books.toscrape.com/catalogue/birdsong-a-story-in-pictures_975/index.html\n"
     ]
    },
    {
     "name": "stderr",
     "output_type": "stream",
     "text": [
      "  3%|██                                                                              | 26/1000 [00:25<15:23,  1.05it/s]"
     ]
    },
    {
     "name": "stdout",
     "output_type": "stream",
     "text": [
      "https://books.toscrape.com/catalogue/americas-cradle-of-quarterbacks-western-pennsylvanias-football-factory-from-johnny-unitas-to-joe-montana_974/index.html\n"
     ]
    },
    {
     "name": "stderr",
     "output_type": "stream",
     "text": [
      "  3%|██▏                                                                             | 27/1000 [00:26<15:23,  1.05it/s]"
     ]
    },
    {
     "name": "stdout",
     "output_type": "stream",
     "text": [
      "https://books.toscrape.com/catalogue/aladdin-and-his-wonderful-lamp_973/index.html\n"
     ]
    },
    {
     "name": "stderr",
     "output_type": "stream",
     "text": [
      "  3%|██▏                                                                             | 28/1000 [00:27<16:36,  1.03s/it]"
     ]
    },
    {
     "name": "stdout",
     "output_type": "stream",
     "text": [
      "https://books.toscrape.com/catalogue/worlds-elsewhere-journeys-around-shakespeares-globe_972/index.html\n"
     ]
    },
    {
     "name": "stderr",
     "output_type": "stream",
     "text": [
      "  3%|██▎                                                                             | 29/1000 [00:28<17:36,  1.09s/it]"
     ]
    },
    {
     "name": "stdout",
     "output_type": "stream",
     "text": [
      "https://books.toscrape.com/catalogue/wall-and-piece_971/index.html\n"
     ]
    },
    {
     "name": "stderr",
     "output_type": "stream",
     "text": [
      "  3%|██▍                                                                             | 30/1000 [00:29<16:47,  1.04s/it]"
     ]
    },
    {
     "name": "stdout",
     "output_type": "stream",
     "text": [
      "https://books.toscrape.com/catalogue/the-four-agreements-a-practical-guide-to-personal-freedom_970/index.html\n"
     ]
    },
    {
     "name": "stderr",
     "output_type": "stream",
     "text": [
      "  3%|██▍                                                                             | 31/1000 [00:30<16:13,  1.00s/it]"
     ]
    },
    {
     "name": "stdout",
     "output_type": "stream",
     "text": [
      "https://books.toscrape.com/catalogue/the-five-love-languages-how-to-express-heartfelt-commitment-to-your-mate_969/index.html\n"
     ]
    },
    {
     "name": "stderr",
     "output_type": "stream",
     "text": [
      "  3%|██▌                                                                             | 32/1000 [00:31<15:49,  1.02it/s]"
     ]
    },
    {
     "name": "stdout",
     "output_type": "stream",
     "text": [
      "https://books.toscrape.com/catalogue/the-elephant-tree_968/index.html\n"
     ]
    },
    {
     "name": "stderr",
     "output_type": "stream",
     "text": [
      "  3%|██▋                                                                             | 33/1000 [00:32<15:59,  1.01it/s]"
     ]
    },
    {
     "name": "stdout",
     "output_type": "stream",
     "text": [
      "https://books.toscrape.com/catalogue/the-bear-and-the-piano_967/index.html\n"
     ]
    },
    {
     "name": "stderr",
     "output_type": "stream",
     "text": [
      "  3%|██▋                                                                             | 34/1000 [00:33<15:42,  1.03it/s]"
     ]
    },
    {
     "name": "stdout",
     "output_type": "stream",
     "text": [
      "https://books.toscrape.com/catalogue/sophies-world_966/index.html\n"
     ]
    },
    {
     "name": "stderr",
     "output_type": "stream",
     "text": [
      "  4%|██▊                                                                             | 35/1000 [00:34<15:24,  1.04it/s]"
     ]
    },
    {
     "name": "stdout",
     "output_type": "stream",
     "text": [
      "https://books.toscrape.com/catalogue/penny-maybe_965/index.html\n"
     ]
    },
    {
     "name": "stderr",
     "output_type": "stream",
     "text": [
      "  4%|██▉                                                                             | 36/1000 [00:35<15:13,  1.06it/s]"
     ]
    },
    {
     "name": "stdout",
     "output_type": "stream",
     "text": [
      "https://books.toscrape.com/catalogue/maude-1883-1993she-grew-up-with-the-country_964/index.html\n"
     ]
    },
    {
     "name": "stderr",
     "output_type": "stream",
     "text": [
      "  4%|██▉                                                                             | 37/1000 [00:35<15:05,  1.06it/s]"
     ]
    },
    {
     "name": "stdout",
     "output_type": "stream",
     "text": [
      "https://books.toscrape.com/catalogue/in-a-dark-dark-wood_963/index.html\n"
     ]
    },
    {
     "name": "stderr",
     "output_type": "stream",
     "text": [
      "  4%|███                                                                             | 38/1000 [00:36<14:34,  1.10it/s]"
     ]
    },
    {
     "name": "stdout",
     "output_type": "stream",
     "text": [
      "https://books.toscrape.com/catalogue/behind-closed-doors_962/index.html\n"
     ]
    },
    {
     "name": "stderr",
     "output_type": "stream",
     "text": [
      "  4%|███                                                                             | 39/1000 [00:37<14:26,  1.11it/s]"
     ]
    },
    {
     "name": "stdout",
     "output_type": "stream",
     "text": [
      "https://books.toscrape.com/catalogue/you-cant-bury-them-all-poems_961/index.html\n"
     ]
    },
    {
     "name": "stderr",
     "output_type": "stream",
     "text": [
      "  4%|███▏                                                                            | 40/1000 [00:38<15:57,  1.00it/s]"
     ]
    },
    {
     "name": "stdout",
     "output_type": "stream",
     "text": [
      "https://books.toscrape.com/catalogue/slow-states-of-collapse-poems_960/index.html\n"
     ]
    },
    {
     "name": "stderr",
     "output_type": "stream",
     "text": [
      "  4%|███▎                                                                            | 41/1000 [00:39<15:37,  1.02it/s]"
     ]
    },
    {
     "name": "stdout",
     "output_type": "stream",
     "text": [
      "https://books.toscrape.com/catalogue/reasons-to-stay-alive_959/index.html\n"
     ]
    },
    {
     "name": "stderr",
     "output_type": "stream",
     "text": [
      "  4%|███▎                                                                            | 42/1000 [00:40<15:18,  1.04it/s]"
     ]
    },
    {
     "name": "stdout",
     "output_type": "stream",
     "text": [
      "https://books.toscrape.com/catalogue/private-paris-private-10_958/index.html\n"
     ]
    },
    {
     "name": "stderr",
     "output_type": "stream",
     "text": [
      "  4%|███▍                                                                            | 43/1000 [00:41<15:13,  1.05it/s]"
     ]
    },
    {
     "name": "stdout",
     "output_type": "stream",
     "text": [
      "https://books.toscrape.com/catalogue/higherselfie-wake-up-your-life-free-your-soul-find-your-tribe_957/index.html\n"
     ]
    },
    {
     "name": "stderr",
     "output_type": "stream",
     "text": [
      "  4%|███▌                                                                            | 44/1000 [00:42<14:56,  1.07it/s]"
     ]
    },
    {
     "name": "stdout",
     "output_type": "stream",
     "text": [
      "https://books.toscrape.com/catalogue/without-borders-wanderlove-1_956/index.html\n"
     ]
    },
    {
     "name": "stderr",
     "output_type": "stream",
     "text": [
      "  4%|███▌                                                                            | 45/1000 [00:43<14:52,  1.07it/s]"
     ]
    },
    {
     "name": "stdout",
     "output_type": "stream",
     "text": [
      "https://books.toscrape.com/catalogue/when-we-collided_955/index.html\n"
     ]
    },
    {
     "name": "stderr",
     "output_type": "stream",
     "text": [
      "  5%|███▋                                                                            | 46/1000 [00:44<14:23,  1.10it/s]"
     ]
    },
    {
     "name": "stdout",
     "output_type": "stream",
     "text": [
      "https://books.toscrape.com/catalogue/we-love-you-charlie-freeman_954/index.html\n"
     ]
    },
    {
     "name": "stderr",
     "output_type": "stream",
     "text": [
      "  5%|███▊                                                                            | 47/1000 [00:45<14:21,  1.11it/s]"
     ]
    },
    {
     "name": "stdout",
     "output_type": "stream",
     "text": [
      "https://books.toscrape.com/catalogue/untitled-collection-sabbath-poems-2014_953/index.html\n"
     ]
    },
    {
     "name": "stderr",
     "output_type": "stream",
     "text": [
      "  5%|███▊                                                                            | 48/1000 [00:46<14:31,  1.09it/s]"
     ]
    },
    {
     "name": "stdout",
     "output_type": "stream",
     "text": [
      "https://books.toscrape.com/catalogue/unseen-city-the-majesty-of-pigeons-the-discreet-charm-of-snails-other-wonders-of-the-urban-wilderness_952/index.html\n"
     ]
    },
    {
     "name": "stderr",
     "output_type": "stream",
     "text": [
      "  5%|███▉                                                                            | 49/1000 [00:47<14:27,  1.10it/s]"
     ]
    },
    {
     "name": "stdout",
     "output_type": "stream",
     "text": [
      "https://books.toscrape.com/catalogue/unicorn-tracks_951/index.html\n"
     ]
    },
    {
     "name": "stderr",
     "output_type": "stream",
     "text": [
      "  5%|████                                                                            | 50/1000 [00:48<14:29,  1.09it/s]"
     ]
    },
    {
     "name": "stdout",
     "output_type": "stream",
     "text": [
      "https://books.toscrape.com/catalogue/unbound-how-eight-technologies-made-us-human-transformed-society-and-brought-our-world-to-the-brink_950/index.html\n"
     ]
    },
    {
     "name": "stderr",
     "output_type": "stream",
     "text": [
      "  5%|████                                                                            | 51/1000 [00:48<14:01,  1.13it/s]"
     ]
    },
    {
     "name": "stdout",
     "output_type": "stream",
     "text": [
      "https://books.toscrape.com/catalogue/tsubasa-world-chronicle-2-tsubasa-world-chronicle-2_949/index.html\n"
     ]
    },
    {
     "name": "stderr",
     "output_type": "stream",
     "text": [
      "  5%|████▏                                                                           | 52/1000 [00:49<14:10,  1.11it/s]"
     ]
    },
    {
     "name": "stdout",
     "output_type": "stream",
     "text": [
      "https://books.toscrape.com/catalogue/throwing-rocks-at-the-google-bus-how-growth-became-the-enemy-of-prosperity_948/index.html\n"
     ]
    },
    {
     "name": "stderr",
     "output_type": "stream",
     "text": [
      "  5%|████▏                                                                           | 53/1000 [00:51<15:44,  1.00it/s]"
     ]
    },
    {
     "name": "stdout",
     "output_type": "stream",
     "text": [
      "https://books.toscrape.com/catalogue/this-one-summer_947/index.html\n"
     ]
    },
    {
     "name": "stderr",
     "output_type": "stream",
     "text": [
      "  5%|████▎                                                                           | 54/1000 [00:51<15:22,  1.02it/s]"
     ]
    },
    {
     "name": "stdout",
     "output_type": "stream",
     "text": [
      "https://books.toscrape.com/catalogue/thirst_946/index.html\n"
     ]
    },
    {
     "name": "stderr",
     "output_type": "stream",
     "text": [
      "  6%|████▍                                                                           | 55/1000 [00:52<14:53,  1.06it/s]"
     ]
    },
    {
     "name": "stdout",
     "output_type": "stream",
     "text": [
      "https://books.toscrape.com/catalogue/the-torch-is-passed-a-harding-family-story_945/index.html\n"
     ]
    },
    {
     "name": "stderr",
     "output_type": "stream",
     "text": [
      "  6%|████▍                                                                           | 56/1000 [00:54<16:27,  1.05s/it]"
     ]
    },
    {
     "name": "stdout",
     "output_type": "stream",
     "text": [
      "https://books.toscrape.com/catalogue/the-secret-of-dreadwillow-carse_944/index.html\n"
     ]
    },
    {
     "name": "stderr",
     "output_type": "stream",
     "text": [
      "  6%|████▌                                                                           | 57/1000 [00:55<16:08,  1.03s/it]"
     ]
    },
    {
     "name": "stdout",
     "output_type": "stream",
     "text": [
      "https://books.toscrape.com/catalogue/the-pioneer-woman-cooks-dinnertime-comfort-classics-freezer-food-16-minute-meals-and-other-delicious-ways-to-solve-supper_943/index.html\n"
     ]
    },
    {
     "name": "stderr",
     "output_type": "stream",
     "text": [
      "  6%|████▋                                                                           | 58/1000 [00:56<16:47,  1.07s/it]"
     ]
    },
    {
     "name": "stdout",
     "output_type": "stream",
     "text": [
      "https://books.toscrape.com/catalogue/the-past-never-ends_942/index.html\n"
     ]
    },
    {
     "name": "stderr",
     "output_type": "stream",
     "text": [
      "  6%|████▋                                                                           | 59/1000 [00:57<15:31,  1.01it/s]"
     ]
    },
    {
     "name": "stdout",
     "output_type": "stream",
     "text": [
      "https://books.toscrape.com/catalogue/the-natural-history-of-us-the-fine-art-of-pretending-2_941/index.html\n"
     ]
    },
    {
     "name": "stderr",
     "output_type": "stream",
     "text": [
      "  6%|████▊                                                                           | 60/1000 [00:57<15:12,  1.03it/s]"
     ]
    },
    {
     "name": "stdout",
     "output_type": "stream",
     "text": [
      "https://books.toscrape.com/catalogue/the-nameless-city-the-nameless-city-1_940/index.html\n"
     ]
    },
    {
     "name": "stderr",
     "output_type": "stream",
     "text": [
      "  6%|████▉                                                                           | 61/1000 [00:58<15:00,  1.04it/s]"
     ]
    },
    {
     "name": "stdout",
     "output_type": "stream",
     "text": [
      "https://books.toscrape.com/catalogue/the-murder-that-never-was-forensic-instincts-5_939/index.html\n"
     ]
    },
    {
     "name": "stderr",
     "output_type": "stream",
     "text": [
      "  6%|████▉                                                                           | 62/1000 [00:59<14:46,  1.06it/s]"
     ]
    },
    {
     "name": "stdout",
     "output_type": "stream",
     "text": [
      "https://books.toscrape.com/catalogue/the-most-perfect-thing-inside-and-outside-a-birds-egg_938/index.html\n"
     ]
    },
    {
     "name": "stderr",
     "output_type": "stream",
     "text": [
      "  6%|█████                                                                           | 63/1000 [01:00<14:39,  1.07it/s]"
     ]
    },
    {
     "name": "stdout",
     "output_type": "stream",
     "text": [
      "https://books.toscrape.com/catalogue/the-mindfulness-and-acceptance-workbook-for-anxiety-a-guide-to-breaking-free-from-anxiety-phobias-and-worry-using-acceptance-and-commitment-therapy_937/index.html\n"
     ]
    },
    {
     "name": "stderr",
     "output_type": "stream",
     "text": [
      "  6%|█████                                                                           | 64/1000 [01:01<14:43,  1.06it/s]"
     ]
    },
    {
     "name": "stdout",
     "output_type": "stream",
     "text": [
      "https://books.toscrape.com/catalogue/the-life-changing-magic-of-tidying-up-the-japanese-art-of-decluttering-and-organizing_936/index.html\n"
     ]
    },
    {
     "name": "stderr",
     "output_type": "stream",
     "text": [
      "  6%|█████▏                                                                          | 65/1000 [01:03<16:24,  1.05s/it]"
     ]
    },
    {
     "name": "stdout",
     "output_type": "stream",
     "text": [
      "https://books.toscrape.com/catalogue/the-inefficiency-assassin-time-management-tactics-for-working-smarter-not-longer_935/index.html\n"
     ]
    },
    {
     "name": "stderr",
     "output_type": "stream",
     "text": [
      "  7%|█████▎                                                                          | 66/1000 [01:04<17:08,  1.10s/it]"
     ]
    },
    {
     "name": "stdout",
     "output_type": "stream",
     "text": [
      "https://books.toscrape.com/catalogue/the-gutsy-girl-escapades-for-your-life-of-epic-adventure_934/index.html\n"
     ]
    },
    {
     "name": "stderr",
     "output_type": "stream",
     "text": [
      "  7%|█████▎                                                                          | 67/1000 [01:05<17:47,  1.14s/it]"
     ]
    },
    {
     "name": "stdout",
     "output_type": "stream",
     "text": [
      "https://books.toscrape.com/catalogue/the-electric-pencil-drawings-from-inside-state-hospital-no-3_933/index.html\n"
     ]
    },
    {
     "name": "stderr",
     "output_type": "stream",
     "text": [
      "  7%|█████▍                                                                          | 68/1000 [01:06<16:43,  1.08s/it]"
     ]
    },
    {
     "name": "stdout",
     "output_type": "stream",
     "text": [
      "https://books.toscrape.com/catalogue/the-death-of-humanity-and-the-case-for-life_932/index.html\n"
     ]
    },
    {
     "name": "stderr",
     "output_type": "stream",
     "text": [
      "  7%|█████▌                                                                          | 69/1000 [01:07<15:57,  1.03s/it]"
     ]
    },
    {
     "name": "stdout",
     "output_type": "stream",
     "text": [
      "https://books.toscrape.com/catalogue/the-bulletproof-diet-lose-up-to-a-pound-a-day-reclaim-energy-and-focus-upgrade-your-life_931/index.html\n"
     ]
    },
    {
     "name": "stderr",
     "output_type": "stream",
     "text": [
      "  7%|█████▌                                                                          | 70/1000 [01:08<16:49,  1.09s/it]"
     ]
    },
    {
     "name": "stdout",
     "output_type": "stream",
     "text": [
      "https://books.toscrape.com/catalogue/the-art-forger_930/index.html\n"
     ]
    },
    {
     "name": "stderr",
     "output_type": "stream",
     "text": [
      "  7%|█████▋                                                                          | 71/1000 [01:09<16:06,  1.04s/it]"
     ]
    },
    {
     "name": "stdout",
     "output_type": "stream",
     "text": [
      "https://books.toscrape.com/catalogue/the-age-of-genius-the-seventeenth-century-and-the-birth-of-the-modern-mind_929/index.html\n"
     ]
    },
    {
     "name": "stderr",
     "output_type": "stream",
     "text": [
      "  7%|█████▊                                                                          | 72/1000 [01:10<15:29,  1.00s/it]"
     ]
    },
    {
     "name": "stdout",
     "output_type": "stream",
     "text": [
      "https://books.toscrape.com/catalogue/the-activists-tao-te-ching-ancient-advice-for-a-modern-revolution_928/index.html\n"
     ]
    },
    {
     "name": "stderr",
     "output_type": "stream",
     "text": [
      "  7%|█████▊                                                                          | 73/1000 [01:11<14:57,  1.03it/s]"
     ]
    },
    {
     "name": "stdout",
     "output_type": "stream",
     "text": [
      "https://books.toscrape.com/catalogue/spark-joy-an-illustrated-master-class-on-the-art-of-organizing-and-tidying-up_927/index.html\n"
     ]
    },
    {
     "name": "stderr",
     "output_type": "stream",
     "text": [
      "  7%|█████▉                                                                          | 74/1000 [01:12<14:55,  1.03it/s]"
     ]
    },
    {
     "name": "stdout",
     "output_type": "stream",
     "text": [
      "https://books.toscrape.com/catalogue/soul-reader_926/index.html\n"
     ]
    },
    {
     "name": "stderr",
     "output_type": "stream",
     "text": [
      "  8%|██████                                                                          | 75/1000 [01:13<14:41,  1.05it/s]"
     ]
    },
    {
     "name": "stdout",
     "output_type": "stream",
     "text": [
      "https://books.toscrape.com/catalogue/security_925/index.html\n"
     ]
    },
    {
     "name": "stderr",
     "output_type": "stream",
     "text": [
      "  8%|██████                                                                          | 76/1000 [01:14<15:53,  1.03s/it]"
     ]
    },
    {
     "name": "stdout",
     "output_type": "stream",
     "text": [
      "https://books.toscrape.com/catalogue/saga-volume-6-saga-collected-editions-6_924/index.html\n"
     ]
    },
    {
     "name": "stderr",
     "output_type": "stream",
     "text": [
      "  8%|██████▏                                                                         | 77/1000 [01:15<15:07,  1.02it/s]"
     ]
    },
    {
     "name": "stdout",
     "output_type": "stream",
     "text": [
      "https://books.toscrape.com/catalogue/saga-volume-5-saga-collected-editions-5_923/index.html\n"
     ]
    },
    {
     "name": "stderr",
     "output_type": "stream",
     "text": [
      "  8%|██████▏                                                                         | 78/1000 [01:16<14:35,  1.05it/s]"
     ]
    },
    {
     "name": "stdout",
     "output_type": "stream",
     "text": [
      "https://books.toscrape.com/catalogue/reskilling-america-learning-to-labor-in-the-twenty-first-century_922/index.html\n"
     ]
    },
    {
     "name": "stderr",
     "output_type": "stream",
     "text": [
      "  8%|██████▎                                                                         | 79/1000 [01:17<14:28,  1.06it/s]"
     ]
    },
    {
     "name": "stdout",
     "output_type": "stream",
     "text": [
      "https://books.toscrape.com/catalogue/rat-queens-vol-3-demons-rat-queens-collected-editions-11-15_921/index.html\n"
     ]
    },
    {
     "name": "stderr",
     "output_type": "stream",
     "text": [
      "  8%|██████▍                                                                         | 80/1000 [01:17<14:19,  1.07it/s]"
     ]
    },
    {
     "name": "stdout",
     "output_type": "stream",
     "text": [
      "https://books.toscrape.com/catalogue/princess-jellyfish-2-in-1-omnibus-vol-01-princess-jellyfish-2-in-1-omnibus-1_920/index.html\n"
     ]
    },
    {
     "name": "stderr",
     "output_type": "stream",
     "text": [
      "  8%|██████▍                                                                         | 81/1000 [01:18<14:01,  1.09it/s]"
     ]
    },
    {
     "name": "stdout",
     "output_type": "stream",
     "text": [
      "https://books.toscrape.com/catalogue/princess-between-worlds-wide-awake-princess-5_919/index.html\n"
     ]
    },
    {
     "name": "stderr",
     "output_type": "stream",
     "text": [
      "  8%|██████▌                                                                         | 82/1000 [01:19<14:15,  1.07it/s]"
     ]
    },
    {
     "name": "stdout",
     "output_type": "stream",
     "text": [
      "https://books.toscrape.com/catalogue/pop-gun-war-volume-1-gift_918/index.html\n"
     ]
    },
    {
     "name": "stderr",
     "output_type": "stream",
     "text": [
      "  8%|██████▋                                                                         | 83/1000 [01:21<15:39,  1.02s/it]"
     ]
    },
    {
     "name": "stdout",
     "output_type": "stream",
     "text": [
      "https://books.toscrape.com/catalogue/political-suicide-missteps-peccadilloes-bad-calls-backroom-hijinx-sordid-pasts-rotten-breaks-and-just-plain-dumb-mistakes-in-the-annals-of-american-politics_917/index.html\n"
     ]
    },
    {
     "name": "stderr",
     "output_type": "stream",
     "text": [
      "  8%|██████▋                                                                         | 84/1000 [01:21<15:08,  1.01it/s]"
     ]
    },
    {
     "name": "stdout",
     "output_type": "stream",
     "text": [
      "https://books.toscrape.com/catalogue/patience_916/index.html\n"
     ]
    },
    {
     "name": "stderr",
     "output_type": "stream",
     "text": [
      "  8%|██████▊                                                                         | 85/1000 [01:22<14:43,  1.04it/s]"
     ]
    },
    {
     "name": "stdout",
     "output_type": "stream",
     "text": [
      "https://books.toscrape.com/catalogue/outcast-vol-1-a-darkness-surrounds-him-outcast-1_915/index.html\n"
     ]
    },
    {
     "name": "stderr",
     "output_type": "stream",
     "text": [
      "  9%|██████▉                                                                         | 86/1000 [01:23<14:07,  1.08it/s]"
     ]
    },
    {
     "name": "stdout",
     "output_type": "stream",
     "text": [
      "https://books.toscrape.com/catalogue/orange-the-complete-collection-1-orange-the-complete-collection-1_914/index.html\n"
     ]
    },
    {
     "name": "stderr",
     "output_type": "stream",
     "text": [
      "  9%|██████▉                                                                         | 87/1000 [01:24<14:03,  1.08it/s]"
     ]
    },
    {
     "name": "stdout",
     "output_type": "stream",
     "text": [
      "https://books.toscrape.com/catalogue/online-marketing-for-busy-authors-a-step-by-step-guide_913/index.html\n"
     ]
    },
    {
     "name": "stderr",
     "output_type": "stream",
     "text": [
      "  9%|███████                                                                         | 88/1000 [01:25<13:37,  1.12it/s]"
     ]
    },
    {
     "name": "stdout",
     "output_type": "stream",
     "text": [
      "https://books.toscrape.com/catalogue/on-a-midnight-clear_912/index.html\n"
     ]
    },
    {
     "name": "stderr",
     "output_type": "stream",
     "text": [
      "  9%|███████                                                                         | 89/1000 [01:26<13:40,  1.11it/s]"
     ]
    },
    {
     "name": "stdout",
     "output_type": "stream",
     "text": [
      "https://books.toscrape.com/catalogue/obsidian-lux-1_911/index.html\n"
     ]
    },
    {
     "name": "stderr",
     "output_type": "stream",
     "text": [
      "  9%|███████▏                                                                        | 90/1000 [01:27<13:39,  1.11it/s]"
     ]
    },
    {
     "name": "stdout",
     "output_type": "stream",
     "text": [
      "https://books.toscrape.com/catalogue/my-paris-kitchen-recipes-and-stories_910/index.html\n"
     ]
    },
    {
     "name": "stderr",
     "output_type": "stream",
     "text": [
      "  9%|███████▎                                                                        | 91/1000 [01:28<15:12,  1.00s/it]"
     ]
    },
    {
     "name": "stdout",
     "output_type": "stream",
     "text": [
      "https://books.toscrape.com/catalogue/masks-and-shadows_909/index.html\n"
     ]
    },
    {
     "name": "stderr",
     "output_type": "stream",
     "text": [
      "  9%|███████▎                                                                        | 92/1000 [01:29<14:49,  1.02it/s]"
     ]
    },
    {
     "name": "stdout",
     "output_type": "stream",
     "text": [
      "https://books.toscrape.com/catalogue/mama-tried-traditional-italian-cooking-for-the-screwed-crude-vegan-and-tattooed_908/index.html\n"
     ]
    },
    {
     "name": "stderr",
     "output_type": "stream",
     "text": [
      "  9%|███████▍                                                                        | 93/1000 [01:30<14:36,  1.03it/s]"
     ]
    },
    {
     "name": "stdout",
     "output_type": "stream",
     "text": [
      "https://books.toscrape.com/catalogue/lumberjanes-vol-2-friendship-to-the-max-lumberjanes-5-8_907/index.html\n"
     ]
    },
    {
     "name": "stderr",
     "output_type": "stream",
     "text": [
      "  9%|███████▌                                                                        | 94/1000 [01:31<14:20,  1.05it/s]"
     ]
    },
    {
     "name": "stdout",
     "output_type": "stream",
     "text": [
      "https://books.toscrape.com/catalogue/lumberjanes-vol-1-beware-the-kitten-holy-lumberjanes-1-4_906/index.html\n"
     ]
    },
    {
     "name": "stderr",
     "output_type": "stream",
     "text": [
      " 10%|███████▌                                                                        | 95/1000 [01:32<14:12,  1.06it/s]"
     ]
    },
    {
     "name": "stdout",
     "output_type": "stream",
     "text": [
      "https://books.toscrape.com/catalogue/lumberjanes-vol-3-a-terrible-plan-lumberjanes-9-12_905/index.html\n"
     ]
    },
    {
     "name": "stderr",
     "output_type": "stream",
     "text": [
      " 10%|███████▋                                                                        | 96/1000 [01:33<14:04,  1.07it/s]"
     ]
    },
    {
     "name": "stdout",
     "output_type": "stream",
     "text": [
      "https://books.toscrape.com/catalogue/layered-baking-building-and-styling-spectacular-cakes_904/index.html\n"
     ]
    },
    {
     "name": "stderr",
     "output_type": "stream",
     "text": [
      " 10%|███████▊                                                                        | 97/1000 [01:34<14:01,  1.07it/s]"
     ]
    },
    {
     "name": "stdout",
     "output_type": "stream",
     "text": [
      "https://books.toscrape.com/catalogue/judo-seven-steps-to-black-belt-an-introductory-guide-for-beginners_903/index.html\n"
     ]
    },
    {
     "name": "stderr",
     "output_type": "stream",
     "text": [
      " 10%|███████▊                                                                        | 98/1000 [01:34<14:00,  1.07it/s]"
     ]
    },
    {
     "name": "stdout",
     "output_type": "stream",
     "text": [
      "https://books.toscrape.com/catalogue/join_902/index.html\n"
     ]
    },
    {
     "name": "stderr",
     "output_type": "stream",
     "text": [
      " 10%|███████▉                                                                        | 99/1000 [01:35<13:53,  1.08it/s]"
     ]
    },
    {
     "name": "stdout",
     "output_type": "stream",
     "text": [
      "https://books.toscrape.com/catalogue/in-the-country-we-love-my-family-divided_901/index.html\n"
     ]
    },
    {
     "name": "stderr",
     "output_type": "stream",
     "text": [
      " 10%|███████▉                                                                       | 100/1000 [01:36<13:43,  1.09it/s]"
     ]
    },
    {
     "name": "stdout",
     "output_type": "stream",
     "text": [
      "https://books.toscrape.com/catalogue/immunity-how-elie-metchnikoff-changed-the-course-of-modern-medicine_900/index.html\n"
     ]
    },
    {
     "name": "stderr",
     "output_type": "stream",
     "text": [
      " 10%|███████▉                                                                       | 101/1000 [01:37<15:03,  1.00s/it]"
     ]
    },
    {
     "name": "stdout",
     "output_type": "stream",
     "text": [
      "https://books.toscrape.com/catalogue/i-hate-fairyland-vol-1-madly-ever-after-i-hate-fairyland-compilations-1-5_899/index.html\n"
     ]
    },
    {
     "name": "stderr",
     "output_type": "stream",
     "text": [
      " 10%|████████                                                                       | 102/1000 [01:38<14:51,  1.01it/s]"
     ]
    },
    {
     "name": "stdout",
     "output_type": "stream",
     "text": [
      "https://books.toscrape.com/catalogue/i-am-a-hero-omnibus-volume-1_898/index.html\n"
     ]
    },
    {
     "name": "stderr",
     "output_type": "stream",
     "text": [
      " 10%|████████▏                                                                      | 103/1000 [01:39<14:33,  1.03it/s]"
     ]
    },
    {
     "name": "stdout",
     "output_type": "stream",
     "text": [
      "https://books.toscrape.com/catalogue/how-to-be-miserable-40-strategies-you-already-use_897/index.html\n"
     ]
    },
    {
     "name": "stderr",
     "output_type": "stream",
     "text": [
      " 10%|████████▏                                                                      | 104/1000 [01:40<14:17,  1.05it/s]"
     ]
    },
    {
     "name": "stdout",
     "output_type": "stream",
     "text": [
      "https://books.toscrape.com/catalogue/her-backup-boyfriend-the-sorensen-family-1_896/index.html\n"
     ]
    },
    {
     "name": "stderr",
     "output_type": "stream",
     "text": [
      " 10%|████████▎                                                                      | 105/1000 [01:41<14:07,  1.06it/s]"
     ]
    },
    {
     "name": "stdout",
     "output_type": "stream",
     "text": [
      "https://books.toscrape.com/catalogue/giant-days-vol-2-giant-days-5-8_895/index.html\n"
     ]
    },
    {
     "name": "stderr",
     "output_type": "stream",
     "text": [
      " 11%|████████▎                                                                      | 106/1000 [01:42<14:04,  1.06it/s]"
     ]
    },
    {
     "name": "stdout",
     "output_type": "stream",
     "text": [
      "https://books.toscrape.com/catalogue/forever-and-forever-the-courtship-of-henry-longfellow-and-fanny-appleton_894/index.html\n"
     ]
    },
    {
     "name": "stderr",
     "output_type": "stream",
     "text": [
      " 11%|████████▍                                                                      | 107/1000 [01:43<13:51,  1.07it/s]"
     ]
    },
    {
     "name": "stdout",
     "output_type": "stream",
     "text": [
      "https://books.toscrape.com/catalogue/first-and-first-five-boroughs-3_893/index.html\n"
     ]
    },
    {
     "name": "stderr",
     "output_type": "stream",
     "text": [
      " 11%|████████▌                                                                      | 108/1000 [01:44<13:47,  1.08it/s]"
     ]
    },
    {
     "name": "stdout",
     "output_type": "stream",
     "text": [
      "https://books.toscrape.com/catalogue/fifty-shades-darker-fifty-shades-2_892/index.html\n"
     ]
    },
    {
     "name": "stderr",
     "output_type": "stream",
     "text": [
      " 11%|████████▌                                                                      | 109/1000 [01:45<13:22,  1.11it/s]"
     ]
    },
    {
     "name": "stdout",
     "output_type": "stream",
     "text": [
      "https://books.toscrape.com/catalogue/everydata-the-misinformation-hidden-in-the-little-data-you-consume-every-day_891/index.html\n"
     ]
    },
    {
     "name": "stderr",
     "output_type": "stream",
     "text": [
      " 11%|████████▋                                                                      | 110/1000 [01:46<13:24,  1.11it/s]"
     ]
    },
    {
     "name": "stdout",
     "output_type": "stream",
     "text": [
      "https://books.toscrape.com/catalogue/dont-be-a-jerk-and-other-practical-advice-from-dogen-japans-greatest-zen-master_890/index.html\n"
     ]
    },
    {
     "name": "stderr",
     "output_type": "stream",
     "text": [
      " 11%|████████▊                                                                      | 111/1000 [01:47<13:25,  1.10it/s]"
     ]
    },
    {
     "name": "stdout",
     "output_type": "stream",
     "text": [
      "https://books.toscrape.com/catalogue/danganronpa-volume-1_889/index.html\n"
     ]
    },
    {
     "name": "stderr",
     "output_type": "stream",
     "text": [
      " 11%|████████▊                                                                      | 112/1000 [01:48<13:28,  1.10it/s]"
     ]
    },
    {
     "name": "stdout",
     "output_type": "stream",
     "text": [
      "https://books.toscrape.com/catalogue/crown-of-midnight-throne-of-glass-2_888/index.html\n"
     ]
    },
    {
     "name": "stderr",
     "output_type": "stream",
     "text": [
      " 11%|████████▉                                                                      | 113/1000 [01:48<13:31,  1.09it/s]"
     ]
    },
    {
     "name": "stdout",
     "output_type": "stream",
     "text": [
      "https://books.toscrape.com/catalogue/codename-baboushka-volume-1-the-conclave-of-death_887/index.html\n"
     ]
    },
    {
     "name": "stderr",
     "output_type": "stream",
     "text": [
      " 11%|█████████                                                                      | 114/1000 [01:50<14:57,  1.01s/it]"
     ]
    },
    {
     "name": "stdout",
     "output_type": "stream",
     "text": [
      "https://books.toscrape.com/catalogue/camp-midnight_886/index.html\n"
     ]
    },
    {
     "name": "stderr",
     "output_type": "stream",
     "text": [
      " 12%|█████████                                                                      | 115/1000 [01:51<14:28,  1.02it/s]"
     ]
    },
    {
     "name": "stdout",
     "output_type": "stream",
     "text": [
      "https://books.toscrape.com/catalogue/call-the-nurse-true-stories-of-a-country-nurse-on-a-scottish-isle_885/index.html\n"
     ]
    },
    {
     "name": "stderr",
     "output_type": "stream",
     "text": [
      " 12%|█████████▏                                                                     | 116/1000 [01:52<14:11,  1.04it/s]"
     ]
    },
    {
     "name": "stdout",
     "output_type": "stream",
     "text": [
      "https://books.toscrape.com/catalogue/burning_884/index.html\n"
     ]
    },
    {
     "name": "stderr",
     "output_type": "stream",
     "text": [
      " 12%|█████████▏                                                                     | 117/1000 [01:52<14:00,  1.05it/s]"
     ]
    },
    {
     "name": "stdout",
     "output_type": "stream",
     "text": [
      "https://books.toscrape.com/catalogue/bossypants_883/index.html\n"
     ]
    },
    {
     "name": "stderr",
     "output_type": "stream",
     "text": [
      " 12%|█████████▎                                                                     | 118/1000 [01:53<13:52,  1.06it/s]"
     ]
    },
    {
     "name": "stdout",
     "output_type": "stream",
     "text": [
      "https://books.toscrape.com/catalogue/bitch-planet-vol-1-extraordinary-machine-bitch-planet-collected-editions_882/index.html\n"
     ]
    },
    {
     "name": "stderr",
     "output_type": "stream",
     "text": [
      " 12%|█████████▍                                                                     | 119/1000 [01:54<13:42,  1.07it/s]"
     ]
    },
    {
     "name": "stdout",
     "output_type": "stream",
     "text": [
      "https://books.toscrape.com/catalogue/avatar-the-last-airbender-smoke-and-shadow-part-3-smoke-and-shadow-3_881/index.html\n"
     ]
    },
    {
     "name": "stderr",
     "output_type": "stream",
     "text": [
      " 12%|█████████▍                                                                     | 120/1000 [01:55<13:38,  1.07it/s]"
     ]
    },
    {
     "name": "stdout",
     "output_type": "stream",
     "text": [
      "https://books.toscrape.com/catalogue/algorithms-to-live-by-the-computer-science-of-human-decisions_880/index.html\n"
     ]
    },
    {
     "name": "stderr",
     "output_type": "stream",
     "text": [
      " 12%|█████████▌                                                                     | 121/1000 [01:56<14:59,  1.02s/it]"
     ]
    },
    {
     "name": "stdout",
     "output_type": "stream",
     "text": [
      "https://books.toscrape.com/catalogue/a-world-of-flavor-your-gluten-free-passport_879/index.html\n"
     ]
    },
    {
     "name": "stderr",
     "output_type": "stream",
     "text": [
      " 12%|█████████▋                                                                     | 122/1000 [01:57<14:31,  1.01it/s]"
     ]
    },
    {
     "name": "stdout",
     "output_type": "stream",
     "text": [
      "https://books.toscrape.com/catalogue/a-piece-of-sky-a-grain-of-rice-a-memoir-in-four-meditations_878/index.html\n"
     ]
    },
    {
     "name": "stderr",
     "output_type": "stream",
     "text": [
      " 12%|█████████▋                                                                     | 123/1000 [01:59<15:33,  1.06s/it]"
     ]
    },
    {
     "name": "stdout",
     "output_type": "stream",
     "text": [
      "https://books.toscrape.com/catalogue/a-murder-in-time_877/index.html\n"
     ]
    },
    {
     "name": "stderr",
     "output_type": "stream",
     "text": [
      " 12%|█████████▊                                                                     | 124/1000 [02:00<14:51,  1.02s/it]"
     ]
    },
    {
     "name": "stdout",
     "output_type": "stream",
     "text": [
      "https://books.toscrape.com/catalogue/a-flight-of-arrows-the-pathfinders-2_876/index.html\n"
     ]
    },
    {
     "name": "stderr",
     "output_type": "stream",
     "text": [
      " 12%|█████████▉                                                                     | 125/1000 [02:00<14:16,  1.02it/s]"
     ]
    },
    {
     "name": "stdout",
     "output_type": "stream",
     "text": [
      "https://books.toscrape.com/catalogue/a-fierce-and-subtle-poison_875/index.html\n"
     ]
    },
    {
     "name": "stderr",
     "output_type": "stream",
     "text": [
      " 13%|█████████▉                                                                     | 126/1000 [02:01<14:07,  1.03it/s]"
     ]
    },
    {
     "name": "stdout",
     "output_type": "stream",
     "text": [
      "https://books.toscrape.com/catalogue/a-court-of-thorns-and-roses-a-court-of-thorns-and-roses-1_874/index.html\n"
     ]
    },
    {
     "name": "stderr",
     "output_type": "stream",
     "text": [
      " 13%|██████████                                                                     | 127/1000 [02:02<14:01,  1.04it/s]"
     ]
    },
    {
     "name": "stdout",
     "output_type": "stream",
     "text": [
      "https://books.toscrape.com/catalogue/unqualified-how-god-uses-broken-people-to-do-big-things_873/index.html\n"
     ]
    },
    {
     "name": "stderr",
     "output_type": "stream",
     "text": [
      " 13%|██████████                                                                     | 128/1000 [02:04<15:10,  1.04s/it]"
     ]
    },
    {
     "name": "stdout",
     "output_type": "stream",
     "text": [
      "https://books.toscrape.com/catalogue/you-are-what-you-love-the-spiritual-power-of-habit_872/index.html\n"
     ]
    },
    {
     "name": "stderr",
     "output_type": "stream",
     "text": [
      " 13%|██████████▏                                                                    | 129/1000 [02:04<14:20,  1.01it/s]"
     ]
    },
    {
     "name": "stdout",
     "output_type": "stream",
     "text": [
      "https://books.toscrape.com/catalogue/william-shakespeares-star-wars-verily-a-new-hope-william-shakespeares-star-wars-4_871/index.html\n"
     ]
    },
    {
     "name": "stderr",
     "output_type": "stream",
     "text": [
      " 13%|██████████▎                                                                    | 130/1000 [02:06<16:01,  1.10s/it]"
     ]
    },
    {
     "name": "stdout",
     "output_type": "stream",
     "text": [
      "https://books.toscrape.com/catalogue/tuesday-nights-in-1980_870/index.html\n"
     ]
    },
    {
     "name": "stderr",
     "output_type": "stream",
     "text": [
      " 13%|██████████▎                                                                    | 131/1000 [02:07<18:19,  1.27s/it]"
     ]
    },
    {
     "name": "stdout",
     "output_type": "stream",
     "text": [
      "https://books.toscrape.com/catalogue/tracing-numbers-on-a-train_869/index.html\n"
     ]
    },
    {
     "name": "stderr",
     "output_type": "stream",
     "text": [
      " 13%|██████████▍                                                                    | 132/1000 [02:08<16:43,  1.16s/it]"
     ]
    },
    {
     "name": "stdout",
     "output_type": "stream",
     "text": [
      "https://books.toscrape.com/catalogue/throne-of-glass-throne-of-glass-1_868/index.html\n"
     ]
    },
    {
     "name": "stderr",
     "output_type": "stream",
     "text": [
      " 13%|██████████▌                                                                    | 133/1000 [02:09<15:48,  1.09s/it]"
     ]
    },
    {
     "name": "stdout",
     "output_type": "stream",
     "text": [
      "https://books.toscrape.com/catalogue/thomas-jefferson-and-the-tripoli-pirates-the-forgotten-war-that-changed-american-history_867/index.html\n"
     ]
    },
    {
     "name": "stderr",
     "output_type": "stream",
     "text": [
      " 13%|██████████▌                                                                    | 134/1000 [02:10<15:02,  1.04s/it]"
     ]
    },
    {
     "name": "stdout",
     "output_type": "stream",
     "text": [
      "https://books.toscrape.com/catalogue/thirteen-reasons-why_866/index.html\n"
     ]
    },
    {
     "name": "stderr",
     "output_type": "stream",
     "text": [
      " 14%|██████████▋                                                                    | 135/1000 [02:11<14:30,  1.01s/it]"
     ]
    },
    {
     "name": "stdout",
     "output_type": "stream",
     "text": [
      "https://books.toscrape.com/catalogue/the-white-cat-and-the-monk-a-retelling-of-the-poem-pangur-ban_865/index.html\n"
     ]
    },
    {
     "name": "stderr",
     "output_type": "stream",
     "text": [
      " 14%|██████████▋                                                                    | 136/1000 [02:12<13:53,  1.04it/s]"
     ]
    },
    {
     "name": "stdout",
     "output_type": "stream",
     "text": [
      "https://books.toscrape.com/catalogue/the-wedding-dress_864/index.html\n"
     ]
    },
    {
     "name": "stderr",
     "output_type": "stream",
     "text": [
      " 14%|██████████▊                                                                    | 137/1000 [02:13<13:24,  1.07it/s]"
     ]
    },
    {
     "name": "stdout",
     "output_type": "stream",
     "text": [
      "https://books.toscrape.com/catalogue/the-vacationers_863/index.html\n"
     ]
    },
    {
     "name": "stderr",
     "output_type": "stream",
     "text": [
      " 14%|██████████▉                                                                    | 138/1000 [02:14<13:28,  1.07it/s]"
     ]
    },
    {
     "name": "stdout",
     "output_type": "stream",
     "text": [
      "https://books.toscrape.com/catalogue/the-third-wave-an-entrepreneurs-vision-of-the-future_862/index.html\n"
     ]
    },
    {
     "name": "stderr",
     "output_type": "stream",
     "text": [
      " 14%|██████████▉                                                                    | 139/1000 [02:15<14:23,  1.00s/it]"
     ]
    },
    {
     "name": "stdout",
     "output_type": "stream",
     "text": [
      "https://books.toscrape.com/catalogue/the-stranger_861/index.html\n"
     ]
    },
    {
     "name": "stderr",
     "output_type": "stream",
     "text": [
      " 14%|███████████                                                                    | 140/1000 [02:16<13:48,  1.04it/s]"
     ]
    },
    {
     "name": "stdout",
     "output_type": "stream",
     "text": [
      "https://books.toscrape.com/catalogue/the-shadow-hero-the-shadow-hero_860/index.html\n"
     ]
    },
    {
     "name": "stderr",
     "output_type": "stream",
     "text": [
      " 14%|███████████▏                                                                   | 141/1000 [02:17<13:39,  1.05it/s]"
     ]
    },
    {
     "name": "stdout",
     "output_type": "stream",
     "text": [
      "https://books.toscrape.com/catalogue/the-secret-the-secret-1_859/index.html\n"
     ]
    },
    {
     "name": "stderr",
     "output_type": "stream",
     "text": [
      " 14%|███████████▏                                                                   | 142/1000 [02:18<13:25,  1.07it/s]"
     ]
    },
    {
     "name": "stdout",
     "output_type": "stream",
     "text": [
      "https://books.toscrape.com/catalogue/the-regional-office-is-under-attack_858/index.html\n"
     ]
    },
    {
     "name": "stderr",
     "output_type": "stream",
     "text": [
      " 14%|███████████▎                                                                   | 143/1000 [02:19<13:19,  1.07it/s]"
     ]
    },
    {
     "name": "stdout",
     "output_type": "stream",
     "text": [
      "https://books.toscrape.com/catalogue/the-psychopath-test-a-journey-through-the-madness-industry_857/index.html\n"
     ]
    },
    {
     "name": "stderr",
     "output_type": "stream",
     "text": [
      " 14%|███████████▍                                                                   | 144/1000 [02:20<13:16,  1.07it/s]"
     ]
    },
    {
     "name": "stdout",
     "output_type": "stream",
     "text": [
      "https://books.toscrape.com/catalogue/the-project_856/index.html\n"
     ]
    },
    {
     "name": "stderr",
     "output_type": "stream",
     "text": [
      " 14%|███████████▍                                                                   | 145/1000 [02:20<13:14,  1.08it/s]"
     ]
    },
    {
     "name": "stdout",
     "output_type": "stream",
     "text": [
      "https://books.toscrape.com/catalogue/the-power-of-now-a-guide-to-spiritual-enlightenment_855/index.html\n"
     ]
    },
    {
     "name": "stderr",
     "output_type": "stream",
     "text": [
      " 15%|███████████▌                                                                   | 146/1000 [02:21<13:12,  1.08it/s]"
     ]
    },
    {
     "name": "stdout",
     "output_type": "stream",
     "text": [
      "https://books.toscrape.com/catalogue/the-omnivores-dilemma-a-natural-history-of-four-meals_854/index.html\n"
     ]
    },
    {
     "name": "stderr",
     "output_type": "stream",
     "text": [
      " 15%|███████████▌                                                                   | 147/1000 [02:23<14:19,  1.01s/it]"
     ]
    },
    {
     "name": "stdout",
     "output_type": "stream",
     "text": [
      "https://books.toscrape.com/catalogue/the-nerdy-nummies-cookbook-sweet-treats-for-the-geek-in-all-of-us_853/index.html\n"
     ]
    },
    {
     "name": "stderr",
     "output_type": "stream",
     "text": [
      " 15%|███████████▋                                                                   | 148/1000 [02:24<15:24,  1.09s/it]"
     ]
    },
    {
     "name": "stdout",
     "output_type": "stream",
     "text": [
      "https://books.toscrape.com/catalogue/the-murder-of-roger-ackroyd-hercule-poirot-4_852/index.html\n"
     ]
    },
    {
     "name": "stderr",
     "output_type": "stream",
     "text": [
      " 15%|███████████▊                                                                   | 149/1000 [02:25<14:41,  1.04s/it]"
     ]
    },
    {
     "name": "stdout",
     "output_type": "stream",
     "text": [
      "https://books.toscrape.com/catalogue/the-mistake-off-campus-2_851/index.html\n"
     ]
    },
    {
     "name": "stderr",
     "output_type": "stream",
     "text": [
      " 15%|███████████▊                                                                   | 150/1000 [02:26<14:09,  1.00it/s]"
     ]
    },
    {
     "name": "stdout",
     "output_type": "stream",
     "text": [
      "https://books.toscrape.com/catalogue/the-matchmakers-playbook-wingmen-inc-1_850/index.html\n"
     ]
    },
    {
     "name": "stderr",
     "output_type": "stream",
     "text": [
      " 15%|███████████▉                                                                   | 151/1000 [02:26<13:22,  1.06it/s]"
     ]
    },
    {
     "name": "stdout",
     "output_type": "stream",
     "text": [
      "https://books.toscrape.com/catalogue/the-love-and-lemons-cookbook-an-apple-to-zucchini-celebration-of-impromptu-cooking_849/index.html\n"
     ]
    },
    {
     "name": "stderr",
     "output_type": "stream",
     "text": [
      " 15%|████████████                                                                   | 152/1000 [02:27<13:16,  1.07it/s]"
     ]
    },
    {
     "name": "stdout",
     "output_type": "stream",
     "text": [
      "https://books.toscrape.com/catalogue/the-long-shadow-of-small-ghosts-murder-and-memory-in-an-american-city_848/index.html\n"
     ]
    },
    {
     "name": "stderr",
     "output_type": "stream",
     "text": [
      " 15%|████████████                                                                   | 153/1000 [02:28<13:11,  1.07it/s]"
     ]
    },
    {
     "name": "stdout",
     "output_type": "stream",
     "text": [
      "https://books.toscrape.com/catalogue/the-kite-runner_847/index.html\n"
     ]
    },
    {
     "name": "stderr",
     "output_type": "stream",
     "text": [
      " 15%|████████████▏                                                                  | 154/1000 [02:29<13:06,  1.08it/s]"
     ]
    },
    {
     "name": "stdout",
     "output_type": "stream",
     "text": [
      "https://books.toscrape.com/catalogue/the-house-by-the-lake_846/index.html\n"
     ]
    },
    {
     "name": "stderr",
     "output_type": "stream",
     "text": [
      " 16%|████████████▏                                                                  | 155/1000 [02:30<13:12,  1.07it/s]"
     ]
    },
    {
     "name": "stdout",
     "output_type": "stream",
     "text": [
      "https://books.toscrape.com/catalogue/the-glittering-court-the-glittering-court-1_845/index.html\n"
     ]
    },
    {
     "name": "stderr",
     "output_type": "stream",
     "text": [
      " 16%|████████████▎                                                                  | 156/1000 [02:31<12:59,  1.08it/s]"
     ]
    },
    {
     "name": "stdout",
     "output_type": "stream",
     "text": [
      "https://books.toscrape.com/catalogue/the-girl-on-the-train_844/index.html\n"
     ]
    },
    {
     "name": "stderr",
     "output_type": "stream",
     "text": [
      " 16%|████████████▍                                                                  | 157/1000 [02:32<12:56,  1.08it/s]"
     ]
    },
    {
     "name": "stdout",
     "output_type": "stream",
     "text": [
      "https://books.toscrape.com/catalogue/the-genius-of-birds_843/index.html\n"
     ]
    },
    {
     "name": "stderr",
     "output_type": "stream",
     "text": [
      " 16%|████████████▍                                                                  | 158/1000 [02:33<12:58,  1.08it/s]"
     ]
    },
    {
     "name": "stdout",
     "output_type": "stream",
     "text": [
      "https://books.toscrape.com/catalogue/the-emerald-mystery_842/index.html\n"
     ]
    },
    {
     "name": "stderr",
     "output_type": "stream",
     "text": [
      " 16%|████████████▌                                                                  | 159/1000 [02:34<12:31,  1.12it/s]"
     ]
    },
    {
     "name": "stdout",
     "output_type": "stream",
     "text": [
      "https://books.toscrape.com/catalogue/the-cookies-cups-cookbook-125-sweet-savory-recipes-reminding-you-to-always-eat-dessert-first_841/index.html\n"
     ]
    },
    {
     "name": "stderr",
     "output_type": "stream",
     "text": [
      " 16%|████████████▋                                                                  | 160/1000 [02:35<12:36,  1.11it/s]"
     ]
    },
    {
     "name": "stdout",
     "output_type": "stream",
     "text": [
      "https://books.toscrape.com/catalogue/the-bridge-to-consciousness-im-writing-the-bridge-between-science-and-our-old-and-new-beliefs_840/index.html\n"
     ]
    },
    {
     "name": "stderr",
     "output_type": "stream",
     "text": [
      " 16%|████████████▋                                                                  | 161/1000 [02:36<12:38,  1.11it/s]"
     ]
    },
    {
     "name": "stdout",
     "output_type": "stream",
     "text": [
      "https://books.toscrape.com/catalogue/the-artists-way-a-spiritual-path-to-higher-creativity_839/index.html\n"
     ]
    },
    {
     "name": "stderr",
     "output_type": "stream",
     "text": [
      " 16%|████████████▊                                                                  | 162/1000 [02:36<12:33,  1.11it/s]"
     ]
    },
    {
     "name": "stdout",
     "output_type": "stream",
     "text": [
      "https://books.toscrape.com/catalogue/the-art-of-war_838/index.html\n"
     ]
    },
    {
     "name": "stderr",
     "output_type": "stream",
     "text": [
      " 16%|████████████▉                                                                  | 163/1000 [02:37<12:47,  1.09it/s]"
     ]
    },
    {
     "name": "stdout",
     "output_type": "stream",
     "text": [
      "https://books.toscrape.com/catalogue/the-argonauts_837/index.html\n"
     ]
    },
    {
     "name": "stderr",
     "output_type": "stream",
     "text": [
      " 16%|████████████▉                                                                  | 164/1000 [02:38<12:51,  1.08it/s]"
     ]
    },
    {
     "name": "stdout",
     "output_type": "stream",
     "text": [
      "https://books.toscrape.com/catalogue/the-10-entrepreneur-live-your-startup-dream-without-quitting-your-day-job_836/index.html\n"
     ]
    },
    {
     "name": "stderr",
     "output_type": "stream",
     "text": [
      " 16%|█████████████                                                                  | 165/1000 [02:40<14:03,  1.01s/it]"
     ]
    },
    {
     "name": "stdout",
     "output_type": "stream",
     "text": [
      "https://books.toscrape.com/catalogue/suddenly-in-love-lake-haven-1_835/index.html\n"
     ]
    },
    {
     "name": "stderr",
     "output_type": "stream",
     "text": [
      " 17%|█████████████                                                                  | 166/1000 [02:40<13:32,  1.03it/s]"
     ]
    },
    {
     "name": "stdout",
     "output_type": "stream",
     "text": [
      "https://books.toscrape.com/catalogue/something-more-than-this_834/index.html\n"
     ]
    },
    {
     "name": "stderr",
     "output_type": "stream",
     "text": [
      " 17%|█████████████▏                                                                 | 167/1000 [02:41<13:03,  1.06it/s]"
     ]
    },
    {
     "name": "stdout",
     "output_type": "stream",
     "text": [
      "https://books.toscrape.com/catalogue/soft-apocalypse_833/index.html\n"
     ]
    },
    {
     "name": "stderr",
     "output_type": "stream",
     "text": [
      " 17%|█████████████▎                                                                 | 168/1000 [02:42<12:46,  1.09it/s]"
     ]
    },
    {
     "name": "stdout",
     "output_type": "stream",
     "text": [
      "https://books.toscrape.com/catalogue/so-youve-been-publicly-shamed_832/index.html\n"
     ]
    },
    {
     "name": "stderr",
     "output_type": "stream",
     "text": [
      " 17%|█████████████▎                                                                 | 169/1000 [02:43<12:57,  1.07it/s]"
     ]
    },
    {
     "name": "stdout",
     "output_type": "stream",
     "text": [
      "https://books.toscrape.com/catalogue/shoe-dog-a-memoir-by-the-creator-of-nike_831/index.html\n"
     ]
    },
    {
     "name": "stderr",
     "output_type": "stream",
     "text": [
      " 17%|█████████████▍                                                                 | 170/1000 [02:44<12:48,  1.08it/s]"
     ]
    },
    {
     "name": "stdout",
     "output_type": "stream",
     "text": [
      "https://books.toscrape.com/catalogue/shobu-samurai-project-aryoku-3_830/index.html\n"
     ]
    },
    {
     "name": "stderr",
     "output_type": "stream",
     "text": [
      " 17%|█████████████▌                                                                 | 171/1000 [02:45<12:46,  1.08it/s]"
     ]
    },
    {
     "name": "stdout",
     "output_type": "stream",
     "text": [
      "https://books.toscrape.com/catalogue/secrets-and-lace-fatal-hearts-1_829/index.html\n"
     ]
    },
    {
     "name": "stderr",
     "output_type": "stream",
     "text": [
      " 17%|█████████████▌                                                                 | 172/1000 [02:46<12:43,  1.08it/s]"
     ]
    },
    {
     "name": "stdout",
     "output_type": "stream",
     "text": [
      "https://books.toscrape.com/catalogue/scarlett-epstein-hates-it-here_828/index.html\n"
     ]
    },
    {
     "name": "stderr",
     "output_type": "stream",
     "text": [
      " 17%|█████████████▋                                                                 | 173/1000 [02:47<12:43,  1.08it/s]"
     ]
    },
    {
     "name": "stdout",
     "output_type": "stream",
     "text": [
      "https://books.toscrape.com/catalogue/romero-and-juliet-a-tragic-tale-of-love-and-zombies_827/index.html\n"
     ]
    },
    {
     "name": "stderr",
     "output_type": "stream",
     "text": [
      " 17%|█████████████▋                                                                 | 174/1000 [02:48<12:49,  1.07it/s]"
     ]
    },
    {
     "name": "stdout",
     "output_type": "stream",
     "text": [
      "https://books.toscrape.com/catalogue/redeeming-love_826/index.html\n"
     ]
    },
    {
     "name": "stderr",
     "output_type": "stream",
     "text": [
      " 18%|█████████████▊                                                                 | 175/1000 [02:49<12:41,  1.08it/s]"
     ]
    },
    {
     "name": "stdout",
     "output_type": "stream",
     "text": [
      "https://books.toscrape.com/catalogue/poses-for-artists-volume-1-dynamic-and-sitting-poses-an-essential-reference-for-figure-drawing-and-the-human-form_825/index.html\n"
     ]
    },
    {
     "name": "stderr",
     "output_type": "stream",
     "text": [
      " 18%|█████████████▉                                                                 | 176/1000 [02:50<12:37,  1.09it/s]"
     ]
    },
    {
     "name": "stdout",
     "output_type": "stream",
     "text": [
      "https://books.toscrape.com/catalogue/poems-that-make-grown-women-cry_824/index.html\n"
     ]
    },
    {
     "name": "stderr",
     "output_type": "stream",
     "text": [
      " 18%|█████████████▉                                                                 | 177/1000 [02:51<12:39,  1.08it/s]"
     ]
    },
    {
     "name": "stdout",
     "output_type": "stream",
     "text": [
      "https://books.toscrape.com/catalogue/nightingale-sing_823/index.html\n"
     ]
    },
    {
     "name": "stderr",
     "output_type": "stream",
     "text": [
      " 18%|██████████████                                                                 | 178/1000 [02:51<12:36,  1.09it/s]"
     ]
    },
    {
     "name": "stdout",
     "output_type": "stream",
     "text": [
      "https://books.toscrape.com/catalogue/night-sky-with-exit-wounds_822/index.html\n"
     ]
    },
    {
     "name": "stderr",
     "output_type": "stream",
     "text": [
      " 18%|██████████████▏                                                                | 179/1000 [02:52<12:36,  1.09it/s]"
     ]
    },
    {
     "name": "stdout",
     "output_type": "stream",
     "text": [
      "https://books.toscrape.com/catalogue/mrs-houdini_821/index.html\n"
     ]
    },
    {
     "name": "stderr",
     "output_type": "stream",
     "text": [
      " 18%|██████████████▏                                                                | 180/1000 [02:53<12:35,  1.09it/s]"
     ]
    },
    {
     "name": "stdout",
     "output_type": "stream",
     "text": [
      "https://books.toscrape.com/catalogue/modern-romance_820/index.html\n"
     ]
    },
    {
     "name": "stderr",
     "output_type": "stream",
     "text": [
      " 18%|██████████████▎                                                                | 181/1000 [02:54<12:36,  1.08it/s]"
     ]
    },
    {
     "name": "stdout",
     "output_type": "stream",
     "text": [
      "https://books.toscrape.com/catalogue/miss-peregrines-home-for-peculiar-children-miss-peregrines-peculiar-children-1_819/index.html\n"
     ]
    },
    {
     "name": "stderr",
     "output_type": "stream",
     "text": [
      " 18%|██████████████▍                                                                | 182/1000 [02:55<12:33,  1.09it/s]"
     ]
    },
    {
     "name": "stdout",
     "output_type": "stream",
     "text": [
      "https://books.toscrape.com/catalogue/louisa-the-extraordinary-life-of-mrs-adams_818/index.html\n"
     ]
    },
    {
     "name": "stderr",
     "output_type": "stream",
     "text": [
      " 18%|██████████████▍                                                                | 183/1000 [02:56<12:32,  1.09it/s]"
     ]
    },
    {
     "name": "stdout",
     "output_type": "stream",
     "text": [
      "https://books.toscrape.com/catalogue/little-red_817/index.html\n"
     ]
    },
    {
     "name": "stderr",
     "output_type": "stream",
     "text": [
      " 18%|██████████████▌                                                                | 184/1000 [02:57<12:30,  1.09it/s]"
     ]
    },
    {
     "name": "stdout",
     "output_type": "stream",
     "text": [
      "https://books.toscrape.com/catalogue/library-of-souls-miss-peregrines-peculiar-children-3_816/index.html\n"
     ]
    },
    {
     "name": "stderr",
     "output_type": "stream",
     "text": [
      " 18%|██████████████▌                                                                | 185/1000 [02:58<12:35,  1.08it/s]"
     ]
    },
    {
     "name": "stdout",
     "output_type": "stream",
     "text": [
      "https://books.toscrape.com/catalogue/large-print-heart-of-the-pride_815/index.html\n"
     ]
    },
    {
     "name": "stderr",
     "output_type": "stream",
     "text": [
      " 19%|██████████████▋                                                                | 186/1000 [02:59<13:21,  1.02it/s]"
     ]
    },
    {
     "name": "stdout",
     "output_type": "stream",
     "text": [
      "https://books.toscrape.com/catalogue/i-had-a-nice-time-and-other-lies-how-to-find-love-sht-like-that_814/index.html\n"
     ]
    },
    {
     "name": "stderr",
     "output_type": "stream",
     "text": [
      " 19%|██████████████▊                                                                | 187/1000 [03:00<13:05,  1.04it/s]"
     ]
    },
    {
     "name": "stdout",
     "output_type": "stream",
     "text": [
      "https://books.toscrape.com/catalogue/hollow-city-miss-peregrines-peculiar-children-2_813/index.html\n"
     ]
    },
    {
     "name": "stderr",
     "output_type": "stream",
     "text": [
      " 19%|██████████████▊                                                                | 188/1000 [03:01<12:52,  1.05it/s]"
     ]
    },
    {
     "name": "stdout",
     "output_type": "stream",
     "text": [
      "https://books.toscrape.com/catalogue/grumbles_812/index.html\n"
     ]
    },
    {
     "name": "stderr",
     "output_type": "stream",
     "text": [
      " 19%|██████████████▉                                                                | 189/1000 [03:02<12:43,  1.06it/s]"
     ]
    },
    {
     "name": "stdout",
     "output_type": "stream",
     "text": [
      "https://books.toscrape.com/catalogue/full-moon-over-noahs-ark-an-odyssey-to-mount-ararat-and-beyond_811/index.html\n"
     ]
    },
    {
     "name": "stderr",
     "output_type": "stream",
     "text": [
      " 19%|███████████████                                                                | 190/1000 [03:03<12:38,  1.07it/s]"
     ]
    },
    {
     "name": "stdout",
     "output_type": "stream",
     "text": [
      "https://books.toscrape.com/catalogue/frostbite-vampire-academy-2_810/index.html\n"
     ]
    },
    {
     "name": "stderr",
     "output_type": "stream",
     "text": [
      " 19%|███████████████                                                                | 191/1000 [03:04<12:32,  1.07it/s]"
     ]
    },
    {
     "name": "stdout",
     "output_type": "stream",
     "text": [
      "https://books.toscrape.com/catalogue/follow-you-home_809/index.html\n"
     ]
    },
    {
     "name": "stderr",
     "output_type": "stream",
     "text": [
      " 19%|███████████████▏                                                               | 192/1000 [03:05<12:33,  1.07it/s]"
     ]
    },
    {
     "name": "stdout",
     "output_type": "stream",
     "text": [
      "https://books.toscrape.com/catalogue/first-steps-for-new-christians-print-edition_808/index.html\n"
     ]
    },
    {
     "name": "stderr",
     "output_type": "stream",
     "text": [
      " 19%|███████████████▏                                                               | 193/1000 [03:05<12:22,  1.09it/s]"
     ]
    },
    {
     "name": "stdout",
     "output_type": "stream",
     "text": [
      "https://books.toscrape.com/catalogue/finders-keepers-bill-hodges-trilogy-2_807/index.html\n"
     ]
    },
    {
     "name": "stderr",
     "output_type": "stream",
     "text": [
      " 19%|███████████████▎                                                               | 194/1000 [03:06<12:26,  1.08it/s]"
     ]
    },
    {
     "name": "stdout",
     "output_type": "stream",
     "text": [
      "https://books.toscrape.com/catalogue/fables-vol-1-legends-in-exile-fables-1_806/index.html\n"
     ]
    },
    {
     "name": "stderr",
     "output_type": "stream",
     "text": [
      " 20%|███████████████▍                                                               | 195/1000 [03:07<12:22,  1.08it/s]"
     ]
    },
    {
     "name": "stdout",
     "output_type": "stream",
     "text": [
      "https://books.toscrape.com/catalogue/eureka-trivia-60_805/index.html\n"
     ]
    },
    {
     "name": "stderr",
     "output_type": "stream",
     "text": [
      " 20%|███████████████▍                                                               | 196/1000 [03:09<13:34,  1.01s/it]"
     ]
    },
    {
     "name": "stdout",
     "output_type": "stream",
     "text": [
      "https://books.toscrape.com/catalogue/drive-the-surprising-truth-about-what-motivates-us_804/index.html\n"
     ]
    },
    {
     "name": "stderr",
     "output_type": "stream",
     "text": [
      " 20%|███████████████▌                                                               | 197/1000 [03:10<13:59,  1.05s/it]"
     ]
    },
    {
     "name": "stdout",
     "output_type": "stream",
     "text": [
      "https://books.toscrape.com/catalogue/done-rubbed-out-reightman-bailey-1_803/index.html\n"
     ]
    },
    {
     "name": "stderr",
     "output_type": "stream",
     "text": [
      " 20%|███████████████▋                                                               | 198/1000 [03:11<14:20,  1.07s/it]"
     ]
    },
    {
     "name": "stdout",
     "output_type": "stream",
     "text": [
      "https://books.toscrape.com/catalogue/doing-it-over-most-likely-to-1_802/index.html\n"
     ]
    },
    {
     "name": "stderr",
     "output_type": "stream",
     "text": [
      " 20%|███████████████▋                                                               | 199/1000 [03:12<13:42,  1.03s/it]"
     ]
    },
    {
     "name": "stdout",
     "output_type": "stream",
     "text": [
      "https://books.toscrape.com/catalogue/deliciously-ella-every-day-quick-and-easy-recipes-for-gluten-free-snacks-packed-lunches-and-simple-meals_801/index.html\n"
     ]
    },
    {
     "name": "stderr",
     "output_type": "stream",
     "text": [
      " 20%|███████████████▊                                                               | 200/1000 [03:13<14:30,  1.09s/it]"
     ]
    },
    {
     "name": "stdout",
     "output_type": "stream",
     "text": [
      "https://books.toscrape.com/catalogue/dark-notes_800/index.html\n"
     ]
    },
    {
     "name": "stderr",
     "output_type": "stream",
     "text": [
      " 20%|███████████████▉                                                               | 201/1000 [03:14<13:50,  1.04s/it]"
     ]
    },
    {
     "name": "stdout",
     "output_type": "stream",
     "text": [
      "https://books.toscrape.com/catalogue/daring-greatly-how-the-courage-to-be-vulnerable-transforms-the-way-we-live-love-parent-and-lead_799/index.html\n"
     ]
    },
    {
     "name": "stderr",
     "output_type": "stream",
     "text": [
      " 20%|███████████████▉                                                               | 202/1000 [03:15<13:20,  1.00s/it]"
     ]
    },
    {
     "name": "stdout",
     "output_type": "stream",
     "text": [
      "https://books.toscrape.com/catalogue/close-to-you_798/index.html\n"
     ]
    },
    {
     "name": "stderr",
     "output_type": "stream",
     "text": [
      " 20%|████████████████                                                               | 203/1000 [03:16<12:51,  1.03it/s]"
     ]
    },
    {
     "name": "stdout",
     "output_type": "stream",
     "text": [
      "https://books.toscrape.com/catalogue/chasing-heaven-what-dying-taught-me-about-living_797/index.html\n"
     ]
    },
    {
     "name": "stderr",
     "output_type": "stream",
     "text": [
      " 20%|████████████████                                                               | 204/1000 [03:17<12:46,  1.04it/s]"
     ]
    },
    {
     "name": "stdout",
     "output_type": "stream",
     "text": [
      "https://books.toscrape.com/catalogue/big-magic-creative-living-beyond-fear_796/index.html\n"
     ]
    },
    {
     "name": "stderr",
     "output_type": "stream",
     "text": [
      " 20%|████████████████▏                                                              | 205/1000 [03:18<12:35,  1.05it/s]"
     ]
    },
    {
     "name": "stdout",
     "output_type": "stream",
     "text": [
      "https://books.toscrape.com/catalogue/becoming-wise-an-inquiry-into-the-mystery-and-art-of-living_795/index.html\n"
     ]
    },
    {
     "name": "stderr",
     "output_type": "stream",
     "text": [
      " 21%|████████████████▎                                                              | 206/1000 [03:19<13:34,  1.03s/it]"
     ]
    },
    {
     "name": "stdout",
     "output_type": "stream",
     "text": [
      "https://books.toscrape.com/catalogue/beauty-restored-riley-family-legacy-novellas-3_794/index.html\n"
     ]
    },
    {
     "name": "stderr",
     "output_type": "stream",
     "text": [
      " 21%|████████████████▎                                                              | 207/1000 [03:20<13:16,  1.00s/it]"
     ]
    },
    {
     "name": "stdout",
     "output_type": "stream",
     "text": [
      "https://books.toscrape.com/catalogue/batman-the-long-halloween-batman_793/index.html\n"
     ]
    },
    {
     "name": "stderr",
     "output_type": "stream",
     "text": [
      " 21%|████████████████▍                                                              | 208/1000 [03:21<12:51,  1.03it/s]"
     ]
    },
    {
     "name": "stdout",
     "output_type": "stream",
     "text": [
      "https://books.toscrape.com/catalogue/batman-the-dark-knight-returns-batman_792/index.html\n"
     ]
    },
    {
     "name": "stderr",
     "output_type": "stream",
     "text": [
      " 21%|████████████████▌                                                              | 209/1000 [03:22<12:42,  1.04it/s]"
     ]
    },
    {
     "name": "stdout",
     "output_type": "stream",
     "text": [
      "https://books.toscrape.com/catalogue/ayumis-violin_791/index.html\n"
     ]
    },
    {
     "name": "stderr",
     "output_type": "stream",
     "text": [
      " 21%|████████████████▌                                                              | 210/1000 [03:23<13:21,  1.01s/it]"
     ]
    },
    {
     "name": "stdout",
     "output_type": "stream",
     "text": [
      "https://books.toscrape.com/catalogue/anonymous_790/index.html\n"
     ]
    },
    {
     "name": "stderr",
     "output_type": "stream",
     "text": [
      " 21%|████████████████▋                                                              | 211/1000 [03:24<12:48,  1.03it/s]"
     ]
    },
    {
     "name": "stdout",
     "output_type": "stream",
     "text": [
      "https://books.toscrape.com/catalogue/amy-meets-the-saints-and-sages_789/index.html\n"
     ]
    },
    {
     "name": "stderr",
     "output_type": "stream",
     "text": [
      " 21%|████████████████▋                                                              | 212/1000 [03:25<12:41,  1.03it/s]"
     ]
    },
    {
     "name": "stdout",
     "output_type": "stream",
     "text": [
      "https://books.toscrape.com/catalogue/amid-the-chaos_788/index.html\n"
     ]
    },
    {
     "name": "stderr",
     "output_type": "stream",
     "text": [
      " 21%|████████████████▊                                                              | 213/1000 [03:25<12:33,  1.04it/s]"
     ]
    },
    {
     "name": "stdout",
     "output_type": "stream",
     "text": [
      "https://books.toscrape.com/catalogue/amatus_787/index.html\n"
     ]
    },
    {
     "name": "stderr",
     "output_type": "stream",
     "text": [
      " 21%|████████████████▉                                                              | 214/1000 [03:26<12:22,  1.06it/s]"
     ]
    },
    {
     "name": "stdout",
     "output_type": "stream",
     "text": [
      "https://books.toscrape.com/catalogue/agnostic-a-spirited-manifesto_786/index.html\n"
     ]
    },
    {
     "name": "stderr",
     "output_type": "stream",
     "text": [
      " 22%|████████████████▉                                                              | 215/1000 [03:27<11:54,  1.10it/s]"
     ]
    },
    {
     "name": "stdout",
     "output_type": "stream",
     "text": [
      "https://books.toscrape.com/catalogue/zealot-the-life-and-times-of-jesus-of-nazareth_785/index.html\n"
     ]
    },
    {
     "name": "stderr",
     "output_type": "stream",
     "text": [
      " 22%|█████████████████                                                              | 216/1000 [03:28<13:06,  1.00s/it]"
     ]
    },
    {
     "name": "stdout",
     "output_type": "stream",
     "text": [
      "https://books.toscrape.com/catalogue/you-you-1_784/index.html\n"
     ]
    },
    {
     "name": "stderr",
     "output_type": "stream",
     "text": [
      " 22%|█████████████████▏                                                             | 217/1000 [03:29<12:48,  1.02it/s]"
     ]
    },
    {
     "name": "stdout",
     "output_type": "stream",
     "text": [
      "https://books.toscrape.com/catalogue/wonder-woman-earth-one-volume-one-wonder-woman-earth-one-1_783/index.html\n"
     ]
    },
    {
     "name": "stderr",
     "output_type": "stream",
     "text": [
      " 22%|█████████████████▏                                                             | 218/1000 [03:30<12:30,  1.04it/s]"
     ]
    },
    {
     "name": "stdout",
     "output_type": "stream",
     "text": [
      "https://books.toscrape.com/catalogue/wild-swans_782/index.html\n"
     ]
    },
    {
     "name": "stderr",
     "output_type": "stream",
     "text": [
      " 22%|█████████████████▎                                                             | 219/1000 [03:31<12:19,  1.06it/s]"
     ]
    },
    {
     "name": "stdout",
     "output_type": "stream",
     "text": [
      "https://books.toscrape.com/catalogue/why-the-right-went-wrong-conservatism-from-goldwater-to-the-tea-party-and-beyond_781/index.html\n"
     ]
    },
    {
     "name": "stderr",
     "output_type": "stream",
     "text": [
      " 22%|█████████████████▍                                                             | 220/1000 [03:32<13:26,  1.03s/it]"
     ]
    },
    {
     "name": "stdout",
     "output_type": "stream",
     "text": [
      "https://books.toscrape.com/catalogue/whole-lotta-creativity-going-on-60-fun-and-unusual-exercises-to-awaken-and-strengthen-your-creativity_780/index.html\n"
     ]
    },
    {
     "name": "stderr",
     "output_type": "stream",
     "text": [
      " 22%|█████████████████▍                                                             | 221/1000 [03:33<13:34,  1.05s/it]"
     ]
    },
    {
     "name": "stdout",
     "output_type": "stream",
     "text": [
      "https://books.toscrape.com/catalogue/whats-it-like-in-space-stories-from-astronauts-whove-been-there_779/index.html\n"
     ]
    },
    {
     "name": "stderr",
     "output_type": "stream",
     "text": [
      " 22%|█████████████████▌                                                             | 222/1000 [03:34<13:17,  1.03s/it]"
     ]
    },
    {
     "name": "stdout",
     "output_type": "stream",
     "text": [
      "https://books.toscrape.com/catalogue/we-are-robin-vol-1-the-vigilante-business-we-are-robin-1_778/index.html\n"
     ]
    },
    {
     "name": "stderr",
     "output_type": "stream",
     "text": [
      " 22%|█████████████████▌                                                             | 223/1000 [03:35<12:51,  1.01it/s]"
     ]
    },
    {
     "name": "stdout",
     "output_type": "stream",
     "text": [
      "https://books.toscrape.com/catalogue/walt-disneys-alice-in-wonderland_777/index.html\n"
     ]
    },
    {
     "name": "stderr",
     "output_type": "stream",
     "text": [
      " 22%|█████████████████▋                                                             | 224/1000 [03:36<12:22,  1.04it/s]"
     ]
    },
    {
     "name": "stdout",
     "output_type": "stream",
     "text": [
      "https://books.toscrape.com/catalogue/v-for-vendetta-v-for-vendetta-complete_776/index.html\n"
     ]
    },
    {
     "name": "stderr",
     "output_type": "stream",
     "text": [
      " 22%|█████████████████▊                                                             | 225/1000 [03:37<12:00,  1.08it/s]"
     ]
    },
    {
     "name": "stdout",
     "output_type": "stream",
     "text": [
      "https://books.toscrape.com/catalogue/until-friday-night-the-field-party-1_775/index.html\n"
     ]
    },
    {
     "name": "stderr",
     "output_type": "stream",
     "text": [
      " 23%|█████████████████▊                                                             | 226/1000 [03:38<12:03,  1.07it/s]"
     ]
    },
    {
     "name": "stdout",
     "output_type": "stream",
     "text": [
      "https://books.toscrape.com/catalogue/unbroken-a-world-war-ii-story-of-survival-resilience-and-redemption_774/index.html\n"
     ]
    },
    {
     "name": "stderr",
     "output_type": "stream",
     "text": [
      " 23%|█████████████████▉                                                             | 227/1000 [03:39<11:54,  1.08it/s]"
     ]
    },
    {
     "name": "stdout",
     "output_type": "stream",
     "text": [
      "https://books.toscrape.com/catalogue/twenty-yawns_773/index.html\n"
     ]
    },
    {
     "name": "stderr",
     "output_type": "stream",
     "text": [
      " 23%|██████████████████                                                             | 228/1000 [03:40<11:52,  1.08it/s]"
     ]
    },
    {
     "name": "stdout",
     "output_type": "stream",
     "text": [
      "https://books.toscrape.com/catalogue/through-the-woods_772/index.html\n"
     ]
    },
    {
     "name": "stderr",
     "output_type": "stream",
     "text": [
      " 23%|██████████████████                                                             | 229/1000 [03:41<11:52,  1.08it/s]"
     ]
    },
    {
     "name": "stdout",
     "output_type": "stream",
     "text": [
      "https://books.toscrape.com/catalogue/this-is-where-it-ends_771/index.html\n"
     ]
    },
    {
     "name": "stderr",
     "output_type": "stream",
     "text": [
      " 23%|██████████████████▏                                                            | 230/1000 [03:42<11:46,  1.09it/s]"
     ]
    },
    {
     "name": "stdout",
     "output_type": "stream",
     "text": [
      "https://books.toscrape.com/catalogue/the-year-of-magical-thinking_770/index.html\n"
     ]
    },
    {
     "name": "stderr",
     "output_type": "stream",
     "text": [
      " 23%|██████████████████▏                                                            | 231/1000 [03:43<11:49,  1.08it/s]"
     ]
    },
    {
     "name": "stdout",
     "output_type": "stream",
     "text": [
      "https://books.toscrape.com/catalogue/the-wright-brothers_769/index.html\n"
     ]
    },
    {
     "name": "stderr",
     "output_type": "stream",
     "text": [
      " 23%|██████████████████▎                                                            | 232/1000 [03:44<12:59,  1.02s/it]"
     ]
    },
    {
     "name": "stdout",
     "output_type": "stream",
     "text": [
      "https://books.toscrape.com/catalogue/the-white-queen-the-cousins-war-1_768/index.html\n"
     ]
    },
    {
     "name": "stderr",
     "output_type": "stream",
     "text": [
      " 23%|██████████████████▍                                                            | 233/1000 [03:45<12:34,  1.02it/s]"
     ]
    },
    {
     "name": "stdout",
     "output_type": "stream",
     "text": [
      "https://books.toscrape.com/catalogue/the-wedding-pact-the-omalleys-2_767/index.html\n"
     ]
    },
    {
     "name": "stderr",
     "output_type": "stream",
     "text": [
      " 23%|██████████████████▍                                                            | 234/1000 [03:46<12:27,  1.03it/s]"
     ]
    },
    {
     "name": "stdout",
     "output_type": "stream",
     "text": [
      "https://books.toscrape.com/catalogue/the-time-keeper_766/index.html\n"
     ]
    },
    {
     "name": "stderr",
     "output_type": "stream",
     "text": [
      " 24%|██████████████████▌                                                            | 235/1000 [03:47<12:10,  1.05it/s]"
     ]
    },
    {
     "name": "stdout",
     "output_type": "stream",
     "text": [
      "https://books.toscrape.com/catalogue/the-testament-of-mary_765/index.html\n"
     ]
    },
    {
     "name": "stderr",
     "output_type": "stream",
     "text": [
      " 24%|██████████████████▋                                                            | 236/1000 [03:48<12:03,  1.06it/s]"
     ]
    },
    {
     "name": "stdout",
     "output_type": "stream",
     "text": [
      "https://books.toscrape.com/catalogue/the-star-touched-queen_764/index.html\n"
     ]
    },
    {
     "name": "stderr",
     "output_type": "stream",
     "text": [
      " 24%|██████████████████▋                                                            | 237/1000 [03:49<11:53,  1.07it/s]"
     ]
    },
    {
     "name": "stdout",
     "output_type": "stream",
     "text": [
      "https://books.toscrape.com/catalogue/the-songs-of-the-gods_763/index.html\n"
     ]
    },
    {
     "name": "stderr",
     "output_type": "stream",
     "text": [
      " 24%|██████████████████▊                                                            | 238/1000 [03:49<11:51,  1.07it/s]"
     ]
    },
    {
     "name": "stdout",
     "output_type": "stream",
     "text": [
      "https://books.toscrape.com/catalogue/the-song-of-achilles_762/index.html\n"
     ]
    },
    {
     "name": "stderr",
     "output_type": "stream",
     "text": [
      " 24%|██████████████████▉                                                            | 239/1000 [03:50<11:44,  1.08it/s]"
     ]
    },
    {
     "name": "stdout",
     "output_type": "stream",
     "text": [
      "https://books.toscrape.com/catalogue/the-rosie-project-don-tillman-1_761/index.html\n"
     ]
    },
    {
     "name": "stderr",
     "output_type": "stream",
     "text": [
      " 24%|██████████████████▉                                                            | 240/1000 [03:52<12:50,  1.01s/it]"
     ]
    },
    {
     "name": "stdout",
     "output_type": "stream",
     "text": [
      "https://books.toscrape.com/catalogue/the-power-of-habit-why-we-do-what-we-do-in-life-and-business_760/index.html\n"
     ]
    },
    {
     "name": "stderr",
     "output_type": "stream",
     "text": [
      " 24%|███████████████████                                                            | 241/1000 [03:52<12:32,  1.01it/s]"
     ]
    },
    {
     "name": "stdout",
     "output_type": "stream",
     "text": [
      "https://books.toscrape.com/catalogue/the-marriage-of-opposites_759/index.html\n"
     ]
    },
    {
     "name": "stderr",
     "output_type": "stream",
     "text": [
      " 24%|███████████████████                                                            | 242/1000 [03:53<12:16,  1.03it/s]"
     ]
    },
    {
     "name": "stdout",
     "output_type": "stream",
     "text": [
      "https://books.toscrape.com/catalogue/the-lucifer-effect-understanding-how-good-people-turn-evil_758/index.html\n"
     ]
    },
    {
     "name": "stderr",
     "output_type": "stream",
     "text": [
      " 24%|███████████████████▏                                                           | 243/1000 [03:54<12:00,  1.05it/s]"
     ]
    },
    {
     "name": "stdout",
     "output_type": "stream",
     "text": [
      "https://books.toscrape.com/catalogue/the-long-haul-diary-of-a-wimpy-kid-9_757/index.html\n"
     ]
    },
    {
     "name": "stderr",
     "output_type": "stream",
     "text": [
      " 24%|███████████████████▎                                                           | 244/1000 [03:55<11:54,  1.06it/s]"
     ]
    },
    {
     "name": "stdout",
     "output_type": "stream",
     "text": [
      "https://books.toscrape.com/catalogue/the-loney_756/index.html\n"
     ]
    },
    {
     "name": "stderr",
     "output_type": "stream",
     "text": [
      " 24%|███████████████████▎                                                           | 245/1000 [03:56<11:47,  1.07it/s]"
     ]
    },
    {
     "name": "stdout",
     "output_type": "stream",
     "text": [
      "https://books.toscrape.com/catalogue/the-literature-book-big-ideas-simply-explained_755/index.html\n"
     ]
    },
    {
     "name": "stderr",
     "output_type": "stream",
     "text": [
      " 25%|███████████████████▍                                                           | 246/1000 [03:57<11:46,  1.07it/s]"
     ]
    },
    {
     "name": "stdout",
     "output_type": "stream",
     "text": [
      "https://books.toscrape.com/catalogue/the-last-mile-amos-decker-2_754/index.html\n"
     ]
    },
    {
     "name": "stderr",
     "output_type": "stream",
     "text": [
      " 25%|███████████████████▌                                                           | 247/1000 [03:58<11:43,  1.07it/s]"
     ]
    },
    {
     "name": "stdout",
     "output_type": "stream",
     "text": [
      "https://books.toscrape.com/catalogue/the-immortal-life-of-henrietta-lacks_753/index.html\n"
     ]
    },
    {
     "name": "stderr",
     "output_type": "stream",
     "text": [
      " 25%|███████████████████▌                                                           | 248/1000 [03:59<11:35,  1.08it/s]"
     ]
    },
    {
     "name": "stdout",
     "output_type": "stream",
     "text": [
      "https://books.toscrape.com/catalogue/the-hidden-oracle-the-trials-of-apollo-1_752/index.html\n"
     ]
    },
    {
     "name": "stderr",
     "output_type": "stream",
     "text": [
      " 25%|███████████████████▋                                                           | 249/1000 [04:00<11:34,  1.08it/s]"
     ]
    },
    {
     "name": "stdout",
     "output_type": "stream",
     "text": [
      "https://books.toscrape.com/catalogue/the-help-yourself-cookbook-for-kids-60-easy-plant-based-recipes-kids-can-make-to-stay-healthy-and-save-the-earth_751/index.html\n"
     ]
    },
    {
     "name": "stderr",
     "output_type": "stream",
     "text": [
      " 25%|███████████████████▊                                                           | 250/1000 [04:01<12:41,  1.02s/it]"
     ]
    },
    {
     "name": "stdout",
     "output_type": "stream",
     "text": [
      "https://books.toscrape.com/catalogue/the-guilty-will-robie-4_750/index.html\n"
     ]
    },
    {
     "name": "stderr",
     "output_type": "stream",
     "text": [
      " 25%|███████████████████▊                                                           | 251/1000 [04:02<13:30,  1.08s/it]"
     ]
    },
    {
     "name": "stdout",
     "output_type": "stream",
     "text": [
      "https://books.toscrape.com/catalogue/the-first-hostage-jb-collins-2_749/index.html\n"
     ]
    },
    {
     "name": "stderr",
     "output_type": "stream",
     "text": [
      " 25%|███████████████████▉                                                           | 252/1000 [04:03<12:28,  1.00s/it]"
     ]
    },
    {
     "name": "stdout",
     "output_type": "stream",
     "text": [
      "https://books.toscrape.com/catalogue/the-dovekeepers_748/index.html\n"
     ]
    },
    {
     "name": "stderr",
     "output_type": "stream",
     "text": [
      " 25%|███████████████████▉                                                           | 253/1000 [04:04<11:54,  1.05it/s]"
     ]
    },
    {
     "name": "stdout",
     "output_type": "stream",
     "text": [
      "https://books.toscrape.com/catalogue/the-darkest-lie_747/index.html\n"
     ]
    },
    {
     "name": "stderr",
     "output_type": "stream",
     "text": [
      " 25%|████████████████████                                                           | 254/1000 [04:05<11:38,  1.07it/s]"
     ]
    },
    {
     "name": "stdout",
     "output_type": "stream",
     "text": [
      "https://books.toscrape.com/catalogue/the-bane-chronicles-the-bane-chronicles-1-11_746/index.html\n"
     ]
    },
    {
     "name": "stderr",
     "output_type": "stream",
     "text": [
      " 26%|████████████████████▏                                                          | 255/1000 [04:06<11:32,  1.08it/s]"
     ]
    },
    {
     "name": "stdout",
     "output_type": "stream",
     "text": [
      "https://books.toscrape.com/catalogue/the-bad-ass-librarians-of-timbuktu-and-their-race-to-save-the-worlds-most-precious-manuscripts_745/index.html\n"
     ]
    },
    {
     "name": "stderr",
     "output_type": "stream",
     "text": [
      " 26%|████████████████████▏                                                          | 256/1000 [04:07<12:09,  1.02it/s]"
     ]
    },
    {
     "name": "stdout",
     "output_type": "stream",
     "text": [
      "https://books.toscrape.com/catalogue/the-14th-colony-cotton-malone-11_744/index.html\n"
     ]
    },
    {
     "name": "stderr",
     "output_type": "stream",
     "text": [
      " 26%|████████████████████▎                                                          | 257/1000 [04:08<11:28,  1.08it/s]"
     ]
    },
    {
     "name": "stdout",
     "output_type": "stream",
     "text": [
      "https://books.toscrape.com/catalogue/that-darkness-gardiner-and-renner-1_743/index.html\n"
     ]
    },
    {
     "name": "stderr",
     "output_type": "stream",
     "text": [
      " 26%|████████████████████▍                                                          | 258/1000 [04:09<11:37,  1.06it/s]"
     ]
    },
    {
     "name": "stdout",
     "output_type": "stream",
     "text": [
      "https://books.toscrape.com/catalogue/tastes-like-fear-di-marnie-rome-3_742/index.html\n"
     ]
    },
    {
     "name": "stderr",
     "output_type": "stream",
     "text": [
      " 26%|████████████████████▍                                                          | 259/1000 [04:10<11:33,  1.07it/s]"
     ]
    },
    {
     "name": "stdout",
     "output_type": "stream",
     "text": [
      "https://books.toscrape.com/catalogue/take-me-with-you_741/index.html\n"
     ]
    },
    {
     "name": "stderr",
     "output_type": "stream",
     "text": [
      " 26%|████████████████████▌                                                          | 260/1000 [04:11<11:30,  1.07it/s]"
     ]
    },
    {
     "name": "stdout",
     "output_type": "stream",
     "text": [
      "https://books.toscrape.com/catalogue/swell-a-year-of-waves_740/index.html\n"
     ]
    },
    {
     "name": "stderr",
     "output_type": "stream",
     "text": [
      " 26%|████████████████████▌                                                          | 261/1000 [04:12<12:01,  1.02it/s]"
     ]
    },
    {
     "name": "stdout",
     "output_type": "stream",
     "text": [
      "https://books.toscrape.com/catalogue/superman-vol-1-before-truth-superman-by-gene-luen-yang-1_739/index.html\n"
     ]
    },
    {
     "name": "stderr",
     "output_type": "stream",
     "text": [
      " 26%|████████████████████▋                                                          | 262/1000 [04:13<12:15,  1.00it/s]"
     ]
    },
    {
     "name": "stdout",
     "output_type": "stream",
     "text": [
      "https://books.toscrape.com/catalogue/still-life-with-bread-crumbs_738/index.html\n"
     ]
    },
    {
     "name": "stderr",
     "output_type": "stream",
     "text": [
      " 26%|████████████████████▊                                                          | 263/1000 [04:14<12:05,  1.02it/s]"
     ]
    },
    {
     "name": "stdout",
     "output_type": "stream",
     "text": [
      "https://books.toscrape.com/catalogue/steve-jobs_737/index.html\n"
     ]
    },
    {
     "name": "stderr",
     "output_type": "stream",
     "text": [
      " 26%|████████████████████▊                                                          | 264/1000 [04:15<11:47,  1.04it/s]"
     ]
    },
    {
     "name": "stdout",
     "output_type": "stream",
     "text": [
      "https://books.toscrape.com/catalogue/sorting-the-beef-from-the-bull-the-science-of-food-fraud-forensics_736/index.html\n"
     ]
    },
    {
     "name": "stderr",
     "output_type": "stream",
     "text": [
      " 26%|████████████████████▉                                                          | 265/1000 [04:15<11:35,  1.06it/s]"
     ]
    },
    {
     "name": "stdout",
     "output_type": "stream",
     "text": [
      "https://books.toscrape.com/catalogue/someone-like-you-the-harrisons-2_735/index.html\n"
     ]
    },
    {
     "name": "stderr",
     "output_type": "stream",
     "text": [
      " 27%|█████████████████████                                                          | 266/1000 [04:16<11:30,  1.06it/s]"
     ]
    },
    {
     "name": "stdout",
     "output_type": "stream",
     "text": [
      "https://books.toscrape.com/catalogue/so-cute-it-hurts-vol-6-so-cute-it-hurts-6_734/index.html\n"
     ]
    },
    {
     "name": "stderr",
     "output_type": "stream",
     "text": [
      " 27%|█████████████████████                                                          | 267/1000 [04:17<11:28,  1.06it/s]"
     ]
    },
    {
     "name": "stdout",
     "output_type": "stream",
     "text": [
      "https://books.toscrape.com/catalogue/shtum_733/index.html\n"
     ]
    },
    {
     "name": "stderr",
     "output_type": "stream",
     "text": [
      " 27%|█████████████████████▏                                                         | 268/1000 [04:18<11:22,  1.07it/s]"
     ]
    },
    {
     "name": "stdout",
     "output_type": "stream",
     "text": [
      "https://books.toscrape.com/catalogue/see-america-a-celebration-of-our-national-parks-treasured-sites_732/index.html\n"
     ]
    },
    {
     "name": "stderr",
     "output_type": "stream",
     "text": [
      " 27%|█████████████████████▎                                                         | 269/1000 [04:19<11:19,  1.08it/s]"
     ]
    },
    {
     "name": "stdout",
     "output_type": "stream",
     "text": [
      "https://books.toscrape.com/catalogue/salt_731/index.html\n"
     ]
    },
    {
     "name": "stderr",
     "output_type": "stream",
     "text": [
      " 27%|█████████████████████▎                                                         | 270/1000 [04:20<11:07,  1.09it/s]"
     ]
    },
    {
     "name": "stdout",
     "output_type": "stream",
     "text": [
      "https://books.toscrape.com/catalogue/robin-war_730/index.html\n"
     ]
    },
    {
     "name": "stderr",
     "output_type": "stream",
     "text": [
      " 27%|█████████████████████▍                                                         | 271/1000 [04:21<10:41,  1.14it/s]"
     ]
    },
    {
     "name": "stdout",
     "output_type": "stream",
     "text": [
      "https://books.toscrape.com/catalogue/red-hoodarsenal-vol-1-open-for-business-red-hoodarsenal-1_729/index.html\n"
     ]
    },
    {
     "name": "stderr",
     "output_type": "stream",
     "text": [
      " 27%|█████████████████████▍                                                         | 272/1000 [04:22<10:40,  1.14it/s]"
     ]
    },
    {
     "name": "stdout",
     "output_type": "stream",
     "text": [
      "https://books.toscrape.com/catalogue/rain-fish_728/index.html\n"
     ]
    },
    {
     "name": "stderr",
     "output_type": "stream",
     "text": [
      " 27%|█████████████████████▌                                                         | 273/1000 [04:23<11:32,  1.05it/s]"
     ]
    },
    {
     "name": "stdout",
     "output_type": "stream",
     "text": [
      "https://books.toscrape.com/catalogue/quarter-life-poetry-poems-for-the-young-broke-and-hangry_727/index.html\n"
     ]
    },
    {
     "name": "stderr",
     "output_type": "stream",
     "text": [
      " 27%|█████████████████████▋                                                         | 274/1000 [04:24<11:24,  1.06it/s]"
     ]
    },
    {
     "name": "stdout",
     "output_type": "stream",
     "text": [
      "https://books.toscrape.com/catalogue/pet-sematary_726/index.html\n"
     ]
    },
    {
     "name": "stderr",
     "output_type": "stream",
     "text": [
      " 28%|█████████████████████▋                                                         | 275/1000 [04:25<11:18,  1.07it/s]"
     ]
    },
    {
     "name": "stdout",
     "output_type": "stream",
     "text": [
      "https://books.toscrape.com/catalogue/overload-how-to-unplug-unwind-and-unleash-yourself-from-the-pressure-of-stress_725/index.html\n"
     ]
    },
    {
     "name": "stderr",
     "output_type": "stream",
     "text": [
      " 28%|█████████████████████▊                                                         | 276/1000 [04:26<11:18,  1.07it/s]"
     ]
    },
    {
     "name": "stdout",
     "output_type": "stream",
     "text": [
      "https://books.toscrape.com/catalogue/once-was-a-time_724/index.html\n"
     ]
    },
    {
     "name": "stderr",
     "output_type": "stream",
     "text": [
      " 28%|█████████████████████▉                                                         | 277/1000 [04:27<11:13,  1.07it/s]"
     ]
    },
    {
     "name": "stdout",
     "output_type": "stream",
     "text": [
      "https://books.toscrape.com/catalogue/old-school-diary-of-a-wimpy-kid-10_723/index.html\n"
     ]
    },
    {
     "name": "stderr",
     "output_type": "stream",
     "text": [
      " 28%|█████████████████████▉                                                         | 278/1000 [04:27<11:06,  1.08it/s]"
     ]
    },
    {
     "name": "stdout",
     "output_type": "stream",
     "text": [
      "https://books.toscrape.com/catalogue/no-dream-is-too-high-life-lessons-from-a-man-who-walked-on-the-moon_722/index.html\n"
     ]
    },
    {
     "name": "stderr",
     "output_type": "stream",
     "text": [
      " 28%|██████████████████████                                                         | 279/1000 [04:28<11:06,  1.08it/s]"
     ]
    },
    {
     "name": "stdout",
     "output_type": "stream",
     "text": [
      "https://books.toscrape.com/catalogue/naruto-3-in-1-edition-vol-14-includes-vols-40-41-42-naruto-omnibus-14_721/index.html\n"
     ]
    },
    {
     "name": "stderr",
     "output_type": "stream",
     "text": [
      " 28%|██████████████████████                                                         | 280/1000 [04:29<11:07,  1.08it/s]"
     ]
    },
    {
     "name": "stdout",
     "output_type": "stream",
     "text": [
      "https://books.toscrape.com/catalogue/my-name-is-lucy-barton_720/index.html\n"
     ]
    },
    {
     "name": "stderr",
     "output_type": "stream",
     "text": [
      " 28%|██████████████████████▏                                                        | 281/1000 [04:30<11:01,  1.09it/s]"
     ]
    },
    {
     "name": "stdout",
     "output_type": "stream",
     "text": [
      "https://books.toscrape.com/catalogue/my-mrs-brown_719/index.html\n"
     ]
    },
    {
     "name": "stderr",
     "output_type": "stream",
     "text": [
      " 28%|██████████████████████▎                                                        | 282/1000 [04:31<11:02,  1.08it/s]"
     ]
    },
    {
     "name": "stdout",
     "output_type": "stream",
     "text": [
      "https://books.toscrape.com/catalogue/my-kind-of-crazy_718/index.html\n"
     ]
    },
    {
     "name": "stderr",
     "output_type": "stream",
     "text": [
      " 28%|██████████████████████▎                                                        | 283/1000 [04:32<11:00,  1.09it/s]"
     ]
    },
    {
     "name": "stdout",
     "output_type": "stream",
     "text": [
      "https://books.toscrape.com/catalogue/mr-mercedes-bill-hodges-trilogy-1_717/index.html\n"
     ]
    },
    {
     "name": "stderr",
     "output_type": "stream",
     "text": [
      " 28%|██████████████████████▍                                                        | 284/1000 [04:33<11:01,  1.08it/s]"
     ]
    },
    {
     "name": "stdout",
     "output_type": "stream",
     "text": [
      "https://books.toscrape.com/catalogue/more-than-music-chasing-the-dream-1_716/index.html\n"
     ]
    },
    {
     "name": "stderr",
     "output_type": "stream",
     "text": [
      " 28%|██████████████████████▌                                                        | 285/1000 [04:34<10:58,  1.09it/s]"
     ]
    },
    {
     "name": "stdout",
     "output_type": "stream",
     "text": [
      "https://books.toscrape.com/catalogue/made-to-stick-why-some-ideas-survive-and-others-die_715/index.html\n"
     ]
    },
    {
     "name": "stderr",
     "output_type": "stream",
     "text": [
      " 29%|██████████████████████▌                                                        | 286/1000 [04:35<12:04,  1.01s/it]"
     ]
    },
    {
     "name": "stdout",
     "output_type": "stream",
     "text": [
      "https://books.toscrape.com/catalogue/luis-paints-the-world_714/index.html\n"
     ]
    },
    {
     "name": "stderr",
     "output_type": "stream",
     "text": [
      " 29%|██████████████████████▋                                                        | 287/1000 [04:36<11:43,  1.01it/s]"
     ]
    },
    {
     "name": "stdout",
     "output_type": "stream",
     "text": [
      "https://books.toscrape.com/catalogue/luckiest-girl-alive_713/index.html\n"
     ]
    },
    {
     "name": "stderr",
     "output_type": "stream",
     "text": [
      " 29%|██████████████████████▊                                                        | 288/1000 [04:37<11:31,  1.03it/s]"
     ]
    },
    {
     "name": "stdout",
     "output_type": "stream",
     "text": [
      "https://books.toscrape.com/catalogue/lowriders-to-the-center-of-the-earth-lowriders-in-space-2_712/index.html\n"
     ]
    },
    {
     "name": "stderr",
     "output_type": "stream",
     "text": [
      " 29%|██████████████████████▊                                                        | 289/1000 [04:38<11:19,  1.05it/s]"
     ]
    },
    {
     "name": "stdout",
     "output_type": "stream",
     "text": [
      "https://books.toscrape.com/catalogue/love-is-a-mix-tape-music-1_711/index.html\n"
     ]
    },
    {
     "name": "stderr",
     "output_type": "stream",
     "text": [
      " 29%|██████████████████████▉                                                        | 290/1000 [04:39<11:07,  1.06it/s]"
     ]
    },
    {
     "name": "stdout",
     "output_type": "stream",
     "text": [
      "https://books.toscrape.com/catalogue/looking-for-lovely-collecting-the-moments-that-matter_710/index.html\n"
     ]
    },
    {
     "name": "stderr",
     "output_type": "stream",
     "text": [
      " 29%|██████████████████████▉                                                        | 291/1000 [04:40<11:03,  1.07it/s]"
     ]
    },
    {
     "name": "stdout",
     "output_type": "stream",
     "text": [
      "https://books.toscrape.com/catalogue/living-leadership-by-insight-a-good-leader-achieves-a-great-leader-builds-monuments_709/index.html\n"
     ]
    },
    {
     "name": "stderr",
     "output_type": "stream",
     "text": [
      " 29%|███████████████████████                                                        | 292/1000 [04:41<11:00,  1.07it/s]"
     ]
    },
    {
     "name": "stdout",
     "output_type": "stream",
     "text": [
      "https://books.toscrape.com/catalogue/let-it-out-a-journey-through-journaling_708/index.html\n"
     ]
    },
    {
     "name": "stderr",
     "output_type": "stream",
     "text": [
      " 29%|███████████████████████▏                                                       | 293/1000 [04:42<10:55,  1.08it/s]"
     ]
    },
    {
     "name": "stdout",
     "output_type": "stream",
     "text": [
      "https://books.toscrape.com/catalogue/lady-midnight-the-dark-artifices-1_707/index.html\n"
     ]
    },
    {
     "name": "stderr",
     "output_type": "stream",
     "text": [
      " 29%|███████████████████████▏                                                       | 294/1000 [04:43<11:37,  1.01it/s]"
     ]
    },
    {
     "name": "stdout",
     "output_type": "stream",
     "text": [
      "https://books.toscrape.com/catalogue/its-all-easy-healthy-delicious-weeknight-meals-in-under-30-minutes_706/index.html\n"
     ]
    },
    {
     "name": "stderr",
     "output_type": "stream",
     "text": [
      " 30%|███████████████████████▎                                                       | 295/1000 [04:44<11:22,  1.03it/s]"
     ]
    },
    {
     "name": "stdout",
     "output_type": "stream",
     "text": [
      "https://books.toscrape.com/catalogue/island-of-dragons-unwanteds-7_705/index.html\n"
     ]
    },
    {
     "name": "stderr",
     "output_type": "stream",
     "text": [
      " 30%|███████████████████████▍                                                       | 296/1000 [04:45<11:12,  1.05it/s]"
     ]
    },
    {
     "name": "stdout",
     "output_type": "stream",
     "text": [
      "https://books.toscrape.com/catalogue/i-know-what-im-doing-and-other-lies-i-tell-myself-dispatches-from-a-life-under-construction_704/index.html\n"
     ]
    },
    {
     "name": "stderr",
     "output_type": "stream",
     "text": [
      " 30%|███████████████████████▍                                                       | 297/1000 [04:45<11:07,  1.05it/s]"
     ]
    },
    {
     "name": "stdout",
     "output_type": "stream",
     "text": [
      "https://books.toscrape.com/catalogue/i-am-pilgrim-pilgrim-1_703/index.html\n"
     ]
    },
    {
     "name": "stderr",
     "output_type": "stream",
     "text": [
      " 30%|███████████████████████▌                                                       | 298/1000 [04:46<10:48,  1.08it/s]"
     ]
    },
    {
     "name": "stdout",
     "output_type": "stream",
     "text": [
      "https://books.toscrape.com/catalogue/hyperbole-and-a-half-unfortunate-situations-flawed-coping-mechanisms-mayhem-and-other-things-that-happened_702/index.html\n"
     ]
    },
    {
     "name": "stderr",
     "output_type": "stream",
     "text": [
      " 30%|███████████████████████▌                                                       | 299/1000 [04:47<10:53,  1.07it/s]"
     ]
    },
    {
     "name": "stdout",
     "output_type": "stream",
     "text": [
      "https://books.toscrape.com/catalogue/hush-hush-hush-hush-1_701/index.html\n"
     ]
    },
    {
     "name": "stderr",
     "output_type": "stream",
     "text": [
      " 30%|███████████████████████▋                                                       | 300/1000 [04:48<10:53,  1.07it/s]"
     ]
    },
    {
     "name": "stdout",
     "output_type": "stream",
     "text": [
      "https://books.toscrape.com/catalogue/hold-your-breath-search-and-rescue-1_700/index.html\n"
     ]
    },
    {
     "name": "stderr",
     "output_type": "stream",
     "text": [
      " 30%|███████████████████████▊                                                       | 301/1000 [04:49<10:48,  1.08it/s]"
     ]
    },
    {
     "name": "stdout",
     "output_type": "stream",
     "text": [
      "https://books.toscrape.com/catalogue/hamilton-the-revolution_699/index.html\n"
     ]
    },
    {
     "name": "stderr",
     "output_type": "stream",
     "text": [
      " 30%|███████████████████████▊                                                       | 302/1000 [04:50<11:49,  1.02s/it]"
     ]
    },
    {
     "name": "stdout",
     "output_type": "stream",
     "text": [
      "https://books.toscrape.com/catalogue/greek-mythic-history_698/index.html\n"
     ]
    },
    {
     "name": "stderr",
     "output_type": "stream",
     "text": [
      " 30%|███████████████████████▉                                                       | 303/1000 [04:51<11:31,  1.01it/s]"
     ]
    },
    {
     "name": "stdout",
     "output_type": "stream",
     "text": [
      "https://books.toscrape.com/catalogue/god-the-most-unpleasant-character-in-all-fiction_697/index.html\n"
     ]
    },
    {
     "name": "stderr",
     "output_type": "stream",
     "text": [
      " 30%|████████████████████████                                                       | 304/1000 [04:52<11:14,  1.03it/s]"
     ]
    },
    {
     "name": "stdout",
     "output_type": "stream",
     "text": [
      "https://books.toscrape.com/catalogue/glory-over-everything-beyond-the-kitchen-house_696/index.html\n"
     ]
    },
    {
     "name": "stderr",
     "output_type": "stream",
     "text": [
      " 30%|████████████████████████                                                       | 305/1000 [04:53<12:02,  1.04s/it]"
     ]
    },
    {
     "name": "stdout",
     "output_type": "stream",
     "text": [
      "https://books.toscrape.com/catalogue/feathers-displays-of-brilliant-plumage_695/index.html\n"
     ]
    },
    {
     "name": "stderr",
     "output_type": "stream",
     "text": [
      " 31%|████████████████████████▏                                                      | 306/1000 [04:54<11:22,  1.02it/s]"
     ]
    },
    {
     "name": "stdout",
     "output_type": "stream",
     "text": [
      "https://books.toscrape.com/catalogue/far-away-places-on-the-brink-of-change-seven-continents-twenty-five-years_694/index.html\n"
     ]
    },
    {
     "name": "stderr",
     "output_type": "stream",
     "text": [
      " 31%|████████████████████████▎                                                      | 307/1000 [04:55<11:44,  1.02s/it]"
     ]
    },
    {
     "name": "stdout",
     "output_type": "stream",
     "text": [
      "https://books.toscrape.com/catalogue/every-last-word_693/index.html\n"
     ]
    },
    {
     "name": "stderr",
     "output_type": "stream",
     "text": [
      " 31%|████████████████████████▎                                                      | 308/1000 [04:56<11:09,  1.03it/s]"
     ]
    },
    {
     "name": "stdout",
     "output_type": "stream",
     "text": [
      "https://books.toscrape.com/catalogue/eligible-the-austen-project-4_692/index.html\n"
     ]
    },
    {
     "name": "stderr",
     "output_type": "stream",
     "text": [
      " 31%|████████████████████████▍                                                      | 309/1000 [04:57<11:01,  1.04it/s]"
     ]
    },
    {
     "name": "stdout",
     "output_type": "stream",
     "text": [
      "https://books.toscrape.com/catalogue/el-deafo_691/index.html\n"
     ]
    },
    {
     "name": "stderr",
     "output_type": "stream",
     "text": [
      " 31%|████████████████████████▍                                                      | 310/1000 [04:58<10:44,  1.07it/s]"
     ]
    },
    {
     "name": "stdout",
     "output_type": "stream",
     "text": [
      "https://books.toscrape.com/catalogue/eight-hundred-grapes_690/index.html\n"
     ]
    },
    {
     "name": "stderr",
     "output_type": "stream",
     "text": [
      " 31%|████████████████████████▌                                                      | 311/1000 [04:59<10:45,  1.07it/s]"
     ]
    },
    {
     "name": "stdout",
     "output_type": "stream",
     "text": [
      "https://books.toscrape.com/catalogue/eaternity-more-than-150-deliciously-easy-vegan-recipes-for-a-long-healthy-satisfied-joyful-life_689/index.html\n"
     ]
    },
    {
     "name": "stderr",
     "output_type": "stream",
     "text": [
      " 31%|████████████████████████▋                                                      | 312/1000 [05:00<11:44,  1.02s/it]"
     ]
    },
    {
     "name": "stdout",
     "output_type": "stream",
     "text": [
      "https://books.toscrape.com/catalogue/eat-fat-get-thin_688/index.html\n"
     ]
    },
    {
     "name": "stderr",
     "output_type": "stream",
     "text": [
      " 31%|████████████████████████▋                                                      | 313/1000 [05:01<11:21,  1.01it/s]"
     ]
    },
    {
     "name": "stdout",
     "output_type": "stream",
     "text": [
      "https://books.toscrape.com/catalogue/dont-get-caught_687/index.html\n"
     ]
    },
    {
     "name": "stderr",
     "output_type": "stream",
     "text": [
      " 31%|████████████████████████▊                                                      | 314/1000 [05:02<11:07,  1.03it/s]"
     ]
    },
    {
     "name": "stdout",
     "output_type": "stream",
     "text": [
      "https://books.toscrape.com/catalogue/doctor-sleep-the-shining-2_686/index.html\n"
     ]
    },
    {
     "name": "stderr",
     "output_type": "stream",
     "text": [
      " 32%|████████████████████████▉                                                      | 315/1000 [05:03<10:55,  1.05it/s]"
     ]
    },
    {
     "name": "stdout",
     "output_type": "stream",
     "text": [
      "https://books.toscrape.com/catalogue/demigods-magicians-percy-and-annabeth-meet-the-kanes-percy-jackson-kane-chronicles-crossover-1-3_685/index.html\n"
     ]
    },
    {
     "name": "stderr",
     "output_type": "stream",
     "text": [
      " 32%|████████████████████████▉                                                      | 316/1000 [05:04<10:47,  1.06it/s]"
     ]
    },
    {
     "name": "stdout",
     "output_type": "stream",
     "text": [
      "https://books.toscrape.com/catalogue/dear-mr-knightley_684/index.html\n"
     ]
    },
    {
     "name": "stderr",
     "output_type": "stream",
     "text": [
      " 32%|█████████████████████████                                                      | 317/1000 [05:05<10:45,  1.06it/s]"
     ]
    },
    {
     "name": "stdout",
     "output_type": "stream",
     "text": [
      "https://books.toscrape.com/catalogue/daily-fantasy-sports_683/index.html\n"
     ]
    },
    {
     "name": "stderr",
     "output_type": "stream",
     "text": [
      " 32%|█████████████████████████                                                      | 318/1000 [05:06<11:37,  1.02s/it]"
     ]
    },
    {
     "name": "stdout",
     "output_type": "stream",
     "text": [
      "https://books.toscrape.com/catalogue/crazy-love-overwhelmed-by-a-relentless-god_682/index.html\n"
     ]
    },
    {
     "name": "stderr",
     "output_type": "stream",
     "text": [
      " 32%|█████████████████████████▏                                                     | 319/1000 [05:07<11:16,  1.01it/s]"
     ]
    },
    {
     "name": "stdout",
     "output_type": "stream",
     "text": [
      "https://books.toscrape.com/catalogue/cometh-the-hour-the-clifton-chronicles-6_681/index.html\n"
     ]
    },
    {
     "name": "stderr",
     "output_type": "stream",
     "text": [
      " 32%|█████████████████████████▎                                                     | 320/1000 [05:08<11:00,  1.03it/s]"
     ]
    },
    {
     "name": "stdout",
     "output_type": "stream",
     "text": [
      "https://books.toscrape.com/catalogue/code-name-verity-code-name-verity-1_680/index.html\n"
     ]
    },
    {
     "name": "stderr",
     "output_type": "stream",
     "text": [
      " 32%|█████████████████████████▎                                                     | 321/1000 [05:09<10:49,  1.04it/s]"
     ]
    },
    {
     "name": "stdout",
     "output_type": "stream",
     "text": [
      "https://books.toscrape.com/catalogue/clockwork-angel-the-infernal-devices-1_679/index.html\n"
     ]
    },
    {
     "name": "stderr",
     "output_type": "stream",
     "text": [
      " 32%|█████████████████████████▍                                                     | 322/1000 [05:10<10:39,  1.06it/s]"
     ]
    },
    {
     "name": "stdout",
     "output_type": "stream",
     "text": [
      "https://books.toscrape.com/catalogue/city-of-glass-the-mortal-instruments-3_678/index.html\n"
     ]
    },
    {
     "name": "stderr",
     "output_type": "stream",
     "text": [
      " 32%|█████████████████████████▌                                                     | 323/1000 [05:11<10:37,  1.06it/s]"
     ]
    },
    {
     "name": "stdout",
     "output_type": "stream",
     "text": [
      "https://books.toscrape.com/catalogue/city-of-fallen-angels-the-mortal-instruments-4_677/index.html\n"
     ]
    },
    {
     "name": "stderr",
     "output_type": "stream",
     "text": [
      " 32%|█████████████████████████▌                                                     | 324/1000 [05:12<10:33,  1.07it/s]"
     ]
    },
    {
     "name": "stdout",
     "output_type": "stream",
     "text": [
      "https://books.toscrape.com/catalogue/city-of-bones-the-mortal-instruments-1_676/index.html\n"
     ]
    },
    {
     "name": "stderr",
     "output_type": "stream",
     "text": [
      " 32%|█████████████████████████▋                                                     | 325/1000 [05:12<10:27,  1.08it/s]"
     ]
    },
    {
     "name": "stdout",
     "output_type": "stream",
     "text": [
      "https://books.toscrape.com/catalogue/city-of-ashes-the-mortal-instruments-2_675/index.html\n"
     ]
    },
    {
     "name": "stderr",
     "output_type": "stream",
     "text": [
      " 33%|█████████████████████████▊                                                     | 326/1000 [05:13<10:26,  1.08it/s]"
     ]
    },
    {
     "name": "stdout",
     "output_type": "stream",
     "text": [
      "https://books.toscrape.com/catalogue/cell_674/index.html\n"
     ]
    },
    {
     "name": "stderr",
     "output_type": "stream",
     "text": [
      " 33%|█████████████████████████▊                                                     | 327/1000 [05:15<12:06,  1.08s/it]"
     ]
    },
    {
     "name": "stdout",
     "output_type": "stream",
     "text": [
      "https://books.toscrape.com/catalogue/catching-jordan-hundred-oaks_673/index.html\n"
     ]
    },
    {
     "name": "stderr",
     "output_type": "stream",
     "text": [
      " 33%|█████████████████████████▉                                                     | 328/1000 [05:16<12:33,  1.12s/it]"
     ]
    },
    {
     "name": "stdout",
     "output_type": "stream",
     "text": [
      "https://books.toscrape.com/catalogue/carry-on-warrior-thoughts-on-life-unarmed_672/index.html\n"
     ]
    },
    {
     "name": "stderr",
     "output_type": "stream",
     "text": [
      " 33%|█████████████████████████▉                                                     | 329/1000 [05:18<15:34,  1.39s/it]"
     ]
    },
    {
     "name": "stdout",
     "output_type": "stream",
     "text": [
      "https://books.toscrape.com/catalogue/carrie_671/index.html\n"
     ]
    },
    {
     "name": "stderr",
     "output_type": "stream",
     "text": [
      " 33%|██████████████████████████                                                     | 330/1000 [05:19<14:47,  1.33s/it]"
     ]
    },
    {
     "name": "stdout",
     "output_type": "stream",
     "text": [
      "https://books.toscrape.com/catalogue/buying-in-the-secret-dialogue-between-what-we-buy-and-who-we-are_670/index.html\n"
     ]
    },
    {
     "name": "stderr",
     "output_type": "stream",
     "text": [
      " 33%|██████████████████████████▏                                                    | 331/1000 [05:20<14:28,  1.30s/it]"
     ]
    },
    {
     "name": "stdout",
     "output_type": "stream",
     "text": [
      "https://books.toscrape.com/catalogue/brain-on-fire-my-month-of-madness_669/index.html\n"
     ]
    },
    {
     "name": "stderr",
     "output_type": "stream",
     "text": [
      " 33%|██████████████████████████▏                                                    | 332/1000 [05:21<13:11,  1.19s/it]"
     ]
    },
    {
     "name": "stdout",
     "output_type": "stream",
     "text": [
      "https://books.toscrape.com/catalogue/batman-europa_668/index.html\n"
     ]
    },
    {
     "name": "stderr",
     "output_type": "stream",
     "text": [
      " 33%|██████████████████████████▎                                                    | 333/1000 [05:22<12:14,  1.10s/it]"
     ]
    },
    {
     "name": "stdout",
     "output_type": "stream",
     "text": [
      "https://books.toscrape.com/catalogue/barefoot-contessa-back-to-basics_667/index.html\n"
     ]
    },
    {
     "name": "stderr",
     "output_type": "stream",
     "text": [
      " 33%|██████████████████████████▍                                                    | 334/1000 [05:23<11:35,  1.04s/it]"
     ]
    },
    {
     "name": "stdout",
     "output_type": "stream",
     "text": [
      "https://books.toscrape.com/catalogue/barefoot-contessa-at-home-everyday-recipes-youll-make-over-and-over-again_666/index.html\n"
     ]
    },
    {
     "name": "stderr",
     "output_type": "stream",
     "text": [
      " 34%|██████████████████████████▍                                                    | 335/1000 [05:24<11:14,  1.01s/it]"
     ]
    },
    {
     "name": "stdout",
     "output_type": "stream",
     "text": [
      "https://books.toscrape.com/catalogue/balloon-animals_665/index.html\n"
     ]
    },
    {
     "name": "stderr",
     "output_type": "stream",
     "text": [
      " 34%|██████████████████████████▌                                                    | 336/1000 [05:25<10:52,  1.02it/s]"
     ]
    },
    {
     "name": "stdout",
     "output_type": "stream",
     "text": [
      "https://books.toscrape.com/catalogue/art-ops-vol-1_664/index.html\n"
     ]
    },
    {
     "name": "stderr",
     "output_type": "stream",
     "text": [
      " 34%|██████████████████████████▌                                                    | 337/1000 [05:26<10:29,  1.05it/s]"
     ]
    },
    {
     "name": "stdout",
     "output_type": "stream",
     "text": [
      "https://books.toscrape.com/catalogue/aristotle-and-dante-discover-the-secrets-of-the-universe-aristotle-and-dante-discover-the-secrets-of-the-universe-1_663/index.html\n"
     ]
    },
    {
     "name": "stderr",
     "output_type": "stream",
     "text": [
      " 34%|██████████████████████████▋                                                    | 338/1000 [05:27<10:06,  1.09it/s]"
     ]
    },
    {
     "name": "stdout",
     "output_type": "stream",
     "text": [
      "https://books.toscrape.com/catalogue/angels-walking-angels-walking-1_662/index.html\n"
     ]
    },
    {
     "name": "stderr",
     "output_type": "stream",
     "text": [
      " 34%|██████████████████████████▊                                                    | 339/1000 [05:28<09:48,  1.12it/s]"
     ]
    },
    {
     "name": "stdout",
     "output_type": "stream",
     "text": [
      "https://books.toscrape.com/catalogue/angels-demons-robert-langdon-1_661/index.html\n"
     ]
    },
    {
     "name": "stderr",
     "output_type": "stream",
     "text": [
      " 34%|██████████████████████████▊                                                    | 340/1000 [05:29<09:48,  1.12it/s]"
     ]
    },
    {
     "name": "stdout",
     "output_type": "stream",
     "text": [
      "https://books.toscrape.com/catalogue/all-the-light-we-cannot-see_660/index.html\n"
     ]
    },
    {
     "name": "stderr",
     "output_type": "stream",
     "text": [
      " 34%|██████████████████████████▉                                                    | 341/1000 [05:30<10:46,  1.02it/s]"
     ]
    },
    {
     "name": "stdout",
     "output_type": "stream",
     "text": [
      "https://books.toscrape.com/catalogue/adulthood-is-a-myth-a-sarahs-scribbles-collection_659/index.html\n"
     ]
    },
    {
     "name": "stderr",
     "output_type": "stream",
     "text": [
      " 34%|███████████████████████████                                                    | 342/1000 [05:31<10:38,  1.03it/s]"
     ]
    },
    {
     "name": "stdout",
     "output_type": "stream",
     "text": [
      "https://books.toscrape.com/catalogue/abstract-city_658/index.html\n"
     ]
    },
    {
     "name": "stderr",
     "output_type": "stream",
     "text": [
      " 34%|███████████████████████████                                                    | 343/1000 [05:32<11:41,  1.07s/it]"
     ]
    },
    {
     "name": "stdout",
     "output_type": "stream",
     "text": [
      "https://books.toscrape.com/catalogue/a-time-of-torment-charlie-parker-14_657/index.html\n"
     ]
    },
    {
     "name": "stderr",
     "output_type": "stream",
     "text": [
      " 34%|███████████████████████████▏                                                   | 344/1000 [05:33<11:31,  1.05s/it]"
     ]
    },
    {
     "name": "stdout",
     "output_type": "stream",
     "text": [
      "https://books.toscrape.com/catalogue/a-study-in-scarlet-sherlock-holmes-1_656/index.html\n"
     ]
    },
    {
     "name": "stderr",
     "output_type": "stream",
     "text": [
      " 34%|███████████████████████████▎                                                   | 345/1000 [05:34<11:00,  1.01s/it]"
     ]
    },
    {
     "name": "stdout",
     "output_type": "stream",
     "text": [
      "https://books.toscrape.com/catalogue/a-series-of-catastrophes-and-miracles-a-true-story-of-love-science-and-cancer_655/index.html\n"
     ]
    },
    {
     "name": "stderr",
     "output_type": "stream",
     "text": [
      " 35%|███████████████████████████▎                                                   | 346/1000 [05:35<10:24,  1.05it/s]"
     ]
    },
    {
     "name": "stdout",
     "output_type": "stream",
     "text": [
      "https://books.toscrape.com/catalogue/a-peoples-history-of-the-united-states_654/index.html\n"
     ]
    },
    {
     "name": "stderr",
     "output_type": "stream",
     "text": [
      " 35%|███████████████████████████▍                                                   | 347/1000 [05:36<09:56,  1.09it/s]"
     ]
    },
    {
     "name": "stdout",
     "output_type": "stream",
     "text": [
      "https://books.toscrape.com/catalogue/a-man-called-ove_653/index.html\n"
     ]
    },
    {
     "name": "stderr",
     "output_type": "stream",
     "text": [
      " 35%|███████████████████████████▍                                                   | 348/1000 [05:36<09:47,  1.11it/s]"
     ]
    },
    {
     "name": "stdout",
     "output_type": "stream",
     "text": [
      "https://books.toscrape.com/catalogue/a-distant-mirror-the-calamitous-14th-century_652/index.html\n"
     ]
    },
    {
     "name": "stderr",
     "output_type": "stream",
     "text": [
      " 35%|███████████████████████████▌                                                   | 349/1000 [05:37<09:32,  1.14it/s]"
     ]
    },
    {
     "name": "stdout",
     "output_type": "stream",
     "text": [
      "https://books.toscrape.com/catalogue/a-brush-of-wings-angels-walking-3_651/index.html\n"
     ]
    },
    {
     "name": "stderr",
     "output_type": "stream",
     "text": [
      " 35%|███████████████████████████▋                                                   | 350/1000 [05:38<09:27,  1.15it/s]"
     ]
    },
    {
     "name": "stdout",
     "output_type": "stream",
     "text": [
      "https://books.toscrape.com/catalogue/1491-new-revelations-of-the-americas-before-columbus_650/index.html\n"
     ]
    },
    {
     "name": "stderr",
     "output_type": "stream",
     "text": [
      " 35%|███████████████████████████▋                                                   | 351/1000 [05:39<09:17,  1.16it/s]"
     ]
    },
    {
     "name": "stdout",
     "output_type": "stream",
     "text": [
      "https://books.toscrape.com/catalogue/the-three-searches-meaning-and-the-story_649/index.html\n"
     ]
    },
    {
     "name": "stderr",
     "output_type": "stream",
     "text": [
      " 35%|███████████████████████████▊                                                   | 352/1000 [05:40<09:09,  1.18it/s]"
     ]
    },
    {
     "name": "stdout",
     "output_type": "stream",
     "text": [
      "https://books.toscrape.com/catalogue/searching-for-meaning-in-gailana_648/index.html\n"
     ]
    },
    {
     "name": "stderr",
     "output_type": "stream",
     "text": [
      " 35%|███████████████████████████▉                                                   | 353/1000 [05:41<10:16,  1.05it/s]"
     ]
    },
    {
     "name": "stdout",
     "output_type": "stream",
     "text": [
      "https://books.toscrape.com/catalogue/rook_647/index.html\n"
     ]
    },
    {
     "name": "stderr",
     "output_type": "stream",
     "text": [
      " 35%|███████████████████████████▉                                                   | 354/1000 [05:42<09:59,  1.08it/s]"
     ]
    },
    {
     "name": "stdout",
     "output_type": "stream",
     "text": [
      "https://books.toscrape.com/catalogue/my-kitchen-year-136-recipes-that-saved-my-life_646/index.html\n"
     ]
    },
    {
     "name": "stderr",
     "output_type": "stream",
     "text": [
      " 36%|████████████████████████████                                                   | 355/1000 [05:43<09:49,  1.09it/s]"
     ]
    },
    {
     "name": "stdout",
     "output_type": "stream",
     "text": [
      "https://books.toscrape.com/catalogue/13-hours-the-inside-account-of-what-really-happened-in-benghazi_645/index.html\n"
     ]
    },
    {
     "name": "stderr",
     "output_type": "stream",
     "text": [
      " 36%|████████████████████████████                                                   | 356/1000 [05:44<10:32,  1.02it/s]"
     ]
    },
    {
     "name": "stdout",
     "output_type": "stream",
     "text": [
      "https://books.toscrape.com/catalogue/will-you-wont-you-want-me_644/index.html\n"
     ]
    },
    {
     "name": "stderr",
     "output_type": "stream",
     "text": [
      " 36%|████████████████████████████▏                                                  | 357/1000 [05:46<14:43,  1.37s/it]"
     ]
    },
    {
     "name": "stdout",
     "output_type": "stream",
     "text": [
      "https://books.toscrape.com/catalogue/tipping-point-for-planet-earth-how-close-are-we-to-the-edge_643/index.html\n"
     ]
    },
    {
     "name": "stderr",
     "output_type": "stream",
     "text": [
      " 36%|████████████████████████████▎                                                  | 358/1000 [05:47<13:08,  1.23s/it]"
     ]
    },
    {
     "name": "stdout",
     "output_type": "stream",
     "text": [
      "https://books.toscrape.com/catalogue/the-star-touched-queen_642/index.html\n"
     ]
    },
    {
     "name": "stderr",
     "output_type": "stream",
     "text": [
      " 36%|████████████████████████████▎                                                  | 359/1000 [05:48<11:53,  1.11s/it]"
     ]
    },
    {
     "name": "stdout",
     "output_type": "stream",
     "text": [
      "https://books.toscrape.com/catalogue/the-silent-sister-riley-macpherson-1_641/index.html\n"
     ]
    },
    {
     "name": "stderr",
     "output_type": "stream",
     "text": [
      " 36%|████████████████████████████▍                                                  | 360/1000 [05:49<11:01,  1.03s/it]"
     ]
    },
    {
     "name": "stdout",
     "output_type": "stream",
     "text": [
      "https://books.toscrape.com/catalogue/the-midnight-watch-a-novel-of-the-titanic-and-the-californian_640/index.html\n"
     ]
    },
    {
     "name": "stderr",
     "output_type": "stream",
     "text": [
      " 36%|████████████████████████████▌                                                  | 361/1000 [05:50<10:24,  1.02it/s]"
     ]
    },
    {
     "name": "stdout",
     "output_type": "stream",
     "text": [
      "https://books.toscrape.com/catalogue/the-lonely-city-adventures-in-the-art-of-being-alone_639/index.html\n"
     ]
    },
    {
     "name": "stderr",
     "output_type": "stream",
     "text": [
      " 36%|████████████████████████████▌                                                  | 362/1000 [05:50<09:59,  1.06it/s]"
     ]
    },
    {
     "name": "stdout",
     "output_type": "stream",
     "text": [
      "https://books.toscrape.com/catalogue/the-gray-rhino-how-to-recognize-and-act-on-the-obvious-dangers-we-ignore_638/index.html\n"
     ]
    },
    {
     "name": "stderr",
     "output_type": "stream",
     "text": [
      " 36%|████████████████████████████▋                                                  | 363/1000 [05:51<09:37,  1.10it/s]"
     ]
    },
    {
     "name": "stdout",
     "output_type": "stream",
     "text": [
      "https://books.toscrape.com/catalogue/the-golden-condom-and-other-essays-on-love-lost-and-found_637/index.html\n"
     ]
    },
    {
     "name": "stderr",
     "output_type": "stream",
     "text": [
      " 36%|████████████████████████████▊                                                  | 364/1000 [05:52<09:27,  1.12it/s]"
     ]
    },
    {
     "name": "stdout",
     "output_type": "stream",
     "text": [
      "https://books.toscrape.com/catalogue/the-epidemic-the-program-06_636/index.html\n"
     ]
    },
    {
     "name": "stderr",
     "output_type": "stream",
     "text": [
      " 36%|████████████████████████████▊                                                  | 365/1000 [05:53<09:15,  1.14it/s]"
     ]
    },
    {
     "name": "stdout",
     "output_type": "stream",
     "text": [
      "https://books.toscrape.com/catalogue/the-dinner-party_635/index.html\n"
     ]
    },
    {
     "name": "stderr",
     "output_type": "stream",
     "text": [
      " 37%|████████████████████████████▉                                                  | 366/1000 [05:54<09:31,  1.11it/s]"
     ]
    },
    {
     "name": "stdout",
     "output_type": "stream",
     "text": [
      "https://books.toscrape.com/catalogue/the-diary-of-a-young-girl_634/index.html\n"
     ]
    },
    {
     "name": "stderr",
     "output_type": "stream",
     "text": [
      " 37%|████████████████████████████▉                                                  | 367/1000 [05:55<09:35,  1.10it/s]"
     ]
    },
    {
     "name": "stdout",
     "output_type": "stream",
     "text": [
      "https://books.toscrape.com/catalogue/the-children_633/index.html\n"
     ]
    },
    {
     "name": "stderr",
     "output_type": "stream",
     "text": [
      " 37%|█████████████████████████████                                                  | 368/1000 [05:56<09:56,  1.06it/s]"
     ]
    },
    {
     "name": "stdout",
     "output_type": "stream",
     "text": [
      "https://books.toscrape.com/catalogue/stars-above-the-lunar-chronicles-45_632/index.html\n"
     ]
    },
    {
     "name": "stderr",
     "output_type": "stream",
     "text": [
      " 37%|█████████████████████████████▏                                                 | 369/1000 [05:57<09:49,  1.07it/s]"
     ]
    },
    {
     "name": "stdout",
     "output_type": "stream",
     "text": [
      "https://books.toscrape.com/catalogue/snatched-how-a-drug-queen-went-undercover-for-the-dea-and-was-kidnapped-by-colombian-guerillas_631/index.html\n"
     ]
    },
    {
     "name": "stderr",
     "output_type": "stream",
     "text": [
      " 37%|█████████████████████████████▏                                                 | 370/1000 [05:58<09:37,  1.09it/s]"
     ]
    },
    {
     "name": "stdout",
     "output_type": "stream",
     "text": [
      "https://books.toscrape.com/catalogue/raspberry-pi-electronics-projects-for-the-evil-genius_630/index.html\n"
     ]
    },
    {
     "name": "stderr",
     "output_type": "stream",
     "text": [
      " 37%|█████████████████████████████▎                                                 | 371/1000 [05:59<09:40,  1.08it/s]"
     ]
    },
    {
     "name": "stdout",
     "output_type": "stream",
     "text": [
      "https://books.toscrape.com/catalogue/quench-your-own-thirst-business-lessons-learned-over-a-beer-or-two_629/index.html\n"
     ]
    },
    {
     "name": "stderr",
     "output_type": "stream",
     "text": [
      " 37%|█████████████████████████████▍                                                 | 372/1000 [05:59<09:45,  1.07it/s]"
     ]
    },
    {
     "name": "stdout",
     "output_type": "stream",
     "text": [
      "https://books.toscrape.com/catalogue/psycho-sanitarium-psycho-15_628/index.html\n"
     ]
    },
    {
     "name": "stderr",
     "output_type": "stream",
     "text": [
      " 37%|█████████████████████████████▍                                                 | 373/1000 [06:00<09:14,  1.13it/s]"
     ]
    },
    {
     "name": "stdout",
     "output_type": "stream",
     "text": [
      "https://books.toscrape.com/catalogue/poisonous-max-revere-novels-3_627/index.html\n"
     ]
    },
    {
     "name": "stderr",
     "output_type": "stream",
     "text": [
      " 37%|█████████████████████████████▌                                                 | 374/1000 [06:01<09:29,  1.10it/s]"
     ]
    },
    {
     "name": "stdout",
     "output_type": "stream",
     "text": [
      "https://books.toscrape.com/catalogue/one-with-you-crossfire-5_626/index.html\n"
     ]
    },
    {
     "name": "stderr",
     "output_type": "stream",
     "text": [
      " 38%|█████████████████████████████▋                                                 | 375/1000 [06:02<09:29,  1.10it/s]"
     ]
    },
    {
     "name": "stdout",
     "output_type": "stream",
     "text": [
      "https://books.toscrape.com/catalogue/no-love-allowed-dodge-cove-1_625/index.html\n"
     ]
    },
    {
     "name": "stderr",
     "output_type": "stream",
     "text": [
      " 38%|█████████████████████████████▋                                                 | 376/1000 [06:03<09:29,  1.10it/s]"
     ]
    },
    {
     "name": "stdout",
     "output_type": "stream",
     "text": [
      "https://books.toscrape.com/catalogue/murder-at-the-42nd-street-library-raymond-ambler-1_624/index.html\n"
     ]
    },
    {
     "name": "stderr",
     "output_type": "stream",
     "text": [
      " 38%|█████████████████████████████▊                                                 | 377/1000 [06:04<09:33,  1.09it/s]"
     ]
    },
    {
     "name": "stdout",
     "output_type": "stream",
     "text": [
      "https://books.toscrape.com/catalogue/most-wanted_623/index.html\n"
     ]
    },
    {
     "name": "stderr",
     "output_type": "stream",
     "text": [
      " 38%|█████████████████████████████▊                                                 | 378/1000 [06:05<09:29,  1.09it/s]"
     ]
    },
    {
     "name": "stdout",
     "output_type": "stream",
     "text": [
      "https://books.toscrape.com/catalogue/love-lies-and-spies_622/index.html\n"
     ]
    },
    {
     "name": "stderr",
     "output_type": "stream",
     "text": [
      " 38%|█████████████████████████████▉                                                 | 379/1000 [06:06<09:29,  1.09it/s]"
     ]
    },
    {
     "name": "stdout",
     "output_type": "stream",
     "text": [
      "https://books.toscrape.com/catalogue/how-to-speak-golf-an-illustrated-guide-to-links-lingo_621/index.html\n"
     ]
    },
    {
     "name": "stderr",
     "output_type": "stream",
     "text": [
      " 38%|██████████████████████████████                                                 | 380/1000 [06:07<09:32,  1.08it/s]"
     ]
    },
    {
     "name": "stdout",
     "output_type": "stream",
     "text": [
      "https://books.toscrape.com/catalogue/hide-away-eve-duncan-20_620/index.html\n"
     ]
    },
    {
     "name": "stderr",
     "output_type": "stream",
     "text": [
      " 38%|██████████████████████████████                                                 | 381/1000 [06:08<09:28,  1.09it/s]"
     ]
    },
    {
     "name": "stdout",
     "output_type": "stream",
     "text": [
      "https://books.toscrape.com/catalogue/furiously-happy-a-funny-book-about-horrible-things_619/index.html\n"
     ]
    },
    {
     "name": "stderr",
     "output_type": "stream",
     "text": [
      " 38%|██████████████████████████████▏                                                | 382/1000 [06:09<10:25,  1.01s/it]"
     ]
    },
    {
     "name": "stdout",
     "output_type": "stream",
     "text": [
      "https://books.toscrape.com/catalogue/everyday-italian-125-simple-and-delicious-recipes_618/index.html\n"
     ]
    },
    {
     "name": "stderr",
     "output_type": "stream",
     "text": [
      " 38%|██████████████████████████████▎                                                | 383/1000 [06:10<11:05,  1.08s/it]"
     ]
    },
    {
     "name": "stdout",
     "output_type": "stream",
     "text": [
      "https://books.toscrape.com/catalogue/equal-is-unfair-americas-misguided-fight-against-income-inequality_617/index.html\n"
     ]
    },
    {
     "name": "stderr",
     "output_type": "stream",
     "text": [
      " 38%|██████████████████████████████▎                                                | 384/1000 [06:11<11:31,  1.12s/it]"
     ]
    },
    {
     "name": "stdout",
     "output_type": "stream",
     "text": [
      "https://books.toscrape.com/catalogue/eleanor-park_616/index.html\n"
     ]
    },
    {
     "name": "stderr",
     "output_type": "stream",
     "text": [
      " 38%|██████████████████████████████▍                                                | 385/1000 [06:12<10:52,  1.06s/it]"
     ]
    },
    {
     "name": "stdout",
     "output_type": "stream",
     "text": [
      "https://books.toscrape.com/catalogue/dirty-dive-bar-1_615/index.html\n"
     ]
    },
    {
     "name": "stderr",
     "output_type": "stream",
     "text": [
      " 39%|██████████████████████████████▍                                                | 386/1000 [06:13<10:10,  1.01it/s]"
     ]
    },
    {
     "name": "stdout",
     "output_type": "stream",
     "text": [
      "https://books.toscrape.com/catalogue/can-you-keep-a-secret-fear-street-relaunch-4_614/index.html\n"
     ]
    },
    {
     "name": "stderr",
     "output_type": "stream",
     "text": [
      " 39%|██████████████████████████████▌                                                | 387/1000 [06:14<09:50,  1.04it/s]"
     ]
    },
    {
     "name": "stdout",
     "output_type": "stream",
     "text": [
      "https://books.toscrape.com/catalogue/boar-island-anna-pigeon-19_613/index.html\n"
     ]
    },
    {
     "name": "stderr",
     "output_type": "stream",
     "text": [
      " 39%|██████████████████████████████▋                                                | 388/1000 [06:15<09:44,  1.05it/s]"
     ]
    },
    {
     "name": "stdout",
     "output_type": "stream",
     "text": [
      "https://books.toscrape.com/catalogue/a-paris-apartment_612/index.html\n"
     ]
    },
    {
     "name": "stderr",
     "output_type": "stream",
     "text": [
      " 39%|██████████████████████████████▋                                                | 389/1000 [06:16<10:32,  1.04s/it]"
     ]
    },
    {
     "name": "stdout",
     "output_type": "stream",
     "text": [
      "https://books.toscrape.com/catalogue/a-la-mode-120-recipes-in-60-pairings-pies-tarts-cakes-crisps-and-more-topped-with-ice-cream-gelato-frozen-custard-and-more_611/index.html\n"
     ]
    },
    {
     "name": "stderr",
     "output_type": "stream",
     "text": [
      " 39%|██████████████████████████████▊                                                | 390/1000 [06:17<10:07,  1.00it/s]"
     ]
    },
    {
     "name": "stdout",
     "output_type": "stream",
     "text": [
      "https://books.toscrape.com/catalogue/troublemaker-surviving-hollywood-and-scientology_610/index.html\n"
     ]
    },
    {
     "name": "stderr",
     "output_type": "stream",
     "text": [
      " 39%|██████████████████████████████▉                                                | 391/1000 [06:19<11:30,  1.13s/it]"
     ]
    },
    {
     "name": "stdout",
     "output_type": "stream",
     "text": [
      "https://books.toscrape.com/catalogue/the-widow_609/index.html\n"
     ]
    },
    {
     "name": "stderr",
     "output_type": "stream",
     "text": [
      " 39%|██████████████████████████████▉                                                | 392/1000 [06:20<11:17,  1.11s/it]"
     ]
    },
    {
     "name": "stdout",
     "output_type": "stream",
     "text": [
      "https://books.toscrape.com/catalogue/the-sleep-revolution-transforming-your-life-one-night-at-a-time_608/index.html\n"
     ]
    },
    {
     "name": "stderr",
     "output_type": "stream",
     "text": [
      " 39%|███████████████████████████████                                                | 393/1000 [06:21<11:30,  1.14s/it]"
     ]
    },
    {
     "name": "stdout",
     "output_type": "stream",
     "text": [
      "https://books.toscrape.com/catalogue/the-improbability-of-love_607/index.html\n"
     ]
    },
    {
     "name": "stderr",
     "output_type": "stream",
     "text": [
      " 39%|███████████████████████████████▏                                               | 394/1000 [06:22<10:51,  1.07s/it]"
     ]
    },
    {
     "name": "stdout",
     "output_type": "stream",
     "text": [
      "https://books.toscrape.com/catalogue/the-art-of-startup-fundraising_606/index.html\n"
     ]
    },
    {
     "name": "stderr",
     "output_type": "stream",
     "text": [
      " 40%|███████████████████████████████▏                                               | 395/1000 [06:23<11:39,  1.16s/it]"
     ]
    },
    {
     "name": "stdout",
     "output_type": "stream",
     "text": [
      "https://books.toscrape.com/catalogue/take-me-home-tonight-rock-star-romance-3_605/index.html\n"
     ]
    },
    {
     "name": "stderr",
     "output_type": "stream",
     "text": [
      " 40%|███████████████████████████████▎                                               | 396/1000 [06:24<10:50,  1.08s/it]"
     ]
    },
    {
     "name": "stdout",
     "output_type": "stream",
     "text": [
      "https://books.toscrape.com/catalogue/sleeping-giants-themis-files-1_604/index.html\n"
     ]
    },
    {
     "name": "stderr",
     "output_type": "stream",
     "text": [
      " 40%|███████████████████████████████▎                                               | 397/1000 [06:25<10:20,  1.03s/it]"
     ]
    },
    {
     "name": "stdout",
     "output_type": "stream",
     "text": [
      "https://books.toscrape.com/catalogue/setting-the-world-on-fire-the-brief-astonishing-life-of-st-catherine-of-siena_603/index.html\n"
     ]
    },
    {
     "name": "stderr",
     "output_type": "stream",
     "text": [
      " 40%|███████████████████████████████▍                                               | 398/1000 [06:26<10:57,  1.09s/it]"
     ]
    },
    {
     "name": "stdout",
     "output_type": "stream",
     "text": [
      "https://books.toscrape.com/catalogue/playing-with-fire_602/index.html\n"
     ]
    },
    {
     "name": "stderr",
     "output_type": "stream",
     "text": [
      " 40%|███████████████████████████████▌                                               | 399/1000 [06:27<10:07,  1.01s/it]"
     ]
    },
    {
     "name": "stdout",
     "output_type": "stream",
     "text": [
      "https://books.toscrape.com/catalogue/off-the-hook-fishing-for-trouble-1_601/index.html\n"
     ]
    },
    {
     "name": "stderr",
     "output_type": "stream",
     "text": [
      " 40%|███████████████████████████████▌                                               | 400/1000 [06:28<09:47,  1.02it/s]"
     ]
    },
    {
     "name": "stdout",
     "output_type": "stream",
     "text": [
      "https://books.toscrape.com/catalogue/mothering-sunday_600/index.html\n"
     ]
    },
    {
     "name": "stderr",
     "output_type": "stream",
     "text": [
      " 40%|███████████████████████████████▋                                               | 401/1000 [06:29<09:37,  1.04it/s]"
     ]
    },
    {
     "name": "stdout",
     "output_type": "stream",
     "text": [
      "https://books.toscrape.com/catalogue/mother-can-you-not_599/index.html\n"
     ]
    },
    {
     "name": "stderr",
     "output_type": "stream",
     "text": [
      " 40%|███████████████████████████████▊                                               | 402/1000 [06:30<09:31,  1.05it/s]"
     ]
    },
    {
     "name": "stdout",
     "output_type": "stream",
     "text": [
      "https://books.toscrape.com/catalogue/m-train_598/index.html\n"
     ]
    },
    {
     "name": "stderr",
     "output_type": "stream",
     "text": [
      " 40%|███████████████████████████████▊                                               | 403/1000 [06:31<09:17,  1.07it/s]"
     ]
    },
    {
     "name": "stdout",
     "output_type": "stream",
     "text": [
      "https://books.toscrape.com/catalogue/lilac-girls_597/index.html\n"
     ]
    },
    {
     "name": "stderr",
     "output_type": "stream",
     "text": [
      " 40%|███████████████████████████████▉                                               | 404/1000 [06:31<09:13,  1.08it/s]"
     ]
    },
    {
     "name": "stdout",
     "output_type": "stream",
     "text": [
      "https://books.toscrape.com/catalogue/lies-and-other-acts-of-love_596/index.html\n"
     ]
    },
    {
     "name": "stderr",
     "output_type": "stream",
     "text": [
      " 40%|███████████████████████████████▉                                               | 405/1000 [06:32<08:50,  1.12it/s]"
     ]
    },
    {
     "name": "stdout",
     "output_type": "stream",
     "text": [
      "https://books.toscrape.com/catalogue/lab-girl_595/index.html\n"
     ]
    },
    {
     "name": "stderr",
     "output_type": "stream",
     "text": [
      " 41%|████████████████████████████████                                               | 406/1000 [06:33<08:57,  1.11it/s]"
     ]
    },
    {
     "name": "stdout",
     "output_type": "stream",
     "text": [
      "https://books.toscrape.com/catalogue/keep-me-posted_594/index.html\n"
     ]
    },
    {
     "name": "stderr",
     "output_type": "stream",
     "text": [
      " 41%|████████████████████████████████▏                                              | 407/1000 [06:34<08:46,  1.13it/s]"
     ]
    },
    {
     "name": "stdout",
     "output_type": "stream",
     "text": [
      "https://books.toscrape.com/catalogue/it-didnt-start-with-you-how-inherited-family-trauma-shapes-who-we-are-and-how-to-end-the-cycle_593/index.html\n"
     ]
    },
    {
     "name": "stderr",
     "output_type": "stream",
     "text": [
      " 41%|████████████████████████████████▏                                              | 408/1000 [06:35<08:40,  1.14it/s]"
     ]
    },
    {
     "name": "stdout",
     "output_type": "stream",
     "text": [
      "https://books.toscrape.com/catalogue/grey-fifty-shades-4_592/index.html\n"
     ]
    },
    {
     "name": "stderr",
     "output_type": "stream",
     "text": [
      " 41%|████████████████████████████████▎                                              | 409/1000 [06:36<08:24,  1.17it/s]"
     ]
    },
    {
     "name": "stdout",
     "output_type": "stream",
     "text": [
      "https://books.toscrape.com/catalogue/exit-pursued-by-a-bear_591/index.html\n"
     ]
    },
    {
     "name": "stderr",
     "output_type": "stream",
     "text": [
      " 41%|████████████████████████████████▍                                              | 410/1000 [06:37<08:35,  1.15it/s]"
     ]
    },
    {
     "name": "stdout",
     "output_type": "stream",
     "text": [
      "https://books.toscrape.com/catalogue/daredevils_590/index.html\n"
     ]
    },
    {
     "name": "stderr",
     "output_type": "stream",
     "text": [
      " 41%|████████████████████████████████▍                                              | 411/1000 [06:37<08:27,  1.16it/s]"
     ]
    },
    {
     "name": "stdout",
     "output_type": "stream",
     "text": [
      "https://books.toscrape.com/catalogue/cravings-recipes-for-what-you-want-to-eat_589/index.html\n"
     ]
    },
    {
     "name": "stderr",
     "output_type": "stream",
     "text": [
      " 41%|████████████████████████████████▌                                              | 412/1000 [06:38<08:36,  1.14it/s]"
     ]
    },
    {
     "name": "stdout",
     "output_type": "stream",
     "text": [
      "https://books.toscrape.com/catalogue/born-for-this-how-to-find-the-work-you-were-meant-to-do_588/index.html\n"
     ]
    },
    {
     "name": "stderr",
     "output_type": "stream",
     "text": [
      " 41%|████████████████████████████████▋                                              | 413/1000 [06:39<08:41,  1.13it/s]"
     ]
    },
    {
     "name": "stdout",
     "output_type": "stream",
     "text": [
      "https://books.toscrape.com/catalogue/arena_587/index.html\n"
     ]
    },
    {
     "name": "stderr",
     "output_type": "stream",
     "text": [
      " 41%|████████████████████████████████▋                                              | 414/1000 [06:40<08:31,  1.15it/s]"
     ]
    },
    {
     "name": "stdout",
     "output_type": "stream",
     "text": [
      "https://books.toscrape.com/catalogue/adultery_586/index.html\n"
     ]
    },
    {
     "name": "stderr",
     "output_type": "stream",
     "text": [
      " 42%|████████████████████████████████▊                                              | 415/1000 [06:41<08:34,  1.14it/s]"
     ]
    },
    {
     "name": "stdout",
     "output_type": "stream",
     "text": [
      "https://books.toscrape.com/catalogue/a-mothers-reckoning-living-in-the-aftermath-of-tragedy_585/index.html\n"
     ]
    },
    {
     "name": "stderr",
     "output_type": "stream",
     "text": [
      " 42%|████████████████████████████████▊                                              | 416/1000 [06:42<08:41,  1.12it/s]"
     ]
    },
    {
     "name": "stdout",
     "output_type": "stream",
     "text": [
      "https://books.toscrape.com/catalogue/a-gentlemans-position-society-of-gentlemen-3_584/index.html\n"
     ]
    },
    {
     "name": "stderr",
     "output_type": "stream",
     "text": [
      " 42%|████████████████████████████████▉                                              | 417/1000 [06:43<08:48,  1.10it/s]"
     ]
    },
    {
     "name": "stdout",
     "output_type": "stream",
     "text": [
      "https://books.toscrape.com/catalogue/112263_583/index.html\n"
     ]
    },
    {
     "name": "stderr",
     "output_type": "stream",
     "text": [
      " 42%|█████████████████████████████████                                              | 418/1000 [06:44<08:46,  1.10it/s]"
     ]
    },
    {
     "name": "stdout",
     "output_type": "stream",
     "text": [
      "https://books.toscrape.com/catalogue/10-happier-how-i-tamed-the-voice-in-my-head-reduced-stress-without-losing-my-edge-and-found-self-help-that-actually-works_582/index.html\n"
     ]
    },
    {
     "name": "stderr",
     "output_type": "stream",
     "text": [
      " 42%|█████████████████████████████████                                              | 419/1000 [06:45<08:47,  1.10it/s]"
     ]
    },
    {
     "name": "stdout",
     "output_type": "stream",
     "text": [
      "https://books.toscrape.com/catalogue/10-day-green-smoothie-cleanse-lose-up-to-15-pounds-in-10-days_581/index.html\n"
     ]
    },
    {
     "name": "stderr",
     "output_type": "stream",
     "text": [
      " 42%|█████████████████████████████████▏                                             | 420/1000 [06:46<09:36,  1.01it/s]"
     ]
    },
    {
     "name": "stdout",
     "output_type": "stream",
     "text": [
      "https://books.toscrape.com/catalogue/without-shame_580/index.html\n"
     ]
    },
    {
     "name": "stderr",
     "output_type": "stream",
     "text": [
      " 42%|█████████████████████████████████▎                                             | 421/1000 [06:47<09:18,  1.04it/s]"
     ]
    },
    {
     "name": "stdout",
     "output_type": "stream",
     "text": [
      "https://books.toscrape.com/catalogue/watchmen_579/index.html\n"
     ]
    },
    {
     "name": "stderr",
     "output_type": "stream",
     "text": [
      " 42%|█████████████████████████████████▎                                             | 422/1000 [06:48<08:52,  1.09it/s]"
     ]
    },
    {
     "name": "stdout",
     "output_type": "stream",
     "text": [
      "https://books.toscrape.com/catalogue/unlimited-intuition-now_578/index.html\n"
     ]
    },
    {
     "name": "stderr",
     "output_type": "stream",
     "text": [
      " 42%|█████████████████████████████████▍                                             | 423/1000 [06:48<08:24,  1.14it/s]"
     ]
    },
    {
     "name": "stdout",
     "output_type": "stream",
     "text": [
      "https://books.toscrape.com/catalogue/underlying-notes_577/index.html\n"
     ]
    },
    {
     "name": "stderr",
     "output_type": "stream",
     "text": [
      " 42%|█████████████████████████████████▍                                             | 424/1000 [06:49<08:20,  1.15it/s]"
     ]
    },
    {
     "name": "stdout",
     "output_type": "stream",
     "text": [
      "https://books.toscrape.com/catalogue/the-shack_576/index.html\n"
     ]
    },
    {
     "name": "stderr",
     "output_type": "stream",
     "text": [
      " 42%|█████████████████████████████████▌                                             | 425/1000 [06:50<08:19,  1.15it/s]"
     ]
    },
    {
     "name": "stdout",
     "output_type": "stream",
     "text": [
      "https://books.toscrape.com/catalogue/the-new-brand-you-your-new-image-makes-the-sale-for-you_575/index.html\n"
     ]
    },
    {
     "name": "stderr",
     "output_type": "stream",
     "text": [
      " 43%|█████████████████████████████████▋                                             | 426/1000 [06:51<08:04,  1.19it/s]"
     ]
    },
    {
     "name": "stdout",
     "output_type": "stream",
     "text": [
      "https://books.toscrape.com/catalogue/the-moosewood-cookbook-recipes-from-moosewood-restaurant-ithaca-new-york_574/index.html\n"
     ]
    },
    {
     "name": "stderr",
     "output_type": "stream",
     "text": [
      " 43%|█████████████████████████████████▋                                             | 427/1000 [06:52<07:59,  1.20it/s]"
     ]
    },
    {
     "name": "stdout",
     "output_type": "stream",
     "text": [
      "https://books.toscrape.com/catalogue/the-flowers-lied_573/index.html\n"
     ]
    },
    {
     "name": "stderr",
     "output_type": "stream",
     "text": [
      " 43%|█████████████████████████████████▊                                             | 428/1000 [06:53<07:59,  1.19it/s]"
     ]
    },
    {
     "name": "stdout",
     "output_type": "stream",
     "text": [
      "https://books.toscrape.com/catalogue/the-fabric-of-the-cosmos-space-time-and-the-texture-of-reality_572/index.html\n"
     ]
    },
    {
     "name": "stderr",
     "output_type": "stream",
     "text": [
      " 43%|█████████████████████████████████▉                                             | 429/1000 [06:53<08:01,  1.19it/s]"
     ]
    },
    {
     "name": "stdout",
     "output_type": "stream",
     "text": [
      "https://books.toscrape.com/catalogue/the-book-of-mormon_571/index.html\n"
     ]
    },
    {
     "name": "stderr",
     "output_type": "stream",
     "text": [
      " 43%|█████████████████████████████████▉                                             | 430/1000 [06:54<07:55,  1.20it/s]"
     ]
    },
    {
     "name": "stdout",
     "output_type": "stream",
     "text": [
      "https://books.toscrape.com/catalogue/the-art-and-science-of-low-carbohydrate-living_570/index.html\n"
     ]
    },
    {
     "name": "stderr",
     "output_type": "stream",
     "text": [
      " 43%|██████████████████████████████████                                             | 431/1000 [06:55<07:42,  1.23it/s]"
     ]
    },
    {
     "name": "stdout",
     "output_type": "stream",
     "text": [
      "https://books.toscrape.com/catalogue/the-alien-club_569/index.html\n"
     ]
    },
    {
     "name": "stderr",
     "output_type": "stream",
     "text": [
      " 43%|██████████████████████████████████▏                                            | 432/1000 [06:56<07:58,  1.19it/s]"
     ]
    },
    {
     "name": "stdout",
     "output_type": "stream",
     "text": [
      "https://books.toscrape.com/catalogue/suzie-snowflake-one-beautiful-flake-a-self-esteem-story_568/index.html\n"
     ]
    },
    {
     "name": "stderr",
     "output_type": "stream",
     "text": [
      " 43%|██████████████████████████████████▏                                            | 433/1000 [06:57<07:50,  1.21it/s]"
     ]
    },
    {
     "name": "stdout",
     "output_type": "stream",
     "text": [
      "https://books.toscrape.com/catalogue/nap-a-roo_567/index.html\n"
     ]
    },
    {
     "name": "stderr",
     "output_type": "stream",
     "text": [
      " 43%|██████████████████████████████████▎                                            | 434/1000 [06:58<07:57,  1.19it/s]"
     ]
    },
    {
     "name": "stdout",
     "output_type": "stream",
     "text": [
      "https://books.toscrape.com/catalogue/nano-what-now-finding-your-editing-process-revising-your-nanowrimo-book-and-building-a-writing-career-through-publishing-and-beyond_566/index.html\n"
     ]
    },
    {
     "name": "stderr",
     "output_type": "stream",
     "text": [
      " 44%|██████████████████████████████████▎                                            | 435/1000 [06:58<07:58,  1.18it/s]"
     ]
    },
    {
     "name": "stdout",
     "output_type": "stream",
     "text": [
      "https://books.toscrape.com/catalogue/modern-day-fables_565/index.html\n"
     ]
    },
    {
     "name": "stderr",
     "output_type": "stream",
     "text": [
      " 44%|██████████████████████████████████▍                                            | 436/1000 [06:59<07:54,  1.19it/s]"
     ]
    },
    {
     "name": "stdout",
     "output_type": "stream",
     "text": [
      "https://books.toscrape.com/catalogue/if-i-gave-you-gods-phone-number-searching-for-spirituality-in-america_564/index.html\n"
     ]
    },
    {
     "name": "stderr",
     "output_type": "stream",
     "text": [
      " 44%|██████████████████████████████████▌                                            | 437/1000 [07:00<08:48,  1.07it/s]"
     ]
    },
    {
     "name": "stdout",
     "output_type": "stream",
     "text": [
      "https://books.toscrape.com/catalogue/fruits-basket-vol-9-fruits-basket-9_563/index.html\n"
     ]
    },
    {
     "name": "stderr",
     "output_type": "stream",
     "text": [
      " 44%|██████████████████████████████████▌                                            | 438/1000 [07:01<08:28,  1.11it/s]"
     ]
    },
    {
     "name": "stdout",
     "output_type": "stream",
     "text": [
      "https://books.toscrape.com/catalogue/dress-your-family-in-corduroy-and-denim_562/index.html\n"
     ]
    },
    {
     "name": "stderr",
     "output_type": "stream",
     "text": [
      " 44%|██████████████████████████████████▋                                            | 439/1000 [07:02<08:10,  1.14it/s]"
     ]
    },
    {
     "name": "stdout",
     "output_type": "stream",
     "text": [
      "https://books.toscrape.com/catalogue/dont-forget-steven_561/index.html\n"
     ]
    },
    {
     "name": "stderr",
     "output_type": "stream",
     "text": [
      " 44%|██████████████████████████████████▊                                            | 440/1000 [07:03<07:54,  1.18it/s]"
     ]
    },
    {
     "name": "stdout",
     "output_type": "stream",
     "text": [
      "https://books.toscrape.com/catalogue/chernobyl-012340-the-incredible-true-story-of-the-worlds-worst-nuclear-disaster_560/index.html\n"
     ]
    },
    {
     "name": "stderr",
     "output_type": "stream",
     "text": [
      " 44%|██████████████████████████████████▊                                            | 441/1000 [07:04<07:47,  1.20it/s]"
     ]
    },
    {
     "name": "stdout",
     "output_type": "stream",
     "text": [
      "https://books.toscrape.com/catalogue/art-and-fear-observations-on-the-perils-and-rewards-of-artmaking_559/index.html\n"
     ]
    },
    {
     "name": "stderr",
     "output_type": "stream",
     "text": [
      " 44%|██████████████████████████████████▉                                            | 442/1000 [07:05<07:48,  1.19it/s]"
     ]
    },
    {
     "name": "stdout",
     "output_type": "stream",
     "text": [
      "https://books.toscrape.com/catalogue/a-shard-of-ice-the-black-symphony-saga-1_558/index.html\n"
     ]
    },
    {
     "name": "stderr",
     "output_type": "stream",
     "text": [
      " 44%|██████████████████████████████████▉                                            | 443/1000 [07:06<08:31,  1.09it/s]"
     ]
    },
    {
     "name": "stdout",
     "output_type": "stream",
     "text": [
      "https://books.toscrape.com/catalogue/a-heros-curse-the-unseen-chronicles-1_557/index.html\n"
     ]
    },
    {
     "name": "stderr",
     "output_type": "stream",
     "text": [
      " 44%|███████████████████████████████████                                            | 444/1000 [07:06<08:18,  1.12it/s]"
     ]
    },
    {
     "name": "stdout",
     "output_type": "stream",
     "text": [
      "https://books.toscrape.com/catalogue/23-degrees-south-a-tropical-tale-of-changing-whether_556/index.html\n"
     ]
    },
    {
     "name": "stderr",
     "output_type": "stream",
     "text": [
      " 44%|███████████████████████████████████▏                                           | 445/1000 [07:07<08:03,  1.15it/s]"
     ]
    },
    {
     "name": "stdout",
     "output_type": "stream",
     "text": [
      "https://books.toscrape.com/catalogue/zero-to-one-notes-on-startups-or-how-to-build-the-future_555/index.html\n"
     ]
    },
    {
     "name": "stderr",
     "output_type": "stream",
     "text": [
      " 45%|███████████████████████████████████▏                                           | 446/1000 [07:08<07:50,  1.18it/s]"
     ]
    },
    {
     "name": "stdout",
     "output_type": "stream",
     "text": [
      "https://books.toscrape.com/catalogue/why-not-me_554/index.html\n"
     ]
    },
    {
     "name": "stderr",
     "output_type": "stream",
     "text": [
      " 45%|███████████████████████████████████▎                                           | 447/1000 [07:09<07:44,  1.19it/s]"
     ]
    },
    {
     "name": "stdout",
     "output_type": "stream",
     "text": [
      "https://books.toscrape.com/catalogue/when-breath-becomes-air_553/index.html\n"
     ]
    },
    {
     "name": "stderr",
     "output_type": "stream",
     "text": [
      " 45%|███████████████████████████████████▍                                           | 448/1000 [07:10<07:42,  1.19it/s]"
     ]
    },
    {
     "name": "stdout",
     "output_type": "stream",
     "text": [
      "https://books.toscrape.com/catalogue/vagabonding-an-uncommon-guide-to-the-art-of-long-term-world-travel_552/index.html\n"
     ]
    },
    {
     "name": "stderr",
     "output_type": "stream",
     "text": [
      " 45%|███████████████████████████████████▍                                           | 449/1000 [07:11<08:36,  1.07it/s]"
     ]
    },
    {
     "name": "stdout",
     "output_type": "stream",
     "text": [
      "https://books.toscrape.com/catalogue/the-unlikely-pilgrimage-of-harold-fry-harold-fry-1_551/index.html\n"
     ]
    },
    {
     "name": "stderr",
     "output_type": "stream",
     "text": [
      " 45%|███████████████████████████████████▌                                           | 450/1000 [07:12<08:21,  1.10it/s]"
     ]
    },
    {
     "name": "stdout",
     "output_type": "stream",
     "text": [
      "https://books.toscrape.com/catalogue/the-new-drawing-on-the-right-side-of-the-brain_550/index.html\n"
     ]
    },
    {
     "name": "stderr",
     "output_type": "stream",
     "text": [
      " 45%|███████████████████████████████████▋                                           | 451/1000 [07:13<08:13,  1.11it/s]"
     ]
    },
    {
     "name": "stdout",
     "output_type": "stream",
     "text": [
      "https://books.toscrape.com/catalogue/the-midnight-assassin-panic-scandal-and-the-hunt-for-americas-first-serial-killer_549/index.html\n"
     ]
    },
    {
     "name": "stderr",
     "output_type": "stream",
     "text": [
      " 45%|███████████████████████████████████▋                                           | 452/1000 [07:14<08:54,  1.03it/s]"
     ]
    },
    {
     "name": "stdout",
     "output_type": "stream",
     "text": [
      "https://books.toscrape.com/catalogue/the-martian-the-martian-1_548/index.html\n"
     ]
    },
    {
     "name": "stderr",
     "output_type": "stream",
     "text": [
      " 45%|███████████████████████████████████▊                                           | 453/1000 [07:15<09:06,  1.00it/s]"
     ]
    },
    {
     "name": "stdout",
     "output_type": "stream",
     "text": [
      "https://books.toscrape.com/catalogue/the-high-mountains-of-portugal_547/index.html\n"
     ]
    },
    {
     "name": "stderr",
     "output_type": "stream",
     "text": [
      " 45%|███████████████████████████████████▊                                           | 454/1000 [07:16<08:42,  1.05it/s]"
     ]
    },
    {
     "name": "stdout",
     "output_type": "stream",
     "text": [
      "https://books.toscrape.com/catalogue/the-grownup_546/index.html\n"
     ]
    },
    {
     "name": "stderr",
     "output_type": "stream",
     "text": [
      " 46%|███████████████████████████████████▉                                           | 455/1000 [07:16<08:18,  1.09it/s]"
     ]
    },
    {
     "name": "stdout",
     "output_type": "stream",
     "text": [
      "https://books.toscrape.com/catalogue/the-e-myth-revisited-why-most-small-businesses-dont-work-and-what-to-do-about-it_545/index.html\n"
     ]
    },
    {
     "name": "stderr",
     "output_type": "stream",
     "text": [
      " 46%|████████████████████████████████████                                           | 456/1000 [07:17<08:04,  1.12it/s]"
     ]
    },
    {
     "name": "stdout",
     "output_type": "stream",
     "text": [
      "https://books.toscrape.com/catalogue/south-of-sunshine_544/index.html\n"
     ]
    },
    {
     "name": "stderr",
     "output_type": "stream",
     "text": [
      " 46%|████████████████████████████████████                                           | 457/1000 [07:18<07:50,  1.15it/s]"
     ]
    },
    {
     "name": "stdout",
     "output_type": "stream",
     "text": [
      "https://books.toscrape.com/catalogue/smarter-faster-better-the-secrets-of-being-productive-in-life-and-business_543/index.html\n"
     ]
    },
    {
     "name": "stderr",
     "output_type": "stream",
     "text": [
      " 46%|████████████████████████████████████▏                                          | 458/1000 [07:19<07:46,  1.16it/s]"
     ]
    },
    {
     "name": "stdout",
     "output_type": "stream",
     "text": [
      "https://books.toscrape.com/catalogue/silence-in-the-dark-logan-point-4_542/index.html\n"
     ]
    },
    {
     "name": "stderr",
     "output_type": "stream",
     "text": [
      " 46%|████████████████████████████████████▎                                          | 459/1000 [07:20<07:47,  1.16it/s]"
     ]
    },
    {
     "name": "stdout",
     "output_type": "stream",
     "text": [
      "https://books.toscrape.com/catalogue/shadows-of-the-past-logan-point-1_541/index.html\n"
     ]
    },
    {
     "name": "stderr",
     "output_type": "stream",
     "text": [
      " 46%|████████████████████████████████████▎                                          | 460/1000 [07:21<07:55,  1.14it/s]"
     ]
    },
    {
     "name": "stdout",
     "output_type": "stream",
     "text": [
      "https://books.toscrape.com/catalogue/roller-girl_540/index.html\n"
     ]
    },
    {
     "name": "stderr",
     "output_type": "stream",
     "text": [
      " 46%|████████████████████████████████████▍                                          | 461/1000 [07:22<07:51,  1.14it/s]"
     ]
    },
    {
     "name": "stdout",
     "output_type": "stream",
     "text": [
      "https://books.toscrape.com/catalogue/rising-strong_539/index.html\n"
     ]
    },
    {
     "name": "stderr",
     "output_type": "stream",
     "text": [
      " 46%|████████████████████████████████████▍                                          | 462/1000 [07:22<07:41,  1.17it/s]"
     ]
    },
    {
     "name": "stdout",
     "output_type": "stream",
     "text": [
      "https://books.toscrape.com/catalogue/proofs-of-god-classical-arguments-from-tertullian-to-barth_538/index.html\n"
     ]
    },
    {
     "name": "stderr",
     "output_type": "stream",
     "text": [
      " 46%|████████████████████████████████████▌                                          | 463/1000 [07:23<07:33,  1.19it/s]"
     ]
    },
    {
     "name": "stdout",
     "output_type": "stream",
     "text": [
      "https://books.toscrape.com/catalogue/please-kill-me-the-uncensored-oral-history-of-punk_537/index.html\n"
     ]
    },
    {
     "name": "stderr",
     "output_type": "stream",
     "text": [
      " 46%|████████████████████████████████████▋                                          | 464/1000 [07:24<07:33,  1.18it/s]"
     ]
    },
    {
     "name": "stdout",
     "output_type": "stream",
     "text": [
      "https://books.toscrape.com/catalogue/out-of-print-city-lights-spotlight-no-14_536/index.html\n"
     ]
    },
    {
     "name": "stderr",
     "output_type": "stream",
     "text": [
      " 46%|████████████████████████████████████▋                                          | 465/1000 [07:25<08:04,  1.10it/s]"
     ]
    },
    {
     "name": "stdout",
     "output_type": "stream",
     "text": [
      "https://books.toscrape.com/catalogue/my-life-next-door-my-life-next-door_535/index.html\n"
     ]
    },
    {
     "name": "stderr",
     "output_type": "stream",
     "text": [
      " 47%|████████████████████████████████████▊                                          | 466/1000 [07:26<07:55,  1.12it/s]"
     ]
    },
    {
     "name": "stdout",
     "output_type": "stream",
     "text": [
      "https://books.toscrape.com/catalogue/millers-valley_534/index.html\n"
     ]
    },
    {
     "name": "stderr",
     "output_type": "stream",
     "text": [
      " 47%|████████████████████████████████████▉                                          | 467/1000 [07:27<07:45,  1.14it/s]"
     ]
    },
    {
     "name": "stdout",
     "output_type": "stream",
     "text": [
      "https://books.toscrape.com/catalogue/mans-search-for-meaning_533/index.html\n"
     ]
    },
    {
     "name": "stderr",
     "output_type": "stream",
     "text": [
      " 47%|████████████████████████████████████▉                                          | 468/1000 [07:28<07:42,  1.15it/s]"
     ]
    },
    {
     "name": "stdout",
     "output_type": "stream",
     "text": [
      "https://books.toscrape.com/catalogue/love-that-boy-what-two-presidents-eight-road-trips-and-my-son-taught-me-about-a-parents-expectations_532/index.html\n"
     ]
    },
    {
     "name": "stderr",
     "output_type": "stream",
     "text": [
      " 47%|█████████████████████████████████████                                          | 469/1000 [07:29<07:39,  1.16it/s]"
     ]
    },
    {
     "name": "stdout",
     "output_type": "stream",
     "text": [
      "https://books.toscrape.com/catalogue/living-forward-a-proven-plan-to-stop-drifting-and-get-the-life-you-want_531/index.html\n"
     ]
    },
    {
     "name": "stderr",
     "output_type": "stream",
     "text": [
      " 47%|█████████████████████████████████████▏                                         | 470/1000 [07:29<07:35,  1.16it/s]"
     ]
    },
    {
     "name": "stdout",
     "output_type": "stream",
     "text": [
      "https://books.toscrape.com/catalogue/les-fleurs-du-mal_530/index.html\n"
     ]
    },
    {
     "name": "stderr",
     "output_type": "stream",
     "text": [
      " 47%|█████████████████████████████████████▏                                         | 471/1000 [07:30<07:25,  1.19it/s]"
     ]
    },
    {
     "name": "stdout",
     "output_type": "stream",
     "text": [
      "https://books.toscrape.com/catalogue/left-behind-left-behind-1_529/index.html\n"
     ]
    },
    {
     "name": "stderr",
     "output_type": "stream",
     "text": [
      " 47%|█████████████████████████████████████▎                                         | 472/1000 [07:31<07:32,  1.17it/s]"
     ]
    },
    {
     "name": "stdout",
     "output_type": "stream",
     "text": [
      "https://books.toscrape.com/catalogue/kill-em-and-leave-searching-for-james-brown-and-the-american-soul_528/index.html\n"
     ]
    },
    {
     "name": "stderr",
     "output_type": "stream",
     "text": [
      " 47%|█████████████████████████████████████▎                                         | 473/1000 [07:32<07:28,  1.18it/s]"
     ]
    },
    {
     "name": "stdout",
     "output_type": "stream",
     "text": [
      "https://books.toscrape.com/catalogue/kierkegaard-a-christian-missionary-to-christians_527/index.html\n"
     ]
    },
    {
     "name": "stderr",
     "output_type": "stream",
     "text": [
      " 47%|█████████████████████████████████████▍                                         | 474/1000 [07:33<07:29,  1.17it/s]"
     ]
    },
    {
     "name": "stdout",
     "output_type": "stream",
     "text": [
      "https://books.toscrape.com/catalogue/john-vassos-industrial-design-for-modern-life_526/index.html\n"
     ]
    },
    {
     "name": "stderr",
     "output_type": "stream",
     "text": [
      " 48%|█████████████████████████████████████▌                                         | 475/1000 [07:34<08:01,  1.09it/s]"
     ]
    },
    {
     "name": "stdout",
     "output_type": "stream",
     "text": [
      "https://books.toscrape.com/catalogue/ill-give-you-the-sun_525/index.html\n"
     ]
    },
    {
     "name": "stderr",
     "output_type": "stream",
     "text": [
      " 48%|█████████████████████████████████████▌                                         | 476/1000 [07:35<07:41,  1.14it/s]"
     ]
    },
    {
     "name": "stdout",
     "output_type": "stream",
     "text": [
      "https://books.toscrape.com/catalogue/i-will-find-you_524/index.html\n"
     ]
    },
    {
     "name": "stderr",
     "output_type": "stream",
     "text": [
      " 48%|█████████████████████████████████████▋                                         | 477/1000 [07:36<07:54,  1.10it/s]"
     ]
    },
    {
     "name": "stdout",
     "output_type": "stream",
     "text": [
      "https://books.toscrape.com/catalogue/hystopia-a-novel_523/index.html\n"
     ]
    },
    {
     "name": "stderr",
     "output_type": "stream",
     "text": [
      " 48%|█████████████████████████████████████▊                                         | 478/1000 [07:36<07:43,  1.13it/s]"
     ]
    },
    {
     "name": "stdout",
     "output_type": "stream",
     "text": [
      "https://books.toscrape.com/catalogue/howl-and-other-poems_522/index.html\n"
     ]
    },
    {
     "name": "stderr",
     "output_type": "stream",
     "text": [
      " 48%|█████████████████████████████████████▊                                         | 479/1000 [07:37<07:29,  1.16it/s]"
     ]
    },
    {
     "name": "stdout",
     "output_type": "stream",
     "text": [
      "https://books.toscrape.com/catalogue/history-of-beauty_521/index.html\n"
     ]
    },
    {
     "name": "stderr",
     "output_type": "stream",
     "text": [
      " 48%|█████████████████████████████████████▉                                         | 480/1000 [07:38<07:22,  1.18it/s]"
     ]
    },
    {
     "name": "stdout",
     "output_type": "stream",
     "text": [
      "https://books.toscrape.com/catalogue/heaven-is-for-real-a-little-boys-astounding-story-of-his-trip-to-heaven-and-back_520/index.html\n"
     ]
    },
    {
     "name": "stderr",
     "output_type": "stream",
     "text": [
      " 48%|█████████████████████████████████████▉                                         | 481/1000 [07:39<07:26,  1.16it/s]"
     ]
    },
    {
     "name": "stdout",
     "output_type": "stream",
     "text": [
      "https://books.toscrape.com/catalogue/future-shock-future-shock-1_519/index.html\n"
     ]
    },
    {
     "name": "stderr",
     "output_type": "stream",
     "text": [
      " 48%|██████████████████████████████████████                                         | 482/1000 [07:40<07:25,  1.16it/s]"
     ]
    },
    {
     "name": "stdout",
     "output_type": "stream",
     "text": [
      "https://books.toscrape.com/catalogue/enders-game-the-ender-quintet-1_518/index.html\n"
     ]
    },
    {
     "name": "stderr",
     "output_type": "stream",
     "text": [
      " 48%|██████████████████████████████████████▏                                        | 483/1000 [07:41<07:18,  1.18it/s]"
     ]
    },
    {
     "name": "stdout",
     "output_type": "stream",
     "text": [
      "https://books.toscrape.com/catalogue/diary-of-a-citizen-scientist-chasing-tiger-beetles-and-other-new-ways-of-engaging-the-world_517/index.html\n"
     ]
    },
    {
     "name": "stderr",
     "output_type": "stream",
     "text": [
      " 48%|██████████████████████████████████████▏                                        | 484/1000 [07:42<07:22,  1.17it/s]"
     ]
    },
    {
     "name": "stdout",
     "output_type": "stream",
     "text": [
      "https://books.toscrape.com/catalogue/death-by-leisure-a-cautionary-tale_516/index.html\n"
     ]
    },
    {
     "name": "stderr",
     "output_type": "stream",
     "text": [
      " 48%|██████████████████████████████████████▎                                        | 485/1000 [07:42<07:14,  1.18it/s]"
     ]
    },
    {
     "name": "stdout",
     "output_type": "stream",
     "text": [
      "https://books.toscrape.com/catalogue/brilliant-beacons-a-history-of-the-american-lighthouse_515/index.html\n"
     ]
    },
    {
     "name": "stderr",
     "output_type": "stream",
     "text": [
      " 49%|██████████████████████████████████████▍                                        | 486/1000 [07:43<07:05,  1.21it/s]"
     ]
    },
    {
     "name": "stdout",
     "output_type": "stream",
     "text": [
      "https://books.toscrape.com/catalogue/brazen-the-courage-to-find-the-you-thats-been-hiding_514/index.html\n"
     ]
    },
    {
     "name": "stderr",
     "output_type": "stream",
     "text": [
      " 49%|██████████████████████████████████████▍                                        | 487/1000 [07:44<07:04,  1.21it/s]"
     ]
    },
    {
     "name": "stdout",
     "output_type": "stream",
     "text": [
      "https://books.toscrape.com/catalogue/between-the-world-and-me_513/index.html\n"
     ]
    },
    {
     "name": "stderr",
     "output_type": "stream",
     "text": [
      " 49%|██████████████████████████████████████▌                                        | 488/1000 [07:45<06:58,  1.22it/s]"
     ]
    },
    {
     "name": "stdout",
     "output_type": "stream",
     "text": [
      "https://books.toscrape.com/catalogue/being-mortal-medicine-and-what-matters-in-the-end_512/index.html\n"
     ]
    },
    {
     "name": "stderr",
     "output_type": "stream",
     "text": [
      " 49%|██████████████████████████████████████▋                                        | 489/1000 [07:46<07:04,  1.20it/s]"
     ]
    },
    {
     "name": "stdout",
     "output_type": "stream",
     "text": [
      "https://books.toscrape.com/catalogue/a-murder-over-a-girl-justice-gender-junior-high_511/index.html\n"
     ]
    },
    {
     "name": "stderr",
     "output_type": "stream",
     "text": [
      " 49%|██████████████████████████████████████▋                                        | 490/1000 [07:46<06:56,  1.22it/s]"
     ]
    },
    {
     "name": "stdout",
     "output_type": "stream",
     "text": [
      "https://books.toscrape.com/catalogue/32-yolks_510/index.html\n"
     ]
    },
    {
     "name": "stderr",
     "output_type": "stream",
     "text": [
      " 49%|██████████████████████████████████████▊                                        | 491/1000 [07:47<06:56,  1.22it/s]"
     ]
    },
    {
     "name": "stdout",
     "output_type": "stream",
     "text": [
      "https://books.toscrape.com/catalogue/most-blessed-of-the-patriarchs-thomas-jefferson-and-the-empire-of-the-imagination_509/index.html\n"
     ]
    },
    {
     "name": "stderr",
     "output_type": "stream",
     "text": [
      " 49%|██████████████████████████████████████▊                                        | 492/1000 [07:48<07:29,  1.13it/s]"
     ]
    },
    {
     "name": "stdout",
     "output_type": "stream",
     "text": [
      "https://books.toscrape.com/catalogue/you-are-a-badass-how-to-stop-doubting-your-greatness-and-start-living-an-awesome-life_508/index.html\n"
     ]
    },
    {
     "name": "stderr",
     "output_type": "stream",
     "text": [
      " 49%|██████████████████████████████████████▉                                        | 493/1000 [07:49<07:15,  1.16it/s]"
     ]
    },
    {
     "name": "stdout",
     "output_type": "stream",
     "text": [
      "https://books.toscrape.com/catalogue/wildlife-of-new-york-a-five-borough-coloring-book_507/index.html\n"
     ]
    },
    {
     "name": "stderr",
     "output_type": "stream",
     "text": [
      " 49%|███████████████████████████████████████                                        | 494/1000 [07:50<07:09,  1.18it/s]"
     ]
    },
    {
     "name": "stdout",
     "output_type": "stream",
     "text": [
      "https://books.toscrape.com/catalogue/what-happened-on-beale-street-secrets-of-the-south-mysteries-2_506/index.html\n"
     ]
    },
    {
     "name": "stderr",
     "output_type": "stream",
     "text": [
      " 50%|███████████████████████████████████████                                        | 495/1000 [07:51<07:09,  1.18it/s]"
     ]
    },
    {
     "name": "stdout",
     "output_type": "stream",
     "text": [
      "https://books.toscrape.com/catalogue/unreasonable-hope-finding-faith-in-the-god-who-brings-purpose-to-your-pain_505/index.html\n"
     ]
    },
    {
     "name": "stderr",
     "output_type": "stream",
     "text": [
      " 50%|███████████████████████████████████████▏                                       | 496/1000 [07:52<07:11,  1.17it/s]"
     ]
    },
    {
     "name": "stdout",
     "output_type": "stream",
     "text": [
      "https://books.toscrape.com/catalogue/under-the-tuscan-sun_504/index.html\n"
     ]
    },
    {
     "name": "stderr",
     "output_type": "stream",
     "text": [
      " 50%|███████████████████████████████████████▎                                       | 497/1000 [07:52<07:13,  1.16it/s]"
     ]
    },
    {
     "name": "stdout",
     "output_type": "stream",
     "text": [
      "https://books.toscrape.com/catalogue/toddlers-are-aholes-its-not-your-fault_503/index.html\n"
     ]
    },
    {
     "name": "stderr",
     "output_type": "stream",
     "text": [
      " 50%|███████████████████████████████████████▎                                       | 498/1000 [07:53<07:02,  1.19it/s]"
     ]
    },
    {
     "name": "stdout",
     "output_type": "stream",
     "text": [
      "https://books.toscrape.com/catalogue/the-year-of-living-biblically-one-mans-humble-quest-to-follow-the-bible-as-literally-as-possible_502/index.html\n"
     ]
    },
    {
     "name": "stderr",
     "output_type": "stream",
     "text": [
      " 50%|███████████████████████████████████████▍                                       | 499/1000 [07:54<07:04,  1.18it/s]"
     ]
    },
    {
     "name": "stdout",
     "output_type": "stream",
     "text": [
      "https://books.toscrape.com/catalogue/the-whale_501/index.html\n"
     ]
    },
    {
     "name": "stderr",
     "output_type": "stream",
     "text": [
      " 50%|███████████████████████████████████████▌                                       | 500/1000 [07:55<07:08,  1.17it/s]"
     ]
    },
    {
     "name": "stdout",
     "output_type": "stream",
     "text": [
      "https://books.toscrape.com/catalogue/the-story-of-art_500/index.html\n"
     ]
    },
    {
     "name": "stderr",
     "output_type": "stream",
     "text": [
      " 50%|███████████████████████████████████████▌                                       | 501/1000 [07:56<07:06,  1.17it/s]"
     ]
    },
    {
     "name": "stdout",
     "output_type": "stream",
     "text": [
      "https://books.toscrape.com/catalogue/the-origin-of-species_499/index.html\n"
     ]
    },
    {
     "name": "stderr",
     "output_type": "stream",
     "text": [
      " 50%|███████████████████████████████████████▋                                       | 502/1000 [07:57<07:02,  1.18it/s]"
     ]
    },
    {
     "name": "stdout",
     "output_type": "stream",
     "text": [
      "https://books.toscrape.com/catalogue/the-great-gatsby_498/index.html\n"
     ]
    },
    {
     "name": "stderr",
     "output_type": "stream",
     "text": [
      " 50%|███████████████████████████████████████▋                                       | 503/1000 [07:57<06:52,  1.20it/s]"
     ]
    },
    {
     "name": "stdout",
     "output_type": "stream",
     "text": [
      "https://books.toscrape.com/catalogue/the-good-girl_497/index.html\n"
     ]
    },
    {
     "name": "stderr",
     "output_type": "stream",
     "text": [
      " 50%|███████████████████████████████████████▊                                       | 504/1000 [07:58<06:52,  1.20it/s]"
     ]
    },
    {
     "name": "stdout",
     "output_type": "stream",
     "text": [
      "https://books.toscrape.com/catalogue/the-glass-castle_496/index.html\n"
     ]
    },
    {
     "name": "stderr",
     "output_type": "stream",
     "text": [
      " 50%|███████████████████████████████████████▉                                       | 505/1000 [07:59<06:55,  1.19it/s]"
     ]
    },
    {
     "name": "stdout",
     "output_type": "stream",
     "text": [
      "https://books.toscrape.com/catalogue/the-faith-of-christopher-hitchens-the-restless-soul-of-the-worlds-most-notorious-atheist_495/index.html\n"
     ]
    },
    {
     "name": "stderr",
     "output_type": "stream",
     "text": [
      " 51%|███████████████████████████████████████▉                                       | 506/1000 [08:00<07:24,  1.11it/s]"
     ]
    },
    {
     "name": "stdout",
     "output_type": "stream",
     "text": [
      "https://books.toscrape.com/catalogue/the-drowning-girls_494/index.html\n"
     ]
    },
    {
     "name": "stderr",
     "output_type": "stream",
     "text": [
      " 51%|████████████████████████████████████████                                       | 507/1000 [08:01<07:19,  1.12it/s]"
     ]
    },
    {
     "name": "stdout",
     "output_type": "stream",
     "text": [
      "https://books.toscrape.com/catalogue/the-constant-princess-the-tudor-court-1_493/index.html\n"
     ]
    },
    {
     "name": "stderr",
     "output_type": "stream",
     "text": [
      " 51%|████████████████████████████████████████▏                                      | 508/1000 [08:02<07:13,  1.14it/s]"
     ]
    },
    {
     "name": "stdout",
     "output_type": "stream",
     "text": [
      "https://books.toscrape.com/catalogue/the-bourne-identity-jason-bourne-1_492/index.html\n"
     ]
    },
    {
     "name": "stderr",
     "output_type": "stream",
     "text": [
      " 51%|████████████████████████████████████████▏                                      | 509/1000 [08:03<07:15,  1.13it/s]"
     ]
    },
    {
     "name": "stdout",
     "output_type": "stream",
     "text": [
      "https://books.toscrape.com/catalogue/the-bachelor-girls-guide-to-murder-herringford-and-watts-mysteries-1_491/index.html\n"
     ]
    },
    {
     "name": "stderr",
     "output_type": "stream",
     "text": [
      " 51%|████████████████████████████████████████▎                                      | 510/1000 [08:04<07:03,  1.16it/s]"
     ]
    },
    {
     "name": "stdout",
     "output_type": "stream",
     "text": [
      "https://books.toscrape.com/catalogue/the-art-book_490/index.html\n"
     ]
    },
    {
     "name": "stderr",
     "output_type": "stream",
     "text": [
      " 51%|████████████████████████████████████████▎                                      | 511/1000 [08:04<06:55,  1.18it/s]"
     ]
    },
    {
     "name": "stdout",
     "output_type": "stream",
     "text": [
      "https://books.toscrape.com/catalogue/the-7-habits-of-highly-effective-people-powerful-lessons-in-personal-change_489/index.html\n"
     ]
    },
    {
     "name": "stderr",
     "output_type": "stream",
     "text": [
      " 51%|████████████████████████████████████████▍                                      | 512/1000 [08:05<06:53,  1.18it/s]"
     ]
    },
    {
     "name": "stdout",
     "output_type": "stream",
     "text": [
      "https://books.toscrape.com/catalogue/team-of-rivals-the-political-genius-of-abraham-lincoln_488/index.html\n"
     ]
    },
    {
     "name": "stderr",
     "output_type": "stream",
     "text": [
      " 51%|████████████████████████████████████████▌                                      | 513/1000 [08:06<07:30,  1.08it/s]"
     ]
    },
    {
     "name": "stdout",
     "output_type": "stream",
     "text": [
      "https://books.toscrape.com/catalogue/steal-like-an-artist-10-things-nobody-told-you-about-being-creative_487/index.html\n"
     ]
    },
    {
     "name": "stderr",
     "output_type": "stream",
     "text": [
      " 51%|████████████████████████████████████████▌                                      | 514/1000 [08:07<07:14,  1.12it/s]"
     ]
    },
    {
     "name": "stdout",
     "output_type": "stream",
     "text": [
      "https://books.toscrape.com/catalogue/sit-stay-love_486/index.html\n"
     ]
    },
    {
     "name": "stderr",
     "output_type": "stream",
     "text": [
      " 52%|████████████████████████████████████████▋                                      | 515/1000 [08:08<07:06,  1.14it/s]"
     ]
    },
    {
     "name": "stdout",
     "output_type": "stream",
     "text": [
      "https://books.toscrape.com/catalogue/sister-dear_485/index.html\n"
     ]
    },
    {
     "name": "stderr",
     "output_type": "stream",
     "text": [
      " 52%|████████████████████████████████████████▊                                      | 516/1000 [08:09<06:54,  1.17it/s]"
     ]
    },
    {
     "name": "stdout",
     "output_type": "stream",
     "text": [
      "https://books.toscrape.com/catalogue/shrunken-treasures-literary-classics-short-sweet-and-silly_484/index.html\n"
     ]
    },
    {
     "name": "stderr",
     "output_type": "stream",
     "text": [
      " 52%|████████████████████████████████████████▊                                      | 517/1000 [08:10<06:48,  1.18it/s]"
     ]
    },
    {
     "name": "stdout",
     "output_type": "stream",
     "text": [
      "https://books.toscrape.com/catalogue/rich-dad-poor-dad_483/index.html\n"
     ]
    },
    {
     "name": "stderr",
     "output_type": "stream",
     "text": [
      " 52%|████████████████████████████████████████▉                                      | 518/1000 [08:11<06:43,  1.19it/s]"
     ]
    },
    {
     "name": "stdout",
     "output_type": "stream",
     "text": [
      "https://books.toscrape.com/catalogue/raymie-nightingale_482/index.html\n"
     ]
    },
    {
     "name": "stderr",
     "output_type": "stream",
     "text": [
      " 52%|█████████████████████████████████████████                                      | 519/1000 [08:11<06:40,  1.20it/s]"
     ]
    },
    {
     "name": "stdout",
     "output_type": "stream",
     "text": [
      "https://books.toscrape.com/catalogue/playing-from-the-heart_481/index.html\n"
     ]
    },
    {
     "name": "stderr",
     "output_type": "stream",
     "text": [
      " 52%|█████████████████████████████████████████                                      | 520/1000 [08:12<06:35,  1.21it/s]"
     ]
    },
    {
     "name": "stdout",
     "output_type": "stream",
     "text": [
      "https://books.toscrape.com/catalogue/nightstruck-a-novel_480/index.html\n"
     ]
    },
    {
     "name": "stderr",
     "output_type": "stream",
     "text": [
      " 52%|█████████████████████████████████████████▏                                     | 521/1000 [08:13<06:39,  1.20it/s]"
     ]
    },
    {
     "name": "stdout",
     "output_type": "stream",
     "text": [
      "https://books.toscrape.com/catalogue/naturally-lean-125-nourishing-gluten-free-plant-based-recipes-all-under-300-calories_479/index.html\n"
     ]
    },
    {
     "name": "stderr",
     "output_type": "stream",
     "text": [
      " 52%|█████████████████████████████████████████▏                                     | 522/1000 [08:14<06:45,  1.18it/s]"
     ]
    },
    {
     "name": "stdout",
     "output_type": "stream",
     "text": [
      "https://books.toscrape.com/catalogue/meternity_478/index.html\n"
     ]
    },
    {
     "name": "stderr",
     "output_type": "stream",
     "text": [
      " 52%|█████████████████████████████████████████▎                                     | 523/1000 [08:15<06:40,  1.19it/s]"
     ]
    },
    {
     "name": "stdout",
     "output_type": "stream",
     "text": [
      "https://books.toscrape.com/catalogue/memoirs-of-a-geisha_477/index.html\n"
     ]
    },
    {
     "name": "stderr",
     "output_type": "stream",
     "text": [
      " 52%|█████████████████████████████████████████▍                                     | 524/1000 [08:16<06:30,  1.22it/s]"
     ]
    },
    {
     "name": "stdout",
     "output_type": "stream",
     "text": [
      "https://books.toscrape.com/catalogue/like-never-before-walker-family-2_476/index.html\n"
     ]
    },
    {
     "name": "stderr",
     "output_type": "stream",
     "text": [
      " 52%|█████████████████████████████████████████▍                                     | 525/1000 [08:16<06:35,  1.20it/s]"
     ]
    },
    {
     "name": "stdout",
     "output_type": "stream",
     "text": [
      "https://books.toscrape.com/catalogue/life-of-pi_475/index.html\n"
     ]
    },
    {
     "name": "stderr",
     "output_type": "stream",
     "text": [
      " 53%|█████████████████████████████████████████▌                                     | 526/1000 [08:17<06:35,  1.20it/s]"
     ]
    },
    {
     "name": "stdout",
     "output_type": "stream",
     "text": [
      "https://books.toscrape.com/catalogue/leave-this-song-behind-teen-poetry-at-its-best_474/index.html\n"
     ]
    },
    {
     "name": "stderr",
     "output_type": "stream",
     "text": [
      " 53%|█████████████████████████████████████████▋                                     | 527/1000 [08:18<06:31,  1.21it/s]"
     ]
    },
    {
     "name": "stdout",
     "output_type": "stream",
     "text": [
      "https://books.toscrape.com/catalogue/kings-folly-the-kinsman-chronicles-1_473/index.html\n"
     ]
    },
    {
     "name": "stderr",
     "output_type": "stream",
     "text": [
      " 53%|█████████████████████████████████████████▋                                     | 528/1000 [08:19<06:26,  1.22it/s]"
     ]
    },
    {
     "name": "stdout",
     "output_type": "stream",
     "text": [
      "https://books.toscrape.com/catalogue/john-adams_472/index.html\n"
     ]
    },
    {
     "name": "stderr",
     "output_type": "stream",
     "text": [
      " 53%|█████████████████████████████████████████▊                                     | 529/1000 [08:20<07:00,  1.12it/s]"
     ]
    },
    {
     "name": "stdout",
     "output_type": "stream",
     "text": [
      "https://books.toscrape.com/catalogue/how-to-cook-everything-vegetarian-simple-meatless-recipes-for-great-food-how-to-cook-everything_471/index.html\n"
     ]
    },
    {
     "name": "stderr",
     "output_type": "stream",
     "text": [
      " 53%|█████████████████████████████████████████▊                                     | 530/1000 [08:21<07:31,  1.04it/s]"
     ]
    },
    {
     "name": "stdout",
     "output_type": "stream",
     "text": [
      "https://books.toscrape.com/catalogue/how-to-be-a-domestic-goddess-baking-and-the-art-of-comfort-cooking_470/index.html\n"
     ]
    },
    {
     "name": "stderr",
     "output_type": "stream",
     "text": [
      " 53%|█████████████████████████████████████████▉                                     | 531/1000 [08:22<07:08,  1.09it/s]"
     ]
    },
    {
     "name": "stdout",
     "output_type": "stream",
     "text": [
      "https://books.toscrape.com/catalogue/good-in-bed-cannie-shapiro-1_469/index.html\n"
     ]
    },
    {
     "name": "stderr",
     "output_type": "stream",
     "text": [
      " 53%|██████████████████████████████████████████                                     | 532/1000 [08:23<06:52,  1.13it/s]"
     ]
    },
    {
     "name": "stdout",
     "output_type": "stream",
     "text": [
      "https://books.toscrape.com/catalogue/fruits-basket-vol-7-fruits-basket-7_468/index.html\n"
     ]
    },
    {
     "name": "stderr",
     "output_type": "stream",
     "text": [
      " 53%|██████████████████████████████████████████                                     | 533/1000 [08:23<06:39,  1.17it/s]"
     ]
    },
    {
     "name": "stdout",
     "output_type": "stream",
     "text": [
      "https://books.toscrape.com/catalogue/for-the-love-fighting-for-grace-in-a-world-of-impossible-standards_467/index.html\n"
     ]
    },
    {
     "name": "stderr",
     "output_type": "stream",
     "text": [
      " 53%|██████████████████████████████████████████▏                                    | 534/1000 [08:24<07:06,  1.09it/s]"
     ]
    },
    {
     "name": "stdout",
     "output_type": "stream",
     "text": [
      "https://books.toscrape.com/catalogue/finding-god-in-the-ruins-how-god-redeems-pain_466/index.html\n"
     ]
    },
    {
     "name": "stderr",
     "output_type": "stream",
     "text": [
      " 54%|██████████████████████████████████████████▎                                    | 535/1000 [08:26<07:49,  1.01s/it]"
     ]
    },
    {
     "name": "stdout",
     "output_type": "stream",
     "text": [
      "https://books.toscrape.com/catalogue/every-heart-a-doorway-every-heart-a-doorway-1_465/index.html\n"
     ]
    },
    {
     "name": "stderr",
     "output_type": "stream",
     "text": [
      " 54%|██████████████████████████████████████████▎                                    | 536/1000 [08:26<07:20,  1.05it/s]"
     ]
    },
    {
     "name": "stdout",
     "output_type": "stream",
     "text": [
      "https://books.toscrape.com/catalogue/delivering-the-truth-quaker-midwife-mystery-1_464/index.html\n"
     ]
    },
    {
     "name": "stderr",
     "output_type": "stream",
     "text": [
      " 54%|██████████████████████████████████████████▍                                    | 537/1000 [08:27<07:00,  1.10it/s]"
     ]
    },
    {
     "name": "stdout",
     "output_type": "stream",
     "text": [
      "https://books.toscrape.com/catalogue/counted-with-the-stars-out-from-egypt-1_463/index.html\n"
     ]
    },
    {
     "name": "stderr",
     "output_type": "stream",
     "text": [
      " 54%|██████████████████████████████████████████▌                                    | 538/1000 [08:28<06:52,  1.12it/s]"
     ]
    },
    {
     "name": "stdout",
     "output_type": "stream",
     "text": [
      "https://books.toscrape.com/catalogue/chronicles-vol-1_462/index.html\n"
     ]
    },
    {
     "name": "stderr",
     "output_type": "stream",
     "text": [
      " 54%|██████████████████████████████████████████▌                                    | 539/1000 [08:29<06:51,  1.12it/s]"
     ]
    },
    {
     "name": "stdout",
     "output_type": "stream",
     "text": [
      "https://books.toscrape.com/catalogue/blue-like-jazz-nonreligious-thoughts-on-christian-spirituality_461/index.html\n"
     ]
    },
    {
     "name": "stderr",
     "output_type": "stream",
     "text": [
      " 54%|██████████████████████████████████████████▋                                    | 540/1000 [08:30<06:45,  1.14it/s]"
     ]
    },
    {
     "name": "stdout",
     "output_type": "stream",
     "text": [
      "https://books.toscrape.com/catalogue/benjamin-franklin-an-american-life_460/index.html\n"
     ]
    },
    {
     "name": "stderr",
     "output_type": "stream",
     "text": [
      " 54%|██████████████████████████████████████████▋                                    | 541/1000 [08:31<07:11,  1.06it/s]"
     ]
    },
    {
     "name": "stdout",
     "output_type": "stream",
     "text": [
      "https://books.toscrape.com/catalogue/at-the-existentialist-cafe-freedom-being-and-apricot-cocktails-with-jean-paul-sartre-simone-de-beauvoir-albert-camus-martin-heidegger-edmund-husserl-karl-jaspers-maurice-merleau-ponty-and-others_459/index.html\n"
     ]
    },
    {
     "name": "stderr",
     "output_type": "stream",
     "text": [
      " 54%|██████████████████████████████████████████▊                                    | 542/1000 [08:32<07:29,  1.02it/s]"
     ]
    },
    {
     "name": "stdout",
     "output_type": "stream",
     "text": [
      "https://books.toscrape.com/catalogue/a-summer-in-europe_458/index.html\n"
     ]
    },
    {
     "name": "stderr",
     "output_type": "stream",
     "text": [
      " 54%|██████████████████████████████████████████▉                                    | 543/1000 [08:33<07:39,  1.01s/it]"
     ]
    },
    {
     "name": "stdout",
     "output_type": "stream",
     "text": [
      "https://books.toscrape.com/catalogue/a-short-history-of-nearly-everything_457/index.html\n"
     ]
    },
    {
     "name": "stderr",
     "output_type": "stream",
     "text": [
      " 54%|██████████████████████████████████████████▉                                    | 544/1000 [08:34<07:06,  1.07it/s]"
     ]
    },
    {
     "name": "stdout",
     "output_type": "stream",
     "text": [
      "https://books.toscrape.com/catalogue/a-gathering-of-shadows-shades-of-magic-2_456/index.html\n"
     ]
    },
    {
     "name": "stderr",
     "output_type": "stream",
     "text": [
      " 55%|███████████████████████████████████████████                                    | 545/1000 [08:35<06:50,  1.11it/s]"
     ]
    },
    {
     "name": "stdout",
     "output_type": "stream",
     "text": [
      "https://books.toscrape.com/catalogue/the-sound-of-love_455/index.html\n"
     ]
    },
    {
     "name": "stderr",
     "output_type": "stream",
     "text": [
      " 55%|███████████████████████████████████████████▏                                   | 546/1000 [08:36<06:38,  1.14it/s]"
     ]
    },
    {
     "name": "stdout",
     "output_type": "stream",
     "text": [
      "https://books.toscrape.com/catalogue/the-rise-and-fall-of-the-third-reich-a-history-of-nazi-germany_454/index.html\n"
     ]
    },
    {
     "name": "stderr",
     "output_type": "stream",
     "text": [
      " 55%|███████████████████████████████████████████▏                                   | 547/1000 [08:36<06:35,  1.14it/s]"
     ]
    },
    {
     "name": "stdout",
     "output_type": "stream",
     "text": [
      "https://books.toscrape.com/catalogue/the-perks-of-being-a-wallflower_453/index.html\n"
     ]
    },
    {
     "name": "stderr",
     "output_type": "stream",
     "text": [
      " 55%|███████████████████████████████████████████▎                                   | 548/1000 [08:37<06:27,  1.17it/s]"
     ]
    },
    {
     "name": "stdout",
     "output_type": "stream",
     "text": [
      "https://books.toscrape.com/catalogue/the-mysterious-affair-at-styles-hercule-poirot-1_452/index.html\n"
     ]
    },
    {
     "name": "stderr",
     "output_type": "stream",
     "text": [
      " 55%|███████████████████████████████████████████▎                                   | 549/1000 [08:38<06:24,  1.17it/s]"
     ]
    },
    {
     "name": "stdout",
     "output_type": "stream",
     "text": [
      "https://books.toscrape.com/catalogue/the-man-who-mistook-his-wife-for-a-hat-and-other-clinical-tales_451/index.html\n"
     ]
    },
    {
     "name": "stderr",
     "output_type": "stream",
     "text": [
      " 55%|███████████████████████████████████████████▍                                   | 550/1000 [08:39<06:15,  1.20it/s]"
     ]
    },
    {
     "name": "stdout",
     "output_type": "stream",
     "text": [
      "https://books.toscrape.com/catalogue/the-makings-of-a-fatherless-child_450/index.html\n"
     ]
    },
    {
     "name": "stderr",
     "output_type": "stream",
     "text": [
      " 55%|███████████████████████████████████████████▌                                   | 551/1000 [08:40<06:19,  1.18it/s]"
     ]
    },
    {
     "name": "stdout",
     "output_type": "stream",
     "text": [
      "https://books.toscrape.com/catalogue/the-joy-of-cooking_449/index.html\n"
     ]
    },
    {
     "name": "stderr",
     "output_type": "stream",
     "text": [
      " 55%|███████████████████████████████████████████▌                                   | 552/1000 [08:41<06:58,  1.07it/s]"
     ]
    },
    {
     "name": "stdout",
     "output_type": "stream",
     "text": [
      "https://books.toscrape.com/catalogue/the-invention-of-wings_448/index.html\n"
     ]
    },
    {
     "name": "stderr",
     "output_type": "stream",
     "text": [
      " 55%|███████████████████████████████████████████▋                                   | 553/1000 [08:42<06:50,  1.09it/s]"
     ]
    },
    {
     "name": "stdout",
     "output_type": "stream",
     "text": [
      "https://books.toscrape.com/catalogue/the-hobbit-middle-earth-universe_447/index.html\n"
     ]
    },
    {
     "name": "stderr",
     "output_type": "stream",
     "text": [
      " 55%|███████████████████████████████████████████▊                                   | 554/1000 [08:43<06:33,  1.13it/s]"
     ]
    },
    {
     "name": "stdout",
     "output_type": "stream",
     "text": [
      "https://books.toscrape.com/catalogue/the-great-railway-bazaar_446/index.html\n"
     ]
    },
    {
     "name": "stderr",
     "output_type": "stream",
     "text": [
      " 56%|███████████████████████████████████████████▊                                   | 555/1000 [08:43<06:16,  1.18it/s]"
     ]
    },
    {
     "name": "stdout",
     "output_type": "stream",
     "text": [
      "https://books.toscrape.com/catalogue/the-golden-compass-his-dark-materials-1_445/index.html\n"
     ]
    },
    {
     "name": "stderr",
     "output_type": "stream",
     "text": [
      " 56%|███████████████████████████████████████████▉                                   | 556/1000 [08:44<06:07,  1.21it/s]"
     ]
    },
    {
     "name": "stdout",
     "output_type": "stream",
     "text": [
      "https://books.toscrape.com/catalogue/the-god-delusion_444/index.html\n"
     ]
    },
    {
     "name": "stderr",
     "output_type": "stream",
     "text": [
      " 56%|████████████████████████████████████████████                                   | 557/1000 [08:45<06:08,  1.20it/s]"
     ]
    },
    {
     "name": "stdout",
     "output_type": "stream",
     "text": [
      "https://books.toscrape.com/catalogue/the-girl-you-left-behind-the-girl-you-left-behind-1_443/index.html\n"
     ]
    },
    {
     "name": "stderr",
     "output_type": "stream",
     "text": [
      " 56%|████████████████████████████████████████████                                   | 558/1000 [08:46<06:06,  1.21it/s]"
     ]
    },
    {
     "name": "stdout",
     "output_type": "stream",
     "text": [
      "https://books.toscrape.com/catalogue/the-fellowship-of-the-ring-the-lord-of-the-rings-1_442/index.html\n"
     ]
    },
    {
     "name": "stderr",
     "output_type": "stream",
     "text": [
      " 56%|████████████████████████████████████████████▏                                  | 559/1000 [08:47<06:02,  1.22it/s]"
     ]
    },
    {
     "name": "stdout",
     "output_type": "stream",
     "text": [
      "https://books.toscrape.com/catalogue/the-collected-poems-of-wb-yeats-the-collected-works-of-wb-yeats-1_441/index.html\n"
     ]
    },
    {
     "name": "stderr",
     "output_type": "stream",
     "text": [
      " 56%|████████████████████████████████████████████▏                                  | 560/1000 [08:47<05:59,  1.22it/s]"
     ]
    },
    {
     "name": "stdout",
     "output_type": "stream",
     "text": [
      "https://books.toscrape.com/catalogue/the-barefoot-contessa-cookbook_440/index.html\n"
     ]
    },
    {
     "name": "stderr",
     "output_type": "stream",
     "text": [
      " 56%|████████████████████████████████████████████▎                                  | 561/1000 [08:48<06:07,  1.19it/s]"
     ]
    },
    {
     "name": "stdout",
     "output_type": "stream",
     "text": [
      "https://books.toscrape.com/catalogue/tell-the-wolves-im-home_439/index.html\n"
     ]
    },
    {
     "name": "stderr",
     "output_type": "stream",
     "text": [
      " 56%|████████████████████████████████████████████▍                                  | 562/1000 [08:49<06:07,  1.19it/s]"
     ]
    },
    {
     "name": "stdout",
     "output_type": "stream",
     "text": [
      "https://books.toscrape.com/catalogue/ship-leaves-harbor-essays-on-travel-by-a-recovering-journeyman_438/index.html\n"
     ]
    },
    {
     "name": "stderr",
     "output_type": "stream",
     "text": [
      " 56%|████████████████████████████████████████████▍                                  | 563/1000 [08:50<06:14,  1.17it/s]"
     ]
    },
    {
     "name": "stdout",
     "output_type": "stream",
     "text": [
      "https://books.toscrape.com/catalogue/pride-and-prejudice_437/index.html\n"
     ]
    },
    {
     "name": "stderr",
     "output_type": "stream",
     "text": [
      " 56%|████████████████████████████████████████████▌                                  | 564/1000 [08:51<06:10,  1.18it/s]"
     ]
    },
    {
     "name": "stdout",
     "output_type": "stream",
     "text": [
      "https://books.toscrape.com/catalogue/musicophilia-tales-of-music-and-the-brain_436/index.html\n"
     ]
    },
    {
     "name": "stderr",
     "output_type": "stream",
     "text": [
      " 56%|████████████████████████████████████████████▋                                  | 565/1000 [08:52<06:05,  1.19it/s]"
     ]
    },
    {
     "name": "stdout",
     "output_type": "stream",
     "text": [
      "https://books.toscrape.com/catalogue/mere-christianity_435/index.html\n"
     ]
    },
    {
     "name": "stderr",
     "output_type": "stream",
     "text": [
      " 57%|████████████████████████████████████████████▋                                  | 566/1000 [08:52<06:00,  1.21it/s]"
     ]
    },
    {
     "name": "stdout",
     "output_type": "stream",
     "text": [
      "https://books.toscrape.com/catalogue/me-before-you-me-before-you-1_434/index.html\n"
     ]
    },
    {
     "name": "stderr",
     "output_type": "stream",
     "text": [
      " 57%|████████████████████████████████████████████▊                                  | 567/1000 [08:53<06:03,  1.19it/s]"
     ]
    },
    {
     "name": "stdout",
     "output_type": "stream",
     "text": [
      "https://books.toscrape.com/catalogue/in-the-woods-dublin-murder-squad-1_433/index.html\n"
     ]
    },
    {
     "name": "stderr",
     "output_type": "stream",
     "text": [
      " 57%|████████████████████████████████████████████▊                                  | 568/1000 [08:54<06:02,  1.19it/s]"
     ]
    },
    {
     "name": "stdout",
     "output_type": "stream",
     "text": [
      "https://books.toscrape.com/catalogue/in-cold-blood_432/index.html\n"
     ]
    },
    {
     "name": "stderr",
     "output_type": "stream",
     "text": [
      " 57%|████████████████████████████████████████████▉                                  | 569/1000 [08:55<06:03,  1.18it/s]"
     ]
    },
    {
     "name": "stdout",
     "output_type": "stream",
     "text": [
      "https://books.toscrape.com/catalogue/how-to-stop-worrying-and-start-living_431/index.html\n"
     ]
    },
    {
     "name": "stderr",
     "output_type": "stream",
     "text": [
      " 57%|█████████████████████████████████████████████                                  | 570/1000 [08:56<06:05,  1.18it/s]"
     ]
    },
    {
     "name": "stdout",
     "output_type": "stream",
     "text": [
      "https://books.toscrape.com/catalogue/give-it-back_430/index.html\n"
     ]
    },
    {
     "name": "stderr",
     "output_type": "stream",
     "text": [
      " 57%|█████████████████████████████████████████████                                  | 571/1000 [08:57<05:56,  1.20it/s]"
     ]
    },
    {
     "name": "stdout",
     "output_type": "stream",
     "text": [
      "https://books.toscrape.com/catalogue/girl-interrupted_429/index.html\n"
     ]
    },
    {
     "name": "stderr",
     "output_type": "stream",
     "text": [
      " 57%|█████████████████████████████████████████████▏                                 | 572/1000 [08:58<05:57,  1.20it/s]"
     ]
    },
    {
     "name": "stdout",
     "output_type": "stream",
     "text": [
      "https://books.toscrape.com/catalogue/fun-home-a-family-tragicomic_428/index.html\n"
     ]
    },
    {
     "name": "stderr",
     "output_type": "stream",
     "text": [
      " 57%|█████████████████████████████████████████████▎                                 | 573/1000 [08:58<05:56,  1.20it/s]"
     ]
    },
    {
     "name": "stdout",
     "output_type": "stream",
     "text": [
      "https://books.toscrape.com/catalogue/fruits-basket-vol-6-fruits-basket-6_427/index.html\n"
     ]
    },
    {
     "name": "stderr",
     "output_type": "stream",
     "text": [
      " 57%|█████████████████████████████████████████████▎                                 | 574/1000 [08:59<05:50,  1.22it/s]"
     ]
    },
    {
     "name": "stdout",
     "output_type": "stream",
     "text": [
      "https://books.toscrape.com/catalogue/deception-point_426/index.html\n"
     ]
    },
    {
     "name": "stderr",
     "output_type": "stream",
     "text": [
      " 57%|█████████████████████████████████████████████▍                                 | 575/1000 [09:00<05:42,  1.24it/s]"
     ]
    },
    {
     "name": "stdout",
     "output_type": "stream",
     "text": [
      "https://books.toscrape.com/catalogue/death-note-vol-6-give-and-take-death-note-6_425/index.html\n"
     ]
    },
    {
     "name": "stderr",
     "output_type": "stream",
     "text": [
      " 58%|█████████████████████████████████████████████▌                                 | 576/1000 [09:01<05:41,  1.24it/s]"
     ]
    },
    {
     "name": "stdout",
     "output_type": "stream",
     "text": [
      "https://books.toscrape.com/catalogue/catherine-the-great-portrait-of-a-woman_424/index.html\n"
     ]
    },
    {
     "name": "stderr",
     "output_type": "stream",
     "text": [
      " 58%|█████████████████████████████████████████████▌                                 | 577/1000 [09:02<06:24,  1.10it/s]"
     ]
    },
    {
     "name": "stdout",
     "output_type": "stream",
     "text": [
      "https://books.toscrape.com/catalogue/better-homes-and-gardens-new-cook-book_423/index.html\n"
     ]
    },
    {
     "name": "stderr",
     "output_type": "stream",
     "text": [
      " 58%|█████████████████████████████████████████████▋                                 | 578/1000 [09:03<06:19,  1.11it/s]"
     ]
    },
    {
     "name": "stdout",
     "output_type": "stream",
     "text": [
      "https://books.toscrape.com/catalogue/an-unquiet-mind-a-memoir-of-moods-and-madness_422/index.html\n"
     ]
    },
    {
     "name": "stderr",
     "output_type": "stream",
     "text": [
      " 58%|█████████████████████████████████████████████▋                                 | 579/1000 [09:04<06:05,  1.15it/s]"
     ]
    },
    {
     "name": "stdout",
     "output_type": "stream",
     "text": [
      "https://books.toscrape.com/catalogue/a-year-in-provence-provence-1_421/index.html\n"
     ]
    },
    {
     "name": "stderr",
     "output_type": "stream",
     "text": [
      " 58%|█████████████████████████████████████████████▊                                 | 580/1000 [09:04<06:01,  1.16it/s]"
     ]
    },
    {
     "name": "stdout",
     "output_type": "stream",
     "text": [
      "https://books.toscrape.com/catalogue/world-without-end-the-pillars-of-the-earth-2_420/index.html\n"
     ]
    },
    {
     "name": "stderr",
     "output_type": "stream",
     "text": [
      " 58%|█████████████████████████████████████████████▉                                 | 581/1000 [09:05<05:57,  1.17it/s]"
     ]
    },
    {
     "name": "stdout",
     "output_type": "stream",
     "text": [
      "https://books.toscrape.com/catalogue/will-grayson-will-grayson-will-grayson-will-grayson_419/index.html\n"
     ]
    },
    {
     "name": "stderr",
     "output_type": "stream",
     "text": [
      " 58%|█████████████████████████████████████████████▉                                 | 582/1000 [09:06<05:56,  1.17it/s]"
     ]
    },
    {
     "name": "stdout",
     "output_type": "stream",
     "text": [
      "https://books.toscrape.com/catalogue/why-save-the-bankers-and-other-essays-on-our-economic-and-political-crisis_418/index.html\n"
     ]
    },
    {
     "name": "stderr",
     "output_type": "stream",
     "text": [
      " 58%|██████████████████████████████████████████████                                 | 583/1000 [09:07<05:50,  1.19it/s]"
     ]
    },
    {
     "name": "stdout",
     "output_type": "stream",
     "text": [
      "https://books.toscrape.com/catalogue/where-she-went-if-i-stay-2_417/index.html\n"
     ]
    },
    {
     "name": "stderr",
     "output_type": "stream",
     "text": [
      " 58%|██████████████████████████████████████████████▏                                | 584/1000 [09:08<05:54,  1.17it/s]"
     ]
    },
    {
     "name": "stdout",
     "output_type": "stream",
     "text": [
      "https://books.toscrape.com/catalogue/what-if-serious-scientific-answers-to-absurd-hypothetical-questions_416/index.html\n"
     ]
    },
    {
     "name": "stderr",
     "output_type": "stream",
     "text": [
      " 58%|██████████████████████████████████████████████▏                                | 585/1000 [09:09<06:23,  1.08it/s]"
     ]
    },
    {
     "name": "stdout",
     "output_type": "stream",
     "text": [
      "https://books.toscrape.com/catalogue/two-summers_415/index.html\n"
     ]
    },
    {
     "name": "stderr",
     "output_type": "stream",
     "text": [
      " 59%|██████████████████████████████████████████████▎                                | 586/1000 [09:10<06:08,  1.12it/s]"
     ]
    },
    {
     "name": "stdout",
     "output_type": "stream",
     "text": [
      "https://books.toscrape.com/catalogue/this-is-your-brain-on-music-the-science-of-a-human-obsession_414/index.html\n"
     ]
    },
    {
     "name": "stderr",
     "output_type": "stream",
     "text": [
      " 59%|██████████████████████████████████████████████▎                                | 587/1000 [09:10<05:56,  1.16it/s]"
     ]
    },
    {
     "name": "stdout",
     "output_type": "stream",
     "text": [
      "https://books.toscrape.com/catalogue/the-secret-garden_413/index.html\n"
     ]
    },
    {
     "name": "stderr",
     "output_type": "stream",
     "text": [
      " 59%|██████████████████████████████████████████████▍                                | 588/1000 [09:11<05:44,  1.19it/s]"
     ]
    },
    {
     "name": "stdout",
     "output_type": "stream",
     "text": [
      "https://books.toscrape.com/catalogue/the-raven-king-the-raven-cycle-4_412/index.html\n"
     ]
    },
    {
     "name": "stderr",
     "output_type": "stream",
     "text": [
      " 59%|██████████████████████████████████████████████▌                                | 589/1000 [09:12<05:35,  1.23it/s]"
     ]
    },
    {
     "name": "stdout",
     "output_type": "stream",
     "text": [
      "https://books.toscrape.com/catalogue/the-raven-boys-the-raven-cycle-1_411/index.html\n"
     ]
    },
    {
     "name": "stderr",
     "output_type": "stream",
     "text": [
      " 59%|██████████████████████████████████████████████▌                                | 590/1000 [09:13<05:39,  1.21it/s]"
     ]
    },
    {
     "name": "stdout",
     "output_type": "stream",
     "text": [
      "https://books.toscrape.com/catalogue/the-power-greens-cookbook-140-delicious-superfood-recipes_410/index.html\n"
     ]
    },
    {
     "name": "stderr",
     "output_type": "stream",
     "text": [
      " 59%|██████████████████████████████████████████████▋                                | 591/1000 [09:14<05:39,  1.20it/s]"
     ]
    },
    {
     "name": "stdout",
     "output_type": "stream",
     "text": [
      "https://books.toscrape.com/catalogue/the-metamorphosis_409/index.html\n"
     ]
    },
    {
     "name": "stderr",
     "output_type": "stream",
     "text": [
      " 59%|██████████████████████████████████████████████▊                                | 592/1000 [09:15<05:40,  1.20it/s]"
     ]
    },
    {
     "name": "stdout",
     "output_type": "stream",
     "text": [
      "https://books.toscrape.com/catalogue/the-mathews-men-seven-brothers-and-the-war-against-hitlers-u-boats_408/index.html\n"
     ]
    },
    {
     "name": "stderr",
     "output_type": "stream",
     "text": [
      " 59%|██████████████████████████████████████████████▊                                | 593/1000 [09:15<05:34,  1.22it/s]"
     ]
    },
    {
     "name": "stdout",
     "output_type": "stream",
     "text": [
      "https://books.toscrape.com/catalogue/the-little-paris-bookshop_407/index.html\n"
     ]
    },
    {
     "name": "stderr",
     "output_type": "stream",
     "text": [
      " 59%|██████████████████████████████████████████████▉                                | 594/1000 [09:16<05:40,  1.19it/s]"
     ]
    },
    {
     "name": "stdout",
     "output_type": "stream",
     "text": [
      "https://books.toscrape.com/catalogue/the-hiding-place_406/index.html\n"
     ]
    },
    {
     "name": "stderr",
     "output_type": "stream",
     "text": [
      " 60%|███████████████████████████████████████████████                                | 595/1000 [09:17<05:38,  1.20it/s]"
     ]
    },
    {
     "name": "stdout",
     "output_type": "stream",
     "text": [
      "https://books.toscrape.com/catalogue/the-grand-design_405/index.html\n"
     ]
    },
    {
     "name": "stderr",
     "output_type": "stream",
     "text": [
      " 60%|███████████████████████████████████████████████                                | 596/1000 [09:18<06:13,  1.08it/s]"
     ]
    },
    {
     "name": "stdout",
     "output_type": "stream",
     "text": [
      "https://books.toscrape.com/catalogue/the-firm_404/index.html\n"
     ]
    },
    {
     "name": "stderr",
     "output_type": "stream",
     "text": [
      " 60%|███████████████████████████████████████████████▏                               | 597/1000 [09:19<05:57,  1.13it/s]"
     ]
    },
    {
     "name": "stdout",
     "output_type": "stream",
     "text": [
      "https://books.toscrape.com/catalogue/the-fault-in-our-stars_403/index.html\n"
     ]
    },
    {
     "name": "stderr",
     "output_type": "stream",
     "text": [
      " 60%|███████████████████████████████████████████████▏                               | 598/1000 [09:20<05:46,  1.16it/s]"
     ]
    },
    {
     "name": "stdout",
     "output_type": "stream",
     "text": [
      "https://books.toscrape.com/catalogue/the-false-prince-the-ascendance-trilogy-1_402/index.html\n"
     ]
    },
    {
     "name": "stderr",
     "output_type": "stream",
     "text": [
      " 60%|███████████████████████████████████████████████▎                               | 599/1000 [09:21<05:43,  1.17it/s]"
     ]
    },
    {
     "name": "stdout",
     "output_type": "stream",
     "text": [
      "https://books.toscrape.com/catalogue/the-expatriates_401/index.html\n"
     ]
    },
    {
     "name": "stderr",
     "output_type": "stream",
     "text": [
      " 60%|███████████████████████████████████████████████▍                               | 600/1000 [09:21<05:39,  1.18it/s]"
     ]
    },
    {
     "name": "stdout",
     "output_type": "stream",
     "text": [
      "https://books.toscrape.com/catalogue/the-dream-thieves-the-raven-cycle-2_400/index.html\n"
     ]
    },
    {
     "name": "stderr",
     "output_type": "stream",
     "text": [
      " 60%|███████████████████████████████████████████████▍                               | 601/1000 [09:22<05:54,  1.12it/s]"
     ]
    },
    {
     "name": "stdout",
     "output_type": "stream",
     "text": [
      "https://books.toscrape.com/catalogue/the-darkest-corners_399/index.html\n"
     ]
    },
    {
     "name": "stderr",
     "output_type": "stream",
     "text": [
      " 60%|███████████████████████████████████████████████▌                               | 602/1000 [09:23<05:47,  1.14it/s]"
     ]
    },
    {
     "name": "stdout",
     "output_type": "stream",
     "text": [
      "https://books.toscrape.com/catalogue/the-crossover_398/index.html\n"
     ]
    },
    {
     "name": "stderr",
     "output_type": "stream",
     "text": [
      " 60%|███████████████████████████████████████████████▋                               | 603/1000 [09:24<05:36,  1.18it/s]"
     ]
    },
    {
     "name": "stdout",
     "output_type": "stream",
     "text": [
      "https://books.toscrape.com/catalogue/the-5th-wave-the-5th-wave-1_397/index.html\n"
     ]
    },
    {
     "name": "stderr",
     "output_type": "stream",
     "text": [
      " 60%|███████████████████████████████████████████████▋                               | 604/1000 [09:25<05:36,  1.18it/s]"
     ]
    },
    {
     "name": "stdout",
     "output_type": "stream",
     "text": [
      "https://books.toscrape.com/catalogue/tell-the-wind-and-fire_396/index.html\n"
     ]
    },
    {
     "name": "stderr",
     "output_type": "stream",
     "text": [
      " 60%|███████████████████████████████████████████████▊                               | 605/1000 [09:26<05:28,  1.20it/s]"
     ]
    },
    {
     "name": "stdout",
     "output_type": "stream",
     "text": [
      "https://books.toscrape.com/catalogue/tell-me-three-things_395/index.html\n"
     ]
    },
    {
     "name": "stderr",
     "output_type": "stream",
     "text": [
      " 61%|███████████████████████████████████████████████▊                               | 606/1000 [09:27<05:28,  1.20it/s]"
     ]
    },
    {
     "name": "stdout",
     "output_type": "stream",
     "text": [
      "https://books.toscrape.com/catalogue/talking-to-girls-about-duran-duran-one-young-mans-quest-for-true-love-and-a-cooler-haircut_394/index.html\n"
     ]
    },
    {
     "name": "stderr",
     "output_type": "stream",
     "text": [
      " 61%|███████████████████████████████████████████████▉                               | 607/1000 [09:28<05:59,  1.09it/s]"
     ]
    },
    {
     "name": "stdout",
     "output_type": "stream",
     "text": [
      "https://books.toscrape.com/catalogue/siddhartha_393/index.html\n"
     ]
    },
    {
     "name": "stderr",
     "output_type": "stream",
     "text": [
      " 61%|████████████████████████████████████████████████                               | 608/1000 [09:29<06:05,  1.07it/s]"
     ]
    },
    {
     "name": "stdout",
     "output_type": "stream",
     "text": [
      "https://books.toscrape.com/catalogue/shiver-the-wolves-of-mercy-falls-1_392/index.html\n"
     ]
    },
    {
     "name": "stderr",
     "output_type": "stream",
     "text": [
      " 61%|████████████████████████████████████████████████                               | 609/1000 [09:29<05:47,  1.12it/s]"
     ]
    },
    {
     "name": "stdout",
     "output_type": "stream",
     "text": [
      "https://books.toscrape.com/catalogue/remember-me_391/index.html\n"
     ]
    },
    {
     "name": "stderr",
     "output_type": "stream",
     "text": [
      " 61%|████████████████████████████████████████████████▏                              | 610/1000 [09:30<05:45,  1.13it/s]"
     ]
    },
    {
     "name": "stdout",
     "output_type": "stream",
     "text": [
      "https://books.toscrape.com/catalogue/red-dragon-hannibal-lecter-1_390/index.html\n"
     ]
    },
    {
     "name": "stderr",
     "output_type": "stream",
     "text": [
      " 61%|████████████████████████████████████████████████▎                              | 611/1000 [09:31<05:34,  1.16it/s]"
     ]
    },
    {
     "name": "stdout",
     "output_type": "stream",
     "text": [
      "https://books.toscrape.com/catalogue/peak-secrets-from-the-new-science-of-expertise_389/index.html\n"
     ]
    },
    {
     "name": "stderr",
     "output_type": "stream",
     "text": [
      " 61%|████████████████████████████████████████████████▎                              | 612/1000 [09:32<05:30,  1.17it/s]"
     ]
    },
    {
     "name": "stdout",
     "output_type": "stream",
     "text": [
      "https://books.toscrape.com/catalogue/my-mother-was-nuts_388/index.html\n"
     ]
    },
    {
     "name": "stderr",
     "output_type": "stream",
     "text": [
      " 61%|████████████████████████████████████████████████▍                              | 613/1000 [09:33<05:25,  1.19it/s]"
     ]
    },
    {
     "name": "stdout",
     "output_type": "stream",
     "text": [
      "https://books.toscrape.com/catalogue/mexican-today-new-and-rediscovered-recipes-for-contemporary-kitchens_387/index.html\n"
     ]
    },
    {
     "name": "stderr",
     "output_type": "stream",
     "text": [
      " 61%|████████████████████████████████████████████████▌                              | 614/1000 [09:34<05:46,  1.11it/s]"
     ]
    },
    {
     "name": "stdout",
     "output_type": "stream",
     "text": [
      "https://books.toscrape.com/catalogue/maybe-something-beautiful-how-art-transformed-a-neighborhood_386/index.html\n"
     ]
    },
    {
     "name": "stderr",
     "output_type": "stream",
     "text": [
      " 62%|████████████████████████████████████████████████▌                              | 615/1000 [09:35<05:40,  1.13it/s]"
     ]
    },
    {
     "name": "stdout",
     "output_type": "stream",
     "text": [
      "https://books.toscrape.com/catalogue/lola-and-the-boy-next-door-anna-and-the-french-kiss-2_385/index.html\n"
     ]
    },
    {
     "name": "stderr",
     "output_type": "stream",
     "text": [
      " 62%|████████████████████████████████████████████████▋                              | 616/1000 [09:35<05:29,  1.17it/s]"
     ]
    },
    {
     "name": "stdout",
     "output_type": "stream",
     "text": [
      "https://books.toscrape.com/catalogue/logan-kade-fallen-crest-high-55_384/index.html\n"
     ]
    },
    {
     "name": "stderr",
     "output_type": "stream",
     "text": [
      " 62%|████████████████████████████████████████████████▋                              | 617/1000 [09:36<05:21,  1.19it/s]"
     ]
    },
    {
     "name": "stdout",
     "output_type": "stream",
     "text": [
      "https://books.toscrape.com/catalogue/last-one-home-new-beginnings-1_383/index.html\n"
     ]
    },
    {
     "name": "stderr",
     "output_type": "stream",
     "text": [
      " 62%|████████████████████████████████████████████████▊                              | 618/1000 [09:37<05:12,  1.22it/s]"
     ]
    },
    {
     "name": "stdout",
     "output_type": "stream",
     "text": [
      "https://books.toscrape.com/catalogue/killing-floor-jack-reacher-1_382/index.html\n"
     ]
    },
    {
     "name": "stderr",
     "output_type": "stream",
     "text": [
      " 62%|████████████████████████████████████████████████▉                              | 619/1000 [09:38<05:15,  1.21it/s]"
     ]
    },
    {
     "name": "stdout",
     "output_type": "stream",
     "text": [
      "https://books.toscrape.com/catalogue/kill-the-boy-band_381/index.html\n"
     ]
    },
    {
     "name": "stderr",
     "output_type": "stream",
     "text": [
      " 62%|████████████████████████████████████████████████▉                              | 620/1000 [09:39<05:24,  1.17it/s]"
     ]
    },
    {
     "name": "stdout",
     "output_type": "stream",
     "text": [
      "https://books.toscrape.com/catalogue/isla-and-the-happily-ever-after-anna-and-the-french-kiss-3_380/index.html\n"
     ]
    },
    {
     "name": "stderr",
     "output_type": "stream",
     "text": [
      " 62%|█████████████████████████████████████████████████                              | 621/1000 [09:40<05:30,  1.15it/s]"
     ]
    },
    {
     "name": "stdout",
     "output_type": "stream",
     "text": [
      "https://books.toscrape.com/catalogue/if-i-stay-if-i-stay-1_379/index.html\n"
     ]
    },
    {
     "name": "stderr",
     "output_type": "stream",
     "text": [
      " 62%|█████████████████████████████████████████████████▏                             | 622/1000 [09:40<05:22,  1.17it/s]"
     ]
    },
    {
     "name": "stdout",
     "output_type": "stream",
     "text": [
      "https://books.toscrape.com/catalogue/i-know-why-the-caged-bird-sings-maya-angelous-autobiography-1_378/index.html\n"
     ]
    },
    {
     "name": "stderr",
     "output_type": "stream",
     "text": [
      " 62%|█████████████████████████████████████████████████▏                             | 623/1000 [09:41<05:16,  1.19it/s]"
     ]
    },
    {
     "name": "stdout",
     "output_type": "stream",
     "text": [
      "https://books.toscrape.com/catalogue/harry-potter-and-the-deathly-hallows-harry-potter-7_377/index.html\n"
     ]
    },
    {
     "name": "stderr",
     "output_type": "stream",
     "text": [
      " 62%|█████████████████████████████████████████████████▎                             | 624/1000 [09:42<05:25,  1.15it/s]"
     ]
    },
    {
     "name": "stdout",
     "output_type": "stream",
     "text": [
      "https://books.toscrape.com/catalogue/fruits-basket-vol-5-fruits-basket-5_376/index.html\n"
     ]
    },
    {
     "name": "stderr",
     "output_type": "stream",
     "text": [
      " 62%|█████████████████████████████████████████████████▍                             | 625/1000 [09:43<05:27,  1.14it/s]"
     ]
    },
    {
     "name": "stdout",
     "output_type": "stream",
     "text": [
      "https://books.toscrape.com/catalogue/foundation-foundation-publication-order-1_375/index.html\n"
     ]
    },
    {
     "name": "stderr",
     "output_type": "stream",
     "text": [
      " 63%|█████████████████████████████████████████████████▍                             | 626/1000 [09:44<05:24,  1.15it/s]"
     ]
    },
    {
     "name": "stdout",
     "output_type": "stream",
     "text": [
      "https://books.toscrape.com/catalogue/fool-me-once_374/index.html\n"
     ]
    },
    {
     "name": "stderr",
     "output_type": "stream",
     "text": [
      " 63%|█████████████████████████████████████████████████▌                             | 627/1000 [09:45<05:22,  1.16it/s]"
     ]
    },
    {
     "name": "stdout",
     "output_type": "stream",
     "text": [
      "https://books.toscrape.com/catalogue/find-her-detective-dd-warren-8_373/index.html\n"
     ]
    },
    {
     "name": "stderr",
     "output_type": "stream",
     "text": [
      " 63%|█████████████████████████████████████████████████▌                             | 628/1000 [09:46<05:18,  1.17it/s]"
     ]
    },
    {
     "name": "stdout",
     "output_type": "stream",
     "text": [
      "https://books.toscrape.com/catalogue/evicted-poverty-and-profit-in-the-american-city_372/index.html\n"
     ]
    },
    {
     "name": "stderr",
     "output_type": "stream",
     "text": [
      " 63%|█████████████████████████████████████████████████▋                             | 629/1000 [09:47<05:42,  1.08it/s]"
     ]
    },
    {
     "name": "stdout",
     "output_type": "stream",
     "text": [
      "https://books.toscrape.com/catalogue/drama_371/index.html\n"
     ]
    },
    {
     "name": "stderr",
     "output_type": "stream",
     "text": [
      " 63%|█████████████████████████████████████████████████▊                             | 630/1000 [09:48<05:40,  1.09it/s]"
     ]
    },
    {
     "name": "stdout",
     "output_type": "stream",
     "text": [
      "https://books.toscrape.com/catalogue/dracula-the-un-dead_370/index.html\n"
     ]
    },
    {
     "name": "stderr",
     "output_type": "stream",
     "text": [
      " 63%|█████████████████████████████████████████████████▊                             | 631/1000 [09:49<05:39,  1.09it/s]"
     ]
    },
    {
     "name": "stdout",
     "output_type": "stream",
     "text": [
      "https://books.toscrape.com/catalogue/digital-fortress_369/index.html\n"
     ]
    },
    {
     "name": "stderr",
     "output_type": "stream",
     "text": [
      " 63%|█████████████████████████████████████████████████▉                             | 632/1000 [09:49<05:38,  1.09it/s]"
     ]
    },
    {
     "name": "stdout",
     "output_type": "stream",
     "text": [
      "https://books.toscrape.com/catalogue/death-note-vol-5-whiteout-death-note-5_368/index.html\n"
     ]
    },
    {
     "name": "stderr",
     "output_type": "stream",
     "text": [
      " 63%|██████████████████████████████████████████████████                             | 633/1000 [09:50<05:27,  1.12it/s]"
     ]
    },
    {
     "name": "stdout",
     "output_type": "stream",
     "text": [
      "https://books.toscrape.com/catalogue/data-a-love-story-how-i-gamed-online-dating-to-meet-my-match_367/index.html\n"
     ]
    },
    {
     "name": "stderr",
     "output_type": "stream",
     "text": [
      " 63%|██████████████████████████████████████████████████                             | 634/1000 [09:51<05:28,  1.11it/s]"
     ]
    },
    {
     "name": "stdout",
     "output_type": "stream",
     "text": [
      "https://books.toscrape.com/catalogue/critique-of-pure-reason_366/index.html\n"
     ]
    },
    {
     "name": "stderr",
     "output_type": "stream",
     "text": [
      " 64%|██████████████████████████████████████████████████▏                            | 635/1000 [09:52<05:23,  1.13it/s]"
     ]
    },
    {
     "name": "stdout",
     "output_type": "stream",
     "text": [
      "https://books.toscrape.com/catalogue/booked_365/index.html\n"
     ]
    },
    {
     "name": "stderr",
     "output_type": "stream",
     "text": [
      " 64%|██████████████████████████████████████████████████▏                            | 636/1000 [09:53<05:19,  1.14it/s]"
     ]
    },
    {
     "name": "stdout",
     "output_type": "stream",
     "text": [
      "https://books.toscrape.com/catalogue/blue-lily-lily-blue-the-raven-cycle-3_364/index.html\n"
     ]
    },
    {
     "name": "stderr",
     "output_type": "stream",
     "text": [
      " 64%|██████████████████████████████████████████████████▎                            | 637/1000 [09:54<05:24,  1.12it/s]"
     ]
    },
    {
     "name": "stdout",
     "output_type": "stream",
     "text": [
      "https://books.toscrape.com/catalogue/approval-junkie-adventures-in-caring-too-much_363/index.html\n"
     ]
    },
    {
     "name": "stderr",
     "output_type": "stream",
     "text": [
      " 64%|██████████████████████████████████████████████████▍                            | 638/1000 [09:55<06:04,  1.01s/it]"
     ]
    },
    {
     "name": "stdout",
     "output_type": "stream",
     "text": [
      "https://books.toscrape.com/catalogue/an-abundance-of-katherines_362/index.html\n"
     ]
    },
    {
     "name": "stderr",
     "output_type": "stream",
     "text": [
      " 64%|██████████████████████████████████████████████████▍                            | 639/1000 [09:56<05:38,  1.07it/s]"
     ]
    },
    {
     "name": "stdout",
     "output_type": "stream",
     "text": [
      "https://books.toscrape.com/catalogue/americas-war-for-the-greater-middle-east-a-military-history_361/index.html\n"
     ]
    },
    {
     "name": "stderr",
     "output_type": "stream",
     "text": [
      " 64%|██████████████████████████████████████████████████▌                            | 640/1000 [09:57<05:56,  1.01it/s]"
     ]
    },
    {
     "name": "stdout",
     "output_type": "stream",
     "text": [
      "https://books.toscrape.com/catalogue/alight-the-generations-trilogy-2_360/index.html\n"
     ]
    },
    {
     "name": "stderr",
     "output_type": "stream",
     "text": [
      " 64%|██████████████████████████████████████████████████▋                            | 641/1000 [09:58<05:41,  1.05it/s]"
     ]
    },
    {
     "name": "stdout",
     "output_type": "stream",
     "text": [
      "https://books.toscrape.com/catalogue/a-girls-guide-to-moving-on-new-beginnings-2_359/index.html\n"
     ]
    },
    {
     "name": "stderr",
     "output_type": "stream",
     "text": [
      " 64%|██████████████████████████████████████████████████▋                            | 642/1000 [09:59<05:36,  1.06it/s]"
     ]
    },
    {
     "name": "stdout",
     "output_type": "stream",
     "text": [
      "https://books.toscrape.com/catalogue/a-game-of-thrones-a-song-of-ice-and-fire-1_358/index.html\n"
     ]
    },
    {
     "name": "stderr",
     "output_type": "stream",
     "text": [
      " 64%|██████████████████████████████████████████████████▊                            | 643/1000 [10:00<05:34,  1.07it/s]"
     ]
    },
    {
     "name": "stdout",
     "output_type": "stream",
     "text": [
      "https://books.toscrape.com/catalogue/a-feast-for-crows-a-song-of-ice-and-fire-4_357/index.html\n"
     ]
    },
    {
     "name": "stderr",
     "output_type": "stream",
     "text": [
      " 64%|██████████████████████████████████████████████████▉                            | 644/1000 [10:01<05:20,  1.11it/s]"
     ]
    },
    {
     "name": "stdout",
     "output_type": "stream",
     "text": [
      "https://books.toscrape.com/catalogue/a-clash-of-kings-a-song-of-ice-and-fire-2_356/index.html\n"
     ]
    },
    {
     "name": "stderr",
     "output_type": "stream",
     "text": [
      " 64%|██████████████████████████████████████████████████▉                            | 645/1000 [10:02<05:36,  1.06it/s]"
     ]
    },
    {
     "name": "stdout",
     "output_type": "stream",
     "text": [
      "https://books.toscrape.com/catalogue/vogue-colors-a-to-z-a-fashion-coloring-book_355/index.html\n"
     ]
    },
    {
     "name": "stderr",
     "output_type": "stream",
     "text": [
      " 65%|███████████████████████████████████████████████████                            | 646/1000 [10:02<05:21,  1.10it/s]"
     ]
    },
    {
     "name": "stdout",
     "output_type": "stream",
     "text": [
      "https://books.toscrape.com/catalogue/the-shining-the-shining-1_354/index.html\n"
     ]
    },
    {
     "name": "stderr",
     "output_type": "stream",
     "text": [
      " 65%|███████████████████████████████████████████████████                            | 647/1000 [10:03<05:13,  1.13it/s]"
     ]
    },
    {
     "name": "stdout",
     "output_type": "stream",
     "text": [
      "https://books.toscrape.com/catalogue/the-pilgrims-progress_353/index.html\n"
     ]
    },
    {
     "name": "stderr",
     "output_type": "stream",
     "text": [
      " 65%|███████████████████████████████████████████████████▏                           | 648/1000 [10:04<05:06,  1.15it/s]"
     ]
    },
    {
     "name": "stdout",
     "output_type": "stream",
     "text": [
      "https://books.toscrape.com/catalogue/the-perfect-play-play-by-play-1_352/index.html\n"
     ]
    },
    {
     "name": "stderr",
     "output_type": "stream",
     "text": [
      " 65%|███████████████████████████████████████████████████▎                           | 649/1000 [10:05<05:07,  1.14it/s]"
     ]
    },
    {
     "name": "stdout",
     "output_type": "stream",
     "text": [
      "https://books.toscrape.com/catalogue/the-passion-of-dolssa_351/index.html\n"
     ]
    },
    {
     "name": "stderr",
     "output_type": "stream",
     "text": [
      " 65%|███████████████████████████████████████████████████▎                           | 650/1000 [10:06<05:02,  1.16it/s]"
     ]
    },
    {
     "name": "stdout",
     "output_type": "stream",
     "text": [
      "https://books.toscrape.com/catalogue/the-jazz-of-physics-the-secret-link-between-music-and-the-structure-of-the-universe_350/index.html\n"
     ]
    },
    {
     "name": "stderr",
     "output_type": "stream",
     "text": [
      " 65%|███████████████████████████████████████████████████▍                           | 651/1000 [10:07<05:25,  1.07it/s]"
     ]
    },
    {
     "name": "stdout",
     "output_type": "stream",
     "text": [
      "https://books.toscrape.com/catalogue/the-hunger-games-the-hunger-games-1_349/index.html\n"
     ]
    },
    {
     "name": "stderr",
     "output_type": "stream",
     "text": [
      " 65%|███████████████████████████████████████████████████▌                           | 652/1000 [10:08<05:11,  1.12it/s]"
     ]
    },
    {
     "name": "stdout",
     "output_type": "stream",
     "text": [
      "https://books.toscrape.com/catalogue/the-hound-of-the-baskervilles-sherlock-holmes-5_348/index.html\n"
     ]
    },
    {
     "name": "stderr",
     "output_type": "stream",
     "text": [
      " 65%|███████████████████████████████████████████████████▌                           | 653/1000 [10:09<05:12,  1.11it/s]"
     ]
    },
    {
     "name": "stdout",
     "output_type": "stream",
     "text": [
      "https://books.toscrape.com/catalogue/the-gunning-of-america-business-and-the-making-of-american-gun-culture_347/index.html\n"
     ]
    },
    {
     "name": "stderr",
     "output_type": "stream",
     "text": [
      " 65%|███████████████████████████████████████████████████▋                           | 654/1000 [10:09<05:03,  1.14it/s]"
     ]
    },
    {
     "name": "stdout",
     "output_type": "stream",
     "text": [
      "https://books.toscrape.com/catalogue/the-geography-of-bliss-one-grumps-search-for-the-happiest-places-in-the-world_346/index.html\n"
     ]
    },
    {
     "name": "stderr",
     "output_type": "stream",
     "text": [
      " 66%|███████████████████████████████████████████████████▋                           | 655/1000 [10:11<05:26,  1.06it/s]"
     ]
    },
    {
     "name": "stdout",
     "output_type": "stream",
     "text": [
      "https://books.toscrape.com/catalogue/the-demonists-demonist-1_345/index.html\n"
     ]
    },
    {
     "name": "stderr",
     "output_type": "stream",
     "text": [
      " 66%|███████████████████████████████████████████████████▊                           | 656/1000 [10:11<05:12,  1.10it/s]"
     ]
    },
    {
     "name": "stdout",
     "output_type": "stream",
     "text": [
      "https://books.toscrape.com/catalogue/the-demon-prince-of-momochi-house-vol-4-the-demon-prince-of-momochi-house-4_344/index.html\n"
     ]
    },
    {
     "name": "stderr",
     "output_type": "stream",
     "text": [
      " 66%|███████████████████████████████████████████████████▉                           | 657/1000 [10:12<05:00,  1.14it/s]"
     ]
    },
    {
     "name": "stdout",
     "output_type": "stream",
     "text": [
      "https://books.toscrape.com/catalogue/the-bone-hunters-lexy-vaughan-steven-macaulay-2_343/index.html\n"
     ]
    },
    {
     "name": "stderr",
     "output_type": "stream",
     "text": [
      " 66%|███████████████████████████████████████████████████▉                           | 658/1000 [10:13<04:50,  1.18it/s]"
     ]
    },
    {
     "name": "stdout",
     "output_type": "stream",
     "text": [
      "https://books.toscrape.com/catalogue/the-beast-black-dagger-brotherhood-14_342/index.html\n"
     ]
    },
    {
     "name": "stderr",
     "output_type": "stream",
     "text": [
      " 66%|████████████████████████████████████████████████████                           | 659/1000 [10:14<04:46,  1.19it/s]"
     ]
    },
    {
     "name": "stdout",
     "output_type": "stream",
     "text": [
      "https://books.toscrape.com/catalogue/some-women_341/index.html\n"
     ]
    },
    {
     "name": "stderr",
     "output_type": "stream",
     "text": [
      " 66%|████████████████████████████████████████████████████▏                          | 660/1000 [10:15<04:41,  1.21it/s]"
     ]
    },
    {
     "name": "stdout",
     "output_type": "stream",
     "text": [
      "https://books.toscrape.com/catalogue/shopaholic-ties-the-knot-shopaholic-3_340/index.html\n"
     ]
    },
    {
     "name": "stderr",
     "output_type": "stream",
     "text": [
      " 66%|████████████████████████████████████████████████████▏                          | 661/1000 [10:15<04:43,  1.20it/s]"
     ]
    },
    {
     "name": "stdout",
     "output_type": "stream",
     "text": [
      "https://books.toscrape.com/catalogue/paper-and-fire-the-great-library-2_339/index.html\n"
     ]
    },
    {
     "name": "stderr",
     "output_type": "stream",
     "text": [
      " 66%|████████████████████████████████████████████████████▎                          | 662/1000 [10:16<04:46,  1.18it/s]"
     ]
    },
    {
     "name": "stdout",
     "output_type": "stream",
     "text": [
      "https://books.toscrape.com/catalogue/outlander-outlander-1_338/index.html\n"
     ]
    },
    {
     "name": "stderr",
     "output_type": "stream",
     "text": [
      " 66%|████████████████████████████████████████████████████▍                          | 663/1000 [10:17<04:54,  1.14it/s]"
     ]
    },
    {
     "name": "stdout",
     "output_type": "stream",
     "text": [
      "https://books.toscrape.com/catalogue/orchestra-of-exiles-the-story-of-bronislaw-huberman-the-israel-philharmonic-and-the-one-thousand-jews-he-saved-from-nazi-horrors_337/index.html\n"
     ]
    },
    {
     "name": "stderr",
     "output_type": "stream",
     "text": [
      " 66%|████████████████████████████████████████████████████▍                          | 664/1000 [10:18<05:17,  1.06it/s]"
     ]
    },
    {
     "name": "stdout",
     "output_type": "stream",
     "text": [
      "https://books.toscrape.com/catalogue/no-one-here-gets-out-alive_336/index.html\n"
     ]
    },
    {
     "name": "stderr",
     "output_type": "stream",
     "text": [
      " 66%|████████████████████████████████████████████████████▌                          | 665/1000 [10:19<05:14,  1.07it/s]"
     ]
    },
    {
     "name": "stdout",
     "output_type": "stream",
     "text": [
      "https://books.toscrape.com/catalogue/night-shift-night-shift-1-20_335/index.html\n"
     ]
    },
    {
     "name": "stderr",
     "output_type": "stream",
     "text": [
      " 67%|████████████████████████████████████████████████████▌                          | 666/1000 [10:20<05:12,  1.07it/s]"
     ]
    },
    {
     "name": "stdout",
     "output_type": "stream",
     "text": [
      "https://books.toscrape.com/catalogue/needful-things_334/index.html\n"
     ]
    },
    {
     "name": "stderr",
     "output_type": "stream",
     "text": [
      " 67%|████████████████████████████████████████████████████▋                          | 667/1000 [10:21<05:06,  1.08it/s]"
     ]
    },
    {
     "name": "stdout",
     "output_type": "stream",
     "text": [
      "https://books.toscrape.com/catalogue/mockingjay-the-hunger-games-3_333/index.html\n"
     ]
    },
    {
     "name": "stderr",
     "output_type": "stream",
     "text": [
      " 67%|████████████████████████████████████████████████████▊                          | 668/1000 [10:22<05:10,  1.07it/s]"
     ]
    },
    {
     "name": "stdout",
     "output_type": "stream",
     "text": [
      "https://books.toscrape.com/catalogue/misery_332/index.html\n"
     ]
    },
    {
     "name": "stderr",
     "output_type": "stream",
     "text": [
      " 67%|████████████████████████████████████████████████████▊                          | 669/1000 [10:23<05:08,  1.07it/s]"
     ]
    },
    {
     "name": "stdout",
     "output_type": "stream",
     "text": [
      "https://books.toscrape.com/catalogue/little-women-little-women-1_331/index.html\n"
     ]
    },
    {
     "name": "stderr",
     "output_type": "stream",
     "text": [
      " 67%|████████████████████████████████████████████████████▉                          | 670/1000 [10:24<05:07,  1.07it/s]"
     ]
    },
    {
     "name": "stdout",
     "output_type": "stream",
     "text": [
      "https://books.toscrape.com/catalogue/it_330/index.html\n"
     ]
    },
    {
     "name": "stderr",
     "output_type": "stream",
     "text": [
      " 67%|█████████████████████████████████████████████████████                          | 671/1000 [10:25<04:59,  1.10it/s]"
     ]
    },
    {
     "name": "stdout",
     "output_type": "stream",
     "text": [
      "https://books.toscrape.com/catalogue/harry-potter-and-the-sorcerers-stone-harry-potter-1_329/index.html\n"
     ]
    },
    {
     "name": "stderr",
     "output_type": "stream",
     "text": [
      " 67%|█████████████████████████████████████████████████████                          | 672/1000 [10:26<04:49,  1.13it/s]"
     ]
    },
    {
     "name": "stdout",
     "output_type": "stream",
     "text": [
      "https://books.toscrape.com/catalogue/harry-potter-and-the-prisoner-of-azkaban-harry-potter-3_328/index.html\n"
     ]
    },
    {
     "name": "stderr",
     "output_type": "stream",
     "text": [
      " 67%|█████████████████████████████████████████████████████▏                         | 673/1000 [10:26<04:41,  1.16it/s]"
     ]
    },
    {
     "name": "stdout",
     "output_type": "stream",
     "text": [
      "https://books.toscrape.com/catalogue/harry-potter-and-the-order-of-the-phoenix-harry-potter-5_327/index.html\n"
     ]
    },
    {
     "name": "stderr",
     "output_type": "stream",
     "text": [
      " 67%|█████████████████████████████████████████████████████▏                         | 674/1000 [10:27<04:42,  1.15it/s]"
     ]
    },
    {
     "name": "stdout",
     "output_type": "stream",
     "text": [
      "https://books.toscrape.com/catalogue/harry-potter-and-the-half-blood-prince-harry-potter-6_326/index.html\n"
     ]
    },
    {
     "name": "stderr",
     "output_type": "stream",
     "text": [
      " 68%|█████████████████████████████████████████████████████▎                         | 675/1000 [10:28<04:43,  1.15it/s]"
     ]
    },
    {
     "name": "stdout",
     "output_type": "stream",
     "text": [
      "https://books.toscrape.com/catalogue/harry-potter-and-the-chamber-of-secrets-harry-potter-2_325/index.html\n"
     ]
    },
    {
     "name": "stderr",
     "output_type": "stream",
     "text": [
      " 68%|█████████████████████████████████████████████████████▍                         | 676/1000 [10:29<04:39,  1.16it/s]"
     ]
    },
    {
     "name": "stdout",
     "output_type": "stream",
     "text": [
      "https://books.toscrape.com/catalogue/gone-with-the-wind_324/index.html\n"
     ]
    },
    {
     "name": "stderr",
     "output_type": "stream",
     "text": [
      " 68%|█████████████████████████████████████████████████████▍                         | 677/1000 [10:30<04:39,  1.16it/s]"
     ]
    },
    {
     "name": "stdout",
     "output_type": "stream",
     "text": [
      "https://books.toscrape.com/catalogue/god-is-not-great-how-religion-poisons-everything_323/index.html\n"
     ]
    },
    {
     "name": "stderr",
     "output_type": "stream",
     "text": [
      " 68%|█████████████████████████████████████████████████████▌                         | 678/1000 [10:31<05:08,  1.04it/s]"
     ]
    },
    {
     "name": "stdout",
     "output_type": "stream",
     "text": [
      "https://books.toscrape.com/catalogue/girl-with-a-pearl-earring_322/index.html\n"
     ]
    },
    {
     "name": "stderr",
     "output_type": "stream",
     "text": [
      " 68%|█████████████████████████████████████████████████████▋                         | 679/1000 [10:33<06:03,  1.13s/it]"
     ]
    },
    {
     "name": "stdout",
     "output_type": "stream",
     "text": [
      "https://books.toscrape.com/catalogue/fruits-basket-vol-4-fruits-basket-4_321/index.html\n"
     ]
    },
    {
     "name": "stderr",
     "output_type": "stream",
     "text": [
      " 68%|█████████████████████████████████████████████████████▋                         | 680/1000 [10:33<05:37,  1.06s/it]"
     ]
    },
    {
     "name": "stdout",
     "output_type": "stream",
     "text": [
      "https://books.toscrape.com/catalogue/far-from-true-promise-falls-trilogy-2_320/index.html\n"
     ]
    },
    {
     "name": "stderr",
     "output_type": "stream",
     "text": [
      " 68%|█████████████████████████████████████████████████████▊                         | 681/1000 [10:34<05:11,  1.02it/s]"
     ]
    },
    {
     "name": "stdout",
     "output_type": "stream",
     "text": [
      "https://books.toscrape.com/catalogue/dark-lover-black-dagger-brotherhood-1_319/index.html\n"
     ]
    },
    {
     "name": "stderr",
     "output_type": "stream",
     "text": [
      " 68%|█████████████████████████████████████████████████████▉                         | 682/1000 [10:35<04:55,  1.08it/s]"
     ]
    },
    {
     "name": "stdout",
     "output_type": "stream",
     "text": [
      "https://books.toscrape.com/catalogue/confessions-of-a-shopaholic-shopaholic-1_318/index.html\n"
     ]
    },
    {
     "name": "stderr",
     "output_type": "stream",
     "text": [
      " 68%|█████████████████████████████████████████████████████▉                         | 683/1000 [10:36<05:09,  1.02it/s]"
     ]
    },
    {
     "name": "stdout",
     "output_type": "stream",
     "text": [
      "https://books.toscrape.com/catalogue/changing-the-game-play-by-play-2_317/index.html\n"
     ]
    },
    {
     "name": "stderr",
     "output_type": "stream",
     "text": [
      " 68%|██████████████████████████████████████████████████████                         | 684/1000 [10:37<04:54,  1.07it/s]"
     ]
    },
    {
     "name": "stdout",
     "output_type": "stream",
     "text": [
      "https://books.toscrape.com/catalogue/candide_316/index.html\n"
     ]
    },
    {
     "name": "stderr",
     "output_type": "stream",
     "text": [
      " 68%|██████████████████████████████████████████████████████                         | 685/1000 [10:38<04:46,  1.10it/s]"
     ]
    },
    {
     "name": "stdout",
     "output_type": "stream",
     "text": [
      "https://books.toscrape.com/catalogue/can-you-keep-a-secret_315/index.html\n"
     ]
    },
    {
     "name": "stderr",
     "output_type": "stream",
     "text": [
      " 69%|██████████████████████████████████████████████████████▏                        | 686/1000 [10:39<04:34,  1.14it/s]"
     ]
    },
    {
     "name": "stdout",
     "output_type": "stream",
     "text": [
      "https://books.toscrape.com/catalogue/atlas-shrugged_314/index.html\n"
     ]
    },
    {
     "name": "stderr",
     "output_type": "stream",
     "text": [
      " 69%|██████████████████████████████████████████████████████▎                        | 687/1000 [10:39<04:28,  1.17it/s]"
     ]
    },
    {
     "name": "stdout",
     "output_type": "stream",
     "text": [
      "https://books.toscrape.com/catalogue/animal-farm_313/index.html\n"
     ]
    },
    {
     "name": "stderr",
     "output_type": "stream",
     "text": [
      " 69%|██████████████████████████████████████████████████████▎                        | 688/1000 [10:40<04:20,  1.20it/s]"
     ]
    },
    {
     "name": "stdout",
     "output_type": "stream",
     "text": [
      "https://books.toscrape.com/catalogue/a-walk-to-remember_312/index.html\n"
     ]
    },
    {
     "name": "stderr",
     "output_type": "stream",
     "text": [
      " 69%|██████████████████████████████████████████████████████▍                        | 689/1000 [10:41<04:14,  1.22it/s]"
     ]
    },
    {
     "name": "stdout",
     "output_type": "stream",
     "text": [
      "https://books.toscrape.com/catalogue/a-new-earth-awakening-to-your-lifes-purpose_311/index.html\n"
     ]
    },
    {
     "name": "stderr",
     "output_type": "stream",
     "text": [
      " 69%|██████████████████████████████████████████████████████▌                        | 690/1000 [10:42<04:17,  1.21it/s]"
     ]
    },
    {
     "name": "stdout",
     "output_type": "stream",
     "text": [
      "https://books.toscrape.com/catalogue/a-history-of-god-the-4000-year-quest-of-judaism-christianity-and-islam_310/index.html\n"
     ]
    },
    {
     "name": "stderr",
     "output_type": "stream",
     "text": [
      " 69%|██████████████████████████████████████████████████████▌                        | 691/1000 [10:43<04:18,  1.19it/s]"
     ]
    },
    {
     "name": "stdout",
     "output_type": "stream",
     "text": [
      "https://books.toscrape.com/catalogue/salems-lot_309/index.html\n"
     ]
    },
    {
     "name": "stderr",
     "output_type": "stream",
     "text": [
      " 69%|██████████████████████████████████████████████████████▋                        | 692/1000 [10:44<04:22,  1.17it/s]"
     ]
    },
    {
     "name": "stdout",
     "output_type": "stream",
     "text": [
      "https://books.toscrape.com/catalogue/zero-history-blue-ant-3_308/index.html\n"
     ]
    },
    {
     "name": "stderr",
     "output_type": "stream",
     "text": [
      " 69%|██████████████████████████████████████████████████████▋                        | 693/1000 [10:44<04:19,  1.18it/s]"
     ]
    },
    {
     "name": "stdout",
     "output_type": "stream",
     "text": [
      "https://books.toscrape.com/catalogue/wuthering-heights_307/index.html\n"
     ]
    },
    {
     "name": "stderr",
     "output_type": "stream",
     "text": [
      " 69%|██████████████████████████████████████████████████████▊                        | 694/1000 [10:45<04:15,  1.20it/s]"
     ]
    },
    {
     "name": "stdout",
     "output_type": "stream",
     "text": [
      "https://books.toscrape.com/catalogue/world-war-z-an-oral-history-of-the-zombie-war_306/index.html\n"
     ]
    },
    {
     "name": "stderr",
     "output_type": "stream",
     "text": [
      " 70%|██████████████████████████████████████████████████████▉                        | 695/1000 [10:46<04:15,  1.20it/s]"
     ]
    },
    {
     "name": "stdout",
     "output_type": "stream",
     "text": [
      "https://books.toscrape.com/catalogue/wild-from-lost-to-found-on-the-pacific-crest-trail_305/index.html\n"
     ]
    },
    {
     "name": "stderr",
     "output_type": "stream",
     "text": [
      " 70%|██████████████████████████████████████████████████████▉                        | 696/1000 [10:47<04:21,  1.16it/s]"
     ]
    },
    {
     "name": "stdout",
     "output_type": "stream",
     "text": [
      "https://books.toscrape.com/catalogue/whered-you-go-bernadette_304/index.html\n"
     ]
    },
    {
     "name": "stderr",
     "output_type": "stream",
     "text": [
      " 70%|███████████████████████████████████████████████████████                        | 697/1000 [10:48<04:26,  1.14it/s]"
     ]
    },
    {
     "name": "stdout",
     "output_type": "stream",
     "text": [
      "https://books.toscrape.com/catalogue/when-you-are-engulfed-in-flames_303/index.html\n"
     ]
    },
    {
     "name": "stderr",
     "output_type": "stream",
     "text": [
      " 70%|███████████████████████████████████████████████████████▏                       | 698/1000 [10:49<04:22,  1.15it/s]"
     ]
    },
    {
     "name": "stdout",
     "output_type": "stream",
     "text": [
      "https://books.toscrape.com/catalogue/we-the-people-the-modern-day-figures-who-have-reshaped-and-affirmed-the-founding-fathers-vision-of-america_302/index.html\n"
     ]
    },
    {
     "name": "stderr",
     "output_type": "stream",
     "text": [
      " 70%|███████████████████████████████████████████████████████▏                       | 699/1000 [10:50<04:22,  1.15it/s]"
     ]
    },
    {
     "name": "stdout",
     "output_type": "stream",
     "text": [
      "https://books.toscrape.com/catalogue/we-are-all-completely-beside-ourselves_301/index.html\n"
     ]
    },
    {
     "name": "stderr",
     "output_type": "stream",
     "text": [
      " 70%|███████████████████████████████████████████████████████▎                       | 700/1000 [10:50<04:16,  1.17it/s]"
     ]
    },
    {
     "name": "stdout",
     "output_type": "stream",
     "text": [
      "https://books.toscrape.com/catalogue/walk-the-edge-thunder-road-2_300/index.html\n"
     ]
    },
    {
     "name": "stderr",
     "output_type": "stream",
     "text": [
      " 70%|███████████████████████████████████████████████████████▍                       | 701/1000 [10:51<04:13,  1.18it/s]"
     ]
    },
    {
     "name": "stdout",
     "output_type": "stream",
     "text": [
      "https://books.toscrape.com/catalogue/voyager-outlander-3_299/index.html\n"
     ]
    },
    {
     "name": "stderr",
     "output_type": "stream",
     "text": [
      " 70%|███████████████████████████████████████████████████████▍                       | 702/1000 [10:52<04:16,  1.16it/s]"
     ]
    },
    {
     "name": "stdout",
     "output_type": "stream",
     "text": [
      "https://books.toscrape.com/catalogue/very-good-lives-the-fringe-benefits-of-failure-and-the-importance-of-imagination_298/index.html\n"
     ]
    },
    {
     "name": "stderr",
     "output_type": "stream",
     "text": [
      " 70%|███████████████████████████████████████████████████████▌                       | 703/1000 [10:54<05:55,  1.20s/it]"
     ]
    },
    {
     "name": "stdout",
     "output_type": "stream",
     "text": [
      "https://books.toscrape.com/catalogue/vegan-vegetarian-omnivore-dinner-for-everyone-at-the-table_297/index.html\n"
     ]
    },
    {
     "name": "stderr",
     "output_type": "stream",
     "text": [
      " 70%|███████████████████████████████████████████████████████▌                       | 704/1000 [10:55<05:40,  1.15s/it]"
     ]
    },
    {
     "name": "stdout",
     "output_type": "stream",
     "text": [
      "https://books.toscrape.com/catalogue/unstuffed-decluttering-your-home-mind-and-soul_296/index.html\n"
     ]
    },
    {
     "name": "stderr",
     "output_type": "stream",
     "text": [
      " 70%|███████████████████████████████████████████████████████▋                       | 705/1000 [10:56<05:20,  1.09s/it]"
     ]
    },
    {
     "name": "stdout",
     "output_type": "stream",
     "text": [
      "https://books.toscrape.com/catalogue/under-the-banner-of-heaven-a-story-of-violent-faith_295/index.html\n"
     ]
    },
    {
     "name": "stderr",
     "output_type": "stream",
     "text": [
      " 71%|███████████████████████████████████████████████████████▊                       | 706/1000 [10:57<05:01,  1.03s/it]"
     ]
    },
    {
     "name": "stdout",
     "output_type": "stream",
     "text": [
      "https://books.toscrape.com/catalogue/two-boys-kissing_294/index.html\n"
     ]
    },
    {
     "name": "stderr",
     "output_type": "stream",
     "text": [
      " 71%|███████████████████████████████████████████████████████▊                       | 707/1000 [10:58<04:54,  1.00s/it]"
     ]
    },
    {
     "name": "stdout",
     "output_type": "stream",
     "text": [
      "https://books.toscrape.com/catalogue/twilight-twilight-1_293/index.html\n"
     ]
    },
    {
     "name": "stderr",
     "output_type": "stream",
     "text": [
      " 71%|███████████████████████████████████████████████████████▉                       | 708/1000 [10:59<04:36,  1.06it/s]"
     ]
    },
    {
     "name": "stdout",
     "output_type": "stream",
     "text": [
      "https://books.toscrape.com/catalogue/twenties-girl_292/index.html\n"
     ]
    },
    {
     "name": "stderr",
     "output_type": "stream",
     "text": [
      " 71%|████████████████████████████████████████████████████████                       | 709/1000 [11:00<04:31,  1.07it/s]"
     ]
    },
    {
     "name": "stdout",
     "output_type": "stream",
     "text": [
      "https://books.toscrape.com/catalogue/trespassing-across-america-one-mans-epic-never-done-before-and-sort-of-illegal-hike-across-the-heartland_291/index.html\n"
     ]
    },
    {
     "name": "stderr",
     "output_type": "stream",
     "text": [
      " 71%|████████████████████████████████████████████████████████                       | 710/1000 [11:01<04:59,  1.03s/it]"
     ]
    },
    {
     "name": "stdout",
     "output_type": "stream",
     "text": [
      "https://books.toscrape.com/catalogue/three-martini-lunch_290/index.html\n"
     ]
    },
    {
     "name": "stderr",
     "output_type": "stream",
     "text": [
      " 71%|████████████████████████████████████████████████████████▏                      | 711/1000 [11:02<04:40,  1.03it/s]"
     ]
    },
    {
     "name": "stdout",
     "output_type": "stream",
     "text": [
      "https://books.toscrape.com/catalogue/thinking-fast-and-slow_289/index.html\n"
     ]
    },
    {
     "name": "stderr",
     "output_type": "stream",
     "text": [
      " 71%|████████████████████████████████████████████████████████▏                      | 712/1000 [11:03<04:23,  1.09it/s]"
     ]
    },
    {
     "name": "stdout",
     "output_type": "stream",
     "text": [
      "https://books.toscrape.com/catalogue/the-wild-robot_288/index.html\n"
     ]
    },
    {
     "name": "stderr",
     "output_type": "stream",
     "text": [
      " 71%|████████████████████████████████████████████████████████▎                      | 713/1000 [11:03<04:20,  1.10it/s]"
     ]
    },
    {
     "name": "stdout",
     "output_type": "stream",
     "text": [
      "https://books.toscrape.com/catalogue/the-wicked-the-divine-vol-3-commercial-suicide-the-wicked-the-divine_287/index.html\n"
     ]
    },
    {
     "name": "stderr",
     "output_type": "stream",
     "text": [
      " 71%|████████████████████████████████████████████████████████▍                      | 714/1000 [11:04<04:15,  1.12it/s]"
     ]
    },
    {
     "name": "stdout",
     "output_type": "stream",
     "text": [
      "https://books.toscrape.com/catalogue/the-undomestic-goddess_286/index.html\n"
     ]
    },
    {
     "name": "stderr",
     "output_type": "stream",
     "text": [
      " 72%|████████████████████████████████████████████████████████▍                      | 715/1000 [11:05<04:13,  1.12it/s]"
     ]
    },
    {
     "name": "stdout",
     "output_type": "stream",
     "text": [
      "https://books.toscrape.com/catalogue/the-travelers_285/index.html\n"
     ]
    },
    {
     "name": "stderr",
     "output_type": "stream",
     "text": [
      " 72%|████████████████████████████████████████████████████████▌                      | 716/1000 [11:06<04:08,  1.14it/s]"
     ]
    },
    {
     "name": "stdout",
     "output_type": "stream",
     "text": [
      "https://books.toscrape.com/catalogue/the-tipping-point-how-little-things-can-make-a-big-difference_284/index.html\n"
     ]
    },
    {
     "name": "stderr",
     "output_type": "stream",
     "text": [
      " 72%|████████████████████████████████████████████████████████▋                      | 717/1000 [11:07<04:05,  1.15it/s]"
     ]
    },
    {
     "name": "stdout",
     "output_type": "stream",
     "text": [
      "https://books.toscrape.com/catalogue/the-thing-about-jellyfish_283/index.html\n"
     ]
    },
    {
     "name": "stderr",
     "output_type": "stream",
     "text": [
      " 72%|████████████████████████████████████████████████████████▋                      | 718/1000 [11:08<04:04,  1.15it/s]"
     ]
    },
    {
     "name": "stdout",
     "output_type": "stream",
     "text": [
      "https://books.toscrape.com/catalogue/the-stand_282/index.html\n"
     ]
    },
    {
     "name": "stderr",
     "output_type": "stream",
     "text": [
      " 72%|████████████████████████████████████████████████████████▊                      | 719/1000 [11:09<04:03,  1.15it/s]"
     ]
    },
    {
     "name": "stdout",
     "output_type": "stream",
     "text": [
      "https://books.toscrape.com/catalogue/the-smitten-kitchen-cookbook_281/index.html\n"
     ]
    },
    {
     "name": "stderr",
     "output_type": "stream",
     "text": [
      " 72%|████████████████████████████████████████████████████████▉                      | 720/1000 [11:10<04:03,  1.15it/s]"
     ]
    },
    {
     "name": "stdout",
     "output_type": "stream",
     "text": [
      "https://books.toscrape.com/catalogue/the-silkworm-cormoran-strike-2_280/index.html\n"
     ]
    },
    {
     "name": "stderr",
     "output_type": "stream",
     "text": [
      " 72%|████████████████████████████████████████████████████████▉                      | 721/1000 [11:10<03:56,  1.18it/s]"
     ]
    },
    {
     "name": "stdout",
     "output_type": "stream",
     "text": [
      "https://books.toscrape.com/catalogue/the-sandman-vol-3-dream-country-the-sandman-volumes-3_279/index.html\n"
     ]
    },
    {
     "name": "stderr",
     "output_type": "stream",
     "text": [
      " 72%|█████████████████████████████████████████████████████████                      | 722/1000 [11:11<03:50,  1.21it/s]"
     ]
    },
    {
     "name": "stdout",
     "output_type": "stream",
     "text": [
      "https://books.toscrape.com/catalogue/the-rose-the-dagger-the-wrath-and-the-dawn-2_278/index.html\n"
     ]
    },
    {
     "name": "stderr",
     "output_type": "stream",
     "text": [
      " 72%|█████████████████████████████████████████████████████████                      | 723/1000 [11:12<03:47,  1.22it/s]"
     ]
    },
    {
     "name": "stdout",
     "output_type": "stream",
     "text": [
      "https://books.toscrape.com/catalogue/the-road-to-little-dribbling-adventures-of-an-american-in-britain-notes-from-a-small-island-2_277/index.html\n"
     ]
    },
    {
     "name": "stderr",
     "output_type": "stream",
     "text": [
      " 72%|█████████████████████████████████████████████████████████▏                     | 724/1000 [11:13<03:48,  1.21it/s]"
     ]
    },
    {
     "name": "stdout",
     "output_type": "stream",
     "text": [
      "https://books.toscrape.com/catalogue/the-rise-of-theodore-roosevelt-theodore-roosevelt-1_276/index.html\n"
     ]
    },
    {
     "name": "stderr",
     "output_type": "stream",
     "text": [
      " 72%|█████████████████████████████████████████████████████████▎                     | 725/1000 [11:14<03:48,  1.20it/s]"
     ]
    },
    {
     "name": "stdout",
     "output_type": "stream",
     "text": [
      "https://books.toscrape.com/catalogue/the-restaurant-at-the-end-of-the-universe-hitchhikers-guide-to-the-galaxy-2_275/index.html\n"
     ]
    },
    {
     "name": "stderr",
     "output_type": "stream",
     "text": [
      " 73%|█████████████████████████████████████████████████████████▎                     | 726/1000 [11:14<03:44,  1.22it/s]"
     ]
    },
    {
     "name": "stdout",
     "output_type": "stream",
     "text": [
      "https://books.toscrape.com/catalogue/the-rest-is-noise-listening-to-the-twentieth-century_274/index.html\n"
     ]
    },
    {
     "name": "stderr",
     "output_type": "stream",
     "text": [
      " 73%|█████████████████████████████████████████████████████████▍                     | 727/1000 [11:16<04:12,  1.08it/s]"
     ]
    },
    {
     "name": "stdout",
     "output_type": "stream",
     "text": [
      "https://books.toscrape.com/catalogue/the-red-tent_273/index.html\n"
     ]
    },
    {
     "name": "stderr",
     "output_type": "stream",
     "text": [
      " 73%|█████████████████████████████████████████████████████████▌                     | 728/1000 [11:16<04:13,  1.07it/s]"
     ]
    },
    {
     "name": "stdout",
     "output_type": "stream",
     "text": [
      "https://books.toscrape.com/catalogue/the-purpose-driven-life-what-on-earth-am-i-here-for_272/index.html\n"
     ]
    },
    {
     "name": "stderr",
     "output_type": "stream",
     "text": [
      " 73%|█████████████████████████████████████████████████████████▌                     | 729/1000 [11:17<04:01,  1.12it/s]"
     ]
    },
    {
     "name": "stdout",
     "output_type": "stream",
     "text": [
      "https://books.toscrape.com/catalogue/the-purest-hook-second-circle-tattoos-3_271/index.html\n"
     ]
    },
    {
     "name": "stderr",
     "output_type": "stream",
     "text": [
      " 73%|█████████████████████████████████████████████████████████▋                     | 730/1000 [11:18<04:06,  1.09it/s]"
     ]
    },
    {
     "name": "stdout",
     "output_type": "stream",
     "text": [
      "https://books.toscrape.com/catalogue/the-picture-of-dorian-gray_270/index.html\n"
     ]
    },
    {
     "name": "stderr",
     "output_type": "stream",
     "text": [
      " 73%|█████████████████████████████████████████████████████████▋                     | 731/1000 [11:19<04:06,  1.09it/s]"
     ]
    },
    {
     "name": "stdout",
     "output_type": "stream",
     "text": [
      "https://books.toscrape.com/catalogue/the-paris-wife_269/index.html\n"
     ]
    },
    {
     "name": "stderr",
     "output_type": "stream",
     "text": [
      " 73%|█████████████████████████████████████████████████████████▊                     | 732/1000 [11:20<04:00,  1.12it/s]"
     ]
    },
    {
     "name": "stdout",
     "output_type": "stream",
     "text": [
      "https://books.toscrape.com/catalogue/the-obsession_268/index.html\n"
     ]
    },
    {
     "name": "stderr",
     "output_type": "stream",
     "text": [
      " 73%|█████████████████████████████████████████████████████████▉                     | 733/1000 [11:21<04:14,  1.05it/s]"
     ]
    },
    {
     "name": "stdout",
     "output_type": "stream",
     "text": [
      "https://books.toscrape.com/catalogue/the-nightingale_267/index.html\n"
     ]
    },
    {
     "name": "stderr",
     "output_type": "stream",
     "text": [
      " 73%|█████████████████████████████████████████████████████████▉                     | 734/1000 [11:22<04:24,  1.01it/s]"
     ]
    },
    {
     "name": "stdout",
     "output_type": "stream",
     "text": [
      "https://books.toscrape.com/catalogue/the-new-guy-and-other-senior-year-distractions_266/index.html\n"
     ]
    },
    {
     "name": "stderr",
     "output_type": "stream",
     "text": [
      " 74%|██████████████████████████████████████████████████████████                     | 735/1000 [11:23<04:21,  1.01it/s]"
     ]
    },
    {
     "name": "stdout",
     "output_type": "stream",
     "text": [
      "https://books.toscrape.com/catalogue/the-nanny-diaries-nanny-1_265/index.html\n"
     ]
    },
    {
     "name": "stderr",
     "output_type": "stream",
     "text": [
      " 74%|██████████████████████████████████████████████████████████▏                    | 736/1000 [11:24<04:15,  1.03it/s]"
     ]
    },
    {
     "name": "stdout",
     "output_type": "stream",
     "text": [
      "https://books.toscrape.com/catalogue/the-name-of-god-is-mercy_264/index.html\n"
     ]
    },
    {
     "name": "stderr",
     "output_type": "stream",
     "text": [
      " 74%|██████████████████████████████████████████████████████████▏                    | 737/1000 [11:25<04:11,  1.05it/s]"
     ]
    },
    {
     "name": "stdout",
     "output_type": "stream",
     "text": [
      "https://books.toscrape.com/catalogue/the-maze-runner-the-maze-runner-1_263/index.html\n"
     ]
    },
    {
     "name": "stderr",
     "output_type": "stream",
     "text": [
      " 74%|██████████████████████████████████████████████████████████▎                    | 738/1000 [11:26<04:07,  1.06it/s]"
     ]
    },
    {
     "name": "stdout",
     "output_type": "stream",
     "text": [
      "https://books.toscrape.com/catalogue/the-lovers-dictionary_262/index.html\n"
     ]
    },
    {
     "name": "stderr",
     "output_type": "stream",
     "text": [
      " 74%|██████████████████████████████████████████████████████████▍                    | 739/1000 [11:27<04:01,  1.08it/s]"
     ]
    },
    {
     "name": "stdout",
     "output_type": "stream",
     "text": [
      "https://books.toscrape.com/catalogue/the-lonely-ones_261/index.html\n"
     ]
    },
    {
     "name": "stderr",
     "output_type": "stream",
     "text": [
      " 74%|██████████████████████████████████████████████████████████▍                    | 740/1000 [11:28<04:04,  1.07it/s]"
     ]
    },
    {
     "name": "stdout",
     "output_type": "stream",
     "text": [
      "https://books.toscrape.com/catalogue/the-lean-startup-how-todays-entrepreneurs-use-continuous-innovation-to-create-radically-successful-businesses_260/index.html\n"
     ]
    },
    {
     "name": "stderr",
     "output_type": "stream",
     "text": [
      " 74%|██████████████████████████████████████████████████████████▌                    | 741/1000 [11:29<04:21,  1.01s/it]"
     ]
    },
    {
     "name": "stdout",
     "output_type": "stream",
     "text": [
      "https://books.toscrape.com/catalogue/the-last-painting-of-sara-de-vos_259/index.html\n"
     ]
    },
    {
     "name": "stderr",
     "output_type": "stream",
     "text": [
      " 74%|██████████████████████████████████████████████████████████▌                    | 742/1000 [11:30<04:09,  1.04it/s]"
     ]
    },
    {
     "name": "stdout",
     "output_type": "stream",
     "text": [
      "https://books.toscrape.com/catalogue/the-land-of-10000-madonnas_258/index.html\n"
     ]
    },
    {
     "name": "stderr",
     "output_type": "stream",
     "text": [
      " 74%|██████████████████████████████████████████████████████████▋                    | 743/1000 [11:31<04:04,  1.05it/s]"
     ]
    },
    {
     "name": "stdout",
     "output_type": "stream",
     "text": [
      "https://books.toscrape.com/catalogue/the-infinities_257/index.html\n"
     ]
    },
    {
     "name": "stderr",
     "output_type": "stream",
     "text": [
      " 74%|██████████████████████████████████████████████████████████▊                    | 744/1000 [11:32<04:00,  1.06it/s]"
     ]
    },
    {
     "name": "stdout",
     "output_type": "stream",
     "text": [
      "https://books.toscrape.com/catalogue/the-husbands-secret_256/index.html\n"
     ]
    },
    {
     "name": "stderr",
     "output_type": "stream",
     "text": [
      " 74%|██████████████████████████████████████████████████████████▊                    | 745/1000 [11:32<03:51,  1.10it/s]"
     ]
    },
    {
     "name": "stdout",
     "output_type": "stream",
     "text": [
      "https://books.toscrape.com/catalogue/the-hitchhikers-guide-to-the-galaxy-hitchhikers-guide-to-the-galaxy-1_255/index.html\n"
     ]
    },
    {
     "name": "stderr",
     "output_type": "stream",
     "text": [
      " 75%|██████████████████████████████████████████████████████████▉                    | 746/1000 [11:33<03:46,  1.12it/s]"
     ]
    },
    {
     "name": "stdout",
     "output_type": "stream",
     "text": [
      "https://books.toscrape.com/catalogue/the-guns-of-august_254/index.html\n"
     ]
    },
    {
     "name": "stderr",
     "output_type": "stream",
     "text": [
      " 75%|███████████████████████████████████████████████████████████                    | 747/1000 [11:34<03:43,  1.13it/s]"
     ]
    },
    {
     "name": "stdout",
     "output_type": "stream",
     "text": [
      "https://books.toscrape.com/catalogue/the-guernsey-literary-and-potato-peel-pie-society_253/index.html\n"
     ]
    },
    {
     "name": "stderr",
     "output_type": "stream",
     "text": [
      " 75%|███████████████████████████████████████████████████████████                    | 748/1000 [11:35<04:08,  1.02it/s]"
     ]
    },
    {
     "name": "stdout",
     "output_type": "stream",
     "text": [
      "https://books.toscrape.com/catalogue/the-goldfinch_252/index.html\n"
     ]
    },
    {
     "name": "stderr",
     "output_type": "stream",
     "text": [
      " 75%|███████████████████████████████████████████████████████████▏                   | 749/1000 [11:36<04:04,  1.03it/s]"
     ]
    },
    {
     "name": "stdout",
     "output_type": "stream",
     "text": [
      "https://books.toscrape.com/catalogue/the-giver-the-giver-quartet-1_251/index.html\n"
     ]
    },
    {
     "name": "stderr",
     "output_type": "stream",
     "text": [
      " 75%|███████████████████████████████████████████████████████████▎                   | 750/1000 [11:37<03:54,  1.07it/s]"
     ]
    },
    {
     "name": "stdout",
     "output_type": "stream",
     "text": [
      "https://books.toscrape.com/catalogue/the-girl-with-all-the-gifts_250/index.html\n"
     ]
    },
    {
     "name": "stderr",
     "output_type": "stream",
     "text": [
      " 75%|███████████████████████████████████████████████████████████▎                   | 751/1000 [11:38<03:50,  1.08it/s]"
     ]
    },
    {
     "name": "stdout",
     "output_type": "stream",
     "text": [
      "https://books.toscrape.com/catalogue/the-girl-who-played-with-fire-millennium-trilogy-2_249/index.html\n"
     ]
    },
    {
     "name": "stderr",
     "output_type": "stream",
     "text": [
      " 75%|███████████████████████████████████████████████████████████▍                   | 752/1000 [11:39<03:48,  1.09it/s]"
     ]
    },
    {
     "name": "stdout",
     "output_type": "stream",
     "text": [
      "https://books.toscrape.com/catalogue/the-girl-who-kicked-the-hornets-nest-millennium-trilogy-3_248/index.html\n"
     ]
    },
    {
     "name": "stderr",
     "output_type": "stream",
     "text": [
      " 75%|███████████████████████████████████████████████████████████▍                   | 753/1000 [11:40<03:47,  1.08it/s]"
     ]
    },
    {
     "name": "stdout",
     "output_type": "stream",
     "text": [
      "https://books.toscrape.com/catalogue/the-exiled_247/index.html\n"
     ]
    },
    {
     "name": "stderr",
     "output_type": "stream",
     "text": [
      " 75%|███████████████████████████████████████████████████████████▌                   | 754/1000 [11:41<03:46,  1.09it/s]"
     ]
    },
    {
     "name": "stdout",
     "output_type": "stream",
     "text": [
      "https://books.toscrape.com/catalogue/the-end-of-faith-religion-terror-and-the-future-of-reason_246/index.html\n"
     ]
    },
    {
     "name": "stderr",
     "output_type": "stream",
     "text": [
      " 76%|███████████████████████████████████████████████████████████▋                   | 755/1000 [11:42<03:40,  1.11it/s]"
     ]
    },
    {
     "name": "stdout",
     "output_type": "stream",
     "text": [
      "https://books.toscrape.com/catalogue/the-elegant-universe-superstrings-hidden-dimensions-and-the-quest-for-the-ultimate-theory_245/index.html\n"
     ]
    },
    {
     "name": "stderr",
     "output_type": "stream",
     "text": [
      " 76%|███████████████████████████████████████████████████████████▋                   | 756/1000 [11:43<03:38,  1.12it/s]"
     ]
    },
    {
     "name": "stdout",
     "output_type": "stream",
     "text": [
      "https://books.toscrape.com/catalogue/the-disappearing-spoon-and-other-true-tales-of-madness-love-and-the-history-of-the-world-from-the-periodic-table-of-the-elements_244/index.html\n"
     ]
    },
    {
     "name": "stderr",
     "output_type": "stream",
     "text": [
      " 76%|███████████████████████████████████████████████████████████▊                   | 757/1000 [11:44<03:40,  1.10it/s]"
     ]
    },
    {
     "name": "stdout",
     "output_type": "stream",
     "text": [
      "https://books.toscrape.com/catalogue/the-devil-wears-prada-the-devil-wears-prada-1_243/index.html\n"
     ]
    },
    {
     "name": "stderr",
     "output_type": "stream",
     "text": [
      " 76%|███████████████████████████████████████████████████████████▉                   | 758/1000 [11:44<03:37,  1.11it/s]"
     ]
    },
    {
     "name": "stdout",
     "output_type": "stream",
     "text": [
      "https://books.toscrape.com/catalogue/the-demon-haunted-world-science-as-a-candle-in-the-dark_242/index.html\n"
     ]
    },
    {
     "name": "stderr",
     "output_type": "stream",
     "text": [
      " 76%|███████████████████████████████████████████████████████████▉                   | 759/1000 [11:45<03:40,  1.09it/s]"
     ]
    },
    {
     "name": "stdout",
     "output_type": "stream",
     "text": [
      "https://books.toscrape.com/catalogue/the-day-the-crayons-came-home-crayons_241/index.html\n"
     ]
    },
    {
     "name": "stderr",
     "output_type": "stream",
     "text": [
      " 76%|████████████████████████████████████████████████████████████                   | 760/1000 [11:46<03:40,  1.09it/s]"
     ]
    },
    {
     "name": "stdout",
     "output_type": "stream",
     "text": [
      "https://books.toscrape.com/catalogue/the-da-vinci-code-robert-langdon-2_240/index.html\n"
     ]
    },
    {
     "name": "stderr",
     "output_type": "stream",
     "text": [
      " 76%|████████████████████████████████████████████████████████████                   | 761/1000 [11:47<03:39,  1.09it/s]"
     ]
    },
    {
     "name": "stdout",
     "output_type": "stream",
     "text": [
      "https://books.toscrape.com/catalogue/the-cuckoos-calling-cormoran-strike-1_239/index.html\n"
     ]
    },
    {
     "name": "stderr",
     "output_type": "stream",
     "text": [
      " 76%|████████████████████████████████████████████████████████████▏                  | 762/1000 [11:48<03:39,  1.08it/s]"
     ]
    },
    {
     "name": "stdout",
     "output_type": "stream",
     "text": [
      "https://books.toscrape.com/catalogue/the-complete-stories-and-poems-the-works-of-edgar-allan-poe-cameo-edition_238/index.html\n"
     ]
    },
    {
     "name": "stderr",
     "output_type": "stream",
     "text": [
      " 76%|████████████████████████████████████████████████████████████▎                  | 763/1000 [11:49<03:35,  1.10it/s]"
     ]
    },
    {
     "name": "stdout",
     "output_type": "stream",
     "text": [
      "https://books.toscrape.com/catalogue/the-complete-poems_237/index.html\n"
     ]
    },
    {
     "name": "stderr",
     "output_type": "stream",
     "text": [
      " 76%|████████████████████████████████████████████████████████████▎                  | 764/1000 [11:50<03:38,  1.08it/s]"
     ]
    },
    {
     "name": "stdout",
     "output_type": "stream",
     "text": [
      "https://books.toscrape.com/catalogue/the-catcher-in-the-rye_236/index.html\n"
     ]
    },
    {
     "name": "stderr",
     "output_type": "stream",
     "text": [
      " 76%|████████████████████████████████████████████████████████████▍                  | 765/1000 [11:51<03:35,  1.09it/s]"
     ]
    },
    {
     "name": "stdout",
     "output_type": "stream",
     "text": [
      "https://books.toscrape.com/catalogue/the-cat-in-the-hat-beginner-books-b-1_235/index.html\n"
     ]
    },
    {
     "name": "stderr",
     "output_type": "stream",
     "text": [
      " 77%|████████████████████████████████████████████████████████████▌                  | 766/1000 [11:52<03:38,  1.07it/s]"
     ]
    },
    {
     "name": "stdout",
     "output_type": "stream",
     "text": [
      "https://books.toscrape.com/catalogue/the-case-for-christ-cases-for-christianity_234/index.html\n"
     ]
    },
    {
     "name": "stderr",
     "output_type": "stream",
     "text": [
      " 77%|████████████████████████████████████████████████████████████▌                  | 767/1000 [11:53<03:32,  1.10it/s]"
     ]
    },
    {
     "name": "stdout",
     "output_type": "stream",
     "text": [
      "https://books.toscrape.com/catalogue/the-book-thief_233/index.html\n"
     ]
    },
    {
     "name": "stderr",
     "output_type": "stream",
     "text": [
      " 77%|████████████████████████████████████████████████████████████▋                  | 768/1000 [11:54<03:23,  1.14it/s]"
     ]
    },
    {
     "name": "stdout",
     "output_type": "stream",
     "text": [
      "https://books.toscrape.com/catalogue/the-book-of-basketball-the-nba-according-to-the-sports-guy_232/index.html\n"
     ]
    },
    {
     "name": "stderr",
     "output_type": "stream",
     "text": [
      " 77%|████████████████████████████████████████████████████████████▊                  | 769/1000 [11:54<03:26,  1.12it/s]"
     ]
    },
    {
     "name": "stdout",
     "output_type": "stream",
     "text": [
      "https://books.toscrape.com/catalogue/the-blind-side-evolution-of-a-game_231/index.html\n"
     ]
    },
    {
     "name": "stderr",
     "output_type": "stream",
     "text": [
      " 77%|████████████████████████████████████████████████████████████▊                  | 770/1000 [11:55<03:20,  1.15it/s]"
     ]
    },
    {
     "name": "stdout",
     "output_type": "stream",
     "text": [
      "https://books.toscrape.com/catalogue/the-autobiography-of-malcolm-x_230/index.html\n"
     ]
    },
    {
     "name": "stderr",
     "output_type": "stream",
     "text": [
      " 77%|████████████████████████████████████████████████████████████▉                  | 771/1000 [11:56<03:19,  1.15it/s]"
     ]
    },
    {
     "name": "stdout",
     "output_type": "stream",
     "text": [
      "https://books.toscrape.com/catalogue/the-art-of-simple-food-notes-lessons-and-recipes-from-a-delicious-revolution_229/index.html\n"
     ]
    },
    {
     "name": "stderr",
     "output_type": "stream",
     "text": [
      " 77%|████████████████████████████████████████████████████████████▉                  | 772/1000 [11:57<03:22,  1.13it/s]"
     ]
    },
    {
     "name": "stdout",
     "output_type": "stream",
     "text": [
      "https://books.toscrape.com/catalogue/the-art-of-fielding_228/index.html\n"
     ]
    },
    {
     "name": "stderr",
     "output_type": "stream",
     "text": [
      " 77%|█████████████████████████████████████████████████████████████                  | 773/1000 [11:58<03:15,  1.16it/s]"
     ]
    },
    {
     "name": "stdout",
     "output_type": "stream",
     "text": [
      "https://books.toscrape.com/catalogue/surely-youre-joking-mr-feynman-adventures-of-a-curious-character_227/index.html\n"
     ]
    },
    {
     "name": "stderr",
     "output_type": "stream",
     "text": [
      " 77%|█████████████████████████████████████████████████████████████▏                 | 774/1000 [11:59<03:09,  1.19it/s]"
     ]
    },
    {
     "name": "stdout",
     "output_type": "stream",
     "text": [
      "https://books.toscrape.com/catalogue/stiff-the-curious-lives-of-human-cadavers_226/index.html\n"
     ]
    },
    {
     "name": "stderr",
     "output_type": "stream",
     "text": [
      " 78%|█████████████████████████████████████████████████████████████▏                 | 775/1000 [12:00<03:20,  1.12it/s]"
     ]
    },
    {
     "name": "stdout",
     "output_type": "stream",
     "text": [
      "https://books.toscrape.com/catalogue/spilled-milk-based-on-a-true-story_225/index.html\n"
     ]
    },
    {
     "name": "stderr",
     "output_type": "stream",
     "text": [
      " 78%|█████████████████████████████████████████████████████████████▎                 | 776/1000 [12:01<03:16,  1.14it/s]"
     ]
    },
    {
     "name": "stdout",
     "output_type": "stream",
     "text": [
      "https://books.toscrape.com/catalogue/something-borrowed-darcy-rachel-1_224/index.html\n"
     ]
    },
    {
     "name": "stderr",
     "output_type": "stream",
     "text": [
      " 78%|█████████████████████████████████████████████████████████████▍                 | 777/1000 [12:01<03:19,  1.12it/s]"
     ]
    },
    {
     "name": "stdout",
     "output_type": "stream",
     "text": [
      "https://books.toscrape.com/catalogue/something-blue-darcy-rachel-2_223/index.html\n"
     ]
    },
    {
     "name": "stderr",
     "output_type": "stream",
     "text": [
      " 78%|█████████████████████████████████████████████████████████████▍                 | 778/1000 [12:02<03:19,  1.11it/s]"
     ]
    },
    {
     "name": "stdout",
     "output_type": "stream",
     "text": [
      "https://books.toscrape.com/catalogue/soldier-talon-3_222/index.html\n"
     ]
    },
    {
     "name": "stderr",
     "output_type": "stream",
     "text": [
      " 78%|█████████████████████████████████████████████████████████████▌                 | 779/1000 [12:03<03:21,  1.10it/s]"
     ]
    },
    {
     "name": "stdout",
     "output_type": "stream",
     "text": [
      "https://books.toscrape.com/catalogue/shopaholic-baby-shopaholic-5_221/index.html\n"
     ]
    },
    {
     "name": "stderr",
     "output_type": "stream",
     "text": [
      " 78%|█████████████████████████████████████████████████████████████▌                 | 780/1000 [12:04<03:18,  1.11it/s]"
     ]
    },
    {
     "name": "stdout",
     "output_type": "stream",
     "text": [
      "https://books.toscrape.com/catalogue/seven-days-in-the-art-world_220/index.html\n"
     ]
    },
    {
     "name": "stderr",
     "output_type": "stream",
     "text": [
      " 78%|█████████████████████████████████████████████████████████████▋                 | 781/1000 [12:05<03:09,  1.15it/s]"
     ]
    },
    {
     "name": "stdout",
     "output_type": "stream",
     "text": [
      "https://books.toscrape.com/catalogue/seven-brief-lessons-on-physics_219/index.html\n"
     ]
    },
    {
     "name": "stderr",
     "output_type": "stream",
     "text": [
      " 78%|█████████████████████████████████████████████████████████████▊                 | 782/1000 [12:06<03:09,  1.15it/s]"
     ]
    },
    {
     "name": "stdout",
     "output_type": "stream",
     "text": [
      "https://books.toscrape.com/catalogue/scarlet-the-lunar-chronicles-2_218/index.html\n"
     ]
    },
    {
     "name": "stderr",
     "output_type": "stream",
     "text": [
      " 78%|█████████████████████████████████████████████████████████████▊                 | 783/1000 [12:07<03:13,  1.12it/s]"
     ]
    },
    {
     "name": "stdout",
     "output_type": "stream",
     "text": [
      "https://books.toscrape.com/catalogue/sarahs-key_217/index.html\n"
     ]
    },
    {
     "name": "stderr",
     "output_type": "stream",
     "text": [
      " 78%|█████████████████████████████████████████████████████████████▉                 | 784/1000 [12:08<03:14,  1.11it/s]"
     ]
    },
    {
     "name": "stdout",
     "output_type": "stream",
     "text": [
      "https://books.toscrape.com/catalogue/saga-volume-3-saga-collected-editions-3_216/index.html\n"
     ]
    },
    {
     "name": "stderr",
     "output_type": "stream",
     "text": [
      " 78%|██████████████████████████████████████████████████████████████                 | 785/1000 [12:09<03:08,  1.14it/s]"
     ]
    },
    {
     "name": "stdout",
     "output_type": "stream",
     "text": [
      "https://books.toscrape.com/catalogue/running-with-scissors_215/index.html\n"
     ]
    },
    {
     "name": "stderr",
     "output_type": "stream",
     "text": [
      " 79%|██████████████████████████████████████████████████████████████                 | 786/1000 [12:09<03:12,  1.11it/s]"
     ]
    },
    {
     "name": "stdout",
     "output_type": "stream",
     "text": [
      "https://books.toscrape.com/catalogue/rogue-lawyer-rogue-lawyer-1_214/index.html\n"
     ]
    },
    {
     "name": "stderr",
     "output_type": "stream",
     "text": [
      " 79%|██████████████████████████████████████████████████████████████▏                | 787/1000 [12:10<03:09,  1.12it/s]"
     ]
    },
    {
     "name": "stdout",
     "output_type": "stream",
     "text": [
      "https://books.toscrape.com/catalogue/rise-of-the-rocket-girls-the-women-who-propelled-us-from-missiles-to-the-moon-to-mars_213/index.html\n"
     ]
    },
    {
     "name": "stderr",
     "output_type": "stream",
     "text": [
      " 79%|██████████████████████████████████████████████████████████████▎                | 788/1000 [12:11<03:06,  1.14it/s]"
     ]
    },
    {
     "name": "stdout",
     "output_type": "stream",
     "text": [
      "https://books.toscrape.com/catalogue/rework_212/index.html\n"
     ]
    },
    {
     "name": "stderr",
     "output_type": "stream",
     "text": [
      " 79%|██████████████████████████████████████████████████████████████▎                | 789/1000 [12:12<03:00,  1.17it/s]"
     ]
    },
    {
     "name": "stdout",
     "output_type": "stream",
     "text": [
      "https://books.toscrape.com/catalogue/reservations-for-two_211/index.html\n"
     ]
    },
    {
     "name": "stderr",
     "output_type": "stream",
     "text": [
      " 79%|██████████████████████████████████████████████████████████████▍                | 790/1000 [12:13<03:02,  1.15it/s]"
     ]
    },
    {
     "name": "stdout",
     "output_type": "stream",
     "text": [
      "https://books.toscrape.com/catalogue/red-the-true-story-of-red-riding-hood_210/index.html\n"
     ]
    },
    {
     "name": "stderr",
     "output_type": "stream",
     "text": [
      " 79%|██████████████████████████████████████████████████████████████▍                | 791/1000 [12:14<03:06,  1.12it/s]"
     ]
    },
    {
     "name": "stdout",
     "output_type": "stream",
     "text": [
      "https://books.toscrape.com/catalogue/ready-player-one_209/index.html\n"
     ]
    },
    {
     "name": "stderr",
     "output_type": "stream",
     "text": [
      " 79%|██████████████████████████████████████████████████████████████▌                | 792/1000 [12:15<03:04,  1.13it/s]"
     ]
    },
    {
     "name": "stdout",
     "output_type": "stream",
     "text": [
      "https://books.toscrape.com/catalogue/quiet-the-power-of-introverts-in-a-world-that-cant-stop-talking_208/index.html\n"
     ]
    },
    {
     "name": "stderr",
     "output_type": "stream",
     "text": [
      " 79%|██████████████████████████████████████████████████████████████▋                | 793/1000 [12:16<03:25,  1.01it/s]"
     ]
    },
    {
     "name": "stdout",
     "output_type": "stream",
     "text": [
      "https://books.toscrape.com/catalogue/prodigy-the-graphic-novel-legend-the-graphic-novel-2_207/index.html\n"
     ]
    },
    {
     "name": "stderr",
     "output_type": "stream",
     "text": [
      " 79%|██████████████████████████████████████████████████████████████▋                | 794/1000 [12:17<03:15,  1.05it/s]"
     ]
    },
    {
     "name": "stdout",
     "output_type": "stream",
     "text": [
      "https://books.toscrape.com/catalogue/persepolis-the-story-of-a-childhood-persepolis-1-2_206/index.html\n"
     ]
    },
    {
     "name": "stderr",
     "output_type": "stream",
     "text": [
      " 80%|██████████████████████████████████████████████████████████████▊                | 795/1000 [12:18<03:13,  1.06it/s]"
     ]
    },
    {
     "name": "stdout",
     "output_type": "stream",
     "text": [
      "https://books.toscrape.com/catalogue/packing-for-mars-the-curious-science-of-life-in-the-void_205/index.html\n"
     ]
    },
    {
     "name": "stderr",
     "output_type": "stream",
     "text": [
      " 80%|██████████████████████████████████████████████████████████████▉                | 796/1000 [12:19<03:11,  1.07it/s]"
     ]
    },
    {
     "name": "stdout",
     "output_type": "stream",
     "text": [
      "https://books.toscrape.com/catalogue/outliers-the-story-of-success_204/index.html\n"
     ]
    },
    {
     "name": "stderr",
     "output_type": "stream",
     "text": [
      " 80%|██████████████████████████████████████████████████████████████▉                | 797/1000 [12:20<03:09,  1.07it/s]"
     ]
    },
    {
     "name": "stdout",
     "output_type": "stream",
     "text": [
      "https://books.toscrape.com/catalogue/original-fake_203/index.html\n"
     ]
    },
    {
     "name": "stderr",
     "output_type": "stream",
     "text": [
      " 80%|███████████████████████████████████████████████████████████████                | 798/1000 [12:21<03:07,  1.08it/s]"
     ]
    },
    {
     "name": "stdout",
     "output_type": "stream",
     "text": [
      "https://books.toscrape.com/catalogue/orange-is-the-new-black_202/index.html\n"
     ]
    },
    {
     "name": "stderr",
     "output_type": "stream",
     "text": [
      " 80%|███████████████████████████████████████████████████████████████                | 799/1000 [12:21<03:03,  1.10it/s]"
     ]
    },
    {
     "name": "stdout",
     "output_type": "stream",
     "text": [
      "https://books.toscrape.com/catalogue/one-for-the-money-stephanie-plum-1_201/index.html\n"
     ]
    },
    {
     "name": "stderr",
     "output_type": "stream",
     "text": [
      " 80%|███████████████████████████████████████████████████████████████▏               | 800/1000 [12:22<03:05,  1.08it/s]"
     ]
    },
    {
     "name": "stdout",
     "output_type": "stream",
     "text": [
      "https://books.toscrape.com/catalogue/notes-from-a-small-island-notes-from-a-small-island-1_200/index.html\n"
     ]
    },
    {
     "name": "stderr",
     "output_type": "stream",
     "text": [
      " 80%|███████████████████████████████████████████████████████████████▎               | 801/1000 [12:23<03:02,  1.09it/s]"
     ]
    },
    {
     "name": "stdout",
     "output_type": "stream",
     "text": [
      "https://books.toscrape.com/catalogue/night-the-night-trilogy-1_199/index.html\n"
     ]
    },
    {
     "name": "stderr",
     "output_type": "stream",
     "text": [
      " 80%|███████████████████████████████████████████████████████████████▎               | 802/1000 [12:24<03:04,  1.08it/s]"
     ]
    },
    {
     "name": "stdout",
     "output_type": "stream",
     "text": [
      "https://books.toscrape.com/catalogue/neither-here-nor-there-travels-in-europe_198/index.html\n"
     ]
    },
    {
     "name": "stderr",
     "output_type": "stream",
     "text": [
      " 80%|███████████████████████████████████████████████████████████████▍               | 803/1000 [12:25<03:03,  1.07it/s]"
     ]
    },
    {
     "name": "stdout",
     "output_type": "stream",
     "text": [
      "https://books.toscrape.com/catalogue/naked_197/index.html\n"
     ]
    },
    {
     "name": "stderr",
     "output_type": "stream",
     "text": [
      " 80%|███████████████████████████████████████████████████████████████▌               | 804/1000 [12:26<03:00,  1.09it/s]"
     ]
    },
    {
     "name": "stdout",
     "output_type": "stream",
     "text": [
      "https://books.toscrape.com/catalogue/morning-star-red-rising-3_196/index.html\n"
     ]
    },
    {
     "name": "stderr",
     "output_type": "stream",
     "text": [
      " 80%|███████████████████████████████████████████████████████████████▌               | 805/1000 [12:27<03:00,  1.08it/s]"
     ]
    },
    {
     "name": "stdout",
     "output_type": "stream",
     "text": [
      "https://books.toscrape.com/catalogue/miracles-from-heaven-a-little-girl-her-journey-to-heaven-and-her-amazing-story-of-healing_195/index.html\n"
     ]
    },
    {
     "name": "stderr",
     "output_type": "stream",
     "text": [
      " 81%|███████████████████████████████████████████████████████████████▋               | 806/1000 [12:28<02:52,  1.12it/s]"
     ]
    },
    {
     "name": "stdout",
     "output_type": "stream",
     "text": [
      "https://books.toscrape.com/catalogue/midnight-riot-peter-grant-rivers-of-london-books-1_194/index.html\n"
     ]
    },
    {
     "name": "stderr",
     "output_type": "stream",
     "text": [
      " 81%|███████████████████████████████████████████████████████████████▊               | 807/1000 [12:29<02:53,  1.11it/s]"
     ]
    },
    {
     "name": "stdout",
     "output_type": "stream",
     "text": [
      "https://books.toscrape.com/catalogue/me-talk-pretty-one-day_193/index.html\n"
     ]
    },
    {
     "name": "stderr",
     "output_type": "stream",
     "text": [
      " 81%|███████████████████████████████████████████████████████████████▊               | 808/1000 [12:30<02:54,  1.10it/s]"
     ]
    },
    {
     "name": "stdout",
     "output_type": "stream",
     "text": [
      "https://books.toscrape.com/catalogue/manuscript-found-in-accra_192/index.html\n"
     ]
    },
    {
     "name": "stderr",
     "output_type": "stream",
     "text": [
      " 81%|███████████████████████████████████████████████████████████████▉               | 809/1000 [12:31<03:11,  1.00s/it]"
     ]
    },
    {
     "name": "stdout",
     "output_type": "stream",
     "text": [
      "https://books.toscrape.com/catalogue/lust-wonder_191/index.html\n"
     ]
    },
    {
     "name": "stderr",
     "output_type": "stream",
     "text": [
      " 81%|███████████████████████████████████████████████████████████████▉               | 810/1000 [12:32<03:04,  1.03it/s]"
     ]
    },
    {
     "name": "stdout",
     "output_type": "stream",
     "text": [
      "https://books.toscrape.com/catalogue/lila-gilead-3_190/index.html\n"
     ]
    },
    {
     "name": "stderr",
     "output_type": "stream",
     "text": [
      " 81%|████████████████████████████████████████████████████████████████               | 811/1000 [12:33<03:02,  1.04it/s]"
     ]
    },
    {
     "name": "stdout",
     "output_type": "stream",
     "text": [
      "https://books.toscrape.com/catalogue/life-the-universe-and-everything-hitchhikers-guide-to-the-galaxy-3_189/index.html\n"
     ]
    },
    {
     "name": "stderr",
     "output_type": "stream",
     "text": [
      " 81%|████████████████████████████████████████████████████████████████▏              | 812/1000 [12:34<02:58,  1.05it/s]"
     ]
    },
    {
     "name": "stdout",
     "output_type": "stream",
     "text": [
      "https://books.toscrape.com/catalogue/life-without-a-recipe_188/index.html\n"
     ]
    },
    {
     "name": "stderr",
     "output_type": "stream",
     "text": [
      " 81%|████████████████████████████████████████████████████████████████▏              | 813/1000 [12:35<02:56,  1.06it/s]"
     ]
    },
    {
     "name": "stdout",
     "output_type": "stream",
     "text": [
      "https://books.toscrape.com/catalogue/life-after-life_187/index.html\n"
     ]
    },
    {
     "name": "stderr",
     "output_type": "stream",
     "text": [
      " 81%|████████████████████████████████████████████████████████████████▎              | 814/1000 [12:35<02:48,  1.10it/s]"
     ]
    },
    {
     "name": "stdout",
     "output_type": "stream",
     "text": [
      "https://books.toscrape.com/catalogue/letter-to-a-christian-nation_186/index.html\n"
     ]
    },
    {
     "name": "stderr",
     "output_type": "stream",
     "text": [
      " 82%|████████████████████████████████████████████████████████████████▍              | 815/1000 [12:36<03:00,  1.03it/s]"
     ]
    },
    {
     "name": "stdout",
     "output_type": "stream",
     "text": [
      "https://books.toscrape.com/catalogue/lets-pretend-this-never-happened-a-mostly-true-memoir_185/index.html\n"
     ]
    },
    {
     "name": "stderr",
     "output_type": "stream",
     "text": [
      " 82%|████████████████████████████████████████████████████████████████▍              | 816/1000 [12:37<02:50,  1.08it/s]"
     ]
    },
    {
     "name": "stdout",
     "output_type": "stream",
     "text": [
      "https://books.toscrape.com/catalogue/legend-legend-1_184/index.html\n"
     ]
    },
    {
     "name": "stderr",
     "output_type": "stream",
     "text": [
      " 82%|████████████████████████████████████████████████████████████████▌              | 817/1000 [12:39<03:11,  1.05s/it]"
     ]
    },
    {
     "name": "stdout",
     "output_type": "stream",
     "text": [
      "https://books.toscrape.com/catalogue/lean-in-women-work-and-the-will-to-lead_183/index.html\n"
     ]
    },
    {
     "name": "stderr",
     "output_type": "stream",
     "text": [
      " 82%|████████████████████████████████████████████████████████████████▌              | 818/1000 [12:40<03:03,  1.01s/it]"
     ]
    },
    {
     "name": "stdout",
     "output_type": "stream",
     "text": [
      "https://books.toscrape.com/catalogue/lamb-the-gospel-according-to-biff-christs-childhood-pal_182/index.html\n"
     ]
    },
    {
     "name": "stderr",
     "output_type": "stream",
     "text": [
      " 82%|████████████████████████████████████████████████████████████████▋              | 819/1000 [12:40<02:57,  1.02it/s]"
     ]
    },
    {
     "name": "stdout",
     "output_type": "stream",
     "text": [
      "https://books.toscrape.com/catalogue/lady-renegades-rebel-belle-3_181/index.html\n"
     ]
    },
    {
     "name": "stderr",
     "output_type": "stream",
     "text": [
      " 82%|████████████████████████████████████████████████████████████████▊              | 820/1000 [12:41<02:53,  1.03it/s]"
     ]
    },
    {
     "name": "stdout",
     "output_type": "stream",
     "text": [
      "https://books.toscrape.com/catalogue/jurassic-park-jurassic-park-1_180/index.html\n"
     ]
    },
    {
     "name": "stderr",
     "output_type": "stream",
     "text": [
      " 82%|████████████████████████████████████████████████████████████████▊              | 821/1000 [12:42<02:50,  1.05it/s]"
     ]
    },
    {
     "name": "stdout",
     "output_type": "stream",
     "text": [
      "https://books.toscrape.com/catalogue/its-never-too-late-to-begin-again-discovering-creativity-and-meaning-at-midlife-and-beyond_179/index.html\n"
     ]
    },
    {
     "name": "stderr",
     "output_type": "stream",
     "text": [
      " 82%|████████████████████████████████████████████████████████████████▉              | 822/1000 [12:44<03:01,  1.02s/it]"
     ]
    },
    {
     "name": "stdout",
     "output_type": "stream",
     "text": [
      "https://books.toscrape.com/catalogue/is-everyone-hanging-out-without-me-and-other-concerns_178/index.html\n"
     ]
    },
    {
     "name": "stderr",
     "output_type": "stream",
     "text": [
      " 82%|█████████████████████████████████████████████████████████████████              | 823/1000 [12:44<02:50,  1.04it/s]"
     ]
    },
    {
     "name": "stdout",
     "output_type": "stream",
     "text": [
      "https://books.toscrape.com/catalogue/into-the-wild_177/index.html\n"
     ]
    },
    {
     "name": "stderr",
     "output_type": "stream",
     "text": [
      " 82%|█████████████████████████████████████████████████████████████████              | 824/1000 [12:45<02:40,  1.10it/s]"
     ]
    },
    {
     "name": "stdout",
     "output_type": "stream",
     "text": [
      "https://books.toscrape.com/catalogue/inferno-robert-langdon-4_176/index.html\n"
     ]
    },
    {
     "name": "stderr",
     "output_type": "stream",
     "text": [
      " 82%|█████████████████████████████████████████████████████████████████▏             | 825/1000 [12:46<02:38,  1.11it/s]"
     ]
    },
    {
     "name": "stdout",
     "output_type": "stream",
     "text": [
      "https://books.toscrape.com/catalogue/in-the-garden-of-beasts-love-terror-and-an-american-family-in-hitlers-berlin_175/index.html\n"
     ]
    },
    {
     "name": "stderr",
     "output_type": "stream",
     "text": [
      " 83%|█████████████████████████████████████████████████████████████████▎             | 826/1000 [12:47<02:54,  1.00s/it]"
     ]
    },
    {
     "name": "stdout",
     "output_type": "stream",
     "text": [
      "https://books.toscrape.com/catalogue/if-i-run-if-i-run-1_174/index.html\n"
     ]
    },
    {
     "name": "stderr",
     "output_type": "stream",
     "text": [
      " 83%|█████████████████████████████████████████████████████████████████▎             | 827/1000 [12:48<02:48,  1.03it/s]"
     ]
    },
    {
     "name": "stdout",
     "output_type": "stream",
     "text": [
      "https://books.toscrape.com/catalogue/ive-got-your-number_173/index.html\n"
     ]
    },
    {
     "name": "stderr",
     "output_type": "stream",
     "text": [
      " 83%|█████████████████████████████████████████████████████████████████▍             | 828/1000 [12:49<02:44,  1.05it/s]"
     ]
    },
    {
     "name": "stdout",
     "output_type": "stream",
     "text": [
      "https://books.toscrape.com/catalogue/i-am-malala-the-girl-who-stood-up-for-education-and-was-shot-by-the-taliban_172/index.html\n"
     ]
    },
    {
     "name": "stderr",
     "output_type": "stream",
     "text": [
      " 83%|█████████████████████████████████████████████████████████████████▍             | 829/1000 [12:50<02:37,  1.09it/s]"
     ]
    },
    {
     "name": "stdout",
     "output_type": "stream",
     "text": [
      "https://books.toscrape.com/catalogue/hungry-girl-clean-hungry-easy-all-natural-recipes-for-healthy-eating-in-the-real-world_171/index.html\n"
     ]
    },
    {
     "name": "stderr",
     "output_type": "stream",
     "text": [
      " 83%|█████████████████████████████████████████████████████████████████▌             | 830/1000 [12:51<02:31,  1.12it/s]"
     ]
    },
    {
     "name": "stdout",
     "output_type": "stream",
     "text": [
      "https://books.toscrape.com/catalogue/house-of-lost-worlds-dinosaurs-dynasties-and-the-story-of-life-on-earth_170/index.html\n"
     ]
    },
    {
     "name": "stderr",
     "output_type": "stream",
     "text": [
      " 83%|█████████████████████████████████████████████████████████████████▋             | 831/1000 [12:52<02:27,  1.14it/s]"
     ]
    },
    {
     "name": "stdout",
     "output_type": "stream",
     "text": [
      "https://books.toscrape.com/catalogue/house-of-leaves_169/index.html\n"
     ]
    },
    {
     "name": "stderr",
     "output_type": "stream",
     "text": [
      " 83%|█████████████████████████████████████████████████████████████████▋             | 832/1000 [12:52<02:27,  1.14it/s]"
     ]
    },
    {
     "name": "stdout",
     "output_type": "stream",
     "text": [
      "https://books.toscrape.com/catalogue/horrible-bear_168/index.html\n"
     ]
    },
    {
     "name": "stderr",
     "output_type": "stream",
     "text": [
      " 83%|█████████████████████████████████████████████████████████████████▊             | 833/1000 [12:53<02:23,  1.17it/s]"
     ]
    },
    {
     "name": "stdout",
     "output_type": "stream",
     "text": [
      "https://books.toscrape.com/catalogue/holidays-on-ice_167/index.html\n"
     ]
    },
    {
     "name": "stderr",
     "output_type": "stream",
     "text": [
      " 83%|█████████████████████████████████████████████████████████████████▉             | 834/1000 [12:54<02:19,  1.19it/s]"
     ]
    },
    {
     "name": "stdout",
     "output_type": "stream",
     "text": [
      "https://books.toscrape.com/catalogue/heir-to-the-sky_166/index.html\n"
     ]
    },
    {
     "name": "stderr",
     "output_type": "stream",
     "text": [
      " 84%|█████████████████████████████████████████████████████████████████▉             | 835/1000 [12:55<02:25,  1.14it/s]"
     ]
    },
    {
     "name": "stdout",
     "output_type": "stream",
     "text": [
      "https://books.toscrape.com/catalogue/green-eggs-and-ham-beginner-books-b-16_165/index.html\n"
     ]
    },
    {
     "name": "stderr",
     "output_type": "stream",
     "text": [
      " 84%|██████████████████████████████████████████████████████████████████             | 836/1000 [12:56<02:26,  1.12it/s]"
     ]
    },
    {
     "name": "stdout",
     "output_type": "stream",
     "text": [
      "https://books.toscrape.com/catalogue/grayson-vol-3-nemesis-grayson-3_164/index.html\n"
     ]
    },
    {
     "name": "stderr",
     "output_type": "stream",
     "text": [
      " 84%|██████████████████████████████████████████████████████████████████             | 837/1000 [12:57<02:20,  1.16it/s]"
     ]
    },
    {
     "name": "stdout",
     "output_type": "stream",
     "text": [
      "https://books.toscrape.com/catalogue/gratitude_163/index.html\n"
     ]
    },
    {
     "name": "stderr",
     "output_type": "stream",
     "text": [
      " 84%|██████████████████████████████████████████████████████████████████▏            | 838/1000 [12:58<02:16,  1.19it/s]"
     ]
    },
    {
     "name": "stdout",
     "output_type": "stream",
     "text": [
      "https://books.toscrape.com/catalogue/gone-girl_162/index.html\n"
     ]
    },
    {
     "name": "stderr",
     "output_type": "stream",
     "text": [
      " 84%|██████████████████████████████████████████████████████████████████▎            | 839/1000 [12:58<02:20,  1.14it/s]"
     ]
    },
    {
     "name": "stdout",
     "output_type": "stream",
     "text": [
      "https://books.toscrape.com/catalogue/golden-heart-of-dread-3_161/index.html\n"
     ]
    },
    {
     "name": "stderr",
     "output_type": "stream",
     "text": [
      " 84%|██████████████████████████████████████████████████████████████████▎            | 840/1000 [12:59<02:24,  1.11it/s]"
     ]
    },
    {
     "name": "stdout",
     "output_type": "stream",
     "text": [
      "https://books.toscrape.com/catalogue/girl-in-the-blue-coat_160/index.html\n"
     ]
    },
    {
     "name": "stderr",
     "output_type": "stream",
     "text": [
      " 84%|██████████████████████████████████████████████████████████████████▍            | 841/1000 [13:00<02:23,  1.11it/s]"
     ]
    },
    {
     "name": "stdout",
     "output_type": "stream",
     "text": [
      "https://books.toscrape.com/catalogue/fruits-basket-vol-3-fruits-basket-3_159/index.html\n"
     ]
    },
    {
     "name": "stderr",
     "output_type": "stream",
     "text": [
      " 84%|██████████████████████████████████████████████████████████████████▌            | 842/1000 [13:01<02:22,  1.11it/s]"
     ]
    },
    {
     "name": "stdout",
     "output_type": "stream",
     "text": [
      "https://books.toscrape.com/catalogue/friday-night-lights-a-town-a-team-and-a-dream_158/index.html\n"
     ]
    },
    {
     "name": "stderr",
     "output_type": "stream",
     "text": [
      " 84%|██████████████████████████████████████████████████████████████████▌            | 843/1000 [13:02<02:23,  1.09it/s]"
     ]
    },
    {
     "name": "stdout",
     "output_type": "stream",
     "text": [
      "https://books.toscrape.com/catalogue/fire-bound-sea-havensisters-of-the-heart-5_157/index.html\n"
     ]
    },
    {
     "name": "stderr",
     "output_type": "stream",
     "text": [
      " 84%|██████████████████████████████████████████████████████████████████▋            | 844/1000 [13:03<02:18,  1.13it/s]"
     ]
    },
    {
     "name": "stdout",
     "output_type": "stream",
     "text": [
      "https://books.toscrape.com/catalogue/fifty-shades-freed-fifty-shades-3_156/index.html\n"
     ]
    },
    {
     "name": "stderr",
     "output_type": "stream",
     "text": [
      " 84%|██████████████████████████████████████████████████████████████████▊            | 845/1000 [13:04<02:14,  1.15it/s]"
     ]
    },
    {
     "name": "stdout",
     "output_type": "stream",
     "text": [
      "https://books.toscrape.com/catalogue/fellside_155/index.html\n"
     ]
    },
    {
     "name": "stderr",
     "output_type": "stream",
     "text": [
      " 85%|██████████████████████████████████████████████████████████████████▊            | 846/1000 [13:05<02:14,  1.14it/s]"
     ]
    },
    {
     "name": "stdout",
     "output_type": "stream",
     "text": [
      "https://books.toscrape.com/catalogue/extreme-prey-lucas-davenport-26_154/index.html\n"
     ]
    },
    {
     "name": "stderr",
     "output_type": "stream",
     "text": [
      " 85%|██████████████████████████████████████████████████████████████████▉            | 847/1000 [13:06<02:15,  1.13it/s]"
     ]
    },
    {
     "name": "stdout",
     "output_type": "stream",
     "text": [
      "https://books.toscrape.com/catalogue/eragon-the-inheritance-cycle-1_153/index.html\n"
     ]
    },
    {
     "name": "stderr",
     "output_type": "stream",
     "text": [
      " 85%|██████████████████████████████████████████████████████████████████▉            | 848/1000 [13:07<02:14,  1.13it/s]"
     ]
    },
    {
     "name": "stdout",
     "output_type": "stream",
     "text": [
      "https://books.toscrape.com/catalogue/eclipse-twilight-3_152/index.html\n"
     ]
    },
    {
     "name": "stderr",
     "output_type": "stream",
     "text": [
      " 85%|███████████████████████████████████████████████████████████████████            | 849/1000 [13:07<02:09,  1.17it/s]"
     ]
    },
    {
     "name": "stdout",
     "output_type": "stream",
     "text": [
      "https://books.toscrape.com/catalogue/dune-dune-1_151/index.html\n"
     ]
    },
    {
     "name": "stderr",
     "output_type": "stream",
     "text": [
      " 85%|███████████████████████████████████████████████████████████████████▏           | 850/1000 [13:08<02:10,  1.15it/s]"
     ]
    },
    {
     "name": "stdout",
     "output_type": "stream",
     "text": [
      "https://books.toscrape.com/catalogue/dracula_150/index.html\n"
     ]
    },
    {
     "name": "stderr",
     "output_type": "stream",
     "text": [
      " 85%|███████████████████████████████████████████████████████████████████▏           | 851/1000 [13:09<02:11,  1.13it/s]"
     ]
    },
    {
     "name": "stdout",
     "output_type": "stream",
     "text": [
      "https://books.toscrape.com/catalogue/do-androids-dream-of-electric-sheep-blade-runner-1_149/index.html\n"
     ]
    },
    {
     "name": "stderr",
     "output_type": "stream",
     "text": [
      " 85%|███████████████████████████████████████████████████████████████████▎           | 852/1000 [13:10<02:09,  1.14it/s]"
     ]
    },
    {
     "name": "stdout",
     "output_type": "stream",
     "text": [
      "https://books.toscrape.com/catalogue/disrupted-my-misadventure-in-the-start-up-bubble_148/index.html\n"
     ]
    },
    {
     "name": "stderr",
     "output_type": "stream",
     "text": [
      " 85%|███████████████████████████████████████████████████████████████████▍           | 853/1000 [13:11<02:06,  1.16it/s]"
     ]
    },
    {
     "name": "stdout",
     "output_type": "stream",
     "text": [
      "https://books.toscrape.com/catalogue/dead-wake-the-last-crossing-of-the-lusitania_147/index.html\n"
     ]
    },
    {
     "name": "stderr",
     "output_type": "stream",
     "text": [
      " 85%|███████████████████████████████████████████████████████████████████▍           | 854/1000 [13:12<02:13,  1.09it/s]"
     ]
    },
    {
     "name": "stdout",
     "output_type": "stream",
     "text": [
      "https://books.toscrape.com/catalogue/david-and-goliath-underdogs-misfits-and-the-art-of-battling-giants_146/index.html\n"
     ]
    },
    {
     "name": "stderr",
     "output_type": "stream",
     "text": [
      " 86%|███████████████████████████████████████████████████████████████████▌           | 855/1000 [13:13<02:06,  1.14it/s]"
     ]
    },
    {
     "name": "stdout",
     "output_type": "stream",
     "text": [
      "https://books.toscrape.com/catalogue/darkfever-fever-1_145/index.html\n"
     ]
    },
    {
     "name": "stderr",
     "output_type": "stream",
     "text": [
      " 86%|███████████████████████████████████████████████████████████████████▌           | 856/1000 [13:13<02:02,  1.18it/s]"
     ]
    },
    {
     "name": "stdout",
     "output_type": "stream",
     "text": [
      "https://books.toscrape.com/catalogue/dark-places_144/index.html\n"
     ]
    },
    {
     "name": "stderr",
     "output_type": "stream",
     "text": [
      " 86%|███████████████████████████████████████████████████████████████████▋           | 857/1000 [13:14<02:03,  1.16it/s]"
     ]
    },
    {
     "name": "stdout",
     "output_type": "stream",
     "text": [
      "https://books.toscrape.com/catalogue/crazy-rich-asians-crazy-rich-asians-1_143/index.html\n"
     ]
    },
    {
     "name": "stderr",
     "output_type": "stream",
     "text": [
      " 86%|███████████████████████████████████████████████████████████████████▊           | 858/1000 [13:15<02:01,  1.17it/s]"
     ]
    },
    {
     "name": "stdout",
     "output_type": "stream",
     "text": [
      "https://books.toscrape.com/catalogue/counting-thyme_142/index.html\n"
     ]
    },
    {
     "name": "stderr",
     "output_type": "stream",
     "text": [
      " 86%|███████████████████████████████████████████████████████████████████▊           | 859/1000 [13:16<02:03,  1.14it/s]"
     ]
    },
    {
     "name": "stdout",
     "output_type": "stream",
     "text": [
      "https://books.toscrape.com/catalogue/cosmos_141/index.html\n"
     ]
    },
    {
     "name": "stderr",
     "output_type": "stream",
     "text": [
      " 86%|███████████████████████████████████████████████████████████████████▉           | 860/1000 [13:17<02:04,  1.12it/s]"
     ]
    },
    {
     "name": "stdout",
     "output_type": "stream",
     "text": [
      "https://books.toscrape.com/catalogue/civilization-and-its-discontents_140/index.html\n"
     ]
    },
    {
     "name": "stderr",
     "output_type": "stream",
     "text": [
      " 86%|████████████████████████████████████████████████████████████████████           | 861/1000 [13:18<02:05,  1.11it/s]"
     ]
    },
    {
     "name": "stdout",
     "output_type": "stream",
     "text": [
      "https://books.toscrape.com/catalogue/cinder-the-lunar-chronicles-1_139/index.html\n"
     ]
    },
    {
     "name": "stderr",
     "output_type": "stream",
     "text": [
      " 86%|████████████████████████████████████████████████████████████████████           | 862/1000 [13:19<02:05,  1.10it/s]"
     ]
    },
    {
     "name": "stdout",
     "output_type": "stream",
     "text": [
      "https://books.toscrape.com/catalogue/catastrophic-happiness-finding-joy-in-childhoods-messy-years_138/index.html\n"
     ]
    },
    {
     "name": "stderr",
     "output_type": "stream",
     "text": [
      " 86%|████████████████████████████████████████████████████████████████████▏          | 863/1000 [13:20<02:03,  1.11it/s]"
     ]
    },
    {
     "name": "stdout",
     "output_type": "stream",
     "text": [
      "https://books.toscrape.com/catalogue/career-of-evil-cormoran-strike-3_137/index.html\n"
     ]
    },
    {
     "name": "stderr",
     "output_type": "stream",
     "text": [
      " 86%|████████████████████████████████████████████████████████████████████▎          | 864/1000 [13:21<01:58,  1.15it/s]"
     ]
    },
    {
     "name": "stdout",
     "output_type": "stream",
     "text": [
      "https://books.toscrape.com/catalogue/breaking-dawn-twilight-4_136/index.html\n"
     ]
    },
    {
     "name": "stderr",
     "output_type": "stream",
     "text": [
      " 86%|████████████████████████████████████████████████████████████████████▎          | 865/1000 [13:21<01:56,  1.16it/s]"
     ]
    },
    {
     "name": "stdout",
     "output_type": "stream",
     "text": [
      "https://books.toscrape.com/catalogue/brave-enough_135/index.html\n"
     ]
    },
    {
     "name": "stderr",
     "output_type": "stream",
     "text": [
      " 87%|████████████████████████████████████████████████████████████████████▍          | 866/1000 [13:22<02:02,  1.09it/s]"
     ]
    },
    {
     "name": "stdout",
     "output_type": "stream",
     "text": [
      "https://books.toscrape.com/catalogue/boy-meets-boy_134/index.html\n"
     ]
    },
    {
     "name": "stderr",
     "output_type": "stream",
     "text": [
      " 87%|████████████████████████████████████████████████████████████████████▍          | 867/1000 [13:23<01:58,  1.12it/s]"
     ]
    },
    {
     "name": "stdout",
     "output_type": "stream",
     "text": [
      "https://books.toscrape.com/catalogue/born-to-run-a-hidden-tribe-superathletes-and-the-greatest-race-the-world-has-never-seen_133/index.html\n"
     ]
    },
    {
     "name": "stderr",
     "output_type": "stream",
     "text": [
      " 87%|████████████████████████████████████████████████████████████████████▌          | 868/1000 [13:24<02:06,  1.04it/s]"
     ]
    },
    {
     "name": "stdout",
     "output_type": "stream",
     "text": [
      "https://books.toscrape.com/catalogue/blink-the-power-of-thinking-without-thinking_132/index.html\n"
     ]
    },
    {
     "name": "stderr",
     "output_type": "stream",
     "text": [
      " 87%|████████████████████████████████████████████████████████████████████▋          | 869/1000 [13:26<02:17,  1.05s/it]"
     ]
    },
    {
     "name": "stdout",
     "output_type": "stream",
     "text": [
      "https://books.toscrape.com/catalogue/black-flags-the-rise-of-isis_131/index.html\n"
     ]
    },
    {
     "name": "stderr",
     "output_type": "stream",
     "text": [
      " 87%|████████████████████████████████████████████████████████████████████▋          | 870/1000 [13:27<02:17,  1.05s/it]"
     ]
    },
    {
     "name": "stdout",
     "output_type": "stream",
     "text": [
      "https://books.toscrape.com/catalogue/black-butler-vol-1-black-butler-1_130/index.html\n"
     ]
    },
    {
     "name": "stderr",
     "output_type": "stream",
     "text": [
      " 87%|████████████████████████████████████████████████████████████████████▊          | 871/1000 [13:28<02:11,  1.02s/it]"
     ]
    },
    {
     "name": "stdout",
     "output_type": "stream",
     "text": [
      "https://books.toscrape.com/catalogue/big-little-lies_129/index.html\n"
     ]
    },
    {
     "name": "stderr",
     "output_type": "stream",
     "text": [
      " 87%|████████████████████████████████████████████████████████████████████▉          | 872/1000 [13:28<02:03,  1.04it/s]"
     ]
    },
    {
     "name": "stdout",
     "output_type": "stream",
     "text": [
      "https://books.toscrape.com/catalogue/between-shades-of-gray_128/index.html\n"
     ]
    },
    {
     "name": "stderr",
     "output_type": "stream",
     "text": [
      " 87%|████████████████████████████████████████████████████████████████████▉          | 873/1000 [13:29<01:58,  1.07it/s]"
     ]
    },
    {
     "name": "stdout",
     "output_type": "stream",
     "text": [
      "https://books.toscrape.com/catalogue/best-of-my-love-fools-gold-20_127/index.html\n"
     ]
    },
    {
     "name": "stderr",
     "output_type": "stream",
     "text": [
      " 87%|█████████████████████████████████████████████████████████████████████          | 874/1000 [13:30<01:52,  1.12it/s]"
     ]
    },
    {
     "name": "stdout",
     "output_type": "stream",
     "text": [
      "https://books.toscrape.com/catalogue/beowulf_126/index.html\n"
     ]
    },
    {
     "name": "stderr",
     "output_type": "stream",
     "text": [
      " 88%|█████████████████████████████████████████████████████████████████████▏         | 875/1000 [13:31<01:51,  1.12it/s]"
     ]
    },
    {
     "name": "stdout",
     "output_type": "stream",
     "text": [
      "https://books.toscrape.com/catalogue/beautiful-creatures-caster-chronicles-1_125/index.html\n"
     ]
    },
    {
     "name": "stderr",
     "output_type": "stream",
     "text": [
      " 88%|█████████████████████████████████████████████████████████████████████▏         | 876/1000 [13:32<01:48,  1.14it/s]"
     ]
    },
    {
     "name": "stdout",
     "output_type": "stream",
     "text": [
      "https://books.toscrape.com/catalogue/awkward_124/index.html\n"
     ]
    },
    {
     "name": "stderr",
     "output_type": "stream",
     "text": [
      " 88%|█████████████████████████████████████████████████████████████████████▎         | 877/1000 [13:33<01:46,  1.16it/s]"
     ]
    },
    {
     "name": "stdout",
     "output_type": "stream",
     "text": [
      "https://books.toscrape.com/catalogue/ash_123/index.html\n"
     ]
    },
    {
     "name": "stderr",
     "output_type": "stream",
     "text": [
      " 88%|█████████████████████████████████████████████████████████████████████▎         | 878/1000 [13:34<01:46,  1.14it/s]"
     ]
    },
    {
     "name": "stdout",
     "output_type": "stream",
     "text": [
      "https://books.toscrape.com/catalogue/are-we-there-yet_122/index.html\n"
     ]
    },
    {
     "name": "stderr",
     "output_type": "stream",
     "text": [
      " 88%|█████████████████████████████████████████████████████████████████████▍         | 879/1000 [13:35<01:46,  1.14it/s]"
     ]
    },
    {
     "name": "stdout",
     "output_type": "stream",
     "text": [
      "https://books.toscrape.com/catalogue/are-we-smart-enough-to-know-how-smart-animals-are_121/index.html\n"
     ]
    },
    {
     "name": "stderr",
     "output_type": "stream",
     "text": [
      " 88%|█████████████████████████████████████████████████████████████████████▌         | 880/1000 [13:36<01:53,  1.06it/s]"
     ]
    },
    {
     "name": "stdout",
     "output_type": "stream",
     "text": [
      "https://books.toscrape.com/catalogue/annie-on-my-mind_120/index.html\n"
     ]
    },
    {
     "name": "stderr",
     "output_type": "stream",
     "text": [
      " 88%|█████████████████████████████████████████████████████████████████████▌         | 881/1000 [13:36<01:47,  1.10it/s]"
     ]
    },
    {
     "name": "stdout",
     "output_type": "stream",
     "text": [
      "https://books.toscrape.com/catalogue/and-then-there-were-none_119/index.html\n"
     ]
    },
    {
     "name": "stderr",
     "output_type": "stream",
     "text": [
      " 88%|█████████████████████████████████████████████████████████████████████▋         | 882/1000 [13:37<01:48,  1.09it/s]"
     ]
    },
    {
     "name": "stdout",
     "output_type": "stream",
     "text": [
      "https://books.toscrape.com/catalogue/a-walk-in-the-woods-rediscovering-america-on-the-appalachian-trail_118/index.html\n"
     ]
    },
    {
     "name": "stderr",
     "output_type": "stream",
     "text": [
      " 88%|█████████████████████████████████████████████████████████████████████▊         | 883/1000 [13:38<01:43,  1.13it/s]"
     ]
    },
    {
     "name": "stdout",
     "output_type": "stream",
     "text": [
      "https://books.toscrape.com/catalogue/a-visit-from-the-goon-squad_117/index.html\n"
     ]
    },
    {
     "name": "stderr",
     "output_type": "stream",
     "text": [
      " 88%|█████████████████████████████████████████████████████████████████████▊         | 884/1000 [13:39<01:43,  1.12it/s]"
     ]
    },
    {
     "name": "stdout",
     "output_type": "stream",
     "text": [
      "https://books.toscrape.com/catalogue/a-storm-of-swords-a-song-of-ice-and-fire-3_116/index.html\n"
     ]
    },
    {
     "name": "stderr",
     "output_type": "stream",
     "text": [
      " 88%|█████████████████████████████████████████████████████████████████████▉         | 885/1000 [13:40<01:55,  1.01s/it]"
     ]
    },
    {
     "name": "stdout",
     "output_type": "stream",
     "text": [
      "https://books.toscrape.com/catalogue/a-heartbreaking-work-of-staggering-genius_115/index.html\n"
     ]
    },
    {
     "name": "stderr",
     "output_type": "stream",
     "text": [
      " 89%|█████████████████████████████████████████████████████████████████████▉         | 886/1000 [13:42<01:59,  1.05s/it]"
     ]
    },
    {
     "name": "stdout",
     "output_type": "stream",
     "text": [
      "https://books.toscrape.com/catalogue/8-keys-to-mental-health-through-exercise_114/index.html\n"
     ]
    },
    {
     "name": "stderr",
     "output_type": "stream",
     "text": [
      " 89%|██████████████████████████████████████████████████████████████████████         | 887/1000 [13:42<01:51,  1.01it/s]"
     ]
    },
    {
     "name": "stdout",
     "output_type": "stream",
     "text": [
      "https://books.toscrape.com/catalogue/girlboss_113/index.html\n"
     ]
    },
    {
     "name": "stderr",
     "output_type": "stream",
     "text": [
      " 89%|██████████████████████████████████████████████████████████████████████▏        | 888/1000 [13:43<01:44,  1.08it/s]"
     ]
    },
    {
     "name": "stdout",
     "output_type": "stream",
     "text": [
      "https://books.toscrape.com/catalogue/the-suffragettes-little-black-classics-96_112/index.html\n"
     ]
    },
    {
     "name": "stderr",
     "output_type": "stream",
     "text": [
      " 89%|██████████████████████████████████████████████████████████████████████▏        | 889/1000 [13:44<01:40,  1.11it/s]"
     ]
    },
    {
     "name": "stdout",
     "output_type": "stream",
     "text": [
      "https://books.toscrape.com/catalogue/the-sense-of-an-ending_111/index.html\n"
     ]
    },
    {
     "name": "stderr",
     "output_type": "stream",
     "text": [
      " 89%|██████████████████████████████████████████████████████████████████████▎        | 890/1000 [13:45<01:36,  1.14it/s]"
     ]
    },
    {
     "name": "stdout",
     "output_type": "stream",
     "text": [
      "https://books.toscrape.com/catalogue/the-sandman-vol-2-the-dolls-house-the-sandman-volumes-2_110/index.html\n"
     ]
    },
    {
     "name": "stderr",
     "output_type": "stream",
     "text": [
      " 89%|██████████████████████████████████████████████████████████████████████▍        | 891/1000 [13:46<01:32,  1.17it/s]"
     ]
    },
    {
     "name": "stdout",
     "output_type": "stream",
     "text": [
      "https://books.toscrape.com/catalogue/the-course-of-love_109/index.html\n"
     ]
    },
    {
     "name": "stderr",
     "output_type": "stream",
     "text": [
      " 89%|██████████████████████████████████████████████████████████████████████▍        | 892/1000 [13:46<01:29,  1.21it/s]"
     ]
    },
    {
     "name": "stdout",
     "output_type": "stream",
     "text": [
      "https://books.toscrape.com/catalogue/sugar-rush-offensive-line-2_108/index.html\n"
     ]
    },
    {
     "name": "stderr",
     "output_type": "stream",
     "text": [
      " 89%|██████████████████████████████████████████████████████████████████████▌        | 893/1000 [13:47<01:30,  1.19it/s]"
     ]
    },
    {
     "name": "stdout",
     "output_type": "stream",
     "text": [
      "https://books.toscrape.com/catalogue/saga-volume-2-saga-collected-editions-2_107/index.html\n"
     ]
    },
    {
     "name": "stderr",
     "output_type": "stream",
     "text": [
      " 89%|██████████████████████████████████████████████████████████████████████▋        | 894/1000 [13:48<01:29,  1.18it/s]"
     ]
    },
    {
     "name": "stdout",
     "output_type": "stream",
     "text": [
      "https://books.toscrape.com/catalogue/run-spot-run-the-ethics-of-keeping-pets_106/index.html\n"
     ]
    },
    {
     "name": "stderr",
     "output_type": "stream",
     "text": [
      " 90%|██████████████████████████████████████████████████████████████████████▋        | 895/1000 [13:49<01:30,  1.16it/s]"
     ]
    },
    {
     "name": "stdout",
     "output_type": "stream",
     "text": [
      "https://books.toscrape.com/catalogue/new-moon-twilight-2_105/index.html\n"
     ]
    },
    {
     "name": "stderr",
     "output_type": "stream",
     "text": [
      " 90%|██████████████████████████████████████████████████████████████████████▊        | 896/1000 [13:50<01:30,  1.15it/s]"
     ]
    },
    {
     "name": "stdout",
     "output_type": "stream",
     "text": [
      "https://books.toscrape.com/catalogue/life_104/index.html\n"
     ]
    },
    {
     "name": "stderr",
     "output_type": "stream",
     "text": [
      " 90%|██████████████████████████████████████████████████████████████████████▊        | 897/1000 [13:51<01:31,  1.13it/s]"
     ]
    },
    {
     "name": "stdout",
     "output_type": "stream",
     "text": [
      "https://books.toscrape.com/catalogue/kindle-paperwhite-users-guide_103/index.html\n"
     ]
    },
    {
     "name": "stderr",
     "output_type": "stream",
     "text": [
      " 90%|██████████████████████████████████████████████████████████████████████▉        | 898/1000 [13:52<01:27,  1.16it/s]"
     ]
    },
    {
     "name": "stdout",
     "output_type": "stream",
     "text": [
      "https://books.toscrape.com/catalogue/h-is-for-hawk_102/index.html\n"
     ]
    },
    {
     "name": "stderr",
     "output_type": "stream",
     "text": [
      " 90%|███████████████████████████████████████████████████████████████████████        | 899/1000 [13:52<01:25,  1.18it/s]"
     ]
    },
    {
     "name": "stdout",
     "output_type": "stream",
     "text": [
      "https://books.toscrape.com/catalogue/girl-online-on-tour-girl-online-2_101/index.html\n"
     ]
    },
    {
     "name": "stderr",
     "output_type": "stream",
     "text": [
      " 90%|███████████████████████████████████████████████████████████████████████        | 900/1000 [13:53<01:25,  1.17it/s]"
     ]
    },
    {
     "name": "stdout",
     "output_type": "stream",
     "text": [
      "https://books.toscrape.com/catalogue/fruits-basket-vol-2-fruits-basket-2_100/index.html\n"
     ]
    },
    {
     "name": "stderr",
     "output_type": "stream",
     "text": [
      " 90%|███████████████████████████████████████████████████████████████████████▏       | 901/1000 [13:54<01:26,  1.14it/s]"
     ]
    },
    {
     "name": "stdout",
     "output_type": "stream",
     "text": [
      "https://books.toscrape.com/catalogue/diary-of-a-minecraft-zombie-book-1-a-scare-of-a-dare-an-unofficial-minecraft-book_99/index.html\n"
     ]
    },
    {
     "name": "stderr",
     "output_type": "stream",
     "text": [
      " 90%|███████████████████████████████████████████████████████████████████████▎       | 902/1000 [13:55<01:27,  1.13it/s]"
     ]
    },
    {
     "name": "stdout",
     "output_type": "stream",
     "text": [
      "https://books.toscrape.com/catalogue/y-the-last-man-vol-1-unmanned-y-the-last-man-1_98/index.html\n"
     ]
    },
    {
     "name": "stderr",
     "output_type": "stream",
     "text": [
      " 90%|███████████████████████████████████████████████████████████████████████▎       | 903/1000 [13:56<01:24,  1.15it/s]"
     ]
    },
    {
     "name": "stdout",
     "output_type": "stream",
     "text": [
      "https://books.toscrape.com/catalogue/while-you-were-mine_97/index.html\n"
     ]
    },
    {
     "name": "stderr",
     "output_type": "stream",
     "text": [
      " 90%|███████████████████████████████████████████████████████████████████████▍       | 904/1000 [13:57<01:24,  1.13it/s]"
     ]
    },
    {
     "name": "stdout",
     "output_type": "stream",
     "text": [
      "https://books.toscrape.com/catalogue/where-lightning-strikes-bleeding-stars-3_96/index.html\n"
     ]
    },
    {
     "name": "stderr",
     "output_type": "stream",
     "text": [
      " 90%|███████████████████████████████████████████████████████████████████████▍       | 905/1000 [13:58<01:22,  1.15it/s]"
     ]
    },
    {
     "name": "stdout",
     "output_type": "stream",
     "text": [
      "https://books.toscrape.com/catalogue/when-im-gone_95/index.html\n"
     ]
    },
    {
     "name": "stderr",
     "output_type": "stream",
     "text": [
      " 91%|███████████████████████████████████████████████████████████████████████▌       | 906/1000 [13:59<01:22,  1.14it/s]"
     ]
    },
    {
     "name": "stdout",
     "output_type": "stream",
     "text": [
      "https://books.toscrape.com/catalogue/ways-of-seeing_94/index.html\n"
     ]
    },
    {
     "name": "stderr",
     "output_type": "stream",
     "text": [
      " 91%|███████████████████████████████████████████████████████████████████████▋       | 907/1000 [14:00<01:23,  1.12it/s]"
     ]
    },
    {
     "name": "stdout",
     "output_type": "stream",
     "text": [
      "https://books.toscrape.com/catalogue/vampire-knight-vol-1-vampire-knight-1_93/index.html\n"
     ]
    },
    {
     "name": "stderr",
     "output_type": "stream",
     "text": [
      " 91%|███████████████████████████████████████████████████████████████████████▋       | 908/1000 [14:00<01:23,  1.11it/s]"
     ]
    },
    {
     "name": "stdout",
     "output_type": "stream",
     "text": [
      "https://books.toscrape.com/catalogue/vampire-girl-vampire-girl-1_92/index.html\n"
     ]
    },
    {
     "name": "stderr",
     "output_type": "stream",
     "text": [
      " 91%|███████████████████████████████████████████████████████████████████████▊       | 909/1000 [14:01<01:22,  1.11it/s]"
     ]
    },
    {
     "name": "stdout",
     "output_type": "stream",
     "text": [
      "https://books.toscrape.com/catalogue/twenty-love-poems-and-a-song-of-despair_91/index.html\n"
     ]
    },
    {
     "name": "stderr",
     "output_type": "stream",
     "text": [
      " 91%|███████████████████████████████████████████████████████████████████████▉       | 910/1000 [14:02<01:19,  1.13it/s]"
     ]
    },
    {
     "name": "stdout",
     "output_type": "stream",
     "text": [
      "https://books.toscrape.com/catalogue/travels-with-charley-in-search-of-america_90/index.html\n"
     ]
    },
    {
     "name": "stderr",
     "output_type": "stream",
     "text": [
      " 91%|███████████████████████████████████████████████████████████████████████▉       | 911/1000 [14:03<01:19,  1.11it/s]"
     ]
    },
    {
     "name": "stdout",
     "output_type": "stream",
     "text": [
      "https://books.toscrape.com/catalogue/three-wishes-river-of-time-california-1_89/index.html\n"
     ]
    },
    {
     "name": "stderr",
     "output_type": "stream",
     "text": [
      " 91%|████████████████████████████████████████████████████████████████████████       | 912/1000 [14:04<01:19,  1.11it/s]"
     ]
    },
    {
     "name": "stdout",
     "output_type": "stream",
     "text": [
      "https://books.toscrape.com/catalogue/this-one-moment-pushing-limits-1_88/index.html\n"
     ]
    },
    {
     "name": "stderr",
     "output_type": "stream",
     "text": [
      " 91%|████████████████████████████████████████████████████████████████████████▏      | 913/1000 [14:05<01:18,  1.10it/s]"
     ]
    },
    {
     "name": "stdout",
     "output_type": "stream",
     "text": [
      "https://books.toscrape.com/catalogue/the-zombie-room_87/index.html\n"
     ]
    },
    {
     "name": "stderr",
     "output_type": "stream",
     "text": [
      " 91%|████████████████████████████████████████████████████████████████████████▏      | 914/1000 [14:06<01:17,  1.12it/s]"
     ]
    },
    {
     "name": "stdout",
     "output_type": "stream",
     "text": [
      "https://books.toscrape.com/catalogue/the-wicked-the-divine-vol-1-the-faust-act-the-wicked-the-divine_86/index.html\n"
     ]
    },
    {
     "name": "stderr",
     "output_type": "stream",
     "text": [
      " 92%|████████████████████████████████████████████████████████████████████████▎      | 915/1000 [14:07<01:17,  1.09it/s]"
     ]
    },
    {
     "name": "stdout",
     "output_type": "stream",
     "text": [
      "https://books.toscrape.com/catalogue/the-tumor_85/index.html\n"
     ]
    },
    {
     "name": "stderr",
     "output_type": "stream",
     "text": [
      " 92%|████████████████████████████████████████████████████████████████████████▎      | 916/1000 [14:08<01:17,  1.09it/s]"
     ]
    },
    {
     "name": "stdout",
     "output_type": "stream",
     "text": [
      "https://books.toscrape.com/catalogue/the-story-of-hong-gildong_84/index.html\n"
     ]
    },
    {
     "name": "stderr",
     "output_type": "stream",
     "text": [
      " 92%|████████████████████████████████████████████████████████████████████████▍      | 917/1000 [14:09<01:16,  1.09it/s]"
     ]
    },
    {
     "name": "stdout",
     "output_type": "stream",
     "text": [
      "https://books.toscrape.com/catalogue/the-silent-wife_83/index.html\n"
     ]
    },
    {
     "name": "stderr",
     "output_type": "stream",
     "text": [
      " 92%|████████████████████████████████████████████████████████████████████████▌      | 918/1000 [14:09<01:13,  1.11it/s]"
     ]
    },
    {
     "name": "stdout",
     "output_type": "stream",
     "text": [
      "https://books.toscrape.com/catalogue/the-silent-twin-detective-jennifer-knight-3_82/index.html\n"
     ]
    },
    {
     "name": "stderr",
     "output_type": "stream",
     "text": [
      " 92%|████████████████████████████████████████████████████████████████████████▌      | 919/1000 [14:10<01:12,  1.11it/s]"
     ]
    },
    {
     "name": "stdout",
     "output_type": "stream",
     "text": [
      "https://books.toscrape.com/catalogue/the-selfish-gene_81/index.html\n"
     ]
    },
    {
     "name": "stderr",
     "output_type": "stream",
     "text": [
      " 92%|████████████████████████████████████████████████████████████████████████▋      | 920/1000 [14:12<01:18,  1.02it/s]"
     ]
    },
    {
     "name": "stdout",
     "output_type": "stream",
     "text": [
      "https://books.toscrape.com/catalogue/the-secret-healer_80/index.html\n"
     ]
    },
    {
     "name": "stderr",
     "output_type": "stream",
     "text": [
      " 92%|████████████████████████████████████████████████████████████████████████▊      | 921/1000 [14:12<01:12,  1.08it/s]"
     ]
    },
    {
     "name": "stdout",
     "output_type": "stream",
     "text": [
      "https://books.toscrape.com/catalogue/the-sandman-vol-1-preludes-and-nocturnes-the-sandman-volumes-1_79/index.html\n"
     ]
    },
    {
     "name": "stderr",
     "output_type": "stream",
     "text": [
      " 92%|████████████████████████████████████████████████████████████████████████▊      | 922/1000 [14:14<01:18,  1.01s/it]"
     ]
    },
    {
     "name": "stdout",
     "output_type": "stream",
     "text": [
      "https://books.toscrape.com/catalogue/the-republic_78/index.html\n"
     ]
    },
    {
     "name": "stderr",
     "output_type": "stream",
     "text": [
      " 92%|████████████████████████████████████████████████████████████████████████▉      | 923/1000 [14:14<01:15,  1.02it/s]"
     ]
    },
    {
     "name": "stdout",
     "output_type": "stream",
     "text": [
      "https://books.toscrape.com/catalogue/the-odyssey_77/index.html\n"
     ]
    },
    {
     "name": "stderr",
     "output_type": "stream",
     "text": [
      " 92%|████████████████████████████████████████████████████████████████████████▉      | 924/1000 [14:15<01:13,  1.03it/s]"
     ]
    },
    {
     "name": "stdout",
     "output_type": "stream",
     "text": [
      "https://books.toscrape.com/catalogue/the-no-1-ladies-detective-agency-no-1-ladies-detective-agency-1_76/index.html\n"
     ]
    },
    {
     "name": "stderr",
     "output_type": "stream",
     "text": [
      " 92%|█████████████████████████████████████████████████████████████████████████      | 925/1000 [14:16<01:11,  1.05it/s]"
     ]
    },
    {
     "name": "stdout",
     "output_type": "stream",
     "text": [
      "https://books.toscrape.com/catalogue/the-nicomachean-ethics_75/index.html\n"
     ]
    },
    {
     "name": "stderr",
     "output_type": "stream",
     "text": [
      " 93%|█████████████████████████████████████████████████████████████████████████▏     | 926/1000 [14:17<01:08,  1.07it/s]"
     ]
    },
    {
     "name": "stdout",
     "output_type": "stream",
     "text": [
      "https://books.toscrape.com/catalogue/the-name-of-the-wind-the-kingkiller-chronicle-1_74/index.html\n"
     ]
    },
    {
     "name": "stderr",
     "output_type": "stream",
     "text": [
      " 93%|█████████████████████████████████████████████████████████████████████████▏     | 927/1000 [14:18<01:06,  1.10it/s]"
     ]
    },
    {
     "name": "stdout",
     "output_type": "stream",
     "text": [
      "https://books.toscrape.com/catalogue/the-mirror-the-maze-the-wrath-and-the-dawn-15_73/index.html\n"
     ]
    },
    {
     "name": "stderr",
     "output_type": "stream",
     "text": [
      " 93%|█████████████████████████████████████████████████████████████████████████▎     | 928/1000 [14:19<01:04,  1.12it/s]"
     ]
    },
    {
     "name": "stdout",
     "output_type": "stream",
     "text": [
      "https://books.toscrape.com/catalogue/the-little-prince_72/index.html\n"
     ]
    },
    {
     "name": "stderr",
     "output_type": "stream",
     "text": [
      " 93%|█████████████████████████████████████████████████████████████████████████▍     | 929/1000 [14:20<01:05,  1.08it/s]"
     ]
    },
    {
     "name": "stdout",
     "output_type": "stream",
     "text": [
      "https://books.toscrape.com/catalogue/the-light-of-the-fireflies_71/index.html\n"
     ]
    },
    {
     "name": "stderr",
     "output_type": "stream",
     "text": [
      " 93%|█████████████████████████████████████████████████████████████████████████▍     | 930/1000 [14:21<01:02,  1.12it/s]"
     ]
    },
    {
     "name": "stdout",
     "output_type": "stream",
     "text": [
      "https://books.toscrape.com/catalogue/the-last-girl-the-dominion-trilogy-1_70/index.html\n"
     ]
    },
    {
     "name": "stderr",
     "output_type": "stream",
     "text": [
      " 93%|█████████████████████████████████████████████████████████████████████████▌     | 931/1000 [14:22<01:02,  1.11it/s]"
     ]
    },
    {
     "name": "stdout",
     "output_type": "stream",
     "text": [
      "https://books.toscrape.com/catalogue/the-iliad_69/index.html\n"
     ]
    },
    {
     "name": "stderr",
     "output_type": "stream",
     "text": [
      " 93%|█████████████████████████████████████████████████████████████████████████▋     | 932/1000 [14:22<00:59,  1.13it/s]"
     ]
    },
    {
     "name": "stdout",
     "output_type": "stream",
     "text": [
      "https://books.toscrape.com/catalogue/the-hook-up-game-on-1_68/index.html\n"
     ]
    },
    {
     "name": "stderr",
     "output_type": "stream",
     "text": [
      " 93%|█████████████████████████████████████████████████████████████████████████▋     | 933/1000 [14:23<00:59,  1.13it/s]"
     ]
    },
    {
     "name": "stdout",
     "output_type": "stream",
     "text": [
      "https://books.toscrape.com/catalogue/the-haters_67/index.html\n"
     ]
    },
    {
     "name": "stderr",
     "output_type": "stream",
     "text": [
      " 93%|█████████████████████████████████████████████████████████████████████████▊     | 934/1000 [14:24<00:59,  1.12it/s]"
     ]
    },
    {
     "name": "stdout",
     "output_type": "stream",
     "text": [
      "https://books.toscrape.com/catalogue/the-girl-you-lost_66/index.html\n"
     ]
    },
    {
     "name": "stderr",
     "output_type": "stream",
     "text": [
      " 94%|█████████████████████████████████████████████████████████████████████████▊     | 935/1000 [14:25<00:58,  1.11it/s]"
     ]
    },
    {
     "name": "stdout",
     "output_type": "stream",
     "text": [
      "https://books.toscrape.com/catalogue/the-girl-in-the-ice-dci-erika-foster-1_65/index.html\n"
     ]
    },
    {
     "name": "stderr",
     "output_type": "stream",
     "text": [
      " 94%|█████████████████████████████████████████████████████████████████████████▉     | 936/1000 [14:26<00:58,  1.10it/s]"
     ]
    },
    {
     "name": "stdout",
     "output_type": "stream",
     "text": [
      "https://books.toscrape.com/catalogue/the-end-of-the-jesus-era-an-investigation-1_64/index.html\n"
     ]
    },
    {
     "name": "stderr",
     "output_type": "stream",
     "text": [
      " 94%|██████████████████████████████████████████████████████████████████████████     | 937/1000 [14:27<00:56,  1.11it/s]"
     ]
    },
    {
     "name": "stdout",
     "output_type": "stream",
     "text": [
      "https://books.toscrape.com/catalogue/the-edge-of-reason-bridget-jones-2_63/index.html\n"
     ]
    },
    {
     "name": "stderr",
     "output_type": "stream",
     "text": [
      " 94%|██████████████████████████████████████████████████████████████████████████     | 938/1000 [14:28<00:57,  1.08it/s]"
     ]
    },
    {
     "name": "stdout",
     "output_type": "stream",
     "text": [
      "https://books.toscrape.com/catalogue/the-complete-maus-maus-1-2_62/index.html\n"
     ]
    },
    {
     "name": "stderr",
     "output_type": "stream",
     "text": [
      " 94%|██████████████████████████████████████████████████████████████████████████▏    | 939/1000 [14:29<00:56,  1.09it/s]"
     ]
    },
    {
     "name": "stdout",
     "output_type": "stream",
     "text": [
      "https://books.toscrape.com/catalogue/the-communist-manifesto_61/index.html\n"
     ]
    },
    {
     "name": "stderr",
     "output_type": "stream",
     "text": [
      " 94%|██████████████████████████████████████████████████████████████████████████▎    | 940/1000 [14:30<00:54,  1.10it/s]"
     ]
    },
    {
     "name": "stdout",
     "output_type": "stream",
     "text": [
      "https://books.toscrape.com/catalogue/the-bhagavad-gita_60/index.html\n"
     ]
    },
    {
     "name": "stderr",
     "output_type": "stream",
     "text": [
      " 94%|██████████████████████████████████████████████████████████████████████████▎    | 941/1000 [14:31<00:51,  1.15it/s]"
     ]
    },
    {
     "name": "stdout",
     "output_type": "stream",
     "text": [
      "https://books.toscrape.com/catalogue/the-bette-davis-club_59/index.html\n"
     ]
    },
    {
     "name": "stderr",
     "output_type": "stream",
     "text": [
      " 94%|██████████████████████████████████████████████████████████████████████████▍    | 942/1000 [14:31<00:50,  1.15it/s]"
     ]
    },
    {
     "name": "stdout",
     "output_type": "stream",
     "text": [
      "https://books.toscrape.com/catalogue/the-art-of-not-breathing_58/index.html\n"
     ]
    },
    {
     "name": "stderr",
     "output_type": "stream",
     "text": [
      " 94%|██████████████████████████████████████████████████████████████████████████▍    | 943/1000 [14:32<00:48,  1.18it/s]"
     ]
    },
    {
     "name": "stdout",
     "output_type": "stream",
     "text": [
      "https://books.toscrape.com/catalogue/taking-shots-assassins-1_57/index.html\n"
     ]
    },
    {
     "name": "stderr",
     "output_type": "stream",
     "text": [
      " 94%|██████████████████████████████████████████████████████████████████████████▌    | 944/1000 [14:33<00:46,  1.22it/s]"
     ]
    },
    {
     "name": "stdout",
     "output_type": "stream",
     "text": [
      "https://books.toscrape.com/catalogue/starlark_56/index.html\n"
     ]
    },
    {
     "name": "stderr",
     "output_type": "stream",
     "text": [
      " 94%|██████████████████████████████████████████████████████████████████████████▋    | 945/1000 [14:34<00:45,  1.20it/s]"
     ]
    },
    {
     "name": "stdout",
     "output_type": "stream",
     "text": [
      "https://books.toscrape.com/catalogue/skip-beat-vol-01-skip-beat-1_55/index.html\n"
     ]
    },
    {
     "name": "stderr",
     "output_type": "stream",
     "text": [
      " 95%|██████████████████████████████████████████████████████████████████████████▋    | 946/1000 [14:35<00:45,  1.19it/s]"
     ]
    },
    {
     "name": "stdout",
     "output_type": "stream",
     "text": [
      "https://books.toscrape.com/catalogue/sister-sable-the-mad-queen-1_54/index.html\n"
     ]
    },
    {
     "name": "stderr",
     "output_type": "stream",
     "text": [
      " 95%|██████████████████████████████████████████████████████████████████████████▊    | 947/1000 [14:36<00:44,  1.19it/s]"
     ]
    },
    {
     "name": "stdout",
     "output_type": "stream",
     "text": [
      "https://books.toscrape.com/catalogue/shatter-me-shatter-me-1_53/index.html\n"
     ]
    },
    {
     "name": "stderr",
     "output_type": "stream",
     "text": [
      " 95%|██████████████████████████████████████████████████████████████████████████▉    | 948/1000 [14:36<00:43,  1.19it/s]"
     ]
    },
    {
     "name": "stdout",
     "output_type": "stream",
     "text": [
      "https://books.toscrape.com/catalogue/shameless_52/index.html\n"
     ]
    },
    {
     "name": "stderr",
     "output_type": "stream",
     "text": [
      " 95%|██████████████████████████████████████████████████████████████████████████▉    | 949/1000 [14:37<00:42,  1.19it/s]"
     ]
    },
    {
     "name": "stdout",
     "output_type": "stream",
     "text": [
      "https://books.toscrape.com/catalogue/shadow-rites-jane-yellowrock-10_51/index.html\n"
     ]
    },
    {
     "name": "stderr",
     "output_type": "stream",
     "text": [
      " 95%|███████████████████████████████████████████████████████████████████████████    | 950/1000 [14:38<00:41,  1.21it/s]"
     ]
    },
    {
     "name": "stdout",
     "output_type": "stream",
     "text": [
      "https://books.toscrape.com/catalogue/settling-the-score-the-summer-games-1_50/index.html\n"
     ]
    },
    {
     "name": "stderr",
     "output_type": "stream",
     "text": [
      " 95%|███████████████████████████████████████████████████████████████████████████▏   | 951/1000 [14:39<00:39,  1.23it/s]"
     ]
    },
    {
     "name": "stdout",
     "output_type": "stream",
     "text": [
      "https://books.toscrape.com/catalogue/sense-and-sensibility_49/index.html\n"
     ]
    },
    {
     "name": "stderr",
     "output_type": "stream",
     "text": [
      " 95%|███████████████████████████████████████████████████████████████████████████▏   | 952/1000 [14:40<00:38,  1.23it/s]"
     ]
    },
    {
     "name": "stdout",
     "output_type": "stream",
     "text": [
      "https://books.toscrape.com/catalogue/saga-volume-1-saga-collected-editions-1_48/index.html\n"
     ]
    },
    {
     "name": "stderr",
     "output_type": "stream",
     "text": [
      " 95%|███████████████████████████████████████████████████████████████████████████▎   | 953/1000 [14:40<00:38,  1.21it/s]"
     ]
    },
    {
     "name": "stdout",
     "output_type": "stream",
     "text": [
      "https://books.toscrape.com/catalogue/rhythm-chord-malykhin_47/index.html\n"
     ]
    },
    {
     "name": "stderr",
     "output_type": "stream",
     "text": [
      " 95%|███████████████████████████████████████████████████████████████████████████▎   | 954/1000 [14:41<00:37,  1.23it/s]"
     ]
    },
    {
     "name": "stdout",
     "output_type": "stream",
     "text": [
      "https://books.toscrape.com/catalogue/rat-queens-vol-1-sass-sorcery-rat-queens-collected-editions-1-5_46/index.html\n"
     ]
    },
    {
     "name": "stderr",
     "output_type": "stream",
     "text": [
      " 96%|███████████████████████████████████████████████████████████████████████████▍   | 955/1000 [14:42<00:36,  1.22it/s]"
     ]
    },
    {
     "name": "stdout",
     "output_type": "stream",
     "text": [
      "https://books.toscrape.com/catalogue/paradise-lost-paradise-1_45/index.html\n"
     ]
    },
    {
     "name": "stderr",
     "output_type": "stream",
     "text": [
      " 96%|███████████████████████████████████████████████████████████████████████████▌   | 956/1000 [14:43<00:35,  1.22it/s]"
     ]
    },
    {
     "name": "stdout",
     "output_type": "stream",
     "text": [
      "https://books.toscrape.com/catalogue/paper-girls-vol-1-paper-girls-1-5_44/index.html\n"
     ]
    },
    {
     "name": "stderr",
     "output_type": "stream",
     "text": [
      " 96%|███████████████████████████████████████████████████████████████████████████▌   | 957/1000 [14:44<00:39,  1.09it/s]"
     ]
    },
    {
     "name": "stdout",
     "output_type": "stream",
     "text": [
      "https://books.toscrape.com/catalogue/ouran-high-school-host-club-vol-1-ouran-high-school-host-club-1_43/index.html\n"
     ]
    },
    {
     "name": "stderr",
     "output_type": "stream",
     "text": [
      " 96%|███████████████████████████████████████████████████████████████████████████▋   | 958/1000 [14:45<00:41,  1.02it/s]"
     ]
    },
    {
     "name": "stdout",
     "output_type": "stream",
     "text": [
      "https://books.toscrape.com/catalogue/origins-alphas-05_42/index.html\n"
     ]
    },
    {
     "name": "stderr",
     "output_type": "stream",
     "text": [
      " 96%|███████████████████████████████████████████████████████████████████████████▊   | 959/1000 [14:46<00:39,  1.04it/s]"
     ]
    },
    {
     "name": "stdout",
     "output_type": "stream",
     "text": [
      "https://books.toscrape.com/catalogue/one-second-seven-7_41/index.html\n"
     ]
    },
    {
     "name": "stderr",
     "output_type": "stream",
     "text": [
      " 96%|███████████████████████████████████████████████████████████████████████████▊   | 960/1000 [14:47<00:38,  1.05it/s]"
     ]
    },
    {
     "name": "stdout",
     "output_type": "stream",
     "text": [
      "https://books.toscrape.com/catalogue/on-the-road-duluoz-legend_40/index.html\n"
     ]
    },
    {
     "name": "stderr",
     "output_type": "stream",
     "text": [
      " 96%|███████████████████████████████████████████████████████████████████████████▉   | 961/1000 [14:48<00:36,  1.07it/s]"
     ]
    },
    {
     "name": "stdout",
     "output_type": "stream",
     "text": [
      "https://books.toscrape.com/catalogue/old-records-never-die-one-mans-quest-for-his-vinyl-and-his-past_39/index.html\n"
     ]
    },
    {
     "name": "stderr",
     "output_type": "stream",
     "text": [
      " 96%|███████████████████████████████████████████████████████████████████████████▉   | 962/1000 [14:49<00:35,  1.07it/s]"
     ]
    },
    {
     "name": "stdout",
     "output_type": "stream",
     "text": [
      "https://books.toscrape.com/catalogue/off-sides-off-1_38/index.html\n"
     ]
    },
    {
     "name": "stderr",
     "output_type": "stream",
     "text": [
      " 96%|████████████████████████████████████████████████████████████████████████████   | 963/1000 [14:50<00:34,  1.07it/s]"
     ]
    },
    {
     "name": "stdout",
     "output_type": "stream",
     "text": [
      "https://books.toscrape.com/catalogue/of-mice-and-men_37/index.html\n"
     ]
    },
    {
     "name": "stderr",
     "output_type": "stream",
     "text": [
      " 96%|████████████████████████████████████████████████████████████████████████████▏  | 964/1000 [14:51<00:33,  1.08it/s]"
     ]
    },
    {
     "name": "stdout",
     "output_type": "stream",
     "text": [
      "https://books.toscrape.com/catalogue/myriad-prentor-1_36/index.html\n"
     ]
    },
    {
     "name": "stderr",
     "output_type": "stream",
     "text": [
      " 96%|████████████████████████████████████████████████████████████████████████████▏  | 965/1000 [14:52<00:32,  1.08it/s]"
     ]
    },
    {
     "name": "stdout",
     "output_type": "stream",
     "text": [
      "https://books.toscrape.com/catalogue/my-perfect-mistake-over-the-top-1_35/index.html\n"
     ]
    },
    {
     "name": "stderr",
     "output_type": "stream",
     "text": [
      " 97%|████████████████████████████████████████████████████████████████████████████▎  | 966/1000 [14:53<00:31,  1.08it/s]"
     ]
    },
    {
     "name": "stdout",
     "output_type": "stream",
     "text": [
      "https://books.toscrape.com/catalogue/ms-marvel-vol-1-no-normal-ms-marvel-2014-2015-1_34/index.html\n"
     ]
    },
    {
     "name": "stderr",
     "output_type": "stream",
     "text": [
      " 97%|████████████████████████████████████████████████████████████████████████████▍  | 967/1000 [14:54<00:30,  1.08it/s]"
     ]
    },
    {
     "name": "stdout",
     "output_type": "stream",
     "text": [
      "https://books.toscrape.com/catalogue/meditations_33/index.html\n"
     ]
    },
    {
     "name": "stderr",
     "output_type": "stream",
     "text": [
      " 97%|████████████████████████████████████████████████████████████████████████████▍  | 968/1000 [14:54<00:29,  1.08it/s]"
     ]
    },
    {
     "name": "stdout",
     "output_type": "stream",
     "text": [
      "https://books.toscrape.com/catalogue/matilda_32/index.html\n"
     ]
    },
    {
     "name": "stderr",
     "output_type": "stream",
     "text": [
      " 97%|████████████████████████████████████████████████████████████████████████████▌  | 969/1000 [14:55<00:28,  1.09it/s]"
     ]
    },
    {
     "name": "stdout",
     "output_type": "stream",
     "text": [
      "https://books.toscrape.com/catalogue/lost-among-the-living_31/index.html\n"
     ]
    },
    {
     "name": "stderr",
     "output_type": "stream",
     "text": [
      " 97%|████████████████████████████████████████████████████████████████████████████▋  | 970/1000 [14:56<00:27,  1.09it/s]"
     ]
    },
    {
     "name": "stdout",
     "output_type": "stream",
     "text": [
      "https://books.toscrape.com/catalogue/lord-of-the-flies_30/index.html\n"
     ]
    },
    {
     "name": "stderr",
     "output_type": "stream",
     "text": [
      " 97%|████████████████████████████████████████████████████████████████████████████▋  | 971/1000 [14:57<00:26,  1.09it/s]"
     ]
    },
    {
     "name": "stdout",
     "output_type": "stream",
     "text": [
      "https://books.toscrape.com/catalogue/listen-to-me-fusion-1_29/index.html\n"
     ]
    },
    {
     "name": "stderr",
     "output_type": "stream",
     "text": [
      " 97%|████████████████████████████████████████████████████████████████████████████▊  | 972/1000 [14:58<00:25,  1.08it/s]"
     ]
    },
    {
     "name": "stdout",
     "output_type": "stream",
     "text": [
      "https://books.toscrape.com/catalogue/kitchens-of-the-great-midwest_28/index.html\n"
     ]
    },
    {
     "name": "stderr",
     "output_type": "stream",
     "text": [
      " 97%|████████████████████████████████████████████████████████████████████████████▊  | 973/1000 [14:59<00:27,  1.01s/it]"
     ]
    },
    {
     "name": "stdout",
     "output_type": "stream",
     "text": [
      "https://books.toscrape.com/catalogue/jane-eyre_27/index.html\n"
     ]
    },
    {
     "name": "stderr",
     "output_type": "stream",
     "text": [
      " 97%|████████████████████████████████████████████████████████████████████████████▉  | 974/1000 [15:00<00:25,  1.02it/s]"
     ]
    },
    {
     "name": "stdout",
     "output_type": "stream",
     "text": [
      "https://books.toscrape.com/catalogue/imperfect-harmony_26/index.html\n"
     ]
    },
    {
     "name": "stderr",
     "output_type": "stream",
     "text": [
      " 98%|█████████████████████████████████████████████████████████████████████████████  | 975/1000 [15:01<00:23,  1.04it/s]"
     ]
    },
    {
     "name": "stdout",
     "output_type": "stream",
     "text": [
      "https://books.toscrape.com/catalogue/icing-aces-hockey-2_25/index.html\n"
     ]
    },
    {
     "name": "stderr",
     "output_type": "stream",
     "text": [
      " 98%|█████████████████████████████████████████████████████████████████████████████  | 976/1000 [15:02<00:22,  1.05it/s]"
     ]
    },
    {
     "name": "stdout",
     "output_type": "stream",
     "text": [
      "https://books.toscrape.com/catalogue/hawkeye-vol-1-my-life-as-a-weapon-hawkeye-1_24/index.html\n"
     ]
    },
    {
     "name": "stderr",
     "output_type": "stream",
     "text": [
      " 98%|█████████████████████████████████████████████████████████████████████████████▏ | 977/1000 [15:03<00:21,  1.06it/s]"
     ]
    },
    {
     "name": "stdout",
     "output_type": "stream",
     "text": [
      "https://books.toscrape.com/catalogue/having-the-barbarians-baby-ice-planet-barbarians-75_23/index.html\n"
     ]
    },
    {
     "name": "stderr",
     "output_type": "stream",
     "text": [
      " 98%|█████████████████████████████████████████████████████████████████████████████▎ | 978/1000 [15:04<00:20,  1.06it/s]"
     ]
    },
    {
     "name": "stdout",
     "output_type": "stream",
     "text": [
      "https://books.toscrape.com/catalogue/giant-days-vol-1-giant-days-1-4_22/index.html\n"
     ]
    },
    {
     "name": "stderr",
     "output_type": "stream",
     "text": [
      " 98%|█████████████████████████████████████████████████████████████████████████████▎ | 979/1000 [15:05<00:19,  1.07it/s]"
     ]
    },
    {
     "name": "stdout",
     "output_type": "stream",
     "text": [
      "https://books.toscrape.com/catalogue/fruits-basket-vol-1-fruits-basket-1_21/index.html\n"
     ]
    },
    {
     "name": "stderr",
     "output_type": "stream",
     "text": [
      " 98%|█████████████████████████████████████████████████████████████████████████████▍ | 980/1000 [15:06<00:18,  1.07it/s]"
     ]
    },
    {
     "name": "stdout",
     "output_type": "stream",
     "text": [
      "https://books.toscrape.com/catalogue/frankenstein_20/index.html\n"
     ]
    },
    {
     "name": "stderr",
     "output_type": "stream",
     "text": [
      " 98%|█████████████████████████████████████████████████████████████████████████████▍ | 981/1000 [15:07<00:17,  1.08it/s]"
     ]
    },
    {
     "name": "stdout",
     "output_type": "stream",
     "text": [
      "https://books.toscrape.com/catalogue/forever-rockers-the-rocker-12_19/index.html\n"
     ]
    },
    {
     "name": "stderr",
     "output_type": "stream",
     "text": [
      " 98%|█████████████████████████████████████████████████████████████████████████████▌ | 982/1000 [15:08<00:16,  1.08it/s]"
     ]
    },
    {
     "name": "stdout",
     "output_type": "stream",
     "text": [
      "https://books.toscrape.com/catalogue/fighting-fate-fighting-6_18/index.html\n"
     ]
    },
    {
     "name": "stderr",
     "output_type": "stream",
     "text": [
      " 98%|█████████████████████████████████████████████████████████████████████████████▋ | 983/1000 [15:09<00:15,  1.08it/s]"
     ]
    },
    {
     "name": "stdout",
     "output_type": "stream",
     "text": [
      "https://books.toscrape.com/catalogue/emma_17/index.html\n"
     ]
    },
    {
     "name": "stderr",
     "output_type": "stream",
     "text": [
      " 98%|█████████████████████████████████████████████████████████████████████████████▋ | 984/1000 [15:09<00:14,  1.10it/s]"
     ]
    },
    {
     "name": "stdout",
     "output_type": "stream",
     "text": [
      "https://books.toscrape.com/catalogue/eat-pray-love_16/index.html\n"
     ]
    },
    {
     "name": "stderr",
     "output_type": "stream",
     "text": [
      " 98%|█████████████████████████████████████████████████████████████████████████████▊ | 985/1000 [15:10<00:13,  1.08it/s]"
     ]
    },
    {
     "name": "stdout",
     "output_type": "stream",
     "text": [
      "https://books.toscrape.com/catalogue/deep-under-walker-security-1_15/index.html\n"
     ]
    },
    {
     "name": "stderr",
     "output_type": "stream",
     "text": [
      " 99%|█████████████████████████████████████████████████████████████████████████████▉ | 986/1000 [15:11<00:12,  1.08it/s]"
     ]
    },
    {
     "name": "stdout",
     "output_type": "stream",
     "text": [
      "https://books.toscrape.com/catalogue/choosing-our-religion-the-spiritual-lives-of-americas-nones_14/index.html\n"
     ]
    },
    {
     "name": "stderr",
     "output_type": "stream",
     "text": [
      " 99%|█████████████████████████████████████████████████████████████████████████████▉ | 987/1000 [15:13<00:13,  1.01s/it]"
     ]
    },
    {
     "name": "stdout",
     "output_type": "stream",
     "text": [
      "https://books.toscrape.com/catalogue/charlie-and-the-chocolate-factory-charlie-bucket-1_13/index.html\n"
     ]
    },
    {
     "name": "stderr",
     "output_type": "stream",
     "text": [
      " 99%|██████████████████████████████████████████████████████████████████████████████ | 988/1000 [15:13<00:11,  1.01it/s]"
     ]
    },
    {
     "name": "stdout",
     "output_type": "stream",
     "text": [
      "https://books.toscrape.com/catalogue/charitys-cross-charles-towne-belles-4_12/index.html\n"
     ]
    },
    {
     "name": "stderr",
     "output_type": "stream",
     "text": [
      " 99%|██████████████████████████████████████████████████████████████████████████████▏| 989/1000 [15:15<00:11,  1.03s/it]"
     ]
    },
    {
     "name": "stdout",
     "output_type": "stream",
     "text": [
      "https://books.toscrape.com/catalogue/bright-lines_11/index.html\n"
     ]
    },
    {
     "name": "stderr",
     "output_type": "stream",
     "text": [
      " 99%|██████████████████████████████████████████████████████████████████████████████▏| 990/1000 [15:16<00:10,  1.00s/it]"
     ]
    },
    {
     "name": "stdout",
     "output_type": "stream",
     "text": [
      "https://books.toscrape.com/catalogue/bridget-joness-diary-bridget-jones-1_10/index.html\n"
     ]
    },
    {
     "name": "stderr",
     "output_type": "stream",
     "text": [
      " 99%|██████████████████████████████████████████████████████████████████████████████▎| 991/1000 [15:16<00:08,  1.03it/s]"
     ]
    },
    {
     "name": "stdout",
     "output_type": "stream",
     "text": [
      "https://books.toscrape.com/catalogue/bounty-colorado-mountain-7_9/index.html\n"
     ]
    },
    {
     "name": "stderr",
     "output_type": "stream",
     "text": [
      " 99%|██████████████████████████████████████████████████████████████████████████████▎| 992/1000 [15:17<00:07,  1.04it/s]"
     ]
    },
    {
     "name": "stdout",
     "output_type": "stream",
     "text": [
      "https://books.toscrape.com/catalogue/blood-defense-samantha-brinkman-1_8/index.html\n"
     ]
    },
    {
     "name": "stderr",
     "output_type": "stream",
     "text": [
      " 99%|██████████████████████████████████████████████████████████████████████████████▍| 993/1000 [15:18<00:06,  1.07it/s]"
     ]
    },
    {
     "name": "stdout",
     "output_type": "stream",
     "text": [
      "https://books.toscrape.com/catalogue/bleach-vol-1-strawberry-and-the-soul-reapers-bleach-1_7/index.html\n"
     ]
    },
    {
     "name": "stderr",
     "output_type": "stream",
     "text": [
      " 99%|██████████████████████████████████████████████████████████████████████████████▌| 994/1000 [15:19<00:05,  1.10it/s]"
     ]
    },
    {
     "name": "stdout",
     "output_type": "stream",
     "text": [
      "https://books.toscrape.com/catalogue/beyond-good-and-evil_6/index.html\n"
     ]
    },
    {
     "name": "stderr",
     "output_type": "stream",
     "text": [
      "100%|██████████████████████████████████████████████████████████████████████████████▌| 995/1000 [15:20<00:04,  1.10it/s]"
     ]
    },
    {
     "name": "stdout",
     "output_type": "stream",
     "text": [
      "https://books.toscrape.com/catalogue/alice-in-wonderland-alices-adventures-in-wonderland-1_5/index.html\n"
     ]
    },
    {
     "name": "stderr",
     "output_type": "stream",
     "text": [
      "100%|██████████████████████████████████████████████████████████████████████████████▋| 996/1000 [15:21<00:03,  1.09it/s]"
     ]
    },
    {
     "name": "stdout",
     "output_type": "stream",
     "text": [
      "https://books.toscrape.com/catalogue/ajin-demi-human-volume-1-ajin-demi-human-1_4/index.html\n"
     ]
    },
    {
     "name": "stderr",
     "output_type": "stream",
     "text": [
      "100%|██████████████████████████████████████████████████████████████████████████████▊| 997/1000 [15:22<00:02,  1.09it/s]"
     ]
    },
    {
     "name": "stdout",
     "output_type": "stream",
     "text": [
      "https://books.toscrape.com/catalogue/a-spys-devotion-the-regency-spies-of-london-1_3/index.html\n"
     ]
    },
    {
     "name": "stderr",
     "output_type": "stream",
     "text": [
      "100%|██████████████████████████████████████████████████████████████████████████████▊| 998/1000 [15:23<00:01,  1.02it/s]"
     ]
    },
    {
     "name": "stdout",
     "output_type": "stream",
     "text": [
      "https://books.toscrape.com/catalogue/1st-to-die-womens-murder-club-1_2/index.html\n"
     ]
    },
    {
     "name": "stderr",
     "output_type": "stream",
     "text": [
      "100%|██████████████████████████████████████████████████████████████████████████████▉| 999/1000 [15:24<00:01,  1.05s/it]"
     ]
    },
    {
     "name": "stdout",
     "output_type": "stream",
     "text": [
      "https://books.toscrape.com/catalogue/1000-places-to-see-before-you-die_1/index.html\n"
     ]
    },
    {
     "name": "stderr",
     "output_type": "stream",
     "text": [
      "100%|██████████████████████████████████████████████████████████████████████████████| 1000/1000 [15:25<00:00,  1.08it/s]\n"
     ]
    }
   ],
   "source": [
    "data = []\n",
    "for link in tqdm(df[\"book_link\"]):\n",
    "    print(link)\n",
    "    res = requests.get(link)\n",
    "    soup = BeautifulSoup(res.text, \"html.parser\")\n",
    "    book_type = soup.find(\"ul\", class_ = \"breadcrumb\").find_all(\"a\")[2].text\n",
    "\n",
    "    upc     = soup.find(\"table\", class_= \"table table-striped\").find_all(\"td\")[0].text\n",
    "    price_x = soup.find(\"table\", class_= \"table table-striped\").find_all(\"td\")[2].text[1:]\n",
    "    price_i = soup.find(\"table\", class_= \"table table-striped\").find_all(\"td\")[3].text[1:]\n",
    "    tax     = soup.find(\"table\", class_= \"table table-striped\").find_all(\"td\")[4].text[1:]\n",
    "    qn      = soup.find(\"table\", class_= \"table table-striped\").find_all(\"td\")[5].text\n",
    "    reviews = soup.find(\"table\", class_= \"table table-striped\").find_all(\"td\")[6].text\n",
    "\n",
    "    data.append([book_type, upc, price_x, price_i, tax, qn, reviews])"
   ]
  },
  {
   "cell_type": "code",
   "execution_count": 71,
   "id": "2957a772-ef28-49ef-a534-133bac503b7a",
   "metadata": {},
   "outputs": [
    {
     "data": {
      "text/plain": [
       "1000"
      ]
     },
     "execution_count": 71,
     "metadata": {},
     "output_type": "execute_result"
    }
   ],
   "source": [
    "len(data)"
   ]
  },
  {
   "cell_type": "markdown",
   "id": "5fea0a70-c2bd-41e3-ae06-47fce778f9d3",
   "metadata": {},
   "source": [
    "# Approach : 2"
   ]
  },
  {
   "cell_type": "code",
   "execution_count": 89,
   "id": "51d1448a-ff04-43ec-bfa8-bc8fc6305788",
   "metadata": {
    "scrolled": true
   },
   "outputs": [
    {
     "name": "stderr",
     "output_type": "stream",
     "text": [
      "  0%|                                                                                         | 0/1000 [00:00<?, ?it/s]"
     ]
    },
    {
     "name": "stdout",
     "output_type": "stream",
     "text": [
      "https://books.toscrape.com/catalogue/a-light-in-the-attic_1000/index.html\n"
     ]
    },
    {
     "name": "stderr",
     "output_type": "stream",
     "text": [
      "  0%|                                                                                 | 1/1000 [00:00<13:26,  1.24it/s]"
     ]
    },
    {
     "name": "stdout",
     "output_type": "stream",
     "text": [
      "https://books.toscrape.com/catalogue/tipping-the-velvet_999/index.html\n"
     ]
    },
    {
     "name": "stderr",
     "output_type": "stream",
     "text": [
      "  0%|▏                                                                                | 2/1000 [00:01<13:53,  1.20it/s]"
     ]
    },
    {
     "name": "stdout",
     "output_type": "stream",
     "text": [
      "https://books.toscrape.com/catalogue/soumission_998/index.html\n"
     ]
    },
    {
     "name": "stderr",
     "output_type": "stream",
     "text": [
      "  0%|▏                                                                                | 3/1000 [00:02<14:44,  1.13it/s]"
     ]
    },
    {
     "name": "stdout",
     "output_type": "stream",
     "text": [
      "https://books.toscrape.com/catalogue/sharp-objects_997/index.html\n"
     ]
    },
    {
     "name": "stderr",
     "output_type": "stream",
     "text": [
      "  0%|▎                                                                                | 4/1000 [00:03<14:11,  1.17it/s]"
     ]
    },
    {
     "name": "stdout",
     "output_type": "stream",
     "text": [
      "https://books.toscrape.com/catalogue/sapiens-a-brief-history-of-humankind_996/index.html\n"
     ]
    },
    {
     "name": "stderr",
     "output_type": "stream",
     "text": [
      "  0%|▍                                                                                | 5/1000 [00:04<15:21,  1.08it/s]"
     ]
    },
    {
     "name": "stdout",
     "output_type": "stream",
     "text": [
      "https://books.toscrape.com/catalogue/the-requiem-red_995/index.html\n"
     ]
    },
    {
     "name": "stderr",
     "output_type": "stream",
     "text": [
      "  1%|▍                                                                                | 6/1000 [00:05<14:30,  1.14it/s]"
     ]
    },
    {
     "name": "stdout",
     "output_type": "stream",
     "text": [
      "https://books.toscrape.com/catalogue/the-dirty-little-secrets-of-getting-your-dream-job_994/index.html\n"
     ]
    },
    {
     "name": "stderr",
     "output_type": "stream",
     "text": [
      "  1%|▌                                                                                | 7/1000 [00:06<14:34,  1.14it/s]"
     ]
    },
    {
     "name": "stdout",
     "output_type": "stream",
     "text": [
      "https://books.toscrape.com/catalogue/the-coming-woman-a-novel-based-on-the-life-of-the-infamous-feminist-victoria-woodhull_993/index.html\n"
     ]
    },
    {
     "name": "stderr",
     "output_type": "stream",
     "text": [
      "  1%|▋                                                                                | 8/1000 [00:06<14:08,  1.17it/s]"
     ]
    },
    {
     "name": "stdout",
     "output_type": "stream",
     "text": [
      "https://books.toscrape.com/catalogue/the-boys-in-the-boat-nine-americans-and-their-epic-quest-for-gold-at-the-1936-berlin-olympics_992/index.html\n"
     ]
    },
    {
     "name": "stderr",
     "output_type": "stream",
     "text": [
      "  1%|▋                                                                                | 9/1000 [00:08<15:31,  1.06it/s]"
     ]
    },
    {
     "name": "stdout",
     "output_type": "stream",
     "text": [
      "https://books.toscrape.com/catalogue/the-black-maria_991/index.html\n"
     ]
    },
    {
     "name": "stderr",
     "output_type": "stream",
     "text": [
      "  1%|▊                                                                               | 10/1000 [00:08<14:48,  1.11it/s]"
     ]
    },
    {
     "name": "stdout",
     "output_type": "stream",
     "text": [
      "https://books.toscrape.com/catalogue/starving-hearts-triangular-trade-trilogy-1_990/index.html\n"
     ]
    },
    {
     "name": "stderr",
     "output_type": "stream",
     "text": [
      "  1%|▉                                                                               | 11/1000 [00:09<14:27,  1.14it/s]"
     ]
    },
    {
     "name": "stdout",
     "output_type": "stream",
     "text": [
      "https://books.toscrape.com/catalogue/shakespeares-sonnets_989/index.html\n"
     ]
    },
    {
     "name": "stderr",
     "output_type": "stream",
     "text": [
      "  1%|▉                                                                               | 12/1000 [00:10<13:53,  1.19it/s]"
     ]
    },
    {
     "name": "stdout",
     "output_type": "stream",
     "text": [
      "https://books.toscrape.com/catalogue/set-me-free_988/index.html\n"
     ]
    },
    {
     "name": "stderr",
     "output_type": "stream",
     "text": [
      "  1%|█                                                                               | 13/1000 [00:11<13:50,  1.19it/s]"
     ]
    },
    {
     "name": "stdout",
     "output_type": "stream",
     "text": [
      "https://books.toscrape.com/catalogue/scott-pilgrims-precious-little-life-scott-pilgrim-1_987/index.html\n"
     ]
    },
    {
     "name": "stderr",
     "output_type": "stream",
     "text": [
      "  1%|█                                                                               | 14/1000 [00:12<13:38,  1.20it/s]"
     ]
    },
    {
     "name": "stdout",
     "output_type": "stream",
     "text": [
      "https://books.toscrape.com/catalogue/rip-it-up-and-start-again_986/index.html\n"
     ]
    },
    {
     "name": "stderr",
     "output_type": "stream",
     "text": [
      "  2%|█▏                                                                              | 15/1000 [00:12<13:35,  1.21it/s]"
     ]
    },
    {
     "name": "stdout",
     "output_type": "stream",
     "text": [
      "https://books.toscrape.com/catalogue/our-band-could-be-your-life-scenes-from-the-american-indie-underground-1981-1991_985/index.html\n"
     ]
    },
    {
     "name": "stderr",
     "output_type": "stream",
     "text": [
      "  2%|█▎                                                                              | 16/1000 [00:13<13:21,  1.23it/s]"
     ]
    },
    {
     "name": "stdout",
     "output_type": "stream",
     "text": [
      "https://books.toscrape.com/catalogue/olio_984/index.html\n"
     ]
    },
    {
     "name": "stderr",
     "output_type": "stream",
     "text": [
      "  2%|█▎                                                                              | 17/1000 [00:14<13:16,  1.23it/s]"
     ]
    },
    {
     "name": "stdout",
     "output_type": "stream",
     "text": [
      "https://books.toscrape.com/catalogue/mesaerion-the-best-science-fiction-stories-1800-1849_983/index.html\n"
     ]
    },
    {
     "name": "stderr",
     "output_type": "stream",
     "text": [
      "  2%|█▍                                                                              | 18/1000 [00:15<13:34,  1.21it/s]"
     ]
    },
    {
     "name": "stdout",
     "output_type": "stream",
     "text": [
      "https://books.toscrape.com/catalogue/libertarianism-for-beginners_982/index.html\n"
     ]
    },
    {
     "name": "stderr",
     "output_type": "stream",
     "text": [
      "  2%|█▌                                                                              | 19/1000 [00:16<13:33,  1.21it/s]"
     ]
    },
    {
     "name": "stdout",
     "output_type": "stream",
     "text": [
      "https://books.toscrape.com/catalogue/its-only-the-himalayas_981/index.html\n"
     ]
    },
    {
     "name": "stderr",
     "output_type": "stream",
     "text": [
      "  2%|█▌                                                                              | 20/1000 [00:16<13:18,  1.23it/s]"
     ]
    },
    {
     "name": "stdout",
     "output_type": "stream",
     "text": [
      "https://books.toscrape.com/catalogue/in-her-wake_980/index.html\n"
     ]
    },
    {
     "name": "stderr",
     "output_type": "stream",
     "text": [
      "  2%|█▋                                                                              | 21/1000 [00:17<13:25,  1.21it/s]"
     ]
    },
    {
     "name": "stdout",
     "output_type": "stream",
     "text": [
      "https://books.toscrape.com/catalogue/how-music-works_979/index.html\n"
     ]
    },
    {
     "name": "stderr",
     "output_type": "stream",
     "text": [
      "  2%|█▊                                                                              | 22/1000 [00:18<13:21,  1.22it/s]"
     ]
    },
    {
     "name": "stdout",
     "output_type": "stream",
     "text": [
      "https://books.toscrape.com/catalogue/foolproof-preserving-a-guide-to-small-batch-jams-jellies-pickles-condiments-and-more-a-foolproof-guide-to-making-small-batch-jams-jellies-pickles-condiments-and-more_978/index.html\n"
     ]
    },
    {
     "name": "stderr",
     "output_type": "stream",
     "text": [
      "  2%|█▊                                                                              | 23/1000 [00:19<13:35,  1.20it/s]"
     ]
    },
    {
     "name": "stdout",
     "output_type": "stream",
     "text": [
      "https://books.toscrape.com/catalogue/chase-me-paris-nights-2_977/index.html\n"
     ]
    },
    {
     "name": "stderr",
     "output_type": "stream",
     "text": [
      "  2%|█▉                                                                              | 24/1000 [00:20<13:18,  1.22it/s]"
     ]
    },
    {
     "name": "stdout",
     "output_type": "stream",
     "text": [
      "https://books.toscrape.com/catalogue/black-dust_976/index.html\n"
     ]
    },
    {
     "name": "stderr",
     "output_type": "stream",
     "text": [
      "  2%|██                                                                              | 25/1000 [00:21<13:27,  1.21it/s]"
     ]
    },
    {
     "name": "stdout",
     "output_type": "stream",
     "text": [
      "https://books.toscrape.com/catalogue/birdsong-a-story-in-pictures_975/index.html\n"
     ]
    },
    {
     "name": "stderr",
     "output_type": "stream",
     "text": [
      "  3%|██                                                                              | 26/1000 [00:21<13:15,  1.23it/s]"
     ]
    },
    {
     "name": "stdout",
     "output_type": "stream",
     "text": [
      "https://books.toscrape.com/catalogue/americas-cradle-of-quarterbacks-western-pennsylvanias-football-factory-from-johnny-unitas-to-joe-montana_974/index.html\n"
     ]
    },
    {
     "name": "stderr",
     "output_type": "stream",
     "text": [
      "  3%|██▏                                                                             | 27/1000 [00:22<13:37,  1.19it/s]"
     ]
    },
    {
     "name": "stdout",
     "output_type": "stream",
     "text": [
      "https://books.toscrape.com/catalogue/aladdin-and-his-wonderful-lamp_973/index.html\n"
     ]
    },
    {
     "name": "stderr",
     "output_type": "stream",
     "text": [
      "  3%|██▏                                                                             | 28/1000 [00:23<13:55,  1.16it/s]"
     ]
    },
    {
     "name": "stdout",
     "output_type": "stream",
     "text": [
      "https://books.toscrape.com/catalogue/worlds-elsewhere-journeys-around-shakespeares-globe_972/index.html\n"
     ]
    },
    {
     "name": "stderr",
     "output_type": "stream",
     "text": [
      "  3%|██▎                                                                             | 29/1000 [00:24<14:55,  1.08it/s]"
     ]
    },
    {
     "name": "stdout",
     "output_type": "stream",
     "text": [
      "https://books.toscrape.com/catalogue/wall-and-piece_971/index.html\n"
     ]
    },
    {
     "name": "stderr",
     "output_type": "stream",
     "text": [
      "  3%|██▍                                                                             | 30/1000 [00:25<14:34,  1.11it/s]"
     ]
    },
    {
     "name": "stdout",
     "output_type": "stream",
     "text": [
      "https://books.toscrape.com/catalogue/the-four-agreements-a-practical-guide-to-personal-freedom_970/index.html\n"
     ]
    },
    {
     "name": "stderr",
     "output_type": "stream",
     "text": [
      "  3%|██▍                                                                             | 31/1000 [00:26<14:45,  1.09it/s]"
     ]
    },
    {
     "name": "stdout",
     "output_type": "stream",
     "text": [
      "https://books.toscrape.com/catalogue/the-five-love-languages-how-to-express-heartfelt-commitment-to-your-mate_969/index.html\n"
     ]
    },
    {
     "name": "stderr",
     "output_type": "stream",
     "text": [
      "  3%|██▌                                                                             | 32/1000 [00:27<14:23,  1.12it/s]"
     ]
    },
    {
     "name": "stdout",
     "output_type": "stream",
     "text": [
      "https://books.toscrape.com/catalogue/the-elephant-tree_968/index.html\n"
     ]
    },
    {
     "name": "stderr",
     "output_type": "stream",
     "text": [
      "  3%|██▋                                                                             | 33/1000 [00:28<13:47,  1.17it/s]"
     ]
    },
    {
     "name": "stdout",
     "output_type": "stream",
     "text": [
      "https://books.toscrape.com/catalogue/the-bear-and-the-piano_967/index.html\n"
     ]
    },
    {
     "name": "stderr",
     "output_type": "stream",
     "text": [
      "  3%|██▋                                                                             | 34/1000 [00:29<13:33,  1.19it/s]"
     ]
    },
    {
     "name": "stdout",
     "output_type": "stream",
     "text": [
      "https://books.toscrape.com/catalogue/sophies-world_966/index.html\n"
     ]
    },
    {
     "name": "stderr",
     "output_type": "stream",
     "text": [
      "  4%|██▊                                                                             | 35/1000 [00:29<13:26,  1.20it/s]"
     ]
    },
    {
     "name": "stdout",
     "output_type": "stream",
     "text": [
      "https://books.toscrape.com/catalogue/penny-maybe_965/index.html\n"
     ]
    },
    {
     "name": "stderr",
     "output_type": "stream",
     "text": [
      "  4%|██▉                                                                             | 36/1000 [00:30<13:41,  1.17it/s]"
     ]
    },
    {
     "name": "stdout",
     "output_type": "stream",
     "text": [
      "https://books.toscrape.com/catalogue/maude-1883-1993she-grew-up-with-the-country_964/index.html\n"
     ]
    },
    {
     "name": "stderr",
     "output_type": "stream",
     "text": [
      "  4%|██▉                                                                             | 37/1000 [00:31<13:25,  1.20it/s]"
     ]
    },
    {
     "name": "stdout",
     "output_type": "stream",
     "text": [
      "https://books.toscrape.com/catalogue/in-a-dark-dark-wood_963/index.html\n"
     ]
    },
    {
     "name": "stderr",
     "output_type": "stream",
     "text": [
      "  4%|███                                                                             | 38/1000 [00:32<13:18,  1.21it/s]"
     ]
    },
    {
     "name": "stdout",
     "output_type": "stream",
     "text": [
      "https://books.toscrape.com/catalogue/behind-closed-doors_962/index.html\n"
     ]
    },
    {
     "name": "stderr",
     "output_type": "stream",
     "text": [
      "  4%|███                                                                             | 39/1000 [00:33<13:24,  1.19it/s]"
     ]
    },
    {
     "name": "stdout",
     "output_type": "stream",
     "text": [
      "https://books.toscrape.com/catalogue/you-cant-bury-them-all-poems_961/index.html\n"
     ]
    },
    {
     "name": "stderr",
     "output_type": "stream",
     "text": [
      "  4%|███▏                                                                            | 40/1000 [00:34<13:31,  1.18it/s]"
     ]
    },
    {
     "name": "stdout",
     "output_type": "stream",
     "text": [
      "https://books.toscrape.com/catalogue/slow-states-of-collapse-poems_960/index.html\n"
     ]
    },
    {
     "name": "stderr",
     "output_type": "stream",
     "text": [
      "  4%|███▎                                                                            | 41/1000 [00:34<13:30,  1.18it/s]"
     ]
    },
    {
     "name": "stdout",
     "output_type": "stream",
     "text": [
      "https://books.toscrape.com/catalogue/reasons-to-stay-alive_959/index.html\n"
     ]
    },
    {
     "name": "stderr",
     "output_type": "stream",
     "text": [
      "  4%|███▎                                                                            | 42/1000 [00:35<13:31,  1.18it/s]"
     ]
    },
    {
     "name": "stdout",
     "output_type": "stream",
     "text": [
      "https://books.toscrape.com/catalogue/private-paris-private-10_958/index.html\n"
     ]
    },
    {
     "name": "stderr",
     "output_type": "stream",
     "text": [
      "  4%|███▍                                                                            | 43/1000 [00:36<13:24,  1.19it/s]"
     ]
    },
    {
     "name": "stdout",
     "output_type": "stream",
     "text": [
      "https://books.toscrape.com/catalogue/higherselfie-wake-up-your-life-free-your-soul-find-your-tribe_957/index.html\n"
     ]
    },
    {
     "name": "stderr",
     "output_type": "stream",
     "text": [
      "  4%|███▌                                                                            | 44/1000 [00:37<13:05,  1.22it/s]"
     ]
    },
    {
     "name": "stdout",
     "output_type": "stream",
     "text": [
      "https://books.toscrape.com/catalogue/without-borders-wanderlove-1_956/index.html\n"
     ]
    },
    {
     "name": "stderr",
     "output_type": "stream",
     "text": [
      "  4%|███▌                                                                            | 45/1000 [00:38<13:00,  1.22it/s]"
     ]
    },
    {
     "name": "stdout",
     "output_type": "stream",
     "text": [
      "https://books.toscrape.com/catalogue/when-we-collided_955/index.html\n"
     ]
    },
    {
     "name": "stderr",
     "output_type": "stream",
     "text": [
      "  5%|███▋                                                                            | 46/1000 [00:39<13:05,  1.21it/s]"
     ]
    },
    {
     "name": "stdout",
     "output_type": "stream",
     "text": [
      "https://books.toscrape.com/catalogue/we-love-you-charlie-freeman_954/index.html\n"
     ]
    },
    {
     "name": "stderr",
     "output_type": "stream",
     "text": [
      "  5%|███▊                                                                            | 47/1000 [00:39<13:04,  1.21it/s]"
     ]
    },
    {
     "name": "stdout",
     "output_type": "stream",
     "text": [
      "https://books.toscrape.com/catalogue/untitled-collection-sabbath-poems-2014_953/index.html\n"
     ]
    },
    {
     "name": "stderr",
     "output_type": "stream",
     "text": [
      "  5%|███▊                                                                            | 48/1000 [00:40<12:55,  1.23it/s]"
     ]
    },
    {
     "name": "stdout",
     "output_type": "stream",
     "text": [
      "https://books.toscrape.com/catalogue/unseen-city-the-majesty-of-pigeons-the-discreet-charm-of-snails-other-wonders-of-the-urban-wilderness_952/index.html\n"
     ]
    },
    {
     "name": "stderr",
     "output_type": "stream",
     "text": [
      "  5%|███▉                                                                            | 49/1000 [00:41<14:07,  1.12it/s]"
     ]
    },
    {
     "name": "stdout",
     "output_type": "stream",
     "text": [
      "https://books.toscrape.com/catalogue/unicorn-tracks_951/index.html\n"
     ]
    },
    {
     "name": "stderr",
     "output_type": "stream",
     "text": [
      "  5%|████                                                                            | 50/1000 [00:42<13:50,  1.14it/s]"
     ]
    },
    {
     "name": "stdout",
     "output_type": "stream",
     "text": [
      "https://books.toscrape.com/catalogue/unbound-how-eight-technologies-made-us-human-transformed-society-and-brought-our-world-to-the-brink_950/index.html\n"
     ]
    },
    {
     "name": "stderr",
     "output_type": "stream",
     "text": [
      "  5%|████                                                                            | 51/1000 [00:43<13:49,  1.14it/s]"
     ]
    },
    {
     "name": "stdout",
     "output_type": "stream",
     "text": [
      "https://books.toscrape.com/catalogue/tsubasa-world-chronicle-2-tsubasa-world-chronicle-2_949/index.html\n"
     ]
    },
    {
     "name": "stderr",
     "output_type": "stream",
     "text": [
      "  5%|████▏                                                                           | 52/1000 [00:44<13:24,  1.18it/s]"
     ]
    },
    {
     "name": "stdout",
     "output_type": "stream",
     "text": [
      "https://books.toscrape.com/catalogue/throwing-rocks-at-the-google-bus-how-growth-became-the-enemy-of-prosperity_948/index.html\n"
     ]
    },
    {
     "name": "stderr",
     "output_type": "stream",
     "text": [
      "  5%|████▏                                                                           | 53/1000 [00:45<13:19,  1.18it/s]"
     ]
    },
    {
     "name": "stdout",
     "output_type": "stream",
     "text": [
      "https://books.toscrape.com/catalogue/this-one-summer_947/index.html\n"
     ]
    },
    {
     "name": "stderr",
     "output_type": "stream",
     "text": [
      "  5%|████▎                                                                           | 54/1000 [00:45<13:15,  1.19it/s]"
     ]
    },
    {
     "name": "stdout",
     "output_type": "stream",
     "text": [
      "https://books.toscrape.com/catalogue/thirst_946/index.html\n"
     ]
    },
    {
     "name": "stderr",
     "output_type": "stream",
     "text": [
      "  6%|████▍                                                                           | 55/1000 [00:46<13:13,  1.19it/s]"
     ]
    },
    {
     "name": "stdout",
     "output_type": "stream",
     "text": [
      "https://books.toscrape.com/catalogue/the-torch-is-passed-a-harding-family-story_945/index.html\n"
     ]
    },
    {
     "name": "stderr",
     "output_type": "stream",
     "text": [
      "  6%|████▍                                                                           | 56/1000 [00:47<14:28,  1.09it/s]"
     ]
    },
    {
     "name": "stdout",
     "output_type": "stream",
     "text": [
      "https://books.toscrape.com/catalogue/the-secret-of-dreadwillow-carse_944/index.html\n"
     ]
    },
    {
     "name": "stderr",
     "output_type": "stream",
     "text": [
      "  6%|████▌                                                                           | 57/1000 [00:48<14:03,  1.12it/s]"
     ]
    },
    {
     "name": "stdout",
     "output_type": "stream",
     "text": [
      "https://books.toscrape.com/catalogue/the-pioneer-woman-cooks-dinnertime-comfort-classics-freezer-food-16-minute-meals-and-other-delicious-ways-to-solve-supper_943/index.html\n"
     ]
    },
    {
     "name": "stderr",
     "output_type": "stream",
     "text": [
      "  6%|████▋                                                                           | 58/1000 [00:49<15:00,  1.05it/s]"
     ]
    },
    {
     "name": "stdout",
     "output_type": "stream",
     "text": [
      "https://books.toscrape.com/catalogue/the-past-never-ends_942/index.html\n"
     ]
    },
    {
     "name": "stderr",
     "output_type": "stream",
     "text": [
      "  6%|████▋                                                                           | 59/1000 [00:50<14:15,  1.10it/s]"
     ]
    },
    {
     "name": "stdout",
     "output_type": "stream",
     "text": [
      "https://books.toscrape.com/catalogue/the-natural-history-of-us-the-fine-art-of-pretending-2_941/index.html\n"
     ]
    },
    {
     "name": "stderr",
     "output_type": "stream",
     "text": [
      "  6%|████▊                                                                           | 60/1000 [00:51<13:58,  1.12it/s]"
     ]
    },
    {
     "name": "stdout",
     "output_type": "stream",
     "text": [
      "https://books.toscrape.com/catalogue/the-nameless-city-the-nameless-city-1_940/index.html\n"
     ]
    },
    {
     "name": "stderr",
     "output_type": "stream",
     "text": [
      "  6%|████▉                                                                           | 61/1000 [00:52<13:35,  1.15it/s]"
     ]
    },
    {
     "name": "stdout",
     "output_type": "stream",
     "text": [
      "https://books.toscrape.com/catalogue/the-murder-that-never-was-forensic-instincts-5_939/index.html\n"
     ]
    },
    {
     "name": "stderr",
     "output_type": "stream",
     "text": [
      "  6%|████▉                                                                           | 62/1000 [00:53<13:39,  1.14it/s]"
     ]
    },
    {
     "name": "stdout",
     "output_type": "stream",
     "text": [
      "https://books.toscrape.com/catalogue/the-most-perfect-thing-inside-and-outside-a-birds-egg_938/index.html\n"
     ]
    },
    {
     "name": "stderr",
     "output_type": "stream",
     "text": [
      "  6%|█████                                                                           | 63/1000 [00:53<13:16,  1.18it/s]"
     ]
    },
    {
     "name": "stdout",
     "output_type": "stream",
     "text": [
      "https://books.toscrape.com/catalogue/the-mindfulness-and-acceptance-workbook-for-anxiety-a-guide-to-breaking-free-from-anxiety-phobias-and-worry-using-acceptance-and-commitment-therapy_937/index.html\n"
     ]
    },
    {
     "name": "stderr",
     "output_type": "stream",
     "text": [
      "  6%|█████                                                                           | 64/1000 [00:54<14:12,  1.10it/s]"
     ]
    },
    {
     "name": "stdout",
     "output_type": "stream",
     "text": [
      "https://books.toscrape.com/catalogue/the-life-changing-magic-of-tidying-up-the-japanese-art-of-decluttering-and-organizing_936/index.html\n"
     ]
    },
    {
     "name": "stderr",
     "output_type": "stream",
     "text": [
      "  6%|█████▏                                                                          | 65/1000 [00:55<13:39,  1.14it/s]"
     ]
    },
    {
     "name": "stdout",
     "output_type": "stream",
     "text": [
      "https://books.toscrape.com/catalogue/the-inefficiency-assassin-time-management-tactics-for-working-smarter-not-longer_935/index.html\n"
     ]
    },
    {
     "name": "stderr",
     "output_type": "stream",
     "text": [
      "  7%|█████▎                                                                          | 66/1000 [00:56<13:21,  1.17it/s]"
     ]
    },
    {
     "name": "stdout",
     "output_type": "stream",
     "text": [
      "https://books.toscrape.com/catalogue/the-gutsy-girl-escapades-for-your-life-of-epic-adventure_934/index.html\n"
     ]
    },
    {
     "name": "stderr",
     "output_type": "stream",
     "text": [
      "  7%|█████▎                                                                          | 67/1000 [00:57<14:20,  1.08it/s]"
     ]
    },
    {
     "name": "stdout",
     "output_type": "stream",
     "text": [
      "https://books.toscrape.com/catalogue/the-electric-pencil-drawings-from-inside-state-hospital-no-3_933/index.html\n"
     ]
    },
    {
     "name": "stderr",
     "output_type": "stream",
     "text": [
      "  7%|█████▍                                                                          | 68/1000 [00:58<14:04,  1.10it/s]"
     ]
    },
    {
     "name": "stdout",
     "output_type": "stream",
     "text": [
      "https://books.toscrape.com/catalogue/the-death-of-humanity-and-the-case-for-life_932/index.html\n"
     ]
    },
    {
     "name": "stderr",
     "output_type": "stream",
     "text": [
      "  7%|█████▌                                                                          | 69/1000 [00:59<13:31,  1.15it/s]"
     ]
    },
    {
     "name": "stdout",
     "output_type": "stream",
     "text": [
      "https://books.toscrape.com/catalogue/the-bulletproof-diet-lose-up-to-a-pound-a-day-reclaim-energy-and-focus-upgrade-your-life_931/index.html\n"
     ]
    },
    {
     "name": "stderr",
     "output_type": "stream",
     "text": [
      "  7%|█████▌                                                                          | 70/1000 [01:00<14:09,  1.10it/s]"
     ]
    },
    {
     "name": "stdout",
     "output_type": "stream",
     "text": [
      "https://books.toscrape.com/catalogue/the-art-forger_930/index.html\n"
     ]
    },
    {
     "name": "stderr",
     "output_type": "stream",
     "text": [
      "  7%|█████▋                                                                          | 71/1000 [01:01<13:59,  1.11it/s]"
     ]
    },
    {
     "name": "stdout",
     "output_type": "stream",
     "text": [
      "https://books.toscrape.com/catalogue/the-age-of-genius-the-seventeenth-century-and-the-birth-of-the-modern-mind_929/index.html\n"
     ]
    },
    {
     "name": "stderr",
     "output_type": "stream",
     "text": [
      "  7%|█████▊                                                                          | 72/1000 [01:02<13:48,  1.12it/s]"
     ]
    },
    {
     "name": "stdout",
     "output_type": "stream",
     "text": [
      "https://books.toscrape.com/catalogue/the-activists-tao-te-ching-ancient-advice-for-a-modern-revolution_928/index.html\n"
     ]
    },
    {
     "name": "stderr",
     "output_type": "stream",
     "text": [
      "  7%|█████▊                                                                          | 73/1000 [01:02<13:38,  1.13it/s]"
     ]
    },
    {
     "name": "stdout",
     "output_type": "stream",
     "text": [
      "https://books.toscrape.com/catalogue/spark-joy-an-illustrated-master-class-on-the-art-of-organizing-and-tidying-up_927/index.html\n"
     ]
    },
    {
     "name": "stderr",
     "output_type": "stream",
     "text": [
      "  7%|█████▉                                                                          | 74/1000 [01:03<13:36,  1.13it/s]"
     ]
    },
    {
     "name": "stdout",
     "output_type": "stream",
     "text": [
      "https://books.toscrape.com/catalogue/soul-reader_926/index.html\n"
     ]
    },
    {
     "name": "stderr",
     "output_type": "stream",
     "text": [
      "  8%|██████                                                                          | 75/1000 [01:04<13:32,  1.14it/s]"
     ]
    },
    {
     "name": "stdout",
     "output_type": "stream",
     "text": [
      "https://books.toscrape.com/catalogue/security_925/index.html\n"
     ]
    },
    {
     "name": "stderr",
     "output_type": "stream",
     "text": [
      "  8%|██████                                                                          | 76/1000 [01:05<13:26,  1.15it/s]"
     ]
    },
    {
     "name": "stdout",
     "output_type": "stream",
     "text": [
      "https://books.toscrape.com/catalogue/saga-volume-6-saga-collected-editions-6_924/index.html\n"
     ]
    },
    {
     "name": "stderr",
     "output_type": "stream",
     "text": [
      "  8%|██████▏                                                                         | 77/1000 [01:06<13:19,  1.15it/s]"
     ]
    },
    {
     "name": "stdout",
     "output_type": "stream",
     "text": [
      "https://books.toscrape.com/catalogue/saga-volume-5-saga-collected-editions-5_923/index.html\n"
     ]
    },
    {
     "name": "stderr",
     "output_type": "stream",
     "text": [
      "  8%|██████▏                                                                         | 78/1000 [01:07<13:01,  1.18it/s]"
     ]
    },
    {
     "name": "stdout",
     "output_type": "stream",
     "text": [
      "https://books.toscrape.com/catalogue/reskilling-america-learning-to-labor-in-the-twenty-first-century_922/index.html\n"
     ]
    },
    {
     "name": "stderr",
     "output_type": "stream",
     "text": [
      "  8%|██████▎                                                                         | 79/1000 [01:08<14:18,  1.07it/s]"
     ]
    },
    {
     "name": "stdout",
     "output_type": "stream",
     "text": [
      "https://books.toscrape.com/catalogue/rat-queens-vol-3-demons-rat-queens-collected-editions-11-15_921/index.html\n"
     ]
    },
    {
     "name": "stderr",
     "output_type": "stream",
     "text": [
      "  8%|██████▍                                                                         | 80/1000 [01:09<14:46,  1.04it/s]"
     ]
    },
    {
     "name": "stdout",
     "output_type": "stream",
     "text": [
      "https://books.toscrape.com/catalogue/princess-jellyfish-2-in-1-omnibus-vol-01-princess-jellyfish-2-in-1-omnibus-1_920/index.html\n"
     ]
    },
    {
     "name": "stderr",
     "output_type": "stream",
     "text": [
      "  8%|██████▍                                                                         | 81/1000 [01:10<13:57,  1.10it/s]"
     ]
    },
    {
     "name": "stdout",
     "output_type": "stream",
     "text": [
      "https://books.toscrape.com/catalogue/princess-between-worlds-wide-awake-princess-5_919/index.html\n"
     ]
    },
    {
     "name": "stderr",
     "output_type": "stream",
     "text": [
      "  8%|██████▌                                                                         | 82/1000 [01:10<13:41,  1.12it/s]"
     ]
    },
    {
     "name": "stdout",
     "output_type": "stream",
     "text": [
      "https://books.toscrape.com/catalogue/pop-gun-war-volume-1-gift_918/index.html\n"
     ]
    },
    {
     "name": "stderr",
     "output_type": "stream",
     "text": [
      "  8%|██████▋                                                                         | 83/1000 [01:11<13:32,  1.13it/s]"
     ]
    },
    {
     "name": "stdout",
     "output_type": "stream",
     "text": [
      "https://books.toscrape.com/catalogue/political-suicide-missteps-peccadilloes-bad-calls-backroom-hijinx-sordid-pasts-rotten-breaks-and-just-plain-dumb-mistakes-in-the-annals-of-american-politics_917/index.html\n"
     ]
    },
    {
     "name": "stderr",
     "output_type": "stream",
     "text": [
      "  8%|██████▋                                                                         | 84/1000 [01:12<13:05,  1.17it/s]"
     ]
    },
    {
     "name": "stdout",
     "output_type": "stream",
     "text": [
      "https://books.toscrape.com/catalogue/patience_916/index.html\n"
     ]
    },
    {
     "name": "stderr",
     "output_type": "stream",
     "text": [
      "  8%|██████▊                                                                         | 85/1000 [01:13<12:44,  1.20it/s]"
     ]
    },
    {
     "name": "stdout",
     "output_type": "stream",
     "text": [
      "https://books.toscrape.com/catalogue/outcast-vol-1-a-darkness-surrounds-him-outcast-1_915/index.html\n"
     ]
    },
    {
     "name": "stderr",
     "output_type": "stream",
     "text": [
      "  9%|██████▉                                                                         | 86/1000 [01:14<12:55,  1.18it/s]"
     ]
    },
    {
     "name": "stdout",
     "output_type": "stream",
     "text": [
      "https://books.toscrape.com/catalogue/orange-the-complete-collection-1-orange-the-complete-collection-1_914/index.html\n"
     ]
    },
    {
     "name": "stderr",
     "output_type": "stream",
     "text": [
      "  9%|██████▉                                                                         | 87/1000 [01:15<12:36,  1.21it/s]"
     ]
    },
    {
     "name": "stdout",
     "output_type": "stream",
     "text": [
      "https://books.toscrape.com/catalogue/online-marketing-for-busy-authors-a-step-by-step-guide_913/index.html\n"
     ]
    },
    {
     "name": "stderr",
     "output_type": "stream",
     "text": [
      "  9%|███████                                                                         | 88/1000 [01:15<12:25,  1.22it/s]"
     ]
    },
    {
     "name": "stdout",
     "output_type": "stream",
     "text": [
      "https://books.toscrape.com/catalogue/on-a-midnight-clear_912/index.html\n"
     ]
    },
    {
     "name": "stderr",
     "output_type": "stream",
     "text": [
      "  9%|███████                                                                         | 89/1000 [01:16<12:24,  1.22it/s]"
     ]
    },
    {
     "name": "stdout",
     "output_type": "stream",
     "text": [
      "https://books.toscrape.com/catalogue/obsidian-lux-1_911/index.html\n"
     ]
    },
    {
     "name": "stderr",
     "output_type": "stream",
     "text": [
      "  9%|███████▏                                                                        | 90/1000 [01:17<12:22,  1.23it/s]"
     ]
    },
    {
     "name": "stdout",
     "output_type": "stream",
     "text": [
      "https://books.toscrape.com/catalogue/my-paris-kitchen-recipes-and-stories_910/index.html\n"
     ]
    },
    {
     "name": "stderr",
     "output_type": "stream",
     "text": [
      "  9%|███████▎                                                                        | 91/1000 [01:18<12:14,  1.24it/s]"
     ]
    },
    {
     "name": "stdout",
     "output_type": "stream",
     "text": [
      "https://books.toscrape.com/catalogue/masks-and-shadows_909/index.html\n"
     ]
    },
    {
     "name": "stderr",
     "output_type": "stream",
     "text": [
      "  9%|███████▎                                                                        | 92/1000 [01:19<12:26,  1.22it/s]"
     ]
    },
    {
     "name": "stdout",
     "output_type": "stream",
     "text": [
      "https://books.toscrape.com/catalogue/mama-tried-traditional-italian-cooking-for-the-screwed-crude-vegan-and-tattooed_908/index.html\n"
     ]
    },
    {
     "name": "stderr",
     "output_type": "stream",
     "text": [
      "  9%|███████▍                                                                        | 93/1000 [01:20<12:33,  1.20it/s]"
     ]
    },
    {
     "name": "stdout",
     "output_type": "stream",
     "text": [
      "https://books.toscrape.com/catalogue/lumberjanes-vol-2-friendship-to-the-max-lumberjanes-5-8_907/index.html\n"
     ]
    },
    {
     "name": "stderr",
     "output_type": "stream",
     "text": [
      "  9%|███████▌                                                                        | 94/1000 [01:20<12:31,  1.21it/s]"
     ]
    },
    {
     "name": "stdout",
     "output_type": "stream",
     "text": [
      "https://books.toscrape.com/catalogue/lumberjanes-vol-1-beware-the-kitten-holy-lumberjanes-1-4_906/index.html\n"
     ]
    },
    {
     "name": "stderr",
     "output_type": "stream",
     "text": [
      " 10%|███████▌                                                                        | 95/1000 [01:21<12:21,  1.22it/s]"
     ]
    },
    {
     "name": "stdout",
     "output_type": "stream",
     "text": [
      "https://books.toscrape.com/catalogue/lumberjanes-vol-3-a-terrible-plan-lumberjanes-9-12_905/index.html\n"
     ]
    },
    {
     "name": "stderr",
     "output_type": "stream",
     "text": [
      " 10%|███████▋                                                                        | 96/1000 [01:22<12:19,  1.22it/s]"
     ]
    },
    {
     "name": "stdout",
     "output_type": "stream",
     "text": [
      "https://books.toscrape.com/catalogue/layered-baking-building-and-styling-spectacular-cakes_904/index.html\n"
     ]
    },
    {
     "name": "stderr",
     "output_type": "stream",
     "text": [
      " 10%|███████▊                                                                        | 97/1000 [01:23<12:35,  1.19it/s]"
     ]
    },
    {
     "name": "stdout",
     "output_type": "stream",
     "text": [
      "https://books.toscrape.com/catalogue/judo-seven-steps-to-black-belt-an-introductory-guide-for-beginners_903/index.html\n"
     ]
    },
    {
     "name": "stderr",
     "output_type": "stream",
     "text": [
      " 10%|███████▊                                                                        | 98/1000 [01:24<12:47,  1.17it/s]"
     ]
    },
    {
     "name": "stdout",
     "output_type": "stream",
     "text": [
      "https://books.toscrape.com/catalogue/join_902/index.html\n"
     ]
    },
    {
     "name": "stderr",
     "output_type": "stream",
     "text": [
      " 10%|███████▉                                                                        | 99/1000 [01:25<12:53,  1.17it/s]"
     ]
    },
    {
     "name": "stdout",
     "output_type": "stream",
     "text": [
      "https://books.toscrape.com/catalogue/in-the-country-we-love-my-family-divided_901/index.html\n"
     ]
    },
    {
     "name": "stderr",
     "output_type": "stream",
     "text": [
      " 10%|███████▉                                                                       | 100/1000 [01:25<12:31,  1.20it/s]"
     ]
    },
    {
     "name": "stdout",
     "output_type": "stream",
     "text": [
      "https://books.toscrape.com/catalogue/immunity-how-elie-metchnikoff-changed-the-course-of-modern-medicine_900/index.html\n"
     ]
    },
    {
     "name": "stderr",
     "output_type": "stream",
     "text": [
      " 10%|███████▉                                                                       | 101/1000 [01:26<12:55,  1.16it/s]"
     ]
    },
    {
     "name": "stdout",
     "output_type": "stream",
     "text": [
      "https://books.toscrape.com/catalogue/i-hate-fairyland-vol-1-madly-ever-after-i-hate-fairyland-compilations-1-5_899/index.html\n"
     ]
    },
    {
     "name": "stderr",
     "output_type": "stream",
     "text": [
      " 10%|████████                                                                       | 102/1000 [01:27<12:53,  1.16it/s]"
     ]
    },
    {
     "name": "stdout",
     "output_type": "stream",
     "text": [
      "https://books.toscrape.com/catalogue/i-am-a-hero-omnibus-volume-1_898/index.html\n"
     ]
    },
    {
     "name": "stderr",
     "output_type": "stream",
     "text": [
      " 10%|████████▏                                                                      | 103/1000 [01:28<12:34,  1.19it/s]"
     ]
    },
    {
     "name": "stdout",
     "output_type": "stream",
     "text": [
      "https://books.toscrape.com/catalogue/how-to-be-miserable-40-strategies-you-already-use_897/index.html\n"
     ]
    },
    {
     "name": "stderr",
     "output_type": "stream",
     "text": [
      " 10%|████████▏                                                                      | 104/1000 [01:29<12:27,  1.20it/s]"
     ]
    },
    {
     "name": "stdout",
     "output_type": "stream",
     "text": [
      "https://books.toscrape.com/catalogue/her-backup-boyfriend-the-sorensen-family-1_896/index.html\n"
     ]
    },
    {
     "name": "stderr",
     "output_type": "stream",
     "text": [
      " 10%|████████▎                                                                      | 105/1000 [01:30<12:18,  1.21it/s]"
     ]
    },
    {
     "name": "stdout",
     "output_type": "stream",
     "text": [
      "https://books.toscrape.com/catalogue/giant-days-vol-2-giant-days-5-8_895/index.html\n"
     ]
    },
    {
     "name": "stderr",
     "output_type": "stream",
     "text": [
      " 11%|████████▎                                                                      | 106/1000 [01:30<12:28,  1.19it/s]"
     ]
    },
    {
     "name": "stdout",
     "output_type": "stream",
     "text": [
      "https://books.toscrape.com/catalogue/forever-and-forever-the-courtship-of-henry-longfellow-and-fanny-appleton_894/index.html\n"
     ]
    },
    {
     "name": "stderr",
     "output_type": "stream",
     "text": [
      " 11%|████████▍                                                                      | 107/1000 [01:31<12:40,  1.17it/s]"
     ]
    },
    {
     "name": "stdout",
     "output_type": "stream",
     "text": [
      "https://books.toscrape.com/catalogue/first-and-first-five-boroughs-3_893/index.html\n"
     ]
    },
    {
     "name": "stderr",
     "output_type": "stream",
     "text": [
      " 11%|████████▌                                                                      | 108/1000 [01:32<12:20,  1.21it/s]"
     ]
    },
    {
     "name": "stdout",
     "output_type": "stream",
     "text": [
      "https://books.toscrape.com/catalogue/fifty-shades-darker-fifty-shades-2_892/index.html\n"
     ]
    },
    {
     "name": "stderr",
     "output_type": "stream",
     "text": [
      " 11%|████████▌                                                                      | 109/1000 [01:33<12:24,  1.20it/s]"
     ]
    },
    {
     "name": "stdout",
     "output_type": "stream",
     "text": [
      "https://books.toscrape.com/catalogue/everydata-the-misinformation-hidden-in-the-little-data-you-consume-every-day_891/index.html\n"
     ]
    },
    {
     "name": "stderr",
     "output_type": "stream",
     "text": [
      " 11%|████████▋                                                                      | 110/1000 [01:34<13:20,  1.11it/s]"
     ]
    },
    {
     "name": "stdout",
     "output_type": "stream",
     "text": [
      "https://books.toscrape.com/catalogue/dont-be-a-jerk-and-other-practical-advice-from-dogen-japans-greatest-zen-master_890/index.html\n"
     ]
    },
    {
     "name": "stderr",
     "output_type": "stream",
     "text": [
      " 11%|████████▊                                                                      | 111/1000 [01:35<13:14,  1.12it/s]"
     ]
    },
    {
     "name": "stdout",
     "output_type": "stream",
     "text": [
      "https://books.toscrape.com/catalogue/danganronpa-volume-1_889/index.html\n"
     ]
    },
    {
     "name": "stderr",
     "output_type": "stream",
     "text": [
      " 11%|████████▊                                                                      | 112/1000 [01:36<12:54,  1.15it/s]"
     ]
    },
    {
     "name": "stdout",
     "output_type": "stream",
     "text": [
      "https://books.toscrape.com/catalogue/crown-of-midnight-throne-of-glass-2_888/index.html\n"
     ]
    },
    {
     "name": "stderr",
     "output_type": "stream",
     "text": [
      " 11%|████████▉                                                                      | 113/1000 [01:37<12:56,  1.14it/s]"
     ]
    },
    {
     "name": "stdout",
     "output_type": "stream",
     "text": [
      "https://books.toscrape.com/catalogue/codename-baboushka-volume-1-the-conclave-of-death_887/index.html\n"
     ]
    },
    {
     "name": "stderr",
     "output_type": "stream",
     "text": [
      " 11%|█████████                                                                      | 114/1000 [01:37<12:36,  1.17it/s]"
     ]
    },
    {
     "name": "stdout",
     "output_type": "stream",
     "text": [
      "https://books.toscrape.com/catalogue/camp-midnight_886/index.html\n"
     ]
    },
    {
     "name": "stderr",
     "output_type": "stream",
     "text": [
      " 12%|█████████                                                                      | 115/1000 [01:38<12:48,  1.15it/s]"
     ]
    },
    {
     "name": "stdout",
     "output_type": "stream",
     "text": [
      "https://books.toscrape.com/catalogue/call-the-nurse-true-stories-of-a-country-nurse-on-a-scottish-isle_885/index.html\n"
     ]
    },
    {
     "name": "stderr",
     "output_type": "stream",
     "text": [
      " 12%|█████████▏                                                                     | 116/1000 [01:39<13:32,  1.09it/s]"
     ]
    },
    {
     "name": "stdout",
     "output_type": "stream",
     "text": [
      "https://books.toscrape.com/catalogue/burning_884/index.html\n"
     ]
    },
    {
     "name": "stderr",
     "output_type": "stream",
     "text": [
      " 12%|█████████▏                                                                     | 117/1000 [01:40<13:05,  1.12it/s]"
     ]
    },
    {
     "name": "stdout",
     "output_type": "stream",
     "text": [
      "https://books.toscrape.com/catalogue/bossypants_883/index.html\n"
     ]
    },
    {
     "name": "stderr",
     "output_type": "stream",
     "text": [
      " 12%|█████████▎                                                                     | 118/1000 [01:41<12:35,  1.17it/s]"
     ]
    },
    {
     "name": "stdout",
     "output_type": "stream",
     "text": [
      "https://books.toscrape.com/catalogue/bitch-planet-vol-1-extraordinary-machine-bitch-planet-collected-editions_882/index.html\n"
     ]
    },
    {
     "name": "stderr",
     "output_type": "stream",
     "text": [
      " 12%|█████████▍                                                                     | 119/1000 [01:42<12:20,  1.19it/s]"
     ]
    },
    {
     "name": "stdout",
     "output_type": "stream",
     "text": [
      "https://books.toscrape.com/catalogue/avatar-the-last-airbender-smoke-and-shadow-part-3-smoke-and-shadow-3_881/index.html\n"
     ]
    },
    {
     "name": "stderr",
     "output_type": "stream",
     "text": [
      " 12%|█████████▍                                                                     | 120/1000 [01:43<12:33,  1.17it/s]"
     ]
    },
    {
     "name": "stdout",
     "output_type": "stream",
     "text": [
      "https://books.toscrape.com/catalogue/algorithms-to-live-by-the-computer-science-of-human-decisions_880/index.html\n"
     ]
    },
    {
     "name": "stderr",
     "output_type": "stream",
     "text": [
      " 12%|█████████▌                                                                     | 121/1000 [01:44<13:27,  1.09it/s]"
     ]
    },
    {
     "name": "stdout",
     "output_type": "stream",
     "text": [
      "https://books.toscrape.com/catalogue/a-world-of-flavor-your-gluten-free-passport_879/index.html\n"
     ]
    },
    {
     "name": "stderr",
     "output_type": "stream",
     "text": [
      " 12%|█████████▋                                                                     | 122/1000 [01:45<13:18,  1.10it/s]"
     ]
    },
    {
     "name": "stdout",
     "output_type": "stream",
     "text": [
      "https://books.toscrape.com/catalogue/a-piece-of-sky-a-grain-of-rice-a-memoir-in-four-meditations_878/index.html\n"
     ]
    },
    {
     "name": "stderr",
     "output_type": "stream",
     "text": [
      " 12%|█████████▋                                                                     | 123/1000 [01:46<13:52,  1.05it/s]"
     ]
    },
    {
     "name": "stdout",
     "output_type": "stream",
     "text": [
      "https://books.toscrape.com/catalogue/a-murder-in-time_877/index.html\n"
     ]
    },
    {
     "name": "stderr",
     "output_type": "stream",
     "text": [
      " 12%|█████████▊                                                                     | 124/1000 [01:46<13:27,  1.08it/s]"
     ]
    },
    {
     "name": "stdout",
     "output_type": "stream",
     "text": [
      "https://books.toscrape.com/catalogue/a-flight-of-arrows-the-pathfinders-2_876/index.html\n"
     ]
    },
    {
     "name": "stderr",
     "output_type": "stream",
     "text": [
      " 12%|█████████▉                                                                     | 125/1000 [01:47<13:05,  1.11it/s]"
     ]
    },
    {
     "name": "stdout",
     "output_type": "stream",
     "text": [
      "https://books.toscrape.com/catalogue/a-fierce-and-subtle-poison_875/index.html\n"
     ]
    },
    {
     "name": "stderr",
     "output_type": "stream",
     "text": [
      " 13%|█████████▉                                                                     | 126/1000 [01:48<12:37,  1.15it/s]"
     ]
    },
    {
     "name": "stdout",
     "output_type": "stream",
     "text": [
      "https://books.toscrape.com/catalogue/a-court-of-thorns-and-roses-a-court-of-thorns-and-roses-1_874/index.html\n"
     ]
    },
    {
     "name": "stderr",
     "output_type": "stream",
     "text": [
      " 13%|██████████                                                                     | 127/1000 [01:49<12:26,  1.17it/s]"
     ]
    },
    {
     "name": "stdout",
     "output_type": "stream",
     "text": [
      "https://books.toscrape.com/catalogue/unqualified-how-god-uses-broken-people-to-do-big-things_873/index.html\n"
     ]
    },
    {
     "name": "stderr",
     "output_type": "stream",
     "text": [
      " 13%|██████████                                                                     | 128/1000 [01:50<12:06,  1.20it/s]"
     ]
    },
    {
     "name": "stdout",
     "output_type": "stream",
     "text": [
      "https://books.toscrape.com/catalogue/you-are-what-you-love-the-spiritual-power-of-habit_872/index.html\n"
     ]
    },
    {
     "name": "stderr",
     "output_type": "stream",
     "text": [
      " 13%|██████████▏                                                                    | 129/1000 [01:51<11:58,  1.21it/s]"
     ]
    },
    {
     "name": "stdout",
     "output_type": "stream",
     "text": [
      "https://books.toscrape.com/catalogue/william-shakespeares-star-wars-verily-a-new-hope-william-shakespeares-star-wars-4_871/index.html\n"
     ]
    },
    {
     "name": "stderr",
     "output_type": "stream",
     "text": [
      " 13%|██████████▎                                                                    | 130/1000 [01:51<12:09,  1.19it/s]"
     ]
    },
    {
     "name": "stdout",
     "output_type": "stream",
     "text": [
      "https://books.toscrape.com/catalogue/tuesday-nights-in-1980_870/index.html\n"
     ]
    },
    {
     "name": "stderr",
     "output_type": "stream",
     "text": [
      " 13%|██████████▎                                                                    | 131/1000 [01:52<12:14,  1.18it/s]"
     ]
    },
    {
     "name": "stdout",
     "output_type": "stream",
     "text": [
      "https://books.toscrape.com/catalogue/tracing-numbers-on-a-train_869/index.html\n"
     ]
    },
    {
     "name": "stderr",
     "output_type": "stream",
     "text": [
      " 13%|██████████▍                                                                    | 132/1000 [01:53<12:00,  1.20it/s]"
     ]
    },
    {
     "name": "stdout",
     "output_type": "stream",
     "text": [
      "https://books.toscrape.com/catalogue/throne-of-glass-throne-of-glass-1_868/index.html\n"
     ]
    },
    {
     "name": "stderr",
     "output_type": "stream",
     "text": [
      " 13%|██████████▌                                                                    | 133/1000 [01:54<11:49,  1.22it/s]"
     ]
    },
    {
     "name": "stdout",
     "output_type": "stream",
     "text": [
      "https://books.toscrape.com/catalogue/thomas-jefferson-and-the-tripoli-pirates-the-forgotten-war-that-changed-american-history_867/index.html\n"
     ]
    },
    {
     "name": "stderr",
     "output_type": "stream",
     "text": [
      " 13%|██████████▌                                                                    | 134/1000 [01:55<11:44,  1.23it/s]"
     ]
    },
    {
     "name": "stdout",
     "output_type": "stream",
     "text": [
      "https://books.toscrape.com/catalogue/thirteen-reasons-why_866/index.html\n"
     ]
    },
    {
     "name": "stderr",
     "output_type": "stream",
     "text": [
      " 14%|██████████▋                                                                    | 135/1000 [01:55<11:48,  1.22it/s]"
     ]
    },
    {
     "name": "stdout",
     "output_type": "stream",
     "text": [
      "https://books.toscrape.com/catalogue/the-white-cat-and-the-monk-a-retelling-of-the-poem-pangur-ban_865/index.html\n"
     ]
    },
    {
     "name": "stderr",
     "output_type": "stream",
     "text": [
      " 14%|██████████▋                                                                    | 136/1000 [01:56<11:59,  1.20it/s]"
     ]
    },
    {
     "name": "stdout",
     "output_type": "stream",
     "text": [
      "https://books.toscrape.com/catalogue/the-wedding-dress_864/index.html\n"
     ]
    },
    {
     "name": "stderr",
     "output_type": "stream",
     "text": [
      " 14%|██████████▊                                                                    | 137/1000 [01:57<12:03,  1.19it/s]"
     ]
    },
    {
     "name": "stdout",
     "output_type": "stream",
     "text": [
      "https://books.toscrape.com/catalogue/the-vacationers_863/index.html\n"
     ]
    },
    {
     "name": "stderr",
     "output_type": "stream",
     "text": [
      " 14%|██████████▉                                                                    | 138/1000 [01:58<12:00,  1.20it/s]"
     ]
    },
    {
     "name": "stdout",
     "output_type": "stream",
     "text": [
      "https://books.toscrape.com/catalogue/the-third-wave-an-entrepreneurs-vision-of-the-future_862/index.html\n"
     ]
    },
    {
     "name": "stderr",
     "output_type": "stream",
     "text": [
      " 14%|██████████▉                                                                    | 139/1000 [01:59<12:50,  1.12it/s]"
     ]
    },
    {
     "name": "stdout",
     "output_type": "stream",
     "text": [
      "https://books.toscrape.com/catalogue/the-stranger_861/index.html\n"
     ]
    },
    {
     "name": "stderr",
     "output_type": "stream",
     "text": [
      " 14%|███████████                                                                    | 140/1000 [02:00<12:28,  1.15it/s]"
     ]
    },
    {
     "name": "stdout",
     "output_type": "stream",
     "text": [
      "https://books.toscrape.com/catalogue/the-shadow-hero-the-shadow-hero_860/index.html\n"
     ]
    },
    {
     "name": "stderr",
     "output_type": "stream",
     "text": [
      " 14%|███████████▏                                                                   | 141/1000 [02:01<12:09,  1.18it/s]"
     ]
    },
    {
     "name": "stdout",
     "output_type": "stream",
     "text": [
      "https://books.toscrape.com/catalogue/the-secret-the-secret-1_859/index.html\n"
     ]
    },
    {
     "name": "stderr",
     "output_type": "stream",
     "text": [
      " 14%|███████████▏                                                                   | 142/1000 [02:01<11:53,  1.20it/s]"
     ]
    },
    {
     "name": "stdout",
     "output_type": "stream",
     "text": [
      "https://books.toscrape.com/catalogue/the-regional-office-is-under-attack_858/index.html\n"
     ]
    },
    {
     "name": "stderr",
     "output_type": "stream",
     "text": [
      " 14%|███████████▎                                                                   | 143/1000 [02:02<12:13,  1.17it/s]"
     ]
    },
    {
     "name": "stdout",
     "output_type": "stream",
     "text": [
      "https://books.toscrape.com/catalogue/the-psychopath-test-a-journey-through-the-madness-industry_857/index.html\n"
     ]
    },
    {
     "name": "stderr",
     "output_type": "stream",
     "text": [
      " 14%|███████████▍                                                                   | 144/1000 [02:03<12:23,  1.15it/s]"
     ]
    },
    {
     "name": "stdout",
     "output_type": "stream",
     "text": [
      "https://books.toscrape.com/catalogue/the-project_856/index.html\n"
     ]
    },
    {
     "name": "stderr",
     "output_type": "stream",
     "text": [
      " 14%|███████████▍                                                                   | 145/1000 [02:04<12:08,  1.17it/s]"
     ]
    },
    {
     "name": "stdout",
     "output_type": "stream",
     "text": [
      "https://books.toscrape.com/catalogue/the-power-of-now-a-guide-to-spiritual-enlightenment_855/index.html\n"
     ]
    },
    {
     "name": "stderr",
     "output_type": "stream",
     "text": [
      " 15%|███████████▌                                                                   | 146/1000 [02:05<12:08,  1.17it/s]"
     ]
    },
    {
     "name": "stdout",
     "output_type": "stream",
     "text": [
      "https://books.toscrape.com/catalogue/the-omnivores-dilemma-a-natural-history-of-four-meals_854/index.html\n"
     ]
    },
    {
     "name": "stderr",
     "output_type": "stream",
     "text": [
      " 15%|███████████▌                                                                   | 147/1000 [02:06<13:15,  1.07it/s]"
     ]
    },
    {
     "name": "stdout",
     "output_type": "stream",
     "text": [
      "https://books.toscrape.com/catalogue/the-nerdy-nummies-cookbook-sweet-treats-for-the-geek-in-all-of-us_853/index.html\n"
     ]
    },
    {
     "name": "stderr",
     "output_type": "stream",
     "text": [
      " 15%|███████████▋                                                                   | 148/1000 [02:07<12:59,  1.09it/s]"
     ]
    },
    {
     "name": "stdout",
     "output_type": "stream",
     "text": [
      "https://books.toscrape.com/catalogue/the-murder-of-roger-ackroyd-hercule-poirot-4_852/index.html\n"
     ]
    },
    {
     "name": "stderr",
     "output_type": "stream",
     "text": [
      " 15%|███████████▊                                                                   | 149/1000 [02:08<12:28,  1.14it/s]"
     ]
    },
    {
     "name": "stdout",
     "output_type": "stream",
     "text": [
      "https://books.toscrape.com/catalogue/the-mistake-off-campus-2_851/index.html\n"
     ]
    },
    {
     "name": "stderr",
     "output_type": "stream",
     "text": [
      " 15%|███████████▊                                                                   | 150/1000 [02:09<12:25,  1.14it/s]"
     ]
    },
    {
     "name": "stdout",
     "output_type": "stream",
     "text": [
      "https://books.toscrape.com/catalogue/the-matchmakers-playbook-wingmen-inc-1_850/index.html\n"
     ]
    },
    {
     "name": "stderr",
     "output_type": "stream",
     "text": [
      " 15%|███████████▉                                                                   | 151/1000 [02:09<11:57,  1.18it/s]"
     ]
    },
    {
     "name": "stdout",
     "output_type": "stream",
     "text": [
      "https://books.toscrape.com/catalogue/the-love-and-lemons-cookbook-an-apple-to-zucchini-celebration-of-impromptu-cooking_849/index.html\n"
     ]
    },
    {
     "name": "stderr",
     "output_type": "stream",
     "text": [
      " 15%|████████████                                                                   | 152/1000 [02:10<12:52,  1.10it/s]"
     ]
    },
    {
     "name": "stdout",
     "output_type": "stream",
     "text": [
      "https://books.toscrape.com/catalogue/the-long-shadow-of-small-ghosts-murder-and-memory-in-an-american-city_848/index.html\n"
     ]
    },
    {
     "name": "stderr",
     "output_type": "stream",
     "text": [
      " 15%|████████████                                                                   | 153/1000 [02:11<12:40,  1.11it/s]"
     ]
    },
    {
     "name": "stdout",
     "output_type": "stream",
     "text": [
      "https://books.toscrape.com/catalogue/the-kite-runner_847/index.html\n"
     ]
    },
    {
     "name": "stderr",
     "output_type": "stream",
     "text": [
      " 15%|████████████▏                                                                  | 154/1000 [02:12<12:57,  1.09it/s]"
     ]
    },
    {
     "name": "stdout",
     "output_type": "stream",
     "text": [
      "https://books.toscrape.com/catalogue/the-house-by-the-lake_846/index.html\n"
     ]
    },
    {
     "name": "stderr",
     "output_type": "stream",
     "text": [
      " 16%|████████████▏                                                                  | 155/1000 [02:13<12:37,  1.12it/s]"
     ]
    },
    {
     "name": "stdout",
     "output_type": "stream",
     "text": [
      "https://books.toscrape.com/catalogue/the-glittering-court-the-glittering-court-1_845/index.html\n"
     ]
    },
    {
     "name": "stderr",
     "output_type": "stream",
     "text": [
      " 16%|████████████▎                                                                  | 156/1000 [02:14<12:36,  1.12it/s]"
     ]
    },
    {
     "name": "stdout",
     "output_type": "stream",
     "text": [
      "https://books.toscrape.com/catalogue/the-girl-on-the-train_844/index.html\n"
     ]
    },
    {
     "name": "stderr",
     "output_type": "stream",
     "text": [
      " 16%|████████████▍                                                                  | 157/1000 [02:15<12:19,  1.14it/s]"
     ]
    },
    {
     "name": "stdout",
     "output_type": "stream",
     "text": [
      "https://books.toscrape.com/catalogue/the-genius-of-birds_843/index.html\n"
     ]
    },
    {
     "name": "stderr",
     "output_type": "stream",
     "text": [
      " 16%|████████████▍                                                                  | 158/1000 [02:16<13:03,  1.07it/s]"
     ]
    },
    {
     "name": "stdout",
     "output_type": "stream",
     "text": [
      "https://books.toscrape.com/catalogue/the-emerald-mystery_842/index.html\n"
     ]
    },
    {
     "name": "stderr",
     "output_type": "stream",
     "text": [
      " 16%|████████████▌                                                                  | 159/1000 [02:17<12:29,  1.12it/s]"
     ]
    },
    {
     "name": "stdout",
     "output_type": "stream",
     "text": [
      "https://books.toscrape.com/catalogue/the-cookies-cups-cookbook-125-sweet-savory-recipes-reminding-you-to-always-eat-dessert-first_841/index.html\n"
     ]
    },
    {
     "name": "stderr",
     "output_type": "stream",
     "text": [
      " 16%|████████████▋                                                                  | 160/1000 [02:18<13:33,  1.03it/s]"
     ]
    },
    {
     "name": "stdout",
     "output_type": "stream",
     "text": [
      "https://books.toscrape.com/catalogue/the-bridge-to-consciousness-im-writing-the-bridge-between-science-and-our-old-and-new-beliefs_840/index.html\n"
     ]
    },
    {
     "name": "stderr",
     "output_type": "stream",
     "text": [
      " 16%|████████████▋                                                                  | 161/1000 [02:19<13:05,  1.07it/s]"
     ]
    },
    {
     "name": "stdout",
     "output_type": "stream",
     "text": [
      "https://books.toscrape.com/catalogue/the-artists-way-a-spiritual-path-to-higher-creativity_839/index.html\n"
     ]
    },
    {
     "name": "stderr",
     "output_type": "stream",
     "text": [
      " 16%|████████████▊                                                                  | 162/1000 [02:20<12:38,  1.10it/s]"
     ]
    },
    {
     "name": "stdout",
     "output_type": "stream",
     "text": [
      "https://books.toscrape.com/catalogue/the-art-of-war_838/index.html\n"
     ]
    },
    {
     "name": "stderr",
     "output_type": "stream",
     "text": [
      " 16%|████████████▉                                                                  | 163/1000 [02:20<12:21,  1.13it/s]"
     ]
    },
    {
     "name": "stdout",
     "output_type": "stream",
     "text": [
      "https://books.toscrape.com/catalogue/the-argonauts_837/index.html\n"
     ]
    },
    {
     "name": "stderr",
     "output_type": "stream",
     "text": [
      " 16%|████████████▉                                                                  | 164/1000 [02:21<11:55,  1.17it/s]"
     ]
    },
    {
     "name": "stdout",
     "output_type": "stream",
     "text": [
      "https://books.toscrape.com/catalogue/the-10-entrepreneur-live-your-startup-dream-without-quitting-your-day-job_836/index.html\n"
     ]
    },
    {
     "name": "stderr",
     "output_type": "stream",
     "text": [
      " 16%|█████████████                                                                  | 165/1000 [02:22<12:41,  1.10it/s]"
     ]
    },
    {
     "name": "stdout",
     "output_type": "stream",
     "text": [
      "https://books.toscrape.com/catalogue/suddenly-in-love-lake-haven-1_835/index.html\n"
     ]
    },
    {
     "name": "stderr",
     "output_type": "stream",
     "text": [
      " 17%|█████████████                                                                  | 166/1000 [02:23<12:29,  1.11it/s]"
     ]
    },
    {
     "name": "stdout",
     "output_type": "stream",
     "text": [
      "https://books.toscrape.com/catalogue/something-more-than-this_834/index.html\n"
     ]
    },
    {
     "name": "stderr",
     "output_type": "stream",
     "text": [
      " 17%|█████████████▏                                                                 | 167/1000 [02:24<12:08,  1.14it/s]"
     ]
    },
    {
     "name": "stdout",
     "output_type": "stream",
     "text": [
      "https://books.toscrape.com/catalogue/soft-apocalypse_833/index.html\n"
     ]
    },
    {
     "name": "stderr",
     "output_type": "stream",
     "text": [
      " 17%|█████████████▎                                                                 | 168/1000 [02:25<12:02,  1.15it/s]"
     ]
    },
    {
     "name": "stdout",
     "output_type": "stream",
     "text": [
      "https://books.toscrape.com/catalogue/so-youve-been-publicly-shamed_832/index.html\n"
     ]
    },
    {
     "name": "stderr",
     "output_type": "stream",
     "text": [
      " 17%|█████████████▎                                                                 | 169/1000 [02:26<11:40,  1.19it/s]"
     ]
    },
    {
     "name": "stdout",
     "output_type": "stream",
     "text": [
      "https://books.toscrape.com/catalogue/shoe-dog-a-memoir-by-the-creator-of-nike_831/index.html\n"
     ]
    },
    {
     "name": "stderr",
     "output_type": "stream",
     "text": [
      " 17%|█████████████▍                                                                 | 170/1000 [02:27<12:44,  1.09it/s]"
     ]
    },
    {
     "name": "stdout",
     "output_type": "stream",
     "text": [
      "https://books.toscrape.com/catalogue/shobu-samurai-project-aryoku-3_830/index.html\n"
     ]
    },
    {
     "name": "stderr",
     "output_type": "stream",
     "text": [
      " 17%|█████████████▌                                                                 | 171/1000 [02:27<12:14,  1.13it/s]"
     ]
    },
    {
     "name": "stdout",
     "output_type": "stream",
     "text": [
      "https://books.toscrape.com/catalogue/secrets-and-lace-fatal-hearts-1_829/index.html\n"
     ]
    },
    {
     "name": "stderr",
     "output_type": "stream",
     "text": [
      " 17%|█████████████▌                                                                 | 172/1000 [02:28<11:50,  1.17it/s]"
     ]
    },
    {
     "name": "stdout",
     "output_type": "stream",
     "text": [
      "https://books.toscrape.com/catalogue/scarlett-epstein-hates-it-here_828/index.html\n"
     ]
    },
    {
     "name": "stderr",
     "output_type": "stream",
     "text": [
      " 17%|█████████████▋                                                                 | 173/1000 [02:29<11:48,  1.17it/s]"
     ]
    },
    {
     "name": "stdout",
     "output_type": "stream",
     "text": [
      "https://books.toscrape.com/catalogue/romero-and-juliet-a-tragic-tale-of-love-and-zombies_827/index.html\n"
     ]
    },
    {
     "name": "stderr",
     "output_type": "stream",
     "text": [
      " 17%|█████████████▋                                                                 | 174/1000 [02:30<11:34,  1.19it/s]"
     ]
    },
    {
     "name": "stdout",
     "output_type": "stream",
     "text": [
      "https://books.toscrape.com/catalogue/redeeming-love_826/index.html\n"
     ]
    },
    {
     "name": "stderr",
     "output_type": "stream",
     "text": [
      " 18%|█████████████▊                                                                 | 175/1000 [02:31<11:38,  1.18it/s]"
     ]
    },
    {
     "name": "stdout",
     "output_type": "stream",
     "text": [
      "https://books.toscrape.com/catalogue/poses-for-artists-volume-1-dynamic-and-sitting-poses-an-essential-reference-for-figure-drawing-and-the-human-form_825/index.html\n"
     ]
    },
    {
     "name": "stderr",
     "output_type": "stream",
     "text": [
      " 18%|█████████████▉                                                                 | 176/1000 [02:32<11:26,  1.20it/s]"
     ]
    },
    {
     "name": "stdout",
     "output_type": "stream",
     "text": [
      "https://books.toscrape.com/catalogue/poems-that-make-grown-women-cry_824/index.html\n"
     ]
    },
    {
     "name": "stderr",
     "output_type": "stream",
     "text": [
      " 18%|█████████████▉                                                                 | 177/1000 [02:32<11:34,  1.19it/s]"
     ]
    },
    {
     "name": "stdout",
     "output_type": "stream",
     "text": [
      "https://books.toscrape.com/catalogue/nightingale-sing_823/index.html\n"
     ]
    },
    {
     "name": "stderr",
     "output_type": "stream",
     "text": [
      " 18%|██████████████                                                                 | 178/1000 [02:33<11:28,  1.19it/s]"
     ]
    },
    {
     "name": "stdout",
     "output_type": "stream",
     "text": [
      "https://books.toscrape.com/catalogue/night-sky-with-exit-wounds_822/index.html\n"
     ]
    },
    {
     "name": "stderr",
     "output_type": "stream",
     "text": [
      " 18%|██████████████▏                                                                | 179/1000 [02:34<11:27,  1.19it/s]"
     ]
    },
    {
     "name": "stdout",
     "output_type": "stream",
     "text": [
      "https://books.toscrape.com/catalogue/mrs-houdini_821/index.html\n"
     ]
    },
    {
     "name": "stderr",
     "output_type": "stream",
     "text": [
      " 18%|██████████████▏                                                                | 180/1000 [02:35<11:26,  1.19it/s]"
     ]
    },
    {
     "name": "stdout",
     "output_type": "stream",
     "text": [
      "https://books.toscrape.com/catalogue/modern-romance_820/index.html\n"
     ]
    },
    {
     "name": "stderr",
     "output_type": "stream",
     "text": [
      " 18%|██████████████▎                                                                | 181/1000 [02:36<11:19,  1.21it/s]"
     ]
    },
    {
     "name": "stdout",
     "output_type": "stream",
     "text": [
      "https://books.toscrape.com/catalogue/miss-peregrines-home-for-peculiar-children-miss-peregrines-peculiar-children-1_819/index.html\n"
     ]
    },
    {
     "name": "stderr",
     "output_type": "stream",
     "text": [
      " 18%|██████████████▍                                                                | 182/1000 [02:37<11:16,  1.21it/s]"
     ]
    },
    {
     "name": "stdout",
     "output_type": "stream",
     "text": [
      "https://books.toscrape.com/catalogue/louisa-the-extraordinary-life-of-mrs-adams_818/index.html\n"
     ]
    },
    {
     "name": "stderr",
     "output_type": "stream",
     "text": [
      " 18%|██████████████▍                                                                | 183/1000 [02:38<12:28,  1.09it/s]"
     ]
    },
    {
     "name": "stdout",
     "output_type": "stream",
     "text": [
      "https://books.toscrape.com/catalogue/little-red_817/index.html\n"
     ]
    },
    {
     "name": "stderr",
     "output_type": "stream",
     "text": [
      " 18%|██████████████▌                                                                | 184/1000 [02:38<12:07,  1.12it/s]"
     ]
    },
    {
     "name": "stdout",
     "output_type": "stream",
     "text": [
      "https://books.toscrape.com/catalogue/library-of-souls-miss-peregrines-peculiar-children-3_816/index.html\n"
     ]
    },
    {
     "name": "stderr",
     "output_type": "stream",
     "text": [
      " 18%|██████████████▌                                                                | 185/1000 [02:39<11:50,  1.15it/s]"
     ]
    },
    {
     "name": "stdout",
     "output_type": "stream",
     "text": [
      "https://books.toscrape.com/catalogue/large-print-heart-of-the-pride_815/index.html\n"
     ]
    },
    {
     "name": "stderr",
     "output_type": "stream",
     "text": [
      " 19%|██████████████▋                                                                | 186/1000 [02:40<11:34,  1.17it/s]"
     ]
    },
    {
     "name": "stdout",
     "output_type": "stream",
     "text": [
      "https://books.toscrape.com/catalogue/i-had-a-nice-time-and-other-lies-how-to-find-love-sht-like-that_814/index.html\n"
     ]
    },
    {
     "name": "stderr",
     "output_type": "stream",
     "text": [
      " 19%|██████████████▊                                                                | 187/1000 [02:41<11:53,  1.14it/s]"
     ]
    },
    {
     "name": "stdout",
     "output_type": "stream",
     "text": [
      "https://books.toscrape.com/catalogue/hollow-city-miss-peregrines-peculiar-children-2_813/index.html\n"
     ]
    },
    {
     "name": "stderr",
     "output_type": "stream",
     "text": [
      " 19%|██████████████▊                                                                | 188/1000 [02:42<11:36,  1.17it/s]"
     ]
    },
    {
     "name": "stdout",
     "output_type": "stream",
     "text": [
      "https://books.toscrape.com/catalogue/grumbles_812/index.html\n"
     ]
    },
    {
     "name": "stderr",
     "output_type": "stream",
     "text": [
      " 19%|██████████████▉                                                                | 189/1000 [02:43<11:28,  1.18it/s]"
     ]
    },
    {
     "name": "stdout",
     "output_type": "stream",
     "text": [
      "https://books.toscrape.com/catalogue/full-moon-over-noahs-ark-an-odyssey-to-mount-ararat-and-beyond_811/index.html\n"
     ]
    },
    {
     "name": "stderr",
     "output_type": "stream",
     "text": [
      " 19%|███████████████                                                                | 190/1000 [02:44<11:24,  1.18it/s]"
     ]
    },
    {
     "name": "stdout",
     "output_type": "stream",
     "text": [
      "https://books.toscrape.com/catalogue/frostbite-vampire-academy-2_810/index.html\n"
     ]
    },
    {
     "name": "stderr",
     "output_type": "stream",
     "text": [
      " 19%|███████████████                                                                | 191/1000 [02:44<11:11,  1.21it/s]"
     ]
    },
    {
     "name": "stdout",
     "output_type": "stream",
     "text": [
      "https://books.toscrape.com/catalogue/follow-you-home_809/index.html\n"
     ]
    },
    {
     "name": "stderr",
     "output_type": "stream",
     "text": [
      " 19%|███████████████▏                                                               | 192/1000 [02:45<11:03,  1.22it/s]"
     ]
    },
    {
     "name": "stdout",
     "output_type": "stream",
     "text": [
      "https://books.toscrape.com/catalogue/first-steps-for-new-christians-print-edition_808/index.html\n"
     ]
    },
    {
     "name": "stderr",
     "output_type": "stream",
     "text": [
      " 19%|███████████████▏                                                               | 193/1000 [02:46<12:03,  1.12it/s]"
     ]
    },
    {
     "name": "stdout",
     "output_type": "stream",
     "text": [
      "https://books.toscrape.com/catalogue/finders-keepers-bill-hodges-trilogy-2_807/index.html\n"
     ]
    },
    {
     "name": "stderr",
     "output_type": "stream",
     "text": [
      " 19%|███████████████▎                                                               | 194/1000 [02:47<11:53,  1.13it/s]"
     ]
    },
    {
     "name": "stdout",
     "output_type": "stream",
     "text": [
      "https://books.toscrape.com/catalogue/fables-vol-1-legends-in-exile-fables-1_806/index.html\n"
     ]
    },
    {
     "name": "stderr",
     "output_type": "stream",
     "text": [
      " 20%|███████████████▍                                                               | 195/1000 [02:48<11:28,  1.17it/s]"
     ]
    },
    {
     "name": "stdout",
     "output_type": "stream",
     "text": [
      "https://books.toscrape.com/catalogue/eureka-trivia-60_805/index.html\n"
     ]
    },
    {
     "name": "stderr",
     "output_type": "stream",
     "text": [
      " 20%|███████████████▍                                                               | 196/1000 [02:49<11:29,  1.17it/s]"
     ]
    },
    {
     "name": "stdout",
     "output_type": "stream",
     "text": [
      "https://books.toscrape.com/catalogue/drive-the-surprising-truth-about-what-motivates-us_804/index.html\n"
     ]
    },
    {
     "name": "stderr",
     "output_type": "stream",
     "text": [
      " 20%|███████████████▌                                                               | 197/1000 [02:50<11:15,  1.19it/s]"
     ]
    },
    {
     "name": "stdout",
     "output_type": "stream",
     "text": [
      "https://books.toscrape.com/catalogue/done-rubbed-out-reightman-bailey-1_803/index.html\n"
     ]
    },
    {
     "name": "stderr",
     "output_type": "stream",
     "text": [
      " 20%|███████████████▋                                                               | 198/1000 [02:50<11:23,  1.17it/s]"
     ]
    },
    {
     "name": "stdout",
     "output_type": "stream",
     "text": [
      "https://books.toscrape.com/catalogue/doing-it-over-most-likely-to-1_802/index.html\n"
     ]
    },
    {
     "name": "stderr",
     "output_type": "stream",
     "text": [
      " 20%|███████████████▋                                                               | 199/1000 [02:51<11:24,  1.17it/s]"
     ]
    },
    {
     "name": "stdout",
     "output_type": "stream",
     "text": [
      "https://books.toscrape.com/catalogue/deliciously-ella-every-day-quick-and-easy-recipes-for-gluten-free-snacks-packed-lunches-and-simple-meals_801/index.html\n"
     ]
    },
    {
     "name": "stderr",
     "output_type": "stream",
     "text": [
      " 20%|███████████████▊                                                               | 200/1000 [02:52<11:15,  1.18it/s]"
     ]
    },
    {
     "name": "stdout",
     "output_type": "stream",
     "text": [
      "https://books.toscrape.com/catalogue/dark-notes_800/index.html\n"
     ]
    },
    {
     "name": "stderr",
     "output_type": "stream",
     "text": [
      " 20%|███████████████▉                                                               | 201/1000 [02:53<11:12,  1.19it/s]"
     ]
    },
    {
     "name": "stdout",
     "output_type": "stream",
     "text": [
      "https://books.toscrape.com/catalogue/daring-greatly-how-the-courage-to-be-vulnerable-transforms-the-way-we-live-love-parent-and-lead_799/index.html\n"
     ]
    },
    {
     "name": "stderr",
     "output_type": "stream",
     "text": [
      " 20%|███████████████▉                                                               | 202/1000 [02:54<11:13,  1.18it/s]"
     ]
    },
    {
     "name": "stdout",
     "output_type": "stream",
     "text": [
      "https://books.toscrape.com/catalogue/close-to-you_798/index.html\n"
     ]
    },
    {
     "name": "stderr",
     "output_type": "stream",
     "text": [
      " 20%|████████████████                                                               | 203/1000 [02:55<12:10,  1.09it/s]"
     ]
    },
    {
     "name": "stdout",
     "output_type": "stream",
     "text": [
      "https://books.toscrape.com/catalogue/chasing-heaven-what-dying-taught-me-about-living_797/index.html\n"
     ]
    },
    {
     "name": "stderr",
     "output_type": "stream",
     "text": [
      " 20%|████████████████                                                               | 204/1000 [02:56<12:41,  1.04it/s]"
     ]
    },
    {
     "name": "stdout",
     "output_type": "stream",
     "text": [
      "https://books.toscrape.com/catalogue/big-magic-creative-living-beyond-fear_796/index.html\n"
     ]
    },
    {
     "name": "stderr",
     "output_type": "stream",
     "text": [
      " 20%|████████████████▏                                                              | 205/1000 [02:57<12:05,  1.10it/s]"
     ]
    },
    {
     "name": "stdout",
     "output_type": "stream",
     "text": [
      "https://books.toscrape.com/catalogue/becoming-wise-an-inquiry-into-the-mystery-and-art-of-living_795/index.html\n"
     ]
    },
    {
     "name": "stderr",
     "output_type": "stream",
     "text": [
      " 21%|████████████████▎                                                              | 206/1000 [02:58<11:39,  1.13it/s]"
     ]
    },
    {
     "name": "stdout",
     "output_type": "stream",
     "text": [
      "https://books.toscrape.com/catalogue/beauty-restored-riley-family-legacy-novellas-3_794/index.html\n"
     ]
    },
    {
     "name": "stderr",
     "output_type": "stream",
     "text": [
      " 21%|████████████████▎                                                              | 207/1000 [02:58<11:33,  1.14it/s]"
     ]
    },
    {
     "name": "stdout",
     "output_type": "stream",
     "text": [
      "https://books.toscrape.com/catalogue/batman-the-long-halloween-batman_793/index.html\n"
     ]
    },
    {
     "name": "stderr",
     "output_type": "stream",
     "text": [
      " 21%|████████████████▍                                                              | 208/1000 [02:59<11:34,  1.14it/s]"
     ]
    },
    {
     "name": "stdout",
     "output_type": "stream",
     "text": [
      "https://books.toscrape.com/catalogue/batman-the-dark-knight-returns-batman_792/index.html\n"
     ]
    },
    {
     "name": "stderr",
     "output_type": "stream",
     "text": [
      " 21%|████████████████▌                                                              | 209/1000 [03:00<11:18,  1.17it/s]"
     ]
    },
    {
     "name": "stdout",
     "output_type": "stream",
     "text": [
      "https://books.toscrape.com/catalogue/ayumis-violin_791/index.html\n"
     ]
    },
    {
     "name": "stderr",
     "output_type": "stream",
     "text": [
      " 21%|████████████████▌                                                              | 210/1000 [03:01<11:01,  1.19it/s]"
     ]
    },
    {
     "name": "stdout",
     "output_type": "stream",
     "text": [
      "https://books.toscrape.com/catalogue/anonymous_790/index.html\n"
     ]
    },
    {
     "name": "stderr",
     "output_type": "stream",
     "text": [
      " 21%|████████████████▋                                                              | 211/1000 [03:02<11:41,  1.12it/s]"
     ]
    },
    {
     "name": "stdout",
     "output_type": "stream",
     "text": [
      "https://books.toscrape.com/catalogue/amy-meets-the-saints-and-sages_789/index.html\n"
     ]
    },
    {
     "name": "stderr",
     "output_type": "stream",
     "text": [
      " 21%|████████████████▋                                                              | 212/1000 [03:03<11:51,  1.11it/s]"
     ]
    },
    {
     "name": "stdout",
     "output_type": "stream",
     "text": [
      "https://books.toscrape.com/catalogue/amid-the-chaos_788/index.html\n"
     ]
    },
    {
     "name": "stderr",
     "output_type": "stream",
     "text": [
      " 21%|████████████████▊                                                              | 213/1000 [03:04<12:00,  1.09it/s]"
     ]
    },
    {
     "name": "stdout",
     "output_type": "stream",
     "text": [
      "https://books.toscrape.com/catalogue/amatus_787/index.html\n"
     ]
    },
    {
     "name": "stderr",
     "output_type": "stream",
     "text": [
      " 21%|████████████████▉                                                              | 214/1000 [03:05<12:20,  1.06it/s]"
     ]
    },
    {
     "name": "stdout",
     "output_type": "stream",
     "text": [
      "https://books.toscrape.com/catalogue/agnostic-a-spirited-manifesto_786/index.html\n"
     ]
    },
    {
     "name": "stderr",
     "output_type": "stream",
     "text": [
      " 22%|████████████████▉                                                              | 215/1000 [03:06<11:55,  1.10it/s]"
     ]
    },
    {
     "name": "stdout",
     "output_type": "stream",
     "text": [
      "https://books.toscrape.com/catalogue/zealot-the-life-and-times-of-jesus-of-nazareth_785/index.html\n"
     ]
    },
    {
     "name": "stderr",
     "output_type": "stream",
     "text": [
      " 22%|█████████████████                                                              | 216/1000 [03:06<11:40,  1.12it/s]"
     ]
    },
    {
     "name": "stdout",
     "output_type": "stream",
     "text": [
      "https://books.toscrape.com/catalogue/you-you-1_784/index.html\n"
     ]
    },
    {
     "name": "stderr",
     "output_type": "stream",
     "text": [
      " 22%|█████████████████▏                                                             | 217/1000 [03:07<11:27,  1.14it/s]"
     ]
    },
    {
     "name": "stdout",
     "output_type": "stream",
     "text": [
      "https://books.toscrape.com/catalogue/wonder-woman-earth-one-volume-one-wonder-woman-earth-one-1_783/index.html\n"
     ]
    },
    {
     "name": "stderr",
     "output_type": "stream",
     "text": [
      " 22%|█████████████████▏                                                             | 218/1000 [03:08<11:10,  1.17it/s]"
     ]
    },
    {
     "name": "stdout",
     "output_type": "stream",
     "text": [
      "https://books.toscrape.com/catalogue/wild-swans_782/index.html\n"
     ]
    },
    {
     "name": "stderr",
     "output_type": "stream",
     "text": [
      " 22%|█████████████████▎                                                             | 219/1000 [03:09<11:01,  1.18it/s]"
     ]
    },
    {
     "name": "stdout",
     "output_type": "stream",
     "text": [
      "https://books.toscrape.com/catalogue/why-the-right-went-wrong-conservatism-from-goldwater-to-the-tea-party-and-beyond_781/index.html\n"
     ]
    },
    {
     "name": "stderr",
     "output_type": "stream",
     "text": [
      " 22%|█████████████████▍                                                             | 220/1000 [03:10<13:26,  1.03s/it]"
     ]
    },
    {
     "name": "stdout",
     "output_type": "stream",
     "text": [
      "https://books.toscrape.com/catalogue/whole-lotta-creativity-going-on-60-fun-and-unusual-exercises-to-awaken-and-strengthen-your-creativity_780/index.html\n"
     ]
    },
    {
     "name": "stderr",
     "output_type": "stream",
     "text": [
      " 22%|█████████████████▍                                                             | 221/1000 [03:11<12:35,  1.03it/s]"
     ]
    },
    {
     "name": "stdout",
     "output_type": "stream",
     "text": [
      "https://books.toscrape.com/catalogue/whats-it-like-in-space-stories-from-astronauts-whove-been-there_779/index.html\n"
     ]
    },
    {
     "name": "stderr",
     "output_type": "stream",
     "text": [
      " 22%|█████████████████▌                                                             | 222/1000 [03:12<12:07,  1.07it/s]"
     ]
    },
    {
     "name": "stdout",
     "output_type": "stream",
     "text": [
      "https://books.toscrape.com/catalogue/we-are-robin-vol-1-the-vigilante-business-we-are-robin-1_778/index.html\n"
     ]
    },
    {
     "name": "stderr",
     "output_type": "stream",
     "text": [
      " 22%|█████████████████▌                                                             | 223/1000 [03:13<11:28,  1.13it/s]"
     ]
    },
    {
     "name": "stdout",
     "output_type": "stream",
     "text": [
      "https://books.toscrape.com/catalogue/walt-disneys-alice-in-wonderland_777/index.html\n"
     ]
    },
    {
     "name": "stderr",
     "output_type": "stream",
     "text": [
      " 22%|█████████████████▋                                                             | 224/1000 [03:14<11:24,  1.13it/s]"
     ]
    },
    {
     "name": "stdout",
     "output_type": "stream",
     "text": [
      "https://books.toscrape.com/catalogue/v-for-vendetta-v-for-vendetta-complete_776/index.html\n"
     ]
    },
    {
     "name": "stderr",
     "output_type": "stream",
     "text": [
      " 22%|█████████████████▊                                                             | 225/1000 [03:15<11:13,  1.15it/s]"
     ]
    },
    {
     "name": "stdout",
     "output_type": "stream",
     "text": [
      "https://books.toscrape.com/catalogue/until-friday-night-the-field-party-1_775/index.html\n"
     ]
    },
    {
     "name": "stderr",
     "output_type": "stream",
     "text": [
      " 23%|█████████████████▊                                                             | 226/1000 [03:15<10:58,  1.17it/s]"
     ]
    },
    {
     "name": "stdout",
     "output_type": "stream",
     "text": [
      "https://books.toscrape.com/catalogue/unbroken-a-world-war-ii-story-of-survival-resilience-and-redemption_774/index.html\n"
     ]
    },
    {
     "name": "stderr",
     "output_type": "stream",
     "text": [
      " 23%|█████████████████▉                                                             | 227/1000 [03:16<11:00,  1.17it/s]"
     ]
    },
    {
     "name": "stdout",
     "output_type": "stream",
     "text": [
      "https://books.toscrape.com/catalogue/twenty-yawns_773/index.html\n"
     ]
    },
    {
     "name": "stderr",
     "output_type": "stream",
     "text": [
      " 23%|██████████████████                                                             | 228/1000 [03:17<11:11,  1.15it/s]"
     ]
    },
    {
     "name": "stdout",
     "output_type": "stream",
     "text": [
      "https://books.toscrape.com/catalogue/through-the-woods_772/index.html\n"
     ]
    },
    {
     "name": "stderr",
     "output_type": "stream",
     "text": [
      " 23%|██████████████████                                                             | 229/1000 [03:18<11:10,  1.15it/s]"
     ]
    },
    {
     "name": "stdout",
     "output_type": "stream",
     "text": [
      "https://books.toscrape.com/catalogue/this-is-where-it-ends_771/index.html\n"
     ]
    },
    {
     "name": "stderr",
     "output_type": "stream",
     "text": [
      " 23%|██████████████████▏                                                            | 230/1000 [03:19<10:58,  1.17it/s]"
     ]
    },
    {
     "name": "stdout",
     "output_type": "stream",
     "text": [
      "https://books.toscrape.com/catalogue/the-year-of-magical-thinking_770/index.html\n"
     ]
    },
    {
     "name": "stderr",
     "output_type": "stream",
     "text": [
      " 23%|██████████████████▏                                                            | 231/1000 [03:20<11:51,  1.08it/s]"
     ]
    },
    {
     "name": "stdout",
     "output_type": "stream",
     "text": [
      "https://books.toscrape.com/catalogue/the-wright-brothers_769/index.html\n"
     ]
    },
    {
     "name": "stderr",
     "output_type": "stream",
     "text": [
      " 23%|██████████████████▎                                                            | 232/1000 [03:21<11:28,  1.11it/s]"
     ]
    },
    {
     "name": "stdout",
     "output_type": "stream",
     "text": [
      "https://books.toscrape.com/catalogue/the-white-queen-the-cousins-war-1_768/index.html\n"
     ]
    },
    {
     "name": "stderr",
     "output_type": "stream",
     "text": [
      " 23%|██████████████████▍                                                            | 233/1000 [03:22<11:19,  1.13it/s]"
     ]
    },
    {
     "name": "stdout",
     "output_type": "stream",
     "text": [
      "https://books.toscrape.com/catalogue/the-wedding-pact-the-omalleys-2_767/index.html\n"
     ]
    },
    {
     "name": "stderr",
     "output_type": "stream",
     "text": [
      " 23%|██████████████████▍                                                            | 234/1000 [03:22<11:11,  1.14it/s]"
     ]
    },
    {
     "name": "stdout",
     "output_type": "stream",
     "text": [
      "https://books.toscrape.com/catalogue/the-time-keeper_766/index.html\n"
     ]
    },
    {
     "name": "stderr",
     "output_type": "stream",
     "text": [
      " 24%|██████████████████▌                                                            | 235/1000 [03:23<10:49,  1.18it/s]"
     ]
    },
    {
     "name": "stdout",
     "output_type": "stream",
     "text": [
      "https://books.toscrape.com/catalogue/the-testament-of-mary_765/index.html\n"
     ]
    },
    {
     "name": "stderr",
     "output_type": "stream",
     "text": [
      " 24%|██████████████████▋                                                            | 236/1000 [03:24<10:32,  1.21it/s]"
     ]
    },
    {
     "name": "stdout",
     "output_type": "stream",
     "text": [
      "https://books.toscrape.com/catalogue/the-star-touched-queen_764/index.html\n"
     ]
    },
    {
     "name": "stderr",
     "output_type": "stream",
     "text": [
      " 24%|██████████████████▋                                                            | 237/1000 [03:25<10:21,  1.23it/s]"
     ]
    },
    {
     "name": "stdout",
     "output_type": "stream",
     "text": [
      "https://books.toscrape.com/catalogue/the-songs-of-the-gods_763/index.html\n"
     ]
    },
    {
     "name": "stderr",
     "output_type": "stream",
     "text": [
      " 24%|██████████████████▊                                                            | 238/1000 [03:26<10:30,  1.21it/s]"
     ]
    },
    {
     "name": "stdout",
     "output_type": "stream",
     "text": [
      "https://books.toscrape.com/catalogue/the-song-of-achilles_762/index.html\n"
     ]
    },
    {
     "name": "stderr",
     "output_type": "stream",
     "text": [
      " 24%|██████████████████▉                                                            | 239/1000 [03:27<10:40,  1.19it/s]"
     ]
    },
    {
     "name": "stdout",
     "output_type": "stream",
     "text": [
      "https://books.toscrape.com/catalogue/the-rosie-project-don-tillman-1_761/index.html\n"
     ]
    },
    {
     "name": "stderr",
     "output_type": "stream",
     "text": [
      " 24%|██████████████████▉                                                            | 240/1000 [03:28<12:07,  1.04it/s]"
     ]
    },
    {
     "name": "stdout",
     "output_type": "stream",
     "text": [
      "https://books.toscrape.com/catalogue/the-power-of-habit-why-we-do-what-we-do-in-life-and-business_760/index.html\n"
     ]
    },
    {
     "name": "stderr",
     "output_type": "stream",
     "text": [
      " 24%|███████████████████                                                            | 241/1000 [03:29<12:24,  1.02it/s]"
     ]
    },
    {
     "name": "stdout",
     "output_type": "stream",
     "text": [
      "https://books.toscrape.com/catalogue/the-marriage-of-opposites_759/index.html\n"
     ]
    },
    {
     "name": "stderr",
     "output_type": "stream",
     "text": [
      " 24%|███████████████████                                                            | 242/1000 [03:30<11:36,  1.09it/s]"
     ]
    },
    {
     "name": "stdout",
     "output_type": "stream",
     "text": [
      "https://books.toscrape.com/catalogue/the-lucifer-effect-understanding-how-good-people-turn-evil_758/index.html\n"
     ]
    },
    {
     "name": "stderr",
     "output_type": "stream",
     "text": [
      " 24%|███████████████████▏                                                           | 243/1000 [03:30<11:12,  1.13it/s]"
     ]
    },
    {
     "name": "stdout",
     "output_type": "stream",
     "text": [
      "https://books.toscrape.com/catalogue/the-long-haul-diary-of-a-wimpy-kid-9_757/index.html\n"
     ]
    },
    {
     "name": "stderr",
     "output_type": "stream",
     "text": [
      " 24%|███████████████████▎                                                           | 244/1000 [03:31<10:51,  1.16it/s]"
     ]
    },
    {
     "name": "stdout",
     "output_type": "stream",
     "text": [
      "https://books.toscrape.com/catalogue/the-loney_756/index.html\n"
     ]
    },
    {
     "name": "stderr",
     "output_type": "stream",
     "text": [
      " 24%|███████████████████▎                                                           | 245/1000 [03:32<10:36,  1.19it/s]"
     ]
    },
    {
     "name": "stdout",
     "output_type": "stream",
     "text": [
      "https://books.toscrape.com/catalogue/the-literature-book-big-ideas-simply-explained_755/index.html\n"
     ]
    },
    {
     "name": "stderr",
     "output_type": "stream",
     "text": [
      " 25%|███████████████████▍                                                           | 246/1000 [03:33<10:23,  1.21it/s]"
     ]
    },
    {
     "name": "stdout",
     "output_type": "stream",
     "text": [
      "https://books.toscrape.com/catalogue/the-last-mile-amos-decker-2_754/index.html\n"
     ]
    },
    {
     "name": "stderr",
     "output_type": "stream",
     "text": [
      " 25%|███████████████████▌                                                           | 247/1000 [03:34<10:22,  1.21it/s]"
     ]
    },
    {
     "name": "stdout",
     "output_type": "stream",
     "text": [
      "https://books.toscrape.com/catalogue/the-immortal-life-of-henrietta-lacks_753/index.html\n"
     ]
    },
    {
     "name": "stderr",
     "output_type": "stream",
     "text": [
      " 25%|███████████████████▌                                                           | 248/1000 [03:34<10:19,  1.21it/s]"
     ]
    },
    {
     "name": "stdout",
     "output_type": "stream",
     "text": [
      "https://books.toscrape.com/catalogue/the-hidden-oracle-the-trials-of-apollo-1_752/index.html\n"
     ]
    },
    {
     "name": "stderr",
     "output_type": "stream",
     "text": [
      " 25%|███████████████████▋                                                           | 249/1000 [03:35<10:17,  1.22it/s]"
     ]
    },
    {
     "name": "stdout",
     "output_type": "stream",
     "text": [
      "https://books.toscrape.com/catalogue/the-help-yourself-cookbook-for-kids-60-easy-plant-based-recipes-kids-can-make-to-stay-healthy-and-save-the-earth_751/index.html\n"
     ]
    },
    {
     "name": "stderr",
     "output_type": "stream",
     "text": [
      " 25%|███████████████████▊                                                           | 250/1000 [03:36<11:32,  1.08it/s]"
     ]
    },
    {
     "name": "stdout",
     "output_type": "stream",
     "text": [
      "https://books.toscrape.com/catalogue/the-guilty-will-robie-4_750/index.html\n"
     ]
    },
    {
     "name": "stderr",
     "output_type": "stream",
     "text": [
      " 25%|███████████████████▊                                                           | 251/1000 [03:37<12:07,  1.03it/s]"
     ]
    },
    {
     "name": "stdout",
     "output_type": "stream",
     "text": [
      "https://books.toscrape.com/catalogue/the-first-hostage-jb-collins-2_749/index.html\n"
     ]
    },
    {
     "name": "stderr",
     "output_type": "stream",
     "text": [
      " 25%|███████████████████▉                                                           | 252/1000 [03:38<11:35,  1.07it/s]"
     ]
    },
    {
     "name": "stdout",
     "output_type": "stream",
     "text": [
      "https://books.toscrape.com/catalogue/the-dovekeepers_748/index.html\n"
     ]
    },
    {
     "name": "stderr",
     "output_type": "stream",
     "text": [
      " 25%|███████████████████▉                                                           | 253/1000 [03:39<11:28,  1.08it/s]"
     ]
    },
    {
     "name": "stdout",
     "output_type": "stream",
     "text": [
      "https://books.toscrape.com/catalogue/the-darkest-lie_747/index.html\n"
     ]
    },
    {
     "name": "stderr",
     "output_type": "stream",
     "text": [
      " 25%|████████████████████                                                           | 254/1000 [03:40<11:25,  1.09it/s]"
     ]
    },
    {
     "name": "stdout",
     "output_type": "stream",
     "text": [
      "https://books.toscrape.com/catalogue/the-bane-chronicles-the-bane-chronicles-1-11_746/index.html\n"
     ]
    },
    {
     "name": "stderr",
     "output_type": "stream",
     "text": [
      " 26%|████████████████████▏                                                          | 255/1000 [03:41<11:06,  1.12it/s]"
     ]
    },
    {
     "name": "stdout",
     "output_type": "stream",
     "text": [
      "https://books.toscrape.com/catalogue/the-bad-ass-librarians-of-timbuktu-and-their-race-to-save-the-worlds-most-precious-manuscripts_745/index.html\n"
     ]
    },
    {
     "name": "stderr",
     "output_type": "stream",
     "text": [
      " 26%|████████████████████▏                                                          | 256/1000 [03:42<12:03,  1.03it/s]"
     ]
    },
    {
     "name": "stdout",
     "output_type": "stream",
     "text": [
      "https://books.toscrape.com/catalogue/the-14th-colony-cotton-malone-11_744/index.html\n"
     ]
    },
    {
     "name": "stderr",
     "output_type": "stream",
     "text": [
      " 26%|████████████████████▎                                                          | 257/1000 [03:43<11:33,  1.07it/s]"
     ]
    },
    {
     "name": "stdout",
     "output_type": "stream",
     "text": [
      "https://books.toscrape.com/catalogue/that-darkness-gardiner-and-renner-1_743/index.html\n"
     ]
    },
    {
     "name": "stderr",
     "output_type": "stream",
     "text": [
      " 26%|████████████████████▍                                                          | 258/1000 [03:44<11:14,  1.10it/s]"
     ]
    },
    {
     "name": "stdout",
     "output_type": "stream",
     "text": [
      "https://books.toscrape.com/catalogue/tastes-like-fear-di-marnie-rome-3_742/index.html\n"
     ]
    },
    {
     "name": "stderr",
     "output_type": "stream",
     "text": [
      " 26%|████████████████████▍                                                          | 259/1000 [03:45<11:02,  1.12it/s]"
     ]
    },
    {
     "name": "stdout",
     "output_type": "stream",
     "text": [
      "https://books.toscrape.com/catalogue/take-me-with-you_741/index.html\n"
     ]
    },
    {
     "name": "stderr",
     "output_type": "stream",
     "text": [
      " 26%|████████████████████▌                                                          | 260/1000 [03:46<10:55,  1.13it/s]"
     ]
    },
    {
     "name": "stdout",
     "output_type": "stream",
     "text": [
      "https://books.toscrape.com/catalogue/swell-a-year-of-waves_740/index.html\n"
     ]
    },
    {
     "name": "stderr",
     "output_type": "stream",
     "text": [
      " 26%|████████████████████▌                                                          | 261/1000 [03:46<10:34,  1.16it/s]"
     ]
    },
    {
     "name": "stdout",
     "output_type": "stream",
     "text": [
      "https://books.toscrape.com/catalogue/superman-vol-1-before-truth-superman-by-gene-luen-yang-1_739/index.html\n"
     ]
    },
    {
     "name": "stderr",
     "output_type": "stream",
     "text": [
      " 26%|████████████████████▋                                                          | 262/1000 [03:47<10:31,  1.17it/s]"
     ]
    },
    {
     "name": "stdout",
     "output_type": "stream",
     "text": [
      "https://books.toscrape.com/catalogue/still-life-with-bread-crumbs_738/index.html\n"
     ]
    },
    {
     "name": "stderr",
     "output_type": "stream",
     "text": [
      " 26%|████████████████████▊                                                          | 263/1000 [03:48<10:29,  1.17it/s]"
     ]
    },
    {
     "name": "stdout",
     "output_type": "stream",
     "text": [
      "https://books.toscrape.com/catalogue/steve-jobs_737/index.html\n"
     ]
    },
    {
     "name": "stderr",
     "output_type": "stream",
     "text": [
      " 26%|████████████████████▊                                                          | 264/1000 [03:49<10:11,  1.20it/s]"
     ]
    },
    {
     "name": "stdout",
     "output_type": "stream",
     "text": [
      "https://books.toscrape.com/catalogue/sorting-the-beef-from-the-bull-the-science-of-food-fraud-forensics_736/index.html\n"
     ]
    },
    {
     "name": "stderr",
     "output_type": "stream",
     "text": [
      " 26%|████████████████████▉                                                          | 265/1000 [03:50<11:17,  1.08it/s]"
     ]
    },
    {
     "name": "stdout",
     "output_type": "stream",
     "text": [
      "https://books.toscrape.com/catalogue/someone-like-you-the-harrisons-2_735/index.html\n"
     ]
    },
    {
     "name": "stderr",
     "output_type": "stream",
     "text": [
      " 27%|█████████████████████                                                          | 266/1000 [03:51<10:54,  1.12it/s]"
     ]
    },
    {
     "name": "stdout",
     "output_type": "stream",
     "text": [
      "https://books.toscrape.com/catalogue/so-cute-it-hurts-vol-6-so-cute-it-hurts-6_734/index.html\n"
     ]
    },
    {
     "name": "stderr",
     "output_type": "stream",
     "text": [
      " 27%|█████████████████████                                                          | 267/1000 [03:52<10:47,  1.13it/s]"
     ]
    },
    {
     "name": "stdout",
     "output_type": "stream",
     "text": [
      "https://books.toscrape.com/catalogue/shtum_733/index.html\n"
     ]
    },
    {
     "name": "stderr",
     "output_type": "stream",
     "text": [
      " 27%|█████████████████████▏                                                         | 268/1000 [03:53<10:45,  1.13it/s]"
     ]
    },
    {
     "name": "stdout",
     "output_type": "stream",
     "text": [
      "https://books.toscrape.com/catalogue/see-america-a-celebration-of-our-national-parks-treasured-sites_732/index.html\n"
     ]
    },
    {
     "name": "stderr",
     "output_type": "stream",
     "text": [
      " 27%|█████████████████████▎                                                         | 269/1000 [03:53<10:29,  1.16it/s]"
     ]
    },
    {
     "name": "stdout",
     "output_type": "stream",
     "text": [
      "https://books.toscrape.com/catalogue/salt_731/index.html\n"
     ]
    },
    {
     "name": "stderr",
     "output_type": "stream",
     "text": [
      " 27%|█████████████████████▎                                                         | 270/1000 [03:54<10:28,  1.16it/s]"
     ]
    },
    {
     "name": "stdout",
     "output_type": "stream",
     "text": [
      "https://books.toscrape.com/catalogue/robin-war_730/index.html\n"
     ]
    },
    {
     "name": "stderr",
     "output_type": "stream",
     "text": [
      " 27%|█████████████████████▍                                                         | 271/1000 [03:55<10:30,  1.16it/s]"
     ]
    },
    {
     "name": "stdout",
     "output_type": "stream",
     "text": [
      "https://books.toscrape.com/catalogue/red-hoodarsenal-vol-1-open-for-business-red-hoodarsenal-1_729/index.html\n"
     ]
    },
    {
     "name": "stderr",
     "output_type": "stream",
     "text": [
      " 27%|█████████████████████▍                                                         | 272/1000 [03:56<10:19,  1.18it/s]"
     ]
    },
    {
     "name": "stdout",
     "output_type": "stream",
     "text": [
      "https://books.toscrape.com/catalogue/rain-fish_728/index.html\n"
     ]
    },
    {
     "name": "stderr",
     "output_type": "stream",
     "text": [
      " 27%|█████████████████████▌                                                         | 273/1000 [03:57<10:09,  1.19it/s]"
     ]
    },
    {
     "name": "stdout",
     "output_type": "stream",
     "text": [
      "https://books.toscrape.com/catalogue/quarter-life-poetry-poems-for-the-young-broke-and-hangry_727/index.html\n"
     ]
    },
    {
     "name": "stderr",
     "output_type": "stream",
     "text": [
      " 27%|█████████████████████▋                                                         | 274/1000 [03:58<10:16,  1.18it/s]"
     ]
    },
    {
     "name": "stdout",
     "output_type": "stream",
     "text": [
      "https://books.toscrape.com/catalogue/pet-sematary_726/index.html\n"
     ]
    },
    {
     "name": "stderr",
     "output_type": "stream",
     "text": [
      " 28%|█████████████████████▋                                                         | 275/1000 [03:58<10:19,  1.17it/s]"
     ]
    },
    {
     "name": "stdout",
     "output_type": "stream",
     "text": [
      "https://books.toscrape.com/catalogue/overload-how-to-unplug-unwind-and-unleash-yourself-from-the-pressure-of-stress_725/index.html\n"
     ]
    },
    {
     "name": "stderr",
     "output_type": "stream",
     "text": [
      " 28%|█████████████████████▊                                                         | 276/1000 [03:59<11:03,  1.09it/s]"
     ]
    },
    {
     "name": "stdout",
     "output_type": "stream",
     "text": [
      "https://books.toscrape.com/catalogue/once-was-a-time_724/index.html\n"
     ]
    },
    {
     "name": "stderr",
     "output_type": "stream",
     "text": [
      " 28%|█████████████████████▉                                                         | 277/1000 [04:00<10:43,  1.12it/s]"
     ]
    },
    {
     "name": "stdout",
     "output_type": "stream",
     "text": [
      "https://books.toscrape.com/catalogue/old-school-diary-of-a-wimpy-kid-10_723/index.html\n"
     ]
    },
    {
     "name": "stderr",
     "output_type": "stream",
     "text": [
      " 28%|█████████████████████▉                                                         | 278/1000 [04:01<10:29,  1.15it/s]"
     ]
    },
    {
     "name": "stdout",
     "output_type": "stream",
     "text": [
      "https://books.toscrape.com/catalogue/no-dream-is-too-high-life-lessons-from-a-man-who-walked-on-the-moon_722/index.html\n"
     ]
    },
    {
     "name": "stderr",
     "output_type": "stream",
     "text": [
      " 28%|██████████████████████                                                         | 279/1000 [04:02<11:02,  1.09it/s]"
     ]
    },
    {
     "name": "stdout",
     "output_type": "stream",
     "text": [
      "https://books.toscrape.com/catalogue/naruto-3-in-1-edition-vol-14-includes-vols-40-41-42-naruto-omnibus-14_721/index.html\n"
     ]
    },
    {
     "name": "stderr",
     "output_type": "stream",
     "text": [
      " 28%|██████████████████████                                                         | 280/1000 [04:03<10:46,  1.11it/s]"
     ]
    },
    {
     "name": "stdout",
     "output_type": "stream",
     "text": [
      "https://books.toscrape.com/catalogue/my-name-is-lucy-barton_720/index.html\n"
     ]
    },
    {
     "name": "stderr",
     "output_type": "stream",
     "text": [
      " 28%|██████████████████████▏                                                        | 281/1000 [04:04<10:32,  1.14it/s]"
     ]
    },
    {
     "name": "stdout",
     "output_type": "stream",
     "text": [
      "https://books.toscrape.com/catalogue/my-mrs-brown_719/index.html\n"
     ]
    },
    {
     "name": "stderr",
     "output_type": "stream",
     "text": [
      " 28%|██████████████████████▎                                                        | 282/1000 [04:05<10:20,  1.16it/s]"
     ]
    },
    {
     "name": "stdout",
     "output_type": "stream",
     "text": [
      "https://books.toscrape.com/catalogue/my-kind-of-crazy_718/index.html\n"
     ]
    },
    {
     "name": "stderr",
     "output_type": "stream",
     "text": [
      " 28%|██████████████████████▎                                                        | 283/1000 [04:05<10:07,  1.18it/s]"
     ]
    },
    {
     "name": "stdout",
     "output_type": "stream",
     "text": [
      "https://books.toscrape.com/catalogue/mr-mercedes-bill-hodges-trilogy-1_717/index.html\n"
     ]
    },
    {
     "name": "stderr",
     "output_type": "stream",
     "text": [
      " 28%|██████████████████████▍                                                        | 284/1000 [04:06<09:58,  1.20it/s]"
     ]
    },
    {
     "name": "stdout",
     "output_type": "stream",
     "text": [
      "https://books.toscrape.com/catalogue/more-than-music-chasing-the-dream-1_716/index.html\n"
     ]
    },
    {
     "name": "stderr",
     "output_type": "stream",
     "text": [
      " 28%|██████████████████████▌                                                        | 285/1000 [04:07<10:02,  1.19it/s]"
     ]
    },
    {
     "name": "stdout",
     "output_type": "stream",
     "text": [
      "https://books.toscrape.com/catalogue/made-to-stick-why-some-ideas-survive-and-others-die_715/index.html\n"
     ]
    },
    {
     "name": "stderr",
     "output_type": "stream",
     "text": [
      " 29%|██████████████████████▌                                                        | 286/1000 [04:08<10:06,  1.18it/s]"
     ]
    },
    {
     "name": "stdout",
     "output_type": "stream",
     "text": [
      "https://books.toscrape.com/catalogue/luis-paints-the-world_714/index.html\n"
     ]
    },
    {
     "name": "stderr",
     "output_type": "stream",
     "text": [
      " 29%|██████████████████████▋                                                        | 287/1000 [04:09<10:09,  1.17it/s]"
     ]
    },
    {
     "name": "stdout",
     "output_type": "stream",
     "text": [
      "https://books.toscrape.com/catalogue/luckiest-girl-alive_713/index.html\n"
     ]
    },
    {
     "name": "stderr",
     "output_type": "stream",
     "text": [
      " 29%|██████████████████████▊                                                        | 288/1000 [04:10<09:50,  1.21it/s]"
     ]
    },
    {
     "name": "stdout",
     "output_type": "stream",
     "text": [
      "https://books.toscrape.com/catalogue/lowriders-to-the-center-of-the-earth-lowriders-in-space-2_712/index.html\n"
     ]
    },
    {
     "name": "stderr",
     "output_type": "stream",
     "text": [
      " 29%|██████████████████████▊                                                        | 289/1000 [04:11<09:52,  1.20it/s]"
     ]
    },
    {
     "name": "stdout",
     "output_type": "stream",
     "text": [
      "https://books.toscrape.com/catalogue/love-is-a-mix-tape-music-1_711/index.html\n"
     ]
    },
    {
     "name": "stderr",
     "output_type": "stream",
     "text": [
      " 29%|██████████████████████▉                                                        | 290/1000 [04:11<09:44,  1.22it/s]"
     ]
    },
    {
     "name": "stdout",
     "output_type": "stream",
     "text": [
      "https://books.toscrape.com/catalogue/looking-for-lovely-collecting-the-moments-that-matter_710/index.html\n"
     ]
    },
    {
     "name": "stderr",
     "output_type": "stream",
     "text": [
      " 29%|██████████████████████▉                                                        | 291/1000 [04:12<09:59,  1.18it/s]"
     ]
    },
    {
     "name": "stdout",
     "output_type": "stream",
     "text": [
      "https://books.toscrape.com/catalogue/living-leadership-by-insight-a-good-leader-achieves-a-great-leader-builds-monuments_709/index.html\n"
     ]
    },
    {
     "name": "stderr",
     "output_type": "stream",
     "text": [
      " 29%|███████████████████████                                                        | 292/1000 [04:13<09:49,  1.20it/s]"
     ]
    },
    {
     "name": "stdout",
     "output_type": "stream",
     "text": [
      "https://books.toscrape.com/catalogue/let-it-out-a-journey-through-journaling_708/index.html\n"
     ]
    },
    {
     "name": "stderr",
     "output_type": "stream",
     "text": [
      " 29%|███████████████████████▏                                                       | 293/1000 [04:14<10:43,  1.10it/s]"
     ]
    },
    {
     "name": "stdout",
     "output_type": "stream",
     "text": [
      "https://books.toscrape.com/catalogue/lady-midnight-the-dark-artifices-1_707/index.html\n"
     ]
    },
    {
     "name": "stderr",
     "output_type": "stream",
     "text": [
      " 29%|███████████████████████▏                                                       | 294/1000 [04:15<11:32,  1.02it/s]"
     ]
    },
    {
     "name": "stdout",
     "output_type": "stream",
     "text": [
      "https://books.toscrape.com/catalogue/its-all-easy-healthy-delicious-weeknight-meals-in-under-30-minutes_706/index.html\n"
     ]
    },
    {
     "name": "stderr",
     "output_type": "stream",
     "text": [
      " 30%|███████████████████████▎                                                       | 295/1000 [04:16<11:11,  1.05it/s]"
     ]
    },
    {
     "name": "stdout",
     "output_type": "stream",
     "text": [
      "https://books.toscrape.com/catalogue/island-of-dragons-unwanteds-7_705/index.html\n"
     ]
    },
    {
     "name": "stderr",
     "output_type": "stream",
     "text": [
      " 30%|███████████████████████▍                                                       | 296/1000 [04:17<11:26,  1.03it/s]"
     ]
    },
    {
     "name": "stdout",
     "output_type": "stream",
     "text": [
      "https://books.toscrape.com/catalogue/i-know-what-im-doing-and-other-lies-i-tell-myself-dispatches-from-a-life-under-construction_704/index.html\n"
     ]
    },
    {
     "name": "stderr",
     "output_type": "stream",
     "text": [
      " 30%|███████████████████████▍                                                       | 297/1000 [04:18<10:54,  1.07it/s]"
     ]
    },
    {
     "name": "stdout",
     "output_type": "stream",
     "text": [
      "https://books.toscrape.com/catalogue/i-am-pilgrim-pilgrim-1_703/index.html\n"
     ]
    },
    {
     "name": "stderr",
     "output_type": "stream",
     "text": [
      " 30%|███████████████████████▌                                                       | 298/1000 [04:19<10:25,  1.12it/s]"
     ]
    },
    {
     "name": "stdout",
     "output_type": "stream",
     "text": [
      "https://books.toscrape.com/catalogue/hyperbole-and-a-half-unfortunate-situations-flawed-coping-mechanisms-mayhem-and-other-things-that-happened_702/index.html\n"
     ]
    },
    {
     "name": "stderr",
     "output_type": "stream",
     "text": [
      " 30%|███████████████████████▌                                                       | 299/1000 [04:20<10:06,  1.16it/s]"
     ]
    },
    {
     "name": "stdout",
     "output_type": "stream",
     "text": [
      "https://books.toscrape.com/catalogue/hush-hush-hush-hush-1_701/index.html\n"
     ]
    },
    {
     "name": "stderr",
     "output_type": "stream",
     "text": [
      " 30%|███████████████████████▋                                                       | 300/1000 [04:20<10:05,  1.16it/s]"
     ]
    },
    {
     "name": "stdout",
     "output_type": "stream",
     "text": [
      "https://books.toscrape.com/catalogue/hold-your-breath-search-and-rescue-1_700/index.html\n"
     ]
    },
    {
     "name": "stderr",
     "output_type": "stream",
     "text": [
      " 30%|███████████████████████▊                                                       | 301/1000 [04:21<09:54,  1.18it/s]"
     ]
    },
    {
     "name": "stdout",
     "output_type": "stream",
     "text": [
      "https://books.toscrape.com/catalogue/hamilton-the-revolution_699/index.html\n"
     ]
    },
    {
     "name": "stderr",
     "output_type": "stream",
     "text": [
      " 30%|███████████████████████▊                                                       | 302/1000 [04:22<09:54,  1.17it/s]"
     ]
    },
    {
     "name": "stdout",
     "output_type": "stream",
     "text": [
      "https://books.toscrape.com/catalogue/greek-mythic-history_698/index.html\n"
     ]
    },
    {
     "name": "stderr",
     "output_type": "stream",
     "text": [
      " 30%|███████████████████████▉                                                       | 303/1000 [04:23<09:40,  1.20it/s]"
     ]
    },
    {
     "name": "stdout",
     "output_type": "stream",
     "text": [
      "https://books.toscrape.com/catalogue/god-the-most-unpleasant-character-in-all-fiction_697/index.html\n"
     ]
    },
    {
     "name": "stderr",
     "output_type": "stream",
     "text": [
      " 30%|████████████████████████                                                       | 304/1000 [04:24<09:47,  1.18it/s]"
     ]
    },
    {
     "name": "stdout",
     "output_type": "stream",
     "text": [
      "https://books.toscrape.com/catalogue/glory-over-everything-beyond-the-kitchen-house_696/index.html\n"
     ]
    },
    {
     "name": "stderr",
     "output_type": "stream",
     "text": [
      " 30%|████████████████████████                                                       | 305/1000 [04:25<09:37,  1.20it/s]"
     ]
    },
    {
     "name": "stdout",
     "output_type": "stream",
     "text": [
      "https://books.toscrape.com/catalogue/feathers-displays-of-brilliant-plumage_695/index.html\n"
     ]
    },
    {
     "name": "stderr",
     "output_type": "stream",
     "text": [
      " 31%|████████████████████████▏                                                      | 306/1000 [04:25<09:38,  1.20it/s]"
     ]
    },
    {
     "name": "stdout",
     "output_type": "stream",
     "text": [
      "https://books.toscrape.com/catalogue/far-away-places-on-the-brink-of-change-seven-continents-twenty-five-years_694/index.html\n"
     ]
    },
    {
     "name": "stderr",
     "output_type": "stream",
     "text": [
      " 31%|████████████████████████▎                                                      | 307/1000 [04:27<10:31,  1.10it/s]"
     ]
    },
    {
     "name": "stdout",
     "output_type": "stream",
     "text": [
      "https://books.toscrape.com/catalogue/every-last-word_693/index.html\n"
     ]
    },
    {
     "name": "stderr",
     "output_type": "stream",
     "text": [
      " 31%|████████████████████████▎                                                      | 308/1000 [04:27<10:27,  1.10it/s]"
     ]
    },
    {
     "name": "stdout",
     "output_type": "stream",
     "text": [
      "https://books.toscrape.com/catalogue/eligible-the-austen-project-4_692/index.html\n"
     ]
    },
    {
     "name": "stderr",
     "output_type": "stream",
     "text": [
      " 31%|████████████████████████▍                                                      | 309/1000 [04:28<10:07,  1.14it/s]"
     ]
    },
    {
     "name": "stdout",
     "output_type": "stream",
     "text": [
      "https://books.toscrape.com/catalogue/el-deafo_691/index.html\n"
     ]
    },
    {
     "name": "stderr",
     "output_type": "stream",
     "text": [
      " 31%|████████████████████████▍                                                      | 310/1000 [04:29<10:06,  1.14it/s]"
     ]
    },
    {
     "name": "stdout",
     "output_type": "stream",
     "text": [
      "https://books.toscrape.com/catalogue/eight-hundred-grapes_690/index.html\n"
     ]
    },
    {
     "name": "stderr",
     "output_type": "stream",
     "text": [
      " 31%|████████████████████████▌                                                      | 311/1000 [04:30<09:49,  1.17it/s]"
     ]
    },
    {
     "name": "stdout",
     "output_type": "stream",
     "text": [
      "https://books.toscrape.com/catalogue/eaternity-more-than-150-deliciously-easy-vegan-recipes-for-a-long-healthy-satisfied-joyful-life_689/index.html\n"
     ]
    },
    {
     "name": "stderr",
     "output_type": "stream",
     "text": [
      " 31%|████████████████████████▋                                                      | 312/1000 [04:31<09:46,  1.17it/s]"
     ]
    },
    {
     "name": "stdout",
     "output_type": "stream",
     "text": [
      "https://books.toscrape.com/catalogue/eat-fat-get-thin_688/index.html\n"
     ]
    },
    {
     "name": "stderr",
     "output_type": "stream",
     "text": [
      " 31%|████████████████████████▋                                                      | 313/1000 [04:32<09:33,  1.20it/s]"
     ]
    },
    {
     "name": "stdout",
     "output_type": "stream",
     "text": [
      "https://books.toscrape.com/catalogue/dont-get-caught_687/index.html\n"
     ]
    },
    {
     "name": "stderr",
     "output_type": "stream",
     "text": [
      " 31%|████████████████████████▊                                                      | 314/1000 [04:32<09:42,  1.18it/s]"
     ]
    },
    {
     "name": "stdout",
     "output_type": "stream",
     "text": [
      "https://books.toscrape.com/catalogue/doctor-sleep-the-shining-2_686/index.html\n"
     ]
    },
    {
     "name": "stderr",
     "output_type": "stream",
     "text": [
      " 32%|████████████████████████▉                                                      | 315/1000 [04:33<09:27,  1.21it/s]"
     ]
    },
    {
     "name": "stdout",
     "output_type": "stream",
     "text": [
      "https://books.toscrape.com/catalogue/demigods-magicians-percy-and-annabeth-meet-the-kanes-percy-jackson-kane-chronicles-crossover-1-3_685/index.html\n"
     ]
    },
    {
     "name": "stderr",
     "output_type": "stream",
     "text": [
      " 32%|████████████████████████▉                                                      | 316/1000 [04:34<09:18,  1.22it/s]"
     ]
    },
    {
     "name": "stdout",
     "output_type": "stream",
     "text": [
      "https://books.toscrape.com/catalogue/dear-mr-knightley_684/index.html\n"
     ]
    },
    {
     "name": "stderr",
     "output_type": "stream",
     "text": [
      " 32%|█████████████████████████                                                      | 317/1000 [04:35<09:22,  1.21it/s]"
     ]
    },
    {
     "name": "stdout",
     "output_type": "stream",
     "text": [
      "https://books.toscrape.com/catalogue/daily-fantasy-sports_683/index.html\n"
     ]
    },
    {
     "name": "stderr",
     "output_type": "stream",
     "text": [
      " 32%|█████████████████████████                                                      | 318/1000 [04:36<10:20,  1.10it/s]"
     ]
    },
    {
     "name": "stdout",
     "output_type": "stream",
     "text": [
      "https://books.toscrape.com/catalogue/crazy-love-overwhelmed-by-a-relentless-god_682/index.html\n"
     ]
    },
    {
     "name": "stderr",
     "output_type": "stream",
     "text": [
      " 32%|█████████████████████████▏                                                     | 319/1000 [04:37<10:03,  1.13it/s]"
     ]
    },
    {
     "name": "stdout",
     "output_type": "stream",
     "text": [
      "https://books.toscrape.com/catalogue/cometh-the-hour-the-clifton-chronicles-6_681/index.html\n"
     ]
    },
    {
     "name": "stderr",
     "output_type": "stream",
     "text": [
      " 32%|█████████████████████████▎                                                     | 320/1000 [04:38<09:53,  1.15it/s]"
     ]
    },
    {
     "name": "stdout",
     "output_type": "stream",
     "text": [
      "https://books.toscrape.com/catalogue/code-name-verity-code-name-verity-1_680/index.html\n"
     ]
    },
    {
     "name": "stderr",
     "output_type": "stream",
     "text": [
      " 32%|█████████████████████████▎                                                     | 321/1000 [04:38<09:35,  1.18it/s]"
     ]
    },
    {
     "name": "stdout",
     "output_type": "stream",
     "text": [
      "https://books.toscrape.com/catalogue/clockwork-angel-the-infernal-devices-1_679/index.html\n"
     ]
    },
    {
     "name": "stderr",
     "output_type": "stream",
     "text": [
      " 32%|█████████████████████████▍                                                     | 322/1000 [04:39<09:28,  1.19it/s]"
     ]
    },
    {
     "name": "stdout",
     "output_type": "stream",
     "text": [
      "https://books.toscrape.com/catalogue/city-of-glass-the-mortal-instruments-3_678/index.html\n"
     ]
    },
    {
     "name": "stderr",
     "output_type": "stream",
     "text": [
      " 32%|█████████████████████████▌                                                     | 323/1000 [04:40<09:23,  1.20it/s]"
     ]
    },
    {
     "name": "stdout",
     "output_type": "stream",
     "text": [
      "https://books.toscrape.com/catalogue/city-of-fallen-angels-the-mortal-instruments-4_677/index.html\n"
     ]
    },
    {
     "name": "stderr",
     "output_type": "stream",
     "text": [
      " 32%|█████████████████████████▌                                                     | 324/1000 [04:41<09:32,  1.18it/s]"
     ]
    },
    {
     "name": "stdout",
     "output_type": "stream",
     "text": [
      "https://books.toscrape.com/catalogue/city-of-bones-the-mortal-instruments-1_676/index.html\n"
     ]
    },
    {
     "name": "stderr",
     "output_type": "stream",
     "text": [
      " 32%|█████████████████████████▋                                                     | 325/1000 [04:42<09:32,  1.18it/s]"
     ]
    },
    {
     "name": "stdout",
     "output_type": "stream",
     "text": [
      "https://books.toscrape.com/catalogue/city-of-ashes-the-mortal-instruments-2_675/index.html\n"
     ]
    },
    {
     "name": "stderr",
     "output_type": "stream",
     "text": [
      " 33%|█████████████████████████▊                                                     | 326/1000 [04:43<09:23,  1.20it/s]"
     ]
    },
    {
     "name": "stdout",
     "output_type": "stream",
     "text": [
      "https://books.toscrape.com/catalogue/cell_674/index.html\n"
     ]
    },
    {
     "name": "stderr",
     "output_type": "stream",
     "text": [
      " 33%|█████████████████████████▊                                                     | 327/1000 [04:43<09:30,  1.18it/s]"
     ]
    },
    {
     "name": "stdout",
     "output_type": "stream",
     "text": [
      "https://books.toscrape.com/catalogue/catching-jordan-hundred-oaks_673/index.html\n"
     ]
    },
    {
     "name": "stderr",
     "output_type": "stream",
     "text": [
      " 33%|█████████████████████████▉                                                     | 328/1000 [04:44<09:28,  1.18it/s]"
     ]
    },
    {
     "name": "stdout",
     "output_type": "stream",
     "text": [
      "https://books.toscrape.com/catalogue/carry-on-warrior-thoughts-on-life-unarmed_672/index.html\n"
     ]
    },
    {
     "name": "stderr",
     "output_type": "stream",
     "text": [
      " 33%|█████████████████████████▉                                                     | 329/1000 [04:45<09:17,  1.20it/s]"
     ]
    },
    {
     "name": "stdout",
     "output_type": "stream",
     "text": [
      "https://books.toscrape.com/catalogue/carrie_671/index.html\n"
     ]
    },
    {
     "name": "stderr",
     "output_type": "stream",
     "text": [
      " 33%|██████████████████████████                                                     | 330/1000 [04:46<09:13,  1.21it/s]"
     ]
    },
    {
     "name": "stdout",
     "output_type": "stream",
     "text": [
      "https://books.toscrape.com/catalogue/buying-in-the-secret-dialogue-between-what-we-buy-and-who-we-are_670/index.html\n"
     ]
    },
    {
     "name": "stderr",
     "output_type": "stream",
     "text": [
      " 33%|██████████████████████████▏                                                    | 331/1000 [04:47<09:52,  1.13it/s]"
     ]
    },
    {
     "name": "stdout",
     "output_type": "stream",
     "text": [
      "https://books.toscrape.com/catalogue/brain-on-fire-my-month-of-madness_669/index.html\n"
     ]
    },
    {
     "name": "stderr",
     "output_type": "stream",
     "text": [
      " 33%|██████████████████████████▏                                                    | 332/1000 [04:48<09:38,  1.16it/s]"
     ]
    },
    {
     "name": "stdout",
     "output_type": "stream",
     "text": [
      "https://books.toscrape.com/catalogue/batman-europa_668/index.html\n"
     ]
    },
    {
     "name": "stderr",
     "output_type": "stream",
     "text": [
      " 33%|██████████████████████████▎                                                    | 333/1000 [04:49<09:30,  1.17it/s]"
     ]
    },
    {
     "name": "stdout",
     "output_type": "stream",
     "text": [
      "https://books.toscrape.com/catalogue/barefoot-contessa-back-to-basics_667/index.html\n"
     ]
    },
    {
     "name": "stderr",
     "output_type": "stream",
     "text": [
      " 33%|██████████████████████████▍                                                    | 334/1000 [04:50<10:22,  1.07it/s]"
     ]
    },
    {
     "name": "stdout",
     "output_type": "stream",
     "text": [
      "https://books.toscrape.com/catalogue/barefoot-contessa-at-home-everyday-recipes-youll-make-over-and-over-again_666/index.html\n"
     ]
    },
    {
     "name": "stderr",
     "output_type": "stream",
     "text": [
      " 34%|██████████████████████████▍                                                    | 335/1000 [04:51<10:15,  1.08it/s]"
     ]
    },
    {
     "name": "stdout",
     "output_type": "stream",
     "text": [
      "https://books.toscrape.com/catalogue/balloon-animals_665/index.html\n"
     ]
    },
    {
     "name": "stderr",
     "output_type": "stream",
     "text": [
      " 34%|██████████████████████████▌                                                    | 336/1000 [04:51<10:04,  1.10it/s]"
     ]
    },
    {
     "name": "stdout",
     "output_type": "stream",
     "text": [
      "https://books.toscrape.com/catalogue/art-ops-vol-1_664/index.html\n"
     ]
    },
    {
     "name": "stderr",
     "output_type": "stream",
     "text": [
      " 34%|██████████████████████████▌                                                    | 337/1000 [04:52<09:58,  1.11it/s]"
     ]
    },
    {
     "name": "stdout",
     "output_type": "stream",
     "text": [
      "https://books.toscrape.com/catalogue/aristotle-and-dante-discover-the-secrets-of-the-universe-aristotle-and-dante-discover-the-secrets-of-the-universe-1_663/index.html\n"
     ]
    },
    {
     "name": "stderr",
     "output_type": "stream",
     "text": [
      " 34%|██████████████████████████▋                                                    | 338/1000 [04:53<09:53,  1.11it/s]"
     ]
    },
    {
     "name": "stdout",
     "output_type": "stream",
     "text": [
      "https://books.toscrape.com/catalogue/angels-walking-angels-walking-1_662/index.html\n"
     ]
    },
    {
     "name": "stderr",
     "output_type": "stream",
     "text": [
      " 34%|██████████████████████████▊                                                    | 339/1000 [04:54<09:49,  1.12it/s]"
     ]
    },
    {
     "name": "stdout",
     "output_type": "stream",
     "text": [
      "https://books.toscrape.com/catalogue/angels-demons-robert-langdon-1_661/index.html\n"
     ]
    },
    {
     "name": "stderr",
     "output_type": "stream",
     "text": [
      " 34%|██████████████████████████▊                                                    | 340/1000 [04:55<09:36,  1.14it/s]"
     ]
    },
    {
     "name": "stdout",
     "output_type": "stream",
     "text": [
      "https://books.toscrape.com/catalogue/all-the-light-we-cannot-see_660/index.html\n"
     ]
    },
    {
     "name": "stderr",
     "output_type": "stream",
     "text": [
      " 34%|██████████████████████████▉                                                    | 341/1000 [04:56<10:23,  1.06it/s]"
     ]
    },
    {
     "name": "stdout",
     "output_type": "stream",
     "text": [
      "https://books.toscrape.com/catalogue/adulthood-is-a-myth-a-sarahs-scribbles-collection_659/index.html\n"
     ]
    },
    {
     "name": "stderr",
     "output_type": "stream",
     "text": [
      " 34%|███████████████████████████                                                    | 342/1000 [04:57<10:02,  1.09it/s]"
     ]
    },
    {
     "name": "stdout",
     "output_type": "stream",
     "text": [
      "https://books.toscrape.com/catalogue/abstract-city_658/index.html\n"
     ]
    },
    {
     "name": "stderr",
     "output_type": "stream",
     "text": [
      " 34%|███████████████████████████                                                    | 343/1000 [04:58<09:46,  1.12it/s]"
     ]
    },
    {
     "name": "stdout",
     "output_type": "stream",
     "text": [
      "https://books.toscrape.com/catalogue/a-time-of-torment-charlie-parker-14_657/index.html\n"
     ]
    },
    {
     "name": "stderr",
     "output_type": "stream",
     "text": [
      " 34%|███████████████████████████▏                                                   | 344/1000 [04:59<09:30,  1.15it/s]"
     ]
    },
    {
     "name": "stdout",
     "output_type": "stream",
     "text": [
      "https://books.toscrape.com/catalogue/a-study-in-scarlet-sherlock-holmes-1_656/index.html\n"
     ]
    },
    {
     "name": "stderr",
     "output_type": "stream",
     "text": [
      " 34%|███████████████████████████▎                                                   | 345/1000 [05:00<09:48,  1.11it/s]"
     ]
    },
    {
     "name": "stdout",
     "output_type": "stream",
     "text": [
      "https://books.toscrape.com/catalogue/a-series-of-catastrophes-and-miracles-a-true-story-of-love-science-and-cancer_655/index.html\n"
     ]
    },
    {
     "name": "stderr",
     "output_type": "stream",
     "text": [
      " 35%|███████████████████████████▎                                                   | 346/1000 [05:00<09:34,  1.14it/s]"
     ]
    },
    {
     "name": "stdout",
     "output_type": "stream",
     "text": [
      "https://books.toscrape.com/catalogue/a-peoples-history-of-the-united-states_654/index.html\n"
     ]
    },
    {
     "name": "stderr",
     "output_type": "stream",
     "text": [
      " 35%|███████████████████████████▍                                                   | 347/1000 [05:01<09:21,  1.16it/s]"
     ]
    },
    {
     "name": "stdout",
     "output_type": "stream",
     "text": [
      "https://books.toscrape.com/catalogue/a-man-called-ove_653/index.html\n"
     ]
    },
    {
     "name": "stderr",
     "output_type": "stream",
     "text": [
      " 35%|███████████████████████████▍                                                   | 348/1000 [05:02<09:14,  1.18it/s]"
     ]
    },
    {
     "name": "stdout",
     "output_type": "stream",
     "text": [
      "https://books.toscrape.com/catalogue/a-distant-mirror-the-calamitous-14th-century_652/index.html\n"
     ]
    },
    {
     "name": "stderr",
     "output_type": "stream",
     "text": [
      " 35%|███████████████████████████▌                                                   | 349/1000 [05:03<09:19,  1.16it/s]"
     ]
    },
    {
     "name": "stdout",
     "output_type": "stream",
     "text": [
      "https://books.toscrape.com/catalogue/a-brush-of-wings-angels-walking-3_651/index.html\n"
     ]
    },
    {
     "name": "stderr",
     "output_type": "stream",
     "text": [
      " 35%|███████████████████████████▋                                                   | 350/1000 [05:04<09:18,  1.16it/s]"
     ]
    },
    {
     "name": "stdout",
     "output_type": "stream",
     "text": [
      "https://books.toscrape.com/catalogue/1491-new-revelations-of-the-americas-before-columbus_650/index.html\n"
     ]
    },
    {
     "name": "stderr",
     "output_type": "stream",
     "text": [
      " 35%|███████████████████████████▋                                                   | 351/1000 [05:05<09:21,  1.15it/s]"
     ]
    },
    {
     "name": "stdout",
     "output_type": "stream",
     "text": [
      "https://books.toscrape.com/catalogue/the-three-searches-meaning-and-the-story_649/index.html\n"
     ]
    },
    {
     "name": "stderr",
     "output_type": "stream",
     "text": [
      " 35%|███████████████████████████▊                                                   | 352/1000 [05:05<09:16,  1.17it/s]"
     ]
    },
    {
     "name": "stdout",
     "output_type": "stream",
     "text": [
      "https://books.toscrape.com/catalogue/searching-for-meaning-in-gailana_648/index.html\n"
     ]
    },
    {
     "name": "stderr",
     "output_type": "stream",
     "text": [
      " 35%|███████████████████████████▉                                                   | 353/1000 [05:06<09:19,  1.16it/s]"
     ]
    },
    {
     "name": "stdout",
     "output_type": "stream",
     "text": [
      "https://books.toscrape.com/catalogue/rook_647/index.html\n"
     ]
    },
    {
     "name": "stderr",
     "output_type": "stream",
     "text": [
      " 35%|███████████████████████████▉                                                   | 354/1000 [05:07<09:16,  1.16it/s]"
     ]
    },
    {
     "name": "stdout",
     "output_type": "stream",
     "text": [
      "https://books.toscrape.com/catalogue/my-kitchen-year-136-recipes-that-saved-my-life_646/index.html\n"
     ]
    },
    {
     "name": "stderr",
     "output_type": "stream",
     "text": [
      " 36%|████████████████████████████                                                   | 355/1000 [05:08<09:59,  1.08it/s]"
     ]
    },
    {
     "name": "stdout",
     "output_type": "stream",
     "text": [
      "https://books.toscrape.com/catalogue/13-hours-the-inside-account-of-what-really-happened-in-benghazi_645/index.html\n"
     ]
    },
    {
     "name": "stderr",
     "output_type": "stream",
     "text": [
      " 36%|████████████████████████████                                                   | 356/1000 [05:09<09:42,  1.10it/s]"
     ]
    },
    {
     "name": "stdout",
     "output_type": "stream",
     "text": [
      "https://books.toscrape.com/catalogue/will-you-wont-you-want-me_644/index.html\n"
     ]
    },
    {
     "name": "stderr",
     "output_type": "stream",
     "text": [
      " 36%|████████████████████████████▏                                                  | 357/1000 [05:10<09:19,  1.15it/s]"
     ]
    },
    {
     "name": "stdout",
     "output_type": "stream",
     "text": [
      "https://books.toscrape.com/catalogue/tipping-point-for-planet-earth-how-close-are-we-to-the-edge_643/index.html\n"
     ]
    },
    {
     "name": "stderr",
     "output_type": "stream",
     "text": [
      " 36%|████████████████████████████▎                                                  | 358/1000 [05:11<09:03,  1.18it/s]"
     ]
    },
    {
     "name": "stdout",
     "output_type": "stream",
     "text": [
      "https://books.toscrape.com/catalogue/the-star-touched-queen_642/index.html\n"
     ]
    },
    {
     "name": "stderr",
     "output_type": "stream",
     "text": [
      " 36%|████████████████████████████▎                                                  | 359/1000 [05:12<08:57,  1.19it/s]"
     ]
    },
    {
     "name": "stdout",
     "output_type": "stream",
     "text": [
      "https://books.toscrape.com/catalogue/the-silent-sister-riley-macpherson-1_641/index.html\n"
     ]
    },
    {
     "name": "stderr",
     "output_type": "stream",
     "text": [
      " 36%|████████████████████████████▍                                                  | 360/1000 [05:12<08:52,  1.20it/s]"
     ]
    },
    {
     "name": "stdout",
     "output_type": "stream",
     "text": [
      "https://books.toscrape.com/catalogue/the-midnight-watch-a-novel-of-the-titanic-and-the-californian_640/index.html\n"
     ]
    },
    {
     "name": "stderr",
     "output_type": "stream",
     "text": [
      " 36%|████████████████████████████▌                                                  | 361/1000 [05:13<08:48,  1.21it/s]"
     ]
    },
    {
     "name": "stdout",
     "output_type": "stream",
     "text": [
      "https://books.toscrape.com/catalogue/the-lonely-city-adventures-in-the-art-of-being-alone_639/index.html\n"
     ]
    },
    {
     "name": "stderr",
     "output_type": "stream",
     "text": [
      " 36%|████████████████████████████▌                                                  | 362/1000 [05:14<08:55,  1.19it/s]"
     ]
    },
    {
     "name": "stdout",
     "output_type": "stream",
     "text": [
      "https://books.toscrape.com/catalogue/the-gray-rhino-how-to-recognize-and-act-on-the-obvious-dangers-we-ignore_638/index.html\n"
     ]
    },
    {
     "name": "stderr",
     "output_type": "stream",
     "text": [
      " 36%|████████████████████████████▋                                                  | 363/1000 [05:15<08:45,  1.21it/s]"
     ]
    },
    {
     "name": "stdout",
     "output_type": "stream",
     "text": [
      "https://books.toscrape.com/catalogue/the-golden-condom-and-other-essays-on-love-lost-and-found_637/index.html\n"
     ]
    },
    {
     "name": "stderr",
     "output_type": "stream",
     "text": [
      " 36%|████████████████████████████▊                                                  | 364/1000 [05:16<08:36,  1.23it/s]"
     ]
    },
    {
     "name": "stdout",
     "output_type": "stream",
     "text": [
      "https://books.toscrape.com/catalogue/the-epidemic-the-program-06_636/index.html\n"
     ]
    },
    {
     "name": "stderr",
     "output_type": "stream",
     "text": [
      " 36%|████████████████████████████▊                                                  | 365/1000 [05:17<08:51,  1.19it/s]"
     ]
    },
    {
     "name": "stdout",
     "output_type": "stream",
     "text": [
      "https://books.toscrape.com/catalogue/the-dinner-party_635/index.html\n"
     ]
    },
    {
     "name": "stderr",
     "output_type": "stream",
     "text": [
      " 37%|████████████████████████████▉                                                  | 366/1000 [05:17<08:42,  1.21it/s]"
     ]
    },
    {
     "name": "stdout",
     "output_type": "stream",
     "text": [
      "https://books.toscrape.com/catalogue/the-diary-of-a-young-girl_634/index.html\n"
     ]
    },
    {
     "name": "stderr",
     "output_type": "stream",
     "text": [
      " 37%|████████████████████████████▉                                                  | 367/1000 [05:18<08:59,  1.17it/s]"
     ]
    },
    {
     "name": "stdout",
     "output_type": "stream",
     "text": [
      "https://books.toscrape.com/catalogue/the-children_633/index.html\n"
     ]
    },
    {
     "name": "stderr",
     "output_type": "stream",
     "text": [
      " 37%|█████████████████████████████                                                  | 368/1000 [05:19<08:51,  1.19it/s]"
     ]
    },
    {
     "name": "stdout",
     "output_type": "stream",
     "text": [
      "https://books.toscrape.com/catalogue/stars-above-the-lunar-chronicles-45_632/index.html\n"
     ]
    },
    {
     "name": "stderr",
     "output_type": "stream",
     "text": [
      " 37%|█████████████████████████████▏                                                 | 369/1000 [05:20<10:10,  1.03it/s]"
     ]
    },
    {
     "name": "stdout",
     "output_type": "stream",
     "text": [
      "https://books.toscrape.com/catalogue/snatched-how-a-drug-queen-went-undercover-for-the-dea-and-was-kidnapped-by-colombian-guerillas_631/index.html\n"
     ]
    },
    {
     "name": "stderr",
     "output_type": "stream",
     "text": [
      " 37%|█████████████████████████████▏                                                 | 370/1000 [05:21<10:38,  1.01s/it]"
     ]
    },
    {
     "name": "stdout",
     "output_type": "stream",
     "text": [
      "https://books.toscrape.com/catalogue/raspberry-pi-electronics-projects-for-the-evil-genius_630/index.html\n"
     ]
    },
    {
     "name": "stderr",
     "output_type": "stream",
     "text": [
      " 37%|█████████████████████████████▎                                                 | 371/1000 [05:22<10:00,  1.05it/s]"
     ]
    },
    {
     "name": "stdout",
     "output_type": "stream",
     "text": [
      "https://books.toscrape.com/catalogue/quench-your-own-thirst-business-lessons-learned-over-a-beer-or-two_629/index.html\n"
     ]
    },
    {
     "name": "stderr",
     "output_type": "stream",
     "text": [
      " 37%|█████████████████████████████▍                                                 | 372/1000 [05:23<09:48,  1.07it/s]"
     ]
    },
    {
     "name": "stdout",
     "output_type": "stream",
     "text": [
      "https://books.toscrape.com/catalogue/psycho-sanitarium-psycho-15_628/index.html\n"
     ]
    },
    {
     "name": "stderr",
     "output_type": "stream",
     "text": [
      " 37%|█████████████████████████████▍                                                 | 373/1000 [05:24<09:28,  1.10it/s]"
     ]
    },
    {
     "name": "stdout",
     "output_type": "stream",
     "text": [
      "https://books.toscrape.com/catalogue/poisonous-max-revere-novels-3_627/index.html\n"
     ]
    },
    {
     "name": "stderr",
     "output_type": "stream",
     "text": [
      " 37%|█████████████████████████████▌                                                 | 374/1000 [05:25<09:04,  1.15it/s]"
     ]
    },
    {
     "name": "stdout",
     "output_type": "stream",
     "text": [
      "https://books.toscrape.com/catalogue/one-with-you-crossfire-5_626/index.html\n"
     ]
    },
    {
     "name": "stderr",
     "output_type": "stream",
     "text": [
      " 38%|█████████████████████████████▋                                                 | 375/1000 [05:26<08:47,  1.18it/s]"
     ]
    },
    {
     "name": "stdout",
     "output_type": "stream",
     "text": [
      "https://books.toscrape.com/catalogue/no-love-allowed-dodge-cove-1_625/index.html\n"
     ]
    },
    {
     "name": "stderr",
     "output_type": "stream",
     "text": [
      " 38%|█████████████████████████████▋                                                 | 376/1000 [05:26<08:38,  1.20it/s]"
     ]
    },
    {
     "name": "stdout",
     "output_type": "stream",
     "text": [
      "https://books.toscrape.com/catalogue/murder-at-the-42nd-street-library-raymond-ambler-1_624/index.html\n"
     ]
    },
    {
     "name": "stderr",
     "output_type": "stream",
     "text": [
      " 38%|█████████████████████████████▊                                                 | 377/1000 [05:27<08:29,  1.22it/s]"
     ]
    },
    {
     "name": "stdout",
     "output_type": "stream",
     "text": [
      "https://books.toscrape.com/catalogue/most-wanted_623/index.html\n"
     ]
    },
    {
     "name": "stderr",
     "output_type": "stream",
     "text": [
      " 38%|█████████████████████████████▊                                                 | 378/1000 [05:28<08:36,  1.20it/s]"
     ]
    },
    {
     "name": "stdout",
     "output_type": "stream",
     "text": [
      "https://books.toscrape.com/catalogue/love-lies-and-spies_622/index.html\n"
     ]
    },
    {
     "name": "stderr",
     "output_type": "stream",
     "text": [
      " 38%|█████████████████████████████▉                                                 | 379/1000 [05:29<08:38,  1.20it/s]"
     ]
    },
    {
     "name": "stdout",
     "output_type": "stream",
     "text": [
      "https://books.toscrape.com/catalogue/how-to-speak-golf-an-illustrated-guide-to-links-lingo_621/index.html\n"
     ]
    },
    {
     "name": "stderr",
     "output_type": "stream",
     "text": [
      " 38%|██████████████████████████████                                                 | 380/1000 [05:30<08:39,  1.19it/s]"
     ]
    },
    {
     "name": "stdout",
     "output_type": "stream",
     "text": [
      "https://books.toscrape.com/catalogue/hide-away-eve-duncan-20_620/index.html\n"
     ]
    },
    {
     "name": "stderr",
     "output_type": "stream",
     "text": [
      " 38%|██████████████████████████████                                                 | 381/1000 [05:30<08:28,  1.22it/s]"
     ]
    },
    {
     "name": "stdout",
     "output_type": "stream",
     "text": [
      "https://books.toscrape.com/catalogue/furiously-happy-a-funny-book-about-horrible-things_619/index.html\n"
     ]
    },
    {
     "name": "stderr",
     "output_type": "stream",
     "text": [
      " 38%|██████████████████████████████▏                                                | 382/1000 [05:32<09:24,  1.10it/s]"
     ]
    },
    {
     "name": "stdout",
     "output_type": "stream",
     "text": [
      "https://books.toscrape.com/catalogue/everyday-italian-125-simple-and-delicious-recipes_618/index.html\n"
     ]
    },
    {
     "name": "stderr",
     "output_type": "stream",
     "text": [
      " 38%|██████████████████████████████▎                                                | 383/1000 [05:32<09:11,  1.12it/s]"
     ]
    },
    {
     "name": "stdout",
     "output_type": "stream",
     "text": [
      "https://books.toscrape.com/catalogue/equal-is-unfair-americas-misguided-fight-against-income-inequality_617/index.html\n"
     ]
    },
    {
     "name": "stderr",
     "output_type": "stream",
     "text": [
      " 38%|██████████████████████████████▎                                                | 384/1000 [05:33<09:06,  1.13it/s]"
     ]
    },
    {
     "name": "stdout",
     "output_type": "stream",
     "text": [
      "https://books.toscrape.com/catalogue/eleanor-park_616/index.html\n"
     ]
    },
    {
     "name": "stderr",
     "output_type": "stream",
     "text": [
      " 38%|██████████████████████████████▍                                                | 385/1000 [05:34<08:45,  1.17it/s]"
     ]
    },
    {
     "name": "stdout",
     "output_type": "stream",
     "text": [
      "https://books.toscrape.com/catalogue/dirty-dive-bar-1_615/index.html\n"
     ]
    },
    {
     "name": "stderr",
     "output_type": "stream",
     "text": [
      " 39%|██████████████████████████████▍                                                | 386/1000 [05:35<08:35,  1.19it/s]"
     ]
    },
    {
     "name": "stdout",
     "output_type": "stream",
     "text": [
      "https://books.toscrape.com/catalogue/can-you-keep-a-secret-fear-street-relaunch-4_614/index.html\n"
     ]
    },
    {
     "name": "stderr",
     "output_type": "stream",
     "text": [
      " 39%|██████████████████████████████▌                                                | 387/1000 [05:36<08:31,  1.20it/s]"
     ]
    },
    {
     "name": "stdout",
     "output_type": "stream",
     "text": [
      "https://books.toscrape.com/catalogue/boar-island-anna-pigeon-19_613/index.html\n"
     ]
    },
    {
     "name": "stderr",
     "output_type": "stream",
     "text": [
      " 39%|██████████████████████████████▋                                                | 388/1000 [05:37<08:35,  1.19it/s]"
     ]
    },
    {
     "name": "stdout",
     "output_type": "stream",
     "text": [
      "https://books.toscrape.com/catalogue/a-paris-apartment_612/index.html\n"
     ]
    },
    {
     "name": "stderr",
     "output_type": "stream",
     "text": [
      " 39%|██████████████████████████████▋                                                | 389/1000 [05:38<09:27,  1.08it/s]"
     ]
    },
    {
     "name": "stdout",
     "output_type": "stream",
     "text": [
      "https://books.toscrape.com/catalogue/a-la-mode-120-recipes-in-60-pairings-pies-tarts-cakes-crisps-and-more-topped-with-ice-cream-gelato-frozen-custard-and-more_611/index.html\n"
     ]
    },
    {
     "name": "stderr",
     "output_type": "stream",
     "text": [
      " 39%|██████████████████████████████▊                                                | 390/1000 [05:39<09:52,  1.03it/s]"
     ]
    },
    {
     "name": "stdout",
     "output_type": "stream",
     "text": [
      "https://books.toscrape.com/catalogue/troublemaker-surviving-hollywood-and-scientology_610/index.html\n"
     ]
    },
    {
     "name": "stderr",
     "output_type": "stream",
     "text": [
      " 39%|██████████████████████████████▉                                                | 391/1000 [05:40<10:18,  1.02s/it]"
     ]
    },
    {
     "name": "stdout",
     "output_type": "stream",
     "text": [
      "https://books.toscrape.com/catalogue/the-widow_609/index.html\n"
     ]
    },
    {
     "name": "stderr",
     "output_type": "stream",
     "text": [
      " 39%|██████████████████████████████▉                                                | 392/1000 [05:41<09:49,  1.03it/s]"
     ]
    },
    {
     "name": "stdout",
     "output_type": "stream",
     "text": [
      "https://books.toscrape.com/catalogue/the-sleep-revolution-transforming-your-life-one-night-at-a-time_608/index.html\n"
     ]
    },
    {
     "name": "stderr",
     "output_type": "stream",
     "text": [
      " 39%|███████████████████████████████                                                | 393/1000 [05:42<10:04,  1.00it/s]"
     ]
    },
    {
     "name": "stdout",
     "output_type": "stream",
     "text": [
      "https://books.toscrape.com/catalogue/the-improbability-of-love_607/index.html\n"
     ]
    },
    {
     "name": "stderr",
     "output_type": "stream",
     "text": [
      " 39%|███████████████████████████████▏                                               | 394/1000 [05:43<09:42,  1.04it/s]"
     ]
    },
    {
     "name": "stdout",
     "output_type": "stream",
     "text": [
      "https://books.toscrape.com/catalogue/the-art-of-startup-fundraising_606/index.html\n"
     ]
    },
    {
     "name": "stderr",
     "output_type": "stream",
     "text": [
      " 40%|███████████████████████████████▏                                               | 395/1000 [05:44<09:59,  1.01it/s]"
     ]
    },
    {
     "name": "stdout",
     "output_type": "stream",
     "text": [
      "https://books.toscrape.com/catalogue/take-me-home-tonight-rock-star-romance-3_605/index.html\n"
     ]
    },
    {
     "name": "stderr",
     "output_type": "stream",
     "text": [
      " 40%|███████████████████████████████▎                                               | 396/1000 [05:45<09:22,  1.07it/s]"
     ]
    },
    {
     "name": "stdout",
     "output_type": "stream",
     "text": [
      "https://books.toscrape.com/catalogue/sleeping-giants-themis-files-1_604/index.html\n"
     ]
    },
    {
     "name": "stderr",
     "output_type": "stream",
     "text": [
      " 40%|███████████████████████████████▎                                               | 397/1000 [05:45<08:55,  1.13it/s]"
     ]
    },
    {
     "name": "stdout",
     "output_type": "stream",
     "text": [
      "https://books.toscrape.com/catalogue/setting-the-world-on-fire-the-brief-astonishing-life-of-st-catherine-of-siena_603/index.html\n"
     ]
    },
    {
     "name": "stderr",
     "output_type": "stream",
     "text": [
      " 40%|███████████████████████████████▍                                               | 398/1000 [05:46<08:43,  1.15it/s]"
     ]
    },
    {
     "name": "stdout",
     "output_type": "stream",
     "text": [
      "https://books.toscrape.com/catalogue/playing-with-fire_602/index.html\n"
     ]
    },
    {
     "name": "stderr",
     "output_type": "stream",
     "text": [
      " 40%|███████████████████████████████▌                                               | 399/1000 [05:47<08:36,  1.16it/s]"
     ]
    },
    {
     "name": "stdout",
     "output_type": "stream",
     "text": [
      "https://books.toscrape.com/catalogue/off-the-hook-fishing-for-trouble-1_601/index.html\n"
     ]
    },
    {
     "name": "stderr",
     "output_type": "stream",
     "text": [
      " 40%|███████████████████████████████▌                                               | 400/1000 [05:48<08:42,  1.15it/s]"
     ]
    },
    {
     "name": "stdout",
     "output_type": "stream",
     "text": [
      "https://books.toscrape.com/catalogue/mothering-sunday_600/index.html\n"
     ]
    },
    {
     "name": "stderr",
     "output_type": "stream",
     "text": [
      " 40%|███████████████████████████████▋                                               | 401/1000 [05:49<08:39,  1.15it/s]"
     ]
    },
    {
     "name": "stdout",
     "output_type": "stream",
     "text": [
      "https://books.toscrape.com/catalogue/mother-can-you-not_599/index.html\n"
     ]
    },
    {
     "name": "stderr",
     "output_type": "stream",
     "text": [
      " 40%|███████████████████████████████▊                                               | 402/1000 [05:50<08:44,  1.14it/s]"
     ]
    },
    {
     "name": "stdout",
     "output_type": "stream",
     "text": [
      "https://books.toscrape.com/catalogue/m-train_598/index.html\n"
     ]
    },
    {
     "name": "stderr",
     "output_type": "stream",
     "text": [
      " 40%|███████████████████████████████▊                                               | 403/1000 [05:50<08:26,  1.18it/s]"
     ]
    },
    {
     "name": "stdout",
     "output_type": "stream",
     "text": [
      "https://books.toscrape.com/catalogue/lilac-girls_597/index.html\n"
     ]
    },
    {
     "name": "stderr",
     "output_type": "stream",
     "text": [
      " 40%|███████████████████████████████▉                                               | 404/1000 [05:51<08:17,  1.20it/s]"
     ]
    },
    {
     "name": "stdout",
     "output_type": "stream",
     "text": [
      "https://books.toscrape.com/catalogue/lies-and-other-acts-of-love_596/index.html\n"
     ]
    },
    {
     "name": "stderr",
     "output_type": "stream",
     "text": [
      " 40%|███████████████████████████████▉                                               | 405/1000 [05:52<08:22,  1.18it/s]"
     ]
    },
    {
     "name": "stdout",
     "output_type": "stream",
     "text": [
      "https://books.toscrape.com/catalogue/lab-girl_595/index.html\n"
     ]
    },
    {
     "name": "stderr",
     "output_type": "stream",
     "text": [
      " 41%|████████████████████████████████                                               | 406/1000 [05:53<08:11,  1.21it/s]"
     ]
    },
    {
     "name": "stdout",
     "output_type": "stream",
     "text": [
      "https://books.toscrape.com/catalogue/keep-me-posted_594/index.html\n"
     ]
    },
    {
     "name": "stderr",
     "output_type": "stream",
     "text": [
      " 41%|████████████████████████████████▏                                              | 407/1000 [05:54<08:08,  1.21it/s]"
     ]
    },
    {
     "name": "stdout",
     "output_type": "stream",
     "text": [
      "https://books.toscrape.com/catalogue/it-didnt-start-with-you-how-inherited-family-trauma-shapes-who-we-are-and-how-to-end-the-cycle_593/index.html\n"
     ]
    },
    {
     "name": "stderr",
     "output_type": "stream",
     "text": [
      " 41%|████████████████████████████████▏                                              | 408/1000 [05:54<07:57,  1.24it/s]"
     ]
    },
    {
     "name": "stdout",
     "output_type": "stream",
     "text": [
      "https://books.toscrape.com/catalogue/grey-fifty-shades-4_592/index.html\n"
     ]
    },
    {
     "name": "stderr",
     "output_type": "stream",
     "text": [
      " 41%|████████████████████████████████▎                                              | 409/1000 [05:55<07:55,  1.24it/s]"
     ]
    },
    {
     "name": "stdout",
     "output_type": "stream",
     "text": [
      "https://books.toscrape.com/catalogue/exit-pursued-by-a-bear_591/index.html\n"
     ]
    },
    {
     "name": "stderr",
     "output_type": "stream",
     "text": [
      " 41%|████████████████████████████████▍                                              | 410/1000 [05:56<07:49,  1.26it/s]"
     ]
    },
    {
     "name": "stdout",
     "output_type": "stream",
     "text": [
      "https://books.toscrape.com/catalogue/daredevils_590/index.html\n"
     ]
    },
    {
     "name": "stderr",
     "output_type": "stream",
     "text": [
      " 41%|████████████████████████████████▍                                              | 411/1000 [05:57<07:51,  1.25it/s]"
     ]
    },
    {
     "name": "stdout",
     "output_type": "stream",
     "text": [
      "https://books.toscrape.com/catalogue/cravings-recipes-for-what-you-want-to-eat_589/index.html\n"
     ]
    },
    {
     "name": "stderr",
     "output_type": "stream",
     "text": [
      " 41%|████████████████████████████████▌                                              | 412/1000 [05:58<07:51,  1.25it/s]"
     ]
    },
    {
     "name": "stdout",
     "output_type": "stream",
     "text": [
      "https://books.toscrape.com/catalogue/born-for-this-how-to-find-the-work-you-were-meant-to-do_588/index.html\n"
     ]
    },
    {
     "name": "stderr",
     "output_type": "stream",
     "text": [
      " 41%|████████████████████████████████▋                                              | 413/1000 [05:59<08:00,  1.22it/s]"
     ]
    },
    {
     "name": "stdout",
     "output_type": "stream",
     "text": [
      "https://books.toscrape.com/catalogue/arena_587/index.html\n"
     ]
    },
    {
     "name": "stderr",
     "output_type": "stream",
     "text": [
      " 41%|████████████████████████████████▋                                              | 414/1000 [06:00<08:37,  1.13it/s]"
     ]
    },
    {
     "name": "stdout",
     "output_type": "stream",
     "text": [
      "https://books.toscrape.com/catalogue/adultery_586/index.html\n"
     ]
    },
    {
     "name": "stderr",
     "output_type": "stream",
     "text": [
      " 42%|████████████████████████████████▊                                              | 415/1000 [06:00<08:34,  1.14it/s]"
     ]
    },
    {
     "name": "stdout",
     "output_type": "stream",
     "text": [
      "https://books.toscrape.com/catalogue/a-mothers-reckoning-living-in-the-aftermath-of-tragedy_585/index.html\n"
     ]
    },
    {
     "name": "stderr",
     "output_type": "stream",
     "text": [
      " 42%|████████████████████████████████▊                                              | 416/1000 [06:01<08:59,  1.08it/s]"
     ]
    },
    {
     "name": "stdout",
     "output_type": "stream",
     "text": [
      "https://books.toscrape.com/catalogue/a-gentlemans-position-society-of-gentlemen-3_584/index.html\n"
     ]
    },
    {
     "name": "stderr",
     "output_type": "stream",
     "text": [
      " 42%|████████████████████████████████▉                                              | 417/1000 [06:02<08:32,  1.14it/s]"
     ]
    },
    {
     "name": "stdout",
     "output_type": "stream",
     "text": [
      "https://books.toscrape.com/catalogue/112263_583/index.html\n"
     ]
    },
    {
     "name": "stderr",
     "output_type": "stream",
     "text": [
      " 42%|█████████████████████████████████                                              | 418/1000 [06:03<08:27,  1.15it/s]"
     ]
    },
    {
     "name": "stdout",
     "output_type": "stream",
     "text": [
      "https://books.toscrape.com/catalogue/10-happier-how-i-tamed-the-voice-in-my-head-reduced-stress-without-losing-my-edge-and-found-self-help-that-actually-works_582/index.html\n"
     ]
    },
    {
     "name": "stderr",
     "output_type": "stream",
     "text": [
      " 42%|█████████████████████████████████                                              | 419/1000 [06:04<08:14,  1.18it/s]"
     ]
    },
    {
     "name": "stdout",
     "output_type": "stream",
     "text": [
      "https://books.toscrape.com/catalogue/10-day-green-smoothie-cleanse-lose-up-to-15-pounds-in-10-days_581/index.html\n"
     ]
    },
    {
     "name": "stderr",
     "output_type": "stream",
     "text": [
      " 42%|█████████████████████████████████▏                                             | 420/1000 [06:05<08:51,  1.09it/s]"
     ]
    },
    {
     "name": "stdout",
     "output_type": "stream",
     "text": [
      "https://books.toscrape.com/catalogue/without-shame_580/index.html\n"
     ]
    },
    {
     "name": "stderr",
     "output_type": "stream",
     "text": [
      " 42%|█████████████████████████████████▎                                             | 421/1000 [06:06<08:29,  1.14it/s]"
     ]
    },
    {
     "name": "stdout",
     "output_type": "stream",
     "text": [
      "https://books.toscrape.com/catalogue/watchmen_579/index.html\n"
     ]
    },
    {
     "name": "stderr",
     "output_type": "stream",
     "text": [
      " 42%|█████████████████████████████████▎                                             | 422/1000 [06:07<08:30,  1.13it/s]"
     ]
    },
    {
     "name": "stdout",
     "output_type": "stream",
     "text": [
      "https://books.toscrape.com/catalogue/unlimited-intuition-now_578/index.html\n"
     ]
    },
    {
     "name": "stderr",
     "output_type": "stream",
     "text": [
      " 42%|█████████████████████████████████▍                                             | 423/1000 [06:07<08:19,  1.15it/s]"
     ]
    },
    {
     "name": "stdout",
     "output_type": "stream",
     "text": [
      "https://books.toscrape.com/catalogue/underlying-notes_577/index.html\n"
     ]
    },
    {
     "name": "stderr",
     "output_type": "stream",
     "text": [
      " 42%|█████████████████████████████████▍                                             | 424/1000 [06:08<08:04,  1.19it/s]"
     ]
    },
    {
     "name": "stdout",
     "output_type": "stream",
     "text": [
      "https://books.toscrape.com/catalogue/the-shack_576/index.html\n"
     ]
    },
    {
     "name": "stderr",
     "output_type": "stream",
     "text": [
      " 42%|█████████████████████████████████▌                                             | 425/1000 [06:09<08:08,  1.18it/s]"
     ]
    },
    {
     "name": "stdout",
     "output_type": "stream",
     "text": [
      "https://books.toscrape.com/catalogue/the-new-brand-you-your-new-image-makes-the-sale-for-you_575/index.html\n"
     ]
    },
    {
     "name": "stderr",
     "output_type": "stream",
     "text": [
      " 43%|█████████████████████████████████▋                                             | 426/1000 [06:10<08:09,  1.17it/s]"
     ]
    },
    {
     "name": "stdout",
     "output_type": "stream",
     "text": [
      "https://books.toscrape.com/catalogue/the-moosewood-cookbook-recipes-from-moosewood-restaurant-ithaca-new-york_574/index.html\n"
     ]
    },
    {
     "name": "stderr",
     "output_type": "stream",
     "text": [
      " 43%|█████████████████████████████████▋                                             | 427/1000 [06:11<08:07,  1.17it/s]"
     ]
    },
    {
     "name": "stdout",
     "output_type": "stream",
     "text": [
      "https://books.toscrape.com/catalogue/the-flowers-lied_573/index.html\n"
     ]
    },
    {
     "name": "stderr",
     "output_type": "stream",
     "text": [
      " 43%|█████████████████████████████████▊                                             | 428/1000 [06:12<08:15,  1.16it/s]"
     ]
    },
    {
     "name": "stdout",
     "output_type": "stream",
     "text": [
      "https://books.toscrape.com/catalogue/the-fabric-of-the-cosmos-space-time-and-the-texture-of-reality_572/index.html\n"
     ]
    },
    {
     "name": "stderr",
     "output_type": "stream",
     "text": [
      " 43%|█████████████████████████████████▉                                             | 429/1000 [06:13<07:59,  1.19it/s]"
     ]
    },
    {
     "name": "stdout",
     "output_type": "stream",
     "text": [
      "https://books.toscrape.com/catalogue/the-book-of-mormon_571/index.html\n"
     ]
    },
    {
     "name": "stderr",
     "output_type": "stream",
     "text": [
      " 43%|█████████████████████████████████▉                                             | 430/1000 [06:13<07:50,  1.21it/s]"
     ]
    },
    {
     "name": "stdout",
     "output_type": "stream",
     "text": [
      "https://books.toscrape.com/catalogue/the-art-and-science-of-low-carbohydrate-living_570/index.html\n"
     ]
    },
    {
     "name": "stderr",
     "output_type": "stream",
     "text": [
      " 43%|██████████████████████████████████                                             | 431/1000 [06:14<07:58,  1.19it/s]"
     ]
    },
    {
     "name": "stdout",
     "output_type": "stream",
     "text": [
      "https://books.toscrape.com/catalogue/the-alien-club_569/index.html\n"
     ]
    },
    {
     "name": "stderr",
     "output_type": "stream",
     "text": [
      " 43%|██████████████████████████████████▏                                            | 432/1000 [06:15<07:56,  1.19it/s]"
     ]
    },
    {
     "name": "stdout",
     "output_type": "stream",
     "text": [
      "https://books.toscrape.com/catalogue/suzie-snowflake-one-beautiful-flake-a-self-esteem-story_568/index.html\n"
     ]
    },
    {
     "name": "stderr",
     "output_type": "stream",
     "text": [
      " 43%|██████████████████████████████████▏                                            | 433/1000 [06:16<07:55,  1.19it/s]"
     ]
    },
    {
     "name": "stdout",
     "output_type": "stream",
     "text": [
      "https://books.toscrape.com/catalogue/nap-a-roo_567/index.html\n"
     ]
    },
    {
     "name": "stderr",
     "output_type": "stream",
     "text": [
      " 43%|██████████████████████████████████▎                                            | 434/1000 [06:17<08:04,  1.17it/s]"
     ]
    },
    {
     "name": "stdout",
     "output_type": "stream",
     "text": [
      "https://books.toscrape.com/catalogue/nano-what-now-finding-your-editing-process-revising-your-nanowrimo-book-and-building-a-writing-career-through-publishing-and-beyond_566/index.html\n"
     ]
    },
    {
     "name": "stderr",
     "output_type": "stream",
     "text": [
      " 44%|██████████████████████████████████▎                                            | 435/1000 [06:18<07:49,  1.20it/s]"
     ]
    },
    {
     "name": "stdout",
     "output_type": "stream",
     "text": [
      "https://books.toscrape.com/catalogue/modern-day-fables_565/index.html\n"
     ]
    },
    {
     "name": "stderr",
     "output_type": "stream",
     "text": [
      " 44%|██████████████████████████████████▍                                            | 436/1000 [06:18<07:44,  1.21it/s]"
     ]
    },
    {
     "name": "stdout",
     "output_type": "stream",
     "text": [
      "https://books.toscrape.com/catalogue/if-i-gave-you-gods-phone-number-searching-for-spirituality-in-america_564/index.html\n"
     ]
    },
    {
     "name": "stderr",
     "output_type": "stream",
     "text": [
      " 44%|██████████████████████████████████▌                                            | 437/1000 [06:19<08:37,  1.09it/s]"
     ]
    },
    {
     "name": "stdout",
     "output_type": "stream",
     "text": [
      "https://books.toscrape.com/catalogue/fruits-basket-vol-9-fruits-basket-9_563/index.html\n"
     ]
    },
    {
     "name": "stderr",
     "output_type": "stream",
     "text": [
      " 44%|██████████████████████████████████▌                                            | 438/1000 [06:20<08:16,  1.13it/s]"
     ]
    },
    {
     "name": "stdout",
     "output_type": "stream",
     "text": [
      "https://books.toscrape.com/catalogue/dress-your-family-in-corduroy-and-denim_562/index.html\n"
     ]
    },
    {
     "name": "stderr",
     "output_type": "stream",
     "text": [
      " 44%|██████████████████████████████████▋                                            | 439/1000 [06:21<08:08,  1.15it/s]"
     ]
    },
    {
     "name": "stdout",
     "output_type": "stream",
     "text": [
      "https://books.toscrape.com/catalogue/dont-forget-steven_561/index.html\n"
     ]
    },
    {
     "name": "stderr",
     "output_type": "stream",
     "text": [
      " 44%|██████████████████████████████████▊                                            | 440/1000 [06:22<07:56,  1.18it/s]"
     ]
    },
    {
     "name": "stdout",
     "output_type": "stream",
     "text": [
      "https://books.toscrape.com/catalogue/chernobyl-012340-the-incredible-true-story-of-the-worlds-worst-nuclear-disaster_560/index.html\n"
     ]
    },
    {
     "name": "stderr",
     "output_type": "stream",
     "text": [
      " 44%|██████████████████████████████████▊                                            | 441/1000 [06:23<08:29,  1.10it/s]"
     ]
    },
    {
     "name": "stdout",
     "output_type": "stream",
     "text": [
      "https://books.toscrape.com/catalogue/art-and-fear-observations-on-the-perils-and-rewards-of-artmaking_559/index.html\n"
     ]
    },
    {
     "name": "stderr",
     "output_type": "stream",
     "text": [
      " 44%|██████████████████████████████████▉                                            | 442/1000 [06:24<08:47,  1.06it/s]"
     ]
    },
    {
     "name": "stdout",
     "output_type": "stream",
     "text": [
      "https://books.toscrape.com/catalogue/a-shard-of-ice-the-black-symphony-saga-1_558/index.html\n"
     ]
    },
    {
     "name": "stderr",
     "output_type": "stream",
     "text": [
      " 44%|██████████████████████████████████▉                                            | 443/1000 [06:25<09:09,  1.01it/s]"
     ]
    },
    {
     "name": "stdout",
     "output_type": "stream",
     "text": [
      "https://books.toscrape.com/catalogue/a-heros-curse-the-unseen-chronicles-1_557/index.html\n"
     ]
    },
    {
     "name": "stderr",
     "output_type": "stream",
     "text": [
      " 44%|███████████████████████████████████                                            | 444/1000 [06:26<08:41,  1.07it/s]"
     ]
    },
    {
     "name": "stdout",
     "output_type": "stream",
     "text": [
      "https://books.toscrape.com/catalogue/23-degrees-south-a-tropical-tale-of-changing-whether_556/index.html\n"
     ]
    },
    {
     "name": "stderr",
     "output_type": "stream",
     "text": [
      " 44%|███████████████████████████████████▏                                           | 445/1000 [06:27<08:19,  1.11it/s]"
     ]
    },
    {
     "name": "stdout",
     "output_type": "stream",
     "text": [
      "https://books.toscrape.com/catalogue/zero-to-one-notes-on-startups-or-how-to-build-the-future_555/index.html\n"
     ]
    },
    {
     "name": "stderr",
     "output_type": "stream",
     "text": [
      " 45%|███████████████████████████████████▏                                           | 446/1000 [06:28<08:01,  1.15it/s]"
     ]
    },
    {
     "name": "stdout",
     "output_type": "stream",
     "text": [
      "https://books.toscrape.com/catalogue/why-not-me_554/index.html\n"
     ]
    },
    {
     "name": "stderr",
     "output_type": "stream",
     "text": [
      " 45%|███████████████████████████████████▎                                           | 447/1000 [06:29<08:39,  1.06it/s]"
     ]
    },
    {
     "name": "stdout",
     "output_type": "stream",
     "text": [
      "https://books.toscrape.com/catalogue/when-breath-becomes-air_553/index.html\n"
     ]
    },
    {
     "name": "stderr",
     "output_type": "stream",
     "text": [
      " 45%|███████████████████████████████████▍                                           | 448/1000 [06:29<08:19,  1.11it/s]"
     ]
    },
    {
     "name": "stdout",
     "output_type": "stream",
     "text": [
      "https://books.toscrape.com/catalogue/vagabonding-an-uncommon-guide-to-the-art-of-long-term-world-travel_552/index.html\n"
     ]
    },
    {
     "name": "stderr",
     "output_type": "stream",
     "text": [
      " 45%|███████████████████████████████████▍                                           | 449/1000 [06:31<09:06,  1.01it/s]"
     ]
    },
    {
     "name": "stdout",
     "output_type": "stream",
     "text": [
      "https://books.toscrape.com/catalogue/the-unlikely-pilgrimage-of-harold-fry-harold-fry-1_551/index.html\n"
     ]
    },
    {
     "name": "stderr",
     "output_type": "stream",
     "text": [
      " 45%|███████████████████████████████████▌                                           | 450/1000 [06:32<08:48,  1.04it/s]"
     ]
    },
    {
     "name": "stdout",
     "output_type": "stream",
     "text": [
      "https://books.toscrape.com/catalogue/the-new-drawing-on-the-right-side-of-the-brain_550/index.html\n"
     ]
    },
    {
     "name": "stderr",
     "output_type": "stream",
     "text": [
      " 45%|███████████████████████████████████▋                                           | 451/1000 [06:32<08:25,  1.09it/s]"
     ]
    },
    {
     "name": "stdout",
     "output_type": "stream",
     "text": [
      "https://books.toscrape.com/catalogue/the-midnight-assassin-panic-scandal-and-the-hunt-for-americas-first-serial-killer_549/index.html\n"
     ]
    },
    {
     "name": "stderr",
     "output_type": "stream",
     "text": [
      " 45%|███████████████████████████████████▋                                           | 452/1000 [06:33<08:09,  1.12it/s]"
     ]
    },
    {
     "name": "stdout",
     "output_type": "stream",
     "text": [
      "https://books.toscrape.com/catalogue/the-martian-the-martian-1_548/index.html\n"
     ]
    },
    {
     "name": "stderr",
     "output_type": "stream",
     "text": [
      " 45%|███████████████████████████████████▊                                           | 453/1000 [06:34<08:31,  1.07it/s]"
     ]
    },
    {
     "name": "stdout",
     "output_type": "stream",
     "text": [
      "https://books.toscrape.com/catalogue/the-high-mountains-of-portugal_547/index.html\n"
     ]
    },
    {
     "name": "stderr",
     "output_type": "stream",
     "text": [
      " 45%|███████████████████████████████████▊                                           | 454/1000 [06:35<08:12,  1.11it/s]"
     ]
    },
    {
     "name": "stdout",
     "output_type": "stream",
     "text": [
      "https://books.toscrape.com/catalogue/the-grownup_546/index.html\n"
     ]
    },
    {
     "name": "stderr",
     "output_type": "stream",
     "text": [
      " 46%|███████████████████████████████████▉                                           | 455/1000 [06:36<08:00,  1.13it/s]"
     ]
    },
    {
     "name": "stdout",
     "output_type": "stream",
     "text": [
      "https://books.toscrape.com/catalogue/the-e-myth-revisited-why-most-small-businesses-dont-work-and-what-to-do-about-it_545/index.html\n"
     ]
    },
    {
     "name": "stderr",
     "output_type": "stream",
     "text": [
      " 46%|████████████████████████████████████                                           | 456/1000 [06:37<07:46,  1.17it/s]"
     ]
    },
    {
     "name": "stdout",
     "output_type": "stream",
     "text": [
      "https://books.toscrape.com/catalogue/south-of-sunshine_544/index.html\n"
     ]
    },
    {
     "name": "stderr",
     "output_type": "stream",
     "text": [
      " 46%|████████████████████████████████████                                           | 457/1000 [06:37<07:36,  1.19it/s]"
     ]
    },
    {
     "name": "stdout",
     "output_type": "stream",
     "text": [
      "https://books.toscrape.com/catalogue/smarter-faster-better-the-secrets-of-being-productive-in-life-and-business_543/index.html\n"
     ]
    },
    {
     "name": "stderr",
     "output_type": "stream",
     "text": [
      " 46%|████████████████████████████████████▏                                          | 458/1000 [06:38<07:37,  1.19it/s]"
     ]
    },
    {
     "name": "stdout",
     "output_type": "stream",
     "text": [
      "https://books.toscrape.com/catalogue/silence-in-the-dark-logan-point-4_542/index.html\n"
     ]
    },
    {
     "name": "stderr",
     "output_type": "stream",
     "text": [
      " 46%|████████████████████████████████████▎                                          | 459/1000 [06:39<07:38,  1.18it/s]"
     ]
    },
    {
     "name": "stdout",
     "output_type": "stream",
     "text": [
      "https://books.toscrape.com/catalogue/shadows-of-the-past-logan-point-1_541/index.html\n"
     ]
    },
    {
     "name": "stderr",
     "output_type": "stream",
     "text": [
      " 46%|████████████████████████████████████▎                                          | 460/1000 [06:40<07:44,  1.16it/s]"
     ]
    },
    {
     "name": "stdout",
     "output_type": "stream",
     "text": [
      "https://books.toscrape.com/catalogue/roller-girl_540/index.html\n"
     ]
    },
    {
     "name": "stderr",
     "output_type": "stream",
     "text": [
      " 46%|████████████████████████████████████▍                                          | 461/1000 [06:41<07:49,  1.15it/s]"
     ]
    },
    {
     "name": "stdout",
     "output_type": "stream",
     "text": [
      "https://books.toscrape.com/catalogue/rising-strong_539/index.html\n"
     ]
    },
    {
     "name": "stderr",
     "output_type": "stream",
     "text": [
      " 46%|████████████████████████████████████▍                                          | 462/1000 [06:42<07:41,  1.17it/s]"
     ]
    },
    {
     "name": "stdout",
     "output_type": "stream",
     "text": [
      "https://books.toscrape.com/catalogue/proofs-of-god-classical-arguments-from-tertullian-to-barth_538/index.html\n"
     ]
    },
    {
     "name": "stderr",
     "output_type": "stream",
     "text": [
      " 46%|████████████████████████████████████▌                                          | 463/1000 [06:43<07:39,  1.17it/s]"
     ]
    },
    {
     "name": "stdout",
     "output_type": "stream",
     "text": [
      "https://books.toscrape.com/catalogue/please-kill-me-the-uncensored-oral-history-of-punk_537/index.html\n"
     ]
    },
    {
     "name": "stderr",
     "output_type": "stream",
     "text": [
      " 46%|████████████████████████████████████▋                                          | 464/1000 [06:43<07:33,  1.18it/s]"
     ]
    },
    {
     "name": "stdout",
     "output_type": "stream",
     "text": [
      "https://books.toscrape.com/catalogue/out-of-print-city-lights-spotlight-no-14_536/index.html\n"
     ]
    },
    {
     "name": "stderr",
     "output_type": "stream",
     "text": [
      " 46%|████████████████████████████████████▋                                          | 465/1000 [06:45<08:03,  1.11it/s]"
     ]
    },
    {
     "name": "stdout",
     "output_type": "stream",
     "text": [
      "https://books.toscrape.com/catalogue/my-life-next-door-my-life-next-door_535/index.html\n"
     ]
    },
    {
     "name": "stderr",
     "output_type": "stream",
     "text": [
      " 47%|████████████████████████████████████▊                                          | 466/1000 [06:45<07:48,  1.14it/s]"
     ]
    },
    {
     "name": "stdout",
     "output_type": "stream",
     "text": [
      "https://books.toscrape.com/catalogue/millers-valley_534/index.html\n"
     ]
    },
    {
     "name": "stderr",
     "output_type": "stream",
     "text": [
      " 47%|████████████████████████████████████▉                                          | 467/1000 [06:46<07:35,  1.17it/s]"
     ]
    },
    {
     "name": "stdout",
     "output_type": "stream",
     "text": [
      "https://books.toscrape.com/catalogue/mans-search-for-meaning_533/index.html\n"
     ]
    },
    {
     "name": "stderr",
     "output_type": "stream",
     "text": [
      " 47%|████████████████████████████████████▉                                          | 468/1000 [06:47<07:30,  1.18it/s]"
     ]
    },
    {
     "name": "stdout",
     "output_type": "stream",
     "text": [
      "https://books.toscrape.com/catalogue/love-that-boy-what-two-presidents-eight-road-trips-and-my-son-taught-me-about-a-parents-expectations_532/index.html\n"
     ]
    },
    {
     "name": "stderr",
     "output_type": "stream",
     "text": [
      " 47%|█████████████████████████████████████                                          | 469/1000 [06:48<07:37,  1.16it/s]"
     ]
    },
    {
     "name": "stdout",
     "output_type": "stream",
     "text": [
      "https://books.toscrape.com/catalogue/living-forward-a-proven-plan-to-stop-drifting-and-get-the-life-you-want_531/index.html\n"
     ]
    },
    {
     "name": "stderr",
     "output_type": "stream",
     "text": [
      " 47%|█████████████████████████████████████▏                                         | 470/1000 [06:49<07:30,  1.18it/s]"
     ]
    },
    {
     "name": "stdout",
     "output_type": "stream",
     "text": [
      "https://books.toscrape.com/catalogue/les-fleurs-du-mal_530/index.html\n"
     ]
    },
    {
     "name": "stderr",
     "output_type": "stream",
     "text": [
      " 47%|█████████████████████████████████████▏                                         | 471/1000 [06:49<07:18,  1.21it/s]"
     ]
    },
    {
     "name": "stdout",
     "output_type": "stream",
     "text": [
      "https://books.toscrape.com/catalogue/left-behind-left-behind-1_529/index.html\n"
     ]
    },
    {
     "name": "stderr",
     "output_type": "stream",
     "text": [
      " 47%|█████████████████████████████████████▎                                         | 472/1000 [06:50<07:23,  1.19it/s]"
     ]
    },
    {
     "name": "stdout",
     "output_type": "stream",
     "text": [
      "https://books.toscrape.com/catalogue/kill-em-and-leave-searching-for-james-brown-and-the-american-soul_528/index.html\n"
     ]
    },
    {
     "name": "stderr",
     "output_type": "stream",
     "text": [
      " 47%|█████████████████████████████████████▎                                         | 473/1000 [06:52<08:17,  1.06it/s]"
     ]
    },
    {
     "name": "stdout",
     "output_type": "stream",
     "text": [
      "https://books.toscrape.com/catalogue/kierkegaard-a-christian-missionary-to-christians_527/index.html\n"
     ]
    },
    {
     "name": "stderr",
     "output_type": "stream",
     "text": [
      " 47%|█████████████████████████████████████▍                                         | 474/1000 [06:52<08:03,  1.09it/s]"
     ]
    },
    {
     "name": "stdout",
     "output_type": "stream",
     "text": [
      "https://books.toscrape.com/catalogue/john-vassos-industrial-design-for-modern-life_526/index.html\n"
     ]
    },
    {
     "name": "stderr",
     "output_type": "stream",
     "text": [
      " 48%|█████████████████████████████████████▌                                         | 475/1000 [06:53<07:53,  1.11it/s]"
     ]
    },
    {
     "name": "stdout",
     "output_type": "stream",
     "text": [
      "https://books.toscrape.com/catalogue/ill-give-you-the-sun_525/index.html\n"
     ]
    },
    {
     "name": "stderr",
     "output_type": "stream",
     "text": [
      " 48%|█████████████████████████████████████▌                                         | 476/1000 [06:54<08:00,  1.09it/s]"
     ]
    },
    {
     "name": "stdout",
     "output_type": "stream",
     "text": [
      "https://books.toscrape.com/catalogue/i-will-find-you_524/index.html\n"
     ]
    },
    {
     "name": "stderr",
     "output_type": "stream",
     "text": [
      " 48%|█████████████████████████████████████▋                                         | 477/1000 [06:55<07:48,  1.12it/s]"
     ]
    },
    {
     "name": "stdout",
     "output_type": "stream",
     "text": [
      "https://books.toscrape.com/catalogue/hystopia-a-novel_523/index.html\n"
     ]
    },
    {
     "name": "stderr",
     "output_type": "stream",
     "text": [
      " 48%|█████████████████████████████████████▊                                         | 478/1000 [06:56<07:34,  1.15it/s]"
     ]
    },
    {
     "name": "stdout",
     "output_type": "stream",
     "text": [
      "https://books.toscrape.com/catalogue/howl-and-other-poems_522/index.html\n"
     ]
    },
    {
     "name": "stderr",
     "output_type": "stream",
     "text": [
      " 48%|█████████████████████████████████████▊                                         | 479/1000 [06:57<07:28,  1.16it/s]"
     ]
    },
    {
     "name": "stdout",
     "output_type": "stream",
     "text": [
      "https://books.toscrape.com/catalogue/history-of-beauty_521/index.html\n"
     ]
    },
    {
     "name": "stderr",
     "output_type": "stream",
     "text": [
      " 48%|█████████████████████████████████████▉                                         | 480/1000 [06:58<07:33,  1.15it/s]"
     ]
    },
    {
     "name": "stdout",
     "output_type": "stream",
     "text": [
      "https://books.toscrape.com/catalogue/heaven-is-for-real-a-little-boys-astounding-story-of-his-trip-to-heaven-and-back_520/index.html\n"
     ]
    },
    {
     "name": "stderr",
     "output_type": "stream",
     "text": [
      " 48%|█████████████████████████████████████▉                                         | 481/1000 [06:58<07:31,  1.15it/s]"
     ]
    },
    {
     "name": "stdout",
     "output_type": "stream",
     "text": [
      "https://books.toscrape.com/catalogue/future-shock-future-shock-1_519/index.html\n"
     ]
    },
    {
     "name": "stderr",
     "output_type": "stream",
     "text": [
      " 48%|██████████████████████████████████████                                         | 482/1000 [06:59<07:20,  1.18it/s]"
     ]
    },
    {
     "name": "stdout",
     "output_type": "stream",
     "text": [
      "https://books.toscrape.com/catalogue/enders-game-the-ender-quintet-1_518/index.html\n"
     ]
    },
    {
     "name": "stderr",
     "output_type": "stream",
     "text": [
      " 48%|██████████████████████████████████████▏                                        | 483/1000 [07:00<07:27,  1.15it/s]"
     ]
    },
    {
     "name": "stdout",
     "output_type": "stream",
     "text": [
      "https://books.toscrape.com/catalogue/diary-of-a-citizen-scientist-chasing-tiger-beetles-and-other-new-ways-of-engaging-the-world_517/index.html\n"
     ]
    },
    {
     "name": "stderr",
     "output_type": "stream",
     "text": [
      " 48%|██████████████████████████████████████▏                                        | 484/1000 [07:01<08:03,  1.07it/s]"
     ]
    },
    {
     "name": "stdout",
     "output_type": "stream",
     "text": [
      "https://books.toscrape.com/catalogue/death-by-leisure-a-cautionary-tale_516/index.html\n"
     ]
    },
    {
     "name": "stderr",
     "output_type": "stream",
     "text": [
      " 48%|██████████████████████████████████████▎                                        | 485/1000 [07:02<07:49,  1.10it/s]"
     ]
    },
    {
     "name": "stdout",
     "output_type": "stream",
     "text": [
      "https://books.toscrape.com/catalogue/brilliant-beacons-a-history-of-the-american-lighthouse_515/index.html\n"
     ]
    },
    {
     "name": "stderr",
     "output_type": "stream",
     "text": [
      " 49%|██████████████████████████████████████▍                                        | 486/1000 [07:03<08:16,  1.04it/s]"
     ]
    },
    {
     "name": "stdout",
     "output_type": "stream",
     "text": [
      "https://books.toscrape.com/catalogue/brazen-the-courage-to-find-the-you-thats-been-hiding_514/index.html\n"
     ]
    },
    {
     "name": "stderr",
     "output_type": "stream",
     "text": [
      " 49%|██████████████████████████████████████▍                                        | 487/1000 [07:04<07:52,  1.09it/s]"
     ]
    },
    {
     "name": "stdout",
     "output_type": "stream",
     "text": [
      "https://books.toscrape.com/catalogue/between-the-world-and-me_513/index.html\n"
     ]
    },
    {
     "name": "stderr",
     "output_type": "stream",
     "text": [
      " 49%|██████████████████████████████████████▌                                        | 488/1000 [07:05<07:36,  1.12it/s]"
     ]
    },
    {
     "name": "stdout",
     "output_type": "stream",
     "text": [
      "https://books.toscrape.com/catalogue/being-mortal-medicine-and-what-matters-in-the-end_512/index.html\n"
     ]
    },
    {
     "name": "stderr",
     "output_type": "stream",
     "text": [
      " 49%|██████████████████████████████████████▋                                        | 489/1000 [07:06<07:32,  1.13it/s]"
     ]
    },
    {
     "name": "stdout",
     "output_type": "stream",
     "text": [
      "https://books.toscrape.com/catalogue/a-murder-over-a-girl-justice-gender-junior-high_511/index.html\n"
     ]
    },
    {
     "name": "stderr",
     "output_type": "stream",
     "text": [
      " 49%|██████████████████████████████████████▋                                        | 490/1000 [07:07<07:18,  1.16it/s]"
     ]
    },
    {
     "name": "stdout",
     "output_type": "stream",
     "text": [
      "https://books.toscrape.com/catalogue/32-yolks_510/index.html\n"
     ]
    },
    {
     "name": "stderr",
     "output_type": "stream",
     "text": [
      " 49%|██████████████████████████████████████▊                                        | 491/1000 [07:07<07:14,  1.17it/s]"
     ]
    },
    {
     "name": "stdout",
     "output_type": "stream",
     "text": [
      "https://books.toscrape.com/catalogue/most-blessed-of-the-patriarchs-thomas-jefferson-and-the-empire-of-the-imagination_509/index.html\n"
     ]
    },
    {
     "name": "stderr",
     "output_type": "stream",
     "text": [
      " 49%|██████████████████████████████████████▊                                        | 492/1000 [07:08<07:52,  1.07it/s]"
     ]
    },
    {
     "name": "stdout",
     "output_type": "stream",
     "text": [
      "https://books.toscrape.com/catalogue/you-are-a-badass-how-to-stop-doubting-your-greatness-and-start-living-an-awesome-life_508/index.html\n"
     ]
    },
    {
     "name": "stderr",
     "output_type": "stream",
     "text": [
      " 49%|██████████████████████████████████████▉                                        | 493/1000 [07:09<07:35,  1.11it/s]"
     ]
    },
    {
     "name": "stdout",
     "output_type": "stream",
     "text": [
      "https://books.toscrape.com/catalogue/wildlife-of-new-york-a-five-borough-coloring-book_507/index.html\n"
     ]
    },
    {
     "name": "stderr",
     "output_type": "stream",
     "text": [
      " 49%|███████████████████████████████████████                                        | 494/1000 [07:10<07:22,  1.14it/s]"
     ]
    },
    {
     "name": "stdout",
     "output_type": "stream",
     "text": [
      "https://books.toscrape.com/catalogue/what-happened-on-beale-street-secrets-of-the-south-mysteries-2_506/index.html\n"
     ]
    },
    {
     "name": "stderr",
     "output_type": "stream",
     "text": [
      " 50%|███████████████████████████████████████                                        | 495/1000 [07:11<07:10,  1.17it/s]"
     ]
    },
    {
     "name": "stdout",
     "output_type": "stream",
     "text": [
      "https://books.toscrape.com/catalogue/unreasonable-hope-finding-faith-in-the-god-who-brings-purpose-to-your-pain_505/index.html\n"
     ]
    },
    {
     "name": "stderr",
     "output_type": "stream",
     "text": [
      " 50%|███████████████████████████████████████▏                                       | 496/1000 [07:12<07:12,  1.16it/s]"
     ]
    },
    {
     "name": "stdout",
     "output_type": "stream",
     "text": [
      "https://books.toscrape.com/catalogue/under-the-tuscan-sun_504/index.html\n"
     ]
    },
    {
     "name": "stderr",
     "output_type": "stream",
     "text": [
      " 50%|███████████████████████████████████████▎                                       | 497/1000 [07:13<07:00,  1.20it/s]"
     ]
    },
    {
     "name": "stdout",
     "output_type": "stream",
     "text": [
      "https://books.toscrape.com/catalogue/toddlers-are-aholes-its-not-your-fault_503/index.html\n"
     ]
    },
    {
     "name": "stderr",
     "output_type": "stream",
     "text": [
      " 50%|███████████████████████████████████████▎                                       | 498/1000 [07:14<07:31,  1.11it/s]"
     ]
    },
    {
     "name": "stdout",
     "output_type": "stream",
     "text": [
      "https://books.toscrape.com/catalogue/the-year-of-living-biblically-one-mans-humble-quest-to-follow-the-bible-as-literally-as-possible_502/index.html\n"
     ]
    },
    {
     "name": "stderr",
     "output_type": "stream",
     "text": [
      " 50%|███████████████████████████████████████▍                                       | 499/1000 [07:14<07:21,  1.13it/s]"
     ]
    },
    {
     "name": "stdout",
     "output_type": "stream",
     "text": [
      "https://books.toscrape.com/catalogue/the-whale_501/index.html\n"
     ]
    },
    {
     "name": "stderr",
     "output_type": "stream",
     "text": [
      " 50%|███████████████████████████████████████▌                                       | 500/1000 [07:15<07:12,  1.16it/s]"
     ]
    },
    {
     "name": "stdout",
     "output_type": "stream",
     "text": [
      "https://books.toscrape.com/catalogue/the-story-of-art_500/index.html\n"
     ]
    },
    {
     "name": "stderr",
     "output_type": "stream",
     "text": [
      " 50%|███████████████████████████████████████▌                                       | 501/1000 [07:16<07:10,  1.16it/s]"
     ]
    },
    {
     "name": "stdout",
     "output_type": "stream",
     "text": [
      "https://books.toscrape.com/catalogue/the-origin-of-species_499/index.html\n"
     ]
    },
    {
     "name": "stderr",
     "output_type": "stream",
     "text": [
      " 50%|███████████████████████████████████████▋                                       | 502/1000 [07:17<07:06,  1.17it/s]"
     ]
    },
    {
     "name": "stdout",
     "output_type": "stream",
     "text": [
      "https://books.toscrape.com/catalogue/the-great-gatsby_498/index.html\n"
     ]
    },
    {
     "name": "stderr",
     "output_type": "stream",
     "text": [
      " 50%|███████████████████████████████████████▋                                       | 503/1000 [07:18<07:04,  1.17it/s]"
     ]
    },
    {
     "name": "stdout",
     "output_type": "stream",
     "text": [
      "https://books.toscrape.com/catalogue/the-good-girl_497/index.html\n"
     ]
    },
    {
     "name": "stderr",
     "output_type": "stream",
     "text": [
      " 50%|███████████████████████████████████████▊                                       | 504/1000 [07:19<06:53,  1.20it/s]"
     ]
    },
    {
     "name": "stdout",
     "output_type": "stream",
     "text": [
      "https://books.toscrape.com/catalogue/the-glass-castle_496/index.html\n"
     ]
    },
    {
     "name": "stderr",
     "output_type": "stream",
     "text": [
      " 50%|███████████████████████████████████████▉                                       | 505/1000 [07:19<06:46,  1.22it/s]"
     ]
    },
    {
     "name": "stdout",
     "output_type": "stream",
     "text": [
      "https://books.toscrape.com/catalogue/the-faith-of-christopher-hitchens-the-restless-soul-of-the-worlds-most-notorious-atheist_495/index.html\n"
     ]
    },
    {
     "name": "stderr",
     "output_type": "stream",
     "text": [
      " 51%|███████████████████████████████████████▉                                       | 506/1000 [07:21<07:31,  1.09it/s]"
     ]
    },
    {
     "name": "stdout",
     "output_type": "stream",
     "text": [
      "https://books.toscrape.com/catalogue/the-drowning-girls_494/index.html\n"
     ]
    },
    {
     "name": "stderr",
     "output_type": "stream",
     "text": [
      " 51%|████████████████████████████████████████                                       | 507/1000 [07:21<07:17,  1.13it/s]"
     ]
    },
    {
     "name": "stdout",
     "output_type": "stream",
     "text": [
      "https://books.toscrape.com/catalogue/the-constant-princess-the-tudor-court-1_493/index.html\n"
     ]
    },
    {
     "name": "stderr",
     "output_type": "stream",
     "text": [
      " 51%|████████████████████████████████████████▏                                      | 508/1000 [07:22<07:13,  1.13it/s]"
     ]
    },
    {
     "name": "stdout",
     "output_type": "stream",
     "text": [
      "https://books.toscrape.com/catalogue/the-bourne-identity-jason-bourne-1_492/index.html\n"
     ]
    },
    {
     "name": "stderr",
     "output_type": "stream",
     "text": [
      " 51%|████████████████████████████████████████▏                                      | 509/1000 [07:23<06:55,  1.18it/s]"
     ]
    },
    {
     "name": "stdout",
     "output_type": "stream",
     "text": [
      "https://books.toscrape.com/catalogue/the-bachelor-girls-guide-to-murder-herringford-and-watts-mysteries-1_491/index.html\n"
     ]
    },
    {
     "name": "stderr",
     "output_type": "stream",
     "text": [
      " 51%|████████████████████████████████████████▎                                      | 510/1000 [07:24<06:48,  1.20it/s]"
     ]
    },
    {
     "name": "stdout",
     "output_type": "stream",
     "text": [
      "https://books.toscrape.com/catalogue/the-art-book_490/index.html\n"
     ]
    },
    {
     "name": "stderr",
     "output_type": "stream",
     "text": [
      " 51%|████████████████████████████████████████▎                                      | 511/1000 [07:25<06:40,  1.22it/s]"
     ]
    },
    {
     "name": "stdout",
     "output_type": "stream",
     "text": [
      "https://books.toscrape.com/catalogue/the-7-habits-of-highly-effective-people-powerful-lessons-in-personal-change_489/index.html\n"
     ]
    },
    {
     "name": "stderr",
     "output_type": "stream",
     "text": [
      " 51%|████████████████████████████████████████▍                                      | 512/1000 [07:25<06:45,  1.20it/s]"
     ]
    },
    {
     "name": "stdout",
     "output_type": "stream",
     "text": [
      "https://books.toscrape.com/catalogue/team-of-rivals-the-political-genius-of-abraham-lincoln_488/index.html\n"
     ]
    },
    {
     "name": "stderr",
     "output_type": "stream",
     "text": [
      " 51%|████████████████████████████████████████▌                                      | 513/1000 [07:27<07:44,  1.05it/s]"
     ]
    },
    {
     "name": "stdout",
     "output_type": "stream",
     "text": [
      "https://books.toscrape.com/catalogue/steal-like-an-artist-10-things-nobody-told-you-about-being-creative_487/index.html\n"
     ]
    },
    {
     "name": "stderr",
     "output_type": "stream",
     "text": [
      " 51%|████████████████████████████████████████▌                                      | 514/1000 [07:28<08:37,  1.06s/it]"
     ]
    },
    {
     "name": "stdout",
     "output_type": "stream",
     "text": [
      "https://books.toscrape.com/catalogue/sit-stay-love_486/index.html\n"
     ]
    },
    {
     "name": "stderr",
     "output_type": "stream",
     "text": [
      " 52%|████████████████████████████████████████▋                                      | 515/1000 [07:29<08:07,  1.01s/it]"
     ]
    },
    {
     "name": "stdout",
     "output_type": "stream",
     "text": [
      "https://books.toscrape.com/catalogue/sister-dear_485/index.html\n"
     ]
    },
    {
     "name": "stderr",
     "output_type": "stream",
     "text": [
      " 52%|████████████████████████████████████████▊                                      | 516/1000 [07:30<07:42,  1.05it/s]"
     ]
    },
    {
     "name": "stdout",
     "output_type": "stream",
     "text": [
      "https://books.toscrape.com/catalogue/shrunken-treasures-literary-classics-short-sweet-and-silly_484/index.html\n"
     ]
    },
    {
     "name": "stderr",
     "output_type": "stream",
     "text": [
      " 52%|████████████████████████████████████████▊                                      | 517/1000 [07:31<07:20,  1.10it/s]"
     ]
    },
    {
     "name": "stdout",
     "output_type": "stream",
     "text": [
      "https://books.toscrape.com/catalogue/rich-dad-poor-dad_483/index.html\n"
     ]
    },
    {
     "name": "stderr",
     "output_type": "stream",
     "text": [
      " 52%|████████████████████████████████████████▉                                      | 518/1000 [07:31<07:14,  1.11it/s]"
     ]
    },
    {
     "name": "stdout",
     "output_type": "stream",
     "text": [
      "https://books.toscrape.com/catalogue/raymie-nightingale_482/index.html\n"
     ]
    },
    {
     "name": "stderr",
     "output_type": "stream",
     "text": [
      " 52%|█████████████████████████████████████████                                      | 519/1000 [07:32<07:09,  1.12it/s]"
     ]
    },
    {
     "name": "stdout",
     "output_type": "stream",
     "text": [
      "https://books.toscrape.com/catalogue/playing-from-the-heart_481/index.html\n"
     ]
    },
    {
     "name": "stderr",
     "output_type": "stream",
     "text": [
      " 52%|█████████████████████████████████████████                                      | 520/1000 [07:33<06:55,  1.15it/s]"
     ]
    },
    {
     "name": "stdout",
     "output_type": "stream",
     "text": [
      "https://books.toscrape.com/catalogue/nightstruck-a-novel_480/index.html\n"
     ]
    },
    {
     "name": "stderr",
     "output_type": "stream",
     "text": [
      " 52%|█████████████████████████████████████████▏                                     | 521/1000 [07:34<06:42,  1.19it/s]"
     ]
    },
    {
     "name": "stdout",
     "output_type": "stream",
     "text": [
      "https://books.toscrape.com/catalogue/naturally-lean-125-nourishing-gluten-free-plant-based-recipes-all-under-300-calories_479/index.html\n"
     ]
    },
    {
     "name": "stderr",
     "output_type": "stream",
     "text": [
      " 52%|█████████████████████████████████████████▏                                     | 522/1000 [07:35<06:37,  1.20it/s]"
     ]
    },
    {
     "name": "stdout",
     "output_type": "stream",
     "text": [
      "https://books.toscrape.com/catalogue/meternity_478/index.html\n"
     ]
    },
    {
     "name": "stderr",
     "output_type": "stream",
     "text": [
      " 52%|█████████████████████████████████████████▎                                     | 523/1000 [07:35<06:35,  1.21it/s]"
     ]
    },
    {
     "name": "stdout",
     "output_type": "stream",
     "text": [
      "https://books.toscrape.com/catalogue/memoirs-of-a-geisha_477/index.html\n"
     ]
    },
    {
     "name": "stderr",
     "output_type": "stream",
     "text": [
      " 52%|█████████████████████████████████████████▍                                     | 524/1000 [07:36<06:48,  1.16it/s]"
     ]
    },
    {
     "name": "stdout",
     "output_type": "stream",
     "text": [
      "https://books.toscrape.com/catalogue/like-never-before-walker-family-2_476/index.html\n"
     ]
    },
    {
     "name": "stderr",
     "output_type": "stream",
     "text": [
      " 52%|█████████████████████████████████████████▍                                     | 525/1000 [07:37<06:43,  1.18it/s]"
     ]
    },
    {
     "name": "stdout",
     "output_type": "stream",
     "text": [
      "https://books.toscrape.com/catalogue/life-of-pi_475/index.html\n"
     ]
    },
    {
     "name": "stderr",
     "output_type": "stream",
     "text": [
      " 53%|█████████████████████████████████████████▌                                     | 526/1000 [07:38<06:41,  1.18it/s]"
     ]
    },
    {
     "name": "stdout",
     "output_type": "stream",
     "text": [
      "https://books.toscrape.com/catalogue/leave-this-song-behind-teen-poetry-at-its-best_474/index.html\n"
     ]
    },
    {
     "name": "stderr",
     "output_type": "stream",
     "text": [
      " 53%|█████████████████████████████████████████▋                                     | 527/1000 [07:39<06:32,  1.21it/s]"
     ]
    },
    {
     "name": "stdout",
     "output_type": "stream",
     "text": [
      "https://books.toscrape.com/catalogue/kings-folly-the-kinsman-chronicles-1_473/index.html\n"
     ]
    },
    {
     "name": "stderr",
     "output_type": "stream",
     "text": [
      " 53%|█████████████████████████████████████████▋                                     | 528/1000 [07:40<06:28,  1.21it/s]"
     ]
    },
    {
     "name": "stdout",
     "output_type": "stream",
     "text": [
      "https://books.toscrape.com/catalogue/john-adams_472/index.html\n"
     ]
    },
    {
     "name": "stderr",
     "output_type": "stream",
     "text": [
      " 53%|█████████████████████████████████████████▊                                     | 529/1000 [07:41<07:07,  1.10it/s]"
     ]
    },
    {
     "name": "stdout",
     "output_type": "stream",
     "text": [
      "https://books.toscrape.com/catalogue/how-to-cook-everything-vegetarian-simple-meatless-recipes-for-great-food-how-to-cook-everything_471/index.html\n"
     ]
    },
    {
     "name": "stderr",
     "output_type": "stream",
     "text": [
      " 53%|█████████████████████████████████████████▊                                     | 530/1000 [07:42<07:13,  1.08it/s]"
     ]
    },
    {
     "name": "stdout",
     "output_type": "stream",
     "text": [
      "https://books.toscrape.com/catalogue/how-to-be-a-domestic-goddess-baking-and-the-art-of-comfort-cooking_470/index.html\n"
     ]
    },
    {
     "name": "stderr",
     "output_type": "stream",
     "text": [
      " 53%|█████████████████████████████████████████▉                                     | 531/1000 [07:43<07:20,  1.06it/s]"
     ]
    },
    {
     "name": "stdout",
     "output_type": "stream",
     "text": [
      "https://books.toscrape.com/catalogue/good-in-bed-cannie-shapiro-1_469/index.html\n"
     ]
    },
    {
     "name": "stderr",
     "output_type": "stream",
     "text": [
      " 53%|██████████████████████████████████████████                                     | 532/1000 [07:44<07:08,  1.09it/s]"
     ]
    },
    {
     "name": "stdout",
     "output_type": "stream",
     "text": [
      "https://books.toscrape.com/catalogue/fruits-basket-vol-7-fruits-basket-7_468/index.html\n"
     ]
    },
    {
     "name": "stderr",
     "output_type": "stream",
     "text": [
      " 53%|██████████████████████████████████████████                                     | 533/1000 [07:44<06:50,  1.14it/s]"
     ]
    },
    {
     "name": "stdout",
     "output_type": "stream",
     "text": [
      "https://books.toscrape.com/catalogue/for-the-love-fighting-for-grace-in-a-world-of-impossible-standards_467/index.html\n"
     ]
    },
    {
     "name": "stderr",
     "output_type": "stream",
     "text": [
      " 53%|██████████████████████████████████████████▏                                    | 534/1000 [07:45<06:38,  1.17it/s]"
     ]
    },
    {
     "name": "stdout",
     "output_type": "stream",
     "text": [
      "https://books.toscrape.com/catalogue/finding-god-in-the-ruins-how-god-redeems-pain_466/index.html\n"
     ]
    },
    {
     "name": "stderr",
     "output_type": "stream",
     "text": [
      " 54%|██████████████████████████████████████████▎                                    | 535/1000 [07:46<06:43,  1.15it/s]"
     ]
    },
    {
     "name": "stdout",
     "output_type": "stream",
     "text": [
      "https://books.toscrape.com/catalogue/every-heart-a-doorway-every-heart-a-doorway-1_465/index.html\n"
     ]
    },
    {
     "name": "stderr",
     "output_type": "stream",
     "text": [
      " 54%|██████████████████████████████████████████▎                                    | 536/1000 [07:47<06:42,  1.15it/s]"
     ]
    },
    {
     "name": "stdout",
     "output_type": "stream",
     "text": [
      "https://books.toscrape.com/catalogue/delivering-the-truth-quaker-midwife-mystery-1_464/index.html\n"
     ]
    },
    {
     "name": "stderr",
     "output_type": "stream",
     "text": [
      " 54%|██████████████████████████████████████████▍                                    | 537/1000 [07:48<06:38,  1.16it/s]"
     ]
    },
    {
     "name": "stdout",
     "output_type": "stream",
     "text": [
      "https://books.toscrape.com/catalogue/counted-with-the-stars-out-from-egypt-1_463/index.html\n"
     ]
    },
    {
     "name": "stderr",
     "output_type": "stream",
     "text": [
      " 54%|██████████████████████████████████████████▌                                    | 538/1000 [07:49<06:36,  1.17it/s]"
     ]
    },
    {
     "name": "stdout",
     "output_type": "stream",
     "text": [
      "https://books.toscrape.com/catalogue/chronicles-vol-1_462/index.html\n"
     ]
    },
    {
     "name": "stderr",
     "output_type": "stream",
     "text": [
      " 54%|██████████████████████████████████████████▌                                    | 539/1000 [07:49<06:32,  1.18it/s]"
     ]
    },
    {
     "name": "stdout",
     "output_type": "stream",
     "text": [
      "https://books.toscrape.com/catalogue/blue-like-jazz-nonreligious-thoughts-on-christian-spirituality_461/index.html\n"
     ]
    },
    {
     "name": "stderr",
     "output_type": "stream",
     "text": [
      " 54%|██████████████████████████████████████████▋                                    | 540/1000 [07:50<06:28,  1.18it/s]"
     ]
    },
    {
     "name": "stdout",
     "output_type": "stream",
     "text": [
      "https://books.toscrape.com/catalogue/benjamin-franklin-an-american-life_460/index.html\n"
     ]
    },
    {
     "name": "stderr",
     "output_type": "stream",
     "text": [
      " 54%|██████████████████████████████████████████▋                                    | 541/1000 [07:51<06:21,  1.20it/s]"
     ]
    },
    {
     "name": "stdout",
     "output_type": "stream",
     "text": [
      "https://books.toscrape.com/catalogue/at-the-existentialist-cafe-freedom-being-and-apricot-cocktails-with-jean-paul-sartre-simone-de-beauvoir-albert-camus-martin-heidegger-edmund-husserl-karl-jaspers-maurice-merleau-ponty-and-others_459/index.html\n"
     ]
    },
    {
     "name": "stderr",
     "output_type": "stream",
     "text": [
      " 54%|██████████████████████████████████████████▊                                    | 542/1000 [07:52<07:34,  1.01it/s]"
     ]
    },
    {
     "name": "stdout",
     "output_type": "stream",
     "text": [
      "https://books.toscrape.com/catalogue/a-summer-in-europe_458/index.html\n"
     ]
    },
    {
     "name": "stderr",
     "output_type": "stream",
     "text": [
      " 54%|██████████████████████████████████████████▉                                    | 543/1000 [07:54<07:51,  1.03s/it]"
     ]
    },
    {
     "name": "stdout",
     "output_type": "stream",
     "text": [
      "https://books.toscrape.com/catalogue/a-short-history-of-nearly-everything_457/index.html\n"
     ]
    },
    {
     "name": "stderr",
     "output_type": "stream",
     "text": [
      " 54%|██████████████████████████████████████████▉                                    | 544/1000 [07:54<07:16,  1.04it/s]"
     ]
    },
    {
     "name": "stdout",
     "output_type": "stream",
     "text": [
      "https://books.toscrape.com/catalogue/a-gathering-of-shadows-shades-of-magic-2_456/index.html\n"
     ]
    },
    {
     "name": "stderr",
     "output_type": "stream",
     "text": [
      " 55%|███████████████████████████████████████████                                    | 545/1000 [07:55<07:08,  1.06it/s]"
     ]
    },
    {
     "name": "stdout",
     "output_type": "stream",
     "text": [
      "https://books.toscrape.com/catalogue/the-sound-of-love_455/index.html\n"
     ]
    },
    {
     "name": "stderr",
     "output_type": "stream",
     "text": [
      " 55%|███████████████████████████████████████████▏                                   | 546/1000 [07:56<07:21,  1.03it/s]"
     ]
    },
    {
     "name": "stdout",
     "output_type": "stream",
     "text": [
      "https://books.toscrape.com/catalogue/the-rise-and-fall-of-the-third-reich-a-history-of-nazi-germany_454/index.html\n"
     ]
    },
    {
     "name": "stderr",
     "output_type": "stream",
     "text": [
      " 55%|███████████████████████████████████████████▏                                   | 547/1000 [07:57<07:06,  1.06it/s]"
     ]
    },
    {
     "name": "stdout",
     "output_type": "stream",
     "text": [
      "https://books.toscrape.com/catalogue/the-perks-of-being-a-wallflower_453/index.html\n"
     ]
    },
    {
     "name": "stderr",
     "output_type": "stream",
     "text": [
      " 55%|███████████████████████████████████████████▎                                   | 548/1000 [07:58<06:55,  1.09it/s]"
     ]
    },
    {
     "name": "stdout",
     "output_type": "stream",
     "text": [
      "https://books.toscrape.com/catalogue/the-mysterious-affair-at-styles-hercule-poirot-1_452/index.html\n"
     ]
    },
    {
     "name": "stderr",
     "output_type": "stream",
     "text": [
      " 55%|███████████████████████████████████████████▎                                   | 549/1000 [07:59<06:46,  1.11it/s]"
     ]
    },
    {
     "name": "stdout",
     "output_type": "stream",
     "text": [
      "https://books.toscrape.com/catalogue/the-man-who-mistook-his-wife-for-a-hat-and-other-clinical-tales_451/index.html\n"
     ]
    },
    {
     "name": "stderr",
     "output_type": "stream",
     "text": [
      " 55%|███████████████████████████████████████████▍                                   | 550/1000 [08:00<07:07,  1.05it/s]"
     ]
    },
    {
     "name": "stdout",
     "output_type": "stream",
     "text": [
      "https://books.toscrape.com/catalogue/the-makings-of-a-fatherless-child_450/index.html\n"
     ]
    },
    {
     "name": "stderr",
     "output_type": "stream",
     "text": [
      " 55%|███████████████████████████████████████████▌                                   | 551/1000 [08:01<06:54,  1.08it/s]"
     ]
    },
    {
     "name": "stdout",
     "output_type": "stream",
     "text": [
      "https://books.toscrape.com/catalogue/the-joy-of-cooking_449/index.html\n"
     ]
    },
    {
     "name": "stderr",
     "output_type": "stream",
     "text": [
      " 55%|███████████████████████████████████████████▌                                   | 552/1000 [08:02<07:09,  1.04it/s]"
     ]
    },
    {
     "name": "stdout",
     "output_type": "stream",
     "text": [
      "https://books.toscrape.com/catalogue/the-invention-of-wings_448/index.html\n"
     ]
    },
    {
     "name": "stderr",
     "output_type": "stream",
     "text": [
      " 55%|███████████████████████████████████████████▋                                   | 553/1000 [08:03<07:37,  1.02s/it]"
     ]
    },
    {
     "name": "stdout",
     "output_type": "stream",
     "text": [
      "https://books.toscrape.com/catalogue/the-hobbit-middle-earth-universe_447/index.html\n"
     ]
    },
    {
     "name": "stderr",
     "output_type": "stream",
     "text": [
      " 55%|███████████████████████████████████████████▊                                   | 554/1000 [08:04<07:22,  1.01it/s]"
     ]
    },
    {
     "name": "stdout",
     "output_type": "stream",
     "text": [
      "https://books.toscrape.com/catalogue/the-great-railway-bazaar_446/index.html\n"
     ]
    },
    {
     "name": "stderr",
     "output_type": "stream",
     "text": [
      " 56%|███████████████████████████████████████████▊                                   | 555/1000 [08:05<06:57,  1.07it/s]"
     ]
    },
    {
     "name": "stdout",
     "output_type": "stream",
     "text": [
      "https://books.toscrape.com/catalogue/the-golden-compass-his-dark-materials-1_445/index.html\n"
     ]
    },
    {
     "name": "stderr",
     "output_type": "stream",
     "text": [
      " 56%|███████████████████████████████████████████▉                                   | 556/1000 [08:06<06:38,  1.11it/s]"
     ]
    },
    {
     "name": "stdout",
     "output_type": "stream",
     "text": [
      "https://books.toscrape.com/catalogue/the-god-delusion_444/index.html\n"
     ]
    },
    {
     "name": "stderr",
     "output_type": "stream",
     "text": [
      " 56%|████████████████████████████████████████████                                   | 557/1000 [08:06<06:22,  1.16it/s]"
     ]
    },
    {
     "name": "stdout",
     "output_type": "stream",
     "text": [
      "https://books.toscrape.com/catalogue/the-girl-you-left-behind-the-girl-you-left-behind-1_443/index.html\n"
     ]
    },
    {
     "name": "stderr",
     "output_type": "stream",
     "text": [
      " 56%|████████████████████████████████████████████                                   | 558/1000 [08:07<06:14,  1.18it/s]"
     ]
    },
    {
     "name": "stdout",
     "output_type": "stream",
     "text": [
      "https://books.toscrape.com/catalogue/the-fellowship-of-the-ring-the-lord-of-the-rings-1_442/index.html\n"
     ]
    },
    {
     "name": "stderr",
     "output_type": "stream",
     "text": [
      " 56%|████████████████████████████████████████████▏                                  | 559/1000 [08:08<06:16,  1.17it/s]"
     ]
    },
    {
     "name": "stdout",
     "output_type": "stream",
     "text": [
      "https://books.toscrape.com/catalogue/the-collected-poems-of-wb-yeats-the-collected-works-of-wb-yeats-1_441/index.html\n"
     ]
    },
    {
     "name": "stderr",
     "output_type": "stream",
     "text": [
      " 56%|████████████████████████████████████████████▏                                  | 560/1000 [08:09<06:18,  1.16it/s]"
     ]
    },
    {
     "name": "stdout",
     "output_type": "stream",
     "text": [
      "https://books.toscrape.com/catalogue/the-barefoot-contessa-cookbook_440/index.html\n"
     ]
    },
    {
     "name": "stderr",
     "output_type": "stream",
     "text": [
      " 56%|████████████████████████████████████████████▎                                  | 561/1000 [08:10<06:51,  1.07it/s]"
     ]
    },
    {
     "name": "stdout",
     "output_type": "stream",
     "text": [
      "https://books.toscrape.com/catalogue/tell-the-wolves-im-home_439/index.html\n"
     ]
    },
    {
     "name": "stderr",
     "output_type": "stream",
     "text": [
      " 56%|████████████████████████████████████████████▍                                  | 562/1000 [08:11<06:44,  1.08it/s]"
     ]
    },
    {
     "name": "stdout",
     "output_type": "stream",
     "text": [
      "https://books.toscrape.com/catalogue/ship-leaves-harbor-essays-on-travel-by-a-recovering-journeyman_438/index.html\n"
     ]
    },
    {
     "name": "stderr",
     "output_type": "stream",
     "text": [
      " 56%|████████████████████████████████████████████▍                                  | 563/1000 [08:12<06:25,  1.13it/s]"
     ]
    },
    {
     "name": "stdout",
     "output_type": "stream",
     "text": [
      "https://books.toscrape.com/catalogue/pride-and-prejudice_437/index.html\n"
     ]
    },
    {
     "name": "stderr",
     "output_type": "stream",
     "text": [
      " 56%|████████████████████████████████████████████▌                                  | 564/1000 [08:13<06:16,  1.16it/s]"
     ]
    },
    {
     "name": "stdout",
     "output_type": "stream",
     "text": [
      "https://books.toscrape.com/catalogue/musicophilia-tales-of-music-and-the-brain_436/index.html\n"
     ]
    },
    {
     "name": "stderr",
     "output_type": "stream",
     "text": [
      " 56%|████████████████████████████████████████████▋                                  | 565/1000 [08:13<06:15,  1.16it/s]"
     ]
    },
    {
     "name": "stdout",
     "output_type": "stream",
     "text": [
      "https://books.toscrape.com/catalogue/mere-christianity_435/index.html\n"
     ]
    },
    {
     "name": "stderr",
     "output_type": "stream",
     "text": [
      " 57%|████████████████████████████████████████████▋                                  | 566/1000 [08:14<06:04,  1.19it/s]"
     ]
    },
    {
     "name": "stdout",
     "output_type": "stream",
     "text": [
      "https://books.toscrape.com/catalogue/me-before-you-me-before-you-1_434/index.html\n"
     ]
    },
    {
     "name": "stderr",
     "output_type": "stream",
     "text": [
      " 57%|████████████████████████████████████████████▊                                  | 567/1000 [08:15<05:58,  1.21it/s]"
     ]
    },
    {
     "name": "stdout",
     "output_type": "stream",
     "text": [
      "https://books.toscrape.com/catalogue/in-the-woods-dublin-murder-squad-1_433/index.html\n"
     ]
    },
    {
     "name": "stderr",
     "output_type": "stream",
     "text": [
      " 57%|████████████████████████████████████████████▊                                  | 568/1000 [08:16<05:54,  1.22it/s]"
     ]
    },
    {
     "name": "stdout",
     "output_type": "stream",
     "text": [
      "https://books.toscrape.com/catalogue/in-cold-blood_432/index.html\n"
     ]
    },
    {
     "name": "stderr",
     "output_type": "stream",
     "text": [
      " 57%|████████████████████████████████████████████▉                                  | 569/1000 [08:17<05:56,  1.21it/s]"
     ]
    },
    {
     "name": "stdout",
     "output_type": "stream",
     "text": [
      "https://books.toscrape.com/catalogue/how-to-stop-worrying-and-start-living_431/index.html\n"
     ]
    },
    {
     "name": "stderr",
     "output_type": "stream",
     "text": [
      " 57%|█████████████████████████████████████████████                                  | 570/1000 [08:17<05:57,  1.20it/s]"
     ]
    },
    {
     "name": "stdout",
     "output_type": "stream",
     "text": [
      "https://books.toscrape.com/catalogue/give-it-back_430/index.html\n"
     ]
    },
    {
     "name": "stderr",
     "output_type": "stream",
     "text": [
      " 57%|█████████████████████████████████████████████                                  | 571/1000 [08:18<05:55,  1.21it/s]"
     ]
    },
    {
     "name": "stdout",
     "output_type": "stream",
     "text": [
      "https://books.toscrape.com/catalogue/girl-interrupted_429/index.html\n"
     ]
    },
    {
     "name": "stderr",
     "output_type": "stream",
     "text": [
      " 57%|█████████████████████████████████████████████▏                                 | 572/1000 [08:19<05:53,  1.21it/s]"
     ]
    },
    {
     "name": "stdout",
     "output_type": "stream",
     "text": [
      "https://books.toscrape.com/catalogue/fun-home-a-family-tragicomic_428/index.html\n"
     ]
    },
    {
     "name": "stderr",
     "output_type": "stream",
     "text": [
      " 57%|█████████████████████████████████████████████▎                                 | 573/1000 [08:20<06:01,  1.18it/s]"
     ]
    },
    {
     "name": "stdout",
     "output_type": "stream",
     "text": [
      "https://books.toscrape.com/catalogue/fruits-basket-vol-6-fruits-basket-6_427/index.html\n"
     ]
    },
    {
     "name": "stderr",
     "output_type": "stream",
     "text": [
      " 57%|█████████████████████████████████████████████▎                                 | 574/1000 [08:21<06:06,  1.16it/s]"
     ]
    },
    {
     "name": "stdout",
     "output_type": "stream",
     "text": [
      "https://books.toscrape.com/catalogue/deception-point_426/index.html\n"
     ]
    },
    {
     "name": "stderr",
     "output_type": "stream",
     "text": [
      " 57%|█████████████████████████████████████████████▍                                 | 575/1000 [08:22<05:58,  1.19it/s]"
     ]
    },
    {
     "name": "stdout",
     "output_type": "stream",
     "text": [
      "https://books.toscrape.com/catalogue/death-note-vol-6-give-and-take-death-note-6_425/index.html\n"
     ]
    },
    {
     "name": "stderr",
     "output_type": "stream",
     "text": [
      " 58%|█████████████████████████████████████████████▌                                 | 576/1000 [08:23<07:07,  1.01s/it]"
     ]
    },
    {
     "name": "stdout",
     "output_type": "stream",
     "text": [
      "https://books.toscrape.com/catalogue/catherine-the-great-portrait-of-a-woman_424/index.html\n"
     ]
    },
    {
     "name": "stderr",
     "output_type": "stream",
     "text": [
      " 58%|█████████████████████████████████████████████▌                                 | 577/1000 [08:24<07:21,  1.04s/it]"
     ]
    },
    {
     "name": "stdout",
     "output_type": "stream",
     "text": [
      "https://books.toscrape.com/catalogue/better-homes-and-gardens-new-cook-book_423/index.html\n"
     ]
    },
    {
     "name": "stderr",
     "output_type": "stream",
     "text": [
      " 58%|█████████████████████████████████████████████▋                                 | 578/1000 [08:25<06:48,  1.03it/s]"
     ]
    },
    {
     "name": "stdout",
     "output_type": "stream",
     "text": [
      "https://books.toscrape.com/catalogue/an-unquiet-mind-a-memoir-of-moods-and-madness_422/index.html\n"
     ]
    },
    {
     "name": "stderr",
     "output_type": "stream",
     "text": [
      " 58%|█████████████████████████████████████████████▋                                 | 579/1000 [08:26<06:32,  1.07it/s]"
     ]
    },
    {
     "name": "stdout",
     "output_type": "stream",
     "text": [
      "https://books.toscrape.com/catalogue/a-year-in-provence-provence-1_421/index.html\n"
     ]
    },
    {
     "name": "stderr",
     "output_type": "stream",
     "text": [
      " 58%|█████████████████████████████████████████████▊                                 | 580/1000 [08:27<06:11,  1.13it/s]"
     ]
    },
    {
     "name": "stdout",
     "output_type": "stream",
     "text": [
      "https://books.toscrape.com/catalogue/world-without-end-the-pillars-of-the-earth-2_420/index.html\n"
     ]
    },
    {
     "name": "stderr",
     "output_type": "stream",
     "text": [
      " 58%|█████████████████████████████████████████████▉                                 | 581/1000 [08:28<06:07,  1.14it/s]"
     ]
    },
    {
     "name": "stdout",
     "output_type": "stream",
     "text": [
      "https://books.toscrape.com/catalogue/will-grayson-will-grayson-will-grayson-will-grayson_419/index.html\n"
     ]
    },
    {
     "name": "stderr",
     "output_type": "stream",
     "text": [
      " 58%|█████████████████████████████████████████████▉                                 | 582/1000 [08:28<05:56,  1.17it/s]"
     ]
    },
    {
     "name": "stdout",
     "output_type": "stream",
     "text": [
      "https://books.toscrape.com/catalogue/why-save-the-bankers-and-other-essays-on-our-economic-and-political-crisis_418/index.html\n"
     ]
    },
    {
     "name": "stderr",
     "output_type": "stream",
     "text": [
      " 58%|██████████████████████████████████████████████                                 | 583/1000 [08:29<06:12,  1.12it/s]"
     ]
    },
    {
     "name": "stdout",
     "output_type": "stream",
     "text": [
      "https://books.toscrape.com/catalogue/where-she-went-if-i-stay-2_417/index.html\n"
     ]
    },
    {
     "name": "stderr",
     "output_type": "stream",
     "text": [
      " 58%|██████████████████████████████████████████████▏                                | 584/1000 [08:30<06:08,  1.13it/s]"
     ]
    },
    {
     "name": "stdout",
     "output_type": "stream",
     "text": [
      "https://books.toscrape.com/catalogue/what-if-serious-scientific-answers-to-absurd-hypothetical-questions_416/index.html\n"
     ]
    },
    {
     "name": "stderr",
     "output_type": "stream",
     "text": [
      " 58%|██████████████████████████████████████████████▏                                | 585/1000 [08:31<06:48,  1.02it/s]"
     ]
    },
    {
     "name": "stdout",
     "output_type": "stream",
     "text": [
      "https://books.toscrape.com/catalogue/two-summers_415/index.html\n"
     ]
    },
    {
     "name": "stderr",
     "output_type": "stream",
     "text": [
      " 59%|██████████████████████████████████████████████▎                                | 586/1000 [08:32<06:29,  1.06it/s]"
     ]
    },
    {
     "name": "stdout",
     "output_type": "stream",
     "text": [
      "https://books.toscrape.com/catalogue/this-is-your-brain-on-music-the-science-of-a-human-obsession_414/index.html\n"
     ]
    },
    {
     "name": "stderr",
     "output_type": "stream",
     "text": [
      " 59%|██████████████████████████████████████████████▎                                | 587/1000 [08:33<06:27,  1.07it/s]"
     ]
    },
    {
     "name": "stdout",
     "output_type": "stream",
     "text": [
      "https://books.toscrape.com/catalogue/the-secret-garden_413/index.html\n"
     ]
    },
    {
     "name": "stderr",
     "output_type": "stream",
     "text": [
      " 59%|██████████████████████████████████████████████▍                                | 588/1000 [08:34<06:12,  1.10it/s]"
     ]
    },
    {
     "name": "stdout",
     "output_type": "stream",
     "text": [
      "https://books.toscrape.com/catalogue/the-raven-king-the-raven-cycle-4_412/index.html\n"
     ]
    },
    {
     "name": "stderr",
     "output_type": "stream",
     "text": [
      " 59%|██████████████████████████████████████████████▌                                | 589/1000 [08:35<06:00,  1.14it/s]"
     ]
    },
    {
     "name": "stdout",
     "output_type": "stream",
     "text": [
      "https://books.toscrape.com/catalogue/the-raven-boys-the-raven-cycle-1_411/index.html\n"
     ]
    },
    {
     "name": "stderr",
     "output_type": "stream",
     "text": [
      " 59%|██████████████████████████████████████████████▌                                | 590/1000 [08:36<05:48,  1.18it/s]"
     ]
    },
    {
     "name": "stdout",
     "output_type": "stream",
     "text": [
      "https://books.toscrape.com/catalogue/the-power-greens-cookbook-140-delicious-superfood-recipes_410/index.html\n"
     ]
    },
    {
     "name": "stderr",
     "output_type": "stream",
     "text": [
      " 59%|██████████████████████████████████████████████▋                                | 591/1000 [08:36<05:43,  1.19it/s]"
     ]
    },
    {
     "name": "stdout",
     "output_type": "stream",
     "text": [
      "https://books.toscrape.com/catalogue/the-metamorphosis_409/index.html\n"
     ]
    },
    {
     "name": "stderr",
     "output_type": "stream",
     "text": [
      " 59%|██████████████████████████████████████████████▊                                | 592/1000 [08:37<05:40,  1.20it/s]"
     ]
    },
    {
     "name": "stdout",
     "output_type": "stream",
     "text": [
      "https://books.toscrape.com/catalogue/the-mathews-men-seven-brothers-and-the-war-against-hitlers-u-boats_408/index.html\n"
     ]
    },
    {
     "name": "stderr",
     "output_type": "stream",
     "text": [
      " 59%|██████████████████████████████████████████████▊                                | 593/1000 [08:38<06:11,  1.09it/s]"
     ]
    },
    {
     "name": "stdout",
     "output_type": "stream",
     "text": [
      "https://books.toscrape.com/catalogue/the-little-paris-bookshop_407/index.html\n"
     ]
    },
    {
     "name": "stderr",
     "output_type": "stream",
     "text": [
      " 59%|██████████████████████████████████████████████▉                                | 594/1000 [08:39<06:04,  1.11it/s]"
     ]
    },
    {
     "name": "stdout",
     "output_type": "stream",
     "text": [
      "https://books.toscrape.com/catalogue/the-hiding-place_406/index.html\n"
     ]
    },
    {
     "name": "stderr",
     "output_type": "stream",
     "text": [
      " 60%|███████████████████████████████████████████████                                | 595/1000 [08:40<06:01,  1.12it/s]"
     ]
    },
    {
     "name": "stdout",
     "output_type": "stream",
     "text": [
      "https://books.toscrape.com/catalogue/the-grand-design_405/index.html\n"
     ]
    },
    {
     "name": "stderr",
     "output_type": "stream",
     "text": [
      " 60%|███████████████████████████████████████████████                                | 596/1000 [08:41<05:51,  1.15it/s]"
     ]
    },
    {
     "name": "stdout",
     "output_type": "stream",
     "text": [
      "https://books.toscrape.com/catalogue/the-firm_404/index.html\n"
     ]
    },
    {
     "name": "stderr",
     "output_type": "stream",
     "text": [
      " 60%|███████████████████████████████████████████████▏                               | 597/1000 [08:42<05:42,  1.18it/s]"
     ]
    },
    {
     "name": "stdout",
     "output_type": "stream",
     "text": [
      "https://books.toscrape.com/catalogue/the-fault-in-our-stars_403/index.html\n"
     ]
    },
    {
     "name": "stderr",
     "output_type": "stream",
     "text": [
      " 60%|███████████████████████████████████████████████▏                               | 598/1000 [08:43<05:45,  1.16it/s]"
     ]
    },
    {
     "name": "stdout",
     "output_type": "stream",
     "text": [
      "https://books.toscrape.com/catalogue/the-false-prince-the-ascendance-trilogy-1_402/index.html\n"
     ]
    },
    {
     "name": "stderr",
     "output_type": "stream",
     "text": [
      " 60%|███████████████████████████████████████████████▎                               | 599/1000 [08:43<05:39,  1.18it/s]"
     ]
    },
    {
     "name": "stdout",
     "output_type": "stream",
     "text": [
      "https://books.toscrape.com/catalogue/the-expatriates_401/index.html\n"
     ]
    },
    {
     "name": "stderr",
     "output_type": "stream",
     "text": [
      " 60%|███████████████████████████████████████████████▍                               | 600/1000 [08:44<05:43,  1.16it/s]"
     ]
    },
    {
     "name": "stdout",
     "output_type": "stream",
     "text": [
      "https://books.toscrape.com/catalogue/the-dream-thieves-the-raven-cycle-2_400/index.html\n"
     ]
    },
    {
     "name": "stderr",
     "output_type": "stream",
     "text": [
      " 60%|███████████████████████████████████████████████▍                               | 601/1000 [08:45<05:54,  1.13it/s]"
     ]
    },
    {
     "name": "stdout",
     "output_type": "stream",
     "text": [
      "https://books.toscrape.com/catalogue/the-darkest-corners_399/index.html\n"
     ]
    },
    {
     "name": "stderr",
     "output_type": "stream",
     "text": [
      " 60%|███████████████████████████████████████████████▌                               | 602/1000 [08:46<05:57,  1.11it/s]"
     ]
    },
    {
     "name": "stdout",
     "output_type": "stream",
     "text": [
      "https://books.toscrape.com/catalogue/the-crossover_398/index.html\n"
     ]
    },
    {
     "name": "stderr",
     "output_type": "stream",
     "text": [
      " 60%|███████████████████████████████████████████████▋                               | 603/1000 [08:47<05:52,  1.13it/s]"
     ]
    },
    {
     "name": "stdout",
     "output_type": "stream",
     "text": [
      "https://books.toscrape.com/catalogue/the-5th-wave-the-5th-wave-1_397/index.html\n"
     ]
    },
    {
     "name": "stderr",
     "output_type": "stream",
     "text": [
      " 60%|███████████████████████████████████████████████▋                               | 604/1000 [08:48<05:46,  1.14it/s]"
     ]
    },
    {
     "name": "stdout",
     "output_type": "stream",
     "text": [
      "https://books.toscrape.com/catalogue/tell-the-wind-and-fire_396/index.html\n"
     ]
    },
    {
     "name": "stderr",
     "output_type": "stream",
     "text": [
      " 60%|███████████████████████████████████████████████▊                               | 605/1000 [08:49<05:39,  1.16it/s]"
     ]
    },
    {
     "name": "stdout",
     "output_type": "stream",
     "text": [
      "https://books.toscrape.com/catalogue/tell-me-three-things_395/index.html\n"
     ]
    },
    {
     "name": "stderr",
     "output_type": "stream",
     "text": [
      " 61%|███████████████████████████████████████████████▊                               | 606/1000 [08:49<05:30,  1.19it/s]"
     ]
    },
    {
     "name": "stdout",
     "output_type": "stream",
     "text": [
      "https://books.toscrape.com/catalogue/talking-to-girls-about-duran-duran-one-young-mans-quest-for-true-love-and-a-cooler-haircut_394/index.html\n"
     ]
    },
    {
     "name": "stderr",
     "output_type": "stream",
     "text": [
      " 61%|███████████████████████████████████████████████▉                               | 607/1000 [08:50<05:34,  1.17it/s]"
     ]
    },
    {
     "name": "stdout",
     "output_type": "stream",
     "text": [
      "https://books.toscrape.com/catalogue/siddhartha_393/index.html\n"
     ]
    },
    {
     "name": "stderr",
     "output_type": "stream",
     "text": [
      " 61%|████████████████████████████████████████████████                               | 608/1000 [08:51<05:31,  1.18it/s]"
     ]
    },
    {
     "name": "stdout",
     "output_type": "stream",
     "text": [
      "https://books.toscrape.com/catalogue/shiver-the-wolves-of-mercy-falls-1_392/index.html\n"
     ]
    },
    {
     "name": "stderr",
     "output_type": "stream",
     "text": [
      " 61%|████████████████████████████████████████████████                               | 609/1000 [08:52<05:33,  1.17it/s]"
     ]
    },
    {
     "name": "stdout",
     "output_type": "stream",
     "text": [
      "https://books.toscrape.com/catalogue/remember-me_391/index.html\n"
     ]
    },
    {
     "name": "stderr",
     "output_type": "stream",
     "text": [
      " 61%|████████████████████████████████████████████████▏                              | 610/1000 [08:53<05:29,  1.18it/s]"
     ]
    },
    {
     "name": "stdout",
     "output_type": "stream",
     "text": [
      "https://books.toscrape.com/catalogue/red-dragon-hannibal-lecter-1_390/index.html\n"
     ]
    },
    {
     "name": "stderr",
     "output_type": "stream",
     "text": [
      " 61%|████████████████████████████████████████████████▎                              | 611/1000 [08:54<05:30,  1.18it/s]"
     ]
    },
    {
     "name": "stdout",
     "output_type": "stream",
     "text": [
      "https://books.toscrape.com/catalogue/peak-secrets-from-the-new-science-of-expertise_389/index.html\n"
     ]
    },
    {
     "name": "stderr",
     "output_type": "stream",
     "text": [
      " 61%|████████████████████████████████████████████████▎                              | 612/1000 [08:55<05:37,  1.15it/s]"
     ]
    },
    {
     "name": "stdout",
     "output_type": "stream",
     "text": [
      "https://books.toscrape.com/catalogue/my-mother-was-nuts_388/index.html\n"
     ]
    },
    {
     "name": "stderr",
     "output_type": "stream",
     "text": [
      " 61%|████████████████████████████████████████████████▍                              | 613/1000 [08:55<05:28,  1.18it/s]"
     ]
    },
    {
     "name": "stdout",
     "output_type": "stream",
     "text": [
      "https://books.toscrape.com/catalogue/mexican-today-new-and-rediscovered-recipes-for-contemporary-kitchens_387/index.html\n"
     ]
    },
    {
     "name": "stderr",
     "output_type": "stream",
     "text": [
      " 61%|████████████████████████████████████████████████▌                              | 614/1000 [08:57<05:54,  1.09it/s]"
     ]
    },
    {
     "name": "stdout",
     "output_type": "stream",
     "text": [
      "https://books.toscrape.com/catalogue/maybe-something-beautiful-how-art-transformed-a-neighborhood_386/index.html\n"
     ]
    },
    {
     "name": "stderr",
     "output_type": "stream",
     "text": [
      " 62%|████████████████████████████████████████████████▌                              | 615/1000 [08:57<05:46,  1.11it/s]"
     ]
    },
    {
     "name": "stdout",
     "output_type": "stream",
     "text": [
      "https://books.toscrape.com/catalogue/lola-and-the-boy-next-door-anna-and-the-french-kiss-2_385/index.html\n"
     ]
    },
    {
     "name": "stderr",
     "output_type": "stream",
     "text": [
      " 62%|████████████████████████████████████████████████▋                              | 616/1000 [08:58<05:45,  1.11it/s]"
     ]
    },
    {
     "name": "stdout",
     "output_type": "stream",
     "text": [
      "https://books.toscrape.com/catalogue/logan-kade-fallen-crest-high-55_384/index.html\n"
     ]
    },
    {
     "name": "stderr",
     "output_type": "stream",
     "text": [
      " 62%|████████████████████████████████████████████████▋                              | 617/1000 [08:59<05:55,  1.08it/s]"
     ]
    },
    {
     "name": "stdout",
     "output_type": "stream",
     "text": [
      "https://books.toscrape.com/catalogue/last-one-home-new-beginnings-1_383/index.html\n"
     ]
    },
    {
     "name": "stderr",
     "output_type": "stream",
     "text": [
      " 62%|████████████████████████████████████████████████▊                              | 618/1000 [09:00<05:38,  1.13it/s]"
     ]
    },
    {
     "name": "stdout",
     "output_type": "stream",
     "text": [
      "https://books.toscrape.com/catalogue/killing-floor-jack-reacher-1_382/index.html\n"
     ]
    },
    {
     "name": "stderr",
     "output_type": "stream",
     "text": [
      " 62%|████████████████████████████████████████████████▉                              | 619/1000 [09:01<05:29,  1.16it/s]"
     ]
    },
    {
     "name": "stdout",
     "output_type": "stream",
     "text": [
      "https://books.toscrape.com/catalogue/kill-the-boy-band_381/index.html\n"
     ]
    },
    {
     "name": "stderr",
     "output_type": "stream",
     "text": [
      " 62%|████████████████████████████████████████████████▉                              | 620/1000 [09:02<05:24,  1.17it/s]"
     ]
    },
    {
     "name": "stdout",
     "output_type": "stream",
     "text": [
      "https://books.toscrape.com/catalogue/isla-and-the-happily-ever-after-anna-and-the-french-kiss-3_380/index.html\n"
     ]
    },
    {
     "name": "stderr",
     "output_type": "stream",
     "text": [
      " 62%|█████████████████████████████████████████████████                              | 621/1000 [09:03<05:19,  1.19it/s]"
     ]
    },
    {
     "name": "stdout",
     "output_type": "stream",
     "text": [
      "https://books.toscrape.com/catalogue/if-i-stay-if-i-stay-1_379/index.html\n"
     ]
    },
    {
     "name": "stderr",
     "output_type": "stream",
     "text": [
      " 62%|█████████████████████████████████████████████████▏                             | 622/1000 [09:03<05:27,  1.16it/s]"
     ]
    },
    {
     "name": "stdout",
     "output_type": "stream",
     "text": [
      "https://books.toscrape.com/catalogue/i-know-why-the-caged-bird-sings-maya-angelous-autobiography-1_378/index.html\n"
     ]
    },
    {
     "name": "stderr",
     "output_type": "stream",
     "text": [
      " 62%|█████████████████████████████████████████████████▏                             | 623/1000 [09:04<05:31,  1.14it/s]"
     ]
    },
    {
     "name": "stdout",
     "output_type": "stream",
     "text": [
      "https://books.toscrape.com/catalogue/harry-potter-and-the-deathly-hallows-harry-potter-7_377/index.html\n"
     ]
    },
    {
     "name": "stderr",
     "output_type": "stream",
     "text": [
      " 62%|█████████████████████████████████████████████████▎                             | 624/1000 [09:05<05:24,  1.16it/s]"
     ]
    },
    {
     "name": "stdout",
     "output_type": "stream",
     "text": [
      "https://books.toscrape.com/catalogue/fruits-basket-vol-5-fruits-basket-5_376/index.html\n"
     ]
    },
    {
     "name": "stderr",
     "output_type": "stream",
     "text": [
      " 62%|█████████████████████████████████████████████████▍                             | 625/1000 [09:06<05:15,  1.19it/s]"
     ]
    },
    {
     "name": "stdout",
     "output_type": "stream",
     "text": [
      "https://books.toscrape.com/catalogue/foundation-foundation-publication-order-1_375/index.html\n"
     ]
    },
    {
     "name": "stderr",
     "output_type": "stream",
     "text": [
      " 63%|█████████████████████████████████████████████████▍                             | 626/1000 [09:07<05:13,  1.19it/s]"
     ]
    },
    {
     "name": "stdout",
     "output_type": "stream",
     "text": [
      "https://books.toscrape.com/catalogue/fool-me-once_374/index.html\n"
     ]
    },
    {
     "name": "stderr",
     "output_type": "stream",
     "text": [
      " 63%|█████████████████████████████████████████████████▌                             | 627/1000 [09:08<05:15,  1.18it/s]"
     ]
    },
    {
     "name": "stdout",
     "output_type": "stream",
     "text": [
      "https://books.toscrape.com/catalogue/find-her-detective-dd-warren-8_373/index.html\n"
     ]
    },
    {
     "name": "stderr",
     "output_type": "stream",
     "text": [
      " 63%|█████████████████████████████████████████████████▌                             | 628/1000 [09:09<05:14,  1.18it/s]"
     ]
    },
    {
     "name": "stdout",
     "output_type": "stream",
     "text": [
      "https://books.toscrape.com/catalogue/evicted-poverty-and-profit-in-the-american-city_372/index.html\n"
     ]
    },
    {
     "name": "stderr",
     "output_type": "stream",
     "text": [
      " 63%|█████████████████████████████████████████████████▋                             | 629/1000 [09:10<05:41,  1.09it/s]"
     ]
    },
    {
     "name": "stdout",
     "output_type": "stream",
     "text": [
      "https://books.toscrape.com/catalogue/drama_371/index.html\n"
     ]
    },
    {
     "name": "stderr",
     "output_type": "stream",
     "text": [
      " 63%|█████████████████████████████████████████████████▊                             | 630/1000 [09:10<05:33,  1.11it/s]"
     ]
    },
    {
     "name": "stdout",
     "output_type": "stream",
     "text": [
      "https://books.toscrape.com/catalogue/dracula-the-un-dead_370/index.html\n"
     ]
    },
    {
     "name": "stderr",
     "output_type": "stream",
     "text": [
      " 63%|█████████████████████████████████████████████████▊                             | 631/1000 [09:11<05:28,  1.12it/s]"
     ]
    },
    {
     "name": "stdout",
     "output_type": "stream",
     "text": [
      "https://books.toscrape.com/catalogue/digital-fortress_369/index.html\n"
     ]
    },
    {
     "name": "stderr",
     "output_type": "stream",
     "text": [
      " 63%|█████████████████████████████████████████████████▉                             | 632/1000 [09:12<05:20,  1.15it/s]"
     ]
    },
    {
     "name": "stdout",
     "output_type": "stream",
     "text": [
      "https://books.toscrape.com/catalogue/death-note-vol-5-whiteout-death-note-5_368/index.html\n"
     ]
    },
    {
     "name": "stderr",
     "output_type": "stream",
     "text": [
      " 63%|██████████████████████████████████████████████████                             | 633/1000 [09:13<05:07,  1.19it/s]"
     ]
    },
    {
     "name": "stdout",
     "output_type": "stream",
     "text": [
      "https://books.toscrape.com/catalogue/data-a-love-story-how-i-gamed-online-dating-to-meet-my-match_367/index.html\n"
     ]
    },
    {
     "name": "stderr",
     "output_type": "stream",
     "text": [
      " 63%|██████████████████████████████████████████████████                             | 634/1000 [09:14<04:59,  1.22it/s]"
     ]
    },
    {
     "name": "stdout",
     "output_type": "stream",
     "text": [
      "https://books.toscrape.com/catalogue/critique-of-pure-reason_366/index.html\n"
     ]
    },
    {
     "name": "stderr",
     "output_type": "stream",
     "text": [
      " 64%|██████████████████████████████████████████████████▏                            | 635/1000 [09:15<05:11,  1.17it/s]"
     ]
    },
    {
     "name": "stdout",
     "output_type": "stream",
     "text": [
      "https://books.toscrape.com/catalogue/booked_365/index.html\n"
     ]
    },
    {
     "name": "stderr",
     "output_type": "stream",
     "text": [
      " 64%|██████████████████████████████████████████████████▏                            | 636/1000 [09:15<05:10,  1.17it/s]"
     ]
    },
    {
     "name": "stdout",
     "output_type": "stream",
     "text": [
      "https://books.toscrape.com/catalogue/blue-lily-lily-blue-the-raven-cycle-3_364/index.html\n"
     ]
    },
    {
     "name": "stderr",
     "output_type": "stream",
     "text": [
      " 64%|██████████████████████████████████████████████████▎                            | 637/1000 [09:16<05:02,  1.20it/s]"
     ]
    },
    {
     "name": "stdout",
     "output_type": "stream",
     "text": [
      "https://books.toscrape.com/catalogue/approval-junkie-adventures-in-caring-too-much_363/index.html\n"
     ]
    },
    {
     "name": "stderr",
     "output_type": "stream",
     "text": [
      " 64%|██████████████████████████████████████████████████▍                            | 638/1000 [09:17<05:06,  1.18it/s]"
     ]
    },
    {
     "name": "stdout",
     "output_type": "stream",
     "text": [
      "https://books.toscrape.com/catalogue/an-abundance-of-katherines_362/index.html\n"
     ]
    },
    {
     "name": "stderr",
     "output_type": "stream",
     "text": [
      " 64%|██████████████████████████████████████████████████▍                            | 639/1000 [09:18<05:07,  1.17it/s]"
     ]
    },
    {
     "name": "stdout",
     "output_type": "stream",
     "text": [
      "https://books.toscrape.com/catalogue/americas-war-for-the-greater-middle-east-a-military-history_361/index.html\n"
     ]
    },
    {
     "name": "stderr",
     "output_type": "stream",
     "text": [
      " 64%|██████████████████████████████████████████████████▌                            | 640/1000 [09:19<05:37,  1.07it/s]"
     ]
    },
    {
     "name": "stdout",
     "output_type": "stream",
     "text": [
      "https://books.toscrape.com/catalogue/alight-the-generations-trilogy-2_360/index.html\n"
     ]
    },
    {
     "name": "stderr",
     "output_type": "stream",
     "text": [
      " 64%|██████████████████████████████████████████████████▋                            | 641/1000 [09:20<05:21,  1.12it/s]"
     ]
    },
    {
     "name": "stdout",
     "output_type": "stream",
     "text": [
      "https://books.toscrape.com/catalogue/a-girls-guide-to-moving-on-new-beginnings-2_359/index.html\n"
     ]
    },
    {
     "name": "stderr",
     "output_type": "stream",
     "text": [
      " 64%|██████████████████████████████████████████████████▋                            | 642/1000 [09:21<05:51,  1.02it/s]"
     ]
    },
    {
     "name": "stdout",
     "output_type": "stream",
     "text": [
      "https://books.toscrape.com/catalogue/a-game-of-thrones-a-song-of-ice-and-fire-1_358/index.html\n"
     ]
    },
    {
     "name": "stderr",
     "output_type": "stream",
     "text": [
      " 64%|██████████████████████████████████████████████████▊                            | 643/1000 [09:22<05:33,  1.07it/s]"
     ]
    },
    {
     "name": "stdout",
     "output_type": "stream",
     "text": [
      "https://books.toscrape.com/catalogue/a-feast-for-crows-a-song-of-ice-and-fire-4_357/index.html\n"
     ]
    },
    {
     "name": "stderr",
     "output_type": "stream",
     "text": [
      " 64%|██████████████████████████████████████████████████▉                            | 644/1000 [09:23<05:33,  1.07it/s]"
     ]
    },
    {
     "name": "stdout",
     "output_type": "stream",
     "text": [
      "https://books.toscrape.com/catalogue/a-clash-of-kings-a-song-of-ice-and-fire-2_356/index.html\n"
     ]
    },
    {
     "name": "stderr",
     "output_type": "stream",
     "text": [
      " 64%|██████████████████████████████████████████████████▉                            | 645/1000 [09:24<05:47,  1.02it/s]"
     ]
    },
    {
     "name": "stdout",
     "output_type": "stream",
     "text": [
      "https://books.toscrape.com/catalogue/vogue-colors-a-to-z-a-fashion-coloring-book_355/index.html\n"
     ]
    },
    {
     "name": "stderr",
     "output_type": "stream",
     "text": [
      " 65%|███████████████████████████████████████████████████                            | 646/1000 [09:25<06:25,  1.09s/it]"
     ]
    },
    {
     "name": "stdout",
     "output_type": "stream",
     "text": [
      "https://books.toscrape.com/catalogue/the-shining-the-shining-1_354/index.html\n"
     ]
    },
    {
     "name": "stderr",
     "output_type": "stream",
     "text": [
      " 65%|███████████████████████████████████████████████████                            | 647/1000 [09:26<05:56,  1.01s/it]"
     ]
    },
    {
     "name": "stdout",
     "output_type": "stream",
     "text": [
      "https://books.toscrape.com/catalogue/the-pilgrims-progress_353/index.html\n"
     ]
    },
    {
     "name": "stderr",
     "output_type": "stream",
     "text": [
      " 65%|███████████████████████████████████████████████████▏                           | 648/1000 [09:27<05:37,  1.04it/s]"
     ]
    },
    {
     "name": "stdout",
     "output_type": "stream",
     "text": [
      "https://books.toscrape.com/catalogue/the-perfect-play-play-by-play-1_352/index.html\n"
     ]
    },
    {
     "name": "stderr",
     "output_type": "stream",
     "text": [
      " 65%|███████████████████████████████████████████████████▎                           | 649/1000 [09:28<05:28,  1.07it/s]"
     ]
    },
    {
     "name": "stdout",
     "output_type": "stream",
     "text": [
      "https://books.toscrape.com/catalogue/the-passion-of-dolssa_351/index.html\n"
     ]
    },
    {
     "name": "stderr",
     "output_type": "stream",
     "text": [
      " 65%|███████████████████████████████████████████████████▎                           | 650/1000 [09:29<05:30,  1.06it/s]"
     ]
    },
    {
     "name": "stdout",
     "output_type": "stream",
     "text": [
      "https://books.toscrape.com/catalogue/the-jazz-of-physics-the-secret-link-between-music-and-the-structure-of-the-universe_350/index.html\n"
     ]
    },
    {
     "name": "stderr",
     "output_type": "stream",
     "text": [
      " 65%|███████████████████████████████████████████████████▍                           | 651/1000 [09:30<05:19,  1.09it/s]"
     ]
    },
    {
     "name": "stdout",
     "output_type": "stream",
     "text": [
      "https://books.toscrape.com/catalogue/the-hunger-games-the-hunger-games-1_349/index.html\n"
     ]
    },
    {
     "name": "stderr",
     "output_type": "stream",
     "text": [
      " 65%|███████████████████████████████████████████████████▌                           | 652/1000 [09:31<05:12,  1.11it/s]"
     ]
    },
    {
     "name": "stdout",
     "output_type": "stream",
     "text": [
      "https://books.toscrape.com/catalogue/the-hound-of-the-baskervilles-sherlock-holmes-5_348/index.html\n"
     ]
    },
    {
     "name": "stderr",
     "output_type": "stream",
     "text": [
      " 65%|███████████████████████████████████████████████████▌                           | 653/1000 [09:31<05:02,  1.15it/s]"
     ]
    },
    {
     "name": "stdout",
     "output_type": "stream",
     "text": [
      "https://books.toscrape.com/catalogue/the-gunning-of-america-business-and-the-making-of-american-gun-culture_347/index.html\n"
     ]
    },
    {
     "name": "stderr",
     "output_type": "stream",
     "text": [
      " 65%|███████████████████████████████████████████████████▋                           | 654/1000 [09:32<05:20,  1.08it/s]"
     ]
    },
    {
     "name": "stdout",
     "output_type": "stream",
     "text": [
      "https://books.toscrape.com/catalogue/the-geography-of-bliss-one-grumps-search-for-the-happiest-places-in-the-world_346/index.html\n"
     ]
    },
    {
     "name": "stderr",
     "output_type": "stream",
     "text": [
      " 66%|███████████████████████████████████████████████████▋                           | 655/1000 [09:33<05:29,  1.05it/s]"
     ]
    },
    {
     "name": "stdout",
     "output_type": "stream",
     "text": [
      "https://books.toscrape.com/catalogue/the-demonists-demonist-1_345/index.html\n"
     ]
    },
    {
     "name": "stderr",
     "output_type": "stream",
     "text": [
      " 66%|███████████████████████████████████████████████████▊                           | 656/1000 [09:34<05:29,  1.04it/s]"
     ]
    },
    {
     "name": "stdout",
     "output_type": "stream",
     "text": [
      "https://books.toscrape.com/catalogue/the-demon-prince-of-momochi-house-vol-4-the-demon-prince-of-momochi-house-4_344/index.html\n"
     ]
    },
    {
     "name": "stderr",
     "output_type": "stream",
     "text": [
      " 66%|███████████████████████████████████████████████████▉                           | 657/1000 [09:36<07:02,  1.23s/it]"
     ]
    },
    {
     "name": "stdout",
     "output_type": "stream",
     "text": [
      "https://books.toscrape.com/catalogue/the-bone-hunters-lexy-vaughan-steven-macaulay-2_343/index.html\n"
     ]
    },
    {
     "name": "stderr",
     "output_type": "stream",
     "text": [
      " 66%|███████████████████████████████████████████████████▉                           | 658/1000 [09:37<06:30,  1.14s/it]"
     ]
    },
    {
     "name": "stdout",
     "output_type": "stream",
     "text": [
      "https://books.toscrape.com/catalogue/the-beast-black-dagger-brotherhood-14_342/index.html\n"
     ]
    },
    {
     "name": "stderr",
     "output_type": "stream",
     "text": [
      " 66%|████████████████████████████████████████████████████                           | 659/1000 [09:38<05:52,  1.03s/it]"
     ]
    },
    {
     "name": "stdout",
     "output_type": "stream",
     "text": [
      "https://books.toscrape.com/catalogue/some-women_341/index.html\n"
     ]
    },
    {
     "name": "stderr",
     "output_type": "stream",
     "text": [
      " 66%|████████████████████████████████████████████████████▏                          | 660/1000 [09:39<05:32,  1.02it/s]"
     ]
    },
    {
     "name": "stdout",
     "output_type": "stream",
     "text": [
      "https://books.toscrape.com/catalogue/shopaholic-ties-the-knot-shopaholic-3_340/index.html\n"
     ]
    },
    {
     "name": "stderr",
     "output_type": "stream",
     "text": [
      " 66%|████████████████████████████████████████████████████▏                          | 661/1000 [09:40<05:16,  1.07it/s]"
     ]
    },
    {
     "name": "stdout",
     "output_type": "stream",
     "text": [
      "https://books.toscrape.com/catalogue/paper-and-fire-the-great-library-2_339/index.html\n"
     ]
    },
    {
     "name": "stderr",
     "output_type": "stream",
     "text": [
      " 66%|████████████████████████████████████████████████████▎                          | 662/1000 [09:41<05:06,  1.10it/s]"
     ]
    },
    {
     "name": "stdout",
     "output_type": "stream",
     "text": [
      "https://books.toscrape.com/catalogue/outlander-outlander-1_338/index.html\n"
     ]
    },
    {
     "name": "stderr",
     "output_type": "stream",
     "text": [
      " 66%|████████████████████████████████████████████████████▍                          | 663/1000 [09:41<04:57,  1.13it/s]"
     ]
    },
    {
     "name": "stdout",
     "output_type": "stream",
     "text": [
      "https://books.toscrape.com/catalogue/orchestra-of-exiles-the-story-of-bronislaw-huberman-the-israel-philharmonic-and-the-one-thousand-jews-he-saved-from-nazi-horrors_337/index.html\n"
     ]
    },
    {
     "name": "stderr",
     "output_type": "stream",
     "text": [
      " 66%|████████████████████████████████████████████████████▍                          | 664/1000 [09:42<05:02,  1.11it/s]"
     ]
    },
    {
     "name": "stdout",
     "output_type": "stream",
     "text": [
      "https://books.toscrape.com/catalogue/no-one-here-gets-out-alive_336/index.html\n"
     ]
    },
    {
     "name": "stderr",
     "output_type": "stream",
     "text": [
      " 66%|████████████████████████████████████████████████████▌                          | 665/1000 [09:43<05:00,  1.11it/s]"
     ]
    },
    {
     "name": "stdout",
     "output_type": "stream",
     "text": [
      "https://books.toscrape.com/catalogue/night-shift-night-shift-1-20_335/index.html\n"
     ]
    },
    {
     "name": "stderr",
     "output_type": "stream",
     "text": [
      " 67%|████████████████████████████████████████████████████▌                          | 666/1000 [09:44<05:35,  1.01s/it]"
     ]
    },
    {
     "name": "stdout",
     "output_type": "stream",
     "text": [
      "https://books.toscrape.com/catalogue/needful-things_334/index.html\n"
     ]
    },
    {
     "name": "stderr",
     "output_type": "stream",
     "text": [
      " 67%|████████████████████████████████████████████████████▋                          | 667/1000 [09:45<05:26,  1.02it/s]"
     ]
    },
    {
     "name": "stdout",
     "output_type": "stream",
     "text": [
      "https://books.toscrape.com/catalogue/mockingjay-the-hunger-games-3_333/index.html\n"
     ]
    },
    {
     "name": "stderr",
     "output_type": "stream",
     "text": [
      " 67%|████████████████████████████████████████████████████▊                          | 668/1000 [09:46<05:13,  1.06it/s]"
     ]
    },
    {
     "name": "stdout",
     "output_type": "stream",
     "text": [
      "https://books.toscrape.com/catalogue/misery_332/index.html\n"
     ]
    },
    {
     "name": "stderr",
     "output_type": "stream",
     "text": [
      " 67%|████████████████████████████████████████████████████▊                          | 669/1000 [09:47<04:58,  1.11it/s]"
     ]
    },
    {
     "name": "stdout",
     "output_type": "stream",
     "text": [
      "https://books.toscrape.com/catalogue/little-women-little-women-1_331/index.html\n"
     ]
    },
    {
     "name": "stderr",
     "output_type": "stream",
     "text": [
      " 67%|████████████████████████████████████████████████████▉                          | 670/1000 [09:48<04:48,  1.15it/s]"
     ]
    },
    {
     "name": "stdout",
     "output_type": "stream",
     "text": [
      "https://books.toscrape.com/catalogue/it_330/index.html\n"
     ]
    },
    {
     "name": "stderr",
     "output_type": "stream",
     "text": [
      " 67%|█████████████████████████████████████████████████████                          | 671/1000 [09:49<04:41,  1.17it/s]"
     ]
    },
    {
     "name": "stdout",
     "output_type": "stream",
     "text": [
      "https://books.toscrape.com/catalogue/harry-potter-and-the-sorcerers-stone-harry-potter-1_329/index.html\n"
     ]
    },
    {
     "name": "stderr",
     "output_type": "stream",
     "text": [
      " 67%|█████████████████████████████████████████████████████                          | 672/1000 [09:49<04:42,  1.16it/s]"
     ]
    },
    {
     "name": "stdout",
     "output_type": "stream",
     "text": [
      "https://books.toscrape.com/catalogue/harry-potter-and-the-prisoner-of-azkaban-harry-potter-3_328/index.html\n"
     ]
    },
    {
     "name": "stderr",
     "output_type": "stream",
     "text": [
      " 67%|█████████████████████████████████████████████████████▏                         | 673/1000 [09:50<04:40,  1.16it/s]"
     ]
    },
    {
     "name": "stdout",
     "output_type": "stream",
     "text": [
      "https://books.toscrape.com/catalogue/harry-potter-and-the-order-of-the-phoenix-harry-potter-5_327/index.html\n"
     ]
    },
    {
     "name": "stderr",
     "output_type": "stream",
     "text": [
      " 67%|█████████████████████████████████████████████████████▏                         | 674/1000 [09:51<04:39,  1.16it/s]"
     ]
    },
    {
     "name": "stdout",
     "output_type": "stream",
     "text": [
      "https://books.toscrape.com/catalogue/harry-potter-and-the-half-blood-prince-harry-potter-6_326/index.html\n"
     ]
    },
    {
     "name": "stderr",
     "output_type": "stream",
     "text": [
      " 68%|█████████████████████████████████████████████████████▎                         | 675/1000 [09:52<04:51,  1.12it/s]"
     ]
    },
    {
     "name": "stdout",
     "output_type": "stream",
     "text": [
      "https://books.toscrape.com/catalogue/harry-potter-and-the-chamber-of-secrets-harry-potter-2_325/index.html\n"
     ]
    },
    {
     "name": "stderr",
     "output_type": "stream",
     "text": [
      " 68%|█████████████████████████████████████████████████████▍                         | 676/1000 [09:53<04:52,  1.11it/s]"
     ]
    },
    {
     "name": "stdout",
     "output_type": "stream",
     "text": [
      "https://books.toscrape.com/catalogue/gone-with-the-wind_324/index.html\n"
     ]
    },
    {
     "name": "stderr",
     "output_type": "stream",
     "text": [
      " 68%|█████████████████████████████████████████████████████▍                         | 677/1000 [09:54<04:53,  1.10it/s]"
     ]
    },
    {
     "name": "stdout",
     "output_type": "stream",
     "text": [
      "https://books.toscrape.com/catalogue/god-is-not-great-how-religion-poisons-everything_323/index.html\n"
     ]
    },
    {
     "name": "stderr",
     "output_type": "stream",
     "text": [
      " 68%|█████████████████████████████████████████████████████▌                         | 678/1000 [09:55<04:55,  1.09it/s]"
     ]
    },
    {
     "name": "stdout",
     "output_type": "stream",
     "text": [
      "https://books.toscrape.com/catalogue/girl-with-a-pearl-earring_322/index.html\n"
     ]
    },
    {
     "name": "stderr",
     "output_type": "stream",
     "text": [
      " 68%|█████████████████████████████████████████████████████▋                         | 679/1000 [09:56<05:03,  1.06it/s]"
     ]
    },
    {
     "name": "stdout",
     "output_type": "stream",
     "text": [
      "https://books.toscrape.com/catalogue/fruits-basket-vol-4-fruits-basket-4_321/index.html\n"
     ]
    },
    {
     "name": "stderr",
     "output_type": "stream",
     "text": [
      " 68%|█████████████████████████████████████████████████████▋                         | 680/1000 [09:57<04:55,  1.08it/s]"
     ]
    },
    {
     "name": "stdout",
     "output_type": "stream",
     "text": [
      "https://books.toscrape.com/catalogue/far-from-true-promise-falls-trilogy-2_320/index.html\n"
     ]
    },
    {
     "name": "stderr",
     "output_type": "stream",
     "text": [
      " 68%|█████████████████████████████████████████████████████▊                         | 681/1000 [09:58<04:48,  1.11it/s]"
     ]
    },
    {
     "name": "stdout",
     "output_type": "stream",
     "text": [
      "https://books.toscrape.com/catalogue/dark-lover-black-dagger-brotherhood-1_319/index.html\n"
     ]
    },
    {
     "name": "stderr",
     "output_type": "stream",
     "text": [
      " 68%|█████████████████████████████████████████████████████▉                         | 682/1000 [09:59<04:40,  1.13it/s]"
     ]
    },
    {
     "name": "stdout",
     "output_type": "stream",
     "text": [
      "https://books.toscrape.com/catalogue/confessions-of-a-shopaholic-shopaholic-1_318/index.html\n"
     ]
    },
    {
     "name": "stderr",
     "output_type": "stream",
     "text": [
      " 68%|█████████████████████████████████████████████████████▉                         | 683/1000 [09:59<04:40,  1.13it/s]"
     ]
    },
    {
     "name": "stdout",
     "output_type": "stream",
     "text": [
      "https://books.toscrape.com/catalogue/changing-the-game-play-by-play-2_317/index.html\n"
     ]
    },
    {
     "name": "stderr",
     "output_type": "stream",
     "text": [
      " 68%|██████████████████████████████████████████████████████                         | 684/1000 [10:00<04:39,  1.13it/s]"
     ]
    },
    {
     "name": "stdout",
     "output_type": "stream",
     "text": [
      "https://books.toscrape.com/catalogue/candide_316/index.html\n"
     ]
    },
    {
     "name": "stderr",
     "output_type": "stream",
     "text": [
      " 68%|██████████████████████████████████████████████████████                         | 685/1000 [10:01<04:37,  1.13it/s]"
     ]
    },
    {
     "name": "stdout",
     "output_type": "stream",
     "text": [
      "https://books.toscrape.com/catalogue/can-you-keep-a-secret_315/index.html\n"
     ]
    },
    {
     "name": "stderr",
     "output_type": "stream",
     "text": [
      " 69%|██████████████████████████████████████████████████████▏                        | 686/1000 [10:02<04:42,  1.11it/s]"
     ]
    },
    {
     "name": "stdout",
     "output_type": "stream",
     "text": [
      "https://books.toscrape.com/catalogue/atlas-shrugged_314/index.html\n"
     ]
    },
    {
     "name": "stderr",
     "output_type": "stream",
     "text": [
      " 69%|██████████████████████████████████████████████████████▎                        | 687/1000 [10:03<04:37,  1.13it/s]"
     ]
    },
    {
     "name": "stdout",
     "output_type": "stream",
     "text": [
      "https://books.toscrape.com/catalogue/animal-farm_313/index.html\n"
     ]
    },
    {
     "name": "stderr",
     "output_type": "stream",
     "text": [
      " 69%|██████████████████████████████████████████████████████▎                        | 688/1000 [10:04<04:29,  1.16it/s]"
     ]
    },
    {
     "name": "stdout",
     "output_type": "stream",
     "text": [
      "https://books.toscrape.com/catalogue/a-walk-to-remember_312/index.html\n"
     ]
    },
    {
     "name": "stderr",
     "output_type": "stream",
     "text": [
      " 69%|██████████████████████████████████████████████████████▍                        | 689/1000 [10:05<04:28,  1.16it/s]"
     ]
    },
    {
     "name": "stdout",
     "output_type": "stream",
     "text": [
      "https://books.toscrape.com/catalogue/a-new-earth-awakening-to-your-lifes-purpose_311/index.html\n"
     ]
    },
    {
     "name": "stderr",
     "output_type": "stream",
     "text": [
      " 69%|██████████████████████████████████████████████████████▌                        | 690/1000 [10:06<04:35,  1.13it/s]"
     ]
    },
    {
     "name": "stdout",
     "output_type": "stream",
     "text": [
      "https://books.toscrape.com/catalogue/a-history-of-god-the-4000-year-quest-of-judaism-christianity-and-islam_310/index.html\n"
     ]
    },
    {
     "name": "stderr",
     "output_type": "stream",
     "text": [
      " 69%|██████████████████████████████████████████████████████▌                        | 691/1000 [10:06<04:33,  1.13it/s]"
     ]
    },
    {
     "name": "stdout",
     "output_type": "stream",
     "text": [
      "https://books.toscrape.com/catalogue/salems-lot_309/index.html\n"
     ]
    },
    {
     "name": "stderr",
     "output_type": "stream",
     "text": [
      " 69%|██████████████████████████████████████████████████████▋                        | 692/1000 [10:07<04:23,  1.17it/s]"
     ]
    },
    {
     "name": "stdout",
     "output_type": "stream",
     "text": [
      "https://books.toscrape.com/catalogue/zero-history-blue-ant-3_308/index.html\n"
     ]
    },
    {
     "name": "stderr",
     "output_type": "stream",
     "text": [
      " 69%|██████████████████████████████████████████████████████▋                        | 693/1000 [10:08<04:23,  1.16it/s]"
     ]
    },
    {
     "name": "stdout",
     "output_type": "stream",
     "text": [
      "https://books.toscrape.com/catalogue/wuthering-heights_307/index.html\n"
     ]
    },
    {
     "name": "stderr",
     "output_type": "stream",
     "text": [
      " 69%|██████████████████████████████████████████████████████▊                        | 694/1000 [10:09<04:21,  1.17it/s]"
     ]
    },
    {
     "name": "stdout",
     "output_type": "stream",
     "text": [
      "https://books.toscrape.com/catalogue/world-war-z-an-oral-history-of-the-zombie-war_306/index.html\n"
     ]
    },
    {
     "name": "stderr",
     "output_type": "stream",
     "text": [
      " 70%|██████████████████████████████████████████████████████▉                        | 695/1000 [10:10<04:42,  1.08it/s]"
     ]
    },
    {
     "name": "stdout",
     "output_type": "stream",
     "text": [
      "https://books.toscrape.com/catalogue/wild-from-lost-to-found-on-the-pacific-crest-trail_305/index.html\n"
     ]
    },
    {
     "name": "stderr",
     "output_type": "stream",
     "text": [
      " 70%|██████████████████████████████████████████████████████▉                        | 696/1000 [10:11<04:35,  1.11it/s]"
     ]
    },
    {
     "name": "stdout",
     "output_type": "stream",
     "text": [
      "https://books.toscrape.com/catalogue/whered-you-go-bernadette_304/index.html\n"
     ]
    },
    {
     "name": "stderr",
     "output_type": "stream",
     "text": [
      " 70%|███████████████████████████████████████████████████████                        | 697/1000 [10:12<04:33,  1.11it/s]"
     ]
    },
    {
     "name": "stdout",
     "output_type": "stream",
     "text": [
      "https://books.toscrape.com/catalogue/when-you-are-engulfed-in-flames_303/index.html\n"
     ]
    },
    {
     "name": "stderr",
     "output_type": "stream",
     "text": [
      " 70%|███████████████████████████████████████████████████████▏                       | 698/1000 [10:13<04:28,  1.12it/s]"
     ]
    },
    {
     "name": "stdout",
     "output_type": "stream",
     "text": [
      "https://books.toscrape.com/catalogue/we-the-people-the-modern-day-figures-who-have-reshaped-and-affirmed-the-founding-fathers-vision-of-america_302/index.html\n"
     ]
    },
    {
     "name": "stderr",
     "output_type": "stream",
     "text": [
      " 70%|███████████████████████████████████████████████████████▏                       | 699/1000 [10:14<04:25,  1.13it/s]"
     ]
    },
    {
     "name": "stdout",
     "output_type": "stream",
     "text": [
      "https://books.toscrape.com/catalogue/we-are-all-completely-beside-ourselves_301/index.html\n"
     ]
    },
    {
     "name": "stderr",
     "output_type": "stream",
     "text": [
      " 70%|███████████████████████████████████████████████████████▎                       | 700/1000 [10:14<04:15,  1.18it/s]"
     ]
    },
    {
     "name": "stdout",
     "output_type": "stream",
     "text": [
      "https://books.toscrape.com/catalogue/walk-the-edge-thunder-road-2_300/index.html\n"
     ]
    },
    {
     "name": "stderr",
     "output_type": "stream",
     "text": [
      " 70%|███████████████████████████████████████████████████████▍                       | 701/1000 [10:15<04:19,  1.15it/s]"
     ]
    },
    {
     "name": "stdout",
     "output_type": "stream",
     "text": [
      "https://books.toscrape.com/catalogue/voyager-outlander-3_299/index.html\n"
     ]
    },
    {
     "name": "stderr",
     "output_type": "stream",
     "text": [
      " 70%|███████████████████████████████████████████████████████▍                       | 702/1000 [10:16<04:11,  1.19it/s]"
     ]
    },
    {
     "name": "stdout",
     "output_type": "stream",
     "text": [
      "https://books.toscrape.com/catalogue/very-good-lives-the-fringe-benefits-of-failure-and-the-importance-of-imagination_298/index.html\n"
     ]
    },
    {
     "name": "stderr",
     "output_type": "stream",
     "text": [
      " 70%|███████████████████████████████████████████████████████▌                       | 703/1000 [10:17<04:07,  1.20it/s]"
     ]
    },
    {
     "name": "stdout",
     "output_type": "stream",
     "text": [
      "https://books.toscrape.com/catalogue/vegan-vegetarian-omnivore-dinner-for-everyone-at-the-table_297/index.html\n"
     ]
    },
    {
     "name": "stderr",
     "output_type": "stream",
     "text": [
      " 70%|███████████████████████████████████████████████████████▌                       | 704/1000 [10:18<04:26,  1.11it/s]"
     ]
    },
    {
     "name": "stdout",
     "output_type": "stream",
     "text": [
      "https://books.toscrape.com/catalogue/unstuffed-decluttering-your-home-mind-and-soul_296/index.html\n"
     ]
    },
    {
     "name": "stderr",
     "output_type": "stream",
     "text": [
      " 70%|███████████████████████████████████████████████████████▋                       | 705/1000 [10:19<04:41,  1.05it/s]"
     ]
    },
    {
     "name": "stdout",
     "output_type": "stream",
     "text": [
      "https://books.toscrape.com/catalogue/under-the-banner-of-heaven-a-story-of-violent-faith_295/index.html\n"
     ]
    },
    {
     "name": "stderr",
     "output_type": "stream",
     "text": [
      " 71%|███████████████████████████████████████████████████████▊                       | 706/1000 [10:20<04:26,  1.10it/s]"
     ]
    },
    {
     "name": "stdout",
     "output_type": "stream",
     "text": [
      "https://books.toscrape.com/catalogue/two-boys-kissing_294/index.html\n"
     ]
    },
    {
     "name": "stderr",
     "output_type": "stream",
     "text": [
      " 71%|███████████████████████████████████████████████████████▊                       | 707/1000 [10:21<04:17,  1.14it/s]"
     ]
    },
    {
     "name": "stdout",
     "output_type": "stream",
     "text": [
      "https://books.toscrape.com/catalogue/twilight-twilight-1_293/index.html\n"
     ]
    },
    {
     "name": "stderr",
     "output_type": "stream",
     "text": [
      " 71%|███████████████████████████████████████████████████████▉                       | 708/1000 [10:21<04:10,  1.16it/s]"
     ]
    },
    {
     "name": "stdout",
     "output_type": "stream",
     "text": [
      "https://books.toscrape.com/catalogue/twenties-girl_292/index.html\n"
     ]
    },
    {
     "name": "stderr",
     "output_type": "stream",
     "text": [
      " 71%|████████████████████████████████████████████████████████                       | 709/1000 [10:22<04:05,  1.18it/s]"
     ]
    },
    {
     "name": "stdout",
     "output_type": "stream",
     "text": [
      "https://books.toscrape.com/catalogue/trespassing-across-america-one-mans-epic-never-done-before-and-sort-of-illegal-hike-across-the-heartland_291/index.html\n"
     ]
    },
    {
     "name": "stderr",
     "output_type": "stream",
     "text": [
      " 71%|████████████████████████████████████████████████████████                       | 710/1000 [10:23<04:24,  1.10it/s]"
     ]
    },
    {
     "name": "stdout",
     "output_type": "stream",
     "text": [
      "https://books.toscrape.com/catalogue/three-martini-lunch_290/index.html\n"
     ]
    },
    {
     "name": "stderr",
     "output_type": "stream",
     "text": [
      " 71%|████████████████████████████████████████████████████████▏                      | 711/1000 [10:24<04:22,  1.10it/s]"
     ]
    },
    {
     "name": "stdout",
     "output_type": "stream",
     "text": [
      "https://books.toscrape.com/catalogue/thinking-fast-and-slow_289/index.html\n"
     ]
    },
    {
     "name": "stderr",
     "output_type": "stream",
     "text": [
      " 71%|████████████████████████████████████████████████████████▏                      | 712/1000 [10:25<04:13,  1.14it/s]"
     ]
    },
    {
     "name": "stdout",
     "output_type": "stream",
     "text": [
      "https://books.toscrape.com/catalogue/the-wild-robot_288/index.html\n"
     ]
    },
    {
     "name": "stderr",
     "output_type": "stream",
     "text": [
      " 71%|████████████████████████████████████████████████████████▎                      | 713/1000 [10:26<04:12,  1.14it/s]"
     ]
    },
    {
     "name": "stdout",
     "output_type": "stream",
     "text": [
      "https://books.toscrape.com/catalogue/the-wicked-the-divine-vol-3-commercial-suicide-the-wicked-the-divine_287/index.html\n"
     ]
    },
    {
     "name": "stderr",
     "output_type": "stream",
     "text": [
      " 71%|████████████████████████████████████████████████████████▍                      | 714/1000 [10:27<04:07,  1.15it/s]"
     ]
    },
    {
     "name": "stdout",
     "output_type": "stream",
     "text": [
      "https://books.toscrape.com/catalogue/the-undomestic-goddess_286/index.html\n"
     ]
    },
    {
     "name": "stderr",
     "output_type": "stream",
     "text": [
      " 72%|████████████████████████████████████████████████████████▍                      | 715/1000 [10:28<04:03,  1.17it/s]"
     ]
    },
    {
     "name": "stdout",
     "output_type": "stream",
     "text": [
      "https://books.toscrape.com/catalogue/the-travelers_285/index.html\n"
     ]
    },
    {
     "name": "stderr",
     "output_type": "stream",
     "text": [
      " 72%|████████████████████████████████████████████████████████▌                      | 716/1000 [10:28<03:59,  1.19it/s]"
     ]
    },
    {
     "name": "stdout",
     "output_type": "stream",
     "text": [
      "https://books.toscrape.com/catalogue/the-tipping-point-how-little-things-can-make-a-big-difference_284/index.html\n"
     ]
    },
    {
     "name": "stderr",
     "output_type": "stream",
     "text": [
      " 72%|████████████████████████████████████████████████████████▋                      | 717/1000 [10:29<03:54,  1.21it/s]"
     ]
    },
    {
     "name": "stdout",
     "output_type": "stream",
     "text": [
      "https://books.toscrape.com/catalogue/the-thing-about-jellyfish_283/index.html\n"
     ]
    },
    {
     "name": "stderr",
     "output_type": "stream",
     "text": [
      " 72%|████████████████████████████████████████████████████████▋                      | 718/1000 [10:30<03:53,  1.21it/s]"
     ]
    },
    {
     "name": "stdout",
     "output_type": "stream",
     "text": [
      "https://books.toscrape.com/catalogue/the-stand_282/index.html\n"
     ]
    },
    {
     "name": "stderr",
     "output_type": "stream",
     "text": [
      " 72%|████████████████████████████████████████████████████████▊                      | 719/1000 [10:31<03:52,  1.21it/s]"
     ]
    },
    {
     "name": "stdout",
     "output_type": "stream",
     "text": [
      "https://books.toscrape.com/catalogue/the-smitten-kitchen-cookbook_281/index.html\n"
     ]
    },
    {
     "name": "stderr",
     "output_type": "stream",
     "text": [
      " 72%|████████████████████████████████████████████████████████▉                      | 720/1000 [10:32<04:07,  1.13it/s]"
     ]
    },
    {
     "name": "stdout",
     "output_type": "stream",
     "text": [
      "https://books.toscrape.com/catalogue/the-silkworm-cormoran-strike-2_280/index.html\n"
     ]
    },
    {
     "name": "stderr",
     "output_type": "stream",
     "text": [
      " 72%|████████████████████████████████████████████████████████▉                      | 721/1000 [10:33<03:59,  1.17it/s]"
     ]
    },
    {
     "name": "stdout",
     "output_type": "stream",
     "text": [
      "https://books.toscrape.com/catalogue/the-sandman-vol-3-dream-country-the-sandman-volumes-3_279/index.html\n"
     ]
    },
    {
     "name": "stderr",
     "output_type": "stream",
     "text": [
      " 72%|█████████████████████████████████████████████████████████                      | 722/1000 [10:33<03:54,  1.18it/s]"
     ]
    },
    {
     "name": "stdout",
     "output_type": "stream",
     "text": [
      "https://books.toscrape.com/catalogue/the-rose-the-dagger-the-wrath-and-the-dawn-2_278/index.html\n"
     ]
    },
    {
     "name": "stderr",
     "output_type": "stream",
     "text": [
      " 72%|█████████████████████████████████████████████████████████                      | 723/1000 [10:34<03:50,  1.20it/s]"
     ]
    },
    {
     "name": "stdout",
     "output_type": "stream",
     "text": [
      "https://books.toscrape.com/catalogue/the-road-to-little-dribbling-adventures-of-an-american-in-britain-notes-from-a-small-island-2_277/index.html\n"
     ]
    },
    {
     "name": "stderr",
     "output_type": "stream",
     "text": [
      " 72%|█████████████████████████████████████████████████████████▏                     | 724/1000 [10:35<03:46,  1.22it/s]"
     ]
    },
    {
     "name": "stdout",
     "output_type": "stream",
     "text": [
      "https://books.toscrape.com/catalogue/the-rise-of-theodore-roosevelt-theodore-roosevelt-1_276/index.html\n"
     ]
    },
    {
     "name": "stderr",
     "output_type": "stream",
     "text": [
      " 72%|█████████████████████████████████████████████████████████▎                     | 725/1000 [10:36<03:45,  1.22it/s]"
     ]
    },
    {
     "name": "stdout",
     "output_type": "stream",
     "text": [
      "https://books.toscrape.com/catalogue/the-restaurant-at-the-end-of-the-universe-hitchhikers-guide-to-the-galaxy-2_275/index.html\n"
     ]
    },
    {
     "name": "stderr",
     "output_type": "stream",
     "text": [
      " 73%|█████████████████████████████████████████████████████████▎                     | 726/1000 [10:37<04:03,  1.12it/s]"
     ]
    },
    {
     "name": "stdout",
     "output_type": "stream",
     "text": [
      "https://books.toscrape.com/catalogue/the-rest-is-noise-listening-to-the-twentieth-century_274/index.html\n"
     ]
    },
    {
     "name": "stderr",
     "output_type": "stream",
     "text": [
      " 73%|█████████████████████████████████████████████████████████▍                     | 727/1000 [10:38<04:22,  1.04it/s]"
     ]
    },
    {
     "name": "stdout",
     "output_type": "stream",
     "text": [
      "https://books.toscrape.com/catalogue/the-red-tent_273/index.html\n"
     ]
    },
    {
     "name": "stderr",
     "output_type": "stream",
     "text": [
      " 73%|█████████████████████████████████████████████████████████▌                     | 728/1000 [10:39<04:31,  1.00it/s]"
     ]
    },
    {
     "name": "stdout",
     "output_type": "stream",
     "text": [
      "https://books.toscrape.com/catalogue/the-purpose-driven-life-what-on-earth-am-i-here-for_272/index.html\n"
     ]
    },
    {
     "name": "stderr",
     "output_type": "stream",
     "text": [
      " 73%|█████████████████████████████████████████████████████████▌                     | 729/1000 [10:40<04:17,  1.05it/s]"
     ]
    },
    {
     "name": "stdout",
     "output_type": "stream",
     "text": [
      "https://books.toscrape.com/catalogue/the-purest-hook-second-circle-tattoos-3_271/index.html\n"
     ]
    },
    {
     "name": "stderr",
     "output_type": "stream",
     "text": [
      " 73%|█████████████████████████████████████████████████████████▋                     | 730/1000 [10:41<04:02,  1.11it/s]"
     ]
    },
    {
     "name": "stdout",
     "output_type": "stream",
     "text": [
      "https://books.toscrape.com/catalogue/the-picture-of-dorian-gray_270/index.html\n"
     ]
    },
    {
     "name": "stderr",
     "output_type": "stream",
     "text": [
      " 73%|█████████████████████████████████████████████████████████▋                     | 731/1000 [10:41<03:53,  1.15it/s]"
     ]
    },
    {
     "name": "stdout",
     "output_type": "stream",
     "text": [
      "https://books.toscrape.com/catalogue/the-paris-wife_269/index.html\n"
     ]
    },
    {
     "name": "stderr",
     "output_type": "stream",
     "text": [
      " 73%|█████████████████████████████████████████████████████████▊                     | 732/1000 [10:42<03:47,  1.18it/s]"
     ]
    },
    {
     "name": "stdout",
     "output_type": "stream",
     "text": [
      "https://books.toscrape.com/catalogue/the-obsession_268/index.html\n"
     ]
    },
    {
     "name": "stderr",
     "output_type": "stream",
     "text": [
      " 73%|█████████████████████████████████████████████████████████▉                     | 733/1000 [10:43<03:48,  1.17it/s]"
     ]
    },
    {
     "name": "stdout",
     "output_type": "stream",
     "text": [
      "https://books.toscrape.com/catalogue/the-nightingale_267/index.html\n"
     ]
    },
    {
     "name": "stderr",
     "output_type": "stream",
     "text": [
      " 73%|█████████████████████████████████████████████████████████▉                     | 734/1000 [10:44<03:47,  1.17it/s]"
     ]
    },
    {
     "name": "stdout",
     "output_type": "stream",
     "text": [
      "https://books.toscrape.com/catalogue/the-new-guy-and-other-senior-year-distractions_266/index.html\n"
     ]
    },
    {
     "name": "stderr",
     "output_type": "stream",
     "text": [
      " 74%|██████████████████████████████████████████████████████████                     | 735/1000 [10:45<03:45,  1.18it/s]"
     ]
    },
    {
     "name": "stdout",
     "output_type": "stream",
     "text": [
      "https://books.toscrape.com/catalogue/the-nanny-diaries-nanny-1_265/index.html\n"
     ]
    },
    {
     "name": "stderr",
     "output_type": "stream",
     "text": [
      " 74%|██████████████████████████████████████████████████████████▏                    | 736/1000 [10:46<03:42,  1.19it/s]"
     ]
    },
    {
     "name": "stdout",
     "output_type": "stream",
     "text": [
      "https://books.toscrape.com/catalogue/the-name-of-god-is-mercy_264/index.html\n"
     ]
    },
    {
     "name": "stderr",
     "output_type": "stream",
     "text": [
      " 74%|██████████████████████████████████████████████████████████▏                    | 737/1000 [10:47<03:38,  1.20it/s]"
     ]
    },
    {
     "name": "stdout",
     "output_type": "stream",
     "text": [
      "https://books.toscrape.com/catalogue/the-maze-runner-the-maze-runner-1_263/index.html\n"
     ]
    },
    {
     "name": "stderr",
     "output_type": "stream",
     "text": [
      " 74%|██████████████████████████████████████████████████████████▎                    | 738/1000 [10:47<03:38,  1.20it/s]"
     ]
    },
    {
     "name": "stdout",
     "output_type": "stream",
     "text": [
      "https://books.toscrape.com/catalogue/the-lovers-dictionary_262/index.html\n"
     ]
    },
    {
     "name": "stderr",
     "output_type": "stream",
     "text": [
      " 74%|██████████████████████████████████████████████████████████▍                    | 739/1000 [10:48<03:36,  1.20it/s]"
     ]
    },
    {
     "name": "stdout",
     "output_type": "stream",
     "text": [
      "https://books.toscrape.com/catalogue/the-lonely-ones_261/index.html\n"
     ]
    },
    {
     "name": "stderr",
     "output_type": "stream",
     "text": [
      " 74%|██████████████████████████████████████████████████████████▍                    | 740/1000 [10:49<03:38,  1.19it/s]"
     ]
    },
    {
     "name": "stdout",
     "output_type": "stream",
     "text": [
      "https://books.toscrape.com/catalogue/the-lean-startup-how-todays-entrepreneurs-use-continuous-innovation-to-create-radically-successful-businesses_260/index.html\n"
     ]
    },
    {
     "name": "stderr",
     "output_type": "stream",
     "text": [
      " 74%|██████████████████████████████████████████████████████████▌                    | 741/1000 [10:50<03:54,  1.10it/s]"
     ]
    },
    {
     "name": "stdout",
     "output_type": "stream",
     "text": [
      "https://books.toscrape.com/catalogue/the-last-painting-of-sara-de-vos_259/index.html\n"
     ]
    },
    {
     "name": "stderr",
     "output_type": "stream",
     "text": [
      " 74%|██████████████████████████████████████████████████████████▌                    | 742/1000 [10:51<03:49,  1.12it/s]"
     ]
    },
    {
     "name": "stdout",
     "output_type": "stream",
     "text": [
      "https://books.toscrape.com/catalogue/the-land-of-10000-madonnas_258/index.html\n"
     ]
    },
    {
     "name": "stderr",
     "output_type": "stream",
     "text": [
      " 74%|██████████████████████████████████████████████████████████▋                    | 743/1000 [10:52<03:45,  1.14it/s]"
     ]
    },
    {
     "name": "stdout",
     "output_type": "stream",
     "text": [
      "https://books.toscrape.com/catalogue/the-infinities_257/index.html\n"
     ]
    },
    {
     "name": "stderr",
     "output_type": "stream",
     "text": [
      " 74%|██████████████████████████████████████████████████████████▊                    | 744/1000 [10:53<03:38,  1.17it/s]"
     ]
    },
    {
     "name": "stdout",
     "output_type": "stream",
     "text": [
      "https://books.toscrape.com/catalogue/the-husbands-secret_256/index.html\n"
     ]
    },
    {
     "name": "stderr",
     "output_type": "stream",
     "text": [
      " 74%|██████████████████████████████████████████████████████████▊                    | 745/1000 [10:53<03:35,  1.18it/s]"
     ]
    },
    {
     "name": "stdout",
     "output_type": "stream",
     "text": [
      "https://books.toscrape.com/catalogue/the-hitchhikers-guide-to-the-galaxy-hitchhikers-guide-to-the-galaxy-1_255/index.html\n"
     ]
    },
    {
     "name": "stderr",
     "output_type": "stream",
     "text": [
      " 75%|██████████████████████████████████████████████████████████▉                    | 746/1000 [10:54<03:32,  1.20it/s]"
     ]
    },
    {
     "name": "stdout",
     "output_type": "stream",
     "text": [
      "https://books.toscrape.com/catalogue/the-guns-of-august_254/index.html\n"
     ]
    },
    {
     "name": "stderr",
     "output_type": "stream",
     "text": [
      " 75%|███████████████████████████████████████████████████████████                    | 747/1000 [10:55<03:29,  1.21it/s]"
     ]
    },
    {
     "name": "stdout",
     "output_type": "stream",
     "text": [
      "https://books.toscrape.com/catalogue/the-guernsey-literary-and-potato-peel-pie-society_253/index.html\n"
     ]
    },
    {
     "name": "stderr",
     "output_type": "stream",
     "text": [
      " 75%|███████████████████████████████████████████████████████████                    | 748/1000 [10:56<03:34,  1.18it/s]"
     ]
    },
    {
     "name": "stdout",
     "output_type": "stream",
     "text": [
      "https://books.toscrape.com/catalogue/the-goldfinch_252/index.html\n"
     ]
    },
    {
     "name": "stderr",
     "output_type": "stream",
     "text": [
      " 75%|███████████████████████████████████████████████████████████▏                   | 749/1000 [10:57<03:30,  1.19it/s]"
     ]
    },
    {
     "name": "stdout",
     "output_type": "stream",
     "text": [
      "https://books.toscrape.com/catalogue/the-giver-the-giver-quartet-1_251/index.html\n"
     ]
    },
    {
     "name": "stderr",
     "output_type": "stream",
     "text": [
      " 75%|███████████████████████████████████████████████████████████▎                   | 750/1000 [10:58<03:29,  1.19it/s]"
     ]
    },
    {
     "name": "stdout",
     "output_type": "stream",
     "text": [
      "https://books.toscrape.com/catalogue/the-girl-with-all-the-gifts_250/index.html\n"
     ]
    },
    {
     "name": "stderr",
     "output_type": "stream",
     "text": [
      " 75%|███████████████████████████████████████████████████████████▎                   | 751/1000 [10:58<03:28,  1.19it/s]"
     ]
    },
    {
     "name": "stdout",
     "output_type": "stream",
     "text": [
      "https://books.toscrape.com/catalogue/the-girl-who-played-with-fire-millennium-trilogy-2_249/index.html\n"
     ]
    },
    {
     "name": "stderr",
     "output_type": "stream",
     "text": [
      " 75%|███████████████████████████████████████████████████████████▍                   | 752/1000 [10:59<03:30,  1.18it/s]"
     ]
    },
    {
     "name": "stdout",
     "output_type": "stream",
     "text": [
      "https://books.toscrape.com/catalogue/the-girl-who-kicked-the-hornets-nest-millennium-trilogy-3_248/index.html\n"
     ]
    },
    {
     "name": "stderr",
     "output_type": "stream",
     "text": [
      " 75%|███████████████████████████████████████████████████████████▍                   | 753/1000 [11:00<03:31,  1.17it/s]"
     ]
    },
    {
     "name": "stdout",
     "output_type": "stream",
     "text": [
      "https://books.toscrape.com/catalogue/the-exiled_247/index.html\n"
     ]
    },
    {
     "name": "stderr",
     "output_type": "stream",
     "text": [
      " 75%|███████████████████████████████████████████████████████████▌                   | 754/1000 [11:01<03:24,  1.20it/s]"
     ]
    },
    {
     "name": "stdout",
     "output_type": "stream",
     "text": [
      "https://books.toscrape.com/catalogue/the-end-of-faith-religion-terror-and-the-future-of-reason_246/index.html\n"
     ]
    },
    {
     "name": "stderr",
     "output_type": "stream",
     "text": [
      " 76%|███████████████████████████████████████████████████████████▋                   | 755/1000 [11:02<03:24,  1.20it/s]"
     ]
    },
    {
     "name": "stdout",
     "output_type": "stream",
     "text": [
      "https://books.toscrape.com/catalogue/the-elegant-universe-superstrings-hidden-dimensions-and-the-quest-for-the-ultimate-theory_245/index.html\n"
     ]
    },
    {
     "name": "stderr",
     "output_type": "stream",
     "text": [
      " 76%|███████████████████████████████████████████████████████████▋                   | 756/1000 [11:03<03:21,  1.21it/s]"
     ]
    },
    {
     "name": "stdout",
     "output_type": "stream",
     "text": [
      "https://books.toscrape.com/catalogue/the-disappearing-spoon-and-other-true-tales-of-madness-love-and-the-history-of-the-world-from-the-periodic-table-of-the-elements_244/index.html\n"
     ]
    },
    {
     "name": "stderr",
     "output_type": "stream",
     "text": [
      " 76%|███████████████████████████████████████████████████████████▊                   | 757/1000 [11:03<03:24,  1.19it/s]"
     ]
    },
    {
     "name": "stdout",
     "output_type": "stream",
     "text": [
      "https://books.toscrape.com/catalogue/the-devil-wears-prada-the-devil-wears-prada-1_243/index.html\n"
     ]
    },
    {
     "name": "stderr",
     "output_type": "stream",
     "text": [
      " 76%|███████████████████████████████████████████████████████████▉                   | 758/1000 [11:05<03:39,  1.10it/s]"
     ]
    },
    {
     "name": "stdout",
     "output_type": "stream",
     "text": [
      "https://books.toscrape.com/catalogue/the-demon-haunted-world-science-as-a-candle-in-the-dark_242/index.html\n"
     ]
    },
    {
     "name": "stderr",
     "output_type": "stream",
     "text": [
      " 76%|███████████████████████████████████████████████████████████▉                   | 759/1000 [11:05<03:31,  1.14it/s]"
     ]
    },
    {
     "name": "stdout",
     "output_type": "stream",
     "text": [
      "https://books.toscrape.com/catalogue/the-day-the-crayons-came-home-crayons_241/index.html\n"
     ]
    },
    {
     "name": "stderr",
     "output_type": "stream",
     "text": [
      " 76%|████████████████████████████████████████████████████████████                   | 760/1000 [11:06<03:49,  1.05it/s]"
     ]
    },
    {
     "name": "stdout",
     "output_type": "stream",
     "text": [
      "https://books.toscrape.com/catalogue/the-da-vinci-code-robert-langdon-2_240/index.html\n"
     ]
    },
    {
     "name": "stderr",
     "output_type": "stream",
     "text": [
      " 76%|████████████████████████████████████████████████████████████                   | 761/1000 [11:07<03:38,  1.09it/s]"
     ]
    },
    {
     "name": "stdout",
     "output_type": "stream",
     "text": [
      "https://books.toscrape.com/catalogue/the-cuckoos-calling-cormoran-strike-1_239/index.html\n"
     ]
    },
    {
     "name": "stderr",
     "output_type": "stream",
     "text": [
      " 76%|████████████████████████████████████████████████████████████▏                  | 762/1000 [11:08<03:33,  1.11it/s]"
     ]
    },
    {
     "name": "stdout",
     "output_type": "stream",
     "text": [
      "https://books.toscrape.com/catalogue/the-complete-stories-and-poems-the-works-of-edgar-allan-poe-cameo-edition_238/index.html\n"
     ]
    },
    {
     "name": "stderr",
     "output_type": "stream",
     "text": [
      " 76%|████████████████████████████████████████████████████████████▎                  | 763/1000 [11:09<03:27,  1.14it/s]"
     ]
    },
    {
     "name": "stdout",
     "output_type": "stream",
     "text": [
      "https://books.toscrape.com/catalogue/the-complete-poems_237/index.html\n"
     ]
    },
    {
     "name": "stderr",
     "output_type": "stream",
     "text": [
      " 76%|████████████████████████████████████████████████████████████▎                  | 764/1000 [11:10<03:20,  1.18it/s]"
     ]
    },
    {
     "name": "stdout",
     "output_type": "stream",
     "text": [
      "https://books.toscrape.com/catalogue/the-catcher-in-the-rye_236/index.html\n"
     ]
    },
    {
     "name": "stderr",
     "output_type": "stream",
     "text": [
      " 76%|████████████████████████████████████████████████████████████▍                  | 765/1000 [11:11<03:15,  1.20it/s]"
     ]
    },
    {
     "name": "stdout",
     "output_type": "stream",
     "text": [
      "https://books.toscrape.com/catalogue/the-cat-in-the-hat-beginner-books-b-1_235/index.html\n"
     ]
    },
    {
     "name": "stderr",
     "output_type": "stream",
     "text": [
      " 77%|████████████████████████████████████████████████████████████▌                  | 766/1000 [11:11<03:17,  1.18it/s]"
     ]
    },
    {
     "name": "stdout",
     "output_type": "stream",
     "text": [
      "https://books.toscrape.com/catalogue/the-case-for-christ-cases-for-christianity_234/index.html\n"
     ]
    },
    {
     "name": "stderr",
     "output_type": "stream",
     "text": [
      " 77%|████████████████████████████████████████████████████████████▌                  | 767/1000 [11:12<03:18,  1.18it/s]"
     ]
    },
    {
     "name": "stdout",
     "output_type": "stream",
     "text": [
      "https://books.toscrape.com/catalogue/the-book-thief_233/index.html\n"
     ]
    },
    {
     "name": "stderr",
     "output_type": "stream",
     "text": [
      " 77%|████████████████████████████████████████████████████████████▋                  | 768/1000 [11:13<03:13,  1.20it/s]"
     ]
    },
    {
     "name": "stdout",
     "output_type": "stream",
     "text": [
      "https://books.toscrape.com/catalogue/the-book-of-basketball-the-nba-according-to-the-sports-guy_232/index.html\n"
     ]
    },
    {
     "name": "stderr",
     "output_type": "stream",
     "text": [
      " 77%|████████████████████████████████████████████████████████████▊                  | 769/1000 [11:14<03:27,  1.11it/s]"
     ]
    },
    {
     "name": "stdout",
     "output_type": "stream",
     "text": [
      "https://books.toscrape.com/catalogue/the-blind-side-evolution-of-a-game_231/index.html\n"
     ]
    },
    {
     "name": "stderr",
     "output_type": "stream",
     "text": [
      " 77%|████████████████████████████████████████████████████████████▊                  | 770/1000 [11:15<03:22,  1.14it/s]"
     ]
    },
    {
     "name": "stdout",
     "output_type": "stream",
     "text": [
      "https://books.toscrape.com/catalogue/the-autobiography-of-malcolm-x_230/index.html\n"
     ]
    },
    {
     "name": "stderr",
     "output_type": "stream",
     "text": [
      " 77%|████████████████████████████████████████████████████████████▉                  | 771/1000 [11:16<03:52,  1.02s/it]"
     ]
    },
    {
     "name": "stdout",
     "output_type": "stream",
     "text": [
      "https://books.toscrape.com/catalogue/the-art-of-simple-food-notes-lessons-and-recipes-from-a-delicious-revolution_229/index.html\n"
     ]
    },
    {
     "name": "stderr",
     "output_type": "stream",
     "text": [
      " 77%|████████████████████████████████████████████████████████████▉                  | 772/1000 [11:17<03:35,  1.06it/s]"
     ]
    },
    {
     "name": "stdout",
     "output_type": "stream",
     "text": [
      "https://books.toscrape.com/catalogue/the-art-of-fielding_228/index.html\n"
     ]
    },
    {
     "name": "stderr",
     "output_type": "stream",
     "text": [
      " 77%|█████████████████████████████████████████████████████████████                  | 773/1000 [11:18<03:28,  1.09it/s]"
     ]
    },
    {
     "name": "stdout",
     "output_type": "stream",
     "text": [
      "https://books.toscrape.com/catalogue/surely-youre-joking-mr-feynman-adventures-of-a-curious-character_227/index.html\n"
     ]
    },
    {
     "name": "stderr",
     "output_type": "stream",
     "text": [
      " 77%|█████████████████████████████████████████████████████████████▏                 | 774/1000 [11:19<03:23,  1.11it/s]"
     ]
    },
    {
     "name": "stdout",
     "output_type": "stream",
     "text": [
      "https://books.toscrape.com/catalogue/stiff-the-curious-lives-of-human-cadavers_226/index.html\n"
     ]
    },
    {
     "name": "stderr",
     "output_type": "stream",
     "text": [
      " 78%|█████████████████████████████████████████████████████████████▏                 | 775/1000 [11:20<03:18,  1.13it/s]"
     ]
    },
    {
     "name": "stdout",
     "output_type": "stream",
     "text": [
      "https://books.toscrape.com/catalogue/spilled-milk-based-on-a-true-story_225/index.html\n"
     ]
    },
    {
     "name": "stderr",
     "output_type": "stream",
     "text": [
      " 78%|█████████████████████████████████████████████████████████████▏                 | 775/1000 [11:22<03:18,  1.14it/s]\n"
     ]
    },
    {
     "ename": "ConnectionError",
     "evalue": "('Connection aborted.', RemoteDisconnected('Remote end closed connection without response'))",
     "output_type": "error",
     "traceback": [
      "\u001b[1;31m---------------------------------------------------------------------------\u001b[0m",
      "\u001b[1;31mRemoteDisconnected\u001b[0m                        Traceback (most recent call last)",
      "File \u001b[1;32m~\\anaconda3\\Lib\\site-packages\\urllib3\\connectionpool.py:789\u001b[0m, in \u001b[0;36mHTTPConnectionPool.urlopen\u001b[1;34m(self, method, url, body, headers, retries, redirect, assert_same_host, timeout, pool_timeout, release_conn, chunked, body_pos, preload_content, decode_content, **response_kw)\u001b[0m\n\u001b[0;32m    788\u001b[0m \u001b[38;5;66;03m# Make the request on the HTTPConnection object\u001b[39;00m\n\u001b[1;32m--> 789\u001b[0m response \u001b[38;5;241m=\u001b[39m \u001b[38;5;28mself\u001b[39m\u001b[38;5;241m.\u001b[39m_make_request(\n\u001b[0;32m    790\u001b[0m     conn,\n\u001b[0;32m    791\u001b[0m     method,\n\u001b[0;32m    792\u001b[0m     url,\n\u001b[0;32m    793\u001b[0m     timeout\u001b[38;5;241m=\u001b[39mtimeout_obj,\n\u001b[0;32m    794\u001b[0m     body\u001b[38;5;241m=\u001b[39mbody,\n\u001b[0;32m    795\u001b[0m     headers\u001b[38;5;241m=\u001b[39mheaders,\n\u001b[0;32m    796\u001b[0m     chunked\u001b[38;5;241m=\u001b[39mchunked,\n\u001b[0;32m    797\u001b[0m     retries\u001b[38;5;241m=\u001b[39mretries,\n\u001b[0;32m    798\u001b[0m     response_conn\u001b[38;5;241m=\u001b[39mresponse_conn,\n\u001b[0;32m    799\u001b[0m     preload_content\u001b[38;5;241m=\u001b[39mpreload_content,\n\u001b[0;32m    800\u001b[0m     decode_content\u001b[38;5;241m=\u001b[39mdecode_content,\n\u001b[0;32m    801\u001b[0m     \u001b[38;5;241m*\u001b[39m\u001b[38;5;241m*\u001b[39mresponse_kw,\n\u001b[0;32m    802\u001b[0m )\n\u001b[0;32m    804\u001b[0m \u001b[38;5;66;03m# Everything went great!\u001b[39;00m\n",
      "File \u001b[1;32m~\\anaconda3\\Lib\\site-packages\\urllib3\\connectionpool.py:536\u001b[0m, in \u001b[0;36mHTTPConnectionPool._make_request\u001b[1;34m(self, conn, method, url, body, headers, retries, timeout, chunked, response_conn, preload_content, decode_content, enforce_content_length)\u001b[0m\n\u001b[0;32m    535\u001b[0m \u001b[38;5;28;01mtry\u001b[39;00m:\n\u001b[1;32m--> 536\u001b[0m     response \u001b[38;5;241m=\u001b[39m conn\u001b[38;5;241m.\u001b[39mgetresponse()\n\u001b[0;32m    537\u001b[0m \u001b[38;5;28;01mexcept\u001b[39;00m (BaseSSLError, \u001b[38;5;167;01mOSError\u001b[39;00m) \u001b[38;5;28;01mas\u001b[39;00m e:\n",
      "File \u001b[1;32m~\\anaconda3\\Lib\\site-packages\\urllib3\\connection.py:507\u001b[0m, in \u001b[0;36mHTTPConnection.getresponse\u001b[1;34m(self)\u001b[0m\n\u001b[0;32m    506\u001b[0m \u001b[38;5;66;03m# Get the response from http.client.HTTPConnection\u001b[39;00m\n\u001b[1;32m--> 507\u001b[0m httplib_response \u001b[38;5;241m=\u001b[39m \u001b[38;5;28msuper\u001b[39m()\u001b[38;5;241m.\u001b[39mgetresponse()\n\u001b[0;32m    509\u001b[0m \u001b[38;5;28;01mtry\u001b[39;00m:\n",
      "File \u001b[1;32m~\\anaconda3\\Lib\\http\\client.py:1428\u001b[0m, in \u001b[0;36mHTTPConnection.getresponse\u001b[1;34m(self)\u001b[0m\n\u001b[0;32m   1427\u001b[0m \u001b[38;5;28;01mtry\u001b[39;00m:\n\u001b[1;32m-> 1428\u001b[0m     response\u001b[38;5;241m.\u001b[39mbegin()\n\u001b[0;32m   1429\u001b[0m \u001b[38;5;28;01mexcept\u001b[39;00m \u001b[38;5;167;01mConnectionError\u001b[39;00m:\n",
      "File \u001b[1;32m~\\anaconda3\\Lib\\http\\client.py:331\u001b[0m, in \u001b[0;36mHTTPResponse.begin\u001b[1;34m(self)\u001b[0m\n\u001b[0;32m    330\u001b[0m \u001b[38;5;28;01mwhile\u001b[39;00m \u001b[38;5;28;01mTrue\u001b[39;00m:\n\u001b[1;32m--> 331\u001b[0m     version, status, reason \u001b[38;5;241m=\u001b[39m \u001b[38;5;28mself\u001b[39m\u001b[38;5;241m.\u001b[39m_read_status()\n\u001b[0;32m    332\u001b[0m     \u001b[38;5;28;01mif\u001b[39;00m status \u001b[38;5;241m!=\u001b[39m CONTINUE:\n",
      "File \u001b[1;32m~\\anaconda3\\Lib\\http\\client.py:300\u001b[0m, in \u001b[0;36mHTTPResponse._read_status\u001b[1;34m(self)\u001b[0m\n\u001b[0;32m    297\u001b[0m \u001b[38;5;28;01mif\u001b[39;00m \u001b[38;5;129;01mnot\u001b[39;00m line:\n\u001b[0;32m    298\u001b[0m     \u001b[38;5;66;03m# Presumably, the server closed the connection before\u001b[39;00m\n\u001b[0;32m    299\u001b[0m     \u001b[38;5;66;03m# sending a valid response.\u001b[39;00m\n\u001b[1;32m--> 300\u001b[0m     \u001b[38;5;28;01mraise\u001b[39;00m RemoteDisconnected(\u001b[38;5;124m\"\u001b[39m\u001b[38;5;124mRemote end closed connection without\u001b[39m\u001b[38;5;124m\"\u001b[39m\n\u001b[0;32m    301\u001b[0m                              \u001b[38;5;124m\"\u001b[39m\u001b[38;5;124m response\u001b[39m\u001b[38;5;124m\"\u001b[39m)\n\u001b[0;32m    302\u001b[0m \u001b[38;5;28;01mtry\u001b[39;00m:\n",
      "\u001b[1;31mRemoteDisconnected\u001b[0m: Remote end closed connection without response",
      "\nDuring handling of the above exception, another exception occurred:\n",
      "\u001b[1;31mProtocolError\u001b[0m                             Traceback (most recent call last)",
      "File \u001b[1;32m~\\anaconda3\\Lib\\site-packages\\requests\\adapters.py:667\u001b[0m, in \u001b[0;36mHTTPAdapter.send\u001b[1;34m(self, request, stream, timeout, verify, cert, proxies)\u001b[0m\n\u001b[0;32m    666\u001b[0m \u001b[38;5;28;01mtry\u001b[39;00m:\n\u001b[1;32m--> 667\u001b[0m     resp \u001b[38;5;241m=\u001b[39m conn\u001b[38;5;241m.\u001b[39murlopen(\n\u001b[0;32m    668\u001b[0m         method\u001b[38;5;241m=\u001b[39mrequest\u001b[38;5;241m.\u001b[39mmethod,\n\u001b[0;32m    669\u001b[0m         url\u001b[38;5;241m=\u001b[39murl,\n\u001b[0;32m    670\u001b[0m         body\u001b[38;5;241m=\u001b[39mrequest\u001b[38;5;241m.\u001b[39mbody,\n\u001b[0;32m    671\u001b[0m         headers\u001b[38;5;241m=\u001b[39mrequest\u001b[38;5;241m.\u001b[39mheaders,\n\u001b[0;32m    672\u001b[0m         redirect\u001b[38;5;241m=\u001b[39m\u001b[38;5;28;01mFalse\u001b[39;00m,\n\u001b[0;32m    673\u001b[0m         assert_same_host\u001b[38;5;241m=\u001b[39m\u001b[38;5;28;01mFalse\u001b[39;00m,\n\u001b[0;32m    674\u001b[0m         preload_content\u001b[38;5;241m=\u001b[39m\u001b[38;5;28;01mFalse\u001b[39;00m,\n\u001b[0;32m    675\u001b[0m         decode_content\u001b[38;5;241m=\u001b[39m\u001b[38;5;28;01mFalse\u001b[39;00m,\n\u001b[0;32m    676\u001b[0m         retries\u001b[38;5;241m=\u001b[39m\u001b[38;5;28mself\u001b[39m\u001b[38;5;241m.\u001b[39mmax_retries,\n\u001b[0;32m    677\u001b[0m         timeout\u001b[38;5;241m=\u001b[39mtimeout,\n\u001b[0;32m    678\u001b[0m         chunked\u001b[38;5;241m=\u001b[39mchunked,\n\u001b[0;32m    679\u001b[0m     )\n\u001b[0;32m    681\u001b[0m \u001b[38;5;28;01mexcept\u001b[39;00m (ProtocolError, \u001b[38;5;167;01mOSError\u001b[39;00m) \u001b[38;5;28;01mas\u001b[39;00m err:\n",
      "File \u001b[1;32m~\\anaconda3\\Lib\\site-packages\\urllib3\\connectionpool.py:843\u001b[0m, in \u001b[0;36mHTTPConnectionPool.urlopen\u001b[1;34m(self, method, url, body, headers, retries, redirect, assert_same_host, timeout, pool_timeout, release_conn, chunked, body_pos, preload_content, decode_content, **response_kw)\u001b[0m\n\u001b[0;32m    841\u001b[0m     new_e \u001b[38;5;241m=\u001b[39m ProtocolError(\u001b[38;5;124m\"\u001b[39m\u001b[38;5;124mConnection aborted.\u001b[39m\u001b[38;5;124m\"\u001b[39m, new_e)\n\u001b[1;32m--> 843\u001b[0m retries \u001b[38;5;241m=\u001b[39m retries\u001b[38;5;241m.\u001b[39mincrement(\n\u001b[0;32m    844\u001b[0m     method, url, error\u001b[38;5;241m=\u001b[39mnew_e, _pool\u001b[38;5;241m=\u001b[39m\u001b[38;5;28mself\u001b[39m, _stacktrace\u001b[38;5;241m=\u001b[39msys\u001b[38;5;241m.\u001b[39mexc_info()[\u001b[38;5;241m2\u001b[39m]\n\u001b[0;32m    845\u001b[0m )\n\u001b[0;32m    846\u001b[0m retries\u001b[38;5;241m.\u001b[39msleep()\n",
      "File \u001b[1;32m~\\anaconda3\\Lib\\site-packages\\urllib3\\util\\retry.py:474\u001b[0m, in \u001b[0;36mRetry.increment\u001b[1;34m(self, method, url, response, error, _pool, _stacktrace)\u001b[0m\n\u001b[0;32m    473\u001b[0m \u001b[38;5;28;01mif\u001b[39;00m read \u001b[38;5;129;01mis\u001b[39;00m \u001b[38;5;28;01mFalse\u001b[39;00m \u001b[38;5;129;01mor\u001b[39;00m method \u001b[38;5;129;01mis\u001b[39;00m \u001b[38;5;28;01mNone\u001b[39;00m \u001b[38;5;129;01mor\u001b[39;00m \u001b[38;5;129;01mnot\u001b[39;00m \u001b[38;5;28mself\u001b[39m\u001b[38;5;241m.\u001b[39m_is_method_retryable(method):\n\u001b[1;32m--> 474\u001b[0m     \u001b[38;5;28;01mraise\u001b[39;00m reraise(\u001b[38;5;28mtype\u001b[39m(error), error, _stacktrace)\n\u001b[0;32m    475\u001b[0m \u001b[38;5;28;01melif\u001b[39;00m read \u001b[38;5;129;01mis\u001b[39;00m \u001b[38;5;129;01mnot\u001b[39;00m \u001b[38;5;28;01mNone\u001b[39;00m:\n",
      "File \u001b[1;32m~\\anaconda3\\Lib\\site-packages\\urllib3\\util\\util.py:38\u001b[0m, in \u001b[0;36mreraise\u001b[1;34m(tp, value, tb)\u001b[0m\n\u001b[0;32m     37\u001b[0m \u001b[38;5;28;01mif\u001b[39;00m value\u001b[38;5;241m.\u001b[39m__traceback__ \u001b[38;5;129;01mis\u001b[39;00m \u001b[38;5;129;01mnot\u001b[39;00m tb:\n\u001b[1;32m---> 38\u001b[0m     \u001b[38;5;28;01mraise\u001b[39;00m value\u001b[38;5;241m.\u001b[39mwith_traceback(tb)\n\u001b[0;32m     39\u001b[0m \u001b[38;5;28;01mraise\u001b[39;00m value\n",
      "File \u001b[1;32m~\\anaconda3\\Lib\\site-packages\\urllib3\\connectionpool.py:789\u001b[0m, in \u001b[0;36mHTTPConnectionPool.urlopen\u001b[1;34m(self, method, url, body, headers, retries, redirect, assert_same_host, timeout, pool_timeout, release_conn, chunked, body_pos, preload_content, decode_content, **response_kw)\u001b[0m\n\u001b[0;32m    788\u001b[0m \u001b[38;5;66;03m# Make the request on the HTTPConnection object\u001b[39;00m\n\u001b[1;32m--> 789\u001b[0m response \u001b[38;5;241m=\u001b[39m \u001b[38;5;28mself\u001b[39m\u001b[38;5;241m.\u001b[39m_make_request(\n\u001b[0;32m    790\u001b[0m     conn,\n\u001b[0;32m    791\u001b[0m     method,\n\u001b[0;32m    792\u001b[0m     url,\n\u001b[0;32m    793\u001b[0m     timeout\u001b[38;5;241m=\u001b[39mtimeout_obj,\n\u001b[0;32m    794\u001b[0m     body\u001b[38;5;241m=\u001b[39mbody,\n\u001b[0;32m    795\u001b[0m     headers\u001b[38;5;241m=\u001b[39mheaders,\n\u001b[0;32m    796\u001b[0m     chunked\u001b[38;5;241m=\u001b[39mchunked,\n\u001b[0;32m    797\u001b[0m     retries\u001b[38;5;241m=\u001b[39mretries,\n\u001b[0;32m    798\u001b[0m     response_conn\u001b[38;5;241m=\u001b[39mresponse_conn,\n\u001b[0;32m    799\u001b[0m     preload_content\u001b[38;5;241m=\u001b[39mpreload_content,\n\u001b[0;32m    800\u001b[0m     decode_content\u001b[38;5;241m=\u001b[39mdecode_content,\n\u001b[0;32m    801\u001b[0m     \u001b[38;5;241m*\u001b[39m\u001b[38;5;241m*\u001b[39mresponse_kw,\n\u001b[0;32m    802\u001b[0m )\n\u001b[0;32m    804\u001b[0m \u001b[38;5;66;03m# Everything went great!\u001b[39;00m\n",
      "File \u001b[1;32m~\\anaconda3\\Lib\\site-packages\\urllib3\\connectionpool.py:536\u001b[0m, in \u001b[0;36mHTTPConnectionPool._make_request\u001b[1;34m(self, conn, method, url, body, headers, retries, timeout, chunked, response_conn, preload_content, decode_content, enforce_content_length)\u001b[0m\n\u001b[0;32m    535\u001b[0m \u001b[38;5;28;01mtry\u001b[39;00m:\n\u001b[1;32m--> 536\u001b[0m     response \u001b[38;5;241m=\u001b[39m conn\u001b[38;5;241m.\u001b[39mgetresponse()\n\u001b[0;32m    537\u001b[0m \u001b[38;5;28;01mexcept\u001b[39;00m (BaseSSLError, \u001b[38;5;167;01mOSError\u001b[39;00m) \u001b[38;5;28;01mas\u001b[39;00m e:\n",
      "File \u001b[1;32m~\\anaconda3\\Lib\\site-packages\\urllib3\\connection.py:507\u001b[0m, in \u001b[0;36mHTTPConnection.getresponse\u001b[1;34m(self)\u001b[0m\n\u001b[0;32m    506\u001b[0m \u001b[38;5;66;03m# Get the response from http.client.HTTPConnection\u001b[39;00m\n\u001b[1;32m--> 507\u001b[0m httplib_response \u001b[38;5;241m=\u001b[39m \u001b[38;5;28msuper\u001b[39m()\u001b[38;5;241m.\u001b[39mgetresponse()\n\u001b[0;32m    509\u001b[0m \u001b[38;5;28;01mtry\u001b[39;00m:\n",
      "File \u001b[1;32m~\\anaconda3\\Lib\\http\\client.py:1428\u001b[0m, in \u001b[0;36mHTTPConnection.getresponse\u001b[1;34m(self)\u001b[0m\n\u001b[0;32m   1427\u001b[0m \u001b[38;5;28;01mtry\u001b[39;00m:\n\u001b[1;32m-> 1428\u001b[0m     response\u001b[38;5;241m.\u001b[39mbegin()\n\u001b[0;32m   1429\u001b[0m \u001b[38;5;28;01mexcept\u001b[39;00m \u001b[38;5;167;01mConnectionError\u001b[39;00m:\n",
      "File \u001b[1;32m~\\anaconda3\\Lib\\http\\client.py:331\u001b[0m, in \u001b[0;36mHTTPResponse.begin\u001b[1;34m(self)\u001b[0m\n\u001b[0;32m    330\u001b[0m \u001b[38;5;28;01mwhile\u001b[39;00m \u001b[38;5;28;01mTrue\u001b[39;00m:\n\u001b[1;32m--> 331\u001b[0m     version, status, reason \u001b[38;5;241m=\u001b[39m \u001b[38;5;28mself\u001b[39m\u001b[38;5;241m.\u001b[39m_read_status()\n\u001b[0;32m    332\u001b[0m     \u001b[38;5;28;01mif\u001b[39;00m status \u001b[38;5;241m!=\u001b[39m CONTINUE:\n",
      "File \u001b[1;32m~\\anaconda3\\Lib\\http\\client.py:300\u001b[0m, in \u001b[0;36mHTTPResponse._read_status\u001b[1;34m(self)\u001b[0m\n\u001b[0;32m    297\u001b[0m \u001b[38;5;28;01mif\u001b[39;00m \u001b[38;5;129;01mnot\u001b[39;00m line:\n\u001b[0;32m    298\u001b[0m     \u001b[38;5;66;03m# Presumably, the server closed the connection before\u001b[39;00m\n\u001b[0;32m    299\u001b[0m     \u001b[38;5;66;03m# sending a valid response.\u001b[39;00m\n\u001b[1;32m--> 300\u001b[0m     \u001b[38;5;28;01mraise\u001b[39;00m RemoteDisconnected(\u001b[38;5;124m\"\u001b[39m\u001b[38;5;124mRemote end closed connection without\u001b[39m\u001b[38;5;124m\"\u001b[39m\n\u001b[0;32m    301\u001b[0m                              \u001b[38;5;124m\"\u001b[39m\u001b[38;5;124m response\u001b[39m\u001b[38;5;124m\"\u001b[39m)\n\u001b[0;32m    302\u001b[0m \u001b[38;5;28;01mtry\u001b[39;00m:\n",
      "\u001b[1;31mProtocolError\u001b[0m: ('Connection aborted.', RemoteDisconnected('Remote end closed connection without response'))",
      "\nDuring handling of the above exception, another exception occurred:\n",
      "\u001b[1;31mConnectionError\u001b[0m                           Traceback (most recent call last)",
      "Cell \u001b[1;32mIn[89], line 4\u001b[0m\n\u001b[0;32m      2\u001b[0m \u001b[38;5;28;01mfor\u001b[39;00m link \u001b[38;5;129;01min\u001b[39;00m tqdm(df1[\u001b[38;5;124m\"\u001b[39m\u001b[38;5;124mbook_link\u001b[39m\u001b[38;5;124m\"\u001b[39m]):\n\u001b[0;32m      3\u001b[0m     \u001b[38;5;28mprint\u001b[39m(link)\n\u001b[1;32m----> 4\u001b[0m     res \u001b[38;5;241m=\u001b[39m requests\u001b[38;5;241m.\u001b[39mget(link)\n\u001b[0;32m      5\u001b[0m     soup \u001b[38;5;241m=\u001b[39m BeautifulSoup(res\u001b[38;5;241m.\u001b[39mtext, \u001b[38;5;124m\"\u001b[39m\u001b[38;5;124mhtml.parser\u001b[39m\u001b[38;5;124m\"\u001b[39m)\n\u001b[0;32m      6\u001b[0m     book_type \u001b[38;5;241m=\u001b[39m soup\u001b[38;5;241m.\u001b[39mfind(\u001b[38;5;124m\"\u001b[39m\u001b[38;5;124mul\u001b[39m\u001b[38;5;124m\"\u001b[39m, class_ \u001b[38;5;241m=\u001b[39m \u001b[38;5;124m\"\u001b[39m\u001b[38;5;124mbreadcrumb\u001b[39m\u001b[38;5;124m\"\u001b[39m)\u001b[38;5;241m.\u001b[39mfind_all(\u001b[38;5;124m\"\u001b[39m\u001b[38;5;124ma\u001b[39m\u001b[38;5;124m\"\u001b[39m)[\u001b[38;5;241m2\u001b[39m]\u001b[38;5;241m.\u001b[39mtext\n",
      "File \u001b[1;32m~\\anaconda3\\Lib\\site-packages\\requests\\api.py:73\u001b[0m, in \u001b[0;36mget\u001b[1;34m(url, params, **kwargs)\u001b[0m\n\u001b[0;32m     62\u001b[0m \u001b[38;5;28;01mdef\u001b[39;00m \u001b[38;5;21mget\u001b[39m(url, params\u001b[38;5;241m=\u001b[39m\u001b[38;5;28;01mNone\u001b[39;00m, \u001b[38;5;241m*\u001b[39m\u001b[38;5;241m*\u001b[39mkwargs):\n\u001b[0;32m     63\u001b[0m \u001b[38;5;250m    \u001b[39m\u001b[38;5;124mr\u001b[39m\u001b[38;5;124;03m\"\"\"Sends a GET request.\u001b[39;00m\n\u001b[0;32m     64\u001b[0m \n\u001b[0;32m     65\u001b[0m \u001b[38;5;124;03m    :param url: URL for the new :class:`Request` object.\u001b[39;00m\n\u001b[1;32m   (...)\u001b[0m\n\u001b[0;32m     70\u001b[0m \u001b[38;5;124;03m    :rtype: requests.Response\u001b[39;00m\n\u001b[0;32m     71\u001b[0m \u001b[38;5;124;03m    \"\"\"\u001b[39;00m\n\u001b[1;32m---> 73\u001b[0m     \u001b[38;5;28;01mreturn\u001b[39;00m request(\u001b[38;5;124m\"\u001b[39m\u001b[38;5;124mget\u001b[39m\u001b[38;5;124m\"\u001b[39m, url, params\u001b[38;5;241m=\u001b[39mparams, \u001b[38;5;241m*\u001b[39m\u001b[38;5;241m*\u001b[39mkwargs)\n",
      "File \u001b[1;32m~\\anaconda3\\Lib\\site-packages\\requests\\api.py:59\u001b[0m, in \u001b[0;36mrequest\u001b[1;34m(method, url, **kwargs)\u001b[0m\n\u001b[0;32m     55\u001b[0m \u001b[38;5;66;03m# By using the 'with' statement we are sure the session is closed, thus we\u001b[39;00m\n\u001b[0;32m     56\u001b[0m \u001b[38;5;66;03m# avoid leaving sockets open which can trigger a ResourceWarning in some\u001b[39;00m\n\u001b[0;32m     57\u001b[0m \u001b[38;5;66;03m# cases, and look like a memory leak in others.\u001b[39;00m\n\u001b[0;32m     58\u001b[0m \u001b[38;5;28;01mwith\u001b[39;00m sessions\u001b[38;5;241m.\u001b[39mSession() \u001b[38;5;28;01mas\u001b[39;00m session:\n\u001b[1;32m---> 59\u001b[0m     \u001b[38;5;28;01mreturn\u001b[39;00m session\u001b[38;5;241m.\u001b[39mrequest(method\u001b[38;5;241m=\u001b[39mmethod, url\u001b[38;5;241m=\u001b[39murl, \u001b[38;5;241m*\u001b[39m\u001b[38;5;241m*\u001b[39mkwargs)\n",
      "File \u001b[1;32m~\\anaconda3\\Lib\\site-packages\\requests\\sessions.py:589\u001b[0m, in \u001b[0;36mSession.request\u001b[1;34m(self, method, url, params, data, headers, cookies, files, auth, timeout, allow_redirects, proxies, hooks, stream, verify, cert, json)\u001b[0m\n\u001b[0;32m    584\u001b[0m send_kwargs \u001b[38;5;241m=\u001b[39m {\n\u001b[0;32m    585\u001b[0m     \u001b[38;5;124m\"\u001b[39m\u001b[38;5;124mtimeout\u001b[39m\u001b[38;5;124m\"\u001b[39m: timeout,\n\u001b[0;32m    586\u001b[0m     \u001b[38;5;124m\"\u001b[39m\u001b[38;5;124mallow_redirects\u001b[39m\u001b[38;5;124m\"\u001b[39m: allow_redirects,\n\u001b[0;32m    587\u001b[0m }\n\u001b[0;32m    588\u001b[0m send_kwargs\u001b[38;5;241m.\u001b[39mupdate(settings)\n\u001b[1;32m--> 589\u001b[0m resp \u001b[38;5;241m=\u001b[39m \u001b[38;5;28mself\u001b[39m\u001b[38;5;241m.\u001b[39msend(prep, \u001b[38;5;241m*\u001b[39m\u001b[38;5;241m*\u001b[39msend_kwargs)\n\u001b[0;32m    591\u001b[0m \u001b[38;5;28;01mreturn\u001b[39;00m resp\n",
      "File \u001b[1;32m~\\anaconda3\\Lib\\site-packages\\requests\\sessions.py:703\u001b[0m, in \u001b[0;36mSession.send\u001b[1;34m(self, request, **kwargs)\u001b[0m\n\u001b[0;32m    700\u001b[0m start \u001b[38;5;241m=\u001b[39m preferred_clock()\n\u001b[0;32m    702\u001b[0m \u001b[38;5;66;03m# Send the request\u001b[39;00m\n\u001b[1;32m--> 703\u001b[0m r \u001b[38;5;241m=\u001b[39m adapter\u001b[38;5;241m.\u001b[39msend(request, \u001b[38;5;241m*\u001b[39m\u001b[38;5;241m*\u001b[39mkwargs)\n\u001b[0;32m    705\u001b[0m \u001b[38;5;66;03m# Total elapsed time of the request (approximately)\u001b[39;00m\n\u001b[0;32m    706\u001b[0m elapsed \u001b[38;5;241m=\u001b[39m preferred_clock() \u001b[38;5;241m-\u001b[39m start\n",
      "File \u001b[1;32m~\\anaconda3\\Lib\\site-packages\\requests\\adapters.py:682\u001b[0m, in \u001b[0;36mHTTPAdapter.send\u001b[1;34m(self, request, stream, timeout, verify, cert, proxies)\u001b[0m\n\u001b[0;32m    667\u001b[0m     resp \u001b[38;5;241m=\u001b[39m conn\u001b[38;5;241m.\u001b[39murlopen(\n\u001b[0;32m    668\u001b[0m         method\u001b[38;5;241m=\u001b[39mrequest\u001b[38;5;241m.\u001b[39mmethod,\n\u001b[0;32m    669\u001b[0m         url\u001b[38;5;241m=\u001b[39murl,\n\u001b[1;32m   (...)\u001b[0m\n\u001b[0;32m    678\u001b[0m         chunked\u001b[38;5;241m=\u001b[39mchunked,\n\u001b[0;32m    679\u001b[0m     )\n\u001b[0;32m    681\u001b[0m \u001b[38;5;28;01mexcept\u001b[39;00m (ProtocolError, \u001b[38;5;167;01mOSError\u001b[39;00m) \u001b[38;5;28;01mas\u001b[39;00m err:\n\u001b[1;32m--> 682\u001b[0m     \u001b[38;5;28;01mraise\u001b[39;00m \u001b[38;5;167;01mConnectionError\u001b[39;00m(err, request\u001b[38;5;241m=\u001b[39mrequest)\n\u001b[0;32m    684\u001b[0m \u001b[38;5;28;01mexcept\u001b[39;00m MaxRetryError \u001b[38;5;28;01mas\u001b[39;00m e:\n\u001b[0;32m    685\u001b[0m     \u001b[38;5;28;01mif\u001b[39;00m \u001b[38;5;28misinstance\u001b[39m(e\u001b[38;5;241m.\u001b[39mreason, ConnectTimeoutError):\n\u001b[0;32m    686\u001b[0m         \u001b[38;5;66;03m# TODO: Remove this in 3.0.0: see #2811\u001b[39;00m\n",
      "\u001b[1;31mConnectionError\u001b[0m: ('Connection aborted.', RemoteDisconnected('Remote end closed connection without response'))"
     ]
    }
   ],
   "source": [
    "data = []\n",
    "for link in tqdm(df1[\"book_link\"]):\n",
    "    print(link)\n",
    "    res = requests.get(link)\n",
    "    soup = BeautifulSoup(res.text, \"html.parser\")\n",
    "    book_type = soup.find(\"ul\", class_ = \"breadcrumb\").find_all(\"a\")[2].text\n",
    "\n",
    "    temp  = soup.find(\"table\", class_= \"table table-striped\").find_all(\"td\")\n",
    "    upc     = temp[0].text\n",
    "    price_x = temp[1].text[1:]\n",
    "    price_i = temp[3].text[1:]\n",
    "    tax     = temp[4].text[1:]\n",
    "    qn      = temp[5].text\n",
    "    reviews = temp[6].text\n",
    "\n",
    "    \n",
    "    data.append([book_type, upc, price_x, price_i, tax, qn, reviews])"
   ]
  },
  {
   "cell_type": "code",
   "execution_count": null,
   "id": "710d2c80-d846-4344-ae64-f587b57fa504",
   "metadata": {},
   "outputs": [],
   "source": []
  },
  {
   "cell_type": "code",
   "execution_count": 73,
   "id": "ac94b6d8-db0e-470b-8e06-3c1a28c885ea",
   "metadata": {},
   "outputs": [
    {
     "data": {
      "text/plain": [
       "[['Poetry',\n",
       "  'a897fe39b1053632',\n",
       "  '£51.77',\n",
       "  '£51.77',\n",
       "  '£0.00',\n",
       "  'In stock (22 available)',\n",
       "  '0'],\n",
       " ['Historical Fiction',\n",
       "  '90fa61229261140a',\n",
       "  '£53.74',\n",
       "  '£53.74',\n",
       "  '£0.00',\n",
       "  'In stock (20 available)',\n",
       "  '0'],\n",
       " ['Fiction',\n",
       "  '6957f44c3847a760',\n",
       "  '£50.10',\n",
       "  '£50.10',\n",
       "  '£0.00',\n",
       "  'In stock (20 available)',\n",
       "  '0'],\n",
       " ['Mystery',\n",
       "  'e00eb4fd7b871a48',\n",
       "  '£47.82',\n",
       "  '£47.82',\n",
       "  '£0.00',\n",
       "  'In stock (20 available)',\n",
       "  '0'],\n",
       " ['History',\n",
       "  '4165285e1663650f',\n",
       "  '£54.23',\n",
       "  '£54.23',\n",
       "  '£0.00',\n",
       "  'In stock (20 available)',\n",
       "  '0'],\n",
       " ['Young Adult',\n",
       "  'f77dbf2323deb740',\n",
       "  '£22.65',\n",
       "  '£22.65',\n",
       "  '£0.00',\n",
       "  'In stock (19 available)',\n",
       "  '0'],\n",
       " ['Business',\n",
       "  '2597b5a345f45e1b',\n",
       "  '£33.34',\n",
       "  '£33.34',\n",
       "  '£0.00',\n",
       "  'In stock (19 available)',\n",
       "  '0'],\n",
       " ['Default',\n",
       "  'e72a5dfc7e9267b2',\n",
       "  '£17.93',\n",
       "  '£17.93',\n",
       "  '£0.00',\n",
       "  'In stock (19 available)',\n",
       "  '0'],\n",
       " ['Default',\n",
       "  'e10e1e165dc8be4a',\n",
       "  '£22.60',\n",
       "  '£22.60',\n",
       "  '£0.00',\n",
       "  'In stock (19 available)',\n",
       "  '0'],\n",
       " ['Poetry',\n",
       "  '1dfe412b8ac00530',\n",
       "  '£52.15',\n",
       "  '£52.15',\n",
       "  '£0.00',\n",
       "  'In stock (19 available)',\n",
       "  '0'],\n",
       " ['Default',\n",
       "  '0312262ecafa5a40',\n",
       "  '£13.99',\n",
       "  '£13.99',\n",
       "  '£0.00',\n",
       "  'In stock (19 available)',\n",
       "  '0'],\n",
       " ['Poetry',\n",
       "  '30a7f60cd76ca58c',\n",
       "  '£20.66',\n",
       "  '£20.66',\n",
       "  '£0.00',\n",
       "  'In stock (19 available)',\n",
       "  '0'],\n",
       " ['Young Adult',\n",
       "  'ce6396b0f23f6ecc',\n",
       "  '£17.46',\n",
       "  '£17.46',\n",
       "  '£0.00',\n",
       "  'In stock (19 available)',\n",
       "  '0'],\n",
       " ['Sequential Art',\n",
       "  '3b1c02bac2a429e6',\n",
       "  '£52.29',\n",
       "  '£52.29',\n",
       "  '£0.00',\n",
       "  'In stock (19 available)',\n",
       "  '0'],\n",
       " ['Music',\n",
       "  'a34ba96d4081e6a4',\n",
       "  '£35.02',\n",
       "  '£35.02',\n",
       "  '£0.00',\n",
       "  'In stock (19 available)',\n",
       "  '0'],\n",
       " ['Music',\n",
       "  'deda3e61b9514b83',\n",
       "  '£57.25',\n",
       "  '£57.25',\n",
       "  '£0.00',\n",
       "  'In stock (19 available)',\n",
       "  '0'],\n",
       " ['Poetry',\n",
       "  'feb7cc7701ecf901',\n",
       "  '£23.88',\n",
       "  '£23.88',\n",
       "  '£0.00',\n",
       "  'In stock (19 available)',\n",
       "  '0'],\n",
       " ['Science Fiction',\n",
       "  'e30f54cea9b38190',\n",
       "  '£37.59',\n",
       "  '£37.59',\n",
       "  '£0.00',\n",
       "  'In stock (19 available)',\n",
       "  '0'],\n",
       " ['Politics',\n",
       "  'a18a4f574854aced',\n",
       "  '£51.33',\n",
       "  '£51.33',\n",
       "  '£0.00',\n",
       "  'In stock (19 available)',\n",
       "  '0'],\n",
       " ['Travel',\n",
       "  'a22124811bfa8350',\n",
       "  '£45.17',\n",
       "  '£45.17',\n",
       "  '£0.00',\n",
       "  'In stock (19 available)',\n",
       "  '0'],\n",
       " ['Thriller',\n",
       "  '23356462d1320d61',\n",
       "  '£12.84',\n",
       "  '£12.84',\n",
       "  '£0.00',\n",
       "  'In stock (19 available)',\n",
       "  '0'],\n",
       " ['Music',\n",
       "  '327f68a59745c102',\n",
       "  '£37.32',\n",
       "  '£37.32',\n",
       "  '£0.00',\n",
       "  'In stock (19 available)',\n",
       "  '0'],\n",
       " ['Food and Drink',\n",
       "  '5674a18a29a43ced',\n",
       "  '£30.52',\n",
       "  '£30.52',\n",
       "  '£0.00',\n",
       "  'In stock (19 available)',\n",
       "  '0'],\n",
       " ['Romance',\n",
       "  'c2e46a2ee3b4a322',\n",
       "  '£25.27',\n",
       "  '£25.27',\n",
       "  '£0.00',\n",
       "  'In stock (19 available)',\n",
       "  '0'],\n",
       " ['Romance',\n",
       "  '00bfed9e18bb36f3',\n",
       "  '£34.53',\n",
       "  '£34.53',\n",
       "  '£0.00',\n",
       "  'In stock (19 available)',\n",
       "  '0'],\n",
       " ['Childrens',\n",
       "  '9528d0948525bf5f',\n",
       "  '£54.64',\n",
       "  '£54.64',\n",
       "  '£0.00',\n",
       "  'In stock (19 available)',\n",
       "  '0'],\n",
       " ['Default',\n",
       "  'c7d160c2c0de586f',\n",
       "  '£22.50',\n",
       "  '£22.50',\n",
       "  '£0.00',\n",
       "  'In stock (19 available)',\n",
       "  '0'],\n",
       " ['Default',\n",
       "  '904208d6aa64b655',\n",
       "  '£53.13',\n",
       "  '£53.13',\n",
       "  '£0.00',\n",
       "  'In stock (19 available)',\n",
       "  '0'],\n",
       " ['Nonfiction',\n",
       "  '4c28def39d850cdf',\n",
       "  '£40.30',\n",
       "  '£40.30',\n",
       "  '£0.00',\n",
       "  'In stock (18 available)',\n",
       "  '0'],\n",
       " ['Art',\n",
       "  'ccd9ffa25efabdea',\n",
       "  '£44.18',\n",
       "  '£44.18',\n",
       "  '£0.00',\n",
       "  'In stock (18 available)',\n",
       "  '0'],\n",
       " ['Spirituality',\n",
       "  '6258a1f6a6dcfe50',\n",
       "  '£17.66',\n",
       "  '£17.66',\n",
       "  '£0.00',\n",
       "  'In stock (18 available)',\n",
       "  '0'],\n",
       " ['Nonfiction',\n",
       "  '3c039985229453bf',\n",
       "  '£31.05',\n",
       "  '£31.05',\n",
       "  '£0.00',\n",
       "  'In stock (18 available)',\n",
       "  '0'],\n",
       " ['Thriller',\n",
       "  '5dada2b7be26bd03',\n",
       "  '£23.82',\n",
       "  '£23.82',\n",
       "  '£0.00',\n",
       "  'In stock (18 available)',\n",
       "  '0'],\n",
       " ['Childrens',\n",
       "  '9f6568e9c95f60b0',\n",
       "  '£36.89',\n",
       "  '£36.89',\n",
       "  '£0.00',\n",
       "  'In stock (18 available)',\n",
       "  '0'],\n",
       " ['Philosophy',\n",
       "  '6be3beb0793a53e7',\n",
       "  '£15.94',\n",
       "  '£15.94',\n",
       "  '£0.00',\n",
       "  'In stock (18 available)',\n",
       "  '0'],\n",
       " ['Default',\n",
       "  '668fe56b17cfcd4f',\n",
       "  '£33.29',\n",
       "  '£33.29',\n",
       "  '£0.00',\n",
       "  'In stock (18 available)',\n",
       "  '0'],\n",
       " ['Default',\n",
       "  '094b269567e1c300',\n",
       "  '£18.02',\n",
       "  '£18.02',\n",
       "  '£0.00',\n",
       "  'In stock (18 available)',\n",
       "  '0'],\n",
       " ['Mystery',\n",
       "  '19ed25f4641d5efd',\n",
       "  '£19.63',\n",
       "  '£19.63',\n",
       "  '£0.00',\n",
       "  'In stock (18 available)',\n",
       "  '0'],\n",
       " ['Thriller',\n",
       "  'be5cc846f45496fb',\n",
       "  '£52.22',\n",
       "  '£52.22',\n",
       "  '£0.00',\n",
       "  'In stock (18 available)',\n",
       "  '0'],\n",
       " ['Poetry',\n",
       "  '55f9da0c5eea2e10',\n",
       "  '£33.63',\n",
       "  '£33.63',\n",
       "  '£0.00',\n",
       "  'In stock (17 available)',\n",
       "  '0'],\n",
       " ['Poetry',\n",
       "  'b4fd5943413e089a',\n",
       "  '£57.31',\n",
       "  '£57.31',\n",
       "  '£0.00',\n",
       "  'In stock (17 available)',\n",
       "  '0'],\n",
       " ['Nonfiction',\n",
       "  'c8f7f0cb1abb9cac',\n",
       "  '£26.41',\n",
       "  '£26.41',\n",
       "  '£0.00',\n",
       "  'In stock (17 available)',\n",
       "  '0'],\n",
       " ['Fiction',\n",
       "  'b12b89017878a60d',\n",
       "  '£47.61',\n",
       "  '£47.61',\n",
       "  '£0.00',\n",
       "  'In stock (17 available)',\n",
       "  '0'],\n",
       " ['Nonfiction',\n",
       "  'c27f6e1f185b0383',\n",
       "  '£23.11',\n",
       "  '£23.11',\n",
       "  '£0.00',\n",
       "  'In stock (17 available)',\n",
       "  '0'],\n",
       " ['New Adult',\n",
       "  'acddfeab2a407640',\n",
       "  '£45.07',\n",
       "  '£45.07',\n",
       "  '£0.00',\n",
       "  'In stock (16 available)',\n",
       "  '0'],\n",
       " ['Contemporary',\n",
       "  '3ecb690d1542c568',\n",
       "  '£31.77',\n",
       "  '£31.77',\n",
       "  '£0.00',\n",
       "  'In stock (16 available)',\n",
       "  '0'],\n",
       " ['Fiction',\n",
       "  '8d455c7539795d2a',\n",
       "  '£50.27',\n",
       "  '£50.27',\n",
       "  '£0.00',\n",
       "  'In stock (16 available)',\n",
       "  '0'],\n",
       " ['Poetry',\n",
       "  '657fe5ead67a7767',\n",
       "  '£14.27',\n",
       "  '£14.27',\n",
       "  '£0.00',\n",
       "  'In stock (16 available)',\n",
       "  '0'],\n",
       " ['Nonfiction',\n",
       "  'd170b5a0da46380e',\n",
       "  '£44.18',\n",
       "  '£44.18',\n",
       "  '£0.00',\n",
       "  'In stock (16 available)',\n",
       "  '0'],\n",
       " ['Fantasy',\n",
       "  '7ae099f3898e0209',\n",
       "  '£18.78',\n",
       "  '£18.78',\n",
       "  '£0.00',\n",
       "  'In stock (16 available)',\n",
       "  '0'],\n",
       " ['History',\n",
       "  '9a9d6e9bc555731e',\n",
       "  '£25.52',\n",
       "  '£25.52',\n",
       "  '£0.00',\n",
       "  'In stock (16 available)',\n",
       "  '0'],\n",
       " ['Sequential Art',\n",
       "  '09555be379ad9253',\n",
       "  '£16.28',\n",
       "  '£16.28',\n",
       "  '£0.00',\n",
       "  'In stock (16 available)',\n",
       "  '0'],\n",
       " ['Nonfiction',\n",
       "  '7858914fad68493c',\n",
       "  '£31.12',\n",
       "  '£31.12',\n",
       "  '£0.00',\n",
       "  'In stock (16 available)',\n",
       "  '0'],\n",
       " ['Sequential Art',\n",
       "  '51653ef291ab7ddc',\n",
       "  '£19.49',\n",
       "  '£19.49',\n",
       "  '£0.00',\n",
       "  'In stock (16 available)',\n",
       "  '0'],\n",
       " ['Fiction',\n",
       "  '709822d0b5bcb7f4',\n",
       "  '£17.27',\n",
       "  '£17.27',\n",
       "  '£0.00',\n",
       "  'In stock (16 available)',\n",
       "  '0'],\n",
       " ['Add a comment',\n",
       "  '4eed62cf5f8d8edf',\n",
       "  '£19.09',\n",
       "  '£19.09',\n",
       "  '£0.00',\n",
       "  'In stock (16 available)',\n",
       "  '0'],\n",
       " ['Childrens',\n",
       "  'b5ea0b5dabed25a8',\n",
       "  '£56.13',\n",
       "  '£56.13',\n",
       "  '£0.00',\n",
       "  'In stock (16 available)',\n",
       "  '0'],\n",
       " ['Food and Drink',\n",
       "  '142d767a56a9254d',\n",
       "  '£56.41',\n",
       "  '£56.41',\n",
       "  '£0.00',\n",
       "  'In stock (16 available)',\n",
       "  '0'],\n",
       " ['Mystery',\n",
       "  '5ee94540d0749ea0',\n",
       "  '£56.50',\n",
       "  '£56.50',\n",
       "  '£0.00',\n",
       "  'In stock (16 available)',\n",
       "  '0'],\n",
       " ['Young Adult',\n",
       "  'cedf82b5086e4691',\n",
       "  '£45.22',\n",
       "  '£45.22',\n",
       "  '£0.00',\n",
       "  'In stock (16 available)',\n",
       "  '0'],\n",
       " ['Sequential Art',\n",
       "  '7d385d34d12e60ff',\n",
       "  '£38.16',\n",
       "  '£38.16',\n",
       "  '£0.00',\n",
       "  'In stock (16 available)',\n",
       "  '0'],\n",
       " ['Fiction',\n",
       "  'd01ac97e2b8947c2',\n",
       "  '£54.11',\n",
       "  '£54.11',\n",
       "  '£0.00',\n",
       "  'In stock (16 available)',\n",
       "  '0'],\n",
       " ['Science',\n",
       "  'aadee1c326d286e3',\n",
       "  '£42.96',\n",
       "  '£42.96',\n",
       "  '£0.00',\n",
       "  'In stock (16 available)',\n",
       "  '0'],\n",
       " ['Add a comment',\n",
       "  '31075275518532d7',\n",
       "  '£23.89',\n",
       "  '£23.89',\n",
       "  '£0.00',\n",
       "  'In stock (16 available)',\n",
       "  '0'],\n",
       " ['Nonfiction',\n",
       "  '0da9aa9d24677fc0',\n",
       "  '£16.77',\n",
       "  '£16.77',\n",
       "  '£0.00',\n",
       "  'In stock (16 available)',\n",
       "  '0'],\n",
       " ['Default',\n",
       "  '8c9e6bf2467d740d',\n",
       "  '£20.59',\n",
       "  '£20.59',\n",
       "  '£0.00',\n",
       "  'In stock (16 available)',\n",
       "  '0'],\n",
       " ['Nonfiction',\n",
       "  'acd86a5426e21ca0',\n",
       "  '£37.13',\n",
       "  '£37.13',\n",
       "  '£0.00',\n",
       "  'In stock (16 available)',\n",
       "  '0'],\n",
       " ['Nonfiction',\n",
       "  'a30b270e25489e5c',\n",
       "  '£56.06',\n",
       "  '£56.06',\n",
       "  '£0.00',\n",
       "  'In stock (16 available)',\n",
       "  '0'],\n",
       " ['Philosophy',\n",
       "  'bd261725b99f5983',\n",
       "  '£58.11',\n",
       "  '£58.11',\n",
       "  '£0.00',\n",
       "  'In stock (16 available)',\n",
       "  '0'],\n",
       " ['Health',\n",
       "  '43c6a960757cf559',\n",
       "  '£49.05',\n",
       "  '£49.05',\n",
       "  '£0.00',\n",
       "  'In stock (16 available)',\n",
       "  '0'],\n",
       " ['Add a comment',\n",
       "  '80cfab6bcff3a244',\n",
       "  '£40.76',\n",
       "  '£40.76',\n",
       "  '£0.00',\n",
       "  'In stock (16 available)',\n",
       "  '0'],\n",
       " ['History',\n",
       "  'a3d2a4250807f1e9',\n",
       "  '£19.73',\n",
       "  '£19.73',\n",
       "  '£0.00',\n",
       "  'In stock (16 available)',\n",
       "  '0'],\n",
       " ['Spirituality',\n",
       "  '7d6d2a6c0276f81b',\n",
       "  '£32.24',\n",
       "  '£32.24',\n",
       "  '£0.00',\n",
       "  'In stock (16 available)',\n",
       "  '0'],\n",
       " ['Nonfiction',\n",
       "  '87b0615b6e1f4d7b',\n",
       "  '£41.83',\n",
       "  '£41.83',\n",
       "  '£0.00',\n",
       "  'In stock (16 available)',\n",
       "  '0'],\n",
       " ['Default',\n",
       "  'e6af5bf1163c1151',\n",
       "  '£39.58',\n",
       "  '£39.58',\n",
       "  '£0.00',\n",
       "  'In stock (16 available)',\n",
       "  '0'],\n",
       " ['Horror',\n",
       "  '6f78a0d744c35456',\n",
       "  '£39.25',\n",
       "  '£39.25',\n",
       "  '£0.00',\n",
       "  'In stock (16 available)',\n",
       "  '0'],\n",
       " ['Fantasy',\n",
       "  'c849f0b2f5d6a742',\n",
       "  '£25.02',\n",
       "  '£25.02',\n",
       "  '£0.00',\n",
       "  'In stock (16 available)',\n",
       "  '0'],\n",
       " ['Sequential Art',\n",
       "  '53a3d11bb568cc8b',\n",
       "  '£51.04',\n",
       "  '£51.04',\n",
       "  '£0.00',\n",
       "  'In stock (16 available)',\n",
       "  '0'],\n",
       " ['Nonfiction',\n",
       "  'd7310206583a54b6',\n",
       "  '£19.83',\n",
       "  '£19.83',\n",
       "  '£0.00',\n",
       "  'In stock (16 available)',\n",
       "  '0'],\n",
       " ['Sequential Art',\n",
       "  'c82a3e358c773c73',\n",
       "  '£50.40',\n",
       "  '£50.40',\n",
       "  '£0.00',\n",
       "  'In stock (16 available)',\n",
       "  '0'],\n",
       " ['Sequential Art',\n",
       "  '0fa6dceead7ce47a',\n",
       "  '£13.61',\n",
       "  '£13.61',\n",
       "  '£0.00',\n",
       "  'In stock (16 available)',\n",
       "  '0'],\n",
       " ['Fantasy',\n",
       "  '0e691eda369f4e09',\n",
       "  '£13.34',\n",
       "  '£13.34',\n",
       "  '£0.00',\n",
       "  'In stock (16 available)',\n",
       "  '0'],\n",
       " ['Sequential Art',\n",
       "  'e80f8e518b300dfe',\n",
       "  '£18.97',\n",
       "  '£18.97',\n",
       "  '£0.00',\n",
       "  'In stock (16 available)',\n",
       "  '0'],\n",
       " ['History',\n",
       "  '7392c0032f92d816',\n",
       "  '£36.28',\n",
       "  '£36.28',\n",
       "  '£0.00',\n",
       "  'In stock (16 available)',\n",
       "  '0'],\n",
       " ['Sequential Art',\n",
       "  '9429b4d59c537af5',\n",
       "  '£10.16',\n",
       "  '£10.16',\n",
       "  '£0.00',\n",
       "  'In stock (16 available)',\n",
       "  '0'],\n",
       " ['Sequential Art',\n",
       "  '889139b8e9c4cb36',\n",
       "  '£15.44',\n",
       "  '£15.44',\n",
       "  '£0.00',\n",
       "  'In stock (16 available)',\n",
       "  '0'],\n",
       " ['Sequential Art',\n",
       "  '11809b1d323b3057',\n",
       "  '£48.41',\n",
       "  '£48.41',\n",
       "  '£0.00',\n",
       "  'In stock (16 available)',\n",
       "  '0'],\n",
       " ['Self Help',\n",
       "  '9ffa38d3b832433a',\n",
       "  '£46.35',\n",
       "  '£46.35',\n",
       "  '£0.00',\n",
       "  'In stock (16 available)',\n",
       "  '0'],\n",
       " ['Add a comment',\n",
       "  'b757c0c361e689ce',\n",
       "  '£14.07',\n",
       "  '£14.07',\n",
       "  '£0.00',\n",
       "  'In stock (16 available)',\n",
       "  '0'],\n",
       " ['Young Adult',\n",
       "  '3c346ab1e76ae1f6',\n",
       "  '£14.86',\n",
       "  '£14.86',\n",
       "  '£0.00',\n",
       "  'In stock (16 available)',\n",
       "  '0'],\n",
       " ['Food and Drink',\n",
       "  '784bc2279baa878d',\n",
       "  '£33.37',\n",
       "  '£33.37',\n",
       "  '£0.00',\n",
       "  'In stock (16 available)',\n",
       "  '0'],\n",
       " ['Fantasy',\n",
       "  'fa9610a50a1bf149',\n",
       "  '£56.40',\n",
       "  '£56.40',\n",
       "  '£0.00',\n",
       "  'In stock (16 available)',\n",
       "  '0'],\n",
       " ['Food and Drink',\n",
       "  '72f9d5be3472d34e',\n",
       "  '£14.02',\n",
       "  '£14.02',\n",
       "  '£0.00',\n",
       "  'In stock (16 available)',\n",
       "  '0'],\n",
       " ['Sequential Art',\n",
       "  '460089f796fb3f82',\n",
       "  '£46.91',\n",
       "  '£46.91',\n",
       "  '£0.00',\n",
       "  'In stock (16 available)',\n",
       "  '0'],\n",
       " ['Sequential Art',\n",
       "  'b6ee99bcf06fc91f',\n",
       "  '£45.61',\n",
       "  '£45.61',\n",
       "  '£0.00',\n",
       "  'In stock (16 available)',\n",
       "  '0'],\n",
       " ['Sequential Art',\n",
       "  '57e5a4d515c8ce44',\n",
       "  '£19.92',\n",
       "  '£19.92',\n",
       "  '£0.00',\n",
       "  'In stock (16 available)',\n",
       "  '0'],\n",
       " ['Food and Drink',\n",
       "  '7b75cc7f223791f4',\n",
       "  '£40.11',\n",
       "  '£40.11',\n",
       "  '£0.00',\n",
       "  'In stock (16 available)',\n",
       "  '0'],\n",
       " ['Add a comment',\n",
       "  '228f74b74f3a08ae',\n",
       "  '£53.90',\n",
       "  '£53.90',\n",
       "  '£0.00',\n",
       "  'In stock (16 available)',\n",
       "  '0'],\n",
       " ['Science Fiction',\n",
       "  '18ad3ed896c7ce05',\n",
       "  '£35.67',\n",
       "  '£35.67',\n",
       "  '£0.00',\n",
       "  'In stock (16 available)',\n",
       "  '0'],\n",
       " ['Nonfiction',\n",
       "  'b136b1b180ca753a',\n",
       "  '£22.00',\n",
       "  '£22.00',\n",
       "  '£0.00',\n",
       "  'In stock (16 available)',\n",
       "  '0'],\n",
       " ['Science',\n",
       "  'e4f74c16de34d440',\n",
       "  '£57.36',\n",
       "  '£57.36',\n",
       "  '£0.00',\n",
       "  'In stock (16 available)',\n",
       "  '0'],\n",
       " ['Sequential Art',\n",
       "  '8d4eefad7a2b3915',\n",
       "  '£29.17',\n",
       "  '£29.17',\n",
       "  '£0.00',\n",
       "  'In stock (16 available)',\n",
       "  '0'],\n",
       " ['Sequential Art',\n",
       "  '1c89ae5bb804e4de',\n",
       "  '£54.63',\n",
       "  '£54.63',\n",
       "  '£0.00',\n",
       "  'In stock (16 available)',\n",
       "  '0'],\n",
       " ['Self Help',\n",
       "  'a6f99b9e687f9d46',\n",
       "  '£46.03',\n",
       "  '£46.03',\n",
       "  '£0.00',\n",
       "  'In stock (16 available)',\n",
       "  '0'],\n",
       " ['Romance',\n",
       "  '2a97cffe61c3c4c7',\n",
       "  '£33.97',\n",
       "  '£33.97',\n",
       "  '£0.00',\n",
       "  'In stock (16 available)',\n",
       "  '0'],\n",
       " ['Sequential Art',\n",
       "  'f2df3bb043a8abb0',\n",
       "  '£22.11',\n",
       "  '£22.11',\n",
       "  '£0.00',\n",
       "  'In stock (16 available)',\n",
       "  '0'],\n",
       " ['Historical Fiction',\n",
       "  '9beb96a2300109d7',\n",
       "  '£29.69',\n",
       "  '£29.69',\n",
       "  '£0.00',\n",
       "  'In stock (16 available)',\n",
       "  '0'],\n",
       " ['Romance',\n",
       "  '9e28048cea8d41f7',\n",
       "  '£15.97',\n",
       "  '£15.97',\n",
       "  '£0.00',\n",
       "  'In stock (16 available)',\n",
       "  '0'],\n",
       " ['Romance',\n",
       "  '7add3f8e49ec0826',\n",
       "  '£21.96',\n",
       "  '£21.96',\n",
       "  '£0.00',\n",
       "  'In stock (16 available)',\n",
       "  '0'],\n",
       " ['Nonfiction',\n",
       "  '311c0dd0e354a33e',\n",
       "  '£54.35',\n",
       "  '£54.35',\n",
       "  '£0.00',\n",
       "  'In stock (16 available)',\n",
       "  '0'],\n",
       " ['Religion',\n",
       "  'fce19f9b4a943f22',\n",
       "  '£37.97',\n",
       "  '£37.97',\n",
       "  '£0.00',\n",
       "  'In stock (16 available)',\n",
       "  '0'],\n",
       " ['Sequential Art',\n",
       "  '09b6cc87e62c2c58',\n",
       "  '£51.99',\n",
       "  '£51.99',\n",
       "  '£0.00',\n",
       "  'In stock (16 available)',\n",
       "  '0'],\n",
       " ['Fantasy',\n",
       "  '7267864328ae8b9d',\n",
       "  '£43.29',\n",
       "  '£43.29',\n",
       "  '£0.00',\n",
       "  'In stock (16 available)',\n",
       "  '0'],\n",
       " ['Sequential Art',\n",
       "  '8754c83ab2a7ae71',\n",
       "  '£36.72',\n",
       "  '£36.72',\n",
       "  '£0.00',\n",
       "  'In stock (16 available)',\n",
       "  '0'],\n",
       " ['Sequential Art',\n",
       "  '7b599c8bfcdd8d30',\n",
       "  '£17.08',\n",
       "  '£17.08',\n",
       "  '£0.00',\n",
       "  'In stock (16 available)',\n",
       "  '0'],\n",
       " ['Nonfiction',\n",
       "  'bee3672891cca906',\n",
       "  '£29.14',\n",
       "  '£29.14',\n",
       "  '£0.00',\n",
       "  'In stock (16 available)',\n",
       "  '0'],\n",
       " ['Young Adult',\n",
       "  '5ceb951f629700a2',\n",
       "  '£28.81',\n",
       "  '£28.81',\n",
       "  '£0.00',\n",
       "  'In stock (16 available)',\n",
       "  '0'],\n",
       " ['Default',\n",
       "  '74baabfc8fd84b38',\n",
       "  '£49.46',\n",
       "  '£49.46',\n",
       "  '£0.00',\n",
       "  'In stock (16 available)',\n",
       "  '0'],\n",
       " ['Sequential Art',\n",
       "  'bdf415fd484ea8a7',\n",
       "  '£37.92',\n",
       "  '£37.92',\n",
       "  '£0.00',\n",
       "  'In stock (16 available)',\n",
       "  '0'],\n",
       " ['Fantasy',\n",
       "  '6d5300b2d8f37e07',\n",
       "  '£28.09',\n",
       "  '£28.09',\n",
       "  '£0.00',\n",
       "  'In stock (16 available)',\n",
       "  '0'],\n",
       " ['Nonfiction',\n",
       "  '38d45839cb1c83c1',\n",
       "  '£30.81',\n",
       "  '£30.81',\n",
       "  '£0.00',\n",
       "  'In stock (16 available)',\n",
       "  '0'],\n",
       " ['Default',\n",
       "  '70ed59f194b3c556',\n",
       "  '£42.95',\n",
       "  '£42.95',\n",
       "  '£0.00',\n",
       "  'In stock (16 available)',\n",
       "  '0'],\n",
       " ['Default',\n",
       "  '8a380641491d43ed',\n",
       "  '£56.76',\n",
       "  '£56.76',\n",
       "  '£0.00',\n",
       "  'In stock (16 available)',\n",
       "  '0'],\n",
       " ['Mystery',\n",
       "  'f733e8c19d40ec2e',\n",
       "  '£16.64',\n",
       "  '£16.64',\n",
       "  '£0.00',\n",
       "  'In stock (16 available)',\n",
       "  '0'],\n",
       " ['Historical Fiction',\n",
       "  '3a6fb983e2554023',\n",
       "  '£55.53',\n",
       "  '£55.53',\n",
       "  '£0.00',\n",
       "  'In stock (16 available)',\n",
       "  '0'],\n",
       " ['Young Adult',\n",
       "  '842790dfaa937484',\n",
       "  '£28.13',\n",
       "  '£28.13',\n",
       "  '£0.00',\n",
       "  'In stock (16 available)',\n",
       "  '0'],\n",
       " ['Fantasy',\n",
       "  '01d2001ac1e6f8a3',\n",
       "  '£52.37',\n",
       "  '£52.37',\n",
       "  '£0.00',\n",
       "  'In stock (16 available)',\n",
       "  '0'],\n",
       " ['Christian',\n",
       "  'e4ac92d89b946781',\n",
       "  '£54.00',\n",
       "  '£54.00',\n",
       "  '£0.00',\n",
       "  'In stock (16 available)',\n",
       "  '0'],\n",
       " ['Religion',\n",
       "  '796c87ddbbaaf8c5',\n",
       "  '£21.87',\n",
       "  '£21.87',\n",
       "  '£0.00',\n",
       "  'In stock (15 available)',\n",
       "  '0'],\n",
       " ['Science Fiction',\n",
       "  '9270575728a13a61',\n",
       "  '£43.30',\n",
       "  '£43.30',\n",
       "  '£0.00',\n",
       "  'In stock (15 available)',\n",
       "  '0'],\n",
       " ['Fiction',\n",
       "  'b8736690cf263a3c',\n",
       "  '£21.04',\n",
       "  '£21.04',\n",
       "  '£0.00',\n",
       "  'In stock (15 available)',\n",
       "  '0'],\n",
       " ['Default',\n",
       "  'd7d6d50c1e3d0b81',\n",
       "  '£41.60',\n",
       "  '£41.60',\n",
       "  '£0.00',\n",
       "  'In stock (15 available)',\n",
       "  '0'],\n",
       " ['Fantasy',\n",
       "  '590a9cccf7db9f7d',\n",
       "  '£35.07',\n",
       "  '£35.07',\n",
       "  '£0.00',\n",
       "  'In stock (15 available)',\n",
       "  '0'],\n",
       " ['History',\n",
       "  'de3f25248ba0789f',\n",
       "  '£59.64',\n",
       "  '£59.64',\n",
       "  '£0.00',\n",
       "  'In stock (15 available)',\n",
       "  '0'],\n",
       " ['Default',\n",
       "  'bc2a85fd35fdc7bd',\n",
       "  '£52.72',\n",
       "  '£52.72',\n",
       "  '£0.00',\n",
       "  'In stock (15 available)',\n",
       "  '0'],\n",
       " ['Childrens',\n",
       "  '37c0cb19713d8dda',\n",
       "  '£58.08',\n",
       "  '£58.08',\n",
       "  '£0.00',\n",
       "  'In stock (15 available)',\n",
       "  '0'],\n",
       " ['Romance',\n",
       "  '623e1a180426039b',\n",
       "  '£24.12',\n",
       "  '£24.12',\n",
       "  '£0.00',\n",
       "  'In stock (15 available)',\n",
       "  '0'],\n",
       " ['Fiction',\n",
       "  'fd3a622648667296',\n",
       "  '£42.15',\n",
       "  '£42.15',\n",
       "  '£0.00',\n",
       "  'In stock (15 available)',\n",
       "  '0'],\n",
       " ['Business',\n",
       "  '3bebf34ee9330cbd',\n",
       "  '£12.61',\n",
       "  '£12.61',\n",
       "  '£0.00',\n",
       "  'In stock (15 available)',\n",
       "  '0'],\n",
       " ['Philosophy',\n",
       "  'f5a92cff83897d48',\n",
       "  '£17.44',\n",
       "  '£17.44',\n",
       "  '£0.00',\n",
       "  'In stock (15 available)',\n",
       "  '0'],\n",
       " ['Sequential Art',\n",
       "  'd6361d16212664ed',\n",
       "  '£33.14',\n",
       "  '£33.14',\n",
       "  '£0.00',\n",
       "  'In stock (15 available)',\n",
       "  '0'],\n",
       " ['Default',\n",
       "  '961f18db4f138211',\n",
       "  '£27.37',\n",
       "  '£27.37',\n",
       "  '£0.00',\n",
       "  'In stock (15 available)',\n",
       "  '0'],\n",
       " ['Fiction',\n",
       "  '0651062381f0636a',\n",
       "  '£51.36',\n",
       "  '£51.36',\n",
       "  '£0.00',\n",
       "  'In stock (15 available)',\n",
       "  '0'],\n",
       " ['Default',\n",
       "  'e98a4efa85070c2f',\n",
       "  '£36.00',\n",
       "  '£36.00',\n",
       "  '£0.00',\n",
       "  'In stock (15 available)',\n",
       "  '0'],\n",
       " ['Science Fiction',\n",
       "  '790ef197c8f236f5',\n",
       "  '£10.65',\n",
       "  '£10.65',\n",
       "  '£0.00',\n",
       "  'In stock (15 available)',\n",
       "  '0'],\n",
       " ['Nonfiction',\n",
       "  '8ec14b1576cb7cb5',\n",
       "  '£43.54',\n",
       "  '£43.54',\n",
       "  '£0.00',\n",
       "  'In stock (15 available)',\n",
       "  '0'],\n",
       " ['Nonfiction',\n",
       "  '209adad1015af86f',\n",
       "  '£38.21',\n",
       "  '£38.21',\n",
       "  '£0.00',\n",
       "  'In stock (15 available)',\n",
       "  '0'],\n",
       " ['Food and Drink',\n",
       "  'e4c7f3487d17fd42',\n",
       "  '£37.34',\n",
       "  '£37.34',\n",
       "  '£0.00',\n",
       "  'In stock (15 available)',\n",
       "  '0'],\n",
       " ['Mystery',\n",
       "  'c7b5183f4d1d4efe',\n",
       "  '£44.10',\n",
       "  '£44.10',\n",
       "  '£0.00',\n",
       "  'In stock (15 available)',\n",
       "  '0'],\n",
       " ['New Adult',\n",
       "  '99ff4cc6491e8f5c',\n",
       "  '£43.29',\n",
       "  '£43.29',\n",
       "  '£0.00',\n",
       "  'In stock (15 available)',\n",
       "  '0'],\n",
       " ['New Adult',\n",
       "  '08db62f24627e71f',\n",
       "  '£55.85',\n",
       "  '£55.85',\n",
       "  '£0.00',\n",
       "  'In stock (15 available)',\n",
       "  '0'],\n",
       " ['Food and Drink',\n",
       "  'e28e330cbdf01126',\n",
       "  '£37.60',\n",
       "  '£37.60',\n",
       "  '£0.00',\n",
       "  'In stock (15 available)',\n",
       "  '0'],\n",
       " ['Crime',\n",
       "  'abeafe151a587d3b',\n",
       "  '£10.97',\n",
       "  '£10.97',\n",
       "  '£0.00',\n",
       "  'In stock (15 available)',\n",
       "  '0'],\n",
       " ['Default',\n",
       "  'eac1a180047ad54e',\n",
       "  '£41.82',\n",
       "  '£41.82',\n",
       "  '£0.00',\n",
       "  'In stock (15 available)',\n",
       "  '0'],\n",
       " ['Historical Fiction',\n",
       "  '9287e238d7c3b06e',\n",
       "  '£36.95',\n",
       "  '£36.95',\n",
       "  '£0.00',\n",
       "  'In stock (15 available)',\n",
       "  '0'],\n",
       " ['Fantasy',\n",
       "  '2dbb7ec08cdd7f3c',\n",
       "  '£44.28',\n",
       "  '£44.28',\n",
       "  '£0.00',\n",
       "  'In stock (15 available)',\n",
       "  '0'],\n",
       " ['Default',\n",
       "  'e956d67c9bcc5809',\n",
       "  '£55.02',\n",
       "  '£55.02',\n",
       "  '£0.00',\n",
       "  'In stock (15 available)',\n",
       "  '0'],\n",
       " ['Nonfiction',\n",
       "  '42d0d7c92b75fc1c',\n",
       "  '£17.24',\n",
       "  '£17.24',\n",
       "  '£0.00',\n",
       "  'In stock (15 available)',\n",
       "  '0'],\n",
       " ['Default',\n",
       "  'd6670dfe3e7b42bd',\n",
       "  '£23.15',\n",
       "  '£23.15',\n",
       "  '£0.00',\n",
       "  'In stock (15 available)',\n",
       "  '0'],\n",
       " ['Food and Drink',\n",
       "  '96a38e7c813d8f1d',\n",
       "  '£41.25',\n",
       "  '£41.25',\n",
       "  '£0.00',\n",
       "  'In stock (15 available)',\n",
       "  '0'],\n",
       " ['Default',\n",
       "  'efc3768127714ec3',\n",
       "  '£32.00',\n",
       "  '£32.00',\n",
       "  '£0.00',\n",
       "  'In stock (15 available)',\n",
       "  '0'],\n",
       " ['Nonfiction',\n",
       "  'dd047728de72ad62',\n",
       "  '£38.49',\n",
       "  '£38.49',\n",
       "  '£0.00',\n",
       "  'In stock (15 available)',\n",
       "  '0'],\n",
       " ['Default',\n",
       "  'e7469e22b5bfb3e7',\n",
       "  '£33.34',\n",
       "  '£33.34',\n",
       "  '£0.00',\n",
       "  'In stock (15 available)',\n",
       "  '0'],\n",
       " ['Autobiography',\n",
       "  'c99761a700ade23f',\n",
       "  '£10.93',\n",
       "  '£10.93',\n",
       "  '£0.00',\n",
       "  'In stock (15 available)',\n",
       "  '0'],\n",
       " ['Business',\n",
       "  '56e4f9eab2e8e674',\n",
       "  '£27.55',\n",
       "  '£27.55',\n",
       "  '£0.00',\n",
       "  'In stock (15 available)',\n",
       "  '0'],\n",
       " ['Romance',\n",
       "  '203b7f94b7d6115f',\n",
       "  '£55.99',\n",
       "  '£55.99',\n",
       "  '£0.00',\n",
       "  'In stock (15 available)',\n",
       "  '0'],\n",
       " ['Romance',\n",
       "  'ca71e72655bece85',\n",
       "  '£16.24',\n",
       "  '£16.24',\n",
       "  '£0.00',\n",
       "  'In stock (15 available)',\n",
       "  '0'],\n",
       " ['Science Fiction',\n",
       "  '2a70769cdc6eb8b8',\n",
       "  '£26.12',\n",
       "  '£26.12',\n",
       "  '£0.00',\n",
       "  'In stock (15 available)',\n",
       "  '0'],\n",
       " ['Nonfiction',\n",
       "  '1b33663ad7b95fd8',\n",
       "  '£12.23',\n",
       "  '£12.23',\n",
       "  '£0.00',\n",
       "  'In stock (15 available)',\n",
       "  '0'],\n",
       " ['Business',\n",
       "  '0e0dcc3339602b28',\n",
       "  '£23.99',\n",
       "  '£23.99',\n",
       "  '£0.00',\n",
       "  'In stock (15 available)',\n",
       "  '0'],\n",
       " ['Add a comment',\n",
       "  '0c27e6c3744fc14b',\n",
       "  '£29.06',\n",
       "  '£29.06',\n",
       "  '£0.00',\n",
       "  'In stock (15 available)',\n",
       "  '0'],\n",
       " ['Default',\n",
       "  'ad04ad9fc179fc5d',\n",
       "  '£20.27',\n",
       "  '£20.27',\n",
       "  '£0.00',\n",
       "  'In stock (15 available)',\n",
       "  '0'],\n",
       " ['Young Adult',\n",
       "  '1c929cfd16b71907',\n",
       "  '£43.55',\n",
       "  '£43.55',\n",
       "  '£0.00',\n",
       "  'In stock (15 available)',\n",
       "  '0'],\n",
       " ['Default',\n",
       "  'e656e280bc8edd56',\n",
       "  '£36.94',\n",
       "  '£36.94',\n",
       "  '£0.00',\n",
       "  'In stock (15 available)',\n",
       "  '0'],\n",
       " ['Christian Fiction',\n",
       "  'b53db2271c9624f7',\n",
       "  '£20.47',\n",
       "  '£20.47',\n",
       "  '£0.00',\n",
       "  'In stock (15 available)',\n",
       "  '0'],\n",
       " ['Default',\n",
       "  'd9c643fa1fc57bdb',\n",
       "  '£41.06',\n",
       "  '£41.06',\n",
       "  '£0.00',\n",
       "  'In stock (15 available)',\n",
       "  '0'],\n",
       " ['Poetry',\n",
       "  '31001a1210623bd4',\n",
       "  '£14.19',\n",
       "  '£14.19',\n",
       "  '£0.00',\n",
       "  'In stock (15 available)',\n",
       "  '0'],\n",
       " ['Young Adult',\n",
       "  '50b8f80311b31ede',\n",
       "  '£38.28',\n",
       "  '£38.28',\n",
       "  '£0.00',\n",
       "  'In stock (15 available)',\n",
       "  '0'],\n",
       " ['Poetry',\n",
       "  'cfeb1e1e0e695b58',\n",
       "  '£41.05',\n",
       "  '£41.05',\n",
       "  '£0.00',\n",
       "  'In stock (15 available)',\n",
       "  '0'],\n",
       " ['Historical Fiction',\n",
       "  'a40723994f715420',\n",
       "  '£30.25',\n",
       "  '£30.25',\n",
       "  '£0.00',\n",
       "  'In stock (15 available)',\n",
       "  '0'],\n",
       " ['Add a comment',\n",
       "  'caf4fe9311f1dc59',\n",
       "  '£28.26',\n",
       "  '£28.26',\n",
       "  '£0.00',\n",
       "  'In stock (15 available)',\n",
       "  '0'],\n",
       " ['Default',\n",
       "  'af96613fdd793a3c',\n",
       "  '£10.76',\n",
       "  '£10.76',\n",
       "  '£0.00',\n",
       "  'In stock (15 available)',\n",
       "  '0'],\n",
       " ['Biography',\n",
       "  'd69dd8dac66f9f84',\n",
       "  '£16.85',\n",
       "  '£16.85',\n",
       "  '£0.00',\n",
       "  'In stock (15 available)',\n",
       "  '0'],\n",
       " ['Childrens',\n",
       "  '4aa03792b50f0b22',\n",
       "  '£13.47',\n",
       "  '£13.47',\n",
       "  '£0.00',\n",
       "  'In stock (15 available)',\n",
       "  '0'],\n",
       " ['Young Adult',\n",
       "  'ba54932df84e8cea',\n",
       "  '£48.56',\n",
       "  '£48.56',\n",
       "  '£0.00',\n",
       "  'In stock (15 available)',\n",
       "  '0'],\n",
       " ['Default',\n",
       "  'c1afd71fc86bf682',\n",
       "  '£19.15',\n",
       "  '£19.15',\n",
       "  '£0.00',\n",
       "  'In stock (15 available)',\n",
       "  '0'],\n",
       " ['Womens Fiction',\n",
       "  'fd8585283fc7d2d7',\n",
       "  '£57.36',\n",
       "  '£57.36',\n",
       "  '£0.00',\n",
       "  'In stock (15 available)',\n",
       "  '0'],\n",
       " ['Fantasy',\n",
       "  '4ce91d31c1e57c33',\n",
       "  '£42.98',\n",
       "  '£42.98',\n",
       "  '£0.00',\n",
       "  'In stock (15 available)',\n",
       "  '0'],\n",
       " ['Default',\n",
       "  'd163dd6c352fbcd2',\n",
       "  '£22.16',\n",
       "  '£22.16',\n",
       "  '£0.00',\n",
       "  'In stock (15 available)',\n",
       "  '0'],\n",
       " ['Travel',\n",
       "  'ce60436f52c5ee68',\n",
       "  '£49.43',\n",
       "  '£49.43',\n",
       "  '£0.00',\n",
       "  'In stock (15 available)',\n",
       "  '0'],\n",
       " ['Young Adult',\n",
       "  '116a2fdc9a45bab0',\n",
       "  '£29.99',\n",
       "  '£29.99',\n",
       "  '£0.00',\n",
       "  'In stock (15 available)',\n",
       "  '0'],\n",
       " ['Horror',\n",
       "  '8585760646e3aa2a',\n",
       "  '£21.36',\n",
       "  '£21.36',\n",
       "  '£0.00',\n",
       "  'In stock (15 available)',\n",
       "  '0'],\n",
       " ['Default',\n",
       "  '2f88b08bf0a0e367',\n",
       "  '£29.00',\n",
       "  '£29.00',\n",
       "  '£0.00',\n",
       "  'In stock (15 available)',\n",
       "  '0'],\n",
       " ['Fiction',\n",
       "  'edb3097e71330040',\n",
       "  '£53.53',\n",
       "  '£53.53',\n",
       "  '£0.00',\n",
       "  'In stock (15 available)',\n",
       "  '0'],\n",
       " ['Sequential Art',\n",
       "  '65d034adf80834b7',\n",
       "  '£41.62',\n",
       "  '£41.62',\n",
       "  '£0.00',\n",
       "  'In stock (15 available)',\n",
       "  '0'],\n",
       " ['Default',\n",
       "  '29c0025455f8c585',\n",
       "  '£54.59',\n",
       "  '£54.59',\n",
       "  '£0.00',\n",
       "  'In stock (15 available)',\n",
       "  '0'],\n",
       " ['Default',\n",
       "  '6ffb36aaeff1c81e',\n",
       "  '£34.95',\n",
       "  '£34.95',\n",
       "  '£0.00',\n",
       "  'In stock (15 available)',\n",
       "  '0'],\n",
       " ['Default',\n",
       "  'f6d967cdadc6fbd9',\n",
       "  '£37.72',\n",
       "  '£37.72',\n",
       "  '£0.00',\n",
       "  'In stock (15 available)',\n",
       "  '0'],\n",
       " ['Romance',\n",
       "  '3a11bb962ff45b78',\n",
       "  '£35.61',\n",
       "  '£35.61',\n",
       "  '£0.00',\n",
       "  'In stock (15 available)',\n",
       "  '0'],\n",
       " ['Food and Drink',\n",
       "  '46c1530d7546ea6d',\n",
       "  '£42.16',\n",
       "  '£42.16',\n",
       "  '£0.00',\n",
       "  'In stock (15 available)',\n",
       "  '0'],\n",
       " ['Erotica',\n",
       "  '88c21fcd38e2486e',\n",
       "  '£19.19',\n",
       "  '£19.19',\n",
       "  '£0.00',\n",
       "  'In stock (15 available)',\n",
       "  '0'],\n",
       " ['Nonfiction',\n",
       "  '3b9a3b4624b7fd6d',\n",
       "  '£19.43',\n",
       "  '£19.43',\n",
       "  '£0.00',\n",
       "  'In stock (15 available)',\n",
       "  '0'],\n",
       " ['Christian Fiction',\n",
       "  'a57b1dcbd6849222',\n",
       "  '£49.46',\n",
       "  '£49.46',\n",
       "  '£0.00',\n",
       "  'In stock (15 available)',\n",
       "  '0'],\n",
       " ['Spirituality',\n",
       "  '513271dadc1322ae',\n",
       "  '£37.80',\n",
       "  '£37.80',\n",
       "  '£0.00',\n",
       "  'In stock (15 available)',\n",
       "  '0'],\n",
       " ['Nonfiction',\n",
       "  '1f329c2e7d7de8bd',\n",
       "  '£30.80',\n",
       "  '£30.80',\n",
       "  '£0.00',\n",
       "  'In stock (15 available)',\n",
       "  '0'],\n",
       " ['Nonfiction',\n",
       "  '919e7cb2269a25d2',\n",
       "  '£27.43',\n",
       "  '£27.43',\n",
       "  '£0.00',\n",
       "  'In stock (15 available)',\n",
       "  '0'],\n",
       " ['Default',\n",
       "  '3f69e667a67e54d9',\n",
       "  '£11.11',\n",
       "  '£11.11',\n",
       "  '£0.00',\n",
       "  'In stock (15 available)',\n",
       "  '0'],\n",
       " ['Sequential Art',\n",
       "  '7edc0527cf782e19',\n",
       "  '£36.50',\n",
       "  '£36.50',\n",
       "  '£0.00',\n",
       "  'In stock (15 available)',\n",
       "  '0'],\n",
       " ['Sequential Art',\n",
       "  '47271d8e08b5d31c',\n",
       "  '£15.38',\n",
       "  '£15.38',\n",
       "  '£0.00',\n",
       "  'In stock (15 available)',\n",
       "  '0'],\n",
       " ['Default',\n",
       "  '05f7c6d9a4e582d3',\n",
       "  '£15.48',\n",
       "  '£15.48',\n",
       "  '£0.00',\n",
       "  'In stock (15 available)',\n",
       "  '0'],\n",
       " ['Default',\n",
       "  'd24b829be2ca81c4',\n",
       "  '£46.82',\n",
       "  '£46.82',\n",
       "  '£0.00',\n",
       "  'In stock (15 available)',\n",
       "  '0'],\n",
       " ['Default',\n",
       "  '7ebfa6c1bee69e1e',\n",
       "  '£18.46',\n",
       "  '£18.46',\n",
       "  '£0.00',\n",
       "  'In stock (15 available)',\n",
       "  '0'],\n",
       " ['Cultural',\n",
       "  'bb8245f52c7cce8f',\n",
       "  '£36.58',\n",
       "  '£36.58',\n",
       "  '£0.00',\n",
       "  'In stock (15 available)',\n",
       "  '0'],\n",
       " ['Default',\n",
       "  'ffd54178acc9a6a5',\n",
       "  '£50.54',\n",
       "  '£50.54',\n",
       "  '£0.00',\n",
       "  'In stock (15 available)',\n",
       "  '0'],\n",
       " ['Nonfiction',\n",
       "  'd195e7f4ed697350',\n",
       "  '£12.51',\n",
       "  '£12.51',\n",
       "  '£0.00',\n",
       "  'In stock (15 available)',\n",
       "  '0'],\n",
       " ['History',\n",
       "  'dd5bfa6cc2c0ecc3',\n",
       "  '£24.70',\n",
       "  '£24.70',\n",
       "  '£0.00',\n",
       "  'In stock (14 available)',\n",
       "  '0'],\n",
       " ['Thriller',\n",
       "  '024387ca4cafd5cc',\n",
       "  '£43.61',\n",
       "  '£43.61',\n",
       "  '£0.00',\n",
       "  'In stock (14 available)',\n",
       "  '0'],\n",
       " ['Sequential Art',\n",
       "  '047097293bb4d1c0',\n",
       "  '£37.34',\n",
       "  '£37.34',\n",
       "  '£0.00',\n",
       "  'In stock (14 available)',\n",
       "  '0'],\n",
       " ['Young Adult',\n",
       "  '3fb15ace50d6142b',\n",
       "  '£14.36',\n",
       "  '£14.36',\n",
       "  '£0.00',\n",
       "  'In stock (14 available)',\n",
       "  '0'],\n",
       " ['Politics',\n",
       "  '2b5054a4192e9b06',\n",
       "  '£52.65',\n",
       "  '£52.65',\n",
       "  '£0.00',\n",
       "  'In stock (14 available)',\n",
       "  '0'],\n",
       " ['Nonfiction',\n",
       "  '44a10f1ac8ce822e',\n",
       "  '£38.20',\n",
       "  '£38.20',\n",
       "  '£0.00',\n",
       "  'In stock (14 available)',\n",
       "  '0'],\n",
       " ['Nonfiction',\n",
       "  '6fd646a334e6e133',\n",
       "  '£19.60',\n",
       "  '£19.60',\n",
       "  '£0.00',\n",
       "  'In stock (14 available)',\n",
       "  '0'],\n",
       " ['Sequential Art',\n",
       "  '92275cedf6d8ee15',\n",
       "  '£53.90',\n",
       "  '£53.90',\n",
       "  '£0.00',\n",
       "  'In stock (14 available)',\n",
       "  '0'],\n",
       " ['Childrens',\n",
       "  '6a31307a81e8f3a8',\n",
       "  '£12.96',\n",
       "  '£12.96',\n",
       "  '£0.00',\n",
       "  'In stock (14 available)',\n",
       "  '0'],\n",
       " ['Default',\n",
       "  '4a1debca3135ff37',\n",
       "  '£37.10',\n",
       "  '£37.10',\n",
       "  '£0.00',\n",
       "  'In stock (14 available)',\n",
       "  '0'],\n",
       " ['Young Adult',\n",
       "  'aba2db9afb1469c7',\n",
       "  '£46.31',\n",
       "  '£46.31',\n",
       "  '£0.00',\n",
       "  'In stock (14 available)',\n",
       "  '0'],\n",
       " ['Default',\n",
       "  '76c84daa539426e2',\n",
       "  '£45.95',\n",
       "  '£45.95',\n",
       "  '£0.00',\n",
       "  'In stock (14 available)',\n",
       "  '0'],\n",
       " ['Childrens',\n",
       "  '1d6443ffba9dfd80',\n",
       "  '£22.08',\n",
       "  '£22.08',\n",
       "  '£0.00',\n",
       "  'In stock (14 available)',\n",
       "  '0'],\n",
       " ['Sequential Art',\n",
       "  '6e44bcbeac7f4360',\n",
       "  '£25.38',\n",
       "  '£25.38',\n",
       "  '£0.00',\n",
       "  'In stock (14 available)',\n",
       "  '0'],\n",
       " ['Young Adult',\n",
       "  'f0f38174a7e689a3',\n",
       "  '£27.12',\n",
       "  '£27.12',\n",
       "  '£0.00',\n",
       "  'In stock (14 available)',\n",
       "  '0'],\n",
       " ['Nonfiction',\n",
       "  '34c0d7c4ee5650af',\n",
       "  '£43.04',\n",
       "  '£43.04',\n",
       "  '£0.00',\n",
       "  'In stock (14 available)',\n",
       "  '0'],\n",
       " ['Default',\n",
       "  '08b2f71d93836313',\n",
       "  '£56.80',\n",
       "  '£56.80',\n",
       "  '£0.00',\n",
       "  'In stock (14 available)',\n",
       "  '0'],\n",
       " ['Add a comment',\n",
       "  '6875c5657661b2fb',\n",
       "  '£25.91',\n",
       "  '£25.91',\n",
       "  '£0.00',\n",
       "  'In stock (14 available)',\n",
       "  '0'],\n",
       " ['Romance',\n",
       "  'c5cb9f885d8b3621',\n",
       "  '£32.61',\n",
       "  '£32.61',\n",
       "  '£0.00',\n",
       "  'In stock (14 available)',\n",
       "  '0'],\n",
       " ['Fiction',\n",
       "  'e9906e2f0d189745',\n",
       "  '£27.88',\n",
       "  '£27.88',\n",
       "  '£0.00',\n",
       "  'In stock (14 available)',\n",
       "  '0'],\n",
       " ['Fiction',\n",
       "  '081305e6df719dff',\n",
       "  '£52.67',\n",
       "  '£52.67',\n",
       "  '£0.00',\n",
       "  'In stock (14 available)',\n",
       "  '0'],\n",
       " ['Fantasy',\n",
       "  '1528279aec1f3dce',\n",
       "  '£46.02',\n",
       "  '£46.02',\n",
       "  '£0.00',\n",
       "  'In stock (14 available)',\n",
       "  '0'],\n",
       " ['Default',\n",
       "  '00c4543ec6bd25b4',\n",
       "  '£44.48',\n",
       "  '£44.48',\n",
       "  '£0.00',\n",
       "  'In stock (14 available)',\n",
       "  '0'],\n",
       " ['Add a comment',\n",
       "  'e88fb1c9397cfb27',\n",
       "  '£37.40',\n",
       "  '£37.40',\n",
       "  '£0.00',\n",
       "  'In stock (14 available)',\n",
       "  '0'],\n",
       " ['Default',\n",
       "  '012094e90a4b908d',\n",
       "  '£54.04',\n",
       "  '£54.04',\n",
       "  '£0.00',\n",
       "  'In stock (14 available)',\n",
       "  '0'],\n",
       " ['Default',\n",
       "  '6bdd909329435e80',\n",
       "  '£16.88',\n",
       "  '£16.88',\n",
       "  '£0.00',\n",
       "  'In stock (14 available)',\n",
       "  '0'],\n",
       " ['Historical Fiction',\n",
       "  '52cf2a5933ec5d8f',\n",
       "  '£28.08',\n",
       "  '£28.08',\n",
       "  '£0.00',\n",
       "  'In stock (14 available)',\n",
       "  '0'],\n",
       " ['Psychology',\n",
       "  '4e812d32d64e2431',\n",
       "  '£10.40',\n",
       "  '£10.40',\n",
       "  '£0.00',\n",
       "  'In stock (14 available)',\n",
       "  '0'],\n",
       " ['Humor',\n",
       "  'f21effc079a2b38a',\n",
       "  '£44.07',\n",
       "  '£44.07',\n",
       "  '£0.00',\n",
       "  'In stock (14 available)',\n",
       "  '0'],\n",
       " ['Horror',\n",
       "  '2d88a31f325dfd3b',\n",
       "  '£23.40',\n",
       "  '£23.40',\n",
       "  '£0.00',\n",
       "  'In stock (14 available)',\n",
       "  '0'],\n",
       " ['Nonfiction',\n",
       "  '4881cc53f6c8892f',\n",
       "  '£17.43',\n",
       "  '£17.43',\n",
       "  '£0.00',\n",
       "  'In stock (14 available)',\n",
       "  '0'],\n",
       " ['Mystery',\n",
       "  '3bc89353f7e3a3cc',\n",
       "  '£54.21',\n",
       "  '£54.21',\n",
       "  '£0.00',\n",
       "  'In stock (14 available)',\n",
       "  '0'],\n",
       " ['Add a comment',\n",
       "  'f72f61ad6a5f12ed',\n",
       "  '£40.67',\n",
       "  '£40.67',\n",
       "  '£0.00',\n",
       "  'In stock (14 available)',\n",
       "  '0'],\n",
       " ['Fantasy',\n",
       "  '992974ba6a0536ea',\n",
       "  '£52.26',\n",
       "  '£52.26',\n",
       "  '£0.00',\n",
       "  'In stock (14 available)',\n",
       "  '0'],\n",
       " ['Food and Drink',\n",
       "  'ddc8340dabc8641b',\n",
       "  '£28.77',\n",
       "  '£28.77',\n",
       "  '£0.00',\n",
       "  'In stock (14 available)',\n",
       "  '0'],\n",
       " ['Thriller',\n",
       "  '847935fc68707426',\n",
       "  '£13.82',\n",
       "  '£13.82',\n",
       "  '£0.00',\n",
       "  'In stock (14 available)',\n",
       "  '0'],\n",
       " ['Fiction',\n",
       "  'a86972014275e072',\n",
       "  '£25.85',\n",
       "  '£25.85',\n",
       "  '£0.00',\n",
       "  'In stock (14 available)',\n",
       "  '0'],\n",
       " ['Add a comment',\n",
       "  '3d76bc83c6b644c9',\n",
       "  '£48.78',\n",
       "  '£48.78',\n",
       "  '£0.00',\n",
       "  'In stock (14 available)',\n",
       "  '0'],\n",
       " ['Young Adult',\n",
       "  '6edacfd1f8ebb9eb',\n",
       "  '£35.35',\n",
       "  '£35.35',\n",
       "  '£0.00',\n",
       "  'In stock (14 available)',\n",
       "  '0'],\n",
       " ['Fantasy',\n",
       "  'dc6f688b82e42a5b',\n",
       "  '£44.73',\n",
       "  '£44.73',\n",
       "  '£0.00',\n",
       "  'In stock (14 available)',\n",
       "  '0'],\n",
       " ['Nonfiction',\n",
       "  '923831a05c9f91f7',\n",
       "  '£15.77',\n",
       "  '£15.77',\n",
       "  '£0.00',\n",
       "  'In stock (14 available)',\n",
       "  '0'],\n",
       " ['Thriller',\n",
       "  '1b8187fa4bf6ab05',\n",
       "  '£39.24',\n",
       "  '£39.24',\n",
       "  '£0.00',\n",
       "  'In stock (14 available)',\n",
       "  '0'],\n",
       " ['Mystery',\n",
       "  '0c7b9cf2b7662b65',\n",
       "  '£13.92',\n",
       "  '£13.92',\n",
       "  '£0.00',\n",
       "  'In stock (14 available)',\n",
       "  '0'],\n",
       " ['Mystery',\n",
       "  '2d1e337aaf341858',\n",
       "  '£10.69',\n",
       "  '£10.69',\n",
       "  '£0.00',\n",
       "  'In stock (14 available)',\n",
       "  '0'],\n",
       " ['Fiction',\n",
       "  '2c04320e110a14a3',\n",
       "  '£45.21',\n",
       "  '£45.21',\n",
       "  '£0.00',\n",
       "  'In stock (14 available)',\n",
       "  '0'],\n",
       " ['Nonfiction',\n",
       "  '4c8b7540409da4ac',\n",
       "  '£45.58',\n",
       "  '£45.58',\n",
       "  '£0.00',\n",
       "  'In stock (14 available)',\n",
       "  '0'],\n",
       " ['Sequential Art',\n",
       "  'ac8e3949d284e9a9',\n",
       "  '£11.89',\n",
       "  '£11.89',\n",
       "  '£0.00',\n",
       "  'In stock (14 available)',\n",
       "  '0'],\n",
       " ['Fiction',\n",
       "  'fe44cc816576c652',\n",
       "  '£26.41',\n",
       "  '£26.41',\n",
       "  '£0.00',\n",
       "  'In stock (14 available)',\n",
       "  '0'],\n",
       " ['Default',\n",
       "  '95019eac1c0a052f',\n",
       "  '£39.50',\n",
       "  '£39.50',\n",
       "  '£0.00',\n",
       "  'In stock (14 available)',\n",
       "  '0'],\n",
       " ['Science',\n",
       "  '3edcccc4f341fb1a',\n",
       "  '£44.74',\n",
       "  '£44.74',\n",
       "  '£0.00',\n",
       "  'In stock (14 available)',\n",
       "  '0'],\n",
       " ['Contemporary',\n",
       "  'a278db6b2b09cf9f',\n",
       "  '£52.79',\n",
       "  '£52.79',\n",
       "  '£0.00',\n",
       "  'In stock (14 available)',\n",
       "  '0'],\n",
       " ['Sequential Art',\n",
       "  '394f6d30cafc3edb',\n",
       "  '£35.43',\n",
       "  '£35.43',\n",
       "  '£0.00',\n",
       "  'In stock (14 available)',\n",
       "  '0'],\n",
       " ['Fiction',\n",
       "  '830fb3967c74866d',\n",
       "  '£55.84',\n",
       "  '£55.84',\n",
       "  '£0.00',\n",
       "  'In stock (14 available)',\n",
       "  '0'],\n",
       " ['Travel',\n",
       "  'f9705c362f070608',\n",
       "  '£48.87',\n",
       "  '£48.87',\n",
       "  '£0.00',\n",
       "  'In stock (14 available)',\n",
       "  '0'],\n",
       " ['Poetry',\n",
       "  '86cbddb61ea78bb7',\n",
       "  '£46.78',\n",
       "  '£46.78',\n",
       "  '£0.00',\n",
       "  'In stock (14 available)',\n",
       "  '0'],\n",
       " ['Sequential Art',\n",
       "  '85b2176b3b194030',\n",
       "  '£47.82',\n",
       "  '£47.82',\n",
       "  '£0.00',\n",
       "  'In stock (14 available)',\n",
       "  '0'],\n",
       " ['Sequential Art',\n",
       "  '31e2e2d9cca3778f',\n",
       "  '£25.48',\n",
       "  '£25.48',\n",
       "  '£0.00',\n",
       "  'In stock (14 available)',\n",
       "  '0'],\n",
       " ['Childrens',\n",
       "  'a6454e329f872b78',\n",
       "  '£23.57',\n",
       "  '£23.57',\n",
       "  '£0.00',\n",
       "  'In stock (14 available)',\n",
       "  '0'],\n",
       " ['Poetry',\n",
       "  'aa35446aab16017f',\n",
       "  '£50.89',\n",
       "  '£50.89',\n",
       "  '£0.00',\n",
       "  'In stock (14 available)',\n",
       "  '0'],\n",
       " ['Horror',\n",
       "  'af58a74e4b2a23a0',\n",
       "  '£10.56',\n",
       "  '£10.56',\n",
       "  '£0.00',\n",
       "  'In stock (14 available)',\n",
       "  '0'],\n",
       " ['Self Help',\n",
       "  '8ecf0356a3878811',\n",
       "  '£52.15',\n",
       "  '£52.15',\n",
       "  '£0.00',\n",
       "  'In stock (14 available)',\n",
       "  '0'],\n",
       " ['Childrens',\n",
       "  'e34efcc824685332',\n",
       "  '£18.28',\n",
       "  '£18.28',\n",
       "  '£0.00',\n",
       "  'In stock (14 available)',\n",
       "  '0'],\n",
       " ['Humor',\n",
       "  '02b74068fa98d8a4',\n",
       "  '£11.83',\n",
       "  '£11.83',\n",
       "  '£0.00',\n",
       "  'In stock (14 available)',\n",
       "  '0'],\n",
       " ['Nonfiction',\n",
       "  '132ec5e8c984adef',\n",
       "  '£21.95',\n",
       "  '£21.95',\n",
       "  '£0.00',\n",
       "  'In stock (14 available)',\n",
       "  '0'],\n",
       " ['Sequential Art',\n",
       "  '71e36f33981ddb74',\n",
       "  '£38.39',\n",
       "  '£38.39',\n",
       "  '£0.00',\n",
       "  'In stock (14 available)',\n",
       "  '0'],\n",
       " ['Fiction',\n",
       "  '727bf2b86b19ad88',\n",
       "  '£41.56',\n",
       "  '£41.56',\n",
       "  '£0.00',\n",
       "  'In stock (14 available)',\n",
       "  '0'],\n",
       " ['Fiction',\n",
       "  'cc82685d9f49bc2c',\n",
       "  '£24.48',\n",
       "  '£24.48',\n",
       "  '£0.00',\n",
       "  'In stock (14 available)',\n",
       "  '0'],\n",
       " ['Young Adult',\n",
       "  '137b0b2775701e11',\n",
       "  '£40.36',\n",
       "  '£40.36',\n",
       "  '£0.00',\n",
       "  'In stock (14 available)',\n",
       "  '0'],\n",
       " ['Fiction',\n",
       "  'caa2e5b3fb1b2d4c',\n",
       "  '£28.90',\n",
       "  '£28.90',\n",
       "  '£0.00',\n",
       "  'In stock (14 available)',\n",
       "  '0'],\n",
       " ['Add a comment',\n",
       "  '47d47155e89c8be7',\n",
       "  '£37.61',\n",
       "  '£37.61',\n",
       "  '£0.00',\n",
       "  'In stock (14 available)',\n",
       "  '0'],\n",
       " ['Business',\n",
       "  'b96fc7a0ea7d4b45',\n",
       "  '£38.85',\n",
       "  '£38.85',\n",
       "  '£0.00',\n",
       "  'In stock (14 available)',\n",
       "  '0'],\n",
       " ['Childrens',\n",
       "  '5b43cae640f2338a',\n",
       "  '£53.95',\n",
       "  '£53.95',\n",
       "  '£0.00',\n",
       "  'In stock (14 available)',\n",
       "  '0'],\n",
       " ['Default',\n",
       "  'd512871626a5e588',\n",
       "  '£49.83',\n",
       "  '£49.83',\n",
       "  '£0.00',\n",
       "  'In stock (14 available)',\n",
       "  '0'],\n",
       " ['Sequential Art',\n",
       "  'a10c7515834240f3',\n",
       "  '£51.51',\n",
       "  '£51.51',\n",
       "  '£0.00',\n",
       "  'In stock (14 available)',\n",
       "  '0'],\n",
       " ['Music',\n",
       "  'adb5f51c2e2ab13f',\n",
       "  '£18.03',\n",
       "  '£18.03',\n",
       "  '£0.00',\n",
       "  'In stock (14 available)',\n",
       "  '0'],\n",
       " ['Nonfiction',\n",
       "  '24af96df0bafb925',\n",
       "  '£29.14',\n",
       "  '£29.14',\n",
       "  '£0.00',\n",
       "  'In stock (14 available)',\n",
       "  '0'],\n",
       " ['Default',\n",
       "  '17fb5a88180f9904',\n",
       "  '£46.91',\n",
       "  '£46.91',\n",
       "  '£0.00',\n",
       "  'In stock (14 available)',\n",
       "  '0'],\n",
       " ['Nonfiction',\n",
       "  '1174156c4a0eccaa',\n",
       "  '£26.79',\n",
       "  '£26.79',\n",
       "  '£0.00',\n",
       "  'In stock (14 available)',\n",
       "  '0'],\n",
       " ['Default',\n",
       "  '708345c9897fd7c5',\n",
       "  '£16.28',\n",
       "  '£16.28',\n",
       "  '£0.00',\n",
       "  'In stock (14 available)',\n",
       "  '0'],\n",
       " ['Food and Drink',\n",
       "  '245e6bf08b8d2955',\n",
       "  '£19.55',\n",
       "  '£19.55',\n",
       "  '£0.00',\n",
       "  'In stock (14 available)',\n",
       "  '0'],\n",
       " ['Fantasy',\n",
       "  '2b52334fab158861',\n",
       "  '£29.65',\n",
       "  '£29.65',\n",
       "  '£0.00',\n",
       "  'In stock (14 available)',\n",
       "  '0'],\n",
       " ['Humor',\n",
       "  'b8a8ff84233f0570',\n",
       "  '£25.98',\n",
       "  '£25.98',\n",
       "  '£0.00',\n",
       "  'In stock (14 available)',\n",
       "  '0'],\n",
       " ['Fiction',\n",
       "  'aeff7b87a8e83ebb',\n",
       "  '£10.60',\n",
       "  '£10.60',\n",
       "  '£0.00',\n",
       "  'In stock (14 available)',\n",
       "  '0'],\n",
       " ['Humor',\n",
       "  'fbb21a2f71f4d981',\n",
       "  '£14.75',\n",
       "  '£14.75',\n",
       "  '£0.00',\n",
       "  'In stock (14 available)',\n",
       "  '0'],\n",
       " ['Default',\n",
       "  '6b6cd77fbc91b7a6',\n",
       "  '£47.02',\n",
       "  '£47.02',\n",
       "  '£0.00',\n",
       "  'In stock (14 available)',\n",
       "  '0'],\n",
       " ['Romance',\n",
       "  '0b165bd4b9f42fd5',\n",
       "  '£28.82',\n",
       "  '£28.82',\n",
       "  '£0.00',\n",
       "  'In stock (14 available)',\n",
       "  '0'],\n",
       " ['Nonfiction',\n",
       "  'afa829857f82f99e',\n",
       "  '£58.79',\n",
       "  '£58.79',\n",
       "  '£0.00',\n",
       "  'In stock (14 available)',\n",
       "  '0'],\n",
       " ['Default',\n",
       "  'f201f263d8c23f97',\n",
       "  '£10.23',\n",
       "  '£10.23',\n",
       "  '£0.00',\n",
       "  'In stock (14 available)',\n",
       "  '0'],\n",
       " ['Religion',\n",
       "  'eec424a84c9e4c68',\n",
       "  '£30.03',\n",
       "  '£30.03',\n",
       "  '£0.00',\n",
       "  'In stock (14 available)',\n",
       "  '0'],\n",
       " ['Historical Fiction',\n",
       "  'de4b403cb629a29f',\n",
       "  '£45.84',\n",
       "  '£45.84',\n",
       "  '£0.00',\n",
       "  'In stock (14 available)',\n",
       "  '0'],\n",
       " ['Art',\n",
       "  '9194ae88379dbf1a',\n",
       "  '£49.05',\n",
       "  '£49.05',\n",
       "  '£0.00',\n",
       "  'In stock (14 available)',\n",
       "  '0'],\n",
       " ['Nonfiction',\n",
       "  'ac4dde0d1be05de0',\n",
       "  '£15.06',\n",
       "  '£15.06',\n",
       "  '£0.00',\n",
       "  'In stock (14 available)',\n",
       "  '0'],\n",
       " ['Default',\n",
       "  'a2bd4ca82d908442',\n",
       "  '£46.47',\n",
       "  '£46.47',\n",
       "  '£0.00',\n",
       "  'In stock (14 available)',\n",
       "  '0'],\n",
       " ['Fiction',\n",
       "  '9eaf58b03a2779cc',\n",
       "  '£27.09',\n",
       "  '£27.09',\n",
       "  '£0.00',\n",
       "  'In stock (14 available)',\n",
       "  '0'],\n",
       " ['Sequential Art',\n",
       "  '27c5968fe43cc06e',\n",
       "  '£57.62',\n",
       "  '£57.62',\n",
       "  '£0.00',\n",
       "  'In stock (14 available)',\n",
       "  '0'],\n",
       " ['Fiction',\n",
       "  '1d6dd0c87d90fe92',\n",
       "  '£14.39',\n",
       "  '£14.39',\n",
       "  '£0.00',\n",
       "  'In stock (14 available)',\n",
       "  '0'],\n",
       " ['Nonfiction',\n",
       "  'a01f6d368ef64dc5',\n",
       "  '£51.75',\n",
       "  '£51.75',\n",
       "  '£0.00',\n",
       "  'In stock (14 available)',\n",
       "  '0'],\n",
       " ['Health',\n",
       "  '047dfa57ba0bf638',\n",
       "  '£54.07',\n",
       "  '£54.07',\n",
       "  '£0.00',\n",
       "  'In stock (14 available)',\n",
       "  '0'],\n",
       " ['Young Adult',\n",
       "  'ad2887ce04583910',\n",
       "  '£55.35',\n",
       "  '£55.35',\n",
       "  '£0.00',\n",
       "  'In stock (14 available)',\n",
       "  '0'],\n",
       " ['Horror',\n",
       "  'bf5de316a5e9a4ab',\n",
       "  '£40.12',\n",
       "  '£40.12',\n",
       "  '£0.00',\n",
       "  'In stock (14 available)',\n",
       "  '0'],\n",
       " ['Fantasy',\n",
       "  '3c6fe637a0180b01',\n",
       "  '£37.51',\n",
       "  '£37.51',\n",
       "  '£0.00',\n",
       "  'In stock (14 available)',\n",
       "  '0'],\n",
       " ['Fiction',\n",
       "  '94a958ea126cdcd5',\n",
       "  '£11.21',\n",
       "  '£11.21',\n",
       "  '£0.00',\n",
       "  'In stock (14 available)',\n",
       "  '0'],\n",
       " ['Default',\n",
       "  '0e94a089328be4bc',\n",
       "  '£36.58',\n",
       "  '£36.58',\n",
       "  '£0.00',\n",
       "  'In stock (14 available)',\n",
       "  '0'],\n",
       " ['Christian',\n",
       "  '4b9d9cfe0f435788',\n",
       "  '£47.72',\n",
       "  '£47.72',\n",
       "  '£0.00',\n",
       "  'In stock (14 available)',\n",
       "  '0'],\n",
       " ['Fiction',\n",
       "  '28cf0d1c51b491e5',\n",
       "  '£25.01',\n",
       "  '£25.01',\n",
       "  '£0.00',\n",
       "  'In stock (14 available)',\n",
       "  '0'],\n",
       " ['Add a comment',\n",
       "  '33a3e0e3ffde0dcd',\n",
       "  '£22.13',\n",
       "  '£22.13',\n",
       "  '£0.00',\n",
       "  'In stock (14 available)',\n",
       "  '0'],\n",
       " ['Default',\n",
       "  '42b0c50fc44140ec',\n",
       "  '£44.14',\n",
       "  '£44.14',\n",
       "  '£0.00',\n",
       "  'In stock (14 available)',\n",
       "  '0'],\n",
       " ['Fantasy',\n",
       "  '966ebb738e0f9d9b',\n",
       "  '£56.02',\n",
       "  '£56.02',\n",
       "  '£0.00',\n",
       "  'In stock (14 available)',\n",
       "  '0'],\n",
       " ['Default',\n",
       "  '1e264c677d4ee4ae',\n",
       "  '£11.23',\n",
       "  '£11.23',\n",
       "  '£0.00',\n",
       "  'In stock (14 available)',\n",
       "  '0'],\n",
       " ['Default',\n",
       "  '5b987e54ee72525c',\n",
       "  '£43.28',\n",
       "  '£43.28',\n",
       "  '£0.00',\n",
       "  'In stock (14 available)',\n",
       "  '0'],\n",
       " ['Default',\n",
       "  '8a6ec2761f91dad2',\n",
       "  '£47.27',\n",
       "  '£47.27',\n",
       "  '£0.00',\n",
       "  'In stock (14 available)',\n",
       "  '0'],\n",
       " ['Add a comment',\n",
       "  'bfbb54bc8cdeed2b',\n",
       "  '£20.29',\n",
       "  '£20.29',\n",
       "  '£0.00',\n",
       "  'In stock (14 available)',\n",
       "  '0'],\n",
       " ['Young Adult',\n",
       "  'e2e7b683b4c15b7d',\n",
       "  '£50.83',\n",
       "  '£50.83',\n",
       "  '£0.00',\n",
       "  'In stock (14 available)',\n",
       "  '0'],\n",
       " ['Default',\n",
       "  '1b0fc9f777cad045',\n",
       "  '£31.85',\n",
       "  '£31.85',\n",
       "  '£0.00',\n",
       "  'In stock (14 available)',\n",
       "  '0'],\n",
       " ['Default',\n",
       "  '5f22418922fa728b',\n",
       "  '£46.23',\n",
       "  '£46.23',\n",
       "  '£0.00',\n",
       "  'In stock (14 available)',\n",
       "  '0'],\n",
       " ['Nonfiction',\n",
       "  '16ef91b9d827859c',\n",
       "  '£37.80',\n",
       "  '£37.80',\n",
       "  '£0.00',\n",
       "  'In stock (14 available)',\n",
       "  '0'],\n",
       " ['Nonfiction',\n",
       "  'a80f66b254fe9eb3',\n",
       "  '£49.32',\n",
       "  '£49.32',\n",
       "  '£0.00',\n",
       "  'In stock (14 available)',\n",
       "  '0'],\n",
       " ['Sequential Art',\n",
       "  'bf68dcb5fad3cc8c',\n",
       "  '£32.01',\n",
       "  '£32.01',\n",
       "  '£0.00',\n",
       "  'In stock (14 available)',\n",
       "  '0'],\n",
       " ['Food and Drink',\n",
       "  '999912e63a3262ae',\n",
       "  '£28.01',\n",
       "  '£28.01',\n",
       "  '£0.00',\n",
       "  'In stock (14 available)',\n",
       "  '0'],\n",
       " ['Food and Drink',\n",
       "  '0e0da9192a025efc',\n",
       "  '£50.62',\n",
       "  '£50.62',\n",
       "  '£0.00',\n",
       "  'In stock (14 available)',\n",
       "  '0'],\n",
       " ['Fiction',\n",
       "  '9b65f676984c9f0c',\n",
       "  '£17.03',\n",
       "  '£17.03',\n",
       "  '£0.00',\n",
       "  'In stock (14 available)',\n",
       "  '0'],\n",
       " ['Sequential Art',\n",
       "  'ffdc825785c0ede8',\n",
       "  '£48.80',\n",
       "  '£48.80',\n",
       "  '£0.00',\n",
       "  'In stock (14 available)',\n",
       "  '0'],\n",
       " ['Young Adult',\n",
       "  '41164b8ac02a2c42',\n",
       "  '£58.14',\n",
       "  '£58.14',\n",
       "  '£0.00',\n",
       "  'In stock (14 available)',\n",
       "  '0'],\n",
       " ['Add a comment',\n",
       "  '1fbb5f786e53a0ce',\n",
       "  '£34.20',\n",
       "  '£34.20',\n",
       "  '£0.00',\n",
       "  'In stock (14 available)',\n",
       "  '0'],\n",
       " ['Default',\n",
       "  'ad41c24ccac0c7ce',\n",
       "  '£51.48',\n",
       "  '£51.48',\n",
       "  '£0.00',\n",
       "  'In stock (14 available)',\n",
       "  '0'],\n",
       " ['Historical',\n",
       "  '39861fc1c0845d15',\n",
       "  '£29.87',\n",
       "  '£29.87',\n",
       "  '£0.00',\n",
       "  'In stock (14 available)',\n",
       "  '0'],\n",
       " ['Sequential Art',\n",
       "  '5319169a72714c62',\n",
       "  '£10.90',\n",
       "  '£10.90',\n",
       "  '£0.00',\n",
       "  'In stock (14 available)',\n",
       "  '0'],\n",
       " ['Nonfiction',\n",
       "  'cf1aa2fc02a7d1e0',\n",
       "  '£56.37',\n",
       "  '£56.37',\n",
       "  '£0.00',\n",
       "  'In stock (14 available)',\n",
       "  '0'],\n",
       " ['Mystery',\n",
       "  '4416c474713ec1f5',\n",
       "  '£48.35',\n",
       "  '£48.35',\n",
       "  '£0.00',\n",
       "  'In stock (14 available)',\n",
       "  '0'],\n",
       " ['Mystery',\n",
       "  '63ee5bc46066a8a8',\n",
       "  '£16.73',\n",
       "  '£16.73',\n",
       "  '£0.00',\n",
       "  'In stock (14 available)',\n",
       "  '0'],\n",
       " ['Add a comment',\n",
       "  'c1379d3744f1dd2c',\n",
       "  '£56.48',\n",
       "  '£56.48',\n",
       "  '£0.00',\n",
       "  'In stock (14 available)',\n",
       "  '0'],\n",
       " ['Add a comment',\n",
       "  '1ad06aed9349af46',\n",
       "  '£40.79',\n",
       "  '£40.79',\n",
       "  '£0.00',\n",
       "  'In stock (14 available)',\n",
       "  '0'],\n",
       " ['Fiction',\n",
       "  '8682c03de6a844ff',\n",
       "  '£39.72',\n",
       "  '£39.72',\n",
       "  '£0.00',\n",
       "  'In stock (14 available)',\n",
       "  '0'],\n",
       " ['History',\n",
       "  'd5e0526e1ab682a3',\n",
       "  '£14.58',\n",
       "  '£14.58',\n",
       "  '£0.00',\n",
       "  'In stock (14 available)',\n",
       "  '0'],\n",
       " ['Add a comment',\n",
       "  '01a177623cce9596',\n",
       "  '£55.51',\n",
       "  '£55.51',\n",
       "  '£0.00',\n",
       "  'In stock (14 available)',\n",
       "  '0'],\n",
       " ['History',\n",
       "  '6e8e5626ac4d279e',\n",
       "  '£21.80',\n",
       "  '£21.80',\n",
       "  '£0.00',\n",
       "  'In stock (14 available)',\n",
       "  '0'],\n",
       " ['Default',\n",
       "  'ac5e0d3938caf686',\n",
       "  '£13.33',\n",
       "  '£13.33',\n",
       "  '£0.00',\n",
       "  'In stock (13 available)',\n",
       "  '0'],\n",
       " ['Fantasy',\n",
       "  '2f0213137a80d485',\n",
       "  '£38.73',\n",
       "  '£38.73',\n",
       "  '£0.00',\n",
       "  'In stock (13 available)',\n",
       "  '0'],\n",
       " ['Add a comment',\n",
       "  '44d97b6707dae3f0',\n",
       "  '£37.86',\n",
       "  '£37.86',\n",
       "  '£0.00',\n",
       "  'In stock (13 available)',\n",
       "  '0'],\n",
       " ['Food and Drink',\n",
       "  '8bbd7df8a324f31d',\n",
       "  '£11.53',\n",
       "  '£11.53',\n",
       "  '£0.00',\n",
       "  'In stock (13 available)',\n",
       "  '0'],\n",
       " ['Nonfiction',\n",
       "  '4be9d1910f8a4e80',\n",
       "  '£27.06',\n",
       "  '£27.06',\n",
       "  '£0.00',\n",
       "  'In stock (13 available)',\n",
       "  '0'],\n",
       " ['Womens Fiction',\n",
       "  '077b635ff2afc578',\n",
       "  '£13.86',\n",
       "  '£13.86',\n",
       "  '£0.00',\n",
       "  'In stock (12 available)',\n",
       "  '0'],\n",
       " ['Science',\n",
       "  '148715df5a02ea5e',\n",
       "  '£37.55',\n",
       "  '£37.55',\n",
       "  '£0.00',\n",
       "  'In stock (12 available)',\n",
       "  '0'],\n",
       " ['Fantasy',\n",
       "  '4a7a25be293ad678',\n",
       "  '£32.30',\n",
       "  '£32.30',\n",
       "  '£0.00',\n",
       "  'In stock (12 available)',\n",
       "  '0'],\n",
       " ['Fiction',\n",
       "  'ce1ae197ada2aec4',\n",
       "  '£46.29',\n",
       "  '£46.29',\n",
       "  '£0.00',\n",
       "  'In stock (12 available)',\n",
       "  '0'],\n",
       " ['Add a comment',\n",
       "  '14e44163678e24dc',\n",
       "  '£26.20',\n",
       "  '£26.20',\n",
       "  '£0.00',\n",
       "  'In stock (12 available)',\n",
       "  '0'],\n",
       " ['Nonfiction',\n",
       "  '582a21a1dbbef3cf',\n",
       "  '£33.26',\n",
       "  '£33.26',\n",
       "  '£0.00',\n",
       "  'In stock (12 available)',\n",
       "  '0'],\n",
       " ['Add a comment',\n",
       "  '3063c7e95d0bf76f',\n",
       "  '£59.15',\n",
       "  '£59.15',\n",
       "  '£0.00',\n",
       "  'In stock (12 available)',\n",
       "  '0'],\n",
       " ['Psychology',\n",
       "  '235fa48eeed11d82',\n",
       "  '£39.43',\n",
       "  '£39.43',\n",
       "  '£0.00',\n",
       "  'In stock (12 available)',\n",
       "  '0'],\n",
       " ['Young Adult',\n",
       "  'f732d7d18a91d2ba',\n",
       "  '£14.44',\n",
       "  '£14.44',\n",
       "  '£0.00',\n",
       "  'In stock (12 available)',\n",
       "  '0'],\n",
       " ['Fiction',\n",
       "  'c6ca293d4810e0d5',\n",
       "  '£56.54',\n",
       "  '£56.54',\n",
       "  '£0.00',\n",
       "  'In stock (12 available)',\n",
       "  '0'],\n",
       " ['Nonfiction',\n",
       "  '54fc03f1e1d355db',\n",
       "  '£59.90',\n",
       "  '£59.90',\n",
       "  '£0.00',\n",
       "  'In stock (12 available)',\n",
       "  '0'],\n",
       " ['Add a comment',\n",
       "  '64fd010bf8d15096',\n",
       "  '£11.88',\n",
       "  '£11.88',\n",
       "  '£0.00',\n",
       "  'In stock (12 available)',\n",
       "  '0'],\n",
       " ['Young Adult',\n",
       "  'b63ea3f7a57ae099',\n",
       "  '£48.05',\n",
       "  '£48.05',\n",
       "  '£0.00',\n",
       "  'In stock (12 available)',\n",
       "  '0'],\n",
       " ['Nonfiction',\n",
       "  'f40fea200e0c644f',\n",
       "  '£21.21',\n",
       "  '£21.21',\n",
       "  '£0.00',\n",
       "  'In stock (12 available)',\n",
       "  '0'],\n",
       " ['Default',\n",
       "  'ebf81a62e4798fd1',\n",
       "  '£49.67',\n",
       "  '£49.67',\n",
       "  '£0.00',\n",
       "  'In stock (12 available)',\n",
       "  '0'],\n",
       " ['Business',\n",
       "  '8976d9161c027142',\n",
       "  '£43.14',\n",
       "  '£43.14',\n",
       "  '£0.00',\n",
       "  'In stock (12 available)',\n",
       "  '0'],\n",
       " ['Horror',\n",
       "  'b8d7b3f5c7a95d65',\n",
       "  '£36.97',\n",
       "  '£36.97',\n",
       "  '£0.00',\n",
       "  'In stock (12 available)',\n",
       "  '0'],\n",
       " ['Mystery',\n",
       "  'abdd91e96515a617',\n",
       "  '£26.80',\n",
       "  '£26.80',\n",
       "  '£0.00',\n",
       "  'In stock (12 available)',\n",
       "  '0'],\n",
       " ['Add a comment',\n",
       "  '81ef44fcc5f454df',\n",
       "  '£15.71',\n",
       "  '£15.71',\n",
       "  '£0.00',\n",
       "  'In stock (12 available)',\n",
       "  '0'],\n",
       " ['Young Adult',\n",
       "  'db84624b151cbe06',\n",
       "  '£54.65',\n",
       "  '£54.65',\n",
       "  '£0.00',\n",
       "  'In stock (12 available)',\n",
       "  '0'],\n",
       " ['Mystery',\n",
       "  'e7fe3bf2768602cf',\n",
       "  '£54.36',\n",
       "  '£54.36',\n",
       "  '£0.00',\n",
       "  'In stock (12 available)',\n",
       "  '0'],\n",
       " ['Mystery',\n",
       "  'c039f5aceb093537',\n",
       "  '£35.28',\n",
       "  '£35.28',\n",
       "  '£0.00',\n",
       "  'In stock (12 available)',\n",
       "  '0'],\n",
       " ['Historical Fiction',\n",
       "  '9546d537fbf99eb6',\n",
       "  '£20.55',\n",
       "  '£20.55',\n",
       "  '£0.00',\n",
       "  'In stock (12 available)',\n",
       "  '0'],\n",
       " ['Default',\n",
       "  'b978c9852cde91bd',\n",
       "  '£58.32',\n",
       "  '£58.32',\n",
       "  '£0.00',\n",
       "  'In stock (12 available)',\n",
       "  '0'],\n",
       " ['Mystery',\n",
       "  'bddc6fd036eb6279',\n",
       "  '£11.84',\n",
       "  '£11.84',\n",
       "  '£0.00',\n",
       "  'In stock (12 available)',\n",
       "  '0'],\n",
       " ['Nonfiction',\n",
       "  'c6a29d6df8de968c',\n",
       "  '£41.46',\n",
       "  '£41.46',\n",
       "  '£0.00',\n",
       "  'In stock (12 available)',\n",
       "  '0'],\n",
       " ['Food and Drink',\n",
       "  '76319fe9d8b465a3',\n",
       "  '£20.10',\n",
       "  '£20.10',\n",
       "  '£0.00',\n",
       "  'In stock (12 available)',\n",
       "  '0'],\n",
       " ['Politics',\n",
       "  '3968e3fbf4695d7c',\n",
       "  '£56.86',\n",
       "  '£56.86',\n",
       "  '£0.00',\n",
       "  'In stock (12 available)',\n",
       "  '0'],\n",
       " ['Default',\n",
       "  '6983328f15506cb9',\n",
       "  '£56.51',\n",
       "  '£56.51',\n",
       "  '£0.00',\n",
       "  'In stock (12 available)',\n",
       "  '0'],\n",
       " ['Romance',\n",
       "  'df7e628bad5782b4',\n",
       "  '£40.83',\n",
       "  '£40.83',\n",
       "  '£0.00',\n",
       "  'In stock (12 available)',\n",
       "  '0'],\n",
       " ['Horror',\n",
       "  'd069086944f2e330',\n",
       "  '£48.64',\n",
       "  '£48.64',\n",
       "  '£0.00',\n",
       "  'In stock (12 available)',\n",
       "  '0'],\n",
       " ['Mystery',\n",
       "  '49b24c6a41b82bd2',\n",
       "  '£59.48',\n",
       "  '£59.48',\n",
       "  '£0.00',\n",
       "  'In stock (12 available)',\n",
       "  '0'],\n",
       " ['Historical Fiction',\n",
       "  '63343e287971bb0c',\n",
       "  '£39.01',\n",
       "  '£39.01',\n",
       "  '£0.00',\n",
       "  'In stock (12 available)',\n",
       "  '0'],\n",
       " ['Food and Drink',\n",
       "  'a4eef523118805ef',\n",
       "  '£38.77',\n",
       "  '£38.77',\n",
       "  '£0.00',\n",
       "  'In stock (12 available)',\n",
       "  '0'],\n",
       " ['Default',\n",
       "  '515cb8fcafb1ad98',\n",
       "  '£48.39',\n",
       "  '£48.39',\n",
       "  '£0.00',\n",
       "  'In stock (11 available)',\n",
       "  '0'],\n",
       " ['Mystery',\n",
       "  '6159d8b187831770',\n",
       "  '£27.26',\n",
       "  '£27.26',\n",
       "  '£0.00',\n",
       "  'In stock (11 available)',\n",
       "  '0'],\n",
       " ['Nonfiction',\n",
       "  '985991708c47003e',\n",
       "  '£11.68',\n",
       "  '£11.68',\n",
       "  '£0.00',\n",
       "  'In stock (11 available)',\n",
       "  '0'],\n",
       " ['Fiction',\n",
       "  '437d8dea9272d0a9',\n",
       "  '£59.45',\n",
       "  '£59.45',\n",
       "  '£0.00',\n",
       "  'In stock (11 available)',\n",
       "  '0'],\n",
       " ['Business',\n",
       "  '1c584f82a7a1c4f0',\n",
       "  '£21.00',\n",
       "  '£21.00',\n",
       "  '£0.00',\n",
       "  'In stock (11 available)',\n",
       "  '0'],\n",
       " ['Romance',\n",
       "  'cf62fa272b5f0fa3',\n",
       "  '£53.98',\n",
       "  '£53.98',\n",
       "  '£0.00',\n",
       "  'In stock (11 available)',\n",
       "  '0'],\n",
       " ['Science Fiction',\n",
       "  'f435aa99d864077d',\n",
       "  '£48.74',\n",
       "  '£48.74',\n",
       "  '£0.00',\n",
       "  'In stock (11 available)',\n",
       "  '0'],\n",
       " ['Biography',\n",
       "  'b06599b108e83f98',\n",
       "  '£21.15',\n",
       "  '£21.15',\n",
       "  '£0.00',\n",
       "  'In stock (11 available)',\n",
       "  '0'],\n",
       " ['Mystery',\n",
       "  '05a61a3bd8ca4149',\n",
       "  '£13.71',\n",
       "  '£13.71',\n",
       "  '£0.00',\n",
       "  'In stock (11 available)',\n",
       "  '0'],\n",
       " ['Romance',\n",
       "  'b783ce08802cd1d1',\n",
       "  '£47.67',\n",
       "  '£47.67',\n",
       "  '£0.00',\n",
       "  'In stock (11 available)',\n",
       "  '0'],\n",
       " ['Fiction',\n",
       "  '47e1b2d43f709995',\n",
       "  '£13.34',\n",
       "  '£13.34',\n",
       "  '£0.00',\n",
       "  'In stock (11 available)',\n",
       "  '0'],\n",
       " ['Nonfiction',\n",
       "  '28b2df9fadc9f07e',\n",
       "  '£16.89',\n",
       "  '£16.89',\n",
       "  '£0.00',\n",
       "  'In stock (11 available)',\n",
       "  '0'],\n",
       " ['Autobiography',\n",
       "  '5569c3fea112718e',\n",
       "  '£27.18',\n",
       "  '£27.18',\n",
       "  '£0.00',\n",
       "  'In stock (11 available)',\n",
       "  '0'],\n",
       " ['Historical Fiction',\n",
       "  'bade9943ee01b63f',\n",
       "  '£17.28',\n",
       "  '£17.28',\n",
       "  '£0.00',\n",
       "  'In stock (11 available)',\n",
       "  '0'],\n",
       " ['Fiction',\n",
       "  '469508882dfc1991',\n",
       "  '£45.14',\n",
       "  '£45.14',\n",
       "  '£0.00',\n",
       "  'In stock (11 available)',\n",
       "  '0'],\n",
       " ['Autobiography',\n",
       "  '825d6c44da3ca5a6',\n",
       "  '£40.85',\n",
       "  '£40.85',\n",
       "  '£0.00',\n",
       "  'In stock (11 available)',\n",
       "  '0'],\n",
       " ['Womens Fiction',\n",
       "  '20dc4f1ac5d4fd9c',\n",
       "  '£20.46',\n",
       "  '£20.46',\n",
       "  '£0.00',\n",
       "  'In stock (11 available)',\n",
       "  '0'],\n",
       " ['Psychology',\n",
       "  'ce8666d9b42fc9a0',\n",
       "  '£56.27',\n",
       "  '£56.27',\n",
       "  '£0.00',\n",
       "  'In stock (11 available)',\n",
       "  '0'],\n",
       " ['Womens Fiction',\n",
       "  'b5953ca1f8a0b8d7',\n",
       "  '£48.49',\n",
       "  '£48.49',\n",
       "  '£0.00',\n",
       "  'In stock (11 available)',\n",
       "  '0'],\n",
       " ['Young Adult',\n",
       "  'c65c25d990fc7025',\n",
       "  '£51.34',\n",
       "  '£51.34',\n",
       "  '£0.00',\n",
       "  'In stock (11 available)',\n",
       "  '0'],\n",
       " ['Fiction',\n",
       "  'f608c903c451f387',\n",
       "  '£16.34',\n",
       "  '£16.34',\n",
       "  '£0.00',\n",
       "  'In stock (11 available)',\n",
       "  '0'],\n",
       " ['Food and Drink',\n",
       "  '2587c54f5530dafc',\n",
       "  '£20.50',\n",
       "  '£20.50',\n",
       "  '£0.00',\n",
       "  'In stock (11 available)',\n",
       "  '0'],\n",
       " ['Business',\n",
       "  '816180220e8cb419',\n",
       "  '£21.59',\n",
       "  '£21.59',\n",
       "  '£0.00',\n",
       "  'In stock (11 available)',\n",
       "  '0'],\n",
       " ['Science Fiction',\n",
       "  '2c34f9432069b52b',\n",
       "  '£21.36',\n",
       "  '£21.36',\n",
       "  '£0.00',\n",
       "  'In stock (11 available)',\n",
       "  '0'],\n",
       " ['Default',\n",
       "  'bb967277222e689c',\n",
       "  '£20.88',\n",
       "  '£20.88',\n",
       "  '£0.00',\n",
       "  'In stock (11 available)',\n",
       "  '0'],\n",
       " ['Nonfiction',\n",
       "  '2b69dec0193511d9',\n",
       "  '£19.53',\n",
       "  '£19.53',\n",
       "  '£0.00',\n",
       "  'In stock (11 available)',\n",
       "  '0'],\n",
       " ['Romance',\n",
       "  '40c4bf520c17de54',\n",
       "  '£14.75',\n",
       "  '£14.75',\n",
       "  '£0.00',\n",
       "  'In stock (11 available)',\n",
       "  '0'],\n",
       " ['Fiction',\n",
       "  'a9d7b75461084a26',\n",
       "  '£48.48',\n",
       "  '£48.48',\n",
       "  '£0.00',\n",
       "  'In stock (11 available)',\n",
       "  '0'],\n",
       " ['Nonfiction',\n",
       "  '34669b2e9d407d3a',\n",
       "  '£24.57',\n",
       "  '£24.57',\n",
       "  '£0.00',\n",
       "  'In stock (10 available)',\n",
       "  '0'],\n",
       " ['Health',\n",
       "  '96aa539bfd4c07e2',\n",
       "  '£49.71',\n",
       "  '£49.71',\n",
       "  '£0.00',\n",
       "  'In stock (10 available)',\n",
       "  '0'],\n",
       " ['Add a comment',\n",
       "  'ab60e6f5a63e1cfb',\n",
       "  '£48.27',\n",
       "  '£48.27',\n",
       "  '£0.00',\n",
       "  'In stock (9 available)',\n",
       "  '0'],\n",
       " ['Add a comment',\n",
       "  'd1848064c54e01c7',\n",
       "  '£58.05',\n",
       "  '£58.05',\n",
       "  '£0.00',\n",
       "  'In stock (9 available)',\n",
       "  '0'],\n",
       " ['Default',\n",
       "  '4fd0a2a350f016e6',\n",
       "  '£58.87',\n",
       "  '£58.87',\n",
       "  '£0.00',\n",
       "  'In stock (9 available)',\n",
       "  '0'],\n",
       " ['Default',\n",
       "  '0967effecd292a86',\n",
       "  '£11.82',\n",
       "  '£11.82',\n",
       "  '£0.00',\n",
       "  'In stock (9 available)',\n",
       "  '0'],\n",
       " ['Fiction',\n",
       "  '903a9f8090104c2c',\n",
       "  '£28.03',\n",
       "  '£28.03',\n",
       "  '£0.00',\n",
       "  'In stock (9 available)',\n",
       "  '0'],\n",
       " ['Default',\n",
       "  '4b50fb1359ebf35d',\n",
       "  '£44.05',\n",
       "  '£44.05',\n",
       "  '£0.00',\n",
       "  'In stock (9 available)',\n",
       "  '0'],\n",
       " ['Food and Drink',\n",
       "  '65cfc9f242c2984a',\n",
       "  '£12.34',\n",
       "  '£12.34',\n",
       "  '£0.00',\n",
       "  'In stock (9 available)',\n",
       "  '0'],\n",
       " ['Default',\n",
       "  '33396269bcce166f',\n",
       "  '£16.68',\n",
       "  '£16.68',\n",
       "  '£0.00',\n",
       "  'In stock (9 available)',\n",
       "  '0'],\n",
       " ['Science',\n",
       "  'ca74f2e3c35a3e77',\n",
       "  '£55.91',\n",
       "  '£55.91',\n",
       "  '£0.00',\n",
       "  'In stock (9 available)',\n",
       "  '0'],\n",
       " ['Religion',\n",
       "  '3f25a2fedae191cc',\n",
       "  '£24.57',\n",
       "  '£24.57',\n",
       "  '£0.00',\n",
       "  'In stock (9 available)',\n",
       "  '0'],\n",
       " ['Health',\n",
       "  'f9c87ccb2bc4853b',\n",
       "  '£52.98',\n",
       "  '£52.98',\n",
       "  '£0.00',\n",
       "  'In stock (9 available)',\n",
       "  '0'],\n",
       " ['Young Adult',\n",
       "  'e77594ece9b9d1fe',\n",
       "  '£54.40',\n",
       "  '£54.40',\n",
       "  '£0.00',\n",
       "  'In stock (9 available)',\n",
       "  '0'],\n",
       " ['Novels',\n",
       "  '0e095ed785af7e43',\n",
       "  '£54.81',\n",
       "  '£54.81',\n",
       "  '£0.00',\n",
       "  'In stock (9 available)',\n",
       "  '0'],\n",
       " ['Childrens',\n",
       "  '913e7109cec0cb4c',\n",
       "  '£25.08',\n",
       "  '£25.08',\n",
       "  '£0.00',\n",
       "  'In stock (9 available)',\n",
       "  '0'],\n",
       " ['Default',\n",
       "  'ee6c67859d70186b',\n",
       "  '£10.41',\n",
       "  '£10.41',\n",
       "  '£0.00',\n",
       "  'In stock (9 available)',\n",
       "  '0'],\n",
       " ['Default',\n",
       "  '6baac632f7711e26',\n",
       "  '£47.44',\n",
       "  '£47.44',\n",
       "  '£0.00',\n",
       "  'In stock (9 available)',\n",
       "  '0'],\n",
       " ['Spirituality',\n",
       "  '8fab4c4f6f82a4ce',\n",
       "  '£20.91',\n",
       "  '£20.91',\n",
       "  '£0.00',\n",
       "  'In stock (9 available)',\n",
       "  '0'],\n",
       " ['Sequential Art',\n",
       "  '97187f5cf0385da3',\n",
       "  '£33.95',\n",
       "  '£33.95',\n",
       "  '£0.00',\n",
       "  'In stock (9 available)',\n",
       "  '0'],\n",
       " ['Humor',\n",
       "  '7e9068872228c474',\n",
       "  '£43.68',\n",
       "  '£43.68',\n",
       "  '£0.00',\n",
       "  'In stock (9 available)',\n",
       "  '0'],\n",
       " ['Young Adult',\n",
       "  'e845d305f64154f1',\n",
       "  '£33.23',\n",
       "  '£33.23',\n",
       "  '£0.00',\n",
       "  'In stock (9 available)',\n",
       "  '0'],\n",
       " ['Nonfiction',\n",
       "  '7186241e043de5dc',\n",
       "  '£35.92',\n",
       "  '£35.92',\n",
       "  '£0.00',\n",
       "  'In stock (9 available)',\n",
       "  '0'],\n",
       " ['Art',\n",
       "  'd6d9ffea95f2f8bf',\n",
       "  '£48.63',\n",
       "  '£48.63',\n",
       "  '£0.00',\n",
       "  'In stock (9 available)',\n",
       "  '0'],\n",
       " ['Fantasy',\n",
       "  '63d5f1651880dcea',\n",
       "  '£56.63',\n",
       "  '£56.63',\n",
       "  '£0.00',\n",
       "  'In stock (9 available)',\n",
       "  '0'],\n",
       " ['Add a comment',\n",
       "  'c181ca8eabe7d18c',\n",
       "  '£50.49',\n",
       "  '£50.49',\n",
       "  '£0.00',\n",
       "  'In stock (9 available)',\n",
       "  '0'],\n",
       " ['Add a comment',\n",
       "  '61cf7eb9d2cd8bb0',\n",
       "  '£35.79',\n",
       "  '£35.79',\n",
       "  '£0.00',\n",
       "  'In stock (9 available)',\n",
       "  '0'],\n",
       " ['Nonfiction',\n",
       "  'e77033ce559947f7',\n",
       "  '£34.06',\n",
       "  '£34.06',\n",
       "  '£0.00',\n",
       "  'In stock (8 available)',\n",
       "  '0'],\n",
       " ['Nonfiction',\n",
       "  '04f6c929888f4f11',\n",
       "  '£17.76',\n",
       "  '£17.76',\n",
       "  '£0.00',\n",
       "  'In stock (8 available)',\n",
       "  '0'],\n",
       " ['Nonfiction',\n",
       "  'b69c852e7e3956af',\n",
       "  '£39.36',\n",
       "  '£39.36',\n",
       "  '£0.00',\n",
       "  'In stock (8 available)',\n",
       "  '0'],\n",
       " ['Travel',\n",
       "  '1809259a5a5f1d8d',\n",
       "  '£36.94',\n",
       "  '£36.94',\n",
       "  '£0.00',\n",
       "  'In stock (8 available)',\n",
       "  '0'],\n",
       " ['Default',\n",
       "  'e0bdd79c7304ee8d',\n",
       "  '£43.62',\n",
       "  '£43.62',\n",
       "  '£0.00',\n",
       "  'In stock (8 available)',\n",
       "  '0'],\n",
       " ['Art',\n",
       "  '3eec766dda26fa64',\n",
       "  '£43.02',\n",
       "  '£43.02',\n",
       "  '£0.00',\n",
       "  'In stock (8 available)',\n",
       "  '0'],\n",
       " ['Nonfiction',\n",
       "  '5a0d2e9284004266',\n",
       "  '£28.45',\n",
       "  '£28.45',\n",
       "  '£0.00',\n",
       "  'In stock (8 available)',\n",
       "  '0'],\n",
       " ['Default',\n",
       "  '9afd00e81d6208e6',\n",
       "  '£41.39',\n",
       "  '£41.39',\n",
       "  '£0.00',\n",
       "  'In stock (8 available)',\n",
       "  '0'],\n",
       " ['Fiction',\n",
       "  '4f283dfcbeccc0d4',\n",
       "  '£51.15',\n",
       "  '£51.15',\n",
       "  '£0.00',\n",
       "  'In stock (8 available)',\n",
       "  '0'],\n",
       " ['Short Stories',\n",
       "  '1bba4b1ba23ed2d6',\n",
       "  '£35.88',\n",
       "  '£35.88',\n",
       "  '£0.00',\n",
       "  'In stock (8 available)',\n",
       "  '0'],\n",
       " ['Business',\n",
       "  'a2308a936e898d48',\n",
       "  '£36.91',\n",
       "  '£36.91',\n",
       "  '£0.00',\n",
       "  'In stock (8 available)',\n",
       "  '0'],\n",
       " ['Young Adult',\n",
       "  '331c26103d885cae',\n",
       "  '£28.93',\n",
       "  '£28.93',\n",
       "  '£0.00',\n",
       "  'In stock (8 available)',\n",
       "  '0'],\n",
       " ['Nonfiction',\n",
       "  'a2475a245c9907c4',\n",
       "  '£38.89',\n",
       "  '£38.89',\n",
       "  '£0.00',\n",
       "  'In stock (8 available)',\n",
       "  '0'],\n",
       " ['Suspense',\n",
       "  'e46a164cf310fd7d',\n",
       "  '£58.33',\n",
       "  '£58.33',\n",
       "  '£0.00',\n",
       "  'In stock (8 available)',\n",
       "  '0'],\n",
       " ['Christian Fiction',\n",
       "  'bee6e93e9976f4fa',\n",
       "  '£39.67',\n",
       "  '£39.67',\n",
       "  '£0.00',\n",
       "  'In stock (8 available)',\n",
       "  '0'],\n",
       " ['Sequential Art',\n",
       "  'aeb51dfbe8aeec59',\n",
       "  '£14.10',\n",
       "  '£14.10',\n",
       "  '£0.00',\n",
       "  'In stock (8 available)',\n",
       "  '0'],\n",
       " ['Nonfiction',\n",
       "  '52fc458ffc756faf',\n",
       "  '£21.82',\n",
       "  '£21.82',\n",
       "  '£0.00',\n",
       "  'In stock (8 available)',\n",
       "  '0'],\n",
       " ['Philosophy',\n",
       "  'd56d0710668bb39c',\n",
       "  '£54.21',\n",
       "  '£54.21',\n",
       "  '£0.00',\n",
       "  'In stock (8 available)',\n",
       "  '0'],\n",
       " ['Music',\n",
       "  '4a823d80aa30dbb0',\n",
       "  '£31.19',\n",
       "  '£31.19',\n",
       "  '£0.00',\n",
       "  'In stock (8 available)',\n",
       "  '0'],\n",
       " ['Poetry',\n",
       "  'c0fc0cd215ee1724',\n",
       "  '£53.64',\n",
       "  '£53.64',\n",
       "  '£0.00',\n",
       "  'In stock (8 available)',\n",
       "  '0'],\n",
       " ['Young Adult',\n",
       "  '9a7291b89bd5445c',\n",
       "  '£36.39',\n",
       "  '£36.39',\n",
       "  '£0.00',\n",
       "  'In stock (8 available)',\n",
       "  '0'],\n",
       " ['Fiction',\n",
       "  'bff270fe9c86a5a9',\n",
       "  '£58.54',\n",
       "  '£58.54',\n",
       "  '£0.00',\n",
       "  'In stock (8 available)',\n",
       "  '0'],\n",
       " ['Nonfiction',\n",
       "  '4729afff3bea0f0a',\n",
       "  '£29.48',\n",
       "  '£29.48',\n",
       "  '£0.00',\n",
       "  'In stock (8 available)',\n",
       "  '0'],\n",
       " ['Nonfiction',\n",
       "  '4d3a4c7b442a9a4e',\n",
       "  '£25.06',\n",
       "  '£25.06',\n",
       "  '£0.00',\n",
       "  'In stock (8 available)',\n",
       "  '0'],\n",
       " ['Nonfiction',\n",
       "  '044534b0b28b4e87',\n",
       "  '£12.55',\n",
       "  '£12.55',\n",
       "  '£0.00',\n",
       "  'In stock (8 available)',\n",
       "  '0'],\n",
       " ['Poetry',\n",
       "  'c44c5e1425475206',\n",
       "  '£29.04',\n",
       "  '£29.04',\n",
       "  '£0.00',\n",
       "  'In stock (8 available)',\n",
       "  '0'],\n",
       " ['Default',\n",
       "  '29af1a2566c4e36e',\n",
       "  '£40.72',\n",
       "  '£40.72',\n",
       "  '£0.00',\n",
       "  'In stock (8 available)',\n",
       "  '0'],\n",
       " ['Music',\n",
       "  '39eefec3a8498dde',\n",
       "  '£45.05',\n",
       "  '£45.05',\n",
       "  '£0.00',\n",
       "  'In stock (8 available)',\n",
       "  '0'],\n",
       " ['Philosophy',\n",
       "  '0cf57cb49272fd37',\n",
       "  '£47.13',\n",
       "  '£47.13',\n",
       "  '£0.00',\n",
       "  'In stock (8 available)',\n",
       "  '0'],\n",
       " ['Default',\n",
       "  'bd26e8a79a856c31',\n",
       "  '£20.22',\n",
       "  '£20.22',\n",
       "  '£0.00',\n",
       "  'In stock (8 available)',\n",
       "  '0'],\n",
       " ['Default',\n",
       "  '0ab4b35dcffcffd1',\n",
       "  '£56.48',\n",
       "  '£56.48',\n",
       "  '£0.00',\n",
       "  'In stock (8 available)',\n",
       "  '0'],\n",
       " ['Nonfiction',\n",
       "  'bbf1ea50be8008ab',\n",
       "  '£44.21',\n",
       "  '£44.21',\n",
       "  '£0.00',\n",
       "  'In stock (8 available)',\n",
       "  '0'],\n",
       " ['Fiction',\n",
       "  '0bfdef63285d3019',\n",
       "  '£21.96',\n",
       "  '£21.96',\n",
       "  '£0.00',\n",
       "  'In stock (8 available)',\n",
       "  '0'],\n",
       " ['Poetry',\n",
       "  'b7870fa6dc088fbb',\n",
       "  '£40.45',\n",
       "  '£40.45',\n",
       "  '£0.00',\n",
       "  'In stock (8 available)',\n",
       "  '0'],\n",
       " ['Art',\n",
       "  '8a150fd8ff5d7686',\n",
       "  '£10.29',\n",
       "  '£10.29',\n",
       "  '£0.00',\n",
       "  'In stock (8 available)',\n",
       "  '0'],\n",
       " ['Default',\n",
       "  'd48c1369927ebef1',\n",
       "  '£52.86',\n",
       "  '£52.86',\n",
       "  '£0.00',\n",
       "  'In stock (8 available)',\n",
       "  '0'],\n",
       " ['Young Adult',\n",
       "  'df6a7c43faa6732b',\n",
       "  '£55.65',\n",
       "  '£55.65',\n",
       "  '£0.00',\n",
       "  'In stock (8 available)',\n",
       "  '0'],\n",
       " ['Default',\n",
       "  'e049d44c4f1cf1b2',\n",
       "  '£43.64',\n",
       "  '£43.64',\n",
       "  '£0.00',\n",
       "  'In stock (8 available)',\n",
       "  '0'],\n",
       " ['Science',\n",
       "  '0c11e2d068768dbb',\n",
       "  '£28.41',\n",
       "  '£28.41',\n",
       "  '£0.00',\n",
       "  'In stock (8 available)',\n",
       "  '0'],\n",
       " ['Default',\n",
       "  '4dbd54d9e36c9566',\n",
       "  '£37.51',\n",
       "  '£37.51',\n",
       "  '£0.00',\n",
       "  'In stock (8 available)',\n",
       "  '0'],\n",
       " ['History',\n",
       "  '7f5157bf53065d36',\n",
       "  '£11.45',\n",
       "  '£11.45',\n",
       "  '£0.00',\n",
       "  'In stock (8 available)',\n",
       "  '0'],\n",
       " ['Nonfiction',\n",
       "  '77e9ea355bd8ae57',\n",
       "  '£19.22',\n",
       "  '£19.22',\n",
       "  '£0.00',\n",
       "  'In stock (8 available)',\n",
       "  '0'],\n",
       " ['Nonfiction',\n",
       "  '04e3de7ac35ec5cd',\n",
       "  '£56.91',\n",
       "  '£56.91',\n",
       "  '£0.00',\n",
       "  'In stock (8 available)',\n",
       "  '0'],\n",
       " ['Nonfiction',\n",
       "  '15ebd83e53d0391b',\n",
       "  '£55.06',\n",
       "  '£55.06',\n",
       "  '£0.00',\n",
       "  'In stock (8 available)',\n",
       "  '0'],\n",
       " ['Nonfiction',\n",
       "  'fef91502cbacf23a',\n",
       "  '£13.20',\n",
       "  '£13.20',\n",
       "  '£0.00',\n",
       "  'In stock (8 available)',\n",
       "  '0'],\n",
       " ['Food and Drink',\n",
       "  'b1a227b7609ff263',\n",
       "  '£53.63',\n",
       "  '£53.63',\n",
       "  '£0.00',\n",
       "  'In stock (8 available)',\n",
       "  '0'],\n",
       " ['History',\n",
       "  'f16c2edb2a603f92',\n",
       "  '£44.48',\n",
       "  '£44.48',\n",
       "  '£0.00',\n",
       "  'In stock (8 available)',\n",
       "  '0'],\n",
       " ['Self Help',\n",
       "  '88ec621893e595d0',\n",
       "  '£12.08',\n",
       "  '£12.08',\n",
       "  '£0.00',\n",
       "  'In stock (7 available)',\n",
       "  '0'],\n",
       " ['Default',\n",
       "  'b46d022080543144',\n",
       "  '£22.14',\n",
       "  '£22.14',\n",
       "  '£0.00',\n",
       "  'In stock (7 available)',\n",
       "  '0'],\n",
       " ['Mystery',\n",
       "  '9735c969c652dd89',\n",
       "  '£25.37',\n",
       "  '£25.37',\n",
       "  '£0.00',\n",
       "  'In stock (7 available)',\n",
       "  '0'],\n",
       " ['Spirituality',\n",
       "  '48cb52d78c992487',\n",
       "  '£46.33',\n",
       "  '£46.33',\n",
       "  '£0.00',\n",
       "  'In stock (7 available)',\n",
       "  '0'],\n",
       " ['Travel',\n",
       "  'a94350ee74deaa07',\n",
       "  '£37.33',\n",
       "  '£37.33',\n",
       "  '£0.00',\n",
       "  'In stock (7 available)',\n",
       "  '0'],\n",
       " ['Humor',\n",
       "  '4242cc3d0437db12',\n",
       "  '£25.55',\n",
       "  '£25.55',\n",
       "  '£0.00',\n",
       "  'In stock (7 available)',\n",
       "  '0'],\n",
       " ['Default',\n",
       "  '4a0b78598b42897a',\n",
       "  '£34.72',\n",
       "  '£34.72',\n",
       "  '£0.00',\n",
       "  'In stock (7 available)',\n",
       "  '0'],\n",
       " ['Childrens',\n",
       "  '0ff9d10864db8364',\n",
       "  '£35.96',\n",
       "  '£35.96',\n",
       "  '£0.00',\n",
       "  'In stock (7 available)',\n",
       "  '0'],\n",
       " ['Art',\n",
       "  '9147c5251cc99eb1',\n",
       "  '£41.14',\n",
       "  '£41.14',\n",
       "  '£0.00',\n",
       "  'In stock (7 available)',\n",
       "  '0'],\n",
       " ['Science',\n",
       "  '0345872b14f9e774',\n",
       "  '£10.01',\n",
       "  '£10.01',\n",
       "  '£0.00',\n",
       "  'In stock (7 available)',\n",
       "  '0'],\n",
       " ['Default',\n",
       "  'a8dbf1c6b41b885a',\n",
       "  '£36.05',\n",
       "  '£36.05',\n",
       "  '£0.00',\n",
       "  'In stock (7 available)',\n",
       "  '0'],\n",
       " ['Default',\n",
       "  'f935412970c9f58f',\n",
       "  '£49.03',\n",
       "  '£49.03',\n",
       "  '£0.00',\n",
       "  'In stock (7 available)',\n",
       "  '0'],\n",
       " ['Add a comment',\n",
       "  '47f4fd3e8e1dac05',\n",
       "  '£16.24',\n",
       "  '£16.24',\n",
       "  '£0.00',\n",
       "  'In stock (7 available)',\n",
       "  '0'],\n",
       " ['Biography',\n",
       "  '57f85720e54d6442',\n",
       "  '£39.55',\n",
       "  '£39.55',\n",
       "  '£0.00',\n",
       "  'In stock (7 available)',\n",
       "  '0'],\n",
       " ['Add a comment',\n",
       "  '7a10353c9c54cf7c',\n",
       "  '£35.67',\n",
       "  '£35.67',\n",
       "  '£0.00',\n",
       "  'In stock (7 available)',\n",
       "  '0'],\n",
       " ['Historical Fiction',\n",
       "  '24933c712f0bca2f',\n",
       "  '£16.62',\n",
       "  '£16.62',\n",
       "  '£0.00',\n",
       "  'In stock (7 available)',\n",
       "  '0'],\n",
       " ['Fiction',\n",
       "  'd250657f0ebc5d73',\n",
       "  '£42.78',\n",
       "  '£42.78',\n",
       "  '£0.00',\n",
       "  'In stock (7 available)',\n",
       "  '0'],\n",
       " ['Mystery',\n",
       "  '20789fb17b423c4c',\n",
       "  '£52.30',\n",
       "  '£52.30',\n",
       "  '£0.00',\n",
       "  'In stock (7 available)',\n",
       "  '0'],\n",
       " ['Art',\n",
       "  '4b8fa561a1e52d1c',\n",
       "  '£32.34',\n",
       "  '£32.34',\n",
       "  '£0.00',\n",
       "  'In stock (7 available)',\n",
       "  '0'],\n",
       " ['Default',\n",
       "  '5fbd03b1ac0a0e69',\n",
       "  '£33.17',\n",
       "  '£33.17',\n",
       "  '£0.00',\n",
       "  'In stock (7 available)',\n",
       "  '0'],\n",
       " ['Add a comment',\n",
       "  'ba047a636b7d3793',\n",
       "  '£20.12',\n",
       "  '£20.12',\n",
       "  '£0.00',\n",
       "  'In stock (7 available)',\n",
       "  '0'],\n",
       " ['Default',\n",
       "  '8776181be110838a',\n",
       "  '£20.90',\n",
       "  '£20.90',\n",
       "  '£0.00',\n",
       "  'In stock (7 available)',\n",
       "  '0'],\n",
       " ['Romance',\n",
       "  'bd087cf6a846db75',\n",
       "  '£20.90',\n",
       "  '£20.90',\n",
       "  '£0.00',\n",
       "  'In stock (7 available)',\n",
       "  '0'],\n",
       " ['Fiction',\n",
       "  '7ffebdd1d5148aef',\n",
       "  '£40.20',\n",
       "  '£40.20',\n",
       "  '£0.00',\n",
       "  'In stock (7 available)',\n",
       "  '0'],\n",
       " ['Childrens',\n",
       "  '9639e89d20228e6e',\n",
       "  '£52.87',\n",
       "  '£52.87',\n",
       "  '£0.00',\n",
       "  'In stock (7 available)',\n",
       "  '0'],\n",
       " ['Business',\n",
       "  '8486f61aa81a3daa',\n",
       "  '£51.74',\n",
       "  '£51.74',\n",
       "  '£0.00',\n",
       "  'In stock (7 available)',\n",
       "  '0'],\n",
       " ['Childrens',\n",
       "  '31c56c4d0fe19340',\n",
       "  '£34.41',\n",
       "  '£34.41',\n",
       "  '£0.00',\n",
       "  'In stock (7 available)',\n",
       "  '0'],\n",
       " ['Childrens',\n",
       "  '68008abf6409dfde',\n",
       "  '£32.38',\n",
       "  '£32.38',\n",
       "  '£0.00',\n",
       "  'In stock (7 available)',\n",
       "  '0'],\n",
       " ['Young Adult',\n",
       "  '746029796363aa51',\n",
       "  '£50.35',\n",
       "  '£50.35',\n",
       "  '£0.00',\n",
       "  'In stock (7 available)',\n",
       "  '0'],\n",
       " ['Food and Drink',\n",
       "  '924438fc6cbec836',\n",
       "  '£11.38',\n",
       "  '£11.38',\n",
       "  '£0.00',\n",
       "  'In stock (7 available)',\n",
       "  '0'],\n",
       " ['Womens Fiction',\n",
       "  '725cd8d23d78cdca',\n",
       "  '£43.58',\n",
       "  '£43.58',\n",
       "  '£0.00',\n",
       "  'In stock (7 available)',\n",
       "  '0'],\n",
       " ['Fiction',\n",
       "  'dac4b5847454fd9b',\n",
       "  '£49.67',\n",
       "  '£49.67',\n",
       "  '£0.00',\n",
       "  'In stock (7 available)',\n",
       "  '0'],\n",
       " ['Christian Fiction',\n",
       "  'b6670507e85b30e6',\n",
       "  '£28.77',\n",
       "  '£28.77',\n",
       "  '£0.00',\n",
       "  'In stock (7 available)',\n",
       "  '0'],\n",
       " ['Default',\n",
       "  '40cdcbb7692fd408',\n",
       "  '£13.22',\n",
       "  '£13.22',\n",
       "  '£0.00',\n",
       "  'In stock (7 available)',\n",
       "  '0'],\n",
       " ['Poetry',\n",
       "  'b74ee891e2a6dd69',\n",
       "  '£51.17',\n",
       "  '£51.17',\n",
       "  '£0.00',\n",
       "  'In stock (7 available)',\n",
       "  '0'],\n",
       " ['Fantasy',\n",
       "  '4c82371b8cd02d4d',\n",
       "  '£39.61',\n",
       "  '£39.61',\n",
       "  '£0.00',\n",
       "  'In stock (7 available)',\n",
       "  '0'],\n",
       " ['Add a comment',\n",
       "  '68407606544d6f22',\n",
       "  '£57.43',\n",
       "  '£57.43',\n",
       "  '£0.00',\n",
       "  'In stock (7 available)',\n",
       "  '0'],\n",
       " ['Food and Drink',\n",
       "  '2a9fcb3382d351c8',\n",
       "  '£46.01',\n",
       "  '£46.01',\n",
       "  '£0.00',\n",
       "  'In stock (7 available)',\n",
       "  '0'],\n",
       " ['Food and Drink',\n",
       "  'eff5710404e2ff78',\n",
       "  '£28.25',\n",
       "  '£28.25',\n",
       "  '£0.00',\n",
       "  'In stock (7 available)',\n",
       "  '0'],\n",
       " ['Add a comment',\n",
       "  'c00bc29a678a6efb',\n",
       "  '£37.05',\n",
       "  '£37.05',\n",
       "  '£0.00',\n",
       "  'In stock (7 available)',\n",
       "  '0'],\n",
       " ['Sequential Art',\n",
       "  'de6d7645f192d517',\n",
       "  '£19.57',\n",
       "  '£19.57',\n",
       "  '£0.00',\n",
       "  'In stock (7 available)',\n",
       "  '0'],\n",
       " ['Nonfiction',\n",
       "  '2e40333991f56f45',\n",
       "  '£45.13',\n",
       "  '£45.13',\n",
       "  '£0.00',\n",
       "  'In stock (7 available)',\n",
       "  '0'],\n",
       " ['Nonfiction',\n",
       "  '4e78f06160b717ac',\n",
       "  '£46.64',\n",
       "  '£46.64',\n",
       "  '£0.00',\n",
       "  'In stock (7 available)',\n",
       "  '0'],\n",
       " ['Fantasy',\n",
       "  '4fa75fc6829431ca',\n",
       "  '£12.16',\n",
       "  '£12.16',\n",
       "  '£0.00',\n",
       "  'In stock (7 available)',\n",
       "  '0'],\n",
       " ['Mystery',\n",
       "  '4e980425468708da',\n",
       "  '£20.89',\n",
       "  '£20.89',\n",
       "  '£0.00',\n",
       "  'In stock (7 available)',\n",
       "  '0'],\n",
       " ['Christian Fiction',\n",
       "  '4807043b8218e9ce',\n",
       "  '£17.97',\n",
       "  '£17.97',\n",
       "  '£0.00',\n",
       "  'In stock (7 available)',\n",
       "  '0'],\n",
       " ['Music',\n",
       "  '4781b6bfd6f7a2c5',\n",
       "  '£52.60',\n",
       "  '£52.60',\n",
       "  '£0.00',\n",
       "  'In stock (7 available)',\n",
       "  '0'],\n",
       " ['Christian',\n",
       "  'a322361a37a78d3d',\n",
       "  '£25.77',\n",
       "  '£25.77',\n",
       "  '£0.00',\n",
       "  'In stock (7 available)',\n",
       "  '0'],\n",
       " ['Biography',\n",
       "  '5b546a46a86a9d8c',\n",
       "  '£48.19',\n",
       "  '£48.19',\n",
       "  '£0.00',\n",
       "  'In stock (7 available)',\n",
       "  '0'],\n",
       " ['Philosophy',\n",
       "  '6b52904b2ab91bf6',\n",
       "  '£29.93',\n",
       "  '£29.93',\n",
       "  '£0.00',\n",
       "  'In stock (7 available)',\n",
       "  '0'],\n",
       " ['Travel',\n",
       "  'cc1936a9f4e93477',\n",
       "  '£44.34',\n",
       "  '£44.34',\n",
       "  '£0.00',\n",
       "  'In stock (7 available)',\n",
       "  '0'],\n",
       " ['History',\n",
       "  '6c7fa6844380f50a',\n",
       "  '£52.40',\n",
       "  '£52.40',\n",
       "  '£0.00',\n",
       "  'In stock (7 available)',\n",
       "  '0'],\n",
       " ['Fantasy',\n",
       "  'd1378a0ad06ff979',\n",
       "  '£44.81',\n",
       "  '£44.81',\n",
       "  '£0.00',\n",
       "  'In stock (7 available)',\n",
       "  '0'],\n",
       " ['Default',\n",
       "  '5ba3d703d1ae0c1d',\n",
       "  '£57.84',\n",
       "  '£57.84',\n",
       "  '£0.00',\n",
       "  'In stock (6 available)',\n",
       "  '0'],\n",
       " ['History',\n",
       "  '774fa432bd7d9c47',\n",
       "  '£39.67',\n",
       "  '£39.67',\n",
       "  '£0.00',\n",
       "  'In stock (6 available)',\n",
       "  '0'],\n",
       " ['Default',\n",
       "  'fd364afd082f5446',\n",
       "  '£55.02',\n",
       "  '£55.02',\n",
       "  '£0.00',\n",
       "  'In stock (6 available)',\n",
       "  '0'],\n",
       " ['Mystery',\n",
       "  '2da5edf8b5776c9a',\n",
       "  '£24.80',\n",
       "  '£24.80',\n",
       "  '£0.00',\n",
       "  'In stock (6 available)',\n",
       "  '0'],\n",
       " ['Nonfiction',\n",
       "  '60376aa71be66083',\n",
       "  '£59.45',\n",
       "  '£59.45',\n",
       "  '£0.00',\n",
       "  'In stock (6 available)',\n",
       "  '0'],\n",
       " ['Default',\n",
       "  '2efa5a839e62b1bd',\n",
       "  '£31.58',\n",
       "  '£31.58',\n",
       "  '£0.00',\n",
       "  'In stock (6 available)',\n",
       "  '0'],\n",
       " ['Add a comment',\n",
       "  'd326e189b1210916',\n",
       "  '£43.27',\n",
       "  '£43.27',\n",
       "  '£0.00',\n",
       "  'In stock (6 available)',\n",
       "  '0'],\n",
       " ['Historical Fiction',\n",
       "  'e6635f5b0a2c78db',\n",
       "  '£37.34',\n",
       "  '£37.34',\n",
       "  '£0.00',\n",
       "  'In stock (6 available)',\n",
       "  '0'],\n",
       " ['Default',\n",
       "  '72b5355dda190b6a',\n",
       "  '£17.80',\n",
       "  '£17.80',\n",
       "  '£0.00',\n",
       "  'In stock (6 available)',\n",
       "  '0'],\n",
       " ['Travel',\n",
       "  '48736df57e7bec9f',\n",
       "  '£30.54',\n",
       "  '£30.54',\n",
       "  '£0.00',\n",
       "  'In stock (6 available)',\n",
       "  '0'],\n",
       " ['Add a comment',\n",
       "  'd33824cb93ecab6f',\n",
       "  '£18.77',\n",
       "  '£18.77',\n",
       "  '£0.00',\n",
       "  'In stock (6 available)',\n",
       "  '0'],\n",
       " ['Add a comment',\n",
       "  '2bc80eba94950873',\n",
       "  '£46.85',\n",
       "  '£46.85',\n",
       "  '£0.00',\n",
       "  'In stock (6 available)',\n",
       "  '0'],\n",
       " ['Historical',\n",
       "  'eb7459e0c570251d',\n",
       "  '£15.79',\n",
       "  '£15.79',\n",
       "  '£0.00',\n",
       "  'In stock (6 available)',\n",
       "  '0'],\n",
       " ['Default',\n",
       "  'cb17945cb90b7837',\n",
       "  '£10.27',\n",
       "  '£10.27',\n",
       "  '£0.00',\n",
       "  'In stock (6 available)',\n",
       "  '0'],\n",
       " ['Poetry',\n",
       "  '3d250ab0f12be445',\n",
       "  '£15.42',\n",
       "  '£15.42',\n",
       "  '£0.00',\n",
       "  'In stock (6 available)',\n",
       "  '0'],\n",
       " ['Food and Drink',\n",
       "  '6478ccb4416e6a5d',\n",
       "  '£59.92',\n",
       "  '£59.92',\n",
       "  '£0.00',\n",
       "  'In stock (6 available)',\n",
       "  '0'],\n",
       " ['Young Adult',\n",
       "  '2a1b3d967cda1da2',\n",
       "  '£50.96',\n",
       "  '£50.96',\n",
       "  '£0.00',\n",
       "  'In stock (6 available)',\n",
       "  '0'],\n",
       " ['Default',\n",
       "  '8d8e9f9b8730eb25',\n",
       "  '£30.60',\n",
       "  '£30.60',\n",
       "  '£0.00',\n",
       "  'In stock (6 available)',\n",
       "  '0'],\n",
       " ['Add a comment',\n",
       "  '720c36b2bee4692e',\n",
       "  '£19.27',\n",
       "  '£19.27',\n",
       "  '£0.00',\n",
       "  'In stock (6 available)',\n",
       "  '0'],\n",
       " ['Default',\n",
       "  '6d235933670503d9',\n",
       "  '£46.58',\n",
       "  '£46.58',\n",
       "  '£0.00',\n",
       "  'In stock (6 available)',\n",
       "  '0'],\n",
       " ['Add a comment',\n",
       "  'f38f37ed934d84b2',\n",
       "  '£48.51',\n",
       "  '£48.51',\n",
       "  '£0.00',\n",
       "  'In stock (6 available)',\n",
       "  '0'],\n",
       " ['Fiction',\n",
       "  '7a2b51f69e81c722',\n",
       "  '£19.02',\n",
       "  '£19.02',\n",
       "  '£0.00',\n",
       "  'In stock (6 available)',\n",
       "  '0'],\n",
       " ['Mystery',\n",
       "  '6958de044cb28a84',\n",
       "  '£38.38',\n",
       "  '£38.38',\n",
       "  '£0.00',\n",
       "  'In stock (6 available)',\n",
       "  '0'],\n",
       " ['Nonfiction',\n",
       "  'fe0f34ebed689381',\n",
       "  '£49.98',\n",
       "  '£49.98',\n",
       "  '£0.00',\n",
       "  'In stock (6 available)',\n",
       "  '0'],\n",
       " ['Self Help',\n",
       "  'e792c0969cefe1b8',\n",
       "  '£46.49',\n",
       "  '£46.49',\n",
       "  '£0.00',\n",
       "  'In stock (6 available)',\n",
       "  '0'],\n",
       " ['Thriller',\n",
       "  '012170e4fc87ace0',\n",
       "  '£18.32',\n",
       "  '£18.32',\n",
       "  '£0.00',\n",
       "  'In stock (6 available)',\n",
       "  '0'],\n",
       " ['Nonfiction',\n",
       "  '384c7d41d5ffe9d1',\n",
       "  '£42.14',\n",
       "  '£42.14',\n",
       "  '£0.00',\n",
       "  'In stock (6 available)',\n",
       "  '0'],\n",
       " ['Add a comment',\n",
       "  '56a34d0cec11d6b0',\n",
       "  '£56.59',\n",
       "  '£56.59',\n",
       "  '£0.00',\n",
       "  'In stock (6 available)',\n",
       "  '0'],\n",
       " ['Sequential Art',\n",
       "  '97258f576d4bb672',\n",
       "  '£20.96',\n",
       "  '£20.96',\n",
       "  '£0.00',\n",
       "  'In stock (6 available)',\n",
       "  '0'],\n",
       " ['Fiction',\n",
       "  '4e3b183180e2a992',\n",
       "  '£40.32',\n",
       "  '£40.32',\n",
       "  '£0.00',\n",
       "  'In stock (6 available)',\n",
       "  '0'],\n",
       " ['Sequential Art',\n",
       "  '6e06d0f00f6da20f',\n",
       "  '£36.39',\n",
       "  '£36.39',\n",
       "  '£0.00',\n",
       "  'In stock (6 available)',\n",
       "  '0'],\n",
       " ['History',\n",
       "  'f3c70d296ec796c4',\n",
       "  '£58.55',\n",
       "  '£58.55',\n",
       "  '£0.00',\n",
       "  'In stock (6 available)',\n",
       "  '0'],\n",
       " ['Food and Drink',\n",
       "  'faf841f81c52638b',\n",
       "  '£39.61',\n",
       "  '£39.61',\n",
       "  '£0.00',\n",
       "  'In stock (6 available)',\n",
       "  '0'],\n",
       " ['Psychology',\n",
       "  '46cb43c2ab133ccc',\n",
       "  '£21.30',\n",
       "  '£21.30',\n",
       "  '£0.00',\n",
       "  'In stock (6 available)',\n",
       "  '0'],\n",
       " ['Travel',\n",
       "  '9e60929f521fa280',\n",
       "  '£56.88',\n",
       "  '£56.88',\n",
       "  '£0.00',\n",
       "  'In stock (6 available)',\n",
       "  '0'],\n",
       " ['Historical Fiction',\n",
       "  '2e5b4ff08a75fd02',\n",
       "  '£32.97',\n",
       "  '£32.97',\n",
       "  '£0.00',\n",
       "  'In stock (5 available)',\n",
       "  '0'],\n",
       " ['Young Adult',\n",
       "  'e75f3ae1da1cc652',\n",
       "  '£47.31',\n",
       "  '£47.31',\n",
       "  '£0.00',\n",
       "  'In stock (5 available)',\n",
       "  '0'],\n",
       " ['Nonfiction',\n",
       "  '759ee7d059b1beb8',\n",
       "  '£48.67',\n",
       "  '£48.67',\n",
       "  '£0.00',\n",
       "  'In stock (5 available)',\n",
       "  '0'],\n",
       " ['Young Adult',\n",
       "  '60369d96b7b80869',\n",
       "  '£41.73',\n",
       "  '£41.73',\n",
       "  '£0.00',\n",
       "  'In stock (5 available)',\n",
       "  '0'],\n",
       " ['Default',\n",
       "  '163d89116179c33f',\n",
       "  '£53.68',\n",
       "  '£53.68',\n",
       "  '£0.00',\n",
       "  'In stock (5 available)',\n",
       "  '0'],\n",
       " ['Young Adult',\n",
       "  '3a7d54a264d9f33e',\n",
       "  '£14.64',\n",
       "  '£14.64',\n",
       "  '£0.00',\n",
       "  'In stock (5 available)',\n",
       "  '0'],\n",
       " ['Music',\n",
       "  'bc209a900101f28d',\n",
       "  '£38.40',\n",
       "  '£38.40',\n",
       "  '£0.00',\n",
       "  'In stock (5 available)',\n",
       "  '0'],\n",
       " ['Classics',\n",
       "  'abbb492978ff656d',\n",
       "  '£15.08',\n",
       "  '£15.08',\n",
       "  '£0.00',\n",
       "  'In stock (5 available)',\n",
       "  '0'],\n",
       " ['Add a comment',\n",
       "  '2e4fc5eacceec12c',\n",
       "  '£30.57',\n",
       "  '£30.57',\n",
       "  '£0.00',\n",
       "  'In stock (5 available)',\n",
       "  '0'],\n",
       " ['Fantasy',\n",
       "  'e0b3a679b83caccc',\n",
       "  '£57.74',\n",
       "  '£57.74',\n",
       "  '£0.00',\n",
       "  'In stock (5 available)',\n",
       "  '0'],\n",
       " ['Food and Drink',\n",
       "  'f701fae56b645ef7',\n",
       "  '£11.05',\n",
       "  '£11.05',\n",
       "  '£0.00',\n",
       "  'In stock (5 available)',\n",
       "  '0'],\n",
       " ['Classics',\n",
       "  '93379e3a2072a01b',\n",
       "  '£28.58',\n",
       "  '£28.58',\n",
       "  '£0.00',\n",
       "  'In stock (5 available)',\n",
       "  '0'],\n",
       " ['History',\n",
       "  '0d210d2448c3018f',\n",
       "  '£42.91',\n",
       "  '£42.91',\n",
       "  '£0.00',\n",
       "  'In stock (5 available)',\n",
       "  '0'],\n",
       " ['Fiction',\n",
       "  'dfd9ff1f343cdaff',\n",
       "  '£24.73',\n",
       "  '£24.73',\n",
       "  '£0.00',\n",
       "  'In stock (5 available)',\n",
       "  '0'],\n",
       " ['History',\n",
       "  'c4589ee5977a47be',\n",
       "  '£55.91',\n",
       "  '£55.91',\n",
       "  '£0.00',\n",
       "  'In stock (5 available)',\n",
       "  '0'],\n",
       " ['Science',\n",
       "  '3213b1f13f5f0f7c',\n",
       "  '£13.76',\n",
       "  '£13.76',\n",
       "  '£0.00',\n",
       "  'In stock (5 available)',\n",
       "  '0'],\n",
       " ['Fiction',\n",
       "  'ad84f18659e6bfe2',\n",
       "  '£45.56',\n",
       "  '£45.56',\n",
       "  '£0.00',\n",
       "  'In stock (5 available)',\n",
       "  '0'],\n",
       " ['Default',\n",
       "  '3661360c99719414',\n",
       "  '£47.22',\n",
       "  '£47.22',\n",
       "  '£0.00',\n",
       "  'In stock (5 available)',\n",
       "  '0'],\n",
       " ['Fantasy',\n",
       "  'a2a9f76339d21ab1',\n",
       "  '£56.00',\n",
       "  '£56.00',\n",
       "  '£0.00',\n",
       "  'In stock (5 available)',\n",
       "  '0'],\n",
       " ['Fiction',\n",
       "  'fe7210553d56c097',\n",
       "  '£44.58',\n",
       "  '£44.58',\n",
       "  '£0.00',\n",
       "  'In stock (5 available)',\n",
       "  '0'],\n",
       " ['Default',\n",
       "  'fec06f52054ea900',\n",
       "  '£34.50',\n",
       "  '£34.50',\n",
       "  '£0.00',\n",
       "  'In stock (5 available)',\n",
       "  '0'],\n",
       " ['Young Adult',\n",
       "  'c4182bdb53e2459a',\n",
       "  '£11.33',\n",
       "  '£11.33',\n",
       "  '£0.00',\n",
       "  'In stock (5 available)',\n",
       "  '0'],\n",
       " ['Poetry',\n",
       "  'b228042c088b1913',\n",
       "  '£38.77',\n",
       "  '£38.77',\n",
       "  '£0.00',\n",
       "  'In stock (5 available)',\n",
       "  '0'],\n",
       " ['Default',\n",
       "  'b716233fcb6877e6',\n",
       "  '£11.83',\n",
       "  '£11.83',\n",
       "  '£0.00',\n",
       "  'In stock (5 available)',\n",
       "  '0'],\n",
       " ['Fantasy',\n",
       "  '84126312e2431a09',\n",
       "  '£45.51',\n",
       "  '£45.51',\n",
       "  '£0.00',\n",
       "  'In stock (5 available)',\n",
       "  '0'],\n",
       " ['Young Adult',\n",
       "  '50d5a7b861ed1c54',\n",
       "  '£41.81',\n",
       "  '£41.81',\n",
       "  '£0.00',\n",
       "  'In stock (5 available)',\n",
       "  '0'],\n",
       " ['Nonfiction',\n",
       "  '1dba84766a5e87b8',\n",
       "  '£25.15',\n",
       "  '£25.15',\n",
       "  '£0.00',\n",
       "  'In stock (5 available)',\n",
       "  '0'],\n",
       " ['Fiction',\n",
       "  '84bb29c53592ac40',\n",
       "  '£34.22',\n",
       "  '£34.22',\n",
       "  '£0.00',\n",
       "  'In stock (5 available)',\n",
       "  '0'],\n",
       " ['Default',\n",
       "  '59a8ae019b64f2a7',\n",
       "  '£16.23',\n",
       "  '£16.23',\n",
       "  '£0.00',\n",
       "  'In stock (5 available)',\n",
       "  '0'],\n",
       " ['Default',\n",
       "  '2973d38c2fbd7a5c',\n",
       "  '£11.48',\n",
       "  '£11.48',\n",
       "  '£0.00',\n",
       "  'In stock (5 available)',\n",
       "  '0'],\n",
       " ['Horror',\n",
       "  'e958ae92f328c181',\n",
       "  '£23.37',\n",
       "  '£23.37',\n",
       "  '£0.00',\n",
       "  'In stock (5 available)',\n",
       "  '0'],\n",
       " ['Science',\n",
       "  '6036239d2ab349b7',\n",
       "  '£16.28',\n",
       "  '£16.28',\n",
       "  '£0.00',\n",
       "  'In stock (5 available)',\n",
       "  '0'],\n",
       " ['Nonfiction',\n",
       "  'a4ce39a3720cd679',\n",
       "  '£31.63',\n",
       "  '£31.63',\n",
       "  '£0.00',\n",
       "  'In stock (5 available)',\n",
       "  '0'],\n",
       " ['Food and Drink',\n",
       "  '12a90b90283b2e6d',\n",
       "  '£24.91',\n",
       "  '£24.91',\n",
       "  '£0.00',\n",
       "  'In stock (5 available)',\n",
       "  '0'],\n",
       " ['Childrens',\n",
       "  '81c68492ccd72941',\n",
       "  '£22.54',\n",
       "  '£22.54',\n",
       "  '£0.00',\n",
       "  'In stock (5 available)',\n",
       "  '0'],\n",
       " ['Young Adult',\n",
       "  '5e1a88d248599768',\n",
       "  '£23.63',\n",
       "  '£23.63',\n",
       "  '£0.00',\n",
       "  'In stock (5 available)',\n",
       "  '0'],\n",
       " ['Academic',\n",
       "  '7093cf549cd2e7de',\n",
       "  '£13.12',\n",
       "  '£13.12',\n",
       "  '£0.00',\n",
       "  'In stock (5 available)',\n",
       "  '0'],\n",
       " ['Fiction',\n",
       "  '07e6810fd3236bda',\n",
       "  '£59.98',\n",
       "  '£59.98',\n",
       "  '£0.00',\n",
       "  'In stock (5 available)',\n",
       "  '0'],\n",
       " ['Thriller',\n",
       "  '8dde2ff3f6fcc0a3',\n",
       "  '£31.49',\n",
       "  '£31.49',\n",
       "  '£0.00',\n",
       "  'In stock (5 available)',\n",
       "  '0'],\n",
       " ['Young Adult',\n",
       "  '44f545727e704187',\n",
       "  '£15.52',\n",
       "  '£15.52',\n",
       "  '£0.00',\n",
       "  'In stock (5 available)',\n",
       "  '0'],\n",
       " ['Young Adult',\n",
       "  '45045146dbf7b009',\n",
       "  '£48.13',\n",
       "  '£48.13',\n",
       "  '£0.00',\n",
       "  'In stock (5 available)',\n",
       "  '0'],\n",
       " ['Default',\n",
       "  '7284d85428305f5a',\n",
       "  '£38.13',\n",
       "  '£38.13',\n",
       "  '£0.00',\n",
       "  'In stock (5 available)',\n",
       "  '0'],\n",
       " ['Default',\n",
       "  'd219d4e325e6f204',\n",
       "  '£36.55',\n",
       "  '£36.55',\n",
       "  '£0.00',\n",
       "  'In stock (5 available)',\n",
       "  '0'],\n",
       " ['Default',\n",
       "  '6c49258724f11770',\n",
       "  '£23.32',\n",
       "  '£23.32',\n",
       "  '£0.00',\n",
       "  'In stock (5 available)',\n",
       "  '0'],\n",
       " ['Sequential Art',\n",
       "  '3fd83dcf37bf1bc0',\n",
       "  '£16.33',\n",
       "  '£16.33',\n",
       "  '£0.00',\n",
       "  'In stock (5 available)',\n",
       "  '0'],\n",
       " ['Science Fiction',\n",
       "  '3fc124f59f3068e4',\n",
       "  '£32.42',\n",
       "  '£32.42',\n",
       "  '£0.00',\n",
       "  'In stock (5 available)',\n",
       "  '0'],\n",
       " ['Default',\n",
       "  '630e766f0a1987dd',\n",
       "  '£16.96',\n",
       "  '£16.96',\n",
       "  '£0.00',\n",
       "  'In stock (5 available)',\n",
       "  '0'],\n",
       " ['Add a comment',\n",
       "  'b28c7d07afa7063b',\n",
       "  '£22.37',\n",
       "  '£22.37',\n",
       "  '£0.00',\n",
       "  'In stock (5 available)',\n",
       "  '0'],\n",
       " ['Add a comment',\n",
       "  '75cc85cdbe9ad46b',\n",
       "  '£42.27',\n",
       "  '£42.27',\n",
       "  '£0.00',\n",
       "  'In stock (5 available)',\n",
       "  '0'],\n",
       " ['Default',\n",
       "  'd5ad4c92d8bf26c9',\n",
       "  '£38.70',\n",
       "  '£38.70',\n",
       "  '£0.00',\n",
       "  'In stock (5 available)',\n",
       "  '0'],\n",
       " ['Horror',\n",
       "  'e46b1074b99ac4b6',\n",
       "  '£35.63',\n",
       "  '£35.63',\n",
       "  '£0.00',\n",
       "  'In stock (5 available)',\n",
       "  '0'],\n",
       " ['Fiction',\n",
       "  '94bb629a3f6dd00b',\n",
       "  '£58.00',\n",
       "  '£58.00',\n",
       "  '£0.00',\n",
       "  'In stock (5 available)',\n",
       "  '0'],\n",
       " ['Sequential Art',\n",
       "  '1c0a38899c82b60a',\n",
       "  '£52.41',\n",
       "  '£52.41',\n",
       "  '£0.00',\n",
       "  'In stock (5 available)',\n",
       "  '0'],\n",
       " ['Nonfiction',\n",
       "  'bcf567421c581f0a',\n",
       "  '£32.35',\n",
       "  '£32.35',\n",
       "  '£0.00',\n",
       "  'In stock (5 available)',\n",
       "  '0'],\n",
       " ['Philosophy',\n",
       "  '429b4a811bef386c',\n",
       "  '£20.75',\n",
       "  '£20.75',\n",
       "  '£0.00',\n",
       "  'In stock (5 available)',\n",
       "  '0'],\n",
       " ['Poetry',\n",
       "  'b54d7416bb445989',\n",
       "  '£17.49',\n",
       "  '£17.49',\n",
       "  '£0.00',\n",
       "  'In stock (5 available)',\n",
       "  '0'],\n",
       " ['Default',\n",
       "  'ad5e078beceaeb4a',\n",
       "  '£34.13',\n",
       "  '£34.13',\n",
       "  '£0.00',\n",
       "  'In stock (5 available)',\n",
       "  '0'],\n",
       " ['Autobiography',\n",
       "  '612369a5947a012e',\n",
       "  '£58.81',\n",
       "  '£58.81',\n",
       "  '£0.00',\n",
       "  'In stock (5 available)',\n",
       "  '0'],\n",
       " ['Young Adult',\n",
       "  'f36d24c309e87e5b',\n",
       "  '£10.00',\n",
       "  '£10.00',\n",
       "  '£0.00',\n",
       "  'In stock (5 available)',\n",
       "  '0'],\n",
       " ['History',\n",
       "  'add33db6ff80db24',\n",
       "  '£51.22',\n",
       "  '£51.22',\n",
       "  '£0.00',\n",
       "  'In stock (5 available)',\n",
       "  '0'],\n",
       " ['Default',\n",
       "  'd9290e99f189ce84',\n",
       "  '£58.59',\n",
       "  '£58.59',\n",
       "  '£0.00',\n",
       "  'In stock (5 available)',\n",
       "  '0'],\n",
       " ['Romance',\n",
       "  'cf3b86489890b9f2',\n",
       "  '£31.30',\n",
       "  '£31.30',\n",
       "  '£0.00',\n",
       "  'In stock (5 available)',\n",
       "  '0'],\n",
       " ['Add a comment',\n",
       "  '03cbb67c0f990d87',\n",
       "  '£46.42',\n",
       "  '£46.42',\n",
       "  '£0.00',\n",
       "  'In stock (5 available)',\n",
       "  '0'],\n",
       " ['Fantasy',\n",
       "  'f2c8f4b4c94d5c5c',\n",
       "  '£17.21',\n",
       "  '£17.21',\n",
       "  '£0.00',\n",
       "  'In stock (5 available)',\n",
       "  '0'],\n",
       " ['Add a comment',\n",
       "  '89a89e76f3516357',\n",
       "  '£10.79',\n",
       "  '£10.79',\n",
       "  '£0.00',\n",
       "  'In stock (5 available)',\n",
       "  '0'],\n",
       " ['Default',\n",
       "  'a8f4577a48023344',\n",
       "  '£52.35',\n",
       "  '£52.35',\n",
       "  '£0.00',\n",
       "  'In stock (4 available)',\n",
       "  '0'],\n",
       " ['Default',\n",
       "  'd4de23aa98acc65b',\n",
       "  '£27.88',\n",
       "  '£27.88',\n",
       "  '£0.00',\n",
       "  'In stock (4 available)',\n",
       "  '0'],\n",
       " ['Classics',\n",
       "  '6053ddf69c967d5f',\n",
       "  '£50.26',\n",
       "  '£50.26',\n",
       "  '£0.00',\n",
       "  'In stock (4 available)',\n",
       "  '0'],\n",
       " ['Romance',\n",
       "  '9cc207168a03470d',\n",
       "  '£59.99',\n",
       "  '£59.99',\n",
       "  '£0.00',\n",
       "  'In stock (4 available)',\n",
       "  '0'],\n",
       " ['Historical Fiction',\n",
       "  '011674f4a3834b8d',\n",
       "  '£28.32',\n",
       "  '£28.32',\n",
       "  '£0.00',\n",
       "  'In stock (4 available)',\n",
       "  '0'],\n",
       " ['Nonfiction',\n",
       "  '6a57286a8890d8c5',\n",
       "  '£38.71',\n",
       "  '£38.71',\n",
       "  '£0.00',\n",
       "  'In stock (4 available)',\n",
       "  '0'],\n",
       " ['Default',\n",
       "  '6d2f70d9424f41a1',\n",
       "  '£29.85',\n",
       "  '£29.85',\n",
       "  '£0.00',\n",
       "  'In stock (4 available)',\n",
       "  '0'],\n",
       " ['Classics',\n",
       "  '6587f46697fc4443',\n",
       "  '£14.82',\n",
       "  '£14.82',\n",
       "  '£0.00',\n",
       "  'In stock (4 available)',\n",
       "  '0'],\n",
       " ['Nonfiction',\n",
       "  '45033bdf3d9ed158',\n",
       "  '£16.81',\n",
       "  '£16.81',\n",
       "  '£0.00',\n",
       "  'In stock (4 available)',\n",
       "  '0'],\n",
       " ['Nonfiction',\n",
       "  'c65ee14957c0fa5c',\n",
       "  '£28.23',\n",
       "  '£28.23',\n",
       "  '£0.00',\n",
       "  'In stock (4 available)',\n",
       "  '0'],\n",
       " ['Fantasy',\n",
       "  'ff2dffba388d9922',\n",
       "  '£52.11',\n",
       "  '£52.11',\n",
       "  '£0.00',\n",
       "  'In stock (4 available)',\n",
       "  '0'],\n",
       " ['Sequential Art',\n",
       "  'df53c2948b32bde3',\n",
       "  '£27.88',\n",
       "  '£27.88',\n",
       "  '£0.00',\n",
       "  'In stock (4 available)',\n",
       "  '0'],\n",
       " ['Thriller',\n",
       "  '9c4d061c1e2fe6bf',\n",
       "  '£59.71',\n",
       "  '£59.71',\n",
       "  '£0.00',\n",
       "  'In stock (4 available)',\n",
       "  '0'],\n",
       " ['Fantasy',\n",
       "  '8930013d06942df1',\n",
       "  '£46.08',\n",
       "  '£46.08',\n",
       "  '£0.00',\n",
       "  'In stock (4 available)',\n",
       "  '0'],\n",
       " ['Womens Fiction',\n",
       "  '31f5bbf4974d29c9',\n",
       "  '£13.73',\n",
       "  '£13.73',\n",
       "  '£0.00',\n",
       "  'In stock (4 available)',\n",
       "  '0'],\n",
       " ['Womens Fiction',\n",
       "  '38199c5d7da0c0ef',\n",
       "  '£48.39',\n",
       "  '£48.39',\n",
       "  '£0.00',\n",
       "  'In stock (4 available)',\n",
       "  '0'],\n",
       " ['Fantasy',\n",
       "  'ae884ac655d6ee3e',\n",
       "  '£49.45',\n",
       "  '£49.45',\n",
       "  '£0.00',\n",
       "  'In stock (4 available)',\n",
       "  '0'],\n",
       " ['Default',\n",
       "  '5de4baa88061a77a',\n",
       "  '£19.67',\n",
       "  '£19.67',\n",
       "  '£0.00',\n",
       "  'In stock (4 available)',\n",
       "  '0'],\n",
       " ['Music',\n",
       "  '2ba5ccc84d35006c',\n",
       "  '£12.36',\n",
       "  '£12.36',\n",
       "  '£0.00',\n",
       "  'In stock (4 available)',\n",
       "  '0'],\n",
       " ['Music',\n",
       "  '3a95f5a2df4ff921',\n",
       "  '£20.02',\n",
       "  '£20.02',\n",
       "  '£0.00',\n",
       "  'In stock (4 available)',\n",
       "  '0'],\n",
       " ['Horror',\n",
       "  '869d20b3b8128230',\n",
       "  '£12.75',\n",
       "  '£12.75',\n",
       "  '£0.00',\n",
       "  'In stock (4 available)',\n",
       "  '0'],\n",
       " ['Horror',\n",
       "  '70b585c9d0f15725',\n",
       "  '£47.51',\n",
       "  '£47.51',\n",
       "  '£0.00',\n",
       "  'In stock (4 available)',\n",
       "  '0'],\n",
       " ['Default',\n",
       "  '5212c6acea3359e5',\n",
       "  '£20.44',\n",
       "  '£20.44',\n",
       "  '£0.00',\n",
       "  'In stock (4 available)',\n",
       "  '0'],\n",
       " ['Horror',\n",
       "  '81d4191030b9704b',\n",
       "  '£34.79',\n",
       "  '£34.79',\n",
       "  '£0.00',\n",
       "  'In stock (4 available)',\n",
       "  '0'],\n",
       " ['Classics',\n",
       "  'deda806b68b0aa11',\n",
       "  '£28.07',\n",
       "  '£28.07',\n",
       "  '£0.00',\n",
       "  'In stock (4 available)',\n",
       "  '0'],\n",
       " ['Horror',\n",
       "  '670a2773607d785d',\n",
       "  '£25.01',\n",
       "  '£25.01',\n",
       "  '£0.00',\n",
       "  'In stock (4 available)',\n",
       "  '0'],\n",
       " ['Default',\n",
       "  'ac337893a9fe0085',\n",
       "  '£13.90',\n",
       "  '£13.90',\n",
       "  '£0.00',\n",
       "  'In stock (4 available)',\n",
       "  '0'],\n",
       " ['Young Adult',\n",
       "  'eff24325e0ede639',\n",
       "  '£24.17',\n",
       "  '£24.17',\n",
       "  '£0.00',\n",
       "  'In stock (4 available)',\n",
       "  '0'],\n",
       " ['Fantasy',\n",
       "  '5a6b7155f2797537',\n",
       "  '£31.63',\n",
       "  '£31.63',\n",
       "  '£0.00',\n",
       "  'In stock (4 available)',\n",
       "  '0'],\n",
       " ['Fantasy',\n",
       "  '73f4f87dd936ee5c',\n",
       "  '£48.75',\n",
       "  '£48.75',\n",
       "  '£0.00',\n",
       "  'In stock (4 available)',\n",
       "  '0'],\n",
       " ['Fantasy',\n",
       "  'c7c4f55b7321cba7',\n",
       "  '£14.74',\n",
       "  '£14.74',\n",
       "  '£0.00',\n",
       "  'In stock (4 available)',\n",
       "  '0'],\n",
       " ['Classics',\n",
       "  '23310ce84d3c9f85',\n",
       "  '£32.49',\n",
       "  '£32.49',\n",
       "  '£0.00',\n",
       "  'In stock (4 available)',\n",
       "  '0'],\n",
       " ['Nonfiction',\n",
       "  'ddbc5530d2939d49',\n",
       "  '£27.80',\n",
       "  '£27.80',\n",
       "  '£0.00',\n",
       "  'In stock (4 available)',\n",
       "  '0'],\n",
       " ['Historical Fiction',\n",
       "  '5eff05e59f905a49',\n",
       "  '£26.77',\n",
       "  '£26.77',\n",
       "  '£0.00',\n",
       "  'In stock (4 available)',\n",
       "  '0'],\n",
       " ['Sequential Art',\n",
       "  '8fff1084aa085a13',\n",
       "  '£50.44',\n",
       "  '£50.44',\n",
       "  '£0.00',\n",
       "  'In stock (4 available)',\n",
       "  '0'],\n",
       " ['Thriller',\n",
       "  'ad15a9a139919918',\n",
       "  '£34.93',\n",
       "  '£34.93',\n",
       "  '£0.00',\n",
       "  'In stock (4 available)',\n",
       "  '0'],\n",
       " ['Romance',\n",
       "  '2b69d289279aabfd',\n",
       "  '£12.87',\n",
       "  '£12.87',\n",
       "  '£0.00',\n",
       "  'In stock (4 available)',\n",
       "  '0'],\n",
       " ['Default',\n",
       "  'a2dc754afb69bb32',\n",
       "  '£48.94',\n",
       "  '£48.94',\n",
       "  '£0.00',\n",
       "  'In stock (4 available)',\n",
       "  '0'],\n",
       " ['Romance',\n",
       "  'aaebac5fda798b1b',\n",
       "  '£13.38',\n",
       "  '£13.38',\n",
       "  '£0.00',\n",
       "  'In stock (4 available)',\n",
       "  '0'],\n",
       " ['Classics',\n",
       "  '2798974abc8a58a8',\n",
       "  '£58.63',\n",
       "  '£58.63',\n",
       "  '£0.00',\n",
       "  'In stock (4 available)',\n",
       "  '0'],\n",
       " ['Womens Fiction',\n",
       "  '0812f54c93d726ce',\n",
       "  '£21.94',\n",
       "  '£21.94',\n",
       "  '£0.00',\n",
       "  'In stock (4 available)',\n",
       "  '0'],\n",
       " ['Fiction',\n",
       "  '78a4ac98191ac675',\n",
       "  '£26.58',\n",
       "  '£26.58',\n",
       "  '£0.00',\n",
       "  'In stock (4 available)',\n",
       "  '0'],\n",
       " ['Classics',\n",
       "  '1451b55e5e56bb89',\n",
       "  '£57.22',\n",
       "  '£57.22',\n",
       "  '£0.00',\n",
       "  'In stock (4 available)',\n",
       "  '0'],\n",
       " ['Romance',\n",
       "  'aead11697d14ea36',\n",
       "  '£56.43',\n",
       "  '£56.43',\n",
       "  '£0.00',\n",
       "  'In stock (4 available)',\n",
       "  '0'],\n",
       " ['Spirituality',\n",
       "  'f6ae39568db1130e',\n",
       "  '£55.65',\n",
       "  '£55.65',\n",
       "  '£0.00',\n",
       "  'In stock (4 available)',\n",
       "  '0'],\n",
       " ['Religion',\n",
       "  'd12ca4020c2f602e',\n",
       "  '£27.62',\n",
       "  '£27.62',\n",
       "  '£0.00',\n",
       "  'In stock (4 available)',\n",
       "  '0'],\n",
       " ['Horror',\n",
       "  '6e9403f00acd6752',\n",
       "  '£49.56',\n",
       "  '£49.56',\n",
       "  '£0.00',\n",
       "  'In stock (4 available)',\n",
       "  '0'],\n",
       " ['Default',\n",
       "  '634b7165c96ebb9f',\n",
       "  '£34.77',\n",
       "  '£34.77',\n",
       "  '£0.00',\n",
       "  'In stock (3 available)',\n",
       "  '0'],\n",
       " ['Classics',\n",
       "  '5a7ff9aaa3168878',\n",
       "  '£17.73',\n",
       "  '£17.73',\n",
       "  '£0.00',\n",
       "  'In stock (3 available)',\n",
       "  '0'],\n",
       " ['Default',\n",
       "  '5d55202da0252627',\n",
       "  '£21.80',\n",
       "  '£21.80',\n",
       "  '£0.00',\n",
       "  'In stock (3 available)',\n",
       "  '0'],\n",
       " ['Default',\n",
       "  'd30b9215c72cca87',\n",
       "  '£46.02',\n",
       "  '£46.02',\n",
       "  '£0.00',\n",
       "  'In stock (3 available)',\n",
       "  '0'],\n",
       " ['Default',\n",
       "  '07bb35158d9dd3d2',\n",
       "  '£18.13',\n",
       "  '£18.13',\n",
       "  '£0.00',\n",
       "  'In stock (3 available)',\n",
       "  '0'],\n",
       " ['Humor',\n",
       "  'dab0196cd5fc8e5e',\n",
       "  '£30.89',\n",
       "  '£30.89',\n",
       "  '£0.00',\n",
       "  'In stock (3 available)',\n",
       "  '0'],\n",
       " ['Nonfiction',\n",
       "  '06bab964fd536971',\n",
       "  '£31.95',\n",
       "  '£31.95',\n",
       "  '£0.00',\n",
       "  'In stock (3 available)',\n",
       "  '0'],\n",
       " ['Contemporary',\n",
       "  'be3db344a845580b',\n",
       "  '£24.04',\n",
       "  '£24.04',\n",
       "  '£0.00',\n",
       "  'In stock (3 available)',\n",
       "  '0'],\n",
       " ['Young Adult',\n",
       "  '0e4e2d31c2fb3aad',\n",
       "  '£32.36',\n",
       "  '£32.36',\n",
       "  '£0.00',\n",
       "  'In stock (3 available)',\n",
       "  '0'],\n",
       " ['Historical Fiction',\n",
       "  '7feac4000cbc5859',\n",
       "  '£21.07',\n",
       "  '£21.07',\n",
       "  '£0.00',\n",
       "  'In stock (3 available)',\n",
       "  '0'],\n",
       " ['Nonfiction',\n",
       "  '52aa3d79b1cee455',\n",
       "  '£50.66',\n",
       "  '£50.66',\n",
       "  '£0.00',\n",
       "  'In stock (3 available)',\n",
       "  '0'],\n",
       " ['Food and Drink',\n",
       "  '4672d10b9b1e7a05',\n",
       "  '£13.66',\n",
       "  '£13.66',\n",
       "  '£0.00',\n",
       "  'In stock (3 available)',\n",
       "  '0'],\n",
       " ['Nonfiction',\n",
       "  'b830685072fa871f',\n",
       "  '£58.09',\n",
       "  '£58.09',\n",
       "  '£0.00',\n",
       "  'In stock (3 available)',\n",
       "  '0'],\n",
       " ['Nonfiction',\n",
       "  '599a4f98bb193368',\n",
       "  '£30.00',\n",
       "  '£30.00',\n",
       "  '£0.00',\n",
       "  'In stock (3 available)',\n",
       "  '0'],\n",
       " ['Young Adult',\n",
       "  '61bc8167c9680283',\n",
       "  '£32.74',\n",
       "  '£32.74',\n",
       "  '£0.00',\n",
       "  'In stock (3 available)',\n",
       "  '0'],\n",
       " ['Default',\n",
       "  'b53078de0147f6bf',\n",
       "  '£41.93',\n",
       "  '£41.93',\n",
       "  '£0.00',\n",
       "  'In stock (3 available)',\n",
       "  '0'],\n",
       " ['Womens Fiction',\n",
       "  '8ebad30219b8679c',\n",
       "  '£42.80',\n",
       "  '£42.80',\n",
       "  '£0.00',\n",
       "  'In stock (3 available)',\n",
       "  '0'],\n",
       " ['Nonfiction',\n",
       "  '2173a2ce35f6ace1',\n",
       "  '£53.51',\n",
       "  '£53.51',\n",
       "  '£0.00',\n",
       "  'In stock (3 available)',\n",
       "  '0'],\n",
       " ['Fiction',\n",
       "  '57f755143ee96fd4',\n",
       "  '£23.21',\n",
       "  '£23.21',\n",
       "  '£0.00',\n",
       "  'In stock (3 available)',\n",
       "  '0'],\n",
       " ['Psychology',\n",
       "  '719d72f3ee512dc6',\n",
       "  '£21.14',\n",
       "  '£21.14',\n",
       "  '£0.00',\n",
       "  'In stock (3 available)',\n",
       "  '0'],\n",
       " ['Childrens',\n",
       "  '75fed6a47f69859d',\n",
       "  '£56.07',\n",
       "  '£56.07',\n",
       "  '£0.00',\n",
       "  'In stock (3 available)',\n",
       "  '0'],\n",
       " ['Sequential Art',\n",
       "  'a33ed2e6068df53e',\n",
       "  '£14.41',\n",
       "  '£14.41',\n",
       "  '£0.00',\n",
       "  'In stock (3 available)',\n",
       "  '0'],\n",
       " ['Womens Fiction',\n",
       "  '813cff2aefa5d1f0',\n",
       "  '£45.75',\n",
       "  '£45.75',\n",
       "  '£0.00',\n",
       "  'In stock (3 available)',\n",
       "  '0'],\n",
       " ['Thriller',\n",
       "  '2b685187f55c5d31',\n",
       "  '£15.77',\n",
       "  '£15.77',\n",
       "  '£0.00',\n",
       "  'In stock (3 available)',\n",
       "  '0'],\n",
       " ['Add a comment',\n",
       "  '224fa77d4b248046',\n",
       "  '£10.02',\n",
       "  '£10.02',\n",
       "  '£0.00',\n",
       "  'In stock (3 available)',\n",
       "  '0'],\n",
       " ['Childrens',\n",
       "  '3d15714d4d3d15dd',\n",
       "  '£48.77',\n",
       "  '£48.77',\n",
       "  '£0.00',\n",
       "  'In stock (3 available)',\n",
       "  '0'],\n",
       " ['Horror',\n",
       "  '49f24193f0b961e6',\n",
       "  '£57.86',\n",
       "  '£57.86',\n",
       "  '£0.00',\n",
       "  'In stock (3 available)',\n",
       "  '0'],\n",
       " ['Food and Drink',\n",
       "  '742702d662a71410',\n",
       "  '£23.59',\n",
       "  '£23.59',\n",
       "  '£0.00',\n",
       "  'In stock (3 available)',\n",
       "  '0'],\n",
       " ['Mystery',\n",
       "  'f06039c29b5891fa',\n",
       "  '£23.05',\n",
       "  '£23.05',\n",
       "  '£0.00',\n",
       "  'In stock (3 available)',\n",
       "  '0'],\n",
       " ['Sequential Art',\n",
       "  '91eb9605998a7c03',\n",
       "  '£55.55',\n",
       "  '£55.55',\n",
       "  '£0.00',\n",
       "  'In stock (3 available)',\n",
       "  '0'],\n",
       " ['Fantasy',\n",
       "  '322a9e34d87f54b1',\n",
       "  '£58.64',\n",
       "  '£58.64',\n",
       "  '£0.00',\n",
       "  'In stock (3 available)',\n",
       "  '0'],\n",
       " ['Travel',\n",
       "  '366a236aa1ea6f07',\n",
       "  '£23.21',\n",
       "  '£23.21',\n",
       "  '£0.00',\n",
       "  'In stock (3 available)',\n",
       "  '0'],\n",
       " ['Biography',\n",
       "  '1a5044d233936b1a',\n",
       "  '£42.57',\n",
       "  '£42.57',\n",
       "  '£0.00',\n",
       "  'In stock (3 available)',\n",
       "  '0'],\n",
       " ['Science Fiction',\n",
       "  '0e92ccf1bd39e68f',\n",
       "  '£10.92',\n",
       "  '£10.92',\n",
       "  '£0.00',\n",
       "  'In stock (3 available)',\n",
       "  '0'],\n",
       " ['Add a comment',\n",
       "  'e2d47e82c50d41d9',\n",
       "  '£34.77',\n",
       "  '£34.77',\n",
       "  '£0.00',\n",
       "  'In stock (3 available)',\n",
       "  '0'],\n",
       " ['Historical Fiction',\n",
       "  '3c456328b04a8ee8',\n",
       "  '£35.66',\n",
       "  '£35.66',\n",
       "  '£0.00',\n",
       "  'In stock (3 available)',\n",
       "  '0'],\n",
       " ['Add a comment',\n",
       "  '0e7beedf0ee9380c',\n",
       "  '£37.19',\n",
       "  '£37.19',\n",
       "  '£0.00',\n",
       "  'In stock (3 available)',\n",
       "  '0'],\n",
       " ['Romance',\n",
       "  '969f6c7e86554814',\n",
       "  '£12.25',\n",
       "  '£12.25',\n",
       "  '£0.00',\n",
       "  'In stock (3 available)',\n",
       "  '0'],\n",
       " ['Classics',\n",
       "  'b9f6305a3d650e2c',\n",
       "  '£29.70',\n",
       "  '£29.70',\n",
       "  '£0.00',\n",
       "  'In stock (3 available)',\n",
       "  '0'],\n",
       " ['Default',\n",
       "  'fa26798728f5208f',\n",
       "  '£36.80',\n",
       "  '£36.80',\n",
       "  '£0.00',\n",
       "  'In stock (3 available)',\n",
       "  '0'],\n",
       " ['Romance',\n",
       "  'ee441c8e027caa66',\n",
       "  '£45.43',\n",
       "  '£45.43',\n",
       "  '£0.00',\n",
       "  'In stock (3 available)',\n",
       "  '0'],\n",
       " ['Fiction',\n",
       "  '29d6d87f3418638b',\n",
       "  '£26.26',\n",
       "  '£26.26',\n",
       "  '£0.00',\n",
       "  'In stock (3 available)',\n",
       "  '0'],\n",
       " ['Young Adult',\n",
       "  '3e42ac0f4d43320f',\n",
       "  '£44.92',\n",
       "  '£44.92',\n",
       "  '£0.00',\n",
       "  'In stock (3 available)',\n",
       "  '0'],\n",
       " ['Womens Fiction',\n",
       "  '6263c1d2997b8ce0',\n",
       "  '£52.53',\n",
       "  '£52.53',\n",
       "  '£0.00',\n",
       "  'In stock (3 available)',\n",
       "  '0'],\n",
       " ['Nonfiction',\n",
       "  '0baf71623648413a',\n",
       "  '£37.25',\n",
       "  '£37.25',\n",
       "  '£0.00',\n",
       "  'In stock (3 available)',\n",
       "  '0'],\n",
       " ['Default',\n",
       "  '4266f48a0aa1c37d',\n",
       "  '£20.93',\n",
       "  '£20.93',\n",
       "  '£0.00',\n",
       "  'In stock (3 available)',\n",
       "  '0'],\n",
       " ['Default',\n",
       "  '36c15687f5ab0f7c',\n",
       "  '£58.09',\n",
       "  '£58.09',\n",
       "  '£0.00',\n",
       "  'In stock (3 available)',\n",
       "  '0'],\n",
       " ['Childrens',\n",
       "  'cf2f27fdf94ba20e',\n",
       "  '£43.59',\n",
       "  '£43.59',\n",
       "  '£0.00',\n",
       "  'In stock (3 available)',\n",
       "  '0'],\n",
       " ['Business',\n",
       "  '70c7c3ca7f9b2728',\n",
       "  '£33.92',\n",
       "  '£33.92',\n",
       "  '£0.00',\n",
       "  'In stock (3 available)',\n",
       "  '0'],\n",
       " ['Historical Fiction',\n",
       "  '476c7972e9b41891',\n",
       "  '£55.55',\n",
       "  '£55.55',\n",
       "  '£0.00',\n",
       "  'In stock (3 available)',\n",
       "  '0'],\n",
       " ['Young Adult',\n",
       "  '35e69a79d2b1e804',\n",
       "  '£29.64',\n",
       "  '£29.64',\n",
       "  '£0.00',\n",
       "  'In stock (3 available)',\n",
       "  '0'],\n",
       " ['Fiction',\n",
       "  '554e9e2d532b3a87',\n",
       "  '£27.41',\n",
       "  '£27.41',\n",
       "  '£0.00',\n",
       "  'In stock (3 available)',\n",
       "  '0'],\n",
       " ['Fiction',\n",
       "  'ff6bb30dd0c482a6',\n",
       "  '£52.51',\n",
       "  '£52.51',\n",
       "  '£0.00',\n",
       "  'In stock (3 available)',\n",
       "  '0'],\n",
       " ['Add a comment',\n",
       "  'a8b0ea6490bc818f',\n",
       "  '£47.80',\n",
       "  '£47.80',\n",
       "  '£0.00',\n",
       "  'In stock (3 available)',\n",
       "  '0'],\n",
       " ['History',\n",
       "  'b5da59dd177eb36b',\n",
       "  '£14.54',\n",
       "  '£14.54',\n",
       "  '£0.00',\n",
       "  'In stock (3 available)',\n",
       "  '0'],\n",
       " ['Historical Fiction',\n",
       "  '4a0a276409968a73',\n",
       "  '£49.53',\n",
       "  '£49.53',\n",
       "  '£0.00',\n",
       "  'In stock (3 available)',\n",
       "  '0'],\n",
       " ['Default',\n",
       "  'c88422d8959260ab',\n",
       "  '£43.58',\n",
       "  '£43.58',\n",
       "  '£0.00',\n",
       "  'In stock (3 available)',\n",
       "  '0'],\n",
       " ['Default',\n",
       "  'e2dac1f4739e0bd5',\n",
       "  '£12.30',\n",
       "  '£12.30',\n",
       "  '£0.00',\n",
       "  'In stock (3 available)',\n",
       "  '0'],\n",
       " ['Horror',\n",
       "  '92dcc54a27107a37',\n",
       "  '£49.47',\n",
       "  '£49.47',\n",
       "  '£0.00',\n",
       "  'In stock (3 available)',\n",
       "  '0'],\n",
       " ['Default',\n",
       "  'bfa9cb304075d3e8',\n",
       "  '£22.14',\n",
       "  '£22.14',\n",
       "  '£0.00',\n",
       "  'In stock (3 available)',\n",
       "  '0'],\n",
       " ['Add a comment',\n",
       "  '8f5d16a5a9bd58b2',\n",
       "  '£57.48',\n",
       "  '£57.48',\n",
       "  '£0.00',\n",
       "  'In stock (3 available)',\n",
       "  '0'],\n",
       " ['Mystery',\n",
       "  'dd003e904727281a',\n",
       "  '£43.45',\n",
       "  '£43.45',\n",
       "  '£0.00',\n",
       "  'In stock (3 available)',\n",
       "  '0'],\n",
       " ['Add a comment',\n",
       "  'b3f2bc2cefb35f05',\n",
       "  '£22.13',\n",
       "  '£22.13',\n",
       "  '£0.00',\n",
       "  'In stock (3 available)',\n",
       "  '0'],\n",
       " ['Science',\n",
       "  'c6bf14cb901c63ac',\n",
       "  '£13.03',\n",
       "  '£13.03',\n",
       "  '£0.00',\n",
       "  'In stock (3 available)',\n",
       "  '0'],\n",
       " ['Science',\n",
       "  '63c0826ef59eae66',\n",
       "  '£57.35',\n",
       "  '£57.35',\n",
       "  '£0.00',\n",
       "  'In stock (3 available)',\n",
       "  '0'],\n",
       " ['Womens Fiction',\n",
       "  'a6ab0cb7106a67f2',\n",
       "  '£44.29',\n",
       "  '£44.29',\n",
       "  '£0.00',\n",
       "  'In stock (3 available)',\n",
       "  '0'],\n",
       " ['Default',\n",
       "  'f51062bf579507d9',\n",
       "  '£52.25',\n",
       "  '£52.25',\n",
       "  '£0.00',\n",
       "  'In stock (3 available)',\n",
       "  '0'],\n",
       " ['Childrens',\n",
       "  'b22362b434e8ee62',\n",
       "  '£26.33',\n",
       "  '£26.33',\n",
       "  '£0.00',\n",
       "  'In stock (3 available)',\n",
       "  '0'],\n",
       " ['Fiction',\n",
       "  'dabf11918b48b40c',\n",
       "  '£22.96',\n",
       "  '£22.96',\n",
       "  '£0.00',\n",
       "  'In stock (3 available)',\n",
       "  '0'],\n",
       " ['Mystery',\n",
       "  '1be6d3b121865edb',\n",
       "  '£19.21',\n",
       "  '£19.21',\n",
       "  '£0.00',\n",
       "  'In stock (3 available)',\n",
       "  '0'],\n",
       " ['Classics',\n",
       "  'cad70d6ffd53912f',\n",
       "  '£26.78',\n",
       "  '£26.78',\n",
       "  '£0.00',\n",
       "  'In stock (3 available)',\n",
       "  '0'],\n",
       " ['Add a comment',\n",
       "  '23707d3ddf14a999',\n",
       "  '£41.32',\n",
       "  '£41.32',\n",
       "  '£0.00',\n",
       "  'In stock (3 available)',\n",
       "  '0'],\n",
       " ['Add a comment',\n",
       "  '487449f4f6322f0f',\n",
       "  '£24.55',\n",
       "  '£24.55',\n",
       "  '£0.00',\n",
       "  'In stock (3 available)',\n",
       "  '0'],\n",
       " ['Childrens',\n",
       "  'b7f475238ed50429',\n",
       "  '£16.26',\n",
       "  '£16.26',\n",
       "  '£0.00',\n",
       "  'In stock (3 available)',\n",
       "  '0'],\n",
       " ['Add a comment',\n",
       "  '970bd3316219e7dc',\n",
       "  '£47.84',\n",
       "  '£47.84',\n",
       "  '£0.00',\n",
       "  'In stock (3 available)',\n",
       "  '0'],\n",
       " ['Default',\n",
       "  'a75e274c8814b539',\n",
       "  '£53.49',\n",
       "  '£53.49',\n",
       "  '£0.00',\n",
       "  'In stock (3 available)',\n",
       "  '0'],\n",
       " ['Sports and Games',\n",
       "  '08decd9664e5d56e',\n",
       "  '£44.84',\n",
       "  '£44.84',\n",
       "  '£0.00',\n",
       "  'In stock (3 available)',\n",
       "  '0'],\n",
       " ['Add a comment',\n",
       "  'cd3dcd83bb002e78',\n",
       "  '£53.71',\n",
       "  '£53.71',\n",
       "  '£0.00',\n",
       "  'In stock (3 available)',\n",
       "  '0'],\n",
       " ['Default',\n",
       "  'b04a6a0db525857d',\n",
       "  '£23.43',\n",
       "  '£23.43',\n",
       "  '£0.00',\n",
       "  'In stock (3 available)',\n",
       "  '0'],\n",
       " ['Food and Drink',\n",
       "  '311634df10651e05',\n",
       "  '£34.32',\n",
       "  '£34.32',\n",
       "  '£0.00',\n",
       "  'In stock (3 available)',\n",
       "  '0'],\n",
       " ['Fiction',\n",
       "  '2858ac90c4758e1f',\n",
       "  '£22.10',\n",
       "  '£22.10',\n",
       "  '£0.00',\n",
       "  'In stock (3 available)',\n",
       "  '0'],\n",
       " ['Science',\n",
       "  '61002f3b7ba5d780',\n",
       "  '£25.83',\n",
       "  '£25.83',\n",
       "  '£0.00',\n",
       "  'In stock (3 available)',\n",
       "  '0'],\n",
       " ['Nonfiction',\n",
       "  'a11ae5f07572ef49',\n",
       "  '£36.74',\n",
       "  '£36.74',\n",
       "  '£0.00',\n",
       "  'In stock (3 available)',\n",
       "  '0'],\n",
       " ['Nonfiction',\n",
       "  'f08667e4c0458f37',\n",
       "  '£49.51',\n",
       "  '£49.51',\n",
       "  '£0.00',\n",
       "  'In stock (3 available)',\n",
       "  '0'],\n",
       " ['Womens Fiction',\n",
       "  'ac27ab4bcd9c492e',\n",
       "  '£48.96',\n",
       "  '£48.96',\n",
       "  '£0.00',\n",
       "  'In stock (3 available)',\n",
       "  '0'],\n",
       " ['Womens Fiction',\n",
       "  '3fc9d51d1c4d6ba7',\n",
       "  '£54.62',\n",
       "  '£54.62',\n",
       "  '£0.00',\n",
       "  'In stock (3 available)',\n",
       "  '0'],\n",
       " ['Fantasy',\n",
       "  'feaaae90514eb2ac',\n",
       "  '£24.72',\n",
       "  '£24.72',\n",
       "  '£0.00',\n",
       "  'In stock (3 available)',\n",
       "  '0'],\n",
       " ['Default',\n",
       "  'c57d3c96af23c297',\n",
       "  '£46.45',\n",
       "  '£46.45',\n",
       "  '£0.00',\n",
       "  'In stock (3 available)',\n",
       "  '0'],\n",
       " ['Add a comment',\n",
       "  '07806456878931bc',\n",
       "  '£52.33',\n",
       "  '£52.33',\n",
       "  '£0.00',\n",
       "  'In stock (3 available)',\n",
       "  '0'],\n",
       " ['Science',\n",
       "  '281a244ce1954711',\n",
       "  '£30.60',\n",
       "  '£30.60',\n",
       "  '£0.00',\n",
       "  'In stock (3 available)',\n",
       "  '0'],\n",
       " ['Young Adult',\n",
       "  '510832818edb6fbc',\n",
       "  '£14.57',\n",
       "  '£14.57',\n",
       "  '£0.00',\n",
       "  'In stock (3 available)',\n",
       "  '0'],\n",
       " ['Add a comment',\n",
       "  '5b2cd5b31a510848',\n",
       "  '£46.29',\n",
       "  '£46.29',\n",
       "  '£0.00',\n",
       "  'In stock (3 available)',\n",
       "  '0'],\n",
       " ['Sequential Art',\n",
       "  '7b870bf85d01c2dc',\n",
       "  '£21.57',\n",
       "  '£21.57',\n",
       "  '£0.00',\n",
       "  'In stock (3 available)',\n",
       "  '0'],\n",
       " ['Autobiography',\n",
       "  '28921443f052bea6',\n",
       "  '£12.91',\n",
       "  '£12.91',\n",
       "  '£0.00',\n",
       "  'In stock (3 available)',\n",
       "  '0'],\n",
       " ['Add a comment',\n",
       "  'b4f5672f68ec3a83',\n",
       "  '£50.11',\n",
       "  '£50.11',\n",
       "  '£0.00',\n",
       "  'In stock (3 available)',\n",
       "  '0'],\n",
       " ['Nonfiction',\n",
       "  '89cad3f37c9ce226',\n",
       "  '£41.67',\n",
       "  '£41.67',\n",
       "  '£0.00',\n",
       "  'In stock (3 available)',\n",
       "  '0'],\n",
       " ['Business',\n",
       "  '8e9dd8431170c09e',\n",
       "  '£44.88',\n",
       "  '£44.88',\n",
       "  '£0.00',\n",
       "  'In stock (3 available)',\n",
       "  '0'],\n",
       " ['Romance',\n",
       "  'ecdf73ee66c33b17',\n",
       "  '£11.10',\n",
       "  '£11.10',\n",
       "  '£0.00',\n",
       "  'In stock (3 available)',\n",
       "  '0'],\n",
       " ['Childrens',\n",
       "  '4c8ece50736f9e88',\n",
       "  '£28.54',\n",
       "  '£28.54',\n",
       "  '£0.00',\n",
       "  'In stock (3 available)',\n",
       "  '0'],\n",
       " ['Science Fiction',\n",
       "  '2ef5dc7e278e562a',\n",
       "  '£19.07',\n",
       "  '£19.07',\n",
       "  '£0.00',\n",
       "  'In stock (3 available)',\n",
       "  '0'],\n",
       " ['Default',\n",
       "  '3c565df219ba3274',\n",
       "  '£43.55',\n",
       "  '£43.55',\n",
       "  '£0.00',\n",
       "  'In stock (3 available)',\n",
       "  '0'],\n",
       " ['Sequential Art',\n",
       "  '9707989a439757b4',\n",
       "  '£43.63',\n",
       "  '£43.63',\n",
       "  '£0.00',\n",
       "  'In stock (3 available)',\n",
       "  '0'],\n",
       " ['Sequential Art',\n",
       "  'cb62418129b864a3',\n",
       "  '£39.13',\n",
       "  '£39.13',\n",
       "  '£0.00',\n",
       "  'In stock (3 available)',\n",
       "  '0'],\n",
       " ['Default',\n",
       "  '8e2dfd6bcf48e1e6',\n",
       "  '£56.68',\n",
       "  '£56.68',\n",
       "  '£0.00',\n",
       "  'In stock (3 available)',\n",
       "  '0'],\n",
       " ['Nonfiction',\n",
       "  '09a7b0b566ad6225',\n",
       "  '£14.16',\n",
       "  '£14.16',\n",
       "  '£0.00',\n",
       "  'In stock (3 available)',\n",
       "  '0'],\n",
       " ['Sequential Art',\n",
       "  'c59283b05905c853',\n",
       "  '£31.45',\n",
       "  '£31.45',\n",
       "  '£0.00',\n",
       "  'In stock (3 available)',\n",
       "  '0'],\n",
       " ['Default',\n",
       "  '8378c899988905ee',\n",
       "  '£24.61',\n",
       "  '£24.61',\n",
       "  '£0.00',\n",
       "  'In stock (3 available)',\n",
       "  '0'],\n",
       " ['Default',\n",
       "  '3250650a5c4e6f07',\n",
       "  '£32.87',\n",
       "  '£32.87',\n",
       "  '£0.00',\n",
       "  'In stock (3 available)',\n",
       "  '0'],\n",
       " ['Nonfiction',\n",
       "  'cb65e49993db9a93',\n",
       "  '£40.17',\n",
       "  '£40.17',\n",
       "  '£0.00',\n",
       "  'In stock (3 available)',\n",
       "  '0'],\n",
       " ['Nonfiction',\n",
       "  'c4d9fce9eff3b8ba',\n",
       "  '£13.51',\n",
       "  '£13.51',\n",
       "  '£0.00',\n",
       "  'In stock (3 available)',\n",
       "  '0'],\n",
       " ['Travel',\n",
       "  '747cf7fca2ccdbd4',\n",
       "  '£38.95',\n",
       "  '£38.95',\n",
       "  '£0.00',\n",
       "  'In stock (3 available)',\n",
       "  '0'],\n",
       " ['Humor',\n",
       "  '54aeeb4610d3ae08',\n",
       "  '£31.69',\n",
       "  '£31.69',\n",
       "  '£0.00',\n",
       "  'In stock (3 available)',\n",
       "  '0'],\n",
       " ['Default',\n",
       "  '7ce5a92baabb6bc0',\n",
       "  '£29.40',\n",
       "  '£29.40',\n",
       "  '£0.00',\n",
       "  'In stock (3 available)',\n",
       "  '0'],\n",
       " ['Nonfiction',\n",
       "  '7980fa06f2b704d8',\n",
       "  '£57.83',\n",
       "  '£57.83',\n",
       "  '£0.00',\n",
       "  'In stock (3 available)',\n",
       "  '0'],\n",
       " ['Fantasy',\n",
       "  'e9056f9b5a40a301',\n",
       "  '£55.46',\n",
       "  '£55.46',\n",
       "  '£0.00',\n",
       "  'In stock (3 available)',\n",
       "  '0'],\n",
       " ['Autobiography',\n",
       "  'abc4a7ee16c21088',\n",
       "  '£57.60',\n",
       "  '£57.60',\n",
       "  '£0.00',\n",
       "  'In stock (3 available)',\n",
       "  '0'],\n",
       " ['Add a comment',\n",
       "  '546da23278482b0a',\n",
       "  '£34.98',\n",
       "  '£34.98',\n",
       "  '£0.00',\n",
       "  'In stock (3 available)',\n",
       "  '0'],\n",
       " ['Autobiography',\n",
       "  '0dcadb06206abd3c',\n",
       "  '£11.87',\n",
       "  '£11.87',\n",
       "  '£0.00',\n",
       "  'In stock (3 available)',\n",
       "  '0'],\n",
       " ['Fiction',\n",
       "  '4ef75307fb64e2ad',\n",
       "  '£12.47',\n",
       "  '£12.47',\n",
       "  '£0.00',\n",
       "  'In stock (3 available)',\n",
       "  '0'],\n",
       " ['Science Fiction',\n",
       "  '4b3f4f151c99f472',\n",
       "  '£33.26',\n",
       "  '£33.26',\n",
       "  '£0.00',\n",
       "  'In stock (3 available)',\n",
       "  '0'],\n",
       " ['Autobiography',\n",
       "  'c53d9fefcda371e9',\n",
       "  '£59.04',\n",
       "  '£59.04',\n",
       "  '£0.00',\n",
       "  'In stock (3 available)',\n",
       "  '0'],\n",
       " ['Default',\n",
       "  '4ec53ff7e2263f32',\n",
       "  '£26.13',\n",
       "  '£26.13',\n",
       "  '£0.00',\n",
       "  'In stock (3 available)',\n",
       "  '0'],\n",
       " ['Nonfiction',\n",
       "  '1de75f05d57bfc10',\n",
       "  '£22.20',\n",
       "  '£22.20',\n",
       "  '£0.00',\n",
       "  'In stock (3 available)',\n",
       "  '0'],\n",
       " ['Nonfiction',\n",
       "  '1246e4ffeb5ac4ea',\n",
       "  '£45.11',\n",
       "  '£45.11',\n",
       "  '£0.00',\n",
       "  'In stock (3 available)',\n",
       "  '0'],\n",
       " ['Young Adult',\n",
       "  '0ce8075fab4a2b5b',\n",
       "  '£43.69',\n",
       "  '£43.69',\n",
       "  '£0.00',\n",
       "  'In stock (3 available)',\n",
       "  '0'],\n",
       " ['Default',\n",
       "  'd5e1a9bfe22bbf9f',\n",
       "  '£25.02',\n",
       "  '£25.02',\n",
       "  '£0.00',\n",
       "  'In stock (3 available)',\n",
       "  '0'],\n",
       " ['Humor',\n",
       "  '190fbebbf798c31a',\n",
       "  '£55.50',\n",
       "  '£55.50',\n",
       "  '£0.00',\n",
       "  'In stock (3 available)',\n",
       "  '0'],\n",
       " ['Young Adult',\n",
       "  '16e843e6b853cc2f',\n",
       "  '£53.04',\n",
       "  '£53.04',\n",
       "  '£0.00',\n",
       "  'In stock (3 available)',\n",
       "  '0'],\n",
       " ['Fiction',\n",
       "  'a0dd11f6abc421ec',\n",
       "  '£44.97',\n",
       "  '£44.97',\n",
       "  '£0.00',\n",
       "  'In stock (3 available)',\n",
       "  '0'],\n",
       " ['Nonfiction',\n",
       "  'd4a29356fc992879',\n",
       "  '£42.38',\n",
       "  '£42.38',\n",
       "  '£0.00',\n",
       "  'In stock (3 available)',\n",
       "  '0'],\n",
       " ['Default',\n",
       "  '034829ffdd0a0aea',\n",
       "  '£20.11',\n",
       "  '£20.11',\n",
       "  '£0.00',\n",
       "  'In stock (3 available)',\n",
       "  '0'],\n",
       " ['Nonfiction',\n",
       "  'a7c3f1010d64799a',\n",
       "  '£56.70',\n",
       "  '£56.70',\n",
       "  '£0.00',\n",
       "  'In stock (3 available)',\n",
       "  '0'],\n",
       " ['Fiction',\n",
       "  '6c4646d90b60a56c',\n",
       "  '£41.00',\n",
       "  '£41.00',\n",
       "  '£0.00',\n",
       "  'In stock (3 available)',\n",
       "  '0'],\n",
       " ['Nonfiction',\n",
       "  'd8292cd5f1aca291',\n",
       "  '£28.85',\n",
       "  '£28.85',\n",
       "  '£0.00',\n",
       "  'In stock (3 available)',\n",
       "  '0'],\n",
       " ['Christian Fiction',\n",
       "  '61569d12d4ae7161',\n",
       "  '£49.97',\n",
       "  '£49.97',\n",
       "  '£0.00',\n",
       "  'In stock (3 available)',\n",
       "  '0'],\n",
       " ['Womens Fiction',\n",
       "  '6b32b561dab8036c',\n",
       "  '£19.69',\n",
       "  '£19.69',\n",
       "  '£0.00',\n",
       "  'In stock (3 available)',\n",
       "  '0'],\n",
       " ['Nonfiction',\n",
       "  '8010c7c148057fd3',\n",
       "  '£28.88',\n",
       "  '£28.88',\n",
       "  '£0.00',\n",
       "  'In stock (3 available)',\n",
       "  '0'],\n",
       " ['Food and Drink',\n",
       "  '6c4d17a46cac8787',\n",
       "  '£33.14',\n",
       "  '£33.14',\n",
       "  '£0.00',\n",
       "  'In stock (3 available)',\n",
       "  '0'],\n",
       " ['History',\n",
       "  '1812b8f5641287e3',\n",
       "  '£43.70',\n",
       "  '£43.70',\n",
       "  '£0.00',\n",
       "  'In stock (3 available)',\n",
       "  '0'],\n",
       " ['Horror',\n",
       "  '557c03c284be1bf2',\n",
       "  '£54.89',\n",
       "  '£54.89',\n",
       "  '£0.00',\n",
       "  'In stock (3 available)',\n",
       "  '0'],\n",
       " ['Childrens',\n",
       "  'cc1ac978a6835ef6',\n",
       "  '£37.52',\n",
       "  '£37.52',\n",
       "  '£0.00',\n",
       "  'In stock (3 available)',\n",
       "  '0'],\n",
       " ['Humor',\n",
       "  '0cb4856be3694a57',\n",
       "  '£51.07',\n",
       "  '£51.07',\n",
       "  '£0.00',\n",
       "  'In stock (3 available)',\n",
       "  '0'],\n",
       " ['Fantasy',\n",
       "  'b003f8bb02f76dc5',\n",
       "  '£44.07',\n",
       "  '£44.07',\n",
       "  '£0.00',\n",
       "  'In stock (3 available)',\n",
       "  '0'],\n",
       " ['Childrens',\n",
       "  '621e2c310cec8d32',\n",
       "  '£10.79',\n",
       "  '£10.79',\n",
       "  '£0.00',\n",
       "  'In stock (3 available)',\n",
       "  '0'],\n",
       " ['Sequential Art',\n",
       "  '4f6985aca357ae09',\n",
       "  '£42.72',\n",
       "  '£42.72',\n",
       "  '£0.00',\n",
       "  'In stock (3 available)',\n",
       "  '0'],\n",
       " ['Nonfiction',\n",
       "  'c300cc9326592b65',\n",
       "  '£26.66',\n",
       "  '£26.66',\n",
       "  '£0.00',\n",
       "  'In stock (3 available)',\n",
       "  '0'],\n",
       " ['Default',\n",
       "  'd5c588b6f9c015e4',\n",
       "  '£37.60',\n",
       "  '£37.60',\n",
       "  '£0.00',\n",
       "  'In stock (3 available)',\n",
       "  '0'],\n",
       " ['Young Adult',\n",
       "  '984b3b6e7479b571',\n",
       "  '£42.21',\n",
       "  '£42.21',\n",
       "  '£0.00',\n",
       "  'In stock (3 available)',\n",
       "  '0'],\n",
       " ['Historical Fiction',\n",
       "  '41fc5dce044f16f5',\n",
       "  '£46.83',\n",
       "  '£46.83',\n",
       "  '£0.00',\n",
       "  'In stock (3 available)',\n",
       "  '0'],\n",
       " ['Sequential Art',\n",
       "  'd5f5a122a593b580',\n",
       "  '£45.17',\n",
       "  '£45.17',\n",
       "  '£0.00',\n",
       "  'In stock (3 available)',\n",
       "  '0'],\n",
       " ['Sports and Games',\n",
       "  'a9aa3ed5b316470b',\n",
       "  '£51.22',\n",
       "  '£51.22',\n",
       "  '£0.00',\n",
       "  'In stock (3 available)',\n",
       "  '0'],\n",
       " ['Add a comment',\n",
       "  '2ed3a794a70aa85f',\n",
       "  '£21.28',\n",
       "  '£21.28',\n",
       "  '£0.00',\n",
       "  'In stock (3 available)',\n",
       "  '0'],\n",
       " ['Adult Fiction',\n",
       "  'ed813a848580ba50',\n",
       "  '£15.36',\n",
       "  '£15.36',\n",
       "  '£0.00',\n",
       "  'In stock (3 available)',\n",
       "  '0'],\n",
       " ['Default',\n",
       "  '147019cae600694e',\n",
       "  '£38.62',\n",
       "  '£38.62',\n",
       "  '£0.00',\n",
       "  'In stock (3 available)',\n",
       "  '0'],\n",
       " ['Mystery',\n",
       "  '588ba85ff11a3263',\n",
       "  '£25.40',\n",
       "  '£25.40',\n",
       "  '£0.00',\n",
       "  'In stock (3 available)',\n",
       "  '0'],\n",
       " ['Fantasy',\n",
       "  'b843f52a986a2914',\n",
       "  '£43.87',\n",
       "  '£43.87',\n",
       "  '£0.00',\n",
       "  'In stock (3 available)',\n",
       "  '0'],\n",
       " ['Default',\n",
       "  '73f71f9556442117',\n",
       "  '£18.74',\n",
       "  '£18.74',\n",
       "  '£0.00',\n",
       "  'In stock (3 available)',\n",
       "  '0'],\n",
       " ['Science Fiction',\n",
       "  '36d5884d44484277',\n",
       "  '£54.86',\n",
       "  '£54.86',\n",
       "  '£0.00',\n",
       "  'In stock (3 available)',\n",
       "  '0'],\n",
       " ['Default',\n",
       "  'a7ec599c1a547746',\n",
       "  '£52.62',\n",
       "  '£52.62',\n",
       "  '£0.00',\n",
       "  'In stock (3 available)',\n",
       "  '0'],\n",
       " ['Science Fiction',\n",
       "  '98330e431e56a9ea',\n",
       "  '£51.48',\n",
       "  '£51.48',\n",
       "  '£0.00',\n",
       "  'In stock (3 available)',\n",
       "  '0'],\n",
       " ['Nonfiction',\n",
       "  '81372abc86f65c79',\n",
       "  '£15.28',\n",
       "  '£15.28',\n",
       "  '£0.00',\n",
       "  'In stock (3 available)',\n",
       "  '0'],\n",
       " ['Default',\n",
       "  '04d858cdeeee0da4',\n",
       "  '£39.24',\n",
       "  '£39.24',\n",
       "  '£0.00',\n",
       "  'In stock (3 available)',\n",
       "  '0'],\n",
       " ['Default',\n",
       "  'd234ddecef49ef4e',\n",
       "  '£17.81',\n",
       "  '£17.81',\n",
       "  '£0.00',\n",
       "  'In stock (3 available)',\n",
       "  '0'],\n",
       " ['Fantasy',\n",
       "  '468bd274ac084bb9',\n",
       "  '£56.02',\n",
       "  '£56.02',\n",
       "  '£0.00',\n",
       "  'In stock (3 available)',\n",
       "  '0'],\n",
       " ['Default',\n",
       "  '66937c669c4da072',\n",
       "  '£23.90',\n",
       "  '£23.90',\n",
       "  '£0.00',\n",
       "  'In stock (3 available)',\n",
       "  '0'],\n",
       " ['Fiction',\n",
       "  'c9782ad2a0ed9331',\n",
       "  '£49.13',\n",
       "  '£49.13',\n",
       "  '£0.00',\n",
       "  'In stock (3 available)',\n",
       "  '0'],\n",
       " ['Childrens',\n",
       "  '157f693d9e600ccc',\n",
       "  '£10.62',\n",
       "  '£10.62',\n",
       "  '£0.00',\n",
       "  'In stock (3 available)',\n",
       "  '0'],\n",
       " ['Add a comment',\n",
       "  'dbe33cf29ef1623d',\n",
       "  '£36.17',\n",
       "  '£36.17',\n",
       "  '£0.00',\n",
       "  'In stock (3 available)',\n",
       "  '0'],\n",
       " ['Psychology',\n",
       "  '396385e3de5d18c3',\n",
       "  '£59.95',\n",
       "  '£59.95',\n",
       "  '£0.00',\n",
       "  'In stock (3 available)',\n",
       "  '0'],\n",
       " ['Young Adult',\n",
       "  '7e9579921e5407cb',\n",
       "  '£26.09',\n",
       "  '£26.09',\n",
       "  '£0.00',\n",
       "  'In stock (3 available)',\n",
       "  '0'],\n",
       " ['Parenting',\n",
       "  'ef49db2aaa9bb547',\n",
       "  '£37.35',\n",
       "  '£37.35',\n",
       "  '£0.00',\n",
       "  'In stock (3 available)',\n",
       "  '0'],\n",
       " ['Mystery',\n",
       "  'b461cf238506c5b8',\n",
       "  '£24.72',\n",
       "  '£24.72',\n",
       "  '£0.00',\n",
       "  'In stock (3 available)',\n",
       "  '0'],\n",
       " ['Default',\n",
       "  'bbfc4a3b7b6c94a0',\n",
       "  '£35.28',\n",
       "  '£35.28',\n",
       "  '£0.00',\n",
       "  'In stock (3 available)',\n",
       "  '0'],\n",
       " ['Nonfiction',\n",
       "  'fd2337c1b73b686e',\n",
       "  '£51.32',\n",
       "  '£51.32',\n",
       "  '£0.00',\n",
       "  'In stock (3 available)',\n",
       "  '0'],\n",
       " ['Young Adult',\n",
       "  '8e0bc2fe4e7d35b5',\n",
       "  '£21.12',\n",
       "  '£21.12',\n",
       "  '£0.00',\n",
       "  'In stock (3 available)',\n",
       "  '0'],\n",
       " ['Nonfiction',\n",
       "  'e256de8aa0c2115f',\n",
       "  '£27.35',\n",
       "  '£27.35',\n",
       "  '£0.00',\n",
       "  'In stock (3 available)',\n",
       "  '0'],\n",
       " ['Nonfiction',\n",
       "  '0bbc48294707ba96',\n",
       "  '£21.74',\n",
       "  '£21.74',\n",
       "  '£0.00',\n",
       "  'In stock (3 available)',\n",
       "  '0'],\n",
       " ['Nonfiction',\n",
       "  '860318b8e244f39c',\n",
       "  '£40.87',\n",
       "  '£40.87',\n",
       "  '£0.00',\n",
       "  'In stock (3 available)',\n",
       "  '0'],\n",
       " ['Sequential Art',\n",
       "  '15f415d436888b2d',\n",
       "  '£49.31',\n",
       "  '£49.31',\n",
       "  '£0.00',\n",
       "  'In stock (3 available)',\n",
       "  '0'],\n",
       " ['Fiction',\n",
       "  'd3f9c4539c0caa64',\n",
       "  '£22.11',\n",
       "  '£22.11',\n",
       "  '£0.00',\n",
       "  'In stock (3 available)',\n",
       "  '0'],\n",
       " ['Historical Fiction',\n",
       "  '155e42df837ee5ff',\n",
       "  '£20.79',\n",
       "  '£20.79',\n",
       "  '£0.00',\n",
       "  'In stock (3 available)',\n",
       "  '0'],\n",
       " ['Romance',\n",
       "  '67dea6c75d6a1075',\n",
       "  '£27.41',\n",
       "  '£27.41',\n",
       "  '£0.00',\n",
       "  'In stock (3 available)',\n",
       "  '0'],\n",
       " ['Classics',\n",
       "  '3fb69f34e178d494',\n",
       "  '£38.35',\n",
       "  '£38.35',\n",
       "  '£0.00',\n",
       "  'In stock (3 available)',\n",
       "  '0'],\n",
       " ['Default',\n",
       "  '5439bae708bca198',\n",
       "  '£21.55',\n",
       "  '£21.55',\n",
       "  '£0.00',\n",
       "  'In stock (3 available)',\n",
       "  '0'],\n",
       " ['Sequential Art',\n",
       "  '1d89a2aa9f6ce50f',\n",
       "  '£38.02',\n",
       "  '£38.02',\n",
       "  '£0.00',\n",
       "  'In stock (3 available)',\n",
       "  '0'],\n",
       " ['Fantasy',\n",
       "  '5d22e2a46604b6e7',\n",
       "  '£22.06',\n",
       "  '£22.06',\n",
       "  '£0.00',\n",
       "  'In stock (3 available)',\n",
       "  '0'],\n",
       " ['Childrens',\n",
       "  'ef9c4f2465513956',\n",
       "  '£10.66',\n",
       "  '£10.66',\n",
       "  '£0.00',\n",
       "  'In stock (3 available)',\n",
       "  '0'],\n",
       " ['Nonfiction',\n",
       "  'da0349a87c8caa2f',\n",
       "  '£56.58',\n",
       "  '£56.58',\n",
       "  '£0.00',\n",
       "  'In stock (3 available)',\n",
       "  '0'],\n",
       " ['Young Adult',\n",
       "  '7bf87402413c27ff',\n",
       "  '£36.83',\n",
       "  '£36.83',\n",
       "  '£0.00',\n",
       "  'In stock (3 available)',\n",
       "  '0'],\n",
       " ['Classics',\n",
       "  'cfe350b20d23b02b',\n",
       "  '£35.01',\n",
       "  '£35.01',\n",
       "  '£0.00',\n",
       "  'In stock (3 available)',\n",
       "  '0'],\n",
       " ['Nonfiction',\n",
       "  'bcee4f289ff6699c',\n",
       "  '£30.48',\n",
       "  '£30.48',\n",
       "  '£0.00',\n",
       "  'In stock (3 available)',\n",
       "  '0'],\n",
       " ['Default',\n",
       "  '5dbd6ec4e154ad2f',\n",
       "  '£14.08',\n",
       "  '£14.08',\n",
       "  '£0.00',\n",
       "  'In stock (3 available)',\n",
       "  '0'],\n",
       " ['Fantasy',\n",
       "  '87beabf664115d79',\n",
       "  '£31.22',\n",
       "  '£31.22',\n",
       "  '£0.00',\n",
       "  'In stock (3 available)',\n",
       "  '0'],\n",
       " ['Autobiography',\n",
       "  'c9770bb1d5a492a0',\n",
       "  '£54.29',\n",
       "  '£54.29',\n",
       "  '£0.00',\n",
       "  'In stock (3 available)',\n",
       "  '0'],\n",
       " ['Psychology',\n",
       "  'f5873c8fc7760000',\n",
       "  '£31.04',\n",
       "  '£31.04',\n",
       "  '£0.00',\n",
       "  'In stock (3 available)',\n",
       "  '0'],\n",
       " ['Add a comment',\n",
       "  '165affa7adb5eded',\n",
       "  '£50.96',\n",
       "  '£50.96',\n",
       "  '£0.00',\n",
       "  'In stock (3 available)',\n",
       "  '0'],\n",
       " ['Nonfiction',\n",
       "  'd2185b65af52d68c',\n",
       "  '£11.89',\n",
       "  '£11.89',\n",
       "  '£0.00',\n",
       "  'In stock (2 available)',\n",
       "  '0'],\n",
       " ['Add a comment',\n",
       "  '4130678275eb7c8c',\n",
       "  '£31.38',\n",
       "  '£31.38',\n",
       "  '£0.00',\n",
       "  'In stock (2 available)',\n",
       "  '0'],\n",
       " ['Sequential Art',\n",
       "  '276dc716b1da8899',\n",
       "  '£54.81',\n",
       "  '£54.81',\n",
       "  '£0.00',\n",
       "  'In stock (2 available)',\n",
       "  '0'],\n",
       " ['Fiction',\n",
       "  'f3c76b53b239f511',\n",
       "  '£16.78',\n",
       "  '£16.78',\n",
       "  '£0.00',\n",
       "  'In stock (2 available)',\n",
       "  '0'],\n",
       " ['Sports and Games',\n",
       "  'ce42e3de94226b2b',\n",
       "  '£24.42',\n",
       "  '£24.42',\n",
       "  '£0.00',\n",
       "  'In stock (2 available)',\n",
       "  '0'],\n",
       " ['Sequential Art',\n",
       "  '9189fd009df41d0e',\n",
       "  '£11.75',\n",
       "  '£11.75',\n",
       "  '£0.00',\n",
       "  'In stock (2 available)',\n",
       "  '0'],\n",
       " ['Philosophy',\n",
       "  'b0e479be03911916',\n",
       "  '£20.02',\n",
       "  '£20.02',\n",
       "  '£0.00',\n",
       "  'In stock (2 available)',\n",
       "  '0'],\n",
       " ['Young Adult',\n",
       "  '6fa3ea52c8e31e06',\n",
       "  '£12.86',\n",
       "  '£12.86',\n",
       "  '£0.00',\n",
       "  'In stock (2 available)',\n",
       "  '0'],\n",
       " ['Music',\n",
       "  '637e5a45062aa548',\n",
       "  '£31.58',\n",
       "  '£31.58',\n",
       "  '£0.00',\n",
       "  'In stock (2 available)',\n",
       "  '0'],\n",
       " ['Nonfiction',\n",
       "  'fb495f9f9015a772',\n",
       "  '£34.00',\n",
       "  '£34.00',\n",
       "  '£0.00',\n",
       "  'In stock (2 available)',\n",
       "  '0'],\n",
       " ['Nonfiction',\n",
       "  'b6d3f4f4ee1f6069',\n",
       "  '£57.42',\n",
       "  '£57.42',\n",
       "  '£0.00',\n",
       "  'In stock (2 available)',\n",
       "  '0'],\n",
       " ['Young Adult',\n",
       "  '97b8f130d32e9f4e',\n",
       "  '£53.47',\n",
       "  '£53.47',\n",
       "  '£0.00',\n",
       "  'In stock (2 available)',\n",
       "  '0'],\n",
       " ['Sequential Art',\n",
       "  'c0db71f6bb14db11',\n",
       "  '£11.64',\n",
       "  '£11.64',\n",
       "  '£0.00',\n",
       "  'In stock (2 available)',\n",
       "  '0'],\n",
       " ['Childrens',\n",
       "  'd7b463918d3b8c39',\n",
       "  '£52.88',\n",
       "  '£52.88',\n",
       "  '£0.00',\n",
       "  'In stock (2 available)',\n",
       "  '0'],\n",
       " ['Sequential Art',\n",
       "  '09d26b5f819c6a36',\n",
       "  '£18.51',\n",
       "  '£18.51',\n",
       "  '£0.00',\n",
       "  'In stock (1 available)',\n",
       "  '0'],\n",
       " ['Historical Fiction',\n",
       "  '8ceb5c6aed2c5f8b',\n",
       "  '£41.32',\n",
       "  '£41.32',\n",
       "  '£0.00',\n",
       "  'In stock (1 available)',\n",
       "  '0'],\n",
       " ['Romance',\n",
       "  'def389ddfda6991b',\n",
       "  '£39.77',\n",
       "  '£39.77',\n",
       "  '£0.00',\n",
       "  'In stock (1 available)',\n",
       "  '0'],\n",
       " ['Fiction',\n",
       "  'c5f91eb481427dc5',\n",
       "  '£51.96',\n",
       "  '£51.96',\n",
       "  '£0.00',\n",
       "  'In stock (1 available)',\n",
       "  '0'],\n",
       " ['Art',\n",
       "  '66a4e422b212726a',\n",
       "  '£39.51',\n",
       "  '£39.51',\n",
       "  '£0.00',\n",
       "  'In stock (1 available)',\n",
       "  '0'],\n",
       " ['Paranormal',\n",
       "  'e7e87087b1a44711',\n",
       "  '£15.40',\n",
       "  '£15.40',\n",
       "  '£0.00',\n",
       "  'In stock (1 available)',\n",
       "  '0'],\n",
       " ['Fantasy',\n",
       "  'dab5e75d1339706a',\n",
       "  '£53.82',\n",
       "  '£53.82',\n",
       "  '£0.00',\n",
       "  'In stock (1 available)',\n",
       "  '0'],\n",
       " ['Poetry',\n",
       "  'e63c3f25338baf9a',\n",
       "  '£30.95',\n",
       "  '£30.95',\n",
       "  '£0.00',\n",
       "  'In stock (1 available)',\n",
       "  '0'],\n",
       " ['Nonfiction',\n",
       "  '0268f149d014b389',\n",
       "  '£57.82',\n",
       "  '£57.82',\n",
       "  '£0.00',\n",
       "  'In stock (1 available)',\n",
       "  '0'],\n",
       " ['Science Fiction',\n",
       "  '460f97a346b44bac',\n",
       "  '£44.18',\n",
       "  '£44.18',\n",
       "  '£0.00',\n",
       "  'In stock (1 available)',\n",
       "  '0'],\n",
       " ['Romance',\n",
       "  'd6d98d3508c30f57',\n",
       "  '£48.71',\n",
       "  '£48.71',\n",
       "  '£0.00',\n",
       "  'In stock (1 available)',\n",
       "  '0'],\n",
       " ['Default',\n",
       "  '9c96cd1329fbd82d',\n",
       "  '£19.69',\n",
       "  '£19.69',\n",
       "  '£0.00',\n",
       "  'In stock (1 available)',\n",
       "  '0'],\n",
       " ['Sequential Art',\n",
       "  'dac9d1e654fac737',\n",
       "  '£36.52',\n",
       "  '£36.52',\n",
       "  '£0.00',\n",
       "  'In stock (1 available)',\n",
       "  '0'],\n",
       " ['Nonfiction',\n",
       "  '6514add13c82b115',\n",
       "  '£41.56',\n",
       "  '£41.56',\n",
       "  '£0.00',\n",
       "  'In stock (1 available)',\n",
       "  '0'],\n",
       " ['Classics',\n",
       "  '32d035df92ab9080',\n",
       "  '£43.19',\n",
       "  '£43.19',\n",
       "  '£0.00',\n",
       "  'In stock (1 available)',\n",
       "  '0'],\n",
       " ['Fiction',\n",
       "  'b78deb463531d078',\n",
       "  '£12.34',\n",
       "  '£12.34',\n",
       "  '£0.00',\n",
       "  'In stock (1 available)',\n",
       "  '0'],\n",
       " ['Fantasy',\n",
       "  '9e9932ae1a7d0943',\n",
       "  '£36.25',\n",
       "  '£36.25',\n",
       "  '£0.00',\n",
       "  'In stock (1 available)',\n",
       "  '0'],\n",
       " ['Science',\n",
       "  '6f2c0a9adbb2bca9',\n",
       "  '£29.45',\n",
       "  '£29.45',\n",
       "  '£0.00',\n",
       "  'In stock (1 available)',\n",
       "  '0'],\n",
       " ['Historical Fiction',\n",
       "  '38f776ab9118aed7',\n",
       "  '£34.56',\n",
       "  '£34.56',\n",
       "  '£0.00',\n",
       "  'In stock (1 available)',\n",
       "  '0'],\n",
       " ['Sequential Art',\n",
       "  '5faefdc861684eb1',\n",
       "  '£54.12',\n",
       "  '£54.12',\n",
       "  '£0.00',\n",
       "  'In stock (1 available)',\n",
       "  '0'],\n",
       " ['Add a comment',\n",
       "  '0ec9d2b018fb10d8',\n",
       "  '£33.78',\n",
       "  '£33.78',\n",
       "  '£0.00',\n",
       "  'In stock (1 available)',\n",
       "  '0'],\n",
       " ['Add a comment',\n",
       "  'f0512adadffd2480',\n",
       "  '£29.64',\n",
       "  '£29.64',\n",
       "  '£0.00',\n",
       "  'In stock (1 available)',\n",
       "  '0'],\n",
       " ['Mystery',\n",
       "  'b0913e67d38d5ed5',\n",
       "  '£57.70',\n",
       "  '£57.70',\n",
       "  '£0.00',\n",
       "  'In stock (1 available)',\n",
       "  '0'],\n",
       " ['Philosophy',\n",
       "  '5c10b64db3e4f228',\n",
       "  '£36.34',\n",
       "  '£36.34',\n",
       "  '£0.00',\n",
       "  'In stock (1 available)',\n",
       "  '0'],\n",
       " ['Default',\n",
       "  'c8614adb1a90b027',\n",
       "  '£50.59',\n",
       "  '£50.59',\n",
       "  '£0.00',\n",
       "  'In stock (1 available)',\n",
       "  '0'],\n",
       " ['Fantasy',\n",
       "  'c40b70e0f6d80189',\n",
       "  '£29.38',\n",
       "  '£29.38',\n",
       "  '£0.00',\n",
       "  'In stock (1 available)',\n",
       "  '0'],\n",
       " ['Classics',\n",
       "  '1aeca7d078d57deb',\n",
       "  '£45.42',\n",
       "  '£45.42',\n",
       "  '£0.00',\n",
       "  'In stock (1 available)',\n",
       "  '0'],\n",
       " ['Add a comment',\n",
       "  '04e43893e32f9d29',\n",
       "  '£54.43',\n",
       "  '£54.43',\n",
       "  '£0.00',\n",
       "  'In stock (1 available)',\n",
       "  '0'],\n",
       " ['Science Fiction',\n",
       "  '16c71736dae78764',\n",
       "  '£36.26',\n",
       "  '£36.26',\n",
       "  '£0.00',\n",
       "  'In stock (1 available)',\n",
       "  '0'],\n",
       " ['Add a comment',\n",
       "  '86d8bd7afa5b51b3',\n",
       "  '£16.16',\n",
       "  '£16.16',\n",
       "  '£0.00',\n",
       "  'In stock (1 available)',\n",
       "  '0'],\n",
       " ['New Adult',\n",
       "  '6e473eff459e809f',\n",
       "  '£36.29',\n",
       "  '£36.29',\n",
       "  '£0.00',\n",
       "  'In stock (1 available)',\n",
       "  '0'],\n",
       " ['Young Adult',\n",
       "  'fff8a057a40c4a60',\n",
       "  '£27.89',\n",
       "  '£27.89',\n",
       "  '£0.00',\n",
       "  'In stock (1 available)',\n",
       "  '0'],\n",
       " ['Mystery',\n",
       "  '4280ac3eab57aa5d',\n",
       "  '£12.29',\n",
       "  '£12.29',\n",
       "  '£0.00',\n",
       "  'In stock (1 available)',\n",
       "  '0'],\n",
       " ['Mystery',\n",
       "  'ee61197edb882599',\n",
       "  '£15.85',\n",
       "  '£15.85',\n",
       "  '£0.00',\n",
       "  'In stock (1 available)',\n",
       "  '0'],\n",
       " ['Nonfiction',\n",
       "  '09659d1639a1f978',\n",
       "  '£14.40',\n",
       "  '£14.40',\n",
       "  '£0.00',\n",
       "  'In stock (1 available)',\n",
       "  '0'],\n",
       " ['Womens Fiction',\n",
       "  '29fc016c459aeb14',\n",
       "  '£19.18',\n",
       "  '£19.18',\n",
       "  '£0.00',\n",
       "  'In stock (1 available)',\n",
       "  '0'],\n",
       " ['Sequential Art',\n",
       "  '3301af038a720587',\n",
       "  '£10.64',\n",
       "  '£10.64',\n",
       "  '£0.00',\n",
       "  'In stock (1 available)',\n",
       "  '0'],\n",
       " ['Add a comment',\n",
       "  '18b4545a5ed15581',\n",
       "  '£14.76',\n",
       "  '£14.76',\n",
       "  '£0.00',\n",
       "  'In stock (1 available)',\n",
       "  '0'],\n",
       " ['Religion',\n",
       "  'f3a0b8c835129558',\n",
       "  '£57.49',\n",
       "  '£57.49',\n",
       "  '£0.00',\n",
       "  'In stock (1 available)',\n",
       "  '0'],\n",
       " ['Fiction',\n",
       "  'dfb0849016bc122c',\n",
       "  '£30.66',\n",
       "  '£30.66',\n",
       "  '£0.00',\n",
       "  'In stock (1 available)',\n",
       "  '0'],\n",
       " ['Young Adult',\n",
       "  '5bc1fbccfbf2355c',\n",
       "  '£40.83',\n",
       "  '£40.83',\n",
       "  '£0.00',\n",
       "  'In stock (1 available)',\n",
       "  '0'],\n",
       " ['Default',\n",
       "  'a7eef9d6795422c1',\n",
       "  '£18.88',\n",
       "  '£18.88',\n",
       "  '£0.00',\n",
       "  'In stock (1 available)',\n",
       "  '0'],\n",
       " ['Historical Fiction',\n",
       "  'e25164e5b3fe208b',\n",
       "  '£25.83',\n",
       "  '£25.83',\n",
       "  '£0.00',\n",
       "  'In stock (1 available)',\n",
       "  '0'],\n",
       " ['Sequential Art',\n",
       "  '2ac720f76384c57e',\n",
       "  '£42.12',\n",
       "  '£42.12',\n",
       "  '£0.00',\n",
       "  'In stock (1 available)',\n",
       "  '0'],\n",
       " ['Fantasy',\n",
       "  '3a9a7c5895e82646',\n",
       "  '£13.33',\n",
       "  '£13.33',\n",
       "  '£0.00',\n",
       "  'In stock (1 available)',\n",
       "  '0'],\n",
       " ['Default',\n",
       "  '9ed7090d8fa690b0',\n",
       "  '£42.40',\n",
       "  '£42.40',\n",
       "  '£0.00',\n",
       "  'In stock (1 available)',\n",
       "  '0'],\n",
       " ['New Adult',\n",
       "  'c068c013d6921fea',\n",
       "  '£58.35',\n",
       "  '£58.35',\n",
       "  '£0.00',\n",
       "  'In stock (1 available)',\n",
       "  '0'],\n",
       " ['Fantasy',\n",
       "  '229cd6564bf0dce4',\n",
       "  '£21.72',\n",
       "  '£21.72',\n",
       "  '£0.00',\n",
       "  'In stock (1 available)',\n",
       "  '0'],\n",
       " ['Sports and Games',\n",
       "  '132adf7335bb384a',\n",
       "  '£44.91',\n",
       "  '£44.91',\n",
       "  '£0.00',\n",
       "  'In stock (1 available)',\n",
       "  '0'],\n",
       " ['Classics',\n",
       "  '35e44170702139a4',\n",
       "  '£37.46',\n",
       "  '£37.46',\n",
       "  '£0.00',\n",
       "  'In stock (1 available)',\n",
       "  '0'],\n",
       " ['Sequential Art',\n",
       "  '4f64568dfefa3ce7',\n",
       "  '£28.48',\n",
       "  '£28.48',\n",
       "  '£0.00',\n",
       "  'In stock (1 available)',\n",
       "  '0'],\n",
       " ['Romance',\n",
       "  '9efb397067eb7e8a',\n",
       "  '£28.34',\n",
       "  '£28.34',\n",
       "  '£0.00',\n",
       "  'In stock (1 available)',\n",
       "  '0'],\n",
       " ['Sequential Art',\n",
       "  '3cdca3b4a93980f5',\n",
       "  '£46.96',\n",
       "  '£46.96',\n",
       "  '£0.00',\n",
       "  'In stock (1 available)',\n",
       "  '0'],\n",
       " ['Default',\n",
       "  '849db7ab7f4a640c',\n",
       "  '£24.96',\n",
       "  '£24.96',\n",
       "  '£0.00',\n",
       "  'In stock (1 available)',\n",
       "  '0'],\n",
       " ['Sequential Art',\n",
       "  'bcbcbcf0f6ed196f',\n",
       "  '£21.71',\n",
       "  '£21.71',\n",
       "  '£0.00',\n",
       "  'In stock (1 available)',\n",
       "  '0'],\n",
       " ['Sequential Art',\n",
       "  '326825e02a198cf6',\n",
       "  '£29.87',\n",
       "  '£29.87',\n",
       "  '£0.00',\n",
       "  'In stock (1 available)',\n",
       "  '0'],\n",
       " ['Fantasy',\n",
       "  '8932e5c12f12ffed',\n",
       "  '£28.99',\n",
       "  '£28.99',\n",
       "  '£0.00',\n",
       "  'In stock (1 available)',\n",
       "  '0'],\n",
       " ['Fantasy',\n",
       "  '7ea31f38675b91c1',\n",
       "  '£52.94',\n",
       "  '£52.94',\n",
       "  '£0.00',\n",
       "  'In stock (1 available)',\n",
       "  '0'],\n",
       " ['Default',\n",
       "  '9ff997ab15713e53',\n",
       "  '£32.36',\n",
       "  '£32.36',\n",
       "  '£0.00',\n",
       "  'In stock (1 available)',\n",
       "  '0'],\n",
       " ['Music',\n",
       "  'a1985630339f4b3d',\n",
       "  '£55.66',\n",
       "  '£55.66',\n",
       "  '£0.00',\n",
       "  'In stock (1 available)',\n",
       "  '0'],\n",
       " ['New Adult',\n",
       "  'b6f1cfadc4dd79d4',\n",
       "  '£39.45',\n",
       "  '£39.45',\n",
       "  '£0.00',\n",
       "  'In stock (1 available)',\n",
       "  '0'],\n",
       " ['Classics',\n",
       "  '39592d9d72e717c4',\n",
       "  '£47.11',\n",
       "  '£47.11',\n",
       "  '£0.00',\n",
       "  'In stock (1 available)',\n",
       "  '0'],\n",
       " ['Fantasy',\n",
       "  '63e20a0f98218a87',\n",
       "  '£58.75',\n",
       "  '£58.75',\n",
       "  '£0.00',\n",
       "  'In stock (1 available)',\n",
       "  '0'],\n",
       " ['Romance',\n",
       "  'fd78f89878479f56',\n",
       "  '£38.92',\n",
       "  '£38.92',\n",
       "  '£0.00',\n",
       "  'In stock (1 available)',\n",
       "  '0'],\n",
       " ['Sequential Art',\n",
       "  '35a60467893aa168',\n",
       "  '£39.39',\n",
       "  '£39.39',\n",
       "  '£0.00',\n",
       "  'In stock (1 available)',\n",
       "  '0'],\n",
       " ['Philosophy',\n",
       "  '4f19709e47883df5',\n",
       "  '£25.89',\n",
       "  '£25.89',\n",
       "  '£0.00',\n",
       "  'In stock (1 available)',\n",
       "  '0'],\n",
       " ['Childrens',\n",
       "  '1053fb7ee17a1f33',\n",
       "  '£28.34',\n",
       "  '£28.34',\n",
       "  '£0.00',\n",
       "  'In stock (1 available)',\n",
       "  '0'],\n",
       " ['Historical Fiction',\n",
       "  'd510567580c8be52',\n",
       "  '£27.70',\n",
       "  '£27.70',\n",
       "  '£0.00',\n",
       "  'In stock (1 available)',\n",
       "  '0'],\n",
       " ['Add a comment',\n",
       "  '71a6471bbdac21d9',\n",
       "  '£24.89',\n",
       "  '£24.89',\n",
       "  '£0.00',\n",
       "  'In stock (1 available)',\n",
       "  '0'],\n",
       " ['Romance',\n",
       "  '6e712ea24e77bd96',\n",
       "  '£58.99',\n",
       "  '£58.99',\n",
       "  '£0.00',\n",
       "  'In stock (1 available)',\n",
       "  '0'],\n",
       " ['Fiction',\n",
       "  '06f6a57a6d532844',\n",
       "  '£57.20',\n",
       "  '£57.20',\n",
       "  '£0.00',\n",
       "  'In stock (1 available)',\n",
       "  '0'],\n",
       " ['Default',\n",
       "  '8d390a1fc3133d06',\n",
       "  '£38.43',\n",
       "  '£38.43',\n",
       "  '£0.00',\n",
       "  'In stock (1 available)',\n",
       "  '0'],\n",
       " ['Romance',\n",
       "  'f28f7299d38c0932',\n",
       "  '£34.74',\n",
       "  '£34.74',\n",
       "  '£0.00',\n",
       "  'In stock (1 available)',\n",
       "  '0'],\n",
       " ['Sports and Games',\n",
       "  '3455b45888fb5053',\n",
       "  '£40.44',\n",
       "  '£40.44',\n",
       "  '£0.00',\n",
       "  'In stock (1 available)',\n",
       "  '0'],\n",
       " ['Sequential Art',\n",
       "  '6fe02600f322a0a9',\n",
       "  '£45.24',\n",
       "  '£45.24',\n",
       "  '£0.00',\n",
       "  'In stock (1 available)',\n",
       "  '0'],\n",
       " ['Science Fiction',\n",
       "  '6717a70913b3db79',\n",
       "  '£34.96',\n",
       "  '£34.96',\n",
       "  '£0.00',\n",
       "  'In stock (1 available)',\n",
       "  '0'],\n",
       " ['Sequential Art',\n",
       "  'eb0fe24bbc845ecc',\n",
       "  '£56.76',\n",
       "  '£56.76',\n",
       "  '£0.00',\n",
       "  'In stock (1 available)',\n",
       "  '0'],\n",
       " ['Sequential Art',\n",
       "  '72e6fbf4f6382557',\n",
       "  '£40.28',\n",
       "  '£40.28',\n",
       "  '£0.00',\n",
       "  'In stock (1 available)',\n",
       "  '0'],\n",
       " ['Default',\n",
       "  'a492f49a3e2b6a71',\n",
       "  '£38.00',\n",
       "  '£38.00',\n",
       "  '£0.00',\n",
       "  'In stock (1 available)',\n",
       "  '0'],\n",
       " ['Music',\n",
       "  'e564c3f1a93ccf2e',\n",
       "  '£28.80',\n",
       "  '£28.80',\n",
       "  '£0.00',\n",
       "  'In stock (1 available)',\n",
       "  '0'],\n",
       " ['Romance',\n",
       "  '6390772a3094939d',\n",
       "  '£39.24',\n",
       "  '£39.24',\n",
       "  '£0.00',\n",
       "  'In stock (1 available)',\n",
       "  '0'],\n",
       " ['Classics',\n",
       "  '2e69730561ed70ad',\n",
       "  '£32.93',\n",
       "  '£32.93',\n",
       "  '£0.00',\n",
       "  'In stock (1 available)',\n",
       "  '0'],\n",
       " ['Nonfiction',\n",
       "  'df56868afd166557',\n",
       "  '£51.32',\n",
       "  '£51.32',\n",
       "  '£0.00',\n",
       "  'In stock (1 available)',\n",
       "  '0'],\n",
       " ['Romance',\n",
       "  '0072b94dfa30608e',\n",
       "  '£47.09',\n",
       "  '£47.09',\n",
       "  '£0.00',\n",
       "  'In stock (1 available)',\n",
       "  '0'],\n",
       " ['Religion',\n",
       "  'a812f6969ddf3e39',\n",
       "  '£28.42',\n",
       "  '£28.42',\n",
       "  '£0.00',\n",
       "  'In stock (1 available)',\n",
       "  '0'],\n",
       " ['Childrens',\n",
       "  '1774749f2cee292f',\n",
       "  '£22.85',\n",
       "  '£22.85',\n",
       "  '£0.00',\n",
       "  'In stock (1 available)',\n",
       "  '0'],\n",
       " ['Romance',\n",
       "  'a96404cb928895f3',\n",
       "  '£41.24',\n",
       "  '£41.24',\n",
       "  '£0.00',\n",
       "  'In stock (1 available)',\n",
       "  '0'],\n",
       " ['Fiction',\n",
       "  '230ac636ea0ea415',\n",
       "  '£39.07',\n",
       "  '£39.07',\n",
       "  '£0.00',\n",
       "  'In stock (1 available)',\n",
       "  '0'],\n",
       " ['Womens Fiction',\n",
       "  'a2b4b685dfa94733',\n",
       "  '£29.82',\n",
       "  '£29.82',\n",
       "  '£0.00',\n",
       "  'In stock (1 available)',\n",
       "  '0'],\n",
       " ['Romance',\n",
       "  'abc0b15f2c907ff0',\n",
       "  '£37.26',\n",
       "  '£37.26',\n",
       "  '£0.00',\n",
       "  'In stock (1 available)',\n",
       "  '0'],\n",
       " ['Mystery',\n",
       "  '95cdfd514098c38b',\n",
       "  '£20.30',\n",
       "  '£20.30',\n",
       "  '£0.00',\n",
       "  'In stock (1 available)',\n",
       "  '0'],\n",
       " ['Sequential Art',\n",
       "  '099fae4a0705d63b',\n",
       "  '£34.65',\n",
       "  '£34.65',\n",
       "  '£0.00',\n",
       "  'In stock (1 available)',\n",
       "  '0'],\n",
       " ['Philosophy',\n",
       "  '08672cd59171d5e4',\n",
       "  '£43.38',\n",
       "  '£43.38',\n",
       "  '£0.00',\n",
       "  'In stock (1 available)',\n",
       "  '0'],\n",
       " ['Classics',\n",
       "  'cd2a2a70dd5d176d',\n",
       "  '£55.53',\n",
       "  '£55.53',\n",
       "  '£0.00',\n",
       "  'In stock (1 available)',\n",
       "  '0'],\n",
       " ['Sequential Art',\n",
       "  'bfd5e1701c862ac3',\n",
       "  '£57.06',\n",
       "  '£57.06',\n",
       "  '£0.00',\n",
       "  'In stock (1 available)',\n",
       "  '0'],\n",
       " ['Historical Fiction',\n",
       "  '19fec36a1dfb4c16',\n",
       "  '£16.97',\n",
       "  '£16.97',\n",
       "  '£0.00',\n",
       "  'In stock (1 available)',\n",
       "  '0'],\n",
       " ['Mystery',\n",
       "  'f684a82adc49f011',\n",
       "  '£53.98',\n",
       "  '£53.98',\n",
       "  '£0.00',\n",
       "  'In stock (1 available)',\n",
       "  '0'],\n",
       " ['Travel',\n",
       "  '228ba5e7577e1d49',\n",
       "  '£26.08',\n",
       "  '£26.08',\n",
       "  '£0.00',\n",
       "  'In stock (1 available)',\n",
       "  '0']]"
      ]
     },
     "execution_count": 73,
     "metadata": {},
     "output_type": "execute_result"
    }
   ],
   "source": [
    "data"
   ]
  },
  {
   "cell_type": "code",
   "execution_count": 79,
   "id": "18fcce0a-61d8-4110-8ef2-7ec7e7c493f7",
   "metadata": {},
   "outputs": [],
   "source": [
    "df = pd.DataFrame(data, columns=[\"book category\", \"UPC\", \"price (exc tax)\", \"price (inc tax)\", \"tax\", \"quantity\", \"reviews\"])"
   ]
  },
  {
   "cell_type": "code",
   "execution_count": 81,
   "id": "a7e2b8ac-80a1-407d-801d-588e54848a8c",
   "metadata": {},
   "outputs": [],
   "source": [
    "df.to_csv(\"data.csv\", index = False)"
   ]
  },
  {
   "cell_type": "code",
   "execution_count": null,
   "id": "e97809da-5166-4172-bac2-cd5b4d59723a",
   "metadata": {},
   "outputs": [],
   "source": []
  }
 ],
 "metadata": {
  "kernelspec": {
   "display_name": "Python [conda env:base] *",
   "language": "python",
   "name": "conda-base-py"
  },
  "language_info": {
   "codemirror_mode": {
    "name": "ipython",
    "version": 3
   },
   "file_extension": ".py",
   "mimetype": "text/x-python",
   "name": "python",
   "nbconvert_exporter": "python",
   "pygments_lexer": "ipython3",
   "version": "3.12.7"
  }
 },
 "nbformat": 4,
 "nbformat_minor": 5
}
